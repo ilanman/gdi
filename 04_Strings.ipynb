{
 "cells": [
  {
   "cell_type": "markdown",
   "metadata": {},
   "source": [
    "Strings\n",
    "====\n",
    "\n",
    "The process of cleaning data for analysis often requires working with text, for example, to correct typos, convert to standard nomenclature and resolve ambiguous labels. In some statistical fields that deal with (say) processing electronic medical records, information science or recommendations based on user feedback, text must be processed before analysis - for example, by converting to a bag of words.\n",
    "\n",
    "\n",
    "1. [Text wrangling](#wrangle)\n",
    "2. [string modules](#modules)\n",
    "<ol>\n",
    "<li>os\n",
    "<li>collections\n",
    "</ol>\n",
    "3. [Regular Expressions](#regex)\n",
    "4. [Homework](#hmwk)"
   ]
  },
  {
   "cell_type": "markdown",
   "metadata": {},
   "source": [
    "Working with text<a id=\"wrangle\"></a>\n",
    "====\n",
    "One of Python’s strengths is the ease of working with text. Here are some examples."
   ]
  },
  {
   "cell_type": "code",
   "execution_count": 1,
   "metadata": {
    "collapsed": false
   },
   "outputs": [],
   "source": [
    "from __future__ import division\n",
    "import urllib"
   ]
  },
  {
   "cell_type": "code",
   "execution_count": 2,
   "metadata": {
    "collapsed": true
   },
   "outputs": [],
   "source": [
    "files=['negative.txt','positive.txt','obama_tweets.txt']\n",
    "path='http://www.unc.edu/~ncaren/haphazard/'\n",
    "for file_name in files:\n",
    "     urllib.urlretrieve(path+file_name,file_name)"
   ]
  },
  {
   "cell_type": "code",
   "execution_count": 5,
   "metadata": {
    "collapsed": false,
    "scrolled": true
   },
   "outputs": [
    {
     "data": {
      "text/plain": [
       "'Obama has called the GOP budget social Darwinism. Nice try, but they believe in social creationism.\\nIn his teen years, Obama has been known to use marijuana and cocaine.\\nIPA Congratulates President Ba'"
      ]
     },
     "execution_count": 5,
     "metadata": {},
     "output_type": "execute_result"
    }
   ],
   "source": [
    "tweets = open(\"obama_tweets.txt\").read()\n",
    "tweets[:200]"
   ]
  },
  {
   "cell_type": "markdown",
   "metadata": {},
   "source": [
    "## How can we get a handle on all this text?"
   ]
  },
  {
   "cell_type": "markdown",
   "metadata": {},
   "source": [
    "### String methods"
   ]
  },
  {
   "cell_type": "code",
   "execution_count": 6,
   "metadata": {
    "collapsed": false
   },
   "outputs": [
    {
     "data": {
      "text/plain": [
       "['Obama has called the GOP budget social Darwinism. Nice try, but they believe in social creationism.',\n",
       " 'In his teen years, Obama has been known to use marijuana and cocaine.',\n",
       " 'IPA Congratulates President Barack Obama for Leadership Regarding JOBS Act: WASHINGTON, Apr 05, 2012 (BUSINESS W... http://t.co/8le3DC8E',\n",
       " 'RT @Professor_Why: #WhatsRomneyHiding - his connection to supporters of Critical Race Theory.... Oh wait, that was Obama, not Romney...',\n",
       " 'RT @wardollarshome: Obama has approved more targeted assassinations than any modern US prez; READ & RT: http://t.co/bfC4gbBW',\n",
       " 'Video shows federal officials joking about cost of lavish conference http://t.co/2i4SmoPM #obama #crime #p2 #news #tcot #teaparty',\n",
       " 'one Chicago kid who says \"Obama is my man\" tells Jesse Watters that the gun violence in Chicago is like \"World War 17\"',\n",
       " 'RT @ohgirlphrase: American kid \"You\\'re from the UK? Ohhh cool, So do you have tea with the Queen?\". British kid: \"Do you like, go to Mcdonalds with Obama?',\n",
       " \"A valid explanation for why Obama won't let women on the golf course.   #WhatsRomneyHiding\",\n",
       " 'President Obama &lt; Lindsay Lohan RUMORS beginning cross shape lights on ST &lt; 1987 Analyst64 DC bicycle courier &lt; Video changes to scramble.']"
      ]
     },
     "execution_count": 6,
     "metadata": {},
     "output_type": "execute_result"
    }
   ],
   "source": [
    "tweets = tweets.split('\\n')\n",
    "tweets[:10]"
   ]
  },
  {
   "cell_type": "code",
   "execution_count": 7,
   "metadata": {
    "collapsed": false
   },
   "outputs": [
    {
     "name": "stdout",
     "output_type": "stream",
     "text": [
      "1365\n"
     ]
    },
    {
     "data": {
      "text/plain": [
       "['Obama has called the GOP budget social Darwinism. Nice try, but they believe in social creationism.',\n",
       " 'In his teen years, Obama has been known to use marijuana and cocaine.',\n",
       " 'IPA Congratulates President Barack Obama for Leadership Regarding JOBS Act: WASHINGTON, Apr 05, 2012 (BUSINESS W... http://t.co/8le3DC8E',\n",
       " 'RT @Professor_Why: #WhatsRomneyHiding - his connection to supporters of Critical Race Theory.... Oh wait, that was Obama, not Romney...',\n",
       " 'RT @wardollarshome: Obama has approved more targeted assassinations than any modern US prez; READ & RT: http://t.co/bfC4gbBW']"
      ]
     },
     "execution_count": 7,
     "metadata": {},
     "output_type": "execute_result"
    }
   ],
   "source": [
    "print len(tweets)\n",
    "tweets[:5]"
   ]
  },
  {
   "cell_type": "code",
   "execution_count": 10,
   "metadata": {
    "collapsed": false
   },
   "outputs": [
    {
     "data": {
      "text/plain": [
       "0.6783882783882784"
      ]
     },
     "execution_count": 10,
     "metadata": {},
     "output_type": "execute_result"
    }
   ],
   "source": [
    "# Average number of hashtags total?\n",
    "\n",
    "sum([tweet.count('#') for tweet in tweets])/len(tweets)"
   ]
  },
  {
   "cell_type": "code",
   "execution_count": 12,
   "metadata": {
    "collapsed": false
   },
   "outputs": [
    {
     "data": {
      "text/plain": [
       "469"
      ]
     },
     "execution_count": 12,
     "metadata": {},
     "output_type": "execute_result"
    }
   ],
   "source": [
    "# Number of tweets with at least 1 #?\n",
    "\n",
    "sum([tweet.find('#') != -1 for tweet in tweets])"
   ]
  },
  {
   "cell_type": "code",
   "execution_count": 13,
   "metadata": {
    "collapsed": false
   },
   "outputs": [
    {
     "name": "stdout",
     "output_type": "stream",
     "text": [
      "White House in damage control over Obama Supreme Court remarks: The White House was forced on the defensive on W... http://t.co/2Yy8Srct\n",
      "16\n",
      "-1\n"
     ]
    }
   ],
   "source": [
    "print tweets[300]\n",
    "print tweets[300].find('a')  # only first occurrence\n",
    "print tweets[300].find('!')  # -1 if doesn't occur"
   ]
  },
  {
   "cell_type": "code",
   "execution_count": 14,
   "metadata": {
    "collapsed": false
   },
   "outputs": [
    {
     "data": {
      "text/plain": [
       "'White House in damage control over Trump Supreme Court remarks: The White House was forced on the defensive on W... http://t.co/2Yy8Srct'"
      ]
     },
     "execution_count": 14,
     "metadata": {},
     "output_type": "execute_result"
    }
   ],
   "source": [
    "tweets[300].replace('Obama', \"Trump\")"
   ]
  },
  {
   "cell_type": "markdown",
   "metadata": {},
   "source": [
    "### Split, Join, Strip\n",
    "\n",
    "<ul>\n",
    "<li>`Split` a string according to some character. This creates a list of strings out of the original string.\n",
    "<li>`Join` a list of strings together according to some delimiter     \n",
    "<li>`Strip` leading and trailing blanks around a word  \n",
    "</ul>"
   ]
  },
  {
   "cell_type": "code",
   "execution_count": 15,
   "metadata": {
    "collapsed": false
   },
   "outputs": [
    {
     "name": "stdout",
     "output_type": "stream",
     "text": [
      "\n",
      "<ul>\n",
      "  <li>`Split` a string according to some character. This creates a list of strings out of the original string. \n",
      "  <li>`Join` a list of strings together according to some delimiter     \n",
      "  <li>`Strip` leading and trailing blanks around a word \n",
      "</ul>\n",
      "\n"
     ]
    }
   ],
   "source": [
    "objective = \"Basic String Manipulation\"\n",
    "s = \"\"\"\n",
    "<ul>\n",
    "  <li>`Split` a string according to some character. This creates a list of strings out of the original string. \n",
    "  <li>`Join` a list of strings together according to some delimiter     \n",
    "  <li>`Strip` leading and trailing blanks around a word \n",
    "</ul>\n",
    "\"\"\"\n",
    "print s     # where's the newline characters?"
   ]
  },
  {
   "cell_type": "code",
   "execution_count": 16,
   "metadata": {
    "collapsed": false
   },
   "outputs": [
    {
     "data": {
      "text/plain": [
       "['  <li>`Split` a string according to some character. This creates a list of strings out of the original string. ',\n",
       " '  <li>`Join` a list of strings together according to some delimiter     ',\n",
       " '  <li>`Strip` leading and trailing blanks around a word ']"
      ]
     },
     "execution_count": 16,
     "metadata": {},
     "output_type": "execute_result"
    }
   ],
   "source": [
    "split_list = [i for i in s.split('\\n')]\n",
    "split_list[2:5]"
   ]
  },
  {
   "cell_type": "code",
   "execution_count": 17,
   "metadata": {
    "collapsed": false
   },
   "outputs": [
    {
     "data": {
      "text/plain": [
       "['`Split` a string according to some character. This creates a list of strings out of the original string.',\n",
       " '`Join` a list of strings together according to some delimiter',\n",
       " '`Strip` leading and trailing blanks around a word']"
      ]
     },
     "execution_count": 17,
     "metadata": {},
     "output_type": "execute_result"
    }
   ],
   "source": [
    "strip_list = [i.strip('   <li>') for i in split_list[2:5]] # remove trailing space also\n",
    "strip_list"
   ]
  },
  {
   "cell_type": "code",
   "execution_count": 18,
   "metadata": {
    "collapsed": false
   },
   "outputs": [
    {
     "name": "stdout",
     "output_type": "stream",
     "text": [
      "[['`Split`', 'a', 'string', 'according', 'to', 'some', 'character.', 'This', 'creates', 'a', 'list', 'of', 'strings', 'out', 'of', 'the', 'original', 'string.'], ['`Join`', 'a', 'list', 'of', 'strings', 'together', 'according', 'to', 'some', 'delimiter'], ['`Strip`', 'leading', 'and', 'trailing', 'blanks', 'around', 'a', 'word']]\n"
     ]
    }
   ],
   "source": [
    "tokenize = [i.split(' ') for i in strip_list]\n",
    "print tokenize"
   ]
  },
  {
   "cell_type": "code",
   "execution_count": 19,
   "metadata": {
    "collapsed": false
   },
   "outputs": [
    {
     "data": {
      "text/plain": [
       "['Split', 'Join', 'Strip']"
      ]
     },
     "execution_count": 19,
     "metadata": {},
     "output_type": "execute_result"
    }
   ],
   "source": [
    "final_words = [i[0].strip('`') for i in tokenize]\n",
    "final_words"
   ]
  },
  {
   "cell_type": "code",
   "execution_count": 20,
   "metadata": {
    "collapsed": false
   },
   "outputs": [
    {
     "data": {
      "text/plain": [
       "'Split + Join + Strip = Basic String Manipulation'"
      ]
     },
     "execution_count": 20,
     "metadata": {},
     "output_type": "execute_result"
    }
   ],
   "source": [
    "\" + \".join(final_words) + \" = {}\".format(objective)"
   ]
  },
  {
   "cell_type": "markdown",
   "metadata": {},
   "source": [
    "+++++++++++++++++++++++++++++++++++++++++++++++++++++++++++++++++++++++++++++++++++++++++++++++++++++++++++++++++++++++"
   ]
  },
  {
   "cell_type": "markdown",
   "metadata": {},
   "source": [
    "## EXERCISE TIME!\n",
    "\n",
    "Format your `PATH` variable such that it looks like mine:\n",
    "\n",
    "```\n",
    "=> bin=> sh\n",
    "=> Users=> ilanman=> sparkapphelper=> scala-2.11.7=> bin=> bin\n",
    "=> Users=> ilanman=> sparkapphelper=> spark=> spark-1.6.0-bin-hadoop2.6=> bin\n",
    "=> Users=> ilanman=> sparkapphelper=> sbt=> sbt-0.13.11=> bin\n",
    "=> Library=> Java=> JavaVirtualMachines=> jdk1.8.0_60.jdk=> Contents=> Home=> bin\n",
    "=> usr=> local=> bin\n",
    "=> usr=> bin\n",
    "=> bin\n",
    "=> usr=> sbin\n",
    "=> sbin\n",
    "=> opt=> X11=> bin\n",
    "=> Library=> TeX=> texbin\n",
    "No such file or directory\n",
    "```\n",
    "\n",
    "Note that Jupyter can access your terminal by entering `!` before regular terminal commands, i.e. `!mkdir newfolder`<br>\n",
    "\n",
    "Here is my current `PATH`: !echo $PATH\n",
    "\n",
    "`/Users/ilanman/spark/bin:/Users/ilanman/sbt/bin:/Library/Java/JavaVirtualMachines/jdk1.8.0_60.jdk/Contents/Home/bin`<br>\n",
    "`/usr/local/bin:/usr/bin:/bin:/usr/sbin:/sbin:/opt/X11/bin:/Library/TeX/texbin`"
   ]
  },
  {
   "cell_type": "markdown",
   "metadata": {},
   "source": [
    "+++++++++++++++++++++++++++++++++++++++++++++++++++++++++++++++++++++++++++++++++++++++++++++++++++++++++++++++++++++++"
   ]
  },
  {
   "cell_type": "code",
   "execution_count": 21,
   "metadata": {
    "collapsed": false
   },
   "outputs": [
    {
     "name": "stdout",
     "output_type": "stream",
     "text": [
      "['/bin/sh: /Users/ilanman/spark/bin:/Users/ilanman/sbt/bin:/Library/Java/JavaVirtualMachines/jdk1.8.0_60.jdk/Contents/Home/bin:/usr/local/bin:/usr/bin:/bin:/usr/sbin:/sbin:/opt/X11/bin:/Library/TeX/texbin: No such file or directory']\n",
      "1\n",
      "/bin/sh: /Users/ilanman/spark/bin:/Users/ilanman/sbt/bin:/Library/Java/JavaVirtualMachines/jdk1.8.0_60.jdk/Contents/Home/bin:/usr/local/bin:/usr/bin:/bin:/usr/sbin:/sbin:/opt/X11/bin:/Library/TeX/texbin: No such file or directory\n",
      "['/bin/sh', ' /Users/ilanman/spark/bin', '/Users/ilanman/sbt/bin', '/Library/Java/JavaVirtualMachines/jdk1.8.0_60.jdk/Contents/Home/bin', '/usr/local/bin', '/usr/bin', '/bin', '/usr/sbin', '/sbin', '/opt/X11/bin', '/Library/TeX/texbin', ' No such file or directory']\n",
      "=> bin=> sh\n",
      "=> Users=> ilanman=> spark=> bin\n",
      "=> Users=> ilanman=> sbt=> bin\n",
      "=> Library=> Java=> JavaVirtualMachines=> jdk1.8.0_60.jdk=> Contents=> Home=> bin\n",
      "=> usr=> local=> bin\n",
      "=> usr=> bin\n",
      "=> bin\n",
      "=> usr=> sbin\n",
      "=> sbin\n",
      "=> opt=> X11=> bin\n",
      "=> Library=> TeX=> texbin\n",
      "No such file or directory\n"
     ]
    }
   ],
   "source": [
    "## SOLUTION\n",
    "\n",
    "paths = !`echo $PATH`\n",
    "print paths     # paths is a list of strings\n",
    "print len(paths)      # only 1 string\n",
    "# pull out string(s) from list of strings\n",
    "path_strings = paths[0]\n",
    "print path_strings\n",
    "all_paths = path_strings.split(':')  # split on : which is what separates paths\n",
    "print all_paths\n",
    "for path in all_paths:\n",
    "    print '=> '.join(path.strip().split('/'))"
   ]
  },
  {
   "cell_type": "markdown",
   "metadata": {},
   "source": [
    "## Assess positive or negative sentiment"
   ]
  },
  {
   "cell_type": "code",
   "execution_count": 22,
   "metadata": {
    "collapsed": false
   },
   "outputs": [
    {
     "data": {
      "text/plain": [
       "'abidance\\nabidance\\nabilities\\nability\\nable\\nabove\\nabove-average\\nabundant\\nabundance\\nacceptance\\nacceptable\\naccessible\\nacclaim\\nacclaimed\\naccolade\\naccolades\\naccommodative\\naccomplishment\\naccomplishments\\naccordance\\naccordantly\\naccurate\\naccurately\\nachievable\\nachievement\\nachievements\\nacknowledgement\\nactive\\nacumen\\nadaptable\\nadaptability\\nadaptive\\nadept\\nadeptly\\nadequate\\nadherence\\nadherent\\nadhesion\\nadmirable\\nadmirer\\nadmirable\\nadmirably\\nadmiration\\nadmiring\\nadmiringly\\nadmission\\nadmission\\nadorable\\nadored\\nadorer\\nadoring\\nadoringly\\nadroit\\nadroitly\\nadulatory\\nadvanced\\nadvantage\\nadvantage\\nadvantageous\\nadvantages\\nadvantages\\nadventure\\nadventure\\nadventuresome\\nadventurism\\nadventurous\\nadvice\\nadvice\\nadvisable\\nadvocacy\\naffable\\naffability\\naffably\\naffection\\naffection\\naffectionate\\naffinity\\naffirmation\\naffirmation\\naffirmative\\naffluent\\naffluence\\naffordable\\nafloat\\nagile\\nagilely\\nagility\\nagreeable\\nagreement\\nagreement\\nallowable\\nallure\\nalluring\\nalluringly\\nalmighty\\naltruist\\naltruistic\\naltruistically\\namazed\\namazement\\namazing\\namazingly\\nambitious\\nambitious\\namenable\\namenity\\namiability\\namiabily\\namiable\\namicability\\namicable\\namicably\\namity\\namity\\namnesty\\namour\\nample\\namply\\namusement\\namusement\\namusing\\nangel\\nangelic\\nanimated\\napostle\\napostle\\napotheosis\\napotheosis\\nappeal\\nappeal\\nappealing\\nappreciable\\nappreciation\\nappreciation\\nappreciative\\nappropriate\\napproval\\napt\\naptly\\naptitude\\nardent\\nardently\\nardor\\naristocratic\\narresting\\narticulate\\nascendant\\nascendant\\nascertainable\\nascertainable\\naspiration\\naspirations\\naspirations\\nassertions\\nassertions\\nassertive\\nasset\\nassiduous\\nassiduously\\nassurance\\nassurance\\nassurances\\nassurances\\nassuredly\\nastonished\\nastonishing\\nastonishingly\\nastonishment\\nastounded\\nastounding\\nastounding\\nastoundingly\\nastute\\nastutely\\nasylum\\nasylum\\nattainable\\nattentive\\nattraction\\nattraction\\nattractive\\nattractive\\nattune\\nauspicious\\nauthentic\\nauthoritative\\naward\\nautonomous\\navid\\navidly\\nawe\\nawed\\nawesome\\nawesomely\\nawesomeness\\nawestruck\\nbackbone\\nbalanced\\nbargain\\nbargain\\nbasic\\nbeacon\\nbeauteous\\nbeautiful\\nbeautifully\\nbeauty\\nbefitting\\nbelievable\\nbeloved\\nbenefactor\\nbeneficial\\nbeneficent\\nbeneficiary\\nbeneficiary\\nbenefit\\nbenefit\\nbenefits\\nbenefits\\nbenevolence\\nbenevolent\\nbenign\\nbest-known\\nbest-performing\\nbest-selling\\nbetter\\nbetter-known\\nbetter-than-expected\\nblameless\\nblessing\\nblessing\\nbliss\\nblissful\\nblissfully\\nblithe\\nbold\\nboldly\\nboldness\\nbonny\\nbonus\\nboom\\nbooming\\nboost\\nboundless\\nbountiful\\nbrains\\nbrains\\nbrainy\\nbrave\\nbravery\\nbravery\\nbreakthrough\\nbreakthrough\\nbreakthroughs\\nbreakthroughs\\nbreathlessness\\nbreathlessness\\nbreathtaking\\nbreathtakingly\\nbright\\nbrightness\\nbrilliance\\nbrilliant\\nbrilliantly\\nbrisk\\nbroad\\nbrotherly\\nbull\\nbull\\nbullish\\nbullish\\nbuoyant\\ncalm\\ncalmness\\ncandid\\ncandor\\ncapable\\ncapability\\ncapably\\ncaptivating\\ncaptivation\\ncarefree\\ncareful\\ncatalyst\\ncatalyst\\ncatchy\\ncelebrated\\ncelebration\\ncelebrity\\nchampion\\nchamp\\nchampion\\ncharismatic\\ncharitable\\ncharitable\\ncharity\\ncharm\\ncharm\\ncharming\\ncharming\\ncharmingly\\nchaste\\ncheer\\ncheery\\ncheerful\\ncherished\\ncherub\\nchic\\nchivalry\\nchivalrous\\nchum\\ncivility\\ncivilization\\ncivilize\\ncivil\\nclarity\\nclassic\\nclean\\ncleanliness\\ncleanse\\nclear-cut\\nclearer\\nclearer\\nclearly\\nclever\\ncloseness\\ncloseness\\nclout\\nclout\\nco-operation\\nco-operation\\ncogent\\ncohesive\\ncoherence\\ncoherence\\ncoherent\\ncohesion\\ncohesive\\ncolorful\\ncolossal\\ncomeback\\ncomeback\\ncomely\\ncomfortable\\ncomfortable\\ncomfortably\\ncomforting\\ncommendable\\ncommendably\\ncommensurate\\ncommonsense\\ncommonsensible\\ncommonsensibly\\ncommonsensical\\ncommodious\\ncommitment\\ncommitment\\ncompact\\ncompassion\\ncompassionate\\ncompatible\\ncompatible\\ncompelling\\ncompelling\\ncompetent\\ncompetence\\ncompetency\\ncompetitive\\ncompetitive\\ncompetitiveness\\ncomplement\\ncompliant\\ncompliant\\ncomplimentary\\ncomprehensive\\ncompromise\\ncompromise\\ncompromises\\ncompromises\\ncomrades\\ncomrades\\nconceivable\\nconceivable\\nconciliatory\\nconclusive\\nconcrete\\nconducive\\nconducive\\nconfidence\\nconfidence\\nconfident\\ncongenial\\ncongratulations\\ncongratulations\\nconscience\\nconscientious\\nconsensus\\nconsiderate\\nconsistent\\nconstancy\\nconstructive\\nconstructive\\nconstructive\\nconsummate\\ncontent\\ncontentment\\ncontinuity\\ncontribution\\ncontribution\\nconvenient\\nconvenient\\nconviction\\nconviction\\nconvincing\\nconvincing\\nconvincingly\\ncooperation\\ncooperation\\ncooperative\\ncooperatively\\ncordial\\ncornerstone\\ncornerstone\\ncorrect\\ncost-effective\\ncost-saving\\ncourage\\ncourage\\ncourageous\\ncourageously\\ncourageousness\\ncourteous\\ncourtesy\\ncourtly\\ncovenant\\ncozy\\ncraving\\ncreative\\ncredence\\ncredence\\ncredible\\ncrisp\\ncrusade\\ncrusade\\ncrusader\\ncure-all\\ncure-all\\ncute\\ndance\\ndaring\\ndaringly\\ndashing\\ndauntless\\ndazzled\\ndazzling\\ndeal\\ndear\\ndecent\\ndecency\\ndecisive\\ndecisiveness\\ndecisiveness\\ndedicated\\ndefender\\ndefender\\ndeference\\ndefense\\ndefinite\\ndefinitive\\ndefinitive\\ndefinitively\\ndeflationary\\ndeft\\ndelectable\\ndelicacy\\ndelicate\\ndelicious\\ndelight\\ndelighted\\ndelightful\\ndelightful\\ndelightfully\\ndelightfulness\\ndemocratic\\ndependable\\ndeserved\\ndeservedly\\ndeserving\\ndesirable\\ndesire\\ndesire\\ndesirous\\ndestined\\ndestinies\\ndestinies\\ndestiny\\ndetermination\\ndetermination\\ndevoted\\ndevotee\\ndevotion\\ndevout\\ndexterity\\ndexterous\\ndexterously\\ndextrous\\ndignified\\ndignity\\ndiligence\\ndiligent\\ndiligently\\ndiplomatic\\ndiplomatic\\ndiscerning\\ndiscreet\\ndiscreet\\ndiscretion\\ndiscriminating\\ndiscriminatingly\\ndistinct\\ndistinction\\ndistinctive\\ndistinctive\\ndistinctive\\ndistinguished\\ndiversified\\ndivine\\ndivinely\\ndodge\\ndodge\\ndotingly\\ndoubtless\\ndream\\ndream\\ndreamland\\ndreams\\ndreams\\ndreamy\\ndrive\\ndriven\\ndurable\\ndurability\\ndynamic\\neager\\neagerly\\neagerness\\nearnest\\nearnestly\\nearnestness\\nease\\neasy\\neasygoing\\nebullience\\nebullient\\nebulliently\\neclectic\\neconomical\\necstasies\\necstasy\\necstatic\\necstatically\\neducable\\neducated\\neducational\\neffective\\neffectiveness\\neffectual\\nefficacious\\nefficiency\\nefficient\\neffortless\\neffortlessly\\neffusion\\neffusive\\neffusively\\neffusiveness\\negalitarian\\nelan\\nelated\\nelatedly\\nelation\\nelectrification\\nelectrification\\nelegance\\nelegant\\nelegantly\\nelevated\\neligible\\nelite\\neloquence\\neloquent\\neloquently\\neminence\\neminent\\nempowerment\\nenchanted\\nenchanting\\nenchantingly\\nencouragement\\nencouragement\\nencouraging\\nencouraging\\nencouragingly\\nendearing\\nendorsement\\nendorsement\\nendorser\\nendurable\\nenduring\\nenergetic\\nenergetic\\nengaging\\nengrossing\\nenhanced\\nenhancement\\nenjoyable\\nenjoyably\\nenjoyment\\nenlightenment\\nenrapt\\nenrichment\\nenterprising\\nentertaining\\nenthusiasm\\nenthusiast\\nenthusiastic\\nenthusiastically\\nenticing\\nenticingly\\nentrancing\\nentreatingly\\nenviable\\nenviably\\nenvisions\\nenvisions\\nepic\\nepitome\\nequality\\nequality\\nequitable\\nerudite\\nessential\\nespecially\\nesteem\\nestablished\\neternity\\neternity\\nethical\\neuphoria\\neuphoric\\neuphorically\\neven\\nevenly\\neventful\\neverlasting\\nevocative\\nexalt\\nexaltation\\nexalted\\nexaltedly\\nexalting\\nexaltingly\\nexceeding\\nexceedingly\\nexcellence\\nexcellency\\nexcellent\\nexcellently\\nexceptional\\nexceptionally\\nexcited\\nexcitedly\\nexcitedness\\nexcitement\\nexciting\\nexcitingly\\nexclusive\\nexcusable\\nexcusable\\nexemplar\\nexemplary\\nexhaustive\\nexhaustively\\nexhilarating\\nexhilaratingly\\nexhilaration\\nexpansive\\nexperienced\\nexpert\\nexpertly\\nexplicit\\nexplicitly\\nexpressive\\nexquisite\\nexquisitely\\nextraordinarily\\nextraordinary\\nexuberance\\nexuberant\\nexuberantly\\nexultation\\nexultingly\\nfabulous\\nfabulously\\nfair\\nfair\\nfairly\\nfairness\\nfairness\\nfaith\\nfaith\\nfaithful\\nfaithful\\nfaithfully\\nfaithfulness\\nfamed\\nfame\\nfamed\\nfamous\\nfamously\\nfancy\\nfanfare\\nfanfare\\nfantastic\\nfantastically\\nfantasy\\nfantasy\\nfarsighted\\nfascinating\\nfascinatingly\\nfascination\\nfashionable\\nfashionably\\nfast-growing\\nfast-paced\\nfastest-growing\\nfavor\\nfavor\\nfavorable\\nfavored\\nfavorite\\nfavour\\nfearless\\nfearlessly\\nfeasible\\nfeasibly\\nfeat\\nfeatly\\nfeisty\\nfeisty\\nfelicitous\\nfelicity\\nfertile\\nfertile\\nfervent\\nfervently\\nfervid\\nfervidly\\nfervor\\nfestive\\nfidelity\\nfiery\\nfine\\nfinely\\nfirst-class\\nfirst-rate\\nfit\\nfitting\\nflair\\nflame\\nflame\\nflattering\\nflatteringly\\nflawless\\nflawlessly\\nflexible\\nflourish\\nflourishing\\nfluent\\nfond\\nfondly\\nfondness\\nfoolproof\\nforemost\\nforesight\\nforgave\\nforgiven\\nforgiveness\\nforgiving\\nforgivingly\\nfortitude\\nfortuitous\\nfortuitously\\nfortunate\\nfortune\\nfortune\\nfragrant\\nfrank\\nfree\\nfreedom\\nfreedom\\nfreedoms\\nfreedoms\\nfresh\\nfriend\\nfriend\\nfriendliness\\nfriendliness\\nfriendly\\nfriends\\nfriends\\nfriendship\\nfriendship\\nfruitful\\nfulfillment\\nfulfillment\\nfull-fledged\\nfun\\nfunctional\\nfunny\\ngaiety\\ngaily\\ngain\\ngainful\\ngainfully\\ngallant\\ngallantly\\ngalore\\ngem\\ngem\\ngems\\ngems\\ngenerosity\\ngenerous\\ngenerously\\ngenial\\ngenius\\ngentle\\ngenuine\\ngermane\\ngiddy\\ngifted\\nglad\\ngladly\\ngladness\\nglamorous\\nglee\\ngleeful\\ngleefully\\nglimmer\\nglimmer\\nglimmering\\nglisten\\nglistening\\nglitter\\nglorious\\ngloriously\\nglory\\nglossy\\nglowingly\\ngo-ahead\\ngo-ahead\\ngod-given\\ngodlike\\ngold\\ngolden\\ngood\\ngoodly\\ngoodness\\ngoodwill\\ngoodwill\\ngorgeous\\ngorgeously\\ngrace\\ngraceful\\ngracefully\\ngracious\\ngraciously\\ngraciousness\\ngrail\\ngrail\\ngrand\\ngrandeur\\ngrateful\\ngrateful\\ngratefully\\ngratification\\ngratifying\\ngratifyingly\\ngratitude\\ngratitude\\ngreat\\ngreatest\\ngreatness\\ngrit\\ngrit\\ngroundbreaking\\ngroundbreaking\\nguarantee\\nguardian\\nguidance\\nguidance\\nguiltless\\ngumption\\ngusto\\ngutsy\\nhalcyon\\nhale\\nhallowed\\nhandily\\nhandsome\\nhandy\\nhappily\\nhappiness\\nhappy\\nhard-working\\nhardier\\nhardier\\nhardy\\nharmless\\nharmonious\\nharmony\\nharmony\\nhaven\\nheadway\\nheady\\nhealthful\\nhealthy\\nhealthy\\nheart\\nheartening\\nheartfelt\\nheartily\\nheartwarming\\nheaven\\nheavenly\\nhelp\\nhelp\\nhelpful\\nhero\\nheroic\\nheroically\\nheroine\\nheros\\nhigh-quality\\nhighlight\\nhilarious\\nhilariously\\nhilariousness\\nhilarity\\nhistoric\\nholy\\nhomage\\nhonest\\nhonest\\nhonestly\\nhonesty\\nhonesty\\nhoneymoon\\nhonor\\nhonor\\nhonorable\\nhope\\nhope\\nhopeful\\nhopefully\\nhopefulness\\nhopes\\nhopes\\nhospitable\\nhot\\nhug\\nhug\\nhumane\\nhumane\\nhumanists\\nhumanists\\nhumanity\\nhumankind\\nhumility\\nhumorous\\nhumorously\\nhumour\\nhumour\\nhumourous\\nideal\\nideal\\nidealism\\nidealist\\nidol\\nidol\\nidolized\\nilluminati\\nilluminati\\nilluminating\\nillustrious\\nimaginative\\nimmaculate\\nimmaculately\\nimpartial\\nimpartiality\\nimpartially\\nimpassioned\\nimpeccable\\nimpeccably\\nimperial\\nimperturbable\\nimpervious\\nimpetus\\nimportance\\nimportant\\nimportantly\\nimpregnable\\nimpression\\nimpression\\nimpressions\\nimpressions\\nimpressive\\nimpressively\\nimpressiveness\\nimproving\\nimproved\\nimprovement\\ninalienable\\nincisive\\nincisively\\nincisiveness\\ninclination\\ninclination\\ninclinations\\ninclined\\ninclusive\\nincontestable\\nincontrovertible\\nincorruptible\\nincredible\\nincredibly\\nindebted\\nindefatigable\\nindelible\\nindelibly\\nindependence\\nindependence\\nindependent\\nindescribable\\nindescribably\\nindestructible\\nindispensable\\nindispensability\\nindisputable\\nindividuality\\nindomitable\\nindomitably\\nindubitable\\nindubitably\\nindulgence\\nindulgent\\nindustrious\\ninestimable\\ninestimably\\ninexpensive\\ninfallible\\ninfallibly\\ninfallibility\\ninfluential\\ninformative\\ningenious\\ningeniously\\ningenuity\\ningenuous\\ningenuously\\ningratiating\\ningratiatingly\\ninnocence\\ninnocence\\ninnocent\\ninnocently\\ninnocuous\\ninnocuous\\ninnovation\\ninnovation\\ninnovative\\ninoffensive\\ninquisitive\\ninsight\\ninsight\\ninsightful\\ninsightfully\\ninsistence\\ninsistence\\ninsistent\\ninsistently\\ninspiration\\ninspirational\\ninspiring\\ninspiring\\ninstructive\\ninstrumental\\nintact\\nintegral\\nintegrity\\nintelligent\\nintelligence\\nintelligible\\ninterest\\ninterest\\ninterested\\ninteresting\\ninterests\\ninterests\\nintimacy\\nintimacy\\nintimate\\nintricate\\nintrigue\\nintrigue\\nintriguing\\nintriguing\\nintriguingly\\nintuitive\\ninvaluable\\ninvaluablely\\ninventive\\ninvigorating\\ninvincibility\\ninvincible\\ninviolable\\ninviolate\\ninvulnerable\\nirrefutable\\nirrefutably\\nirreproachable\\nirresistible\\nirresistibly\\njauntily\\njaunty\\njoke\\njovial\\njoy\\njoyful\\njoyfully\\njoyless\\njoyous\\njoyously\\njubilant\\njubilantly\\njubilation\\njubilation\\njudicious\\njust\\njust\\njust\\njustice\\njustice\\njustifiable\\njustification\\njustly\\nkeen\\nkeenly\\nkeenness\\nkeenness\\nkemp\\nkind\\nkindly\\nkindliness\\nkindness\\nkingmaker\\nkiss\\nknowledgeable\\nlarge\\nlarge\\nlaudable\\nlaudably\\nlavish\\nlavishly\\nlaw-abiding\\nlawful\\nlawfully\\nleading\\nlean\\nlean\\nlearning\\nlearned\\nlegendary\\nlegitimacy\\nlegitimate\\nlegitimately\\nlenient\\nleniently\\nless-expensive\\nleverage\\nlevity\\nliberal\\nliberation\\nliberation\\nliberalism\\nliberally\\nliberty\\nlifeblood\\nlifelong\\nlight\\nlight\\nlight-hearted\\nlikable\\nliking\\nlionhearted\\nliterate\\nlive\\nlively\\nlofty\\nlogical\\nlovable\\nlovably\\nlove\\nloveliness\\nlover\\nlovely\\nlow-cost\\nlow-risk\\nlower-priced\\nloyal\\nloyalty\\nloyalty\\nlucid\\nlucidly\\nluck\\nluckier\\nluckier\\nluckily\\nluckiness\\nlucky\\nlucky\\nlucrative\\nlucrative\\nluminous\\nlush\\nluster\\nlustrous\\nluxuriant\\nluxurious\\nluxuriously\\nluxury\\nluxury\\nlyrical\\nmagic\\nmagical\\nmagnanimous\\nmagnanimously\\nmagnetic\\nmagnificence\\nmagnificent\\nmagnificent\\nmagnificently\\nmagnify\\nmajestic\\nmajesty\\nmanageable\\nmanifest\\nmanly\\nmannerly\\nmarvel\\nmarvellous\\nmarvelous\\nmarvelously\\nmarvelousness\\nmarvels\\nmaster\\nmaster\\nmasterful\\nmasterfully\\nmasterpiece\\nmasterpieces\\nmasters\\nmasters\\nmastery\\nmatchless\\nmature\\nmaturely\\nmaturity\\nmeaningful\\nmeek\\nmellow\\nmemorable\\nmentor\\nmercifully\\nmercy\\nmercy\\nmerit\\nmeritorious\\nmerrily\\nmerriment\\nmerriness\\nmerry\\nmesmerizing\\nmesmerizing\\nmesmerizingly\\nmeticulous\\nmeticulously\\nmight\\nmightily\\nmighty\\nmild\\nmindful\\nmiracle\\nmiracles\\nmiraculous\\nmiraculously\\nmiraculousness\\nmirth\\nmoderate\\nmoderation\\nmoderation\\nmodern\\nmodest\\nmodesty\\nmomentous\\nmonumental\\nmonumentally\\nmoral\\nmoral\\nmorality\\nmotivated\\nmotivation\\nmotivation\\nmoving\\nmyriad\\nnatural\\nnaturally\\nnavigable\\nneat\\nneatly\\nnecessarily\\nnecessary\\nnice\\nnifty\\nnimble\\nnoble\\nnobly\\nnon-violence\\nnon-violent\\nnormal\\nnotable\\nnotable\\nnoteworthy\\nnoteworthy\\nnoticeable\\nnovel\\nnourishing\\nnourishment\\nnurturing\\nnurturing\\noasis\\nobedience\\nobedient\\nobediently\\nobjective\\nobjectively\\noffbeat\\nokay\\nonward\\nonward\\nopen\\nopenly\\nopenness\\nopenness\\nopportune\\nopportunity\\noptimal\\noptimism\\noptimistic\\nopulent\\norderly\\noriginal\\noriginality\\noutgoing\\noutstanding\\noutstandingly\\novation\\novation\\noverachiever\\noverjoyed\\noverture\\noverture\\npacifist\\npacifists\\npacifists\\npainless\\npainlessly\\npainstaking\\npainstakingly\\npalatable\\npalatial\\nparadise\\nparamount\\npassion\\npassionate\\npassionately\\npatience\\npatient\\npatient\\npatient\\npatiently\\npatriot\\npatriotic\\npeace\\npeace\\npeaceable\\npeaceful\\npeaceful\\npeacefully\\npeacekeepers\\npeacekeepers\\npeerless\\npenetrating\\npenitent\\nperceptive\\nperfect\\nperfection\\nperfectly\\npermissible\\nperseverance\\npersistent\\npersistent\\npersonages\\npersonages\\npersonality\\npersonality\\nperspicuous\\nperspicuously\\npersuasive\\npersuasive\\npersuasively\\npertinent\\nphenomenal\\nphenomenally\\npicturesque\\npiety\\npillar\\npillar\\npinnacle\\npious\\npithy\\npithy\\nplacid\\nplain\\nplausibility\\nplausible\\nplayful\\nplayfully\\npleasant\\npleasantly\\npleased\\npleasing\\npleasure\\npleasure\\npledge\\npledges\\npledges\\nplentiful\\nplush\\npoetic\\npoignant\\npoise\\npoised\\npolished\\npolite\\npoliteness\\npopular\\npopular\\npopularity\\npopularity\\nportable\\nposh\\npositive\\npositiveness\\npositively\\nposterity\\npotent\\npotential\\npotential\\npowerful\\npowerfully\\npracticable\\npractical\\npragmatic\\npraise\\npraiseworthy\\npraising\\npraising\\npre-eminent\\npreaching\\npreaching\\nprecaution\\nprecautions\\nprecedent\\nprecious\\nprecious\\nprecise\\nprecisely\\nprecision\\npreeminent\\npreemptive\\npreferable\\npreference\\npreferences\\npreferences\\npremier\\npremium\\nprepared\\npreponderance\\npreponderance\\nprestige\\nprestigious\\nprettily\\npretty\\npriceless\\npride\\nprinciple\\nprinciple\\nprincipled\\nprivilege\\nprivileged\\npro\\npro-American\\npro-American\\npro-Beijing\\npro-Beijing\\npro-Cuba\\npro-Cuba\\npro-peace\\npro-peace\\nproactive\\nproactive\\nprodigious\\nprodigiously\\nprodigy\\nproductive\\nproficient\\nproficiently\\nprofit\\nprofitable\\nprofound\\nprofoundly\\nprofuse\\nprofusely\\nprofusion\\nprogress\\nprogressive\\nprolific\\nprominent\\nprominence\\npromise\\npromise\\npromising\\npromoter\\npromoter\\nprompt\\npromptly\\nproper\\nproperly\\npropitious\\npropitiously\\nprospect\\nprospect\\nprospects\\nprospects\\nprosperity\\nprosperity\\nprosperous\\nprotection\\nprotective\\nprotector\\nprotector\\nproud\\nprovidence\\nprowess\\nprudence\\nprudence\\nprudent\\nprudently\\npunctual\\npundits\\npundits\\npure\\npurification\\npurity\\npurposeful\\nquaint\\nqualified\\nqualify\\nquasi-ally\\nquasi-ally\\nradiance\\nradiant\\nrapprochement\\nrapprochement\\nrapport\\nrapture\\nraptureous\\nraptureously\\nrational\\nrationality\\nrationality\\nre-conquest\\nre-conquest\\nreadily\\nready\\nreaffirm\\nreaffirmation\\nreaffirmation\\nreal\\nrealist\\nrealistic\\nrealistically\\nreason\\nreasonable\\nreasonably\\nreasoned\\nreassurance\\nreassurance\\nreceptive\\nrecognition\\nrecognition\\nrecommendation\\nrecommendations\\nrecommendations\\nrecommended\\nrecompense\\nreconciliation\\nreconciliation\\nrecord-setting\\nrectification\\nrectification\\nrectifying\\nrectifying\\nredeeming\\nredemption\\nrefined\\nrefinement\\nreform\\nreform\\nrefreshing\\nrefuge\\nregal\\nregally\\nregard\\nrehabilitation\\nreinforcement\\nrejoicing\\nrejoicingly\\nrelaxed\\nrelevant\\nrelevance\\nreliable\\nreliability\\nreliably\\nrelief\\nrelief\\nremarkable\\nremarkably\\nremedy\\nreminiscent\\nreminiscent\\nrenaissance\\nrenewal\\nrenovation\\nrenown\\nrenowned\\nrepair\\nreparation\\nrepentance\\nreputable\\nrescue\\nresilient\\nresolute\\nresolve\\nresolve\\nresolved\\nresounding\\nresourceful\\nresourcefulness\\nrespect\\nrespect\\nrespectable\\nrespectful\\nrespectfully\\nrespite\\nresplendent\\nresponsibility\\nresponsible\\nresponsibly\\nresponsive\\nrestful\\nrestoration\\nrestraint\\nrestraint\\nresurgent\\nrevel\\nrevel\\nrevelation\\nrevelation\\nreverence\\nreverent\\nreverently\\nrevival\\nrevolution\\nrevolution\\nrewarding\\nrewardingly\\nrich\\nriches\\nrichly\\nrichness\\nright\\nright\\nrighteous\\nrighteously\\nrighteousness\\nrightful\\nrightfully\\nrightness\\nrightness\\nrights\\nrights\\nripe\\nrisk-free\\nrobust\\nrosy\\nrousing\\nsacred\\nsafe\\nsagacity\\nsage\\nsagely\\nsaint\\nsaintliness\\nsaintly\\nsalable\\nsalutary\\nsalvation\\nsanctity\\nsanctuary\\nsanctuary\\nsanguine\\nsane\\nsanity\\nsanity\\nsatisfaction\\nsatisfaction\\nsatisfactorily\\nsatisfactory\\nsatisfying\\nsavvy\\nscenic\\nscruples\\nscrupulous\\nscrupulously\\nseamless\\nseasoned\\nsecure\\nsecurely\\nsecurity\\nsecurity\\nseductive\\nselective\\nself-determination\\nself-determination\\nself-respect\\nself-satisfaction\\nself-satisfaction\\nself-sufficiency\\nself-sufficiency\\nself-sufficient\\nsemblance\\nsensation\\nsensation\\nsensational\\nsensationally\\nsensations\\nsensations\\nsense\\nsense\\nsensible\\nsensibly\\nsensitive\\nsensitive\\nsensitivity\\nsensitivity\\nsentiment\\nsentiment\\nsentiments\\nserene\\nserenity\\nsettle\\nsexy\\nshelter\\nshimmeringly\\nshiny\\nshiny\\nshrewd\\nshrewdly\\nshrewdness\\nsignificant\\nsignificance\\nsimple\\nsimplicity\\nsimplified\\nsincere\\nsincerely\\nsincerity\\nsincerity\\nskill\\nskilled\\nskillful\\nskillful\\nskillfully\\nsleek\\nslender\\nslim\\nslim\\nsmart\\nsmarter\\nsmartest\\nsmartly\\nsmile\\nsmiling\\nsmilingly\\nsmooth\\nsociable\\nsoft-spoken\\nsoften\\nsoften\\nsolicitous\\nsolicitously\\nsolicitude\\nsolid\\nsolid\\nsolidarity\\nsolidarity\\nsoothingly\\nsophisticated\\nsound\\nsoundness\\nspacious\\nsparing\\nsparingly\\nsparkling\\nspecial\\nspectacular\\nspectacularly\\nspeedy\\nspellbinding\\nspellbindingly\\nspirit\\nspirit\\nspirited\\nspiritual\\nspiritual\\nsplendid\\nsplendidly\\nsplendor\\nspotless\\nsprightly\\nsquarely\\nstability\\nstability\\nstable\\nstable\\nstainless\\nstar\\nstar\\nstars\\nstars\\nstately\\nstatuesque\\nstaunch\\nstaunchly\\nstaunchness\\nsteadfast\\nsteadfastly\\nsteadfastness\\nsteadiness\\nsteady\\nstellar\\nstellarly\\nstimulating\\nstimulative\\nstirring\\nstirringly\\nstraight\\nstraightforward\\nstreamlined\\nstride\\nstride\\nstrides\\nstrides\\nstriking\\nstrikingly\\nstriving\\nstriving\\nstrong\\nstudious\\nstudiously\\nstunned\\nstunning\\nstunningly\\nstupendous\\nstupendously\\nsturdy\\nstylish\\nstylishly\\nsuave\\nsublime\\nsubstantial\\nsubstantially\\nsubstantive\\nsubtle\\nsuccess\\nsuccess\\nsuccessful\\nsuccessfully\\nsufficient\\nsufficiently\\nsuggestions\\nsuggestions\\nsuitable\\nsumptuous\\nsumptuously\\nsumptuousness\\nsunny\\nsuper\\nsuperb\\nsuperbly\\nsuperior\\nsuperlative\\nsupport\\nsupport\\nsupporter\\nsupporter\\nsupportive\\nsupportive\\nsupreme\\nsupremely\\nsupurb\\nsupurbly\\nsure\\nsurge\\nsurging\\nsurvival\\nsurvivor\\nsustainability\\nsustainability\\nsustainable\\nsustainable\\nsustained\\nsweeping\\nsweet\\nsweetheart\\nsweetly\\nsweetness\\nswift\\nswiftness\\nsworn\\ntact\\ntalent\\ntalent\\ntalented\\ntantalizing\\ntantalizingly\\ntaste\\ntemperance\\ntemperate\\ntenacious\\ntenaciously\\ntenacity\\ntender\\ntenderly\\ntenderness\\nterrific\\nterrifically\\nterrified\\nterrifying\\nterrifying\\nterrifyingly\\nthankful\\nthankfully\\nthinkable\\nthinkable\\nthorough\\nthoughtful\\nthoughtfully\\nthoughtfulness\\nthrift\\nthrifty\\nthrill\\nthrilling\\nthrillingly\\nthrills\\nthriving\\ntidy\\ntime-honored\\ntimely\\ntitillating\\ntitillatingly\\ntogetherness\\ntolerable\\ntolerably\\ntolerance\\ntolerance\\ntolerant\\ntolerantly\\ntoleration\\ntop\\ntorrid\\ntorridly\\ntradition\\ntraditional\\ntranquil\\ntranquility\\ntranquility\\ntreat\\ntremendous\\ntrendy\\ntrepidation\\ntribute\\ntrim\\ntriumph\\ntriumphal\\ntriumphant\\ntriumphantly\\ntruculent\\ntruculently\\ntrue\\ntruly\\ntrust\\ntrust\\ntrusting\\ntrustingly\\ntrustworthiness\\ntrustworthy\\ntruthful\\ntruthfully\\ntruthfulness\\nultimate\\nultimately\\nultra\\nunabashed\\nunabashedly\\nunanimous\\nunassailable\\nunassailable\\nunbiased\\nunbound\\nunbroken\\nuncommon\\nuncommonly\\nunconcerned\\nunconditional\\nunconventional\\nundaunted\\nunderstandable\\nunderstanding\\nunderstanding\\nunderstood\\nunderstated\\nunderstatedly\\nundisputable\\nundisputably\\nundisputed\\nundoubted\\nundoubtedly\\nunencumbered\\nunequivocal\\nunfazed\\nunfettered\\nunforgettable\\nuniform\\nuniformly\\nunique\\nunity\\nunity\\nuniversal\\nunlimited\\nunparalleled\\nunpretentious\\nunrestricted\\nunscathed\\nunselfish\\nuntouched\\nuntrained\\nupbeat\\nupfront\\nupheld\\nuphold\\nuplifting\\nupliftment\\nupliftment\\nupright\\nupscale\\nupside\\nupside\\nupward\\nusable\\nuseful\\nusefulness\\nutilitarian\\nutmost\\nuttermost\\nvaliant\\nvaliantly\\nvalid\\nvalidity\\nvalor\\nvaluable\\nvalues\\nvalues\\nvast\\nvastly\\nvastness\\nvenerable\\nvenerably\\nverifiable\\nveritable\\nversatile\\nversatility\\nviable\\nviability\\nvibrant\\nvibrantly\\nvictorious\\nvictory\\nvictory\\nvigilance\\nvigilant\\nvigilant\\nvigorous\\nvigorously\\nvintage\\nvirtue\\nvirtuous\\nvirtuously\\nvisionary\\nvital\\nvitality\\nvitality\\nvivacious\\nvivid\\nvoluntarily\\nvoluntary\\nvulnerable\\nvulnerable\\nwarm\\nwarmhearted\\nwarmly\\nwarmth\\nwealthy\\nwelcome\\nwelcome\\nwelfare\\nwelfare\\nwell\\nwell\\nwell-being\\nwell-being\\nwell-connected\\nwell-educated\\nwell-established\\nwell-informed\\nwell-intentioned\\nwell-managed\\nwell-positioned\\nwell-publicized\\nwell-received\\nwell-regarded\\nwell-run\\nwell-wishers\\nwell-wishers\\nwellbeing\\nwellbeing\\nwhimsical\\nwhite\\nwholeheartedly\\nwholesome\\nwide\\nwide-open\\nwide-ranging\\nwill\\nwill\\nwillful\\nwillfully\\nwilling\\nwillingness\\nwillingness\\nwink\\nwink\\nwinnable\\nwinnable\\nwinners\\nwinners\\nwisdom\\nwisdom\\nwise\\nwise\\nwisely\\nwish\\nwish\\nwishes\\nwishes\\nwishing\\nwishing\\nwitty\\nwonderful\\nwonderfully\\nwonderous\\nwonderously\\nworkable\\nworld-famous\\nworth\\nworth\\nworth-while\\nworthiness\\nworthwhile\\nworthy\\nwow\\nwry\\nyearning\\nyearningly\\nyouthful\\nzeal\\nzenith\\nzest\\n'"
      ]
     },
     "execution_count": 22,
     "metadata": {},
     "output_type": "execute_result"
    }
   ],
   "source": [
    "positive = open(\"positive.txt\").read()\n",
    "positive"
   ]
  },
  {
   "cell_type": "code",
   "execution_count": 23,
   "metadata": {
    "collapsed": false
   },
   "outputs": [
    {
     "data": {
      "text/plain": [
       "['abidance',\n",
       " 'abidance',\n",
       " 'abilities',\n",
       " 'ability',\n",
       " 'able',\n",
       " 'above',\n",
       " 'above-average',\n",
       " 'abundant',\n",
       " 'abundance',\n",
       " 'acceptance']"
      ]
     },
     "execution_count": 23,
     "metadata": {},
     "output_type": "execute_result"
    }
   ],
   "source": [
    "positive.split('\\n')[:10]"
   ]
  },
  {
   "cell_type": "markdown",
   "metadata": {},
   "source": [
    "## What's the positive sentiment in the tweets?\n",
    "\n",
    "<ul>\n",
    "<li>Iterate through tweets and count occurrence of positive words. \n",
    "<li>Need to do a bit a cleaning first.\n",
    "</ul>"
   ]
  },
  {
   "cell_type": "code",
   "execution_count": 24,
   "metadata": {
    "collapsed": false
   },
   "outputs": [
    {
     "data": {
      "text/plain": [
       "'Obama has called the GOP budget social Darwinism. Nice try, but they believe in social creationism.'"
      ]
     },
     "execution_count": 24,
     "metadata": {},
     "output_type": "execute_result"
    }
   ],
   "source": [
    "tweets[0]"
   ]
  },
  {
   "cell_type": "code",
   "execution_count": 37,
   "metadata": {
    "collapsed": false
   },
   "outputs": [
    {
     "name": "stdout",
     "output_type": "stream",
     "text": [
      "!\"#$%&'()*+,-./:;<=>?@[\\]^_`{|}~\n"
     ]
    }
   ],
   "source": [
    "# The punctuation function is useful for getting rid of unwanted characters in a string\n",
    "from string import punctuation\n",
    "print punctuation"
   ]
  },
  {
   "cell_type": "markdown",
   "metadata": {},
   "source": [
    "## os module\n",
    "\n",
    "<ul>\n",
    "<li>`os` module provides a way of using operating system dependent functionality. You can find important information about your location or about the process.\n",
    "<li>We'll look at this in more detail next session\n",
    "</ul>"
   ]
  },
  {
   "cell_type": "code",
   "execution_count": 27,
   "metadata": {
    "collapsed": false
   },
   "outputs": [
    {
     "name": "stdout",
     "output_type": "stream",
     "text": [
      "/Users/ilanman/gdi\n"
     ]
    }
   ],
   "source": [
    "import os\n",
    "\n",
    "print os.getcwd()"
   ]
  },
  {
   "cell_type": "code",
   "execution_count": 28,
   "metadata": {
    "collapsed": false
   },
   "outputs": [
    {
     "name": "stdout",
     "output_type": "stream",
     "text": [
      "  % Total    % Received % Xferd  Average Speed   Time    Time     Time  Current\n",
      "                                 Dload  Upload   Total   Spent    Left  Speed\n",
      "100  163k  100  163k    0     0   105k      0  0:00:01  0:00:01 --:--:--  105k\n",
      "curl: (6) Could not resolve host: alice.txt\n"
     ]
    }
   ],
   "source": [
    "# Alice in Wonderland from Project Gutenberg\n",
    "\n",
    "if not os.path.exists('alice.txt'):\n",
    "    ! curl http://www.gutenberg.org/cache/epub/11/pg11.txt -O alice.txt"
   ]
  },
  {
   "cell_type": "code",
   "execution_count": 29,
   "metadata": {
    "collapsed": false
   },
   "outputs": [
    {
     "name": "stdout",
     "output_type": "stream",
     "text": [
      "﻿Project Gutenberg's Alice's Adventures in Wonderland, by Lewis Carroll\r",
      "\r\n",
      "\r",
      "\r\n",
      "This eBook is for the use of anyone anywhere at no cost and with\r",
      "\r\n",
      "almost no restrictions whatsoever.  You may copy it, give it away or\r",
      "\r\n",
      "re-use it under the terms of the Project Gutenberg License included\r",
      "\r\n",
      "with this eBook or online at www.gutenberg.org\r",
      "\r\n",
      "\r",
      "\r\n",
      "\r",
      "\r\n",
      "Title: Alice's Adventures in Wonderland\r",
      "\r\n",
      "\r",
      "\r\n",
      "Author: Lewis Carroll\r",
      "\r\n",
      "\r",
      "\r\n",
      "Posting Date: June 25, 2008 [EBook #11]\r",
      "\r\n",
      "Release Date: March, 1994\r",
      "\r\n",
      "[Last updated: December 20, 2011]\r",
      "\r\n",
      "\r",
      "\r\n",
      "Language: English\r",
      "\r\n",
      "\r",
      "\r\n",
      "\r",
      "\r\n",
      "*** START OF THIS PROJECT GUTENBERG EBOOK ALICE'S ADVENTURES IN WONDERLAND ***\r",
      "\r\n",
      "\r",
      "\r\n",
      "\r",
      "\r\n",
      "\r",
      "\r\n",
      "\r",
      "\r\n",
      "\r",
      "\r\n",
      "\r",
      "\r\n",
      "\r",
      "\r\n",
      "\r",
      "\r\n",
      "\r",
      "\r\n",
      "\r",
      "\r\n",
      "ALICE'S ADVENTURES IN WONDERLAND\r",
      "\r\n",
      "\r",
      "\r\n",
      "Lewis Carroll\r",
      "\r\n",
      "\r",
      "\r\n",
      "THE MILLENNIUM FULCRUM EDITION 3.0\r",
      "\r\n",
      "\r",
      "\r\n",
      "\r",
      "\r\n",
      "\r",
      "\r\n",
      "\r",
      "\r\n",
      "CHAPTER I. Down the Rabbit-Hole\r",
      "\r\n",
      "\r",
      "\r\n",
      "Alice was beginning to get very tired of sitting by her sister on the\r",
      "\r\n",
      "bank, and of having nothing to do: once or twice she had peeped into the\r",
      "\r\n",
      "book her sister was reading, but it had no pictures or conversations in\r",
      "\r\n",
      "it, 'and what is the use of a book,' thought Alice 'without pictures or\r",
      "\r\n",
      "conversations?'\r",
      "\r\n",
      "\r",
      "\r\n",
      "So she was considering in her own mind (as well as she could, for the\r",
      "\r\n",
      "hot day made her feel very sleepy and stupid), whether the pleasure\r",
      "\r\n",
      "of making a daisy-chain would be worth the trouble of getting up and\r",
      "\r\n"
     ]
    }
   ],
   "source": [
    "!head -50 pg11.txt"
   ]
  },
  {
   "cell_type": "markdown",
   "metadata": {},
   "source": [
    "## collections modules\n",
    "\n",
    "<ul>\n",
    "<li>Very useful module for text manipulation, analysis\n",
    "<li>`OrderedDict`\n",
    "<li>`defaultdict`\n",
    "<li>`namedtuple`\n",
    "<li>`Counter`\n",
    "</ul>"
   ]
  },
  {
   "cell_type": "code",
   "execution_count": 30,
   "metadata": {
    "collapsed": false
   },
   "outputs": [],
   "source": [
    "alice = open('pg11.txt').read()  # read in file\n",
    "\n",
    "# split words on spaces, remove punctuation and make lower case\n",
    "words = alice.translate(None, punctuation).lower().split()"
   ]
  },
  {
   "cell_type": "code",
   "execution_count": 31,
   "metadata": {
    "collapsed": false
   },
   "outputs": [
    {
     "name": "stdout",
     "output_type": "stream",
     "text": [
      "29386\n",
      "3251\n"
     ]
    }
   ],
   "source": [
    "print len(words)\n",
    "print len(set(words))"
   ]
  },
  {
   "cell_type": "markdown",
   "metadata": {},
   "source": [
    "### How to find 10 most common words?"
   ]
  },
  {
   "cell_type": "code",
   "execution_count": 32,
   "metadata": {
    "collapsed": false
   },
   "outputs": [],
   "source": [
    "most_common = {}\n",
    "\n",
    "# use set to find unique words, store in dictionary\n",
    "for word in set(words):\n",
    "    most_common.update({word : words.count(word)})"
   ]
  },
  {
   "cell_type": "code",
   "execution_count": 33,
   "metadata": {
    "collapsed": false
   },
   "outputs": [
    {
     "data": {
      "text/plain": [
       "{'secondly': 2,\n",
       " 'pardon': 6,\n",
       " 'limited': 5,\n",
       " 'copy': 12,\n",
       " 'saves': 1,\n",
       " 'bear': 1,\n",
       " 'knelt': 1,\n",
       " 'four': 6,\n",
       " 'sleep': 6,\n",
       " 'hanging': 3,\n",
       " 'ringlets': 2,\n",
       " 'oldest': 1,\n",
       " 'hate': 1,\n",
       " 'assembled': 2,\n",
       " 'consider': 4,\n",
       " 'whose': 2,\n",
       " 'lory': 7,\n",
       " 'calculate': 1,\n",
       " 'paris': 2,\n",
       " 'blacking': 1,\n",
       " 'presents': 2,\n",
       " 'yetits': 1,\n",
       " 'certain': 5,\n",
       " 'whatsoever': 2,\n",
       " 'under': 22,\n",
       " 'inwards': 1,\n",
       " 'sorry': 1,\n",
       " 'glovesthat': 1,\n",
       " 'worth': 4,\n",
       " 'updated': 2,\n",
       " 'void': 1,\n",
       " 'rise': 1,\n",
       " 'every': 12,\n",
       " 'govern': 1,\n",
       " 'month': 2,\n",
       " 'fireplace': 1,\n",
       " 'school': 5,\n",
       " 'prize': 1,\n",
       " 'wooden': 1,\n",
       " 'pinch': 2,\n",
       " 'persisted': 2,\n",
       " 'drawlingthe': 1,\n",
       " 'wept': 1,\n",
       " 'favoured': 1,\n",
       " 'leaders': 1,\n",
       " 'farmyardwhile': 1,\n",
       " 'tired': 7,\n",
       " 'feathers': 1,\n",
       " 'direct': 1,\n",
       " 'elegant': 1,\n",
       " 'likely': 5,\n",
       " 'louder': 1,\n",
       " 'machines': 1,\n",
       " 'shining': 1,\n",
       " 'even': 21,\n",
       " 'meekly': 2,\n",
       " 'errors': 1,\n",
       " 'hide': 1,\n",
       " 'forgetting': 3,\n",
       " 'solemn': 3,\n",
       " 'thunder': 1,\n",
       " 'near': 15,\n",
       " 'poison': 3,\n",
       " 'above': 3,\n",
       " 'conduct': 1,\n",
       " 'new': 8,\n",
       " 'babythe': 1,\n",
       " 'increasing': 1,\n",
       " 'asis': 1,\n",
       " 'told': 6,\n",
       " 'gained': 1,\n",
       " 'never': 45,\n",
       " 'wrapping': 1,\n",
       " 'here': 48,\n",
       " 'hundreds': 1,\n",
       " 'met': 4,\n",
       " 'protection': 1,\n",
       " 'hers': 3,\n",
       " 'cardboard': 1,\n",
       " 'shriek': 5,\n",
       " 'dry': 8,\n",
       " 'voice': 47,\n",
       " 'daughter': 1,\n",
       " 'voicethe': 1,\n",
       " 'employees': 2,\n",
       " 'changed': 8,\n",
       " 'reports': 1,\n",
       " 'swam': 5,\n",
       " 'barrowful': 2,\n",
       " 'waterwell': 1,\n",
       " 'smoke': 1,\n",
       " 'theres': 24,\n",
       " 'settled': 3,\n",
       " 'ventured': 4,\n",
       " 'golden': 7,\n",
       " 'sourand': 1,\n",
       " 'grumbled': 1,\n",
       " 'explained': 1,\n",
       " 'angrily': 9,\n",
       " 'feelings': 2,\n",
       " 'brought': 3,\n",
       " 'patience': 1,\n",
       " 'moral': 8,\n",
       " 'guests': 3,\n",
       " 'drowned': 1,\n",
       " 'punching': 1,\n",
       " 'spoke': 16,\n",
       " 'would': 83,\n",
       " 'arms': 6,\n",
       " 'insult': 1,\n",
       " 'distributing': 7,\n",
       " 'dormouses': 1,\n",
       " 'overhead': 1,\n",
       " 'therefore': 1,\n",
       " 'leant': 1,\n",
       " 'survive': 1,\n",
       " 'fainting': 1,\n",
       " 'tell': 31,\n",
       " 'breathe': 3,\n",
       " 'paperwork': 1,\n",
       " 'posting': 1,\n",
       " 'clearly': 2,\n",
       " 'hurt': 3,\n",
       " 'grief': 1,\n",
       " 'glass': 9,\n",
       " 'teaching': 1,\n",
       " 'adjourn': 1,\n",
       " '90': 2,\n",
       " 'hold': 10,\n",
       " 'outdated': 1,\n",
       " 'circumstances': 1,\n",
       " 'me': 68,\n",
       " 'join': 9,\n",
       " '1994': 1,\n",
       " 'work': 53,\n",
       " 'dodo': 13,\n",
       " 'worm': 1,\n",
       " 'roof': 6,\n",
       " 'itself': 14,\n",
       " 'elbow': 3,\n",
       " 'my': 58,\n",
       " 'shook': 9,\n",
       " 'rosetree': 4,\n",
       " 'quiver': 1,\n",
       " 'serpent': 9,\n",
       " 'give': 16,\n",
       " 'unjust': 1,\n",
       " 'flung': 1,\n",
       " 'organized': 1,\n",
       " 'frighten': 1,\n",
       " 'want': 9,\n",
       " 'hurrying': 1,\n",
       " 'times': 6,\n",
       " 'worse': 3,\n",
       " 'ones': 2,\n",
       " 'end': 20,\n",
       " 'thing': 49,\n",
       " 'provide': 7,\n",
       " 'agony': 1,\n",
       " 'sitting': 10,\n",
       " 'damage': 2,\n",
       " '1e9': 3,\n",
       " 'machine': 1,\n",
       " 'how': 68,\n",
       " 'hot': 5,\n",
       " 'piecrust': 1,\n",
       " 'answer': 9,\n",
       " 'if': 114,\n",
       " 'truthful': 1,\n",
       " 'poker': 1,\n",
       " 'flustered': 1,\n",
       " 'mouths': 3,\n",
       " 'after': 42,\n",
       " 'growl': 3,\n",
       " 'wrong': 5,\n",
       " 'jumping': 4,\n",
       " 'lay': 4,\n",
       " 'curiosity': 5,\n",
       " 'law': 4,\n",
       " 'lap': 2,\n",
       " 'types': 1,\n",
       " 'attempt': 1,\n",
       " 'childhood': 1,\n",
       " 'wink': 2,\n",
       " 'wriggling': 1,\n",
       " 'green': 4,\n",
       " 'goodbye': 1,\n",
       " 'aloud': 5,\n",
       " 'order': 3,\n",
       " 'wind': 2,\n",
       " 'wine': 2,\n",
       " 'withina': 1,\n",
       " 'executed': 6,\n",
       " 'office': 2,\n",
       " 'curled': 2,\n",
       " 'dreamed': 1,\n",
       " 'over': 40,\n",
       " 'xi': 1,\n",
       " 'london': 1,\n",
       " 'crumbs': 4,\n",
       " 'before': 39,\n",
       " 'thenbills': 1,\n",
       " 'chatte': 1,\n",
       " 'fit': 3,\n",
       " 'somewhere': 3,\n",
       " 'lefthand': 2,\n",
       " 'fix': 2,\n",
       " 'elsebut': 1,\n",
       " 'writing': 7,\n",
       " 'better': 14,\n",
       " 'hm': 1,\n",
       " 'production': 1,\n",
       " 'fig': 1,\n",
       " 'glanced': 1,\n",
       " 'croquet': 6,\n",
       " 'weeks': 1,\n",
       " 'overcome': 1,\n",
       " 'then': 90,\n",
       " 'them': 84,\n",
       " 'romeno': 1,\n",
       " 'slate': 2,\n",
       " 'safe': 2,\n",
       " 'break': 2,\n",
       " 'caterpillar': 27,\n",
       " 'they': 130,\n",
       " 'interrupt': 1,\n",
       " 'awfully': 1,\n",
       " 'bank': 2,\n",
       " 'pegs': 1,\n",
       " 'theni': 1,\n",
       " 'grammar': 1,\n",
       " 'meat': 1,\n",
       " 'alternately': 1,\n",
       " 'herald': 1,\n",
       " 'good': 24,\n",
       " '1e2': 1,\n",
       " 'roast': 1,\n",
       " 'each': 9,\n",
       " 'went': 83,\n",
       " 'side': 17,\n",
       " 'cornerno': 1,\n",
       " 'mean': 10,\n",
       " 'calmly': 1,\n",
       " 'financial': 1,\n",
       " 'telescope': 3,\n",
       " 'series': 1,\n",
       " 'applicable': 3,\n",
       " 'vote': 1,\n",
       " 'taught': 4,\n",
       " 'forgot': 2,\n",
       " 'flock': 1,\n",
       " 'array': 1,\n",
       " 'reminding': 1,\n",
       " 'velvet': 1,\n",
       " 'network': 1,\n",
       " 'eeevening': 3,\n",
       " 'sighing': 3,\n",
       " 'fellows': 1,\n",
       " 'content': 1,\n",
       " 'encourage': 1,\n",
       " 'branch': 1,\n",
       " 'millennium': 1,\n",
       " 'got': 45,\n",
       " 'size': 13,\n",
       " 'forth': 8,\n",
       " 'foundation': 22,\n",
       " 'splashed': 1,\n",
       " 'stamping': 2,\n",
       " 'turning': 12,\n",
       " 'speakand': 1,\n",
       " 'written': 9,\n",
       " 'lessonbook': 1,\n",
       " 'onebut': 1,\n",
       " 'little': 128,\n",
       " 'free': 8,\n",
       " 'uglification': 2,\n",
       " '646221541': 1,\n",
       " 'whereupon': 1,\n",
       " 'mallets': 1,\n",
       " 'wanted': 4,\n",
       " 'telescopes': 1,\n",
       " 'enormous': 1,\n",
       " 'ate': 1,\n",
       " 'shelves': 1,\n",
       " 'writhing': 1,\n",
       " 'cackled': 1,\n",
       " 'messages': 2,\n",
       " 'days': 8,\n",
       " 'trotting': 2,\n",
       " 'pence': 1,\n",
       " 'hopeless': 1,\n",
       " 'alices': 17,\n",
       " 'moving': 3,\n",
       " 'loud': 6,\n",
       " 'bite': 2,\n",
       " 'user': 3,\n",
       " 'enjoy': 1,\n",
       " 'already': 3,\n",
       " 'dunce': 1,\n",
       " 'curiouser': 2,\n",
       " 'synonymous': 1,\n",
       " 'encouraging': 2,\n",
       " 'hearing': 4,\n",
       " 'wash': 2,\n",
       " 'another': 22,\n",
       " 'thoughtfully': 4,\n",
       " 'thick': 1,\n",
       " 'electronic': 27,\n",
       " 'anyone': 5,\n",
       " 'service': 1,\n",
       " 'indicate': 1,\n",
       " '84116': 1,\n",
       " 'top': 8,\n",
       " 'neck': 7,\n",
       " 'girls': 3,\n",
       " '1c': 2,\n",
       " 'airs': 1,\n",
       " 'master': 3,\n",
       " 'too': 26,\n",
       " 'wildly': 2,\n",
       " 'legs': 3,\n",
       " 'dogs': 4,\n",
       " 'listen': 7,\n",
       " 'consented': 1,\n",
       " 'ceiling': 1,\n",
       " 'solemnly': 4,\n",
       " 'meanstomakeanythingprettier': 1,\n",
       " 'fancying': 1,\n",
       " 'took': 24,\n",
       " 'hadnt': 8,\n",
       " 'positively': 1,\n",
       " 'begins': 4,\n",
       " 'distance': 7,\n",
       " 'perfectly': 4,\n",
       " 'withoutmaybe': 1,\n",
       " 'coward': 1,\n",
       " 'tree': 5,\n",
       " 'second': 6,\n",
       " 'seated': 1,\n",
       " 'project': 86,\n",
       " 'matter': 9,\n",
       " 'splendidly': 1,\n",
       " 'exclaimed': 6,\n",
       " 'flame': 1,\n",
       " 'friend': 3,\n",
       " 'feeling': 7,\n",
       " 'fashion': 2,\n",
       " 'ran': 16,\n",
       " 'faceand': 1,\n",
       " 'shyly': 1,\n",
       " 'modern': 1,\n",
       " 'mind': 10,\n",
       " 'mine': 8,\n",
       " 'talking': 17,\n",
       " 'manner': 2,\n",
       " 'further': 4,\n",
       " 'seen': 14,\n",
       " 'seem': 8,\n",
       " 'groundand': 1,\n",
       " 'eels': 1,\n",
       " 'strength': 1,\n",
       " 'mostly': 2,\n",
       " 'thoroughly': 2,\n",
       " 'doori': 1,\n",
       " 'haste': 1,\n",
       " 'eagerly': 8,\n",
       " 'subjects': 1,\n",
       " 'guineapig': 2,\n",
       " 'doors': 2,\n",
       " 'laughed': 2,\n",
       " 'andoh': 2,\n",
       " 'gravy': 1,\n",
       " 'exactly': 8,\n",
       " 'though': 11,\n",
       " 'ebook': 9,\n",
       " 'regular': 2,\n",
       " 'mouth': 10,\n",
       " 'plenty': 2,\n",
       " 'the': 1804,\n",
       " 'grave': 3,\n",
       " 'zealand': 1,\n",
       " 'professor': 1,\n",
       " 'm': 4,\n",
       " 'dog': 2,\n",
       " 'swamp': 1,\n",
       " 'ridiculous': 1,\n",
       " 'pineapple': 1,\n",
       " 'notion': 3,\n",
       " 'incomplete': 1,\n",
       " 'decidedly': 4,\n",
       " 'saying': 15,\n",
       " 'currants': 1,\n",
       " 'pardoned': 1,\n",
       " 'steamengine': 1,\n",
       " 'pope': 1,\n",
       " 'lewis': 4,\n",
       " 'queen': 68,\n",
       " 'sage': 1,\n",
       " 'ending': 1,\n",
       " 'attempts': 1,\n",
       " 'queer': 10,\n",
       " 'earth': 4,\n",
       " 'lessons': 10,\n",
       " 'execution': 2,\n",
       " 'flowers': 2,\n",
       " 'spite': 1,\n",
       " 'explain': 10,\n",
       " 'folded': 3,\n",
       " 'sugar': 1,\n",
       " 'itsits': 1,\n",
       " 'deepest': 1,\n",
       " 'disgust': 1,\n",
       " 'themi': 1,\n",
       " 'do': 98,\n",
       " 'cartwheels': 1,\n",
       " 'squeaking': 2,\n",
       " 'stop': 6,\n",
       " 'coast': 1,\n",
       " 'frowning': 4,\n",
       " 'shutting': 2,\n",
       " 'cushion': 2,\n",
       " 'altogether': 5,\n",
       " 'nasty': 1,\n",
       " 'dr': 2,\n",
       " 'youcome': 1,\n",
       " 'comply': 6,\n",
       " 'bat': 3,\n",
       " 'countries': 1,\n",
       " 'nicely': 2,\n",
       " 'ever': 21,\n",
       " 'anxiously': 14,\n",
       " 'shape': 1,\n",
       " 'licking': 1,\n",
       " 'public': 9,\n",
       " 'twice': 5,\n",
       " 'bad': 2,\n",
       " 'softly': 1,\n",
       " 'lookingglass': 1,\n",
       " 'release': 1,\n",
       " 'explanations': 1,\n",
       " 'ears': 5,\n",
       " 'blew': 2,\n",
       " 'fair': 1,\n",
       " 'checks': 1,\n",
       " 'depends': 2,\n",
       " 'decided': 3,\n",
       " 'submitted': 1,\n",
       " 'cattle': 1,\n",
       " 'corrupt': 1,\n",
       " 'miserable': 2,\n",
       " 'mournfully': 1,\n",
       " 'best': 12,\n",
       " 'subject': 7,\n",
       " 'pebbles': 2,\n",
       " 'said': 462,\n",
       " 'away': 27,\n",
       " 'irs': 1,\n",
       " 'enoughi': 1,\n",
       " 'unable': 1,\n",
       " 'finger': 5,\n",
       " 'sorts': 3,\n",
       " 'previous': 1,\n",
       " 'approach': 1,\n",
       " 'preserve': 1,\n",
       " 'claws': 2,\n",
       " 'lazy': 1,\n",
       " 'interrupting': 2,\n",
       " 'terms': 22,\n",
       " '99712': 1,\n",
       " 'confusion': 5,\n",
       " 'weak': 2,\n",
       " 'however': 21,\n",
       " 'camomile': 1,\n",
       " 'twinkling': 4,\n",
       " 'drew': 5,\n",
       " 'extent': 1,\n",
       " 'picking': 2,\n",
       " 'maynt': 1,\n",
       " 'improve': 1,\n",
       " 'pity': 3,\n",
       " 'received': 6,\n",
       " 'protect': 2,\n",
       " 'accident': 2,\n",
       " 'goodnatured': 1,\n",
       " 'reported': 1,\n",
       " 'country': 3,\n",
       " 'ill': 33,\n",
       " 'adventures': 11,\n",
       " 'edgar': 1,\n",
       " 'players': 4,\n",
       " 'games': 2,\n",
       " 'faces': 5,\n",
       " 'argue': 1,\n",
       " 'asked': 17,\n",
       " 'httpwwwgutenbergorg111': 1,\n",
       " 'tone': 40,\n",
       " 'appeared': 8,\n",
       " 'character': 1,\n",
       " 'backsomersault': 1,\n",
       " 'lullaby': 1,\n",
       " 'height': 5,\n",
       " 'active': 2,\n",
       " 'wider': 1,\n",
       " 'beheaded': 3,\n",
       " 'merchantibility': 1,\n",
       " 'speak': 14,\n",
       " 'shouting': 2,\n",
       " 'tarts': 7,\n",
       " 'three': 26,\n",
       " 'been': 38,\n",
       " 'quarrelling': 2,\n",
       " 'chimneys': 1,\n",
       " 'recognised': 1,\n",
       " 'teaparty': 2,\n",
       " 'schoolroom': 1,\n",
       " 'expected': 1,\n",
       " 'firstverdict': 1,\n",
       " 'lovely': 2,\n",
       " 'knowno': 1,\n",
       " 'threw': 2,\n",
       " 'life': 12,\n",
       " 'frogfootman': 1,\n",
       " 'beloved': 1,\n",
       " 'mushroom': 8,\n",
       " 'turned': 16,\n",
       " 'concerning': 2,\n",
       " 'uncommon': 1,\n",
       " 'joined': 3,\n",
       " 'soooop': 7,\n",
       " 'child': 10,\n",
       " 'catch': 3,\n",
       " 'doth': 3,\n",
       " 'teapot': 1,\n",
       " 'rabbitspat': 1,\n",
       " 'tonight': 1,\n",
       " 'has': 9,\n",
       " 'lessen': 1,\n",
       " 'tastes': 1,\n",
       " 'air': 14,\n",
       " 'aim': 1,\n",
       " 'ugly': 2,\n",
       " 'lizard': 5,\n",
       " 'suppose': 14,\n",
       " 'viii': 1,\n",
       " 'stopping': 1,\n",
       " 'property': 2,\n",
       " 'leaves': 6,\n",
       " 'mistake': 3,\n",
       " 'remembering': 1,\n",
       " 'ix': 1,\n",
       " 'seven': 6,\n",
       " 'stretching': 2,\n",
       " 'have': 85,\n",
       " 'played': 1,\n",
       " 'is': 128,\n",
       " 'it': 541,\n",
       " 'iv': 1,\n",
       " 'ii': 2,\n",
       " 'need': 1,\n",
       " 'cant': 28,\n",
       " 'im': 57,\n",
       " 'clinging': 1,\n",
       " 'in': 428,\n",
       " 'happening': 1,\n",
       " 'importantunimportantunimportantimportant': 1,\n",
       " 'mouse': 38,\n",
       " 'id': 11,\n",
       " 'arminarm': 1,\n",
       " 'grown': 7,\n",
       " 'containing': 1,\n",
       " 'severity': 1,\n",
       " 'credit': 1,\n",
       " 'perform': 1,\n",
       " 'things': 30,\n",
       " 'make': 29,\n",
       " 'breadandbutter': 6,\n",
       " 'forehead': 2,\n",
       " 'damages': 4,\n",
       " 'unfortunate': 3,\n",
       " 'vegetable': 1,\n",
       " 'plates': 2,\n",
       " 'several': 5,\n",
       " 'couple': 1,\n",
       " 'fairly': 1,\n",
       " 'teathings': 1,\n",
       " 'tops': 1,\n",
       " 'hand': 20,\n",
       " 'delight': 3,\n",
       " 'marched': 1,\n",
       " 'canterbury': 1,\n",
       " 'dozing': 1,\n",
       " 'opportunity': 9,\n",
       " 'thoughts': 2,\n",
       " 'kid': 5,\n",
       " 'butter': 3,\n",
       " 'hearth': 1,\n",
       " 'kept': 13,\n",
       " 'pattering': 3,\n",
       " 'askance': 1,\n",
       " 'possessed': 1,\n",
       " 'humble': 1,\n",
       " 'bankthe': 1,\n",
       " '809': 1,\n",
       " 'rome': 1,\n",
       " 'humbly': 2,\n",
       " 'impertinent': 1,\n",
       " 'hearts': 8,\n",
       " '801': 1,\n",
       " 'bythebye': 1,\n",
       " 'yours': 3,\n",
       " 'trademarkcopyright': 1,\n",
       " 'left': 14,\n",
       " 'just': 51,\n",
       " 'sentence': 8,\n",
       " 'distribute': 6,\n",
       " 'sleepy': 5,\n",
       " 'atheling': 1,\n",
       " 'verses': 4,\n",
       " 'identify': 1,\n",
       " 'farther': 1,\n",
       " 'bearmind': 1,\n",
       " 'yes': 13,\n",
       " 'yer': 4,\n",
       " 'yet': 22,\n",
       " 'electronically': 2,\n",
       " 'secure': 1,\n",
       " 'adding': 1,\n",
       " 'spectacles': 3,\n",
       " 'hjckrrh': 1,\n",
       " 'royal': 2,\n",
       " 'belongs': 2,\n",
       " 'easy': 3,\n",
       " 'prison': 1,\n",
       " 'save': 1,\n",
       " 'hat': 1,\n",
       " 'gave': 15,\n",
       " 'vii': 1,\n",
       " 'boxed': 1,\n",
       " 'online': 4,\n",
       " 'possible': 1,\n",
       " 'bythe': 1,\n",
       " 'possibly': 3,\n",
       " 'dreamy': 1,\n",
       " 'flamingoes': 2,\n",
       " 'afore': 1,\n",
       " 'gutenbergtms': 1,\n",
       " 'judge': 4,\n",
       " 'isthe': 1,\n",
       " 'replace': 1,\n",
       " 'burnt': 1,\n",
       " 'shoulder': 4,\n",
       " 'sorrows': 1,\n",
       " 'appearing': 2,\n",
       " 'uncivil': 1,\n",
       " 'seaside': 1,\n",
       " 'alice': 385,\n",
       " 'quadrille': 4,\n",
       " 'theyre': 13,\n",
       " 'specific': 1,\n",
       " 'renamed': 1,\n",
       " 'officer': 1,\n",
       " 'night': 3,\n",
       " 'hung': 1,\n",
       " 'right': 35,\n",
       " 'old': 21,\n",
       " 'deal': 12,\n",
       " 'people': 16,\n",
       " 'sends': 1,\n",
       " 'crown': 3,\n",
       " 'somehow': 1,\n",
       " 'dead': 4,\n",
       " '50': 1,\n",
       " 'fulcrum': 1,\n",
       " 'clubs': 1,\n",
       " 'escape': 4,\n",
       " 'dear': 29,\n",
       " 'straightening': 1,\n",
       " 'bore': 1,\n",
       " 'repeated': 10,\n",
       " 'creep': 1,\n",
       " 'confusing': 3,\n",
       " 'denies': 1,\n",
       " 'for': 179,\n",
       " 'bottom': 4,\n",
       " 'purple': 1,\n",
       " 'everything': 10,\n",
       " 'asking': 5,\n",
       " 'shakespeare': 1,\n",
       " 'denied': 2,\n",
       " 'serpents': 3,\n",
       " 'beating': 2,\n",
       " 'christmas': 1,\n",
       " 'pinched': 2,\n",
       " 'knew': 15,\n",
       " 'congereel': 1,\n",
       " 'burn': 2,\n",
       " 'disappeared': 2,\n",
       " 'boyand': 1,\n",
       " 'shifting': 1,\n",
       " 'paid': 6,\n",
       " 'losing': 1,\n",
       " 'bowing': 1,\n",
       " 'permitted': 3,\n",
       " 'proceed': 2,\n",
       " 'chapter': 12,\n",
       " 'limitation': 3,\n",
       " 'theirs': 1,\n",
       " 'newspapers': 1,\n",
       " 'choke': 1,\n",
       " 'o': 2,\n",
       " 'costs': 2,\n",
       " 'dinner': 2,\n",
       " 'despair': 1,\n",
       " 'efforts': 3,\n",
       " 'sluggard': 1,\n",
       " 'this': 181,\n",
       " 'raised': 2,\n",
       " 'sob': 1,\n",
       " 'statements': 1,\n",
       " 'facility': 1,\n",
       " 'civil': 3,\n",
       " 'prisoners': 1,\n",
       " 'obtaining': 2,\n",
       " 'bound': 3,\n",
       " 'cauldron': 2,\n",
       " 'son': 1,\n",
       " 'down': 101,\n",
       " 'respectable': 1,\n",
       " 'bats': 4,\n",
       " 'lieu': 2,\n",
       " 'balanced': 1,\n",
       " 'frightened': 7,\n",
       " 'often': 6,\n",
       " 'crowd': 4,\n",
       " 'impatiently': 5,\n",
       " 'wag': 1,\n",
       " 'support': 4,\n",
       " 'sneezing': 6,\n",
       " 'fight': 2,\n",
       " 'derision': 1,\n",
       " 'lowspirited': 1,\n",
       " 'way': 54,\n",
       " 'music': 3,\n",
       " 'was': 358,\n",
       " 'happy': 1,\n",
       " 'fork': 1,\n",
       " 'head': 48,\n",
       " 'medium': 5,\n",
       " 'form': 5,\n",
       " 'offer': 2,\n",
       " 'attempted': 1,\n",
       " 'becoming': 1,\n",
       " 'remarking': 3,\n",
       " 'failure': 1,\n",
       " 'hear': 15,\n",
       " 'heap': 1,\n",
       " 'removed': 4,\n",
       " 'nodded': 1,\n",
       " 'theyyouve': 1,\n",
       " 'flavour': 1,\n",
       " 'full': 19,\n",
       " 'rippling': 1,\n",
       " 'inside': 2,\n",
       " 'attached': 1,\n",
       " 'maximum': 1,\n",
       " 'until': 5,\n",
       " 'retire': 1,\n",
       " 'marmalade': 1,\n",
       " 'unusually': 1,\n",
       " 'more': 49,\n",
       " 'bitterandand': 1,\n",
       " 'temper': 5,\n",
       " 'proud': 2,\n",
       " 'proved': 2,\n",
       " 'sticks': 1,\n",
       " 'goodnaturedly': 1,\n",
       " 'fury': 3,\n",
       " 'toss': 1,\n",
       " 'paragraphs': 3,\n",
       " 'muscular': 1,\n",
       " 'hungry': 3,\n",
       " 'howling': 3,\n",
       " 'guessed': 3,\n",
       " 'promised': 1,\n",
       " 'melan': 1,\n",
       " 'candle': 3,\n",
       " 'accounting': 1,\n",
       " 'archive': 13,\n",
       " 'peeping': 1,\n",
       " 'solicitation': 1,\n",
       " 'floor': 3,\n",
       " 'generally': 7,\n",
       " 'handed': 3,\n",
       " 'tis': 5,\n",
       " 'beheading': 1,\n",
       " 'setting': 1,\n",
       " 'holding': 3,\n",
       " 'tie': 1,\n",
       " 'vanished': 4,\n",
       " 'shrink': 1,\n",
       " 'saucepans': 1,\n",
       " 'picture': 1,\n",
       " 'brothers': 1,\n",
       " 'savage': 4,\n",
       " 'turnup': 1,\n",
       " 'surprise': 5,\n",
       " 'welcome': 1,\n",
       " 'fell': 6,\n",
       " 'ridges': 1,\n",
       " 'gardenhow': 1,\n",
       " 'inkstand': 1,\n",
       " 'unlocking': 1,\n",
       " 'died': 1,\n",
       " 'puss': 1,\n",
       " 'spades': 1,\n",
       " 'cheated': 1,\n",
       " 'together': 9,\n",
       " 'beds': 1,\n",
       " 'longed': 2,\n",
       " 'fact': 8,\n",
       " 'cucumberframe': 1,\n",
       " 'remarked': 10,\n",
       " 'push': 1,\n",
       " 'profits': 1,\n",
       " 'concept': 2,\n",
       " 'managed': 4,\n",
       " 'remarkable': 2,\n",
       " 'whoever': 1,\n",
       " 'dance': 13,\n",
       " 'untwist': 1,\n",
       " 'rudeness': 1,\n",
       " 'branches': 2,\n",
       " 'invent': 1,\n",
       " 'seeneverything': 1,\n",
       " 'crocodile': 1,\n",
       " 'england': 1,\n",
       " 'mile': 2,\n",
       " 'displaying': 4,\n",
       " 'milk': 1,\n",
       " 'row': 2,\n",
       " 'certainly': 14,\n",
       " 'father': 6,\n",
       " 'passage': 4,\n",
       " 'answered': 4,\n",
       " 'charge': 6,\n",
       " 'unpleasant': 2,\n",
       " 'promoting': 2,\n",
       " 'terror': 1,\n",
       " 'must': 54,\n",
       " 'pleases': 1,\n",
       " 'jogged': 1,\n",
       " 'furrows': 1,\n",
       " 'brown': 2,\n",
       " 'downloading': 1,\n",
       " 'advantage': 3,\n",
       " 'none': 4,\n",
       " 'hatter': 55,\n",
       " 'choice': 2,\n",
       " 'liability': 3,\n",
       " 'stays': 1,\n",
       " 'cook': 13,\n",
       " 'locked': 1,\n",
       " 'trouble': 6,\n",
       " 'exact': 1,\n",
       " 'feeble': 2,\n",
       " 'minute': 21,\n",
       " 'wore': 1,\n",
       " 'sighed': 5,\n",
       " 'presented': 1,\n",
       " 'did': 62,\n",
       " 'die': 1,\n",
       " 'dig': 1,\n",
       " 'accidentally': 1,\n",
       " 'leave': 9,\n",
       " 'settle': 1,\n",
       " 'quick': 2,\n",
       " 'rabbits': 4,\n",
       " 'round': 41,\n",
       " 'lodging': 1,\n",
       " 'prevent': 2,\n",
       " 'brave': 1,\n",
       " 'voiceshold': 1,\n",
       " 'tougher': 1,\n",
       " 'sigh': 4,\n",
       " 'obsolete': 1,\n",
       " 'sign': 1,\n",
       " 'fairytales': 1,\n",
       " 'cost': 4,\n",
       " 'dried': 1,\n",
       " 'dinahll': 2,\n",
       " 'helpless': 1,\n",
       " 'hoarse': 3,\n",
       " 'irritated': 1,\n",
       " 'appear': 3,\n",
       " 'assistance': 1,\n",
       " 'axes': 1,\n",
       " 'uniform': 1,\n",
       " 'current': 1,\n",
       " 'looking': 30,\n",
       " 'lazily': 1,\n",
       " 'goes': 7,\n",
       " 'shared': 2,\n",
       " 'falling': 2,\n",
       " 'staff': 1,\n",
       " 'filled': 3,\n",
       " 'growls': 1,\n",
       " 'jury': 17,\n",
       " 'nearer': 5,\n",
       " 'honour': 4,\n",
       " 'learn': 8,\n",
       " 'french': 4,\n",
       " 'disclaim': 1,\n",
       " 'pause': 2,\n",
       " 'twentieth': 1,\n",
       " 'yards': 1,\n",
       " 'elses': 1,\n",
       " 'alone': 5,\n",
       " 'along': 5,\n",
       " 'appears': 1,\n",
       " 'change': 15,\n",
       " 'wait': 1,\n",
       " 'box': 4,\n",
       " 'boy': 2,\n",
       " 'thirty': 1,\n",
       " 'sharks': 1,\n",
       " 'grinned': 3,\n",
       " 'gryphon': 55,\n",
       " 'trial': 7,\n",
       " 'patriotic': 1,\n",
       " 'lamps': 1,\n",
       " 'quarrel': 1,\n",
       " 'beauootiful': 4,\n",
       " 'love': 3,\n",
       " 'morals': 1,\n",
       " 'jar': 2,\n",
       " 'merely': 2,\n",
       " 'marked': 8,\n",
       " 'histories': 1,\n",
       " 'inquisitively': 1,\n",
       " 'seashore': 1,\n",
       " 'swallowed': 1,\n",
       " 'stingy': 1,\n",
       " 'everybody': 8,\n",
       " 'voices': 2,\n",
       " 'prove': 1,\n",
       " 'angry': 5,\n",
       " 'visit': 3,\n",
       " 'tears': 11,\n",
       " 'france': 1,\n",
       " 'live': 8,\n",
       " 'going': 27,\n",
       " 'somersault': 1,\n",
       " 'wondering': 7,\n",
       " 'memory': 1,\n",
       " 'associated': 8,\n",
       " 'today': 4,\n",
       " 'loving': 1,\n",
       " 'dismay': 1,\n",
       " 'entrance': 1,\n",
       " 'sharing': 2,\n",
       " 'afford': 1,\n",
       " 'teases': 1,\n",
       " 'ignorant': 1,\n",
       " 'wwwgutenbergorg': 3,\n",
       " 'effort': 2,\n",
       " 'fly': 3,\n",
       " 'mouseo': 1,\n",
       " 'anything': 21,\n",
       " 'shrill': 5,\n",
       " 'teatime': 2,\n",
       " 'pretend': 1,\n",
       " 'mousea': 1,\n",
       " 'modified': 1,\n",
       " 'longitude': 2,\n",
       " 'cat': 35,\n",
       " 'soup': 18,\n",
       " 'can': 44,\n",
       " 'believed': 1,\n",
       " 'making': 8,\n",
       " 'toffee': 1,\n",
       " 'laughter': 1,\n",
       " 'slightest': 1,\n",
       " 'heart': 2,\n",
       " 'crazy': 1,\n",
       " 'undertone': 2,\n",
       " 'nursing': 3,\n",
       " 'figure': 3,\n",
       " 'december': 1,\n",
       " 'sense': 3,\n",
       " 'carroll': 4,\n",
       " 'confused': 4,\n",
       " 'agent': 1,\n",
       " 'paused': 1,\n",
       " 'heard': 30,\n",
       " 'queerest': 1,\n",
       " 'chin': 7,\n",
       " 'dropped': 5,\n",
       " 'sharp': 6,\n",
       " 'counting': 1,\n",
       " 'stole': 2,\n",
       " ...}"
      ]
     },
     "execution_count": 33,
     "metadata": {},
     "output_type": "execute_result"
    }
   ],
   "source": [
    "most_common"
   ]
  },
  {
   "cell_type": "markdown",
   "metadata": {},
   "source": [
    "### To find top 10, need to sort dictionary on values. There are <em>MANY</em> ways to do this."
   ]
  },
  {
   "cell_type": "code",
   "execution_count": 34,
   "metadata": {
    "collapsed": false
   },
   "outputs": [
    {
     "data": {
      "text/plain": [
       "[('the', 1804),\n",
       " ('and', 912),\n",
       " ('to', 801),\n",
       " ('a', 684),\n",
       " ('of', 625),\n",
       " ('it', 541),\n",
       " ('she', 538),\n",
       " ('said', 462),\n",
       " ('you', 429),\n",
       " ('in', 428)]"
      ]
     },
     "execution_count": 34,
     "metadata": {},
     "output_type": "execute_result"
    }
   ],
   "source": [
    "# using base python\n",
    "\n",
    "sorted_words_lambda = sorted(most_common.items(), key = lambda x: x[1], reverse = True)\n",
    "sorted_words_lambda[:10]"
   ]
  },
  {
   "cell_type": "code",
   "execution_count": 35,
   "metadata": {
    "collapsed": false
   },
   "outputs": [
    {
     "data": {
      "text/plain": [
       "[('the', 1804),\n",
       " ('and', 912),\n",
       " ('to', 801),\n",
       " ('a', 684),\n",
       " ('of', 625),\n",
       " ('it', 541),\n",
       " ('she', 538),\n",
       " ('said', 462),\n",
       " ('you', 429),\n",
       " ('in', 428)]"
      ]
     },
     "execution_count": 35,
     "metadata": {},
     "output_type": "execute_result"
    }
   ],
   "source": [
    "# using itemgetter from operator module\n",
    "from operator import itemgetter\n",
    "\n",
    "sorted_words_itemgetter = sorted(most_common.items(), key = itemgetter(1), reverse = True)\n",
    "sorted_words_itemgetter[:10]"
   ]
  },
  {
   "cell_type": "code",
   "execution_count": 36,
   "metadata": {
    "collapsed": false,
    "scrolled": false
   },
   "outputs": [
    {
     "data": {
      "text/plain": [
       "[('the', 1804),\n",
       " ('and', 912),\n",
       " ('to', 801),\n",
       " ('a', 684),\n",
       " ('of', 625),\n",
       " ('it', 541),\n",
       " ('she', 538),\n",
       " ('said', 462),\n",
       " ('you', 429),\n",
       " ('in', 428)]"
      ]
     },
     "execution_count": 36,
     "metadata": {},
     "output_type": "execute_result"
    }
   ],
   "source": [
    "# using collections module\n",
    "from collections import OrderedDict\n",
    "\n",
    "sorted_words_collections = OrderedDict(sorted(most_common.items(), key = lambda x: x[1], reverse = True))\n",
    "sorted_words_collections.items()[:10]"
   ]
  },
  {
   "cell_type": "code",
   "execution_count": 37,
   "metadata": {
    "collapsed": false
   },
   "outputs": [
    {
     "name": "stdout",
     "output_type": "stream",
     "text": [
      "the 1804\n",
      "and 912\n",
      "to 801\n",
      "a 684\n",
      "of 625\n",
      "it 541\n",
      "she 538\n",
      "said 462\n",
      "you 429\n",
      "in 428\n"
     ]
    }
   ],
   "source": [
    "# default dict\n",
    "\n",
    "from collections import defaultdict\n",
    "inverse = defaultdict( list )\n",
    "\n",
    "for k, v in most_common.items():\n",
    "    inverse[v].append( k )\n",
    "\n",
    "for k in sorted(inverse,reverse=True)[:10]:\n",
    "    print inverse[k][0], k"
   ]
  },
  {
   "cell_type": "code",
   "execution_count": 38,
   "metadata": {
    "collapsed": false
   },
   "outputs": [
    {
     "data": {
      "text/plain": [
       "[word(word=1804, count='the'),\n",
       " word(word=912, count='and'),\n",
       " word(word=801, count='to'),\n",
       " word(word=684, count='a'),\n",
       " word(word=625, count='of'),\n",
       " word(word=541, count='it'),\n",
       " word(word=538, count='she'),\n",
       " word(word=462, count='said'),\n",
       " word(word=429, count='you'),\n",
       " word(word=428, count='in')]"
      ]
     },
     "execution_count": 38,
     "metadata": {},
     "output_type": "execute_result"
    }
   ],
   "source": [
    "# named tuple\n",
    "\n",
    "from collections import namedtuple\n",
    "\n",
    "sorted_words_named = namedtuple('word', 'word count')\n",
    "sorted_words_named = sorted([sorted_words_named(v,k) for (k,v) in most_common.items()], reverse=True)\n",
    "sorted_words_named[:10]"
   ]
  },
  {
   "cell_type": "code",
   "execution_count": 39,
   "metadata": {
    "collapsed": false
   },
   "outputs": [
    {
     "data": {
      "text/plain": [
       "[('the', 1804),\n",
       " ('and', 912),\n",
       " ('to', 801),\n",
       " ('a', 684),\n",
       " ('of', 625),\n",
       " ('it', 541),\n",
       " ('she', 538),\n",
       " ('said', 462),\n",
       " ('you', 429),\n",
       " ('in', 428)]"
      ]
     },
     "execution_count": 39,
     "metadata": {},
     "output_type": "execute_result"
    }
   ],
   "source": [
    "# using Counter\n",
    "\n",
    "from collections import Counter\n",
    "\n",
    "sorted_words_counter = [item for item in Counter(words).most_common(10)]\n",
    "sorted_words_counter[:10]"
   ]
  },
  {
   "cell_type": "markdown",
   "metadata": {},
   "source": [
    "++++++++++++++++++++++++++++++++++++++++++++++++++++++++++++++++++++++++++++++++++++++++++++++++++++++++++++++++++++++"
   ]
  },
  {
   "cell_type": "markdown",
   "metadata": {},
   "source": [
    "## EXERCISE TIME!\n",
    "\n",
    "Find the number of words that appear exactly 10 times in the book. Use a python module."
   ]
  },
  {
   "cell_type": "markdown",
   "metadata": {},
   "source": [
    "++++++++++++++++++++++++++++++++++++++++++++++++++++++++++++++++++++++++++++++++++++++++++++++++++++++++++++++++++++++"
   ]
  },
  {
   "cell_type": "code",
   "execution_count": 40,
   "metadata": {
    "collapsed": false
   },
   "outputs": [
    {
     "data": {
      "text/plain": [
       "[('where', 10),\n",
       " ('Hatter,', 10),\n",
       " ('small', 10),\n",
       " ('us', 10),\n",
       " ('walked', 10),\n",
       " ('having', 10),\n",
       " ('thinking', 10),\n",
       " ('read', 10),\n",
       " ('They', 10),\n",
       " ('keep', 10),\n",
       " ('up,', 10),\n",
       " ('against', 10),\n",
       " ('talk', 10),\n",
       " ('voice.', 10),\n",
       " ('enough', 10),\n",
       " ('sitting', 10),\n",
       " ('done', 10),\n",
       " ('most', 10),\n",
       " ('access', 10),\n",
       " ('paragraph', 10),\n",
       " ('United', 10),\n",
       " ('few', 10)]"
      ]
     },
     "execution_count": 40,
     "metadata": {},
     "output_type": "execute_result"
    }
   ],
   "source": [
    "## SOLUTION\n",
    "\n",
    "alice_counter = Counter(alice.split())\n",
    "[(k, v) for (k, v) in alice_counter.items() if v==10]"
   ]
  },
  {
   "cell_type": "markdown",
   "metadata": {},
   "source": [
    "## Find positive sentiment from tweets"
   ]
  },
  {
   "cell_type": "markdown",
   "metadata": {},
   "source": [
    "<ul>\n",
    "<li>Helpful to standardize tweets\n",
    "<li>Convert to lower case\n",
    "<li>Remove punctuation\n",
    "</ul>"
   ]
  },
  {
   "cell_type": "code",
   "execution_count": 38,
   "metadata": {
    "collapsed": false
   },
   "outputs": [],
   "source": [
    "positive_word_dict = {}\n",
    "\n",
    "for tweet in tweets:\n",
    "    for positive_word in positive.split('\\n')[::-1][1:]:\n",
    "        if positive_word in tweet.translate(None, punctuation).lower():\n",
    "            positive_word_dict[positive_word] = positive_word_dict.get(positive_word, 0)\n",
    "            positive_word_dict[positive_word] += 1"
   ]
  },
  {
   "cell_type": "code",
   "execution_count": 39,
   "metadata": {
    "collapsed": false,
    "scrolled": true
   },
   "outputs": [
    {
     "data": {
      "text/plain": [
       "[('ability', 2),\n",
       " ('able', 14),\n",
       " ('accomplishment', 1),\n",
       " ('accomplishments', 1),\n",
       " ('active', 4),\n",
       " ('advantage', 10),\n",
       " ('agreement', 10),\n",
       " ('amazing', 1),\n",
       " ('ample', 1),\n",
       " ('angel', 2)]"
      ]
     },
     "execution_count": 39,
     "metadata": {},
     "output_type": "execute_result"
    }
   ],
   "source": [
    "sorted(positive_word_dict.items())[:10]"
   ]
  },
  {
   "cell_type": "markdown",
   "metadata": {},
   "source": [
    "## Find the most common positive word used in the tweets"
   ]
  },
  {
   "cell_type": "code",
   "execution_count": 40,
   "metadata": {
    "collapsed": false
   },
   "outputs": [
    {
     "data": {
      "text/plain": [
       "[('just', 174)]"
      ]
     },
     "execution_count": 40,
     "metadata": {},
     "output_type": "execute_result"
    }
   ],
   "source": [
    "[item for item in Counter(positive_word_dict).most_common(1)]"
   ]
  },
  {
   "cell_type": "markdown",
   "metadata": {},
   "source": [
    "++++++++++++++++++++++++++++++++++++++++++++++++++++++++++++++++++++++++++++++++++++++++++++++++++++++++++++++++++++"
   ]
  },
  {
   "cell_type": "markdown",
   "metadata": {},
   "source": [
    "## EXERCISE TIME!\n",
    "\n",
    "Do a similar analysis above but using negative words. \n",
    "\n",
    "1) Read in the `negative.txt` file and store it in a variable call it `negative`.<br>\n",
    "2) Using `negative`, find the 10 most common negative words in the tweets. Comment on any interesting observations.<br>\n",
    "3) For the most common negative word, print 10 tweets that contain it. Comment on any interesting observations.\n"
   ]
  },
  {
   "cell_type": "markdown",
   "metadata": {},
   "source": [
    "++++++++++++++++++++++++++++++++++++++++++++++++++++++++++++++++++++++++++++++++++++++++++++++++++++++++++++++++++++"
   ]
  },
  {
   "cell_type": "code",
   "execution_count": 41,
   "metadata": {
    "collapsed": false
   },
   "outputs": [
    {
     "name": "stdout",
     "output_type": "stream",
     "text": [
      "[('ill', 330), ('din', 241), ('sin', 162), ('lie', 156), ('mar', 136), ('war', 106), ('need', 68), ('hell', 63), ('rat', 61), ('wee', 47)]\n",
      "Here's How Obama and the Democrats Will Win in 2012: Let's start by going back to the assorted polls questioning... http://t.co/zpg0TVm3\n",
      "--------------------------------------------------------------------------------\n",
      "RT @GregWHoward: Obama inherited (if you want to use his lame wording) $10.6 trillion in debt and turned it into $15.2 trillion. #tcot #p2 #ocra #teaparty\n",
      "--------------------------------------------------------------------------------\n",
      "If Obama win 2012 Election wait til 2016 he will have full white hair! just like Bill clinton!\n",
      "--------------------------------------------------------------------------------\n",
      "RT @BunkerBlast: RT @teacherspets Obama's Budget: 'Interest Payments Will Exceed Defense Budget' in 2019  http://t.co/uddCXCjt\n",
      "--------------------------------------------------------------------------------\n",
      "@edshow If Obama is a \"thug\" and a \"bully\" then I'm not sure what to call Rush Limbaugh and Bill O.\n",
      "--------------------------------------------------------------------------------\n",
      "Obama has a billion dollar war chest for his reelection.  When were through with vetting him it might as well be Monopoly $ #Resist44\n",
      "--------------------------------------------------------------------------------\n",
      "RT @jennykassan: President Obama: for the first time ordinary Americans will be able to invest in companies they believe in #crowdfunding\n",
      "--------------------------------------------------------------------------------\n",
      "@billmaher Mr Maher I just seen the HBO documentary hot coffee.I feel so upset, we need four more years of President Obama 1000% certtain!\n",
      "--------------------------------------------------------------------------------\n",
      "Is #Syria Obama's trump card, or will civil nukes offer result in more futile sanctions on #Iran? http://t.co/7W5qni2S\n",
      "--------------------------------------------------------------------------------\n",
      "Obama says 2012 will be a \"fun debate\": President Barack Obama says the 2012 election will be a \"fun debate\" ove... http://t.co/OGi7SdUq\n",
      "--------------------------------------------------------------------------------\n"
     ]
    }
   ],
   "source": [
    "## SOLUTION\n",
    "\n",
    "negative = open(\"negative.txt\").read()\n",
    "negative_word_dict = {}\n",
    "\n",
    "for tweet in tweets:\n",
    "    for negative_word in negative.split('\\n')[::-1][1:]:\n",
    "        if negative_word in tweet.translate(None, punctuation).lower():\n",
    "            negative_word_dict[negative_word] = negative_word_dict.get(negative_word, 0)\n",
    "            negative_word_dict[negative_word] += 1\n",
    "\n",
    "negative_counts = [item for item in Counter(negative_word_dict).most_common(10)]\n",
    "print negative_counts\n",
    "\n",
    "counter = 0\n",
    "for tweet in tweets:\n",
    "    if negative_counts[0][0] in tweet.translate(None, punctuation).lower():\n",
    "        counter += 1\n",
    "        if counter <= 10:\n",
    "            print tweet\n",
    "            print 80*'-'\n",
    "        else:\n",
    "            break"
   ]
  },
  {
   "cell_type": "markdown",
   "metadata": {},
   "source": [
    "## What happened??"
   ]
  },
  {
   "cell_type": "markdown",
   "metadata": {},
   "source": [
    "Regular Expression <a id=\"regex\"></a>\n",
    "-----\n",
    "\n",
    "<ul>\n",
    "<li>Special sequence of characters that helps you match (**exact!**) or find other strings or sets of strings, using a specialized syntax held in a pattern\n",
    "<li>Regular expressions as a concept is not exclusive to Python at all.\n",
    "<li>Regular expressions are widely used in UNIX world.\n",
    "<li>`re` module\n",
    "        <ul>\n",
    "        <li>`re.compile()`\n",
    "        <li>`re.match()`\n",
    "        <li>`re.search()`\n",
    "        <li>`re.findall()`\n",
    "        <li>`re.sub()`\n",
    "        </ul>\n",
    "<li>In python, regular expressions tend to be **very slow**. So only use if necessary.\n",
    "</ul>"
   ]
  },
  {
   "cell_type": "code",
   "execution_count": 42,
   "metadata": {
    "collapsed": true
   },
   "outputs": [],
   "source": [
    "from re import match, search, findall, compile, sub"
   ]
  },
  {
   "cell_type": "code",
   "execution_count": 43,
   "metadata": {
    "collapsed": false
   },
   "outputs": [
    {
     "name": "stdout",
     "output_type": "stream",
     "text": [
      "This is a\n",
      "normal string with a newline and \ttab character\n",
      "+++++++++++++++++\n",
      "and this is a\\nraw string which can be used to search for \\tpatterns\n"
     ]
    }
   ],
   "source": [
    "# python treats / as an escape character. So \"/n\" is a newline object, not a literal '/n'\n",
    "# to de-pythonify a string, add r' to the front - this makes it a raw string\n",
    "\n",
    "string = 'This is a\\nnormal string with a newline and \\ttab character'\n",
    "rawString = r'and this is a\\nraw string which can be used to search for \\tpatterns'\n",
    "print string\n",
    "print \"+++++++++++++++++\"\n",
    "print rawString"
   ]
  },
  {
   "cell_type": "markdown",
   "metadata": {},
   "source": [
    "#### `match` - only find matches if they occur at the start of the string being searched."
   ]
  },
  {
   "cell_type": "code",
   "execution_count": 44,
   "metadata": {
    "collapsed": true
   },
   "outputs": [],
   "source": [
    "test_string = \"I'm learning about regular expressions and about how to use them in Python. This is fantastic stuff!\""
   ]
  },
  {
   "cell_type": "code",
   "execution_count": 45,
   "metadata": {
    "collapsed": false
   },
   "outputs": [
    {
     "name": "stdout",
     "output_type": "stream",
     "text": [
      "<_sre.SRE_Match object at 0x103584098>\n",
      "I'm\n"
     ]
    }
   ],
   "source": [
    "match_pattern = match(\"I'm\", test_string) # return pattern matched by query\n",
    "print match_pattern\n",
    "print match_pattern.group()"
   ]
  },
  {
   "cell_type": "code",
   "execution_count": 46,
   "metadata": {
    "collapsed": false
   },
   "outputs": [
    {
     "name": "stdout",
     "output_type": "stream",
     "text": [
      "None\n"
     ]
    }
   ],
   "source": [
    "print match(\"about\", test_string)"
   ]
  },
  {
   "cell_type": "markdown",
   "metadata": {
    "collapsed": true
   },
   "source": [
    "#### `search` - similar to `match`, but `search` doesn’t restrict us to only finding matches at the beginning of the string. But will only return the first result"
   ]
  },
  {
   "cell_type": "code",
   "execution_count": 47,
   "metadata": {
    "collapsed": false
   },
   "outputs": [
    {
     "name": "stdout",
     "output_type": "stream",
     "text": [
      "<_sre.SRE_Match object at 0x1035841d0>\n"
     ]
    },
    {
     "data": {
      "text/plain": [
       "'about'"
      ]
     },
     "execution_count": 47,
     "metadata": {},
     "output_type": "execute_result"
    }
   ],
   "source": [
    "search_pattern = search('about', test_string)\n",
    "print search_pattern\n",
    "search_pattern.group()"
   ]
  },
  {
   "cell_type": "markdown",
   "metadata": {
    "collapsed": true
   },
   "source": [
    "#### `findall` - get a list of all matching patterns"
   ]
  },
  {
   "cell_type": "code",
   "execution_count": 48,
   "metadata": {
    "collapsed": false
   },
   "outputs": [
    {
     "data": {
      "text/plain": [
       "['about', 'about']"
      ]
     },
     "execution_count": 48,
     "metadata": {},
     "output_type": "execute_result"
    }
   ],
   "source": [
    "findall('about',test_string)"
   ]
  },
  {
   "cell_type": "code",
   "execution_count": 49,
   "metadata": {
    "collapsed": false
   },
   "outputs": [
    {
     "data": {
      "text/plain": [
       "['an', 'an']"
      ]
     },
     "execution_count": 49,
     "metadata": {},
     "output_type": "execute_result"
    }
   ],
   "source": [
    "findall('an',test_string)  # no good"
   ]
  },
  {
   "cell_type": "code",
   "execution_count": 50,
   "metadata": {
    "collapsed": false
   },
   "outputs": [
    {
     "data": {
      "text/plain": [
       "[]"
      ]
     },
     "execution_count": 50,
     "metadata": {},
     "output_type": "execute_result"
    }
   ],
   "source": [
    "findall(' an ',test_string)  # kinda hacky"
   ]
  },
  {
   "cell_type": "code",
   "execution_count": 51,
   "metadata": {
    "collapsed": false
   },
   "outputs": [
    {
     "data": {
      "text/plain": [
       "['about', 'about']"
      ]
     },
     "execution_count": 51,
     "metadata": {},
     "output_type": "execute_result"
    }
   ],
   "source": [
    "word = 'about'\n",
    "findall(r'\\b' + word + r'\\b', test_string)  # better"
   ]
  },
  {
   "cell_type": "code",
   "execution_count": 52,
   "metadata": {
    "collapsed": false
   },
   "outputs": [
    {
     "data": {
      "text/plain": [
       "2"
      ]
     },
     "execution_count": 52,
     "metadata": {},
     "output_type": "execute_result"
    }
   ],
   "source": [
    "word = 'about'\n",
    "test_string.count(word)  # count() is ok for simple searches"
   ]
  },
  {
   "cell_type": "markdown",
   "metadata": {},
   "source": [
    "#### Use `compile` to create regular expressions that you can then `search`, `findall`, `match`, ..."
   ]
  },
  {
   "cell_type": "code",
   "execution_count": 53,
   "metadata": {
    "collapsed": false
   },
   "outputs": [
    {
     "name": "stdout",
     "output_type": "stream",
     "text": [
      "['about', 'about']\n"
     ]
    }
   ],
   "source": [
    "word = 'about'\n",
    "expr = compile(r'\\b' + word + r'\\b')  # can get complex\n",
    "print findall(expr, test_string)"
   ]
  },
  {
   "cell_type": "markdown",
   "metadata": {},
   "source": [
    "++++++++++++++++++++++++++++++++++++++++++++++++++++++++++++++++++++++++++++++++++++++++++++++++++++++++++++++++++++++++"
   ]
  },
  {
   "cell_type": "markdown",
   "metadata": {},
   "source": [
    "## EXERCISE TIME!"
   ]
  },
  {
   "cell_type": "markdown",
   "metadata": {},
   "source": [
    "Redo the negative tweet exercise from above to perform exact matching. That is:<br>\n",
    "\n",
    "1) Using negative, find the 10 most common negative words in the tweets. Comment on any interesting observations.<br>\n",
    "2) For the most common negative word, print 10 tweets that contain it. Comment on any interesting observations."
   ]
  },
  {
   "cell_type": "code",
   "execution_count": 54,
   "metadata": {
    "collapsed": false
   },
   "outputs": [
    {
     "name": "stdout",
     "output_type": "stream",
     "text": [
      "[('need', 52), ('bully', 32), ('racist', 24), ('dumb', 20), ('war', 20), ('rumors', 20), ('against', 14), ('trying', 13), ('down', 12), ('blame', 12)]\n",
      "@JoeSixpackSays Our Troops NEED TO COME HOME !!!! BRING OUR TROOPS HOME NOW OBAMA YOU BASTARD OOOORAH SEMPER FI\n",
      "--------------------------------------------------------------------------------\n",
      "@billmaher Mr Maher I just seen the HBO documentary hot coffee.I feel so upset, we need four more years of President Obama 1000% certtain!\n",
      "--------------------------------------------------------------------------------\n",
      "@WilliamShatner  I just seen the HBO documentary hot coffee.I feel so upset, we need four more years of President Obama 1000% certtain!!!\n",
      "--------------------------------------------------------------------------------\n",
      "RT @BelleInABow: Obama doesn't need to be your favorite person, but he's still the President of the United States of America. That always deserves respect.\n",
      "--------------------------------------------------------------------------------\n",
      "@maddow Rachel I just seen the HBO documentary hot coffee.I feel so upset, we need four more years of President Obama 1000% certtain!\n",
      "--------------------------------------------------------------------------------\n",
      "@DavidCornDC Mr Corn I just seen the HBO documentary hot coffee.I feel so upset, we need four more years of President Obama 1000% certtain!\n",
      "--------------------------------------------------------------------------------\n",
      "Obama to all black Americans: I REALLY need you this time! Whitey won't be fooled twice!!   http://t.co/f8b7HLaf  #TREASON\n",
      "--------------------------------------------------------------------------------\n",
      "@KatrinaNation Katrina I just seen the HBO documentary hot coffee.I feel so upset, we need four more years of President Obama 1000% certtain\n",
      "--------------------------------------------------------------------------------\n",
      "RT @BelleInABow: Obama doesn't need to be your favorite person, but he's still the President of the United States of America. That always deserves respect.\n",
      "--------------------------------------------------------------------------------\n",
      "RT @CArepub: We need to tag Obama & define him for Nov battle. #Obama #failedleader #incompetent #wasteful #divisive #desperate #flexible #arrogant #lazy\n",
      "--------------------------------------------------------------------------------\n"
     ]
    }
   ],
   "source": [
    "## SOLUTION\n",
    "\n",
    "negative = open(\"negative.txt\").read()\n",
    "negative_word_dict = {}\n",
    "\n",
    "for tweet in tweets:\n",
    "    for negative_word in negative.split('\\n')[::-1][1:]:  # Since the last item is a ' ', reverse the list and skip it\n",
    "     \n",
    "    #    Note that you could also use count() - this is much faster\n",
    "        num_occurence = tweet.translate(None, punctuation).lower().count(' ' + negative_word + ' ')\n",
    "    \n",
    "        # Unlike the previos exercise - here we increment the dictionary by the number of occurences, \n",
    "        # not just 1 for each occurence\n",
    "    #    num_occurence = len(findall(r'\\b' + negative_word + r'\\b', tweet.translate(None, punctuation).lower()))\n",
    "        \n",
    "        if num_occurence > 0:\n",
    "            negative_word_dict[negative_word] = negative_word_dict.get(negative_word, 0)\n",
    "            negative_word_dict[negative_word] += num_occurence\n",
    "\n",
    "most_negative = [item for item in Counter(negative_word_dict).most_common(10)]\n",
    "print most_negative\n",
    "\n",
    "counter = 0\n",
    "# store most negative word as a regular expression\n",
    "regex = compile(r'\\s' + most_negative[0][0] + '\\s')\n",
    "\n",
    "for tweet in tweets:\n",
    "    # search returns a true or false\n",
    "    if search(regex, tweet.translate(None, punctuation).lower()):\n",
    "        counter += 1\n",
    "        if counter <= 10:\n",
    "            print tweet\n",
    "            print 80*'-'   # add dashed line for easier reading\n",
    "        else:\n",
    "            break"
   ]
  },
  {
   "cell_type": "markdown",
   "metadata": {},
   "source": [
    "++++++++++++++++++++++++++++++++++++++++++++++++++++++++++++++++++++++++++++++++++++++++++++++++++++++++++++++++++++++++"
   ]
  },
  {
   "cell_type": "markdown",
   "metadata": {},
   "source": [
    "# What is the distribution of negative word occurrence?"
   ]
  },
  {
   "cell_type": "code",
   "execution_count": 55,
   "metadata": {
    "collapsed": false
   },
   "outputs": [],
   "source": [
    "import numpy as np\n",
    "import matplotlib.pyplot as plt\n",
    "import pandas as pd\n",
    "import seaborn as sns\n",
    "%matplotlib inline"
   ]
  },
  {
   "cell_type": "code",
   "execution_count": 56,
   "metadata": {
    "collapsed": false
   },
   "outputs": [
    {
     "data": {
      "image/png": "[encoded data removed]",
      "text/plain": [
       "<matplotlib.figure.Figure at 0x102519390>"
      ]
     },
     "metadata": {},
     "output_type": "display_data"
    }
   ],
   "source": [
    "df = pd.DataFrame.from_dict(negative_word_dict,orient = 'index')\n",
    "df.columns = ['num']\n",
    "df.sort_values(by = ['num'], inplace = True, ascending = False)\n",
    "\n",
    "plt.figure(figsize=(18,8))\n",
    "plt.plot(df.num.values[:40],linewidth=2)\n",
    "plt.xticks(range(len(df.index.values))[:40], df.index.values[:40],rotation=35)\n",
    "plt.title(\"Top 40 negative word occurrence\",size=16)\n",
    "plt.ylabel(\"Frequency\",size=14)\n",
    "plt.xlabel(\"Negative words\",size=14)\n",
    "pass"
   ]
  },
  {
   "cell_type": "markdown",
   "metadata": {},
   "source": [
    "## n-grams\n",
    "\n",
    "<ul>\n",
    "<li>Single word counts is ok, but for richer text analysis might want combinations of words\n",
    "<li>bi-grams, tri-grams, ..., n-grams\n",
    "</ul>"
   ]
  },
  {
   "cell_type": "code",
   "execution_count": 38,
   "metadata": {
    "collapsed": false
   },
   "outputs": [],
   "source": [
    "# example of bi grams of first tweet\n",
    "\n",
    "tweet = tweets[0].split(' ')\n",
    "bigrams = []\n",
    "\n",
    "for i in range(len(tweet)-1): # need to stop 1 element before the end\n",
    "    bigrams.append((tweet[i], tweet[i+1]))"
   ]
  },
  {
   "cell_type": "code",
   "execution_count": 39,
   "metadata": {
    "collapsed": false
   },
   "outputs": [
    {
     "data": {
      "text/plain": [
       "[('Obama', 'has'),\n",
       " ('has', 'called'),\n",
       " ('called', 'the'),\n",
       " ('the', 'GOP'),\n",
       " ('GOP', 'budget'),\n",
       " ('budget', 'social'),\n",
       " ('social', 'Darwinism.'),\n",
       " ('Darwinism.', 'Nice'),\n",
       " ('Nice', 'try,'),\n",
       " ('try,', 'but'),\n",
       " ('but', 'they'),\n",
       " ('they', 'believe'),\n",
       " ('believe', 'in'),\n",
       " ('in', 'social'),\n",
       " ('social', 'creationism.')]"
      ]
     },
     "execution_count": 39,
     "metadata": {},
     "output_type": "execute_result"
    }
   ],
   "source": [
    "bigrams"
   ]
  },
  {
   "cell_type": "code",
   "execution_count": 40,
   "metadata": {
    "collapsed": false
   },
   "outputs": [],
   "source": [
    "# example of trigrams of first tweet\n",
    "\n",
    "tweet = tweets[0].split(' ')\n",
    "trigrams = []\n",
    "\n",
    "for i in range(len(tweet)-2):\n",
    "    trigrams.append((tweet[i], tweet[i+1], tweet[i+2]))"
   ]
  },
  {
   "cell_type": "code",
   "execution_count": 41,
   "metadata": {
    "collapsed": false
   },
   "outputs": [
    {
     "data": {
      "text/plain": [
       "[('Obama', 'has', 'called'),\n",
       " ('has', 'called', 'the'),\n",
       " ('called', 'the', 'GOP'),\n",
       " ('the', 'GOP', 'budget'),\n",
       " ('GOP', 'budget', 'social'),\n",
       " ('budget', 'social', 'Darwinism.'),\n",
       " ('social', 'Darwinism.', 'Nice'),\n",
       " ('Darwinism.', 'Nice', 'try,'),\n",
       " ('Nice', 'try,', 'but'),\n",
       " ('try,', 'but', 'they'),\n",
       " ('but', 'they', 'believe'),\n",
       " ('they', 'believe', 'in'),\n",
       " ('believe', 'in', 'social'),\n",
       " ('in', 'social', 'creationism.')]"
      ]
     },
     "execution_count": 41,
     "metadata": {},
     "output_type": "execute_result"
    }
   ],
   "source": [
    "trigrams"
   ]
  },
  {
   "cell_type": "markdown",
   "metadata": {},
   "source": [
    "+++++++++++++++++++++++++++++++++++++++++++++++++++++++++++++++++++++++++++++++++++++++++++++++++++++++"
   ]
  },
  {
   "cell_type": "markdown",
   "metadata": {},
   "source": [
    "## EXERCISE TIME\n",
    "\n",
    "1. Write your own bigram function. Do this without using a for loop\n",
    "2. Do the same for tri grams."
   ]
  },
  {
   "cell_type": "markdown",
   "metadata": {},
   "source": [
    "+++++++++++++++++++++++++++++++++++++++++++++++++++++++++++++++++++++++++++++++++++++++++++++++++++++++"
   ]
  },
  {
   "cell_type": "code",
   "execution_count": 62,
   "metadata": {
    "collapsed": false
   },
   "outputs": [
    {
     "name": "stdout",
     "output_type": "stream",
     "text": [
      "[('Obama', 'has'), ('has', 'called'), ('called', 'the'), ('the', 'GOP'), ('GOP', 'budget'), ('budget', 'social'), ('social', 'Darwinism.'), ('Darwinism.', 'Nice'), ('Nice', 'try,'), ('try,', 'but'), ('but', 'they'), ('they', 'believe'), ('believe', 'in'), ('in', 'social'), ('social', 'creationism.')]\n",
      "\n",
      "[('Obama', 'has', 'called'), ('has', 'called', 'the'), ('called', 'the', 'GOP'), ('the', 'GOP', 'budget'), ('GOP', 'budget', 'social'), ('budget', 'social', 'Darwinism.'), ('social', 'Darwinism.', 'Nice'), ('Darwinism.', 'Nice', 'try,'), ('Nice', 'try,', 'but'), ('try,', 'but', 'they'), ('but', 'they', 'believe'), ('they', 'believe', 'in'), ('believe', 'in', 'social'), ('in', 'social', 'creationism.')]\n"
     ]
    }
   ],
   "source": [
    "## SOLUTION\n",
    "\n",
    "\n",
    "def bigrams(twt):\n",
    "    return zip(twt, twt[1:])\n",
    "\n",
    "print bigrams(tweet)\n",
    "print\n",
    "\n",
    "def trigrams(twt):\n",
    "    return zip(twt, twt[1:], twt[2:])\n",
    "\n",
    "print trigrams(tweet)"
   ]
  },
  {
   "cell_type": "markdown",
   "metadata": {},
   "source": [
    "Homework<a id=\"hmwk\"></a>\n",
    "===="
   ]
  },
  {
   "cell_type": "markdown",
   "metadata": {},
   "source": [
    "**Q1**.\n",
    "\n",
    "Write a function to remove vowels from a string. Stick to base python only."
   ]
  },
  {
   "cell_type": "code",
   "execution_count": 57,
   "metadata": {
    "collapsed": false
   },
   "outputs": [
    {
     "data": {
      "text/plain": [
       "'Ths sntnc hs n vwls. Cry cry!'"
      ]
     },
     "execution_count": 57,
     "metadata": {},
     "output_type": "execute_result"
    }
   ],
   "source": [
    "## SOLUTION\n",
    "\n",
    "def remove_vowels(s):\n",
    "    vowels = \"aeiouAEIOU\"\n",
    "    s_without_vowels = \"\"\n",
    "    for letter in s:\n",
    "        if letter not in vowels:\n",
    "            s_without_vowels += letter\n",
    "    return s_without_vowels\n",
    "\n",
    "remove_vowels('This sentence has no vowels. Cray cray!')"
   ]
  },
  {
   "cell_type": "markdown",
   "metadata": {},
   "source": [
    "#### Q2. \n",
    "For the next few questions, read in `Through the Looking glass` from Project Gutenberg (`pg12.txt`). "
   ]
  },
  {
   "cell_type": "code",
   "execution_count": 58,
   "metadata": {
    "collapsed": false
   },
   "outputs": [
    {
     "name": "stdout",
     "output_type": "stream",
     "text": [
      "  % Total    % Received % Xferd  Average Speed   Time    Time     Time  Current\n",
      "                                 Dload  Upload   Total   Spent    Left  Speed\n",
      "100  181k  100  181k    0     0   255k      0 --:--:-- --:--:-- --:--:--  255k\n",
      "<html>\n",
      "<head><title>301 Moved Permanently</title></head>\n",
      "<body bgcolor=\"white\">\n",
      "<center><h1>301 Moved Permanently</h1></center>\n",
      "<hr><center>nginx</center>\n",
      "</body>\n",
      "</html>\n"
     ]
    }
   ],
   "source": [
    "import os\n",
    "\n",
    "if not os.path.exists('alice.txt'):\n",
    "    ! curl http://www.gutenberg.org/cache/epub/12/pg12.txt -O alice.txt        "
   ]
  },
  {
   "cell_type": "code",
   "execution_count": 59,
   "metadata": {
    "collapsed": true
   },
   "outputs": [],
   "source": [
    "poem = open('pg12.txt').read()  # read in file"
   ]
  },
  {
   "cell_type": "markdown",
   "metadata": {},
   "source": [
    "**A)**. Print the subset starting from `'JABBERWOCKY'` and ending with `'It seems very pretty.'`"
   ]
  },
  {
   "cell_type": "code",
   "execution_count": 61,
   "metadata": {
    "collapsed": false
   },
   "outputs": [
    {
     "ename": "NameError",
     "evalue": "name 'end' is not defined",
     "output_type": "error",
     "traceback": [
      "\u001b[0;31m---------------------------------------------------------------------------\u001b[0m",
      "\u001b[0;31mNameError\u001b[0m                                 Traceback (most recent call last)",
      "\u001b[0;32m<ipython-input-61-6689365c1f24>\u001b[0m in \u001b[0;36m<module>\u001b[0;34m()\u001b[0m\n\u001b[1;32m      1\u001b[0m \u001b[0mstart\u001b[0m \u001b[0;34m=\u001b[0m \u001b[0mpoem\u001b[0m\u001b[0;34m.\u001b[0m\u001b[0mfind\u001b[0m\u001b[0;34m(\u001b[0m\u001b[0;34m'JABBERWOCKY'\u001b[0m\u001b[0;34m)\u001b[0m\u001b[0;34m\u001b[0m\u001b[0m\n\u001b[0;32m----> 2\u001b[0;31m \u001b[0mend\u001b[0m \u001b[0;34m=\u001b[0m \u001b[0mpoem\u001b[0m\u001b[0;34m.\u001b[0m\u001b[0mfind\u001b[0m\u001b[0;34m(\u001b[0m\u001b[0;34m'It seems very pretty'\u001b[0m\u001b[0;34m,\u001b[0m \u001b[0mstart\u001b[0m\u001b[0;34m,\u001b[0m \u001b[0mend\u001b[0m\u001b[0;34m)\u001b[0m\u001b[0;34m\u001b[0m\u001b[0m\n\u001b[0m\u001b[1;32m      3\u001b[0m \u001b[0mpoem\u001b[0m \u001b[0;34m=\u001b[0m \u001b[0mpoem\u001b[0m\u001b[0;34m[\u001b[0m\u001b[0mstart\u001b[0m\u001b[0;34m:\u001b[0m\u001b[0mend\u001b[0m \u001b[0;34m-\u001b[0m \u001b[0;36m1\u001b[0m\u001b[0;34m]\u001b[0m\u001b[0;34m\u001b[0m\u001b[0m\n",
      "\u001b[0;31mNameError\u001b[0m: name 'end' is not defined"
     ]
    }
   ],
   "source": [
    "start = poem.find('JABBERWOCKY')\n",
    "end = poem.find('It seems very pretty', start, end)\n",
    "poem = poem[start:end - 1]"
   ]
  },
  {
   "cell_type": "code",
   "execution_count": null,
   "metadata": {
    "collapsed": false
   },
   "outputs": [],
   "source": [
    "print poem"
   ]
  },
  {
   "cell_type": "markdown",
   "metadata": {},
   "source": [
    "**B)**. Print all *distinct* palindromic words, if any. Remember to 'standardize' first."
   ]
  },
  {
   "cell_type": "code",
   "execution_count": null,
   "metadata": {
    "collapsed": false
   },
   "outputs": [],
   "source": [
    "## SOLUTION\n",
    "\n",
    "import string\n",
    "poem = poem.lower()\n",
    "poem = poem.translate(None, string.punctuation)\n",
    "words = poem.split()\n",
    "\n",
    "def is_palindrome(word):\n",
    "    return word == word[::-1] \n",
    "\n",
    "print set(word for word in words if is_palindrome(word))"
   ]
  },
  {
   "cell_type": "markdown",
   "metadata": {},
   "source": [
    "**C)**. Find all possible sequences of 3 words in the poem. This is called a trigram. (Hint: use `zip` or `islice` from `itertools`)"
   ]
  },
  {
   "cell_type": "code",
   "execution_count": null,
   "metadata": {
    "collapsed": false
   },
   "outputs": [],
   "source": [
    "## SOLUTION 1\n",
    "list(zip(words[:-2], words[1:-1], words[2:]))[:10]"
   ]
  },
  {
   "cell_type": "code",
   "execution_count": null,
   "metadata": {
    "collapsed": false
   },
   "outputs": [],
   "source": [
    "## SOLUTION 2\n",
    "import itertools\n",
    "\n",
    "def window(x, n):\n",
    "    \"\"\"Sliding widnow of size n from iterable x.\"\"\"\n",
    "    s = (itertools.islice(x, i, None) for i in range(n))\n",
    "    return zip(*s)\n",
    "\n",
    "list(window(words, 3))[:10]"
   ]
  },
  {
   "cell_type": "markdown",
   "metadata": {},
   "source": [
    "**Q3**.\n",
    "\n",
    "Plot a similar distribution for the positive word count. The differences are:\n",
    "\n",
    "<ul>\n",
    "<li>Plot top 30 positive words only\n",
    "<li>Change the figure size\n",
    "<li>Change the rotation of the xticks\n",
    "<li>Change the linewidth and color\n",
    "</ul>\n",
    "\n",
    "Feel free to use the existing code as a template.<br>\n",
    "\n",
    "As an extra challenge, instead of plotting the count of each positive word in ascending order, plot the cumulative count of the positive words, as a % of the total count of positive words, for the first 30. Your chart should look something like this:\n",
    "\n",
    "<img id=\"cumulative\" src=\"cumulative.png\"/>\n",
    "\n",
    "\n"
   ]
  },
  {
   "cell_type": "code",
   "execution_count": null,
   "metadata": {
    "collapsed": false
   },
   "outputs": [],
   "source": [
    "## SOLUTION\n",
    "\n",
    "df = pd.DataFrame.from_dict(positive_word_dict,orient = 'index')\n",
    "df.columns = ['num']\n",
    "df.sort_values(by = ['num'], inplace = True, ascending = False)\n",
    "\n",
    "plt.figure(figsize=(10,4))\n",
    "plt.plot(df.num.values[:30],linewidth=3,color='red')\n",
    "plt.xticks(range(len(df.index.values))[:30], df.index.values[:30],rotation=35)\n",
    "plt.title(\"Top 30 positive word occurrence\",size=16)\n",
    "plt.ylabel(\"Frequency\",size=14)\n",
    "plt.xlabel(\"Positive words\",size=14)\n",
    "pass"
   ]
  },
  {
   "cell_type": "code",
   "execution_count": null,
   "metadata": {
    "collapsed": false
   },
   "outputs": [],
   "source": [
    "df = pd.DataFrame.from_dict(positive_word_dict,orient = 'index')\n",
    "df.columns = ['num']\n",
    "df.sort_values(by = ['num'], inplace = True, ascending = False)\n",
    "\n",
    "df['cumulative_proportion'] = np.cumsum(df.num).values/sum(df.num.values)\n",
    "\n",
    "plt.figure(figsize=(10,4))\n",
    "plt.plot(df['cumulative_proportion'].values[:30],linewidth=3,color='red')\n",
    "plt.xticks(range(len(df.index.values))[:30], df.index.values[:30],rotation=35)\n",
    "plt.title(\"Top 30 positive word occurrence\",size=16)\n",
    "plt.ylabel(\"Frequency\",size=14)\n",
    "plt.xlabel(\"Positive words\",size=14)\n",
    "pass"
   ]
  },
  {
   "cell_type": "markdown",
   "metadata": {},
   "source": [
    "# BONUS QUESTION!\n",
    "\n",
    "**Q1**. Encode and decode `Through the Looking Glass` using a [Caesar cipher](https://en.wikipedia.org/wiki/Caesar_cipher) <br>\n",
    "\n",
    "Hint: create a function `encode(poem, shift)` where `shift` is the number of characters used to encode the cipher. It should return the encoded poem. Can you also use this function to return the decoded cipher? Check out the `maketrans` function in `string`"
   ]
  },
  {
   "cell_type": "code",
   "execution_count": null,
   "metadata": {
    "collapsed": false
   },
   "outputs": [],
   "source": [
    "## SOLUTION\n",
    "import string\n",
    "\n",
    "def encode(poem, shift):\n",
    "    \n",
    "    shifted_alphabet = string.ascii_lowercase[shift:] + string.ascii_lowercase[:shift]\n",
    "    table = string.maketrans(string.ascii_lowercase, shifted_alphabet)\n",
    "    \n",
    "    return poem.translate(table)"
   ]
  },
  {
   "cell_type": "code",
   "execution_count": null,
   "metadata": {
    "collapsed": false
   },
   "outputs": [],
   "source": [
    "# Encode\n",
    "\n",
    "cipher = encode(poem, 2)\n",
    "print(cipher)"
   ]
  },
  {
   "cell_type": "code",
   "execution_count": null,
   "metadata": {
    "collapsed": false
   },
   "outputs": [],
   "source": [
    "# Decode\n",
    "\n",
    "recovered = encode(cipher, -2)\n",
    "print(recovered)"
   ]
  }
 ],
 "metadata": {
  "kernelspec": {
   "display_name": "Python 2",
   "language": "python",
   "name": "python2"
  },
  "language_info": {
   "codemirror_mode": {
    "name": "ipython",
    "version": 2
   },
   "file_extension": ".py",
   "mimetype": "text/x-python",
   "name": "python",
   "nbconvert_exporter": "python",
   "pygments_lexer": "ipython2",
   "version": "2.7.10"
  }
 },
 "nbformat": 4,
 "nbformat_minor": 0
}
