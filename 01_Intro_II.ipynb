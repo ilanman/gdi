{
 "cells": [
  {
   "cell_type": "markdown",
   "metadata": {},
   "source": [
    "Introduction to Python for Data Science\n",
    "====\n",
    "0. [Overview](#overview)\n",
    "1. [Review](#review)\n",
    "2. [List, Tuples, etc...](#arrays)\n",
    "3. [Control Structures](#ctrl)\n",
    "4. [List comprehension](#compr)\n",
    "5. [Review Problems](#hmwk)"
   ]
  },
  {
   "cell_type": "markdown",
   "metadata": {},
   "source": [
    "# WHOAMI?\n",
    "\n",
    "<ul>\n",
    "<li>Ilan, Ai, Squarespace, Duke\n",
    "<li>TAis: Paul and Nick, Ai\n",
    "</ul>"
   ]
  },
  {
   "cell_type": "markdown",
   "metadata": {},
   "source": [
    "# WHOAREYOU?\n",
    "\n",
    "<ul>\n",
    "<li>Names\n",
    "<li>Programming experience\n",
    "<li>Why are you here\n",
    "<li>Favoriate band | restaurant (in Durham) | hometown (if not Durham)\n",
    "</ul>"
   ]
  },
  {
   "cell_type": "markdown",
   "metadata": {},
   "source": [
    "# COURSE OVERVIEW <a id='overview'></a>\n",
    "\n",
    "<ul>\n",
    "<li>Will be using notebooks to review concepts\n",
    "<ul>\n",
    "<li>Ask questions\n",
    "<li>**Don't worry about memorizing or understanding everything the first time** - takes a while to sink in\n",
    "<li>Do the in class exercises - collaborate!\n",
    "</ul>\n",
    "<li>Try the at home exercises - don't be discouraged if they take a while or you don't get it right away\n",
    "<ul>\n",
    "<li>Feel free to email me with questions\n",
    "<li>If you want more - let me know and I'll provide more!\n",
    "</ul>\n",
    "<li>Syllabus is tentative - based on class flow\n",
    "</ul>"
   ]
  },
  {
   "cell_type": "markdown",
   "metadata": {},
   "source": [
    "### Jupyter\n",
    "\n",
    "<ul>\n",
    "<li>Interative notebook\n",
    "<ul>\n",
    "<li>Write code in cells and run to see output. Cells communicate - values are carried forward.\n",
    "<li>Can also insert markdown or $\\LaTeX$, i.e. $y = \\beta_0 + \\beta_1 x + \\beta_2x^2$\n",
    "<li>Can also insert images, etc..\n",
    "</ul>\n",
    "<li>Makes for easy prototyping\n",
    "<li>Quick visualizations\n",
    "<li>Shareable, live code\n",
    "<li><a href=\"https://ipython.org/\">IPython</a> is the Python *kernel* for Jupyter - but there is a Ruby kernel, Julia, ...\n",
    "<li>...but can promote bad code practice, not used for production\n",
    "<li>Spend time getting to know the notebook. Shortcuts, etc...\n",
    "</ul>"
   ]
  },
  {
   "cell_type": "markdown",
   "metadata": {},
   "source": [
    "Review pre work <a id='review'></a>\n",
    "======\n",
    "\n",
    "<ul>\n",
    "<li>Variables\n",
    "<li>Boolean logic\n",
    "<li>Operators\n",
    "<li>`if` statement\n",
    "<li>Built-in functions\n",
    "</ul>"
   ]
  },
  {
   "cell_type": "markdown",
   "metadata": {},
   "source": [
    "**Q1**.\n",
    "<br>\n",
    "\n",
    "Without using Python, what's the following output?\n",
    "\n",
    "<ol>\n",
    "<li>`not (1 == 1 and 0 != 1)`\n",
    "<li>`3 == 3 and (not (\"testing\" == \"testing\" or \"Python\" == \"Fun\"))`\n",
    "<li>`20 == ((20 % 3) ** 2 + 1) * (9//2)`\n",
    "</ol>\n"
   ]
  },
  {
   "cell_type": "code",
   "execution_count": 9,
   "metadata": {
    "collapsed": false
   },
   "outputs": [
    {
     "data": {
      "text/plain": [
       "True"
      ]
     },
     "execution_count": 9,
     "metadata": {},
     "output_type": "execute_result"
    }
   ],
   "source": [
    "## SOLUTION\n",
    "\n",
    "False\n",
    "False\n",
    "True"
   ]
  },
  {
   "cell_type": "markdown",
   "metadata": {},
   "source": [
    "**Q2**.\n",
    "<br>\n",
    "\n",
    "For the following string, replace every occurrence of the first character with #, except for the first character. So:\n",
    "\n",
    "`'this is a sentence that starts with the letter t'`\n",
    "\n",
    "Becomes\n",
    "\n",
    "`'this is a sen#ence #ha# s#ar#s wi#h #he le##er #'`\n"
   ]
  },
  {
   "cell_type": "code",
   "execution_count": 10,
   "metadata": {
    "collapsed": false
   },
   "outputs": [
    {
     "data": {
      "text/plain": [
       "'this is a sen#ence #ha# s#ar#s wi#h #he le##er #'"
      ]
     },
     "execution_count": 10,
     "metadata": {},
     "output_type": "execute_result"
    }
   ],
   "source": [
    "## SOLUTION\n",
    "\n",
    "s = 'this is a sentence that starts with the letter t'\n",
    "char = s[0]  \n",
    "s = s.replace(char, '#')  \n",
    "s = char + s[1:] \n",
    "s"
   ]
  },
  {
   "cell_type": "markdown",
   "metadata": {},
   "source": [
    "**Q3**.\n",
    "\n",
    "Write a program that prints, to the console, a list of 2 integers and 1 string. Do this:\n",
    "\n",
    "<ol>\n",
    "<li>Using the `format` function\n",
    "<li>Not using `format`\n",
    "</ol>\n",
    "\n",
    "For example:\n",
    "\n",
    "`[2,'s',4]`\n",
    "\n",
    "Each of the three elements should be a variable, not hardcoded. Make sure the spacing is as shown above."
   ]
  },
  {
   "cell_type": "code",
   "execution_count": 35,
   "metadata": {
    "collapsed": false
   },
   "outputs": [
    {
     "name": "stdout",
     "output_type": "stream",
     "text": [
      "Using format:     [2,s,4]\n",
      "Not using format: [2,s,4]\n"
     ]
    }
   ],
   "source": [
    "## SOLUTION\n",
    "\n",
    "a = 2\n",
    "b = 's'\n",
    "c = 4\n",
    "\n",
    "print \"Using format:\", \"    [{},{},{}]\".format(a,b,c)\n",
    "print \"Not using format:\", \"[\" + str(a) + \",\" + str(b) + \",\" + str(c) + \"]\" "
   ]
  },
  {
   "cell_type": "markdown",
   "metadata": {},
   "source": [
    "**Q4**.\n",
    "<br>\n",
    "\n",
    "Write a function `power_floor(a,b)` that returns the floor of `a` to the power of `b`. \"Floor\" means \"rounded down\". i.e. `power_floor(5.5,3)` outputs `166`. "
   ]
  },
  {
   "cell_type": "code",
   "execution_count": 58,
   "metadata": {
    "collapsed": false
   },
   "outputs": [
    {
     "data": {
      "text/plain": [
       "166"
      ]
     },
     "execution_count": 58,
     "metadata": {},
     "output_type": "execute_result"
    }
   ],
   "source": [
    "## SOLUTION\n",
    "\n",
    "def power(a,b):\n",
    "#    return round(a**b,0)\n",
    "    return int(a**b)\n",
    "\n",
    "power(5.5,3)"
   ]
  },
  {
   "cell_type": "markdown",
   "metadata": {},
   "source": [
    "Tuples <a id='arrays'></a>\n",
    "======\n",
    "<ul>\n",
    "<li>Array of values\n",
    "<li>Different data types allowed\n",
    "<li>Order matters\n",
    "<li>Immutable - cannot change its value\n",
    "<li>Tuple structure important - the position of its elements matters\n",
    "</ul>\n",
    "\n",
    "Tuples (generally) are sequences of different kinds of stuff, and you deal with the tuple as a **coherent unit**."
   ]
  },
  {
   "cell_type": "code",
   "execution_count": 60,
   "metadata": {
    "collapsed": false,
    "scrolled": true
   },
   "outputs": [
    {
     "name": "stdout",
     "output_type": "stream",
     "text": [
      "<type 'tuple'>\n"
     ]
    }
   ],
   "source": [
    "course = ('STA663', 2016, 'Spring', 75.0) # different types\n",
    "print type(course)"
   ]
  },
  {
   "cell_type": "code",
   "execution_count": 61,
   "metadata": {
    "collapsed": false,
    "scrolled": false
   },
   "outputs": [
    {
     "data": {
      "text/plain": [
       "('STA663', 2016)"
      ]
     },
     "execution_count": 61,
     "metadata": {},
     "output_type": "execute_result"
    }
   ],
   "source": [
    "course[0], course[1] # python indexing starts at 0"
   ]
  },
  {
   "cell_type": "code",
   "execution_count": 62,
   "metadata": {
    "collapsed": false,
    "scrolled": true
   },
   "outputs": [
    {
     "data": {
      "text/plain": [
       "75.0"
      ]
     },
     "execution_count": 62,
     "metadata": {},
     "output_type": "execute_result"
    }
   ],
   "source": [
    "course[-1] # last one"
   ]
  },
  {
   "cell_type": "code",
   "execution_count": 72,
   "metadata": {
    "collapsed": false
   },
   "outputs": [
    {
     "data": {
      "text/plain": [
       "(2016, 'Spring')"
      ]
     },
     "execution_count": 72,
     "metadata": {},
     "output_type": "execute_result"
    }
   ],
   "source": [
    "course[1:3]"
   ]
  },
  {
   "cell_type": "code",
   "execution_count": 73,
   "metadata": {
    "collapsed": false,
    "scrolled": true
   },
   "outputs": [
    {
     "ename": "TypeError",
     "evalue": "'tuple' object does not support item assignment",
     "output_type": "error",
     "traceback": [
      "\u001b[0;31m---------------------------------------------------------------------------\u001b[0m",
      "\u001b[0;31mTypeError\u001b[0m                                 Traceback (most recent call last)",
      "\u001b[0;32m<ipython-input-73-fba07439d3f8>\u001b[0m in \u001b[0;36m<module>\u001b[0;34m()\u001b[0m\n\u001b[0;32m----> 1\u001b[0;31m \u001b[0mcourse\u001b[0m\u001b[0;34m[\u001b[0m\u001b[0;36m0\u001b[0m\u001b[0;34m]\u001b[0m \u001b[0;34m=\u001b[0m \u001b[0;36m3\u001b[0m\u001b[0;34m\u001b[0m\u001b[0m\n\u001b[0m",
      "\u001b[0;31mTypeError\u001b[0m: 'tuple' object does not support item assignment"
     ]
    }
   ],
   "source": [
    "course[0] = 3"
   ]
  },
  {
   "cell_type": "markdown",
   "metadata": {},
   "source": [
    "### Tuple unpacking"
   ]
  },
  {
   "cell_type": "code",
   "execution_count": 74,
   "metadata": {
    "collapsed": true,
    "scrolled": true
   },
   "outputs": [],
   "source": [
    "name, year, semester, grade = course  # must be the correct number of tuples"
   ]
  },
  {
   "cell_type": "code",
   "execution_count": 75,
   "metadata": {
    "collapsed": false,
    "scrolled": true
   },
   "outputs": [
    {
     "data": {
      "text/plain": [
       "('Spring', 'STA663')"
      ]
     },
     "execution_count": 75,
     "metadata": {},
     "output_type": "execute_result"
    }
   ],
   "source": [
    "semester, name"
   ]
  },
  {
   "cell_type": "code",
   "execution_count": 265,
   "metadata": {
    "collapsed": false,
    "scrolled": true
   },
   "outputs": [
    {
     "data": {
      "text/plain": [
       "75.0"
      ]
     },
     "execution_count": 265,
     "metadata": {},
     "output_type": "execute_result"
    }
   ],
   "source": [
    "grade"
   ]
  },
  {
   "cell_type": "code",
   "execution_count": 78,
   "metadata": {
    "collapsed": false,
    "scrolled": true
   },
   "outputs": [
    {
     "ename": "ValueError",
     "evalue": "too many values to unpack",
     "output_type": "error",
     "traceback": [
      "\u001b[0;31m---------------------------------------------------------------------------\u001b[0m",
      "\u001b[0;31mValueError\u001b[0m                                Traceback (most recent call last)",
      "\u001b[0;32m<ipython-input-78-554679e2c2f7>\u001b[0m in \u001b[0;36m<module>\u001b[0;34m()\u001b[0m\n\u001b[0;32m----> 1\u001b[0;31m \u001b[0mname\u001b[0m\u001b[0;34m,\u001b[0m \u001b[0myear\u001b[0m\u001b[0;34m,\u001b[0m \u001b[0msemester\u001b[0m \u001b[0;34m=\u001b[0m \u001b[0mcourse\u001b[0m   \u001b[0;31m# sometimes use _ for variables you don't need\u001b[0m\u001b[0;34m\u001b[0m\u001b[0m\n\u001b[0m",
      "\u001b[0;31mValueError\u001b[0m: too many values to unpack"
     ]
    }
   ],
   "source": [
    "name, year, semester = course   # sometimes use _ for variables you don't need"
   ]
  },
  {
   "cell_type": "markdown",
   "metadata": {},
   "source": [
    "Lists\n",
    "====\n",
    "<ul>\n",
    "<li>Array of elements\n",
    "<li>Elements *can be* of different types\n",
    "<li>Data can be accessed by using indexing and manipulated\n",
    "<li>Python indexing begins at 0\n",
    "<li>Lists keep the order of the elements\n",
    "<li>List of lists\n",
    "</ul>\n",
    "\n",
    "Lists (generally) are sequences of the same kind of stuff, and you deal with the items individually."
   ]
  },
  {
   "cell_type": "code",
   "execution_count": 91,
   "metadata": {
    "collapsed": false,
    "scrolled": true
   },
   "outputs": [
    {
     "name": "stdout",
     "output_type": "stream",
     "text": [
      "[0, 1, 2, 3, 4, 5]\n",
      "<type 'list'>\n"
     ]
    }
   ],
   "source": [
    "x = [0,1,2,3,4,5]\n",
    "print x\n",
    "print type(x)"
   ]
  },
  {
   "cell_type": "code",
   "execution_count": 92,
   "metadata": {
    "collapsed": false,
    "scrolled": true
   },
   "outputs": [
    {
     "data": {
      "text/plain": [
       "[1, 2, 3]"
      ]
     },
     "execution_count": 92,
     "metadata": {},
     "output_type": "execute_result"
    }
   ],
   "source": [
    "x[1:4]"
   ]
  },
  {
   "cell_type": "code",
   "execution_count": 93,
   "metadata": {
    "collapsed": false,
    "scrolled": true
   },
   "outputs": [
    {
     "name": "stdout",
     "output_type": "stream",
     "text": [
      "[0, 1, 2, 3, 4, 10]\n"
     ]
    }
   ],
   "source": [
    "x[-1] = 10\n",
    "print x"
   ]
  },
  {
   "cell_type": "code",
   "execution_count": 94,
   "metadata": {
    "collapsed": false,
    "scrolled": true
   },
   "outputs": [
    {
     "data": {
      "text/plain": [
       "[0, 2, 4]"
      ]
     },
     "execution_count": 94,
     "metadata": {},
     "output_type": "execute_result"
    }
   ],
   "source": [
    "x[::2] # every 2nd element"
   ]
  },
  {
   "cell_type": "code",
   "execution_count": 95,
   "metadata": {
    "collapsed": false,
    "scrolled": true
   },
   "outputs": [
    {
     "data": {
      "text/plain": [
       "[10, 4, 3, 2, 1, 0]"
      ]
     },
     "execution_count": 95,
     "metadata": {},
     "output_type": "execute_result"
    }
   ],
   "source": [
    "x[::-1] # reverse"
   ]
  },
  {
   "cell_type": "code",
   "execution_count": 96,
   "metadata": {
    "collapsed": false,
    "scrolled": true
   },
   "outputs": [
    {
     "data": {
      "text/plain": [
       "[0, 1, 2, 3, 4, 10, 0, 1, 2, 3, 4, 10]"
      ]
     },
     "execution_count": 96,
     "metadata": {},
     "output_type": "execute_result"
    }
   ],
   "source": [
    "x + x # append"
   ]
  },
  {
   "cell_type": "code",
   "execution_count": 97,
   "metadata": {
    "collapsed": false,
    "scrolled": true
   },
   "outputs": [
    {
     "data": {
      "text/plain": [
       "[0, 1, 2, 3, 4, 10, 0, 1, 2, 3, 4, 10, 0, 1, 2, 3, 4, 10]"
      ]
     },
     "execution_count": 97,
     "metadata": {},
     "output_type": "execute_result"
    }
   ],
   "source": [
    "x * 3"
   ]
  },
  {
   "cell_type": "code",
   "execution_count": 98,
   "metadata": {
    "collapsed": false,
    "scrolled": true
   },
   "outputs": [
    {
     "data": {
      "text/plain": [
       "[0, 1, 2, 3, 4, 10, 20]"
      ]
     },
     "execution_count": 98,
     "metadata": {},
     "output_type": "execute_result"
    }
   ],
   "source": [
    "x.append(20)   # changes value of x\n",
    "x"
   ]
  },
  {
   "cell_type": "code",
   "execution_count": 99,
   "metadata": {
    "collapsed": false,
    "scrolled": true
   },
   "outputs": [
    {
     "data": {
      "text/plain": [
       "[0, 1, 2, 3, 4, 10, 20, 3, 4, 5]"
      ]
     },
     "execution_count": 99,
     "metadata": {},
     "output_type": "execute_result"
    }
   ],
   "source": [
    "x.extend([3,4,5])\n",
    "x"
   ]
  },
  {
   "cell_type": "code",
   "execution_count": 100,
   "metadata": {
    "collapsed": false,
    "scrolled": false
   },
   "outputs": [
    {
     "data": {
      "text/plain": [
       "6"
      ]
     },
     "execution_count": 100,
     "metadata": {},
     "output_type": "execute_result"
    }
   ],
   "source": [
    "x.index(20)   # first occurence"
   ]
  },
  {
   "cell_type": "code",
   "execution_count": 101,
   "metadata": {
    "collapsed": false,
    "scrolled": true
   },
   "outputs": [
    {
     "data": {
      "text/plain": [
       "2"
      ]
     },
     "execution_count": 101,
     "metadata": {},
     "output_type": "execute_result"
    }
   ],
   "source": [
    "x.count(3)"
   ]
  },
  {
   "cell_type": "code",
   "execution_count": 102,
   "metadata": {
    "collapsed": true,
    "scrolled": true
   },
   "outputs": [],
   "source": [
    "x = [1,2,[3,4],5,6]"
   ]
  },
  {
   "cell_type": "code",
   "execution_count": 103,
   "metadata": {
    "collapsed": false,
    "scrolled": true
   },
   "outputs": [
    {
     "data": {
      "text/plain": [
       "(2, [3, 4], 4)"
      ]
     },
     "execution_count": 103,
     "metadata": {},
     "output_type": "execute_result"
    }
   ],
   "source": [
    "x[1], x[2], x[2][1]"
   ]
  },
  {
   "cell_type": "markdown",
   "metadata": {},
   "source": [
    "++++++++++++++++++++++++++++++++++++++++++++++++++++++++++++++++++++++++++++++++++++++++++++++++++++++++++++++++++++++++"
   ]
  },
  {
   "cell_type": "markdown",
   "metadata": {},
   "source": [
    "## EXERCISE TIME!\n",
    "\n",
    "1) Write a program that calculates and returns the euclidean distance between two points `u = (3,0)` and `v = (6,4)`.\n",
    "\n",
    "Recall the distance formula:\n",
    "$$\n",
    "D = \\sqrt{(u_{1} - v_{1})^2 + (u_{2} - v_{2})^2}\n",
    "$$\n",
    "\n",
    "2) Write a program that returns the greater of the first or last element of a list of integers. <br>\n",
    "\n",
    "For example: `[1,-2,7,5]` should return `5`."
   ]
  },
  {
   "cell_type": "markdown",
   "metadata": {},
   "source": [
    "++++++++++++++++++++++++++++++++++++++++++++++++++++++++++++++++++++++++++++++++++++++++++++++++++++++++++++++++++++++++"
   ]
  },
  {
   "cell_type": "code",
   "execution_count": 89,
   "metadata": {
    "collapsed": false,
    "scrolled": true
   },
   "outputs": [
    {
     "data": {
      "text/plain": [
       "5.0"
      ]
     },
     "execution_count": 89,
     "metadata": {},
     "output_type": "execute_result"
    }
   ],
   "source": [
    "## SOLUTION - 1\n",
    "\n",
    "u = [3, 0]\n",
    "v = (6, 4)\n",
    "\n",
    "((v[0] - u[0])**2 + (v[1] - u[1])**2)**0.5"
   ]
  },
  {
   "cell_type": "code",
   "execution_count": 90,
   "metadata": {
    "collapsed": false
   },
   "outputs": [
    {
     "data": {
      "text/plain": [
       "5"
      ]
     },
     "execution_count": 90,
     "metadata": {},
     "output_type": "execute_result"
    }
   ],
   "source": [
    "## SOLUTION - 2\n",
    "\n",
    "u = [1,-2,7,5] \n",
    "max(u[0], u[-1])"
   ]
  },
  {
   "cell_type": "markdown",
   "metadata": {},
   "source": [
    "### For loops"
   ]
  },
  {
   "cell_type": "code",
   "execution_count": 135,
   "metadata": {
    "collapsed": false,
    "scrolled": true
   },
   "outputs": [
    {
     "data": {
      "text/plain": [
       "['apple', 'banana', 'cherry', 'durian', 'eggplant', 'fig']"
      ]
     },
     "execution_count": 135,
     "metadata": {},
     "output_type": "execute_result"
    }
   ],
   "source": [
    "fruits = ['apple', 'banana', 'cherry', 'durian', 'eggplant', 'fig']\n",
    "fruits"
   ]
  },
  {
   "cell_type": "code",
   "execution_count": 139,
   "metadata": {
    "collapsed": false,
    "scrolled": true
   },
   "outputs": [
    {
     "name": "stdout",
     "output_type": "stream",
     "text": [
      "apple banana cherry durian eggplant fig\n"
     ]
    }
   ],
   "source": [
    "for fruit in fruits:\n",
    "    print fruit,"
   ]
  },
  {
   "cell_type": "code",
   "execution_count": 147,
   "metadata": {
    "collapsed": false,
    "scrolled": true
   },
   "outputs": [
    {
     "name": "stdout",
     "output_type": "stream",
     "text": [
      "0 apple\n",
      "1 banana\n",
      "2 cherry\n",
      "3 durian\n",
      "4 eggplant\n",
      "5 fig\n"
     ]
    }
   ],
   "source": [
    "for idx in range(len(fruits)):\n",
    "    print idx, fruits[idx]"
   ]
  },
  {
   "cell_type": "code",
   "execution_count": 148,
   "metadata": {
    "collapsed": false
   },
   "outputs": [
    {
     "name": "stdout",
     "output_type": "stream",
     "text": [
      "0 apple\n",
      "1 banana\n",
      "2 cherry\n",
      "3 durian\n",
      "4 eggplant\n",
      "5 fig\n"
     ]
    }
   ],
   "source": [
    "# using enumerate\n",
    "for idx, fruit in enumerate(fruits):\n",
    "    print idx, fruit"
   ]
  },
  {
   "cell_type": "code",
   "execution_count": 168,
   "metadata": {
    "collapsed": true
   },
   "outputs": [],
   "source": [
    "xs = [1, 2, 3, 4]\n",
    "ys = [10, 20, 30, 40]\n",
    "zs = ['a', 'b', 'c', 'd', 'e']"
   ]
  },
  {
   "cell_type": "code",
   "execution_count": 169,
   "metadata": {
    "collapsed": false
   },
   "outputs": [
    {
     "data": {
      "text/plain": [
       "[(1, 10), (2, 20), (3, 30), (4, 40)]"
      ]
     },
     "execution_count": 169,
     "metadata": {},
     "output_type": "execute_result"
    }
   ],
   "source": [
    "zip(xs, ys)"
   ]
  },
  {
   "cell_type": "code",
   "execution_count": 170,
   "metadata": {
    "collapsed": false
   },
   "outputs": [
    {
     "name": "stdout",
     "output_type": "stream",
     "text": [
      "(1, 10, 'a')\n",
      "(2, 20, 'b')\n",
      "(3, 30, 'c')\n",
      "(4, 40, 'd')\n"
     ]
    }
   ],
   "source": [
    "for x, y, z in zip(xs, ys, zs):\n",
    "    print (x, y, z)"
   ]
  },
  {
   "cell_type": "code",
   "execution_count": 171,
   "metadata": {
    "collapsed": false
   },
   "outputs": [
    {
     "data": {
      "text/plain": [
       "[('a', 1), ('b', 2), ('c', 3), ('d', 4)]"
      ]
     },
     "execution_count": 171,
     "metadata": {},
     "output_type": "execute_result"
    }
   ],
   "source": [
    "zip('abcd', range(1,10))   # no error - could be good or bad?"
   ]
  },
  {
   "cell_type": "markdown",
   "metadata": {},
   "source": [
    "Dictionary\n",
    "----\n",
    "<ul>\n",
    "<li>Consist of pairs of keys and their corresponding values. Like a dictionary, lookup the `key` to get some `value`\n",
    "<li>Values aren't numbered or in any specific order. Key's are also not ordered.\n",
    "<li>You can add, remove, and modify the values in dictionaries\n",
    "<li>Looks like a `JSON` object\n",
    "</ul>"
   ]
  },
  {
   "cell_type": "code",
   "execution_count": 118,
   "metadata": {
    "collapsed": false,
    "scrolled": true
   },
   "outputs": [
    {
     "data": {
      "text/plain": [
       "{'a': 1, 'b': 2, 'c': 3}"
      ]
     },
     "execution_count": 118,
     "metadata": {},
     "output_type": "execute_result"
    }
   ],
   "source": [
    "dictionary = {'a': 1, 'b':2, 'c':3}\n",
    "dictionary"
   ]
  },
  {
   "cell_type": "code",
   "execution_count": 119,
   "metadata": {
    "collapsed": false,
    "scrolled": true
   },
   "outputs": [
    {
     "data": {
      "text/plain": [
       "2"
      ]
     },
     "execution_count": 119,
     "metadata": {},
     "output_type": "execute_result"
    }
   ],
   "source": [
    "dictionary['b']"
   ]
  },
  {
   "cell_type": "code",
   "execution_count": 120,
   "metadata": {
    "collapsed": false,
    "scrolled": true
   },
   "outputs": [
    {
     "data": {
      "text/plain": [
       "{'d': 4, 'e': 5, 'f': 6}"
      ]
     },
     "execution_count": 120,
     "metadata": {},
     "output_type": "execute_result"
    }
   ],
   "source": [
    "dictionary1 = dict(d = 4, e = 5, f = 6)\n",
    "dictionary1"
   ]
  },
  {
   "cell_type": "code",
   "execution_count": 121,
   "metadata": {
    "collapsed": false,
    "scrolled": true
   },
   "outputs": [
    {
     "data": {
      "text/plain": [
       "{'a': 1, 'b': 2, 'd': 3}"
      ]
     },
     "execution_count": 121,
     "metadata": {},
     "output_type": "execute_result"
    }
   ],
   "source": [
    "dictionary2 = dict([('a',1),('b',2),('d',3)])\n",
    "dictionary2"
   ]
  },
  {
   "cell_type": "code",
   "execution_count": 122,
   "metadata": {
    "collapsed": false,
    "scrolled": true
   },
   "outputs": [
    {
     "data": {
      "text/plain": [
       "{'a': 1, 'b': 2, 'c': 3, 'd': 4, 'e': 5, 'f': 6}"
      ]
     },
     "execution_count": 122,
     "metadata": {},
     "output_type": "execute_result"
    }
   ],
   "source": [
    "dictionary.update(dictionary1)\n",
    "dictionary"
   ]
  },
  {
   "cell_type": "code",
   "execution_count": 123,
   "metadata": {
    "collapsed": false,
    "scrolled": true
   },
   "outputs": [
    {
     "data": {
      "text/plain": [
       "['a', 'c', 'b', 'e', 'd', 'f']"
      ]
     },
     "execution_count": 123,
     "metadata": {},
     "output_type": "execute_result"
    }
   ],
   "source": [
    "dictionary.keys()"
   ]
  },
  {
   "cell_type": "code",
   "execution_count": 124,
   "metadata": {
    "collapsed": false,
    "scrolled": true
   },
   "outputs": [
    {
     "data": {
      "text/plain": [
       "[1, 3, 2, 5, 4, 6]"
      ]
     },
     "execution_count": 124,
     "metadata": {},
     "output_type": "execute_result"
    }
   ],
   "source": [
    "dictionary.values()"
   ]
  },
  {
   "cell_type": "code",
   "execution_count": 125,
   "metadata": {
    "collapsed": false,
    "scrolled": true
   },
   "outputs": [
    {
     "data": {
      "text/plain": [
       "{'a': 1, 'b': 2, 'c': 3, 'd': 4, 'e': 5, 'f': 6, 'g': 7}"
      ]
     },
     "execution_count": 125,
     "metadata": {},
     "output_type": "execute_result"
    }
   ],
   "source": [
    "dictionary['g'] = 7\n",
    "dictionary"
   ]
  },
  {
   "cell_type": "code",
   "execution_count": 126,
   "metadata": {
    "collapsed": false,
    "scrolled": true
   },
   "outputs": [
    {
     "name": "stdout",
     "output_type": "stream",
     "text": [
      "a 1\n",
      "c 3\n",
      "b 2\n",
      "e 5\n",
      "d 4\n",
      "g 7\n",
      "f 6\n"
     ]
    }
   ],
   "source": [
    "for key in dictionary:\n",
    "    print key, dictionary[key]"
   ]
  },
  {
   "cell_type": "code",
   "execution_count": 127,
   "metadata": {
    "collapsed": false,
    "scrolled": false
   },
   "outputs": [
    {
     "name": "stdout",
     "output_type": "stream",
     "text": [
      "a 1\n",
      "c 3\n",
      "b 2\n",
      "e 5\n",
      "d 4\n",
      "g 7\n",
      "f 6\n"
     ]
    }
   ],
   "source": [
    "for key, value in dictionary.items():\n",
    "    print key, value"
   ]
  },
  {
   "cell_type": "code",
   "execution_count": 52,
   "metadata": {
    "collapsed": false,
    "scrolled": true
   },
   "outputs": [
    {
     "data": {
      "text/plain": [
       "[('a', 1), ('c', 3), ('b', 2), ('e', 5), ('d', 4), ('g', 7), ('f', 6)]"
      ]
     },
     "execution_count": 52,
     "metadata": {},
     "output_type": "execute_result"
    }
   ],
   "source": [
    "d.items()"
   ]
  },
  {
   "cell_type": "markdown",
   "metadata": {},
   "source": [
    "++++++++++++++++++++++++++++++++++++++++++++++++++++++++++++++++++++++++++++++++++++++++++++++++++++++++++++++++++++++++"
   ]
  },
  {
   "cell_type": "markdown",
   "metadata": {},
   "source": [
    "## EXERCISE TIME!\n",
    "\n",
    "Given the following dictionary:\n",
    "\n",
    "```\n",
    "yellow_pages = {\n",
    "    'Name' : 'Donald Duck',\n",
    "    'Address' : ('123 Disney St.', 26, 'FL', 32801)\n",
    "}\n",
    "```\n",
    "\n",
    "Do the following:<br>\n",
    "\n",
    "1. Add a key to `yellow_pages` called `Profession`\n",
    "2. Set the value of `Profession` to be a list `['Comedian','Actor','Comic','Athlete']`.\n",
    "3. Sort the `Profession` according to length of the word, i.e. `Comedian` is 8 letters long.\n",
    "4. Change the `Name` to be `'Donald Duck, Jr.'`\n",
    "5. Update the `Address` to reflect, Donald's new street, i.e. `456 Walt St.`.\n",
    "<br>\n",
    "\n",
    "The final answer should look like:\n",
    "\n",
    "```\n",
    "yellow_pages = {\n",
    "    'Address': ('456 Walt St.', 26, 'FL', 32801),\n",
    "    'Name': 'Donald Duck, Jr.',\n",
    "    'Profession': ['Actor', 'Comic', 'Athlete', 'Comedian']\n",
    "}\n",
    "```"
   ]
  },
  {
   "cell_type": "markdown",
   "metadata": {},
   "source": [
    "++++++++++++++++++++++++++++++++++++++++++++++++++++++++++++++++++++++++++++++++++++++++++++++++++++++++++++++++++++++++"
   ]
  },
  {
   "cell_type": "code",
   "execution_count": 129,
   "metadata": {
    "collapsed": false
   },
   "outputs": [],
   "source": [
    "## SOLUTION\n",
    "yellow_pages = {\n",
    "    'Name' : 'Donald Duck',\n",
    "    'Address' : ('123 Disney St.', 26, 'FL', 32801)\n",
    "}"
   ]
  },
  {
   "cell_type": "code",
   "execution_count": 130,
   "metadata": {
    "collapsed": false
   },
   "outputs": [],
   "source": [
    "yellow_pages['Profession'] = sorted(['Comedian','Actor','Comic','Athlete'], key = len)"
   ]
  },
  {
   "cell_type": "code",
   "execution_count": 131,
   "metadata": {
    "collapsed": false
   },
   "outputs": [],
   "source": [
    "yellow_pages['Name'] = 'Donald Duck, Jr.'"
   ]
  },
  {
   "cell_type": "code",
   "execution_count": 132,
   "metadata": {
    "collapsed": false
   },
   "outputs": [],
   "source": [
    "yellow_pages['Address'] = ('456 Walt St.', yellow_pages['Address'][1], yellow_pages['Address'][2], yellow_pages['Address'][3])"
   ]
  },
  {
   "cell_type": "code",
   "execution_count": 140,
   "metadata": {
    "collapsed": false
   },
   "outputs": [
    {
     "data": {
      "text/plain": [
       "{'Address': ('456 Walt St.', 26, 'FL', 32801),\n",
       " 'Name': 'Donald Duck, Jr.',\n",
       " 'Profession': ['Actor', 'Comic', 'Athlete', 'Comedian']}"
      ]
     },
     "execution_count": 140,
     "metadata": {},
     "output_type": "execute_result"
    }
   ],
   "source": [
    "yellow_pages"
   ]
  },
  {
   "cell_type": "markdown",
   "metadata": {},
   "source": [
    "++++++++++++++++++++++++++++++++++++++++++++++++++++++++++++++++++++++++++++++++++++++++++++++++++++++++++++++++++++++++"
   ]
  },
  {
   "cell_type": "markdown",
   "metadata": {},
   "source": [
    "## EXERCISE TIME!\n",
    "\n",
    "Write a Python program to generate and print a dictionary that contains key/value pairs of the form (x, x^2, x^3), for x from `1` to `10`.<br>\n",
    "\n",
    "Expected output:\n",
    "```\n",
    "dictionary = {\n",
    "    1: [1, 1, 1],\n",
    "    2: [2, 4, 8],\n",
    "    3: [3, 9, 27],\n",
    "    4: [4, 16, 64],\n",
    "    5: [5, 25, 125],\n",
    "    6: [6, 36, 216],\n",
    "    7: [7, 49, 343],\n",
    "    8: [8, 64, 512],\n",
    "    9: [9, 81, 729],\n",
    "    10: [10, 100, 1000]\n",
    " }\n",
    "```"
   ]
  },
  {
   "cell_type": "markdown",
   "metadata": {},
   "source": [
    "++++++++++++++++++++++++++++++++++++++++++++++++++++++++++++++++++++++++++++++++++++++++++++++++++++++++++++++++++++++++"
   ]
  },
  {
   "cell_type": "code",
   "execution_count": 1,
   "metadata": {
    "collapsed": false
   },
   "outputs": [
    {
     "data": {
      "text/plain": [
       "{1: [1, 1, 1],\n",
       " 2: [2, 4, 8],\n",
       " 3: [3, 9, 27],\n",
       " 4: [4, 16, 64],\n",
       " 5: [5, 25, 125],\n",
       " 6: [6, 36, 216],\n",
       " 7: [7, 49, 343],\n",
       " 8: [8, 64, 512],\n",
       " 9: [9, 81, 729],\n",
       " 10: [10, 100, 1000]}"
      ]
     },
     "execution_count": 1,
     "metadata": {},
     "output_type": "execute_result"
    }
   ],
   "source": [
    "## SOLUTION\n",
    "\n",
    "n = 10\n",
    "dictionary = {} \n",
    "  \n",
    "for i in range(1,n+1):  \n",
    "    dictionary[i] = [i, i**2, i**3]\n",
    "dictionary"
   ]
  },
  {
   "cell_type": "markdown",
   "metadata": {},
   "source": [
    "++++++++++++++++++++++++++++++++++++++++++++++++++++++++++++++++++++++++++++++++++++++++++++++++++++++++++++++++++++++++"
   ]
  },
  {
   "cell_type": "markdown",
   "metadata": {},
   "source": [
    "## EXERCISE TIME!\n",
    "\n",
    "<ol>\n",
    "<li>Print the keys of all values that are even\n",
    "<li>Print the key with the maximum value\n",
    "<li>Print the sum of all the values\n",
    "</ol>\n",
    "\n",
    "```\n",
    "dictionary = {\n",
    "    'a': 3, \n",
    "    'b': 2, \n",
    "    'c': 10, \n",
    "    'd': 7, \n",
    "    'e': 9, \n",
    "    'f' : 12, \n",
    "    'g' : 13\n",
    "    }\n",
    "```"
   ]
  },
  {
   "cell_type": "markdown",
   "metadata": {},
   "source": [
    "++++++++++++++++++++++++++++++++++++++++++++++++++++++++++++++++++++++++++++++++++++++++++++++++++++++++++++++++++++++++"
   ]
  },
  {
   "cell_type": "code",
   "execution_count": 2,
   "metadata": {
    "collapsed": false,
    "scrolled": true
   },
   "outputs": [
    {
     "name": "stdout",
     "output_type": "stream",
     "text": [
      "c\n",
      "b\n",
      "f\n",
      "\n",
      "Sum:  56\n",
      "Max:  g\n"
     ]
    }
   ],
   "source": [
    "## SOLUTION - 1\n",
    "\n",
    "dictionary = {'a': 3 , 'b': 2, 'c': 10, 'd': 7, 'e': 9, 'f' : 12, 'g' : 13}\n",
    "\n",
    "for key, val in dictionary.items():\n",
    "    if val % 2 == 0:\n",
    "        print key\n",
    "\n",
    "print\n",
    "## SOLUTION - 2, 3\n",
    "\n",
    "max_, sum_, key_ = 0, 0, 0\n",
    "\n",
    "for key, val in dictionary.items():\n",
    "    sum_ += val\n",
    "    if max_ < val:\n",
    "        key_, max_ = key, val\n",
    "\n",
    "print \"Sum: \", sum_\n",
    "print \"Max: \", key_"
   ]
  },
  {
   "cell_type": "markdown",
   "metadata": {},
   "source": [
    "List (and tuple, dict, set...) Comprehension and One Liners <a id='compr'></a>\n",
    "=====\n",
    "\n",
    "<ul>\n",
    "<li>Can write entire `for` loop or `if` statement in 1 line if it involves iterating over a list and doing some action\n",
    "<li>List comprehensions are typical of and very conducive to **functional programming**.\n",
    "<li>Very slick and can be easier to read. However, easy to get carried away.\n",
    "<li>Rule of thumb:\n",
    "<ul>\n",
    "<li>List comprehensions are used for creating lists\n",
    "<li>For loops are better for doing something with the elements of a list\n",
    "</ul>\n",
    "</ul>"
   ]
  },
  {
   "cell_type": "code",
   "execution_count": 161,
   "metadata": {
    "collapsed": false,
    "scrolled": true
   },
   "outputs": [
    {
     "data": {
      "text/plain": [
       "[1, 2, 3, 4, 5, 6, 7, 8, 9]"
      ]
     },
     "execution_count": 161,
     "metadata": {},
     "output_type": "execute_result"
    }
   ],
   "source": [
    "x = range(1,10)\n",
    "x"
   ]
  },
  {
   "cell_type": "code",
   "execution_count": 162,
   "metadata": {
    "collapsed": false,
    "scrolled": true
   },
   "outputs": [
    {
     "name": "stdout",
     "output_type": "stream",
     "text": [
      "1 4 9 16 25 36 49 64 81\n"
     ]
    }
   ],
   "source": [
    "for i in x:\n",
    "    print i**2,"
   ]
  },
  {
   "cell_type": "code",
   "execution_count": 165,
   "metadata": {
    "collapsed": false,
    "scrolled": true
   },
   "outputs": [
    {
     "data": {
      "text/plain": [
       "[1, 4, 9, 16, 25, 36, 49, 64, 81]"
      ]
     },
     "execution_count": 165,
     "metadata": {},
     "output_type": "execute_result"
    }
   ],
   "source": [
    "[i**2 for i in x]"
   ]
  },
  {
   "cell_type": "code",
   "execution_count": 169,
   "metadata": {
    "collapsed": false,
    "scrolled": true
   },
   "outputs": [
    {
     "data": {
      "text/plain": [
       "9"
      ]
     },
     "execution_count": 169,
     "metadata": {},
     "output_type": "execute_result"
    }
   ],
   "source": [
    "l = []\n",
    "for i in x:\n",
    "    if i**.5 == int(i**.5):\n",
    "        l.append(i)\n",
    "l[-1]"
   ]
  },
  {
   "cell_type": "code",
   "execution_count": 166,
   "metadata": {
    "collapsed": false,
    "scrolled": true
   },
   "outputs": [
    {
     "data": {
      "text/plain": [
       "9"
      ]
     },
     "execution_count": 166,
     "metadata": {},
     "output_type": "execute_result"
    }
   ],
   "source": [
    "[i for i in x if i**.5==int(i**.5)][-1]"
   ]
  },
  {
   "cell_type": "code",
   "execution_count": 475,
   "metadata": {
    "collapsed": false
   },
   "outputs": [
    {
     "data": {
      "text/plain": [
       "[0, 1, 4, 27, 16, 125, 36, 343, 64, 729]"
      ]
     },
     "execution_count": 475,
     "metadata": {},
     "output_type": "execute_result"
    }
   ],
   "source": [
    "[x**2 if x%2 == 0 else x**3 for x in range(10)]"
   ]
  },
  {
   "cell_type": "code",
   "execution_count": 481,
   "metadata": {
    "collapsed": false,
    "scrolled": true
   },
   "outputs": [
    {
     "data": {
      "text/plain": [
       "[3, 13]"
      ]
     },
     "execution_count": 481,
     "metadata": {},
     "output_type": "execute_result"
    }
   ],
   "source": [
    "[v for k, v in d.items() if k == 'a' or k == 'g']"
   ]
  },
  {
   "cell_type": "markdown",
   "metadata": {},
   "source": [
    "**But don't go overboard...**"
   ]
  },
  {
   "cell_type": "markdown",
   "metadata": {},
   "source": [
    "++++++++++++++++++++++++++++++++++++++++++++++++++++++++++++++++++++++++++++++++++++++++++++++++++++++++++++++++++++++++"
   ]
  },
  {
   "cell_type": "markdown",
   "metadata": {},
   "source": [
    "## EXERCISE TIME!\n",
    "\n",
    "1) Create the following matrix using:<br>\n",
    "<ol>\n",
    "<li>Nested for loops<br>\n",
    "<li>List comprehension\n",
    "</ol>\n",
    "\n",
    "```\n",
    "[[1, 0, 0, 0, 0], \n",
    " [0, 2, 0, 0, 0], \n",
    " [0, 0, 3, 0, 0],\n",
    " [0, 0, 0, 4, 0],\n",
    " [0, 0, 0, 0, 5]]\n",
    "```\n",
    "\n",
    "Hint: Think of the matrix as a list of lists. No need to stack the lists on top of each other like above.\n",
    "\n",
    "2) Write a list comprehension that does the same thing as these nested `for` loops:\n",
    "\n",
    "```\n",
    "L = []\n",
    "for i in range(10):\n",
    "    for j in {2, 5, 9}:\n",
    "        if i != j:\n",
    "            L.append((i,j))\n",
    "print L\n",
    "```"
   ]
  },
  {
   "cell_type": "markdown",
   "metadata": {},
   "source": [
    "++++++++++++++++++++++++++++++++++++++++++++++++++++++++++++++++++++++++++++++++++++++++++++++++++++++++++++++++++++++++"
   ]
  },
  {
   "cell_type": "code",
   "execution_count": 19,
   "metadata": {
    "collapsed": false
   },
   "outputs": [
    {
     "name": "stdout",
     "output_type": "stream",
     "text": [
      "[[1, 0, 0, 0, 0], [0, 2, 0, 0, 0], [0, 0, 3, 0, 0], [0, 0, 0, 4, 0], [0, 0, 0, 0, 5]]\n",
      "[[1, 0, 0, 0, 0], [0, 2, 0, 0, 0], [0, 0, 3, 0, 0], [0, 0, 0, 4, 0], [0, 0, 0, 0, 5]]\n"
     ]
    }
   ],
   "source": [
    "## SOLUTION - 1\n",
    "\n",
    "matrix = []\n",
    "for i in range(5):\n",
    "    row = []\n",
    "    for j in range(5):\n",
    "        if i == j:\n",
    "            row.append(i+1)\n",
    "        else:\n",
    "            row.append(0)\n",
    "    matrix.append(row)\n",
    "\n",
    "        \n",
    "print matrix\n",
    "print [[item_idx+1 if item_idx == row_idx else 0 for item_idx in range(0, 5) ] for row_idx in range(0, 5) ]"
   ]
  },
  {
   "cell_type": "code",
   "execution_count": 21,
   "metadata": {
    "collapsed": false
   },
   "outputs": [
    {
     "name": "stdout",
     "output_type": "stream",
     "text": [
      "[(0, 9), (0, 2), (0, 5), (1, 9), (1, 2), (1, 5), (2, 9), (2, 5), (3, 9), (3, 2), (3, 5), (4, 9), (4, 2), (4, 5), (5, 9), (5, 2), (6, 9), (6, 2), (6, 5), (7, 9), (7, 2), (7, 5), (8, 9), (8, 2), (8, 5), (9, 2), (9, 5)]\n"
     ]
    }
   ],
   "source": [
    "## SOLUTION - 2\n",
    "\n",
    "print [(i,j) for i in range(10) for j in {2,5,9} if i != j]"
   ]
  },
  {
   "cell_type": "markdown",
   "metadata": {},
   "source": [
    "Take away\n",
    "===\n",
    "\n",
    "\n",
    "<ul>\n",
    "<li>Understand basic data types and control structures (most important are `if` statement and `for` loops)\n",
    "<li>Manipulating (creating, iterating through, updating, ...) lists, dictionaries and tuples\n",
    "<li>Write one line list comprehensions - and know when not to.\n",
    "</ul>"
   ]
  },
  {
   "cell_type": "markdown",
   "metadata": {},
   "source": [
    "Review Problems<a id='hmwk'></a>\n",
    "==="
   ]
  },
  {
   "cell_type": "markdown",
   "metadata": {},
   "source": [
    "**Q1.** \n",
    "\n",
    "If we list all the natural numbers below 10 that are multiples of 3 or 5, we get 3, 5, 6 and 9. The sum of these multiples is 23.\n",
    "\n",
    "Find the sum of all the multiples of 3 or 5 below 1000\n",
    "<ul>\n",
    "<li>Using a `for` loop\n",
    "<li>Using list comprehension\n",
    "</ul>"
   ]
  },
  {
   "cell_type": "code",
   "execution_count": 23,
   "metadata": {
    "collapsed": false
   },
   "outputs": [
    {
     "data": {
      "text/plain": [
       "233168"
      ]
     },
     "execution_count": 23,
     "metadata": {},
     "output_type": "execute_result"
    }
   ],
   "source": [
    "## SOLUTION\n",
    "sum([i for i in list(range(1,1000)) if i % 3 == 0 or i % 5 == 0])"
   ]
  },
  {
   "cell_type": "markdown",
   "metadata": {},
   "source": [
    "**Q2.** \n",
    "\n",
    "The sum of the squares of the first ten natural numbers is\n",
    "$$\n",
    "1^2 + 2^2 + ... + 10^2 = 385\n",
    "$$\n",
    "The square of the sum of the first ten natural numbers is\n",
    "$$\n",
    "(1 + 2 + ... + 10)^2 = 55^2 = 3025\n",
    "$$\n",
    "Hence the difference between the sum of the squares of the first ten natural numbers and the square of the sum is 3025 − 385 = 2640.\n",
    "\n",
    "Write a program to find the difference between the sum of the squares of the first one hundred natural numbers and the square of the sum. (Euler problem #6)\n",
    "\n",
    "The answer should be `25164150`."
   ]
  },
  {
   "cell_type": "code",
   "execution_count": 515,
   "metadata": {
    "collapsed": false
   },
   "outputs": [
    {
     "data": {
      "text/plain": [
       "25164150"
      ]
     },
     "execution_count": 515,
     "metadata": {},
     "output_type": "execute_result"
    }
   ],
   "source": [
    "## SOLUTION\n",
    "sum(range(1,101))**2 - sum([i**2 for i in range(1,101)])"
   ]
  },
  {
   "cell_type": "markdown",
   "metadata": {},
   "source": [
    "**Q3.**\n",
    "\n",
    "A Pythagorean triplet is a set of three natural numbers, a < b < c, for which,\n",
    "\n",
    "$$\n",
    "a^2 + b^2 = c^2\n",
    "$$\n",
    "For example, $3^2 + 4^2 = 9 + 16 = 25 = 5^2$\n",
    "\n",
    "There exists **exactly one** Pythagorean triplet for which a + b + c = 1000.\n",
    "Write a program to find the product abc. (Euler problem #9)\n",
    "\n",
    "The answer should be `(200, 375, 425, 31875000)`."
   ]
  },
  {
   "cell_type": "code",
   "execution_count": 517,
   "metadata": {
    "collapsed": false
   },
   "outputs": [
    {
     "name": "stdout",
     "output_type": "stream",
     "text": [
      "(200, 375, 425, 31875000)\n"
     ]
    }
   ],
   "source": [
    "## SOLUTION\n",
    "for a in range(1000):\n",
    "    for b in range(a+1,1000):\n",
    "        for c in range(b+1, 1000):\n",
    "            if a + b + c == 1000 and a**2 + b**2 == c**2:\n",
    "                print (a, b, c, a*b*c)"
   ]
  },
  {
   "cell_type": "markdown",
   "metadata": {},
   "source": [
    "**Q4.**\n",
    "\n",
    "Write a program that prints the numbers from 1 to 100. But for multiples of **three** print “Fizz” instead of the number and for the multiples of **five** print “Buzz”. For numbers which are multiples of both three and five print “FizzBuzz”."
   ]
  },
  {
   "cell_type": "code",
   "execution_count": 520,
   "metadata": {
    "collapsed": false
   },
   "outputs": [
    {
     "name": "stdout",
     "output_type": "stream",
     "text": [
      "1 2 Fizz 4 Buzz Fizz 7 8 Fizz Buzz 11 Fizz 13 14 FizzBuzz 16 17 Fizz 19 Buzz Fizz 22 23 Fizz Buzz 26 Fizz 28 29 FizzBuzz 31 32 Fizz 34 Buzz Fizz 37 38 Fizz Buzz 41 Fizz 43 44 FizzBuzz 46 47 Fizz 49 Buzz Fizz 52 53 Fizz Buzz 56 Fizz 58 59 FizzBuzz 61 62 Fizz 64 Buzz Fizz 67 68 Fizz Buzz 71 Fizz 73 74 FizzBuzz 76 77 Fizz 79 Buzz Fizz 82 83 Fizz Buzz 86 Fizz 88 89 FizzBuzz 91 92 Fizz 94 Buzz Fizz 97 98 Fizz Buzz\n"
     ]
    }
   ],
   "source": [
    "## SOLUTION\n",
    "for i in range(1, 101):\n",
    "    if i % 15 == 0:\n",
    "        print(\"FizzBuzz\"),\n",
    "    elif i % 3 == 0:\n",
    "        print(\"Fizz\"),\n",
    "    elif i % 5 == 0:\n",
    "        print(\"Buzz\"),\n",
    "    else:\n",
    "        print(i),"
   ]
  },
  {
   "cell_type": "markdown",
   "metadata": {
    "collapsed": true
   },
   "source": [
    "**Q5**.\n",
    "\n",
    "Given the list:\n",
    "\n",
    "`names = [ 'CURLY', 'mOE', 'larry', 'M', 'LaRrY', 'curly']`\n",
    "\n",
    "Write a program that produces the set:\n",
    "\n",
    "`['Moe', 'Larry', 'Curly']`\n",
    "\n",
    "Use list comprehension.\n"
   ]
  },
  {
   "cell_type": "code",
   "execution_count": 56,
   "metadata": {
    "collapsed": false
   },
   "outputs": [
    {
     "data": {
      "text/plain": [
       "['Moe', 'Larry', 'Curly']"
      ]
     },
     "execution_count": 56,
     "metadata": {},
     "output_type": "execute_result"
    }
   ],
   "source": [
    "## SOLUTION\n",
    "\n",
    "names = [ 'CURLY', 'mOE', 'larry', 'M', 'LaRrY', 'curly']\n",
    "\n",
    "sorted({ name[0].upper() + name[1:].lower() for name in names if len(name) > 1 }, key=len)"
   ]
  },
  {
   "cell_type": "markdown",
   "metadata": {},
   "source": [
    "## Bonus (Hard!) Questions"
   ]
  },
  {
   "cell_type": "markdown",
   "metadata": {},
   "source": [
    "**Q1.**\n",
    "<br>\n",
    "\n",
    "Without looping, find the State with the smallest city population. Hint: It's NC :) Also, look up the `get` function.\n",
    "```\n",
    "states = {\n",
    "    \"CA\" : 'SFO',\n",
    "    \"NY\" : 'NYC',\n",
    "    'NC' : 'DUR'\n",
    "}\n",
    "\n",
    "cities = {\n",
    "    'SFO': 1000,\n",
    "    'NYC': 1500,\n",
    "    'DUR': 500\n",
    "}\n",
    "```"
   ]
  },
  {
   "cell_type": "code",
   "execution_count": 5,
   "metadata": {
    "collapsed": false
   },
   "outputs": [
    {
     "data": {
      "text/plain": [
       "'NY'"
      ]
     },
     "execution_count": 5,
     "metadata": {},
     "output_type": "execute_result"
    }
   ],
   "source": [
    "## SOLUTION\n",
    "\n",
    "states = {\n",
    "    \"CA\" : 'SFO',\n",
    "    \"NY\" : 'NYC',\n",
    "    'NC' : 'DUR'\n",
    "}\n",
    "\n",
    "cities = {\n",
    "    'SFO': 1000,\n",
    "    'NYC': 1500,\n",
    "    'DUR': 500\n",
    "}\n",
    "max_city = max(cities, key = cities.get)\n",
    "states.keys()[states.values().index(max_city)]"
   ]
  },
  {
   "cell_type": "markdown",
   "metadata": {},
   "source": [
    "**Q2.**\n",
    "\n",
    "A palindromic number reads the same both ways. The largest palindrome made from the product of **two 2-digit** numbers is 9009 = 91 × 99.\n",
    "\n",
    "Find the largest palindrome made from the product of **two 3-digit** numbers."
   ]
  },
  {
   "cell_type": "code",
   "execution_count": 6,
   "metadata": {
    "collapsed": false
   },
   "outputs": [
    {
     "name": "stdout",
     "output_type": "stream",
     "text": [
      "906609 = 913 x 993\n"
     ]
    }
   ],
   "source": [
    "## SOLUTION\n",
    "def is_palindrome(n):\n",
    "    ''' Checks if n is a palindrome - converts number to string and checks for reverse equality '''\n",
    "    return str(n) == str(n)[::-1]\n",
    "    \n",
    "max_pal = 0\n",
    "digit_1, digit2 = 0, 0\n",
    "for i in range(1,1000):\n",
    "    for j in range(1,1000):\n",
    "        current_num = i*j\n",
    "        if is_palindrome(current_num) and current_num > max_pal:\n",
    "            digit_1, digit_2 = i, j\n",
    "            max_pal = current_num\n",
    "            \n",
    "print max_pal, \"=\", digit_1, \"x\", digit_2"
   ]
  },
  {
   "cell_type": "code",
   "execution_count": null,
   "metadata": {
    "collapsed": true
   },
   "outputs": [],
   "source": []
  }
 ],
 "metadata": {
  "kernelspec": {
   "display_name": "Python 2",
   "language": "python",
   "name": "python2"
  },
  "language_info": {
   "codemirror_mode": {
    "name": "ipython",
    "version": 2
   },
   "file_extension": ".py",
   "mimetype": "text/x-python",
   "name": "python",
   "nbconvert_exporter": "python",
   "pygments_lexer": "ipython2",
   "version": "2.7.10"
  }
 },
 "nbformat": 4,
 "nbformat_minor": 0
}
