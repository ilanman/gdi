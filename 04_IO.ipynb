{
 "cells": [
  {
   "cell_type": "markdown",
   "metadata": {},
   "source": [
    "I/O\n",
    "====\n",
    "\n",
    "The first step in data analysis is often getting data and parsing it into a convenient format for analysis. This notebook explores how to load and save plain text and JSON. We will cover numeric, tabular and database options in a subsequent lecture.\n",
    "\n",
    "1. [Reading files](#read)\n",
    "2. [Writing to files](#write)\n",
    "3. [Loading from web](#web)\n",
    "4. [Loading JSON](#json)\n",
    "5. [Review Problems](#hmk)"
   ]
  },
  {
   "cell_type": "markdown",
   "metadata": {},
   "source": [
    "When we want to read from or write to a file we need to open it first. When we are done, it needs to be closed, so that resources that are tied with the file are freed. Hence, in Python, a file operation takes place in the following order.\n",
    "\n",
    "<ol>\n",
    "<li>Open a file\n",
    "<li>Read or write (perform operation)\n",
    "<li>Close the file\n",
    "</ol>"
   ]
  },
  {
   "cell_type": "markdown",
   "metadata": {},
   "source": [
    "### Text files\n",
    "\n",
    "Quick and dirty way to write a text file."
   ]
  },
  {
   "cell_type": "code",
   "execution_count": 4,
   "metadata": {
    "collapsed": false
   },
   "outputs": [
    {
     "name": "stdout",
     "output_type": "stream",
     "text": [
      "Writing /Users/ilanman/gdi/animals.txt\n"
     ]
    }
   ],
   "source": [
    "%%file /Users/ilanman/gdi/animals.txt\n",
    "name|species|age|weight\n",
    "arun|cat|5|7.3\n",
    "bob|bird|2|1.5\n",
    "coco|cat|2|5.5\n",
    "dumbo|elephant|23|454\n",
    "elmo|dog|5|11\n",
    "fido|dog|3|24.5\n",
    "gumba|bird|2|2.7"
   ]
  },
  {
   "cell_type": "markdown",
   "metadata": {},
   "source": [
    "Loading a text file<a id=\"read\"></a>\n",
    "====="
   ]
  },
  {
   "cell_type": "markdown",
   "metadata": {},
   "source": [
    "<ul>\n",
    "<li>Specify the mode while opening a file\n",
    "<li>read 'r', write 'w' or append 'a' to the file\n",
    "<li>Specify if we want to open the file in text mode or binary mode. The default is reading in text mode. \n",
    "<li>In this mode, we get strings when reading from the file.\n",
    "<li>Binary mode returns bytes - used when dealing with non-text files like image or exe files.\n",
    "</ul>"
   ]
  },
  {
   "cell_type": "markdown",
   "metadata": {},
   "source": [
    "#### Basic way of opening a file\n",
    "\n",
    "<ul>\n",
    "<li>Remember to close the file after you're finished\n",
    "</ul>"
   ]
  },
  {
   "cell_type": "code",
   "execution_count": 19,
   "metadata": {
    "collapsed": false
   },
   "outputs": [
    {
     "name": "stdout",
     "output_type": "stream",
     "text": [
      "r\n",
      "animals.txt\n"
     ]
    }
   ],
   "source": [
    "f = open('animals.txt')\n",
    "print f.mode\n",
    "print f.name"
   ]
  },
  {
   "cell_type": "code",
   "execution_count": 20,
   "metadata": {
    "collapsed": false
   },
   "outputs": [
    {
     "data": {
      "text/plain": [
       "'name|species|age|weight\\narun|cat|5|7.3\\nbob|bird|2|1.5\\ncoco|cat|2|5.5\\ndumbo|elephant|23|454\\nelmo|dog|5|11\\nfido|dog|3|24.5\\ngumba|bird|2|2.7'"
      ]
     },
     "execution_count": 20,
     "metadata": {},
     "output_type": "execute_result"
    }
   ],
   "source": [
    "f.read()"
   ]
  },
  {
   "cell_type": "code",
   "execution_count": 21,
   "metadata": {
    "collapsed": true
   },
   "outputs": [],
   "source": [
    "f.close()"
   ]
  },
  {
   "cell_type": "markdown",
   "metadata": {},
   "source": [
    "#### Using a generator expression to read one line at a time\n",
    "\n",
    "<ul>\n",
    "<li>Useful if we only want to extract some lines and the entire file is too large to fit into memory.\n",
    "<li>Note the use of the `with` context manager\n",
    "<li>Automates the closing of the file resource once the `with` block is exited, avoiding leakage of system resources\n",
    "</ul>"
   ]
  },
  {
   "cell_type": "code",
   "execution_count": 22,
   "metadata": {
    "collapsed": false
   },
   "outputs": [
    {
     "name": "stdout",
     "output_type": "stream",
     "text": [
      "arun|cat|5|7.3\n",
      "coco|cat|2|5.5\n"
     ]
    }
   ],
   "source": [
    "with open('animals.txt') as f:   # enter the generator\n",
    "    for line in f:\n",
    "        if 'cat' in line:\n",
    "            print line.strip()"
   ]
  },
  {
   "cell_type": "markdown",
   "metadata": {},
   "source": [
    "#### Reading into memory as a single string"
   ]
  },
  {
   "cell_type": "code",
   "execution_count": 26,
   "metadata": {
    "collapsed": false
   },
   "outputs": [
    {
     "data": {
      "text/plain": [
       "'name|species|age|weight\\narun|cat|5|7.3\\nbob|bird|2|1.5\\ncoco|cat|2|5.5\\ndumbo|elephant|23|454\\nelmo|dog|5|11\\nfido|dog|3|24.5\\ngumba|bird|2|2.7'"
      ]
     },
     "execution_count": 26,
     "metadata": {},
     "output_type": "execute_result"
    }
   ],
   "source": [
    "with open('animals.txt') as f:\n",
    "    text = f.read()\n",
    "\n",
    "text"
   ]
  },
  {
   "cell_type": "markdown",
   "metadata": {},
   "source": [
    "#### Reading into memory as a list of strings"
   ]
  },
  {
   "cell_type": "code",
   "execution_count": 27,
   "metadata": {
    "collapsed": false
   },
   "outputs": [
    {
     "data": {
      "text/plain": [
       "['name|species|age|weight\\n',\n",
       " 'arun|cat|5|7.3\\n',\n",
       " 'bob|bird|2|1.5\\n',\n",
       " 'coco|cat|2|5.5\\n',\n",
       " 'dumbo|elephant|23|454\\n',\n",
       " 'elmo|dog|5|11\\n',\n",
       " 'fido|dog|3|24.5\\n',\n",
       " 'gumba|bird|2|2.7']"
      ]
     },
     "execution_count": 27,
     "metadata": {},
     "output_type": "execute_result"
    }
   ],
   "source": [
    "with open('animals.txt') as f:\n",
    "    text = f.readlines()\n",
    "\n",
    "text"
   ]
  },
  {
   "cell_type": "markdown",
   "metadata": {},
   "source": [
    "++++++++++++++++++++++++++++++++++++++++++++++++++++++++++++++++++++++++++++++++++++++++++++++++++++++++++++++++++++++++++++++++"
   ]
  },
  {
   "cell_type": "markdown",
   "metadata": {},
   "source": [
    "## EXERCISE TIME!\n",
    "\n",
    "Read in the `animals.txt` file and only print the last column of the document. The result should be:\n",
    "\n",
    "```\n",
    "weight\n",
    "7.3\n",
    "1.5\n",
    "5.5\n",
    "454\n",
    "11\n",
    "24.5\n",
    "2.7\n",
    "```"
   ]
  },
  {
   "cell_type": "markdown",
   "metadata": {},
   "source": [
    "++++++++++++++++++++++++++++++++++++++++++++++++++++++++++++++++++++++++++++++++++++++++++++++++++++++++++++++++++++++++++++++++"
   ]
  },
  {
   "cell_type": "code",
   "execution_count": 28,
   "metadata": {
    "collapsed": false
   },
   "outputs": [
    {
     "name": "stdout",
     "output_type": "stream",
     "text": [
      "weight\n",
      "7.3\n",
      "1.5\n",
      "5.5\n",
      "454\n",
      "11\n",
      "24.5\n",
      "2.7\n"
     ]
    }
   ],
   "source": [
    "## SOLUTION\n",
    "\n",
    "with open('animals.txt') as f:\n",
    "    for line in f.readlines():\n",
    "        print line.split('|')[::-1][0],"
   ]
  },
  {
   "cell_type": "markdown",
   "metadata": {},
   "source": [
    "Saving a text file<a id=\"write\"></a>\n",
    "====="
   ]
  },
  {
   "cell_type": "markdown",
   "metadata": {},
   "source": [
    "<ul>\n",
    "<li>Need to open it in write 'w', append 'a' or exclusive creation 'x' mode. \n",
    "<li>Careful with the 'w' mode as it will overwrite into the file if it already exists. All previous data are erased.\n",
    "</ul>"
   ]
  },
  {
   "cell_type": "code",
   "execution_count": 42,
   "metadata": {
    "collapsed": true
   },
   "outputs": [],
   "source": [
    "s = \"\"\"\n",
    "name|species|age|weight\n",
    "arun|cat|5|7.3\n",
    "bob|bird|2|1.5\n",
    "coco|cat|2|5.5\n",
    "dumbo|elephant|23|454\n",
    "elmo|dog|5|11\n",
    "fido|dog|3|24.5\n",
    "gumba|bird|2|2.7\n",
    "\"\"\""
   ]
  },
  {
   "cell_type": "code",
   "execution_count": 43,
   "metadata": {
    "collapsed": true
   },
   "outputs": [],
   "source": [
    "with open('animals2.txt', 'w') as f:\n",
    "    f.write(s)"
   ]
  },
  {
   "cell_type": "code",
   "execution_count": 44,
   "metadata": {
    "collapsed": false
   },
   "outputs": [
    {
     "name": "stdout",
     "output_type": "stream",
     "text": [
      "\r\n",
      "name|species|age|weight\r\n",
      "arun|cat|5|7.3\r\n",
      "bob|bird|2|1.5\r\n",
      "coco|cat|2|5.5\r\n",
      "dumbo|elephant|23|454\r\n",
      "elmo|dog|5|11\r\n",
      "fido|dog|3|24.5\r\n",
      "gumba|bird|2|2.7\r\n"
     ]
    }
   ],
   "source": [
    "!cat 'animals2.txt'"
   ]
  },
  {
   "cell_type": "markdown",
   "metadata": {},
   "source": [
    "++++++++++++++++++++++++++++++++++++++++++++++++++++++++++++++++++++++++++++++++++++++++++++++++++++++++++++++++++++++++++++++++"
   ]
  },
  {
   "cell_type": "markdown",
   "metadata": {},
   "source": [
    "## EXERCISE TIME!\n",
    "\n",
    "1) Create a folder in your home directory called `pygdi`<br>\n",
    "2) In that directory, create a text file (called io.txt) with the following data:\n",
    "\n",
    "```\n",
    "1234567890\n",
    "abcdefghij\n",
    "```\n",
    "\n",
    "3) From this notebook, load io.txt<br>\n",
    "4) Print to the screen the letters associated with each even number from the first line. The output should be:\n",
    "\n",
    "```\n",
    "bdfhj\n",
    "```\n",
    "\n",
    "5) After step 4., delete the directory and the file inside it.\n",
    "\n",
    "Note that you should do the above in Python only. Hint: Look up the `os` module."
   ]
  },
  {
   "cell_type": "markdown",
   "metadata": {},
   "source": [
    "++++++++++++++++++++++++++++++++++++++++++++++++++++++++++++++++++++++++++++++++++++++++++++++++++++++++++++++++++++++++++++++++"
   ]
  },
  {
   "cell_type": "code",
   "execution_count": 33,
   "metadata": {
    "collapsed": false
   },
   "outputs": [
    {
     "name": "stdout",
     "output_type": "stream",
     "text": [
      "bdfhj\n"
     ]
    }
   ],
   "source": [
    "## SOLUTION\n",
    "\n",
    "import os\n",
    "os.mkdir('/Users/ilanman/pygdi')\n",
    "\n",
    "s = \"\"\"1234567890 \n",
    "abcdefghij\"\"\"\n",
    "\n",
    "f = open('/Users/ilanman/pygdi/io.txt','wb')\n",
    "f.write(s)\n",
    "\n",
    "with open('/Users/ilanman/pygdi/io.txt') as f:\n",
    "#     print f.read()\n",
    "    print f.readlines()[1][1::2]\n",
    "\n",
    "os.remove('/Users/ilanman/pygdi/io.txt')\n",
    "os.rmdir('/Users/ilanman/pygdi')"
   ]
  },
  {
   "cell_type": "markdown",
   "metadata": {},
   "source": [
    "Web resources<a id=\"web\"></a>\n",
    "=====\n",
    "\n",
    "<ul>\n",
    "<li>`requests`\n",
    "<li>`urllib2`\n",
    "</ul>"
   ]
  },
  {
   "cell_type": "code",
   "execution_count": 3,
   "metadata": {
    "collapsed": true
   },
   "outputs": [],
   "source": [
    "import requests"
   ]
  },
  {
   "cell_type": "code",
   "execution_count": 26,
   "metadata": {
    "collapsed": false
   },
   "outputs": [],
   "source": [
    "# Only download once - Project Gutenburg will block you if you do this repeatedly\n",
    "\n",
    "try:\n",
    "    with open('Ulysses.txt') as f:\n",
    "        text = f.read()\n",
    "\n",
    "except IOError:\n",
    "    url = 'http://www.gutenberg.org/files/4300/4300-0.txt'\n",
    "    resp = requests.get(url)\n",
    "    text = resp.text\n",
    "    \n",
    "    with open('Ulysses.txt', 'w') as f:\n",
    "        f.write(text.encode('utf-8'))"
   ]
  },
  {
   "cell_type": "code",
   "execution_count": 31,
   "metadata": {
    "collapsed": false
   },
   "outputs": [
    {
     "name": "stdout",
     "output_type": "stream",
     "text": [
      "﻿\r\n",
      "\r\n",
      "\r\n",
      "The Project Gutenberg EBook of Ulysses, by James Joyce\r\n",
      "\r\n",
      "This eBook is for the use of anyone anywhere at no cost and with almost\r\n",
      "no restrictions whatsoever.  You may copy it, give it away or re-use it\r\n",
      "under the terms of the Project Gutenberg License included with this\r\n",
      "eBook or online at www.gutenberg.org\r\n",
      "\r\n",
      "\r\n",
      "Title: Ulysses\r\n",
      "\r\n",
      "Author: James Joyce\r\n",
      "\r\n",
      "Release Date: August 1, 2008 [EBook #4300] \r\n",
      "Last Updated: May 16, 2016\r\n",
      "\r\n",
      "Language: English\r\n",
      "\r\n",
      "Character set encoding: UTF-8\r\n",
      "\r\n",
      "*** ST\n"
     ]
    }
   ],
   "source": [
    "print(text[:500])"
   ]
  },
  {
   "cell_type": "markdown",
   "metadata": {},
   "source": [
    "Loading JSON data<a id=\"json\"></a>\n",
    "----\n",
    "\n",
    "<ul>\n",
    "<li>JavaScript Object Notation (JSON) is a common way of storing data on the web.\n",
    "<li>Python translates JSON into a list of nested dictinaries using the `json` module in the standard library\n",
    "</ul>"
   ]
  },
  {
   "cell_type": "code",
   "execution_count": 36,
   "metadata": {
    "collapsed": true
   },
   "outputs": [],
   "source": [
    "import json\n",
    "import urllib2"
   ]
  },
  {
   "cell_type": "code",
   "execution_count": 37,
   "metadata": {
    "collapsed": false
   },
   "outputs": [],
   "source": [
    "resp = urllib2.urlopen('http://api.tvmaze.com/singlesearch/shows?q=silicon-valley&embed=episodes')\n",
    "text = resp.read()\n",
    "with open('silicon_valley.json', 'w') as f:\n",
    "    f.write(text)"
   ]
  },
  {
   "cell_type": "code",
   "execution_count": 38,
   "metadata": {
    "collapsed": false
   },
   "outputs": [],
   "source": [
    "with open('silicon_valley.json') as f:\n",
    "    data = json.load(f)"
   ]
  },
  {
   "cell_type": "code",
   "execution_count": 39,
   "metadata": {
    "collapsed": false
   },
   "outputs": [
    {
     "name": "stdout",
     "output_type": "stream",
     "text": [
      "{\"id\":143,\"url\":\"http://www.tvmaze.com/shows/143/silicon-valley\",\"name\":\"Silicon Valley\",\"type\":\"Scripted\",\"language\":\"English\",\"genres\":[\"Comedy\"],\"status\":\"Running\",\"runtime\":30,\"premiered\":\"2014-04-06\",\"schedule\":{\"time\":\"22:00\",\"days\":[\"Sunday\"]},\"rating\":{\"average\":8.6},\"weight\":13,\"network\":{\"id\":8,\"name\":\"HBO\",\"country\":{\"name\":\"United States\",\"code\":\"US\",\"timezone\":\"America/New_York\"}},\"webChannel\":null,\"externals\":{\"tvrage\":33759,\"thetvdb\":277165,\"imdb\":\"tt2575988\"},\"image\":{\"medium\":\"http://tvmazecdn.com/uploads/images/medium_portrait/53/132726.jpg\",\"original\":\"http://tvmazecdn.com/uploads/images/original_untouched/53/132726.jpg\"},\"summary\":\"<p>In the high-tech gold rush of modern <strong><em>\\\"Silicon Valley\\\"</em></strong>, the people most qualified to succeed are the least capable of handling success. Mike Judge brings his irreverent brand of humor, and his own experiences working in <em>Silicon Valley</em>, to the award-winning comedy now entering its third season. </p>\","
     ]
    }
   ],
   "source": [
    "!head -c 1000 silicon_valley.json"
   ]
  },
  {
   "cell_type": "code",
   "execution_count": 40,
   "metadata": {
    "collapsed": true
   },
   "outputs": [],
   "source": [
    "from pprint import pprint as pp"
   ]
  },
  {
   "cell_type": "code",
   "execution_count": 41,
   "metadata": {
    "collapsed": false
   },
   "outputs": [
    {
     "name": "stdout",
     "output_type": "stream",
     "text": [
      "{u'episodes': [{u'_links': {u'self': {u'href': u'http://api.tvmaze.com/episodes/10897'}},\n",
      "                u'airdate': u'2014-04-06',\n",
      "                u'airstamp': u'2014-04-06T22:00:00-04:00',\n",
      "                u'airtime': u'22:00',\n",
      "                u'id': 10897,\n",
      "                u'image': {u'medium': u'http://tvmazecdn.com/uploads/images/medium_landscape/49/123633.jpg',\n",
      "                           u'original': u'http://tvmazecdn.com/uploads/images/original_untouched/49/123633.jpg'},\n",
      "                u'name': u'Minimum Viable Product',\n",
      "                u'number': 1,\n",
      "                u'runtime': 30,\n",
      "                u'season': 1,\n",
      "                u'summary': u\"<p>Attending an elaborate launch party, Richard  and his computer programmer friends - Big Head, Dinesh  and Gilfoyle  - dream of making it big. Instead, they're living in the communal Hacker Hostel owned by former programmer Erlich, who gets to claim ten percent of anything they invent there. When it becomes clear that Richard has developed a powerful compression algorithm for his website, Pied Piper, he finds himself courted by Gavin Belson, his egomaniacal corporate boss, who offers a $10 million buyout by his firm, Hooli. But Richard holds back when well-known investor Peter Gregory  makes a counteroffer.</p>\",\n",
      "                u'url': u'http://www.tvmaze.com/episodes/10897/silicon-valley-1x01-minimum-viable-product'},\n",
      "               {u'_links': {u'self': {u'href': u'http://api.tvmaze.com/episodes/10898'}},\n",
      "                u'airdate': u'2014-04-13',\n",
      "                u'airstamp': u'2014-04-13T22:00:00-04:00',\n",
      "                u'airtime': u'22:00',\n",
      "                u'id': 10898,\n",
      "                u'image': {u'medium': u'http://tvmazecdn.com/uploads/images/medium_landscape/49/123634.jpg',\n",
      "                           u'original': u'http://tvmazecdn.com/uploads/images/original_untouched/49/123634.jpg'},\n",
      "                u'name': u'The Cap Table',\n",
      "                u'number': 2,\n",
      "                u'runtime': 30,\n",
      "                u'season': 1,\n",
      "                u'summary': u\"<p>After a celebratory party at the Hacker Hostel, Richard and Erlich learn that Peter Gregory won't pay up until they deliver a viable business plan that includes a slimmed-downed staff. A desperate Richard hires former Belson underling Jared, and they set about trying to trim the fat. While Gilfoyle and Dinesh prove essential, Big Head's place in the company is less certain.</p>\",\n",
      "                u'url': u'http://www.tvmaze.com/episodes/10898/silicon-valley-1x02-the-cap-table'},\n",
      "               {u'_links': {u'self': {u'href': u'http://api.tvmaze.com/episodes/10899'}},\n",
      "                u'airdate': u'2014-04-20',\n",
      "                u'airstamp': u'2014-04-20T22:00:00-04:00',\n",
      "                u'airtime': u'22:00',\n",
      "                u'id': 10899,\n",
      "                u'image': {u'medium': u'http://tvmazecdn.com/uploads/images/medium_landscape/49/123635.jpg',\n",
      "                           u'original': u'http://tvmazecdn.com/uploads/images/original_untouched/49/123635.jpg'},\n",
      "                u'name': u'Articles of Incorporation',\n",
      "                u'number': 3,\n",
      "                u'runtime': 30,\n",
      "                u'season': 1,\n",
      "                u'summary': u'<p>While Gavin Belson begins to hype Nucleus, a competing compression platform, Richard learns that the name Pied Piper is already registered to a sprinkler company, forcing him to negotiate. Meanwhile, Erlich goes on a vision quest for a new company name, and Peter Gregory proves elusive when one of his companies asks for money.</p>',\n",
      "                u'url': u'http://www.tvmaze.com/episodes/10899/silicon-valley-1x03-articles-of-incorporation'},\n",
      "               {u'_links': {u'self': {u'href': u'http://api.tvmaze.com/episodes/10900'}},\n",
      "                u'airdate': u'2014-04-27',\n",
      "                u'airstamp': u'2014-04-27T22:00:00-04:00',\n",
      "                u'airtime': u'22:00',\n",
      "                u'id': 10900,\n",
      "                u'image': {u'medium': u'http://tvmazecdn.com/uploads/images/medium_landscape/49/123636.jpg',\n",
      "                           u'original': u'http://tvmazecdn.com/uploads/images/original_untouched/49/123636.jpg'},\n",
      "                u'name': u'Fiduciary Duties',\n",
      "                u'number': 4,\n",
      "                u'runtime': 30,\n",
      "                u'season': 1,\n",
      "                u'summary': u\"<p>At Peter's toga party, Richard drunkenly promises to make Erlich a board member, which he regrets the next morning. After being unassigned at Hooli, Big Head finds others like him who have made careers out of doing nothing. Richard struggles to put Pied Piper's vision into words for a presentation without Erlich; later, he discovers an interesting connection between Peter and Gavin Belson.</p>\",\n",
      "                u'url': u'http://www.tvmaze.com/episodes/10900/silicon-valley-1x04-fiduciary-duties'},\n",
      "               {u'_links': {u'self': {u'href': u'http://api.tvmaze.com/episodes/10901'}},\n",
      "                u'airdate': u'2014-05-04',\n",
      "                u'airstamp': u'2014-05-04T22:00:00-04:00',\n",
      "                u'airtime': u'22:00',\n",
      "                u'id': 10901,\n",
      "                u'image': {u'medium': u'http://tvmazecdn.com/uploads/images/medium_landscape/49/123637.jpg',\n",
      "                           u'original': u'http://tvmazecdn.com/uploads/images/original_untouched/49/123637.jpg'},\n",
      "                u'name': u'Signaling Risk',\n",
      "                u'number': 5,\n",
      "                u'runtime': 30,\n",
      "                u'season': 1,\n",
      "                u'summary': u\"<p>Erlich  convinces a graffiti artist to create Pied Piper's logo, with controversial results. Jared  tries to make the company more efficient. After Gavin Belson  and Peter Gregory  unexpectedly come face-to-face, Richard  learns that he only has eight weeks to prepare for a live demo at TechCrunch Disrupt.</p>\",\n",
      "                u'url': u'http://www.tvmaze.com/episodes/10901/silicon-valley-1x05-signaling-risk'},\n",
      "               {u'_links': {u'self': {u'href': u'http://api.tvmaze.com/episodes/10902'}},\n",
      "                u'airdate': u'2014-05-11',\n",
      "                u'airstamp': u'2014-05-11T22:00:00-04:00',\n",
      "                u'airtime': u'22:00',\n",
      "                u'id': 10902,\n",
      "                u'image': {u'medium': u'http://tvmazecdn.com/uploads/images/medium_landscape/49/123638.jpg',\n",
      "                           u'original': u'http://tvmazecdn.com/uploads/images/original_untouched/49/123638.jpg'},\n",
      "                u'name': u'Third Party Insourcing',\n",
      "                u'number': 6,\n",
      "                u'runtime': 30,\n",
      "                u'season': 1,\n",
      "                u'summary': u'<p>Richard feels threatened when the team hires \"The Carver\", a hacker with a notorious reputation, to help with Pied Piper\\'s cloud. Jared finds himself taken for a ride when he seeks out Peter Gregory\\'s signature. Erlich and Dinesh  compete for the attention of Tara, Gilfoyle\\'s  visiting girlfriend. Later, Dinesh faces a sexual dilemma.</p>',\n",
      "                u'url': u'http://www.tvmaze.com/episodes/10902/silicon-valley-1x06-third-party-insourcing'},\n",
      "               {u'_links': {u'self': {u'href': u'http://api.tvmaze.com/episodes/10903'}},\n",
      "                u'airdate': u'2014-05-18',\n",
      "                u'airstamp': u'2014-05-18T22:00:00-04:00',\n",
      "                u'airtime': u'22:00',\n",
      "                u'id': 10903,\n",
      "                u'image': {u'medium': u'http://tvmazecdn.com/uploads/images/medium_landscape/49/123639.jpg',\n",
      "                           u'original': u'http://tvmazecdn.com/uploads/images/original_untouched/49/123639.jpg'},\n",
      "                u'name': u'Proof of Concept',\n",
      "                u'number': 7,\n",
      "                u'runtime': 30,\n",
      "                u'season': 1,\n",
      "                u'summary': u\"<p>At TechCrunch Disrupt, Richard feels the pressure to finish his demo, but finds himself distracted by a girl he dated briefly, who's now spreading rumors about him. Jared worries that Monica  is taking his place in the company. Dinesh develops a crush on a girl at a neighboring booth. Erlich's scandalous past connection to one of the judges threatens Pied Piper's chances.</p>\",\n",
      "                u'url': u'http://www.tvmaze.com/episodes/10903/silicon-valley-1x07-proof-of-concept'},\n",
      "               {u'_links': {u'self': {u'href': u'http://api.tvmaze.com/episodes/10904'}},\n",
      "                u'airdate': u'2014-06-01',\n",
      "                u'airstamp': u'2014-06-01T22:00:00-04:00',\n",
      "                u'airtime': u'22:00',\n",
      "                u'id': 10904,\n",
      "                u'image': {u'medium': u'http://tvmazecdn.com/uploads/images/medium_landscape/49/123640.jpg',\n",
      "                           u'original': u'http://tvmazecdn.com/uploads/images/original_untouched/49/123640.jpg'},\n",
      "                u'name': u'Optimal Tip-to-Tip Efficiency',\n",
      "                u'number': 8,\n",
      "                u'runtime': 30,\n",
      "                u'season': 1,\n",
      "                u'summary': u'<p>Poised to compete at TechCrunch Disrupt, the guys of Pied Piper become worried after an impressive presentation by Gavin Belson. As Jared tries to pivot the company, Richard is inspired to make big changes at the last minute.</p>',\n",
      "                u'url': u'http://www.tvmaze.com/episodes/10904/silicon-valley-1x08-optimal-tip-to-tip-efficiency'},\n",
      "               {u'_links': {u'self': {u'href': u'http://api.tvmaze.com/episodes/117409'}},\n",
      "                u'airdate': u'2015-04-12',\n",
      "                u'airstamp': u'2015-04-12T22:00:00-04:00',\n",
      "                u'airtime': u'22:00',\n",
      "                u'id': 117409,\n",
      "                u'image': {u'medium': u'http://tvmazecdn.com/uploads/images/medium_landscape/49/123616.jpg',\n",
      "                           u'original': u'http://tvmazecdn.com/uploads/images/original_untouched/49/123616.jpg'},\n",
      "                u'name': u'Sand Hill Shuffle',\n",
      "                u'number': 1,\n",
      "                u'runtime': 30,\n",
      "                u'season': 2,\n",
      "                u'summary': u'<p>Season 2 begins with the Pied Piper guys being wined and dined by every venture capitalist under the sun, while Monica adjusts to a new managing partner at Raviga as the company faces major changes.</p>',\n",
      "                u'url': u'http://www.tvmaze.com/episodes/117409/silicon-valley-2x01-sand-hill-shuffle'},\n",
      "               {u'_links': {u'self': {u'href': u'http://api.tvmaze.com/episodes/142992'}},\n",
      "                u'airdate': u'2015-04-19',\n",
      "                u'airstamp': u'2015-04-19T22:00:00-04:00',\n",
      "                u'airtime': u'22:00',\n",
      "                u'id': 142992,\n",
      "                u'image': {u'medium': u'http://tvmazecdn.com/uploads/images/medium_landscape/49/123618.jpg',\n",
      "                           u'original': u'http://tvmazecdn.com/uploads/images/original_untouched/49/123618.jpg'},\n",
      "                u'name': u'Runaway Devaluation',\n",
      "                u'number': 2,\n",
      "                u'runtime': 30,\n",
      "                u'season': 2,\n",
      "                u'summary': u\"<p>Pied Piper could go under if Richard and the guys can't find legal and financial help in the wake of Hooli's bombshell. Meanwhile, Dinesh tries to thwart a fund-raising campaign for his cousin's new app; and Monica tries to keep her interest in Pied Piper separate from her job.</p>\",\n",
      "                u'url': u'http://www.tvmaze.com/episodes/142992/silicon-valley-2x02-runaway-devaluation'},\n",
      "               {u'_links': {u'self': {u'href': u'http://api.tvmaze.com/episodes/142993'}},\n",
      "                u'airdate': u'2015-04-26',\n",
      "                u'airstamp': u'2015-04-26T22:00:00-04:00',\n",
      "                u'airtime': u'22:00',\n",
      "                u'id': 142993,\n",
      "                u'image': {u'medium': u'http://tvmazecdn.com/uploads/images/medium_landscape/49/123619.jpg',\n",
      "                           u'original': u'http://tvmazecdn.com/uploads/images/original_untouched/49/123619.jpg'},\n",
      "                u'name': u'Bad Money',\n",
      "                u'number': 3,\n",
      "                u'runtime': 30,\n",
      "                u'season': 2,\n",
      "                u'summary': u\"<p>Richard mulls a proposal by Gavin, but also considers a pitch from Russ Hanneman about backing Pied Piper. Meanwhile, Monica learns surprising news about Richard's deal with Hooli; and Gilfoyle and Dinesh go to extremes to get what they want.</p>\",\n",
      "                u'url': u'http://www.tvmaze.com/episodes/142993/silicon-valley-2x03-bad-money'},\n",
      "               {u'_links': {u'self': {u'href': u'http://api.tvmaze.com/episodes/142994'}},\n",
      "                u'airdate': u'2015-05-03',\n",
      "                u'airstamp': u'2015-05-03T22:00:00-04:00',\n",
      "                u'airtime': u'22:00',\n",
      "                u'id': 142994,\n",
      "                u'image': {u'medium': u'http://tvmazecdn.com/uploads/images/medium_landscape/49/123620.jpg',\n",
      "                           u'original': u'http://tvmazecdn.com/uploads/images/original_untouched/49/123620.jpg'},\n",
      "                u'name': u'The Lady',\n",
      "                u'number': 4,\n",
      "                u'runtime': 30,\n",
      "                u'season': 2,\n",
      "                u'summary': u'<p>Richard butts heads with Erlich over a prospective hire, while Dinesh and Gilfoyle become suspicious that a new employee they recommended is commanding a higher salary. Big Head gets a surprising promotion at Hooli. At a board meeting, Monica and Richard find themselves outvoted; Jared institutes a workplace harassment policy.</p>',\n",
      "                u'url': u'http://www.tvmaze.com/episodes/142994/silicon-valley-2x04-the-lady'},\n",
      "               {u'_links': {u'self': {u'href': u'http://api.tvmaze.com/episodes/153965'}},\n",
      "                u'airdate': u'2015-05-10',\n",
      "                u'airstamp': u'2015-05-10T22:00:00-04:00',\n",
      "                u'airtime': u'22:00',\n",
      "                u'id': 153965,\n",
      "                u'image': {u'medium': u'http://tvmazecdn.com/uploads/images/medium_landscape/10/27312.jpg',\n",
      "                           u'original': u'http://tvmazecdn.com/uploads/images/original_untouched/10/27312.jpg'},\n",
      "                u'name': u'Server Space',\n",
      "                u'number': 5,\n",
      "                u'runtime': 30,\n",
      "                u'season': 2,\n",
      "                u'summary': u\"<p>Gavin creates interference that hinders Pied Piper's expansion. Meanwhile, the guys could be threatened by a nosy neighbor; Guilfoyle sets out to build servers; Richard's reluctant to let Jared move in; and Big Head's leadership skills are suspect.</p>\",\n",
      "                u'url': u'http://www.tvmaze.com/episodes/153965/silicon-valley-2x05-server-space'},\n",
      "               {u'_links': {u'self': {u'href': u'http://api.tvmaze.com/episodes/154580'}},\n",
      "                u'airdate': u'2015-05-17',\n",
      "                u'airstamp': u'2015-05-17T22:00:00-04:00',\n",
      "                u'airtime': u'22:00',\n",
      "                u'id': 154580,\n",
      "                u'image': {u'medium': u'http://tvmazecdn.com/uploads/images/medium_landscape/49/123622.jpg',\n",
      "                           u'original': u'http://tvmazecdn.com/uploads/images/original_untouched/49/123622.jpg'},\n",
      "                u'name': u'Homicide',\n",
      "                u'number': 6,\n",
      "                u'runtime': 30,\n",
      "                u'season': 2,\n",
      "                u'summary': u\"<p>Erlich runs into an old prot\\xe9g\\xe9 who's now an energy drink billionaire when Monica urges the guys to pursue a livestream opportunity, but Richard learns their friendship isn't what Erlich thinks it is. Meanwhile, Jared wants Carla and Monica to be friends.</p>\",\n",
      "                u'url': u'http://www.tvmaze.com/episodes/154580/silicon-valley-2x06-homicide'},\n",
      "               {u'_links': {u'self': {u'href': u'http://api.tvmaze.com/episodes/155129'}},\n",
      "                u'airdate': u'2015-05-24',\n",
      "                u'airstamp': u'2015-05-24T22:00:00-04:00',\n",
      "                u'airtime': u'22:00',\n",
      "                u'id': 155129,\n",
      "                u'image': {u'medium': u'http://tvmazecdn.com/uploads/images/medium_landscape/49/123623.jpg',\n",
      "                           u'original': u'http://tvmazecdn.com/uploads/images/original_untouched/49/123623.jpg'},\n",
      "                u'name': u'Adult Content',\n",
      "                u'number': 7,\n",
      "                u'runtime': 30,\n",
      "                u'season': 2,\n",
      "                u'summary': u\"<p>The team fields job offers and Russ is distracted by financial news, but Richard realizes Pied Piper could fold if it doesn't merge with a hated rival. Meanwhile, Dinesh tries to woo a woman online; and Gavin looks on the bright side of Nucleus' failure.</p>\",\n",
      "                u'url': u'http://www.tvmaze.com/episodes/155129/silicon-valley-2x07-adult-content'},\n",
      "               {u'_links': {u'self': {u'href': u'http://api.tvmaze.com/episodes/155130'}},\n",
      "                u'airdate': u'2015-05-31',\n",
      "                u'airstamp': u'2015-05-31T22:00:00-04:00',\n",
      "                u'airtime': u'22:00',\n",
      "                u'id': 155130,\n",
      "                u'image': {u'medium': u'http://tvmazecdn.com/uploads/images/medium_landscape/49/123624.jpg',\n",
      "                           u'original': u'http://tvmazecdn.com/uploads/images/original_untouched/49/123624.jpg'},\n",
      "                u'name': u'White Hat/Black Hat',\n",
      "                u'number': 8,\n",
      "                u'runtime': 30,\n",
      "                u'season': 2,\n",
      "                u'summary': u\"<p>Richard gets paranoid about security after he takes pity on a competitor and inadvertently starts a feud. Meanwhile, Jared fibs about Pied Piper's size; and Gavin looks for a scapegoat when he feels pressure from board members.</p>\",\n",
      "                u'url': u'http://www.tvmaze.com/episodes/155130/silicon-valley-2x08-white-hatblack-hat'},\n",
      "               {u'_links': {u'self': {u'href': u'http://api.tvmaze.com/episodes/155199'}},\n",
      "                u'airdate': u'2015-06-07',\n",
      "                u'airstamp': u'2015-06-07T22:00:00-04:00',\n",
      "                u'airtime': u'22:00',\n",
      "                u'id': 155199,\n",
      "                u'image': {u'medium': u'http://tvmazecdn.com/uploads/images/medium_landscape/49/123625.jpg',\n",
      "                           u'original': u'http://tvmazecdn.com/uploads/images/original_untouched/49/123625.jpg'},\n",
      "                u'name': u'Binding Arbitration',\n",
      "                u'number': 9,\n",
      "                u'runtime': 30,\n",
      "                u'season': 2,\n",
      "                u'summary': u\"<p>Erlich wants to testify when Pied Piper and Hooli enter binding arbitration, but Richard worries that his rival's claims could have merit. Meanwhile, Jared, Dinesh and Gilfoyle debate a philosophical theory; and Big Head gets a boost.</p>\",\n",
      "                u'url': u'http://www.tvmaze.com/episodes/155199/silicon-valley-2x09-binding-arbitration'},\n",
      "               {u'_links': {u'self': {u'href': u'http://api.tvmaze.com/episodes/155200'}},\n",
      "                u'airdate': u'2015-06-14',\n",
      "                u'airstamp': u'2015-06-14T22:00:00-04:00',\n",
      "                u'airtime': u'22:00',\n",
      "                u'id': 155200,\n",
      "                u'image': {u'medium': u'http://tvmazecdn.com/uploads/images/medium_landscape/49/123626.jpg',\n",
      "                           u'original': u'http://tvmazecdn.com/uploads/images/original_untouched/49/123626.jpg'},\n",
      "                u'name': u'Two Days of The Condor',\n",
      "                u'number': 10,\n",
      "                u'runtime': 30,\n",
      "                u'season': 2,\n",
      "                u'summary': u\"<p>As the guys await the verdict on Pied Piper's fate, an unexpected real-life drama draws a spike in traffic to their livestream and leaves them fighting to hold things together - literally. While Erlich considers his future, Richard scrambles to save Pied Piper's.</p>\",\n",
      "                u'url': u'http://www.tvmaze.com/episodes/155200/silicon-valley-2x10-two-days-of-the-condor'},\n",
      "               {u'_links': {u'self': {u'href': u'http://api.tvmaze.com/episodes/560883'}},\n",
      "                u'airdate': u'2016-04-24',\n",
      "                u'airstamp': u'2016-04-24T22:00:00-04:00',\n",
      "                u'airtime': u'22:00',\n",
      "                u'id': 560883,\n",
      "                u'image': {u'medium': u'http://tvmazecdn.com/uploads/images/medium_landscape/61/154297.jpg',\n",
      "                           u'original': u'http://tvmazecdn.com/uploads/images/original_untouched/61/154297.jpg'},\n",
      "                u'name': u'Founder Friendly',\n",
      "                u'number': 1,\n",
      "                u'runtime': 30,\n",
      "                u'season': 3,\n",
      "                u'summary': u\"<p>After being unceremoniously fired, an angry Richard faces a tough decision: accept the diminished role of CTO, or leave Pied Piper for good. Erlich takes a shine to Jack Barker, Laurie's new choice of CEO, while Dinesh and Gilfoyle weigh their options in Richard's absence. At Hooli, Gavin tries to improve his image by admitting failure, and Big Head gets wind of major changes.</p>\",\n",
      "                u'url': u'http://www.tvmaze.com/episodes/560883/silicon-valley-3x01-founder-friendly'},\n",
      "               {u'_links': {u'self': {u'href': u'http://api.tvmaze.com/episodes/668661'}},\n",
      "                u'airdate': u'2016-05-01',\n",
      "                u'airstamp': u'2016-05-01T22:00:00-04:00',\n",
      "                u'airtime': u'22:00',\n",
      "                u'id': 668661,\n",
      "                u'image': {u'medium': u'http://tvmazecdn.com/uploads/images/medium_landscape/55/138938.jpg',\n",
      "                           u'original': u'http://tvmazecdn.com/uploads/images/original_untouched/55/138938.jpg'},\n",
      "                u'name': u'Two in the Box',\n",
      "                u'number': 2,\n",
      "                u'runtime': 30,\n",
      "                u'season': 3,\n",
      "                u'summary': u'<p>The new and improved Pied Piper impresses Dinesh and Gilfoyle, but worries Richard; Jared and Erlich both face housing issues; Gavin suggests a controversial move.</p>',\n",
      "                u'url': u'http://www.tvmaze.com/episodes/668661/silicon-valley-3x02-two-in-the-box'},\n",
      "               {u'_links': {u'self': {u'href': u'http://api.tvmaze.com/episodes/668662'}},\n",
      "                u'airdate': u'2016-05-08',\n",
      "                u'airstamp': u'2016-05-08T22:00:00-04:00',\n",
      "                u'airtime': u'22:00',\n",
      "                u'id': 668662,\n",
      "                u'image': {u'medium': u'http://tvmazecdn.com/uploads/images/medium_landscape/56/142406.jpg',\n",
      "                           u'original': u'http://tvmazecdn.com/uploads/images/original_untouched/56/142406.jpg'},\n",
      "                u'name': u\"Meinertzhagen's Haversack\",\n",
      "                u'number': 3,\n",
      "                u'runtime': 30,\n",
      "                u'season': 3,\n",
      "                u'summary': u'<p>Richard searches for a way around Jack; Gilfoyle opens himself up to recruiters; Dinesh draws unwanted attention from a recent purchase. </p>',\n",
      "                u'url': u'http://www.tvmaze.com/episodes/668662/silicon-valley-3x03-meinertzhagens-haversack'},\n",
      "               {u'_links': {u'self': {u'href': u'http://api.tvmaze.com/episodes/670680'}},\n",
      "                u'airdate': u'2016-05-15',\n",
      "                u'airstamp': u'2016-05-15T22:00:00-04:00',\n",
      "                u'airtime': u'22:00',\n",
      "                u'id': 670680,\n",
      "                u'image': {u'medium': u'http://tvmazecdn.com/uploads/images/medium_landscape/58/145807.jpg',\n",
      "                           u'original': u'http://tvmazecdn.com/uploads/images/original_untouched/58/145807.jpg'},\n",
      "                u'name': u'Maleant Data Systems Solutions',\n",
      "                u'number': 4,\n",
      "                u'runtime': 30,\n",
      "                u'season': 3,\n",
      "                u'summary': u'<p>The Pied Piper guys struggle to phone it in; Erlich faces competition; Monica takes a stand; Gavin makes a decision about Nucleus.</p>',\n",
      "                u'url': u'http://www.tvmaze.com/episodes/670680/silicon-valley-3x04-maleant-data-systems-solutions'},\n",
      "               {u'_links': {u'self': {u'href': u'http://api.tvmaze.com/episodes/670682'}},\n",
      "                u'airdate': u'2016-05-22',\n",
      "                u'airstamp': u'2016-05-22T22:00:00-04:00',\n",
      "                u'airtime': u'22:00',\n",
      "                u'id': 670682,\n",
      "                u'image': {u'medium': u'http://tvmazecdn.com/uploads/images/medium_landscape/59/147688.jpg',\n",
      "                           u'original': u'http://tvmazecdn.com/uploads/images/original_untouched/59/147688.jpg'},\n",
      "                u'name': u'The Empty Chair',\n",
      "                u'number': 5,\n",
      "                u'runtime': 30,\n",
      "                u'season': 3,\n",
      "                u'summary': u'<p>Richard lets his ego get in the way at an interview; Dinesh, Gilfoyle and Jared misplace hardware; Erlich pitches his plans to Big Head.</p>',\n",
      "                u'url': u'http://www.tvmaze.com/episodes/670682/silicon-valley-3x05-the-empty-chair'},\n",
      "               {u'_links': {u'self': {u'href': u'http://api.tvmaze.com/episodes/670681'}},\n",
      "                u'airdate': u'2016-05-29',\n",
      "                u'airstamp': u'2016-05-29T22:00:00-04:00',\n",
      "                u'airtime': u'22:00',\n",
      "                u'id': 670681,\n",
      "                u'image': {u'medium': u'http://tvmazecdn.com/uploads/images/medium_landscape/60/150310.jpg',\n",
      "                           u'original': u'http://tvmazecdn.com/uploads/images/original_untouched/60/150310.jpg'},\n",
      "                u'name': u'Bachmanity Insanity',\n",
      "                u'number': 6,\n",
      "                u'runtime': 30,\n",
      "                u'season': 3,\n",
      "                u'summary': u\"<p>Richard's new relationship is threatened by neuroses; Big Head and Erlich's launch party has snags; Dinesh falls for a foreign coworker. </p>\",\n",
      "                u'url': u'http://www.tvmaze.com/episodes/670681/silicon-valley-3x06-bachmanity-insanity'},\n",
      "               {u'_links': {u'self': {u'href': u'http://api.tvmaze.com/episodes/717453'}},\n",
      "                u'airdate': u'2016-06-05',\n",
      "                u'airstamp': u'2016-06-05T22:00:00-04:00',\n",
      "                u'airtime': u'22:00',\n",
      "                u'id': 717453,\n",
      "                u'image': {u'medium': u'http://tvmazecdn.com/uploads/images/medium_landscape/61/152985.jpg',\n",
      "                           u'original': u'http://tvmazecdn.com/uploads/images/original_untouched/61/152985.jpg'},\n",
      "                u'name': u'To Build a Better Beta',\n",
      "                u'number': 7,\n",
      "                u'runtime': 30,\n",
      "                u'season': 3,\n",
      "                u'summary': u'<p>When the guys decide to release the beta version of Pied Piper, they receive an unexpected response. With a limited number of beta invites each, Dinesh worries about his lack of friends, while Gilfoyle looks to catch him in a lie. Monica worries about how to deliver criticism. Facing financial woes, Erlich considers a big decision, and Gavin challenges the Nucleus team to do the impossible.</p>',\n",
      "                u'url': u'http://www.tvmaze.com/episodes/717453/silicon-valley-3x07-to-build-a-better-beta'},\n",
      "               {u'_links': {u'self': {u'href': u'http://api.tvmaze.com/episodes/729570'}},\n",
      "                u'airdate': u'2016-06-12',\n",
      "                u'airstamp': u'2016-06-12T22:00:00-04:00',\n",
      "                u'airtime': u'22:00',\n",
      "                u'id': 729570,\n",
      "                u'image': {u'medium': u'http://tvmazecdn.com/uploads/images/medium_landscape/61/154296.jpg',\n",
      "                           u'original': u'http://tvmazecdn.com/uploads/images/original_untouched/61/154296.jpg'},\n",
      "                u'name': u\"Bachman's Earning's Over-ride\",\n",
      "                u'number': 8,\n",
      "                u'runtime': 30,\n",
      "                u'season': 3,\n",
      "                u'summary': u\"<p>Erlich struggles to come clean to Richard, who is forced to make a choice between their friendship and the company's future. Jared's new Pied Piper apparel makes a splash, and divides Dinesh and Gilfoyle. As Gavin faces major life changes, the guys celebrate a rare victory.</p>\",\n",
      "                u'url': u'http://www.tvmaze.com/episodes/729570/silicon-valley-3x08-bachmans-earnings-over-ride'},\n",
      "               {u'_links': {u'self': {u'href': u'http://api.tvmaze.com/episodes/729571'}},\n",
      "                u'airdate': u'2016-06-19',\n",
      "                u'airstamp': u'2016-06-19T22:00:00-04:00',\n",
      "                u'airtime': u'22:00',\n",
      "                u'id': 729571,\n",
      "                u'image': {u'medium': u'http://tvmazecdn.com/uploads/images/medium_landscape/62/155043.jpg',\n",
      "                           u'original': u'http://tvmazecdn.com/uploads/images/original_untouched/62/155043.jpg'},\n",
      "                u'name': u'Daily Active Users',\n",
      "                u'number': 9,\n",
      "                u'runtime': 30,\n",
      "                u'season': 3,\n",
      "                u'summary': u'<p>Upon discovering surprising stats, Richard attempts to bridge the gap between Pied Piper and its users, leading Jared to take drastic measures to hold everything together. Gavin learns secrets about the competition and decides to bring in a new face to reclaim his former glory.</p>',\n",
      "                u'url': u'http://www.tvmaze.com/episodes/729571/silicon-valley-3x09-daily-active-users'},\n",
      "               {u'_links': {u'self': {u'href': u'http://api.tvmaze.com/episodes/729572'}},\n",
      "                u'airdate': u'2016-06-26',\n",
      "                u'airstamp': u'2016-06-26T22:30:00-04:00',\n",
      "                u'airtime': u'22:30',\n",
      "                u'id': 729572,\n",
      "                u'image': {u'medium': u'http://tvmazecdn.com/uploads/images/medium_landscape/63/158086.jpg',\n",
      "                           u'original': u'http://tvmazecdn.com/uploads/images/original_untouched/63/158086.jpg'},\n",
      "                u'name': u'The Uptick',\n",
      "                u'number': 10,\n",
      "                u'runtime': 30,\n",
      "                u'season': 3,\n",
      "                u'summary': u\"<p>With Pied Piper's future in question, Erlich's publicity success leaves Richard in a moral quandary, just as Dinesh's video-chat app gathers speed. While Laurie prepares to jump ship, Gavin's comeback at Hooli is threatened by his displays of grandeur.</p>\",\n",
      "                u'url': u'http://www.tvmaze.com/episodes/729572/silicon-valley-3x10-the-uptick'}]}\n"
     ]
    }
   ],
   "source": [
    "pp(data['_embedded'])"
   ]
  },
  {
   "cell_type": "markdown",
   "metadata": {},
   "source": [
    "## Review Problems<a id='hmk'></a>"
   ]
  },
  {
   "cell_type": "markdown",
   "metadata": {
    "collapsed": true
   },
   "source": [
    "1) Read in and save the following JSONs, each to their own `.json` file, in the `/pdygdi` directory.\n",
    "\n",
    "```python\n",
    "http://www.carqueryapi.com/api/0.3/?callback=?&cmd=getModels&make=ford\n",
    "```\n",
    "\n",
    "where \n",
    "\n",
    "```python\n",
    "makes = ['Ford', 'GMC', 'Acura', 'Cadillac', 'Ferrari', 'Jaguar', 'Mercedes-Benz', 'BMW', 'Nissan', 'Porsche', 'Subaru', 'Toyota']\n",
    "```\n",
    "\n",
    "In the end you'll have 12 `.json` files. Note that the formatting of the JSON object may need to be adjusted slightly.\n",
    "\n",
    "2) Find the number of models, for each make, that start with `'S'`.\n",
    "\n",
    "3) Save the results as a `json` in a new file, `S_models.json`.\n",
    "\n",
    "Your `S_models.json` file should look something like:\n",
    "\n",
    "```python\n",
    "{\n",
    "Acura: 1,\n",
    "Jaguar: 3,\n",
    "GMC: 8,\n",
    "Cadillac: 6,\n",
    "Nissan: 12,\n",
    "Porsche: 0,\n",
    "Toyota: 13,\n",
    "Ford: 11,\n",
    "Subaru: 2,\n",
    "Ferrari: 1,\n",
    "BMW: 1,\n",
    "Mercedes-Benz: 16\n",
    "}\n",
    "```\n",
    "\n",
    "Hint: Try to do the whole thing for one make, then think about wrapping the entire process in a loop over every make."
   ]
  },
  {
   "cell_type": "code",
   "execution_count": 97,
   "metadata": {
    "collapsed": false
   },
   "outputs": [],
   "source": [
    "## SOLUTION\n",
    "\n",
    "import urllib2\n",
    "import json\n",
    "os.mkdir('../pygdi')\n",
    "\n",
    "makes = ['Ford', 'GMC', 'Acura', 'Cadillac', 'Ferrari', 'Jaguar', 'Mercedes-Benz', 'BMW', 'Nissan', 'Porsche', 'Subaru', 'Toyota']\n",
    "s_models = {}\n",
    "\n",
    "for m in makes:\n",
    "    \n",
    "    url = 'http://www.carqueryapi.com/api/0.3/?callback=?&cmd=getModels&make={}'.format(m)\n",
    "    resp = urllib2.urlopen(url)\n",
    "    text = resp.read()\n",
    "    \n",
    "    make_file_name = '../pygdi/{}.txt'.format(m)\n",
    "    \n",
    "    with open(make_file_name, 'w') as f:\n",
    "        f.write(text[3:-2])\n",
    "    \n",
    "    with open(make_file_name, 'r') as f:\n",
    "        data = json.load(f)\n",
    "    \n",
    "    cnt = 0\n",
    "    for i in data['Models']:\n",
    "        if i['model_name'][0] == 'S':\n",
    "            cnt += 1\n",
    "\n",
    "    s_models[m] = cnt\n",
    "    \n",
    "\n",
    "with open('../pygdi/S_models.json', 'w') as f:\n",
    "    json.dump(s_models, f)"
   ]
  }
 ],
 "metadata": {
  "kernelspec": {
   "display_name": "Python 2",
   "language": "python",
   "name": "python2"
  },
  "language_info": {
   "codemirror_mode": {
    "name": "ipython",
    "version": 2
   },
   "file_extension": ".py",
   "mimetype": "text/x-python",
   "name": "python",
   "nbconvert_exporter": "python",
   "pygments_lexer": "ipython2",
   "version": "2.7.10"
  }
 },
 "nbformat": 4,
 "nbformat_minor": 0
}
