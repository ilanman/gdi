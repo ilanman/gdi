{
 "cells": [
  {
   "cell_type": "code",
   "execution_count": 2,
   "metadata": {
    "collapsed": true
   },
   "outputs": [],
   "source": [
    "import numpy as np\n",
    "from numpy import linalg as la\n",
    "import matplotlib.pyplot as plt\n",
    "import seaborn as sns\n",
    "%matplotlib inline"
   ]
  },
  {
   "cell_type": "markdown",
   "metadata": {},
   "source": [
    "1. [Basic concepts of ML](#ML)\n",
    "2. [Linear Regression](#linreg)\n",
    "3. [NDArray](#array)\n",
    "4. [Find beta](#findbeta)\n",
    "5. [More functions](#func)\n",
    "6. [Review Problems](#hmwk)\n"
   ]
  },
  {
   "cell_type": "markdown",
   "metadata": {},
   "source": [
    "# Statistics and Machine Learning<a id='ml'></a>"
   ]
  },
  {
   "cell_type": "markdown",
   "metadata": {},
   "source": [
    "### Supervised Learning\n",
    "\n",
    "<ul>\n",
    "<li>Given a data set and already know what our correct output should look like\n",
    "<li>Having the idea that there is a relationship between the input and the output\n",
    "<li>Categorized into *regression* and *classification* problems\n",
    "<li>Example: Can you predict marathon times based on 10K performance?\n",
    "<li>**Can you think of another?**\n",
    "</ul>\n",
    "\n",
    "### Unsupervised Learning\n",
    "\n",
    "<ul>\n",
    "<li>Problems with little or no idea what our results should look like\n",
    "<li>Derive structure from data where we don't necessarily know the effect of the variables\n",
    "<li>No feedback based on the prediction results, i.e., there is no teacher to correct you\n",
    "<li>Clustering, association, dimensionality reduction\n",
    "<li>Example: What are the different types of people who use our product? What are the important features that distinguish our users?\n",
    "<li>**Can you think of another?**\n",
    "</ul>\n",
    "\n",
    "Very common to combine, i.e. dimensionality reduction and linear regression\n"
   ]
  },
  {
   "cell_type": "markdown",
   "metadata": {},
   "source": [
    "<img src='../images/learning_process.jpg'>"
   ]
  },
  {
   "cell_type": "markdown",
   "metadata": {},
   "source": [
    "## Basic model building process\n",
    "\n",
    "<ol>\n",
    "<li>Identify a problem to be solved\n",
    "<li>Get some data\n",
    "<li>Clean the data - standardize columns\n",
    "<li>Exploratory analysis - histograms, scatter plots, summaries\n",
    "<li>Clean it some more\n",
    "<li>Identify target features (if supervised learning)\n",
    "<li>Fit a model to the data - Machine Learning!\n",
    "<ul>\n",
    "<li>Split the data into a training and testing set (more on this later)\n",
    "<li>Train a model. Tune parameters.\n",
    "<li>Select the appropriate measure of fit. Accuracy, F1 score, AUC, Confusion matrix (more later!)\n",
    "<li>Test the model. Beware of overfitting and underfitting! (more on this later)\n",
    "<li>If you're happy with the results, you're done!\n",
    "<li>Otherwise:\n",
    "<ol>\n",
    "<li>The model is misspecified. Repeat the above steps.\n",
    "<li>The data aren't telling the whole story - are you missing any? Is there too much noise?\n",
    "<li>The question isn't answerable using the data you have\n",
    "</ol>\n",
    "</ul>\n",
    "</ol>"
   ]
  },
  {
   "cell_type": "markdown",
   "metadata": {},
   "source": [
    "# Linear Regression<a id='linreg'></a>"
   ]
  },
  {
   "cell_type": "markdown",
   "metadata": {},
   "source": [
    "### Motivation\n",
    "\n",
    "<ul>\n",
    "<li>Make predictions about real-world quantities, like sales or life expectancy\n",
    "<li>Understand relationship between variables\n",
    "<li>Examples:\n",
    "<ul>\n",
    "<li>How does sales volume change with changes in price. How is this affected by changes in the weather?\n",
    "<li>How are the conversions on an ecommerce website affected by two different page titles in an A/B comparison?\n",
    "<li>How is the interest rate charged on a loan affected by credit history and by loan amount?\n",
    "</ul>\n",
    "</ul>"
   ]
  },
  {
   "cell_type": "markdown",
   "metadata": {},
   "source": [
    "### Model set up\n",
    "\n",
    "Simple linear regression takes the following form:\n",
    "\n",
    "$y = \\beta_0 + \\beta_1x$\n",
    "\n",
    "- $y$ is the response (or dependent variable or target)\n",
    "- sometimes you see it as $\\hat{y_i}$ which represents an estimate (or prediction) rather than the true value\n",
    "- $x$ is the feature (or covariate or predictor or independent variable or feature)\n",
    "- $\\beta_0$ is the intercept\n",
    "- $\\beta_1$ is the coefficient for x\n",
    "- many assumptions are baked into this model (random noise, constant variance, ... all of which are out of scope)\n",
    "\n",
    "Together, $\\beta_0$ and $\\beta_1$ are called the **model coefficients** (or feature weights). To create your model, you must \"learn\" the values of these coefficients."
   ]
  },
  {
   "cell_type": "markdown",
   "metadata": {},
   "source": [
    "### Another way to write it!\n",
    "\n",
    "<ul>\n",
    "<li>In practice use matrices and vectors because we have many data points, i.e.$(x,y)$ pairs\n",
    "<li>Written as $\\mathbf{y = \\beta x}$ where<br><br>\n",
    "</ul>\n",
    "\n",
    "$\\mathbf{y} = \\begin{pmatrix} y_1 \\\\ y_2 \\\\ \\vdots \\\\ y_n \\end{pmatrix}, \\mathbf{x} = \\begin{pmatrix} 1 & x_1 \\\\ 1 & x_2 \\\\ \\vdots & \\vdots \\\\ 1 & x_n \\end{pmatrix}, \\beta =   \\begin{pmatrix} \\beta_1 \\\\ \\beta_2 \\end{pmatrix}$  <br>\n",
    "\n",
    "**Question**: \n",
    "<ol>\n",
    "<li>Why did we add the column of 1's?<br>\n",
    "<li>Why did we write it as $\\mathbf{y = \\beta x}$ instead of $\\mathbf{y = x\\beta}$?\n",
    "</ol>"
   ]
  },
  {
   "cell_type": "markdown",
   "metadata": {},
   "source": [
    "# How to solve for $\\beta?$"
   ]
  },
  {
   "cell_type": "markdown",
   "metadata": {},
   "source": [
    "Using `numpy`\n",
    "====\n",
    "\n",
    "<ul>\n",
    "<li>The foundation for numerical computation in Python is the `numpy` package, and essentially all scientific libraries in Python are built on this - e.g. `scipy`, `pandas`, `statsmodels`, `scikit-learn`, `cv2` etc. \n",
    "<li>The basic data structure in `numpy` is the NDArray, and it is essential to become familiar with how to slice and dice this object.\n",
    "<li>Lots of helper methods built in - much better than using lists for anything numeric\n",
    "<li>`numpy` has a bunch of other helpful modules like `random` and `linalg`\n",
    "</ul>"
   ]
  },
  {
   "cell_type": "markdown",
   "metadata": {},
   "source": [
    "## NDArray<a id='array'></a>\n",
    "\n",
    "The base structure in `numpy` is `ndarray`, used to represent vectors, matrices and higher-dimensional arrays. Each `ndarray` has the following attributes:\n",
    "\n",
    "- `dtype` = correspond to data types in C\n",
    "- `shape` = dimensions of array\n",
    "- **Each element of the array is of the same type**\n",
    "- dimensions are called `axes`"
   ]
  },
  {
   "cell_type": "code",
   "execution_count": 70,
   "metadata": {
    "collapsed": false
   },
   "outputs": [
    {
     "name": "stdout",
     "output_type": "stream",
     "text": [
      "x = [1 2 3 4 5 6]\n",
      "dytpe: int64\n",
      "shape: (6,)\n",
      "ndim: 1\n",
      "size: 6\n",
      "type: <type 'numpy.ndarray'>\n"
     ]
    }
   ],
   "source": [
    "x = np.array([1,2,3,4,5,6])\n",
    "print \"x =\", x\n",
    "print 'dytpe:', x.dtype\n",
    "print 'shape:', x.shape\n",
    "print 'ndim:', x.ndim\n",
    "print 'size:', x.size\n",
    "print 'type:', type(x)"
   ]
  },
  {
   "cell_type": "code",
   "execution_count": 101,
   "metadata": {
    "collapsed": false
   },
   "outputs": [
    {
     "name": "stdout",
     "output_type": "stream",
     "text": [
      "[[1 2 3]\n",
      " [4 5 6]]\n",
      "dytpe: int64\n",
      "shape: (2, 3)\n",
      "ndim: 2\n",
      "size: 6\n",
      "type: <type 'numpy.ndarray'>\n"
     ]
    }
   ],
   "source": [
    "x.shape = (2,3)    # make it into a 2x3 matrix\n",
    "print  x\n",
    "print 'dytpe:', x.dtype\n",
    "print 'shape:', x.shape\n",
    "print 'ndim:', x.ndim\n",
    "print 'size:', x.size\n",
    "print 'type:', type(x)"
   ]
  },
  {
   "cell_type": "markdown",
   "metadata": {},
   "source": [
    "### Array creation\n",
    "\n",
    "<ul>\n",
    "<li>`dtype`\n",
    "<li>`arange`\n",
    "<li>`reshape`, `repeat`, `diag`, `ones`, `zeros`\n",
    "<li>3d array\n",
    "</ul>"
   ]
  },
  {
   "cell_type": "code",
   "execution_count": 8,
   "metadata": {
    "collapsed": false
   },
   "outputs": [
    {
     "data": {
      "text/plain": [
       "array([1, 2, 3])"
      ]
     },
     "execution_count": 8,
     "metadata": {},
     "output_type": "execute_result"
    }
   ],
   "source": [
    "y = np.array([1,2,3])  # note the square brackets\n",
    "y"
   ]
  },
  {
   "cell_type": "code",
   "execution_count": 9,
   "metadata": {
    "collapsed": false
   },
   "outputs": [
    {
     "data": {
      "text/plain": [
       "array([ 1.,  2.,  3.])"
      ]
     },
     "execution_count": 9,
     "metadata": {},
     "output_type": "execute_result"
    }
   ],
   "source": [
    "y = np.array([1,2,3], dtype = np.float64)    # note the decimals\n",
    "y"
   ]
  },
  {
   "cell_type": "code",
   "execution_count": 10,
   "metadata": {
    "collapsed": false
   },
   "outputs": [
    {
     "name": "stdout",
     "output_type": "stream",
     "text": [
      "[0 1 2 3 4 5 6 7 8 9]\n",
      "[0, 1, 2, 3, 4, 5, 6, 7, 8, 9]\n"
     ]
    }
   ],
   "source": [
    "print np.arange(10)  # numpy object\n",
    "print range(10)    # regular list"
   ]
  },
  {
   "cell_type": "code",
   "execution_count": 11,
   "metadata": {
    "collapsed": false
   },
   "outputs": [
    {
     "name": "stdout",
     "output_type": "stream",
     "text": [
      "[ 1  2  3  4  5  6  7  8  9 10]\n"
     ]
    },
    {
     "ename": "TypeError",
     "evalue": "can only concatenate list (not \"int\") to list",
     "output_type": "error",
     "traceback": [
      "\u001b[0;31m---------------------------------------------------------------------------\u001b[0m",
      "\u001b[0;31mTypeError\u001b[0m                                 Traceback (most recent call last)",
      "\u001b[0;32m<ipython-input-11-7e0010a5f55c>\u001b[0m in \u001b[0;36m<module>\u001b[0;34m()\u001b[0m\n\u001b[1;32m      1\u001b[0m \u001b[0;32mprint\u001b[0m \u001b[0mnp\u001b[0m\u001b[0;34m.\u001b[0m\u001b[0marange\u001b[0m\u001b[0;34m(\u001b[0m\u001b[0;36m10\u001b[0m\u001b[0;34m)\u001b[0m\u001b[0;34m+\u001b[0m\u001b[0;36m1\u001b[0m\u001b[0;34m\u001b[0m\u001b[0m\n\u001b[0;32m----> 2\u001b[0;31m \u001b[0;32mprint\u001b[0m \u001b[0mrange\u001b[0m\u001b[0;34m(\u001b[0m\u001b[0;36m10\u001b[0m\u001b[0;34m)\u001b[0m\u001b[0;34m+\u001b[0m\u001b[0;36m1\u001b[0m\u001b[0;34m\u001b[0m\u001b[0m\n\u001b[0m",
      "\u001b[0;31mTypeError\u001b[0m: can only concatenate list (not \"int\") to list"
     ]
    }
   ],
   "source": [
    "print np.arange(10)+1\n",
    "print range(10)+1"
   ]
  },
  {
   "cell_type": "code",
   "execution_count": 16,
   "metadata": {
    "collapsed": false
   },
   "outputs": [
    {
     "name": "stdout",
     "output_type": "stream",
     "text": [
      "[[1 2 3]\n",
      " [4 5 6]\n",
      " [7 8 9]]\n",
      "\n",
      "shape = (3, 3)\n"
     ]
    }
   ],
   "source": [
    "print np.array([[1,2,3],[4,5,6],[7,8,9]])   # multi dimensional\n",
    "print \"\\nshape =\",np.array([[1,2,3],[4,5,6],[7,8,9]]).shape"
   ]
  },
  {
   "cell_type": "code",
   "execution_count": 18,
   "metadata": {
    "collapsed": false
   },
   "outputs": [
    {
     "name": "stdout",
     "output_type": "stream",
     "text": [
      "[[1, 2, 3] [4, 5, 6] [7, 8, 9, 10]]\n",
      "\n",
      "shape = (3,)\n"
     ]
    }
   ],
   "source": [
    "print np.array([[1,2,3],[4,5,6],[7,8,9,10]])   # not all sublists are same length - no error\n",
    "print \"\\nshape =\",np.array([[1,2,3],[4,5,6],[7,8,9,10]]).shape"
   ]
  },
  {
   "cell_type": "markdown",
   "metadata": {},
   "source": [
    "### `numpy` helper functions to initialize array"
   ]
  },
  {
   "cell_type": "code",
   "execution_count": 19,
   "metadata": {
    "collapsed": false
   },
   "outputs": [
    {
     "data": {
      "text/plain": [
       "array([ 1.,  1.,  1.,  1.,  1.,  1.,  1.,  1.,  1.,  1.])"
      ]
     },
     "execution_count": 19,
     "metadata": {},
     "output_type": "execute_result"
    }
   ],
   "source": [
    "np.ones(10)"
   ]
  },
  {
   "cell_type": "code",
   "execution_count": 20,
   "metadata": {
    "collapsed": false
   },
   "outputs": [
    {
     "data": {
      "text/plain": [
       "array([[ 0.,  0.,  0.,  0.,  0.,  0.,  0.],\n",
       "       [ 0.,  0.,  0.,  0.,  0.,  0.,  0.],\n",
       "       [ 0.,  0.,  0.,  0.,  0.,  0.,  0.],\n",
       "       [ 0.,  0.,  0.,  0.,  0.,  0.,  0.],\n",
       "       [ 0.,  0.,  0.,  0.,  0.,  0.,  0.]])"
      ]
     },
     "execution_count": 20,
     "metadata": {},
     "output_type": "execute_result"
    }
   ],
   "source": [
    "np.zeros((5,7))"
   ]
  },
  {
   "cell_type": "code",
   "execution_count": 24,
   "metadata": {
    "collapsed": false
   },
   "outputs": [
    {
     "data": {
      "text/plain": [
       "array([[ 0.,  0.,  0.,  0.,  0.,  0.,  0.],\n",
       "       [ 0.,  0.,  0.,  0.,  0.,  0.,  0.],\n",
       "       [ 0.,  0.,  0.,  0.,  0.,  0.,  0.],\n",
       "       [ 0.,  0.,  0.,  0.,  0.,  0.,  0.],\n",
       "       [ 0.,  0.,  0.,  0.,  0.,  0.,  0.]])"
      ]
     },
     "execution_count": 24,
     "metadata": {},
     "output_type": "execute_result"
    }
   ],
   "source": [
    "np.zeros(5*7).reshape(5,7)  # specify how many element, then their size"
   ]
  },
  {
   "cell_type": "code",
   "execution_count": 440,
   "metadata": {
    "collapsed": false
   },
   "outputs": [
    {
     "data": {
      "text/plain": [
       "array([[ 1.,  0.,  0.,  0.,  0.],\n",
       "       [ 0.,  1.,  0.,  0.,  0.],\n",
       "       [ 0.,  0.,  1.,  0.,  0.],\n",
       "       [ 0.,  0.,  0.,  1.,  0.],\n",
       "       [ 0.,  0.,  0.,  0.,  1.]])"
      ]
     },
     "execution_count": 440,
     "metadata": {},
     "output_type": "execute_result"
    }
   ],
   "source": [
    "np.eye(5)   # identity"
   ]
  },
  {
   "cell_type": "code",
   "execution_count": 26,
   "metadata": {
    "collapsed": false
   },
   "outputs": [
    {
     "data": {
      "text/plain": [
       "array([[1, 0, 0, 0, 0],\n",
       "       [0, 2, 0, 0, 0],\n",
       "       [0, 0, 3, 0, 0],\n",
       "       [0, 0, 0, 4, 0],\n",
       "       [0, 0, 0, 0, 5]])"
      ]
     },
     "execution_count": 26,
     "metadata": {},
     "output_type": "execute_result"
    }
   ],
   "source": [
    "np.diag(np.arange(1,6))"
   ]
  },
  {
   "cell_type": "code",
   "execution_count": 36,
   "metadata": {
    "collapsed": false
   },
   "outputs": [
    {
     "data": {
      "text/plain": [
       "array([1, 1, 1, 1, 2, 2, 2, 2, 3, 3, 3, 3, 4, 4, 4, 4])"
      ]
     },
     "execution_count": 36,
     "metadata": {},
     "output_type": "execute_result"
    }
   ],
   "source": [
    "np.repeat([1,2,3,4],4)   # how to stack arrays?"
   ]
  },
  {
   "cell_type": "code",
   "execution_count": 35,
   "metadata": {
    "collapsed": false
   },
   "outputs": [
    {
     "data": {
      "text/plain": [
       "array([[1, 2, 3, 4],\n",
       "       [1, 2, 3, 4],\n",
       "       [1, 2, 3, 4],\n",
       "       [1, 2, 3, 4]])"
      ]
     },
     "execution_count": 35,
     "metadata": {},
     "output_type": "execute_result"
    }
   ],
   "source": [
    "np.repeat([1,2,3,4],4).reshape(4,4).T   # transpose is EXTREMELY handy. learn to love it"
   ]
  },
  {
   "cell_type": "markdown",
   "metadata": {},
   "source": [
    "### Array indexing"
   ]
  },
  {
   "cell_type": "code",
   "execution_count": 69,
   "metadata": {
    "collapsed": false
   },
   "outputs": [
    {
     "data": {
      "text/plain": [
       "array([[ 0,  1,  2,  3,  4,  5,  6,  7,  8,  9],\n",
       "       [10, 11, 12, 13, 14, 15, 16, 17, 18, 19],\n",
       "       [20, 21, 22, 23, 24, 25, 26, 27, 28, 29],\n",
       "       [30, 31, 32, 33, 34, 35, 36, 37, 38, 39],\n",
       "       [40, 41, 42, 43, 44, 45, 46, 47, 48, 49],\n",
       "       [50, 51, 52, 53, 54, 55, 56, 57, 58, 59],\n",
       "       [60, 61, 62, 63, 64, 65, 66, 67, 68, 69],\n",
       "       [70, 71, 72, 73, 74, 75, 76, 77, 78, 79],\n",
       "       [80, 81, 82, 83, 84, 85, 86, 87, 88, 89],\n",
       "       [90, 91, 92, 93, 94, 95, 96, 97, 98, 99]])"
      ]
     },
     "execution_count": 69,
     "metadata": {},
     "output_type": "execute_result"
    }
   ],
   "source": [
    "x"
   ]
  },
  {
   "cell_type": "code",
   "execution_count": 38,
   "metadata": {
    "collapsed": false
   },
   "outputs": [
    {
     "data": {
      "text/plain": [
       "array([1, 2, 3])"
      ]
     },
     "execution_count": 38,
     "metadata": {},
     "output_type": "execute_result"
    }
   ],
   "source": [
    "x[0]"
   ]
  },
  {
   "cell_type": "code",
   "execution_count": 40,
   "metadata": {
    "collapsed": false
   },
   "outputs": [
    {
     "name": "stdout",
     "output_type": "stream",
     "text": [
      "1\n",
      "1\n"
     ]
    }
   ],
   "source": [
    "print x[0][0]   # preferred\n",
    "print x[0,0]"
   ]
  },
  {
   "cell_type": "code",
   "execution_count": 41,
   "metadata": {
    "collapsed": false
   },
   "outputs": [
    {
     "data": {
      "text/plain": [
       "array([1, 2, 3])"
      ]
     },
     "execution_count": 41,
     "metadata": {},
     "output_type": "execute_result"
    }
   ],
   "source": [
    "x[0,:]"
   ]
  },
  {
   "cell_type": "code",
   "execution_count": 46,
   "metadata": {
    "collapsed": false
   },
   "outputs": [
    {
     "data": {
      "text/plain": [
       "array([2, 5])"
      ]
     },
     "execution_count": 46,
     "metadata": {},
     "output_type": "execute_result"
    }
   ],
   "source": [
    "x[:,1]    # what is this doing?   # note: loses it's shape when you pull out a vector"
   ]
  },
  {
   "cell_type": "code",
   "execution_count": 47,
   "metadata": {
    "collapsed": false
   },
   "outputs": [
    {
     "data": {
      "text/plain": [
       "array([[2, 3],\n",
       "       [5, 6]])"
      ]
     },
     "execution_count": 47,
     "metadata": {},
     "output_type": "execute_result"
    }
   ],
   "source": [
    "x[:,1:3]"
   ]
  },
  {
   "cell_type": "code",
   "execution_count": 48,
   "metadata": {
    "collapsed": false
   },
   "outputs": [
    {
     "data": {
      "text/plain": [
       "array([3, 6])"
      ]
     },
     "execution_count": 48,
     "metadata": {},
     "output_type": "execute_result"
    }
   ],
   "source": [
    "x[:,-1]    "
   ]
  },
  {
   "cell_type": "code",
   "execution_count": 49,
   "metadata": {
    "collapsed": false
   },
   "outputs": [
    {
     "data": {
      "text/plain": [
       "array([[1, 2],\n",
       "       [4, 5]])"
      ]
     },
     "execution_count": 49,
     "metadata": {},
     "output_type": "execute_result"
    }
   ],
   "source": [
    "x[:,:-1]   "
   ]
  },
  {
   "cell_type": "markdown",
   "metadata": {},
   "source": [
    "### Boolean indexing"
   ]
  },
  {
   "cell_type": "code",
   "execution_count": 52,
   "metadata": {
    "collapsed": false
   },
   "outputs": [
    {
     "data": {
      "text/plain": [
       "array([[False, False,  True],\n",
       "       [ True,  True,  True]], dtype=bool)"
      ]
     },
     "execution_count": 52,
     "metadata": {},
     "output_type": "execute_result"
    }
   ],
   "source": [
    "x > 2"
   ]
  },
  {
   "cell_type": "code",
   "execution_count": 54,
   "metadata": {
    "collapsed": false
   },
   "outputs": [
    {
     "data": {
      "text/plain": [
       "array([3, 4, 5, 6])"
      ]
     },
     "execution_count": 54,
     "metadata": {},
     "output_type": "execute_result"
    }
   ],
   "source": [
    "x[x > 2]   # note the result is different shape"
   ]
  },
  {
   "cell_type": "markdown",
   "metadata": {},
   "source": [
    "++++++++++++++++++++++++++++++++++++++++++++++++++++++++++++++++++++++++++++++++++++++++++++++++++++++++++++++++++++++++"
   ]
  },
  {
   "cell_type": "markdown",
   "metadata": {},
   "source": [
    "## EXERCISE TIME\n",
    "\n",
    "1) Find the absolute difference between the sum of the even numbered elements and the odd numbered elements of the following matrix:\n",
    "\n",
    "`x = np.arange(100).reshape(10,10)`\n",
    "\n",
    "2) Create a `5x5` matrix of zeros with values `1,2,3,4` just below the diagonal.\n",
    "\n",
    "```python\n",
    "[[0 0 0 0 0]\n",
    " [1 0 0 0 0]\n",
    " [0 2 0 0 0]\n",
    " [0 0 3 0 0]\n",
    " [0 0 0 4 0]]\n",
    "```\n",
    "\n",
    "3) Create an `8x8` matrix and fill it with a checkerboard pattern of `1` and `0`\n",
    "\n",
    "```python\n",
    "[[0 1 0 1 0 1 0 1]\n",
    " [1 0 1 0 1 0 1 0]\n",
    " [0 1 0 1 0 1 0 1]\n",
    " [1 0 1 0 1 0 1 0]\n",
    " [0 1 0 1 0 1 0 1]\n",
    " [1 0 1 0 1 0 1 0]\n",
    " [0 1 0 1 0 1 0 1]\n",
    " [1 0 1 0 1 0 1 0]]\n",
    "```\n",
    "\n",
    "4) Create the following matrix:\n",
    "\n",
    "```python\n",
    "[[110   0   0   0   0   0   0   0   0   0   0   0]\n",
    " [  0 100   0   0   0   0   0   0   0   0   0   0]\n",
    " [  0   0  90   0   0   0   0   0   0   0   0   0]\n",
    " [  0   0   0  80   0   0   0   0   0   0   0   0]\n",
    " [  0   0   0   0  70   0   0   0   0   0   0   0]\n",
    " [  0   0   0   0   0  60   0   0   0   0   0   0]\n",
    " [  0   0   0   0   0   0  50   0   0   0   0   0]\n",
    " [  0   0   0   0   0   0   0  40   0   0   0   0]\n",
    " [  0   0   0   0   0   0   0   0  30   0   0   0]\n",
    " [  0   0   0   0   0   0   0   0   0  20   0   0]\n",
    " [  0   0   0   0   0   0   0   0   0   0  10   0]\n",
    " [  0   0   0   0   0   0   0   0   0   0   0   0]]\n",
    "```\n",
    "5) Create a 10x10 matrix with 1's on the border and 0's inside:\n",
    "\n",
    "```python\n",
    "[[ 1.  1.  1.  1.  1.  1.  1.  1.  1.  1.]\n",
    " [ 1.  0.  0.  0.  0.  0.  0.  0.  0.  1.]\n",
    " [ 1.  0.  0.  0.  0.  0.  0.  0.  0.  1.]\n",
    " [ 1.  0.  0.  0.  0.  0.  0.  0.  0.  1.]\n",
    " [ 1.  0.  0.  0.  0.  0.  0.  0.  0.  1.]\n",
    " [ 1.  0.  0.  0.  0.  0.  0.  0.  0.  1.]\n",
    " [ 1.  0.  0.  0.  0.  0.  0.  0.  0.  1.]\n",
    " [ 1.  0.  0.  0.  0.  0.  0.  0.  0.  1.]\n",
    " [ 1.  0.  0.  0.  0.  0.  0.  0.  0.  1.]\n",
    " [ 1.  1.  1.  1.  1.  1.  1.  1.  1.  1.]]\n",
    "```"
   ]
  },
  {
   "cell_type": "markdown",
   "metadata": {},
   "source": [
    "++++++++++++++++++++++++++++++++++++++++++++++++++++++++++++++++++++++++++++++++++++++++++++++++++++++++++++++++++++++++"
   ]
  },
  {
   "cell_type": "markdown",
   "metadata": {},
   "source": [
    "Combining and splitting arrays\n",
    "----"
   ]
  },
  {
   "cell_type": "code",
   "execution_count": 102,
   "metadata": {
    "collapsed": false
   },
   "outputs": [
    {
     "data": {
      "text/plain": [
       "array([[1, 2, 3],\n",
       "       [4, 5, 6]])"
      ]
     },
     "execution_count": 102,
     "metadata": {},
     "output_type": "execute_result"
    }
   ],
   "source": [
    "x"
   ]
  },
  {
   "cell_type": "code",
   "execution_count": 109,
   "metadata": {
    "collapsed": false,
    "scrolled": true
   },
   "outputs": [
    {
     "name": "stdout",
     "output_type": "stream",
     "text": [
      "[[[1 2 3]\n",
      "  [4 5 6]]\n",
      "\n",
      " [[1 2 3]\n",
      "  [4 5 6]]]\n",
      "\n",
      "shape: (2, 2, 3)\n"
     ]
    }
   ],
   "source": [
    "print np.array([x,x])\n",
    "print \"\\nshape:\",np.array([x,x]).shape # 3 dim array"
   ]
  },
  {
   "cell_type": "code",
   "execution_count": 114,
   "metadata": {
    "collapsed": false
   },
   "outputs": [
    {
     "data": {
      "text/plain": [
       "array([[1, 2, 3],\n",
       "       [4, 5, 6],\n",
       "       [1, 2, 3],\n",
       "       [4, 5, 6]])"
      ]
     },
     "execution_count": 114,
     "metadata": {},
     "output_type": "execute_result"
    }
   ],
   "source": [
    "np.r_[x,x]"
   ]
  },
  {
   "cell_type": "code",
   "execution_count": 115,
   "metadata": {
    "collapsed": false
   },
   "outputs": [
    {
     "data": {
      "text/plain": [
       "array([[1, 2, 3],\n",
       "       [4, 5, 6],\n",
       "       [1, 2, 3],\n",
       "       [4, 5, 6]])"
      ]
     },
     "execution_count": 115,
     "metadata": {},
     "output_type": "execute_result"
    }
   ],
   "source": [
    "np.vstack([x, x])"
   ]
  },
  {
   "cell_type": "code",
   "execution_count": 116,
   "metadata": {
    "collapsed": false
   },
   "outputs": [
    {
     "data": {
      "text/plain": [
       "array([[1, 2, 3],\n",
       "       [4, 5, 6],\n",
       "       [1, 2, 3],\n",
       "       [4, 5, 6]])"
      ]
     },
     "execution_count": 116,
     "metadata": {},
     "output_type": "execute_result"
    }
   ],
   "source": [
    "np.concatenate([x, x], axis=0)"
   ]
  },
  {
   "cell_type": "code",
   "execution_count": 117,
   "metadata": {
    "collapsed": false
   },
   "outputs": [
    {
     "data": {
      "text/plain": [
       "array([[1, 2, 3, 1, 2, 3],\n",
       "       [4, 5, 6, 4, 5, 6]])"
      ]
     },
     "execution_count": 117,
     "metadata": {},
     "output_type": "execute_result"
    }
   ],
   "source": [
    "np.c_[x,x]"
   ]
  },
  {
   "cell_type": "code",
   "execution_count": 118,
   "metadata": {
    "collapsed": false
   },
   "outputs": [
    {
     "data": {
      "text/plain": [
       "array([[1, 2, 3, 1, 2, 3],\n",
       "       [4, 5, 6, 4, 5, 6]])"
      ]
     },
     "execution_count": 118,
     "metadata": {},
     "output_type": "execute_result"
    }
   ],
   "source": [
    "np.hstack([x, x])"
   ]
  },
  {
   "cell_type": "code",
   "execution_count": 119,
   "metadata": {
    "collapsed": false
   },
   "outputs": [
    {
     "data": {
      "text/plain": [
       "array([[1, 2, 3],\n",
       "       [4, 5, 6],\n",
       "       [1, 2, 3],\n",
       "       [4, 5, 6]])"
      ]
     },
     "execution_count": 119,
     "metadata": {},
     "output_type": "execute_result"
    }
   ],
   "source": [
    "y = np.r_[x, x]\n",
    "y"
   ]
  },
  {
   "cell_type": "code",
   "execution_count": 133,
   "metadata": {
    "collapsed": false
   },
   "outputs": [],
   "source": [
    "a, b, c = np.hsplit(y, 3)"
   ]
  },
  {
   "cell_type": "code",
   "execution_count": 134,
   "metadata": {
    "collapsed": false
   },
   "outputs": [
    {
     "data": {
      "text/plain": [
       "array([[1],\n",
       "       [4],\n",
       "       [1],\n",
       "       [4]])"
      ]
     },
     "execution_count": 134,
     "metadata": {},
     "output_type": "execute_result"
    }
   ],
   "source": [
    "a"
   ]
  },
  {
   "cell_type": "code",
   "execution_count": 135,
   "metadata": {
    "collapsed": false
   },
   "outputs": [
    {
     "data": {
      "text/plain": [
       "array([[2],\n",
       "       [5],\n",
       "       [2],\n",
       "       [5]])"
      ]
     },
     "execution_count": 135,
     "metadata": {},
     "output_type": "execute_result"
    }
   ],
   "source": [
    "b"
   ]
  },
  {
   "cell_type": "code",
   "execution_count": 136,
   "metadata": {
    "collapsed": false
   },
   "outputs": [
    {
     "data": {
      "text/plain": [
       "array([[3],\n",
       "       [6],\n",
       "       [3],\n",
       "       [6]])"
      ]
     },
     "execution_count": 136,
     "metadata": {},
     "output_type": "execute_result"
    }
   ],
   "source": [
    "c"
   ]
  },
  {
   "cell_type": "markdown",
   "metadata": {},
   "source": [
    "Reductions\n",
    "----"
   ]
  },
  {
   "cell_type": "code",
   "execution_count": 137,
   "metadata": {
    "collapsed": false
   },
   "outputs": [],
   "source": [
    "y = y[:2]"
   ]
  },
  {
   "cell_type": "code",
   "execution_count": 138,
   "metadata": {
    "collapsed": false
   },
   "outputs": [
    {
     "data": {
      "text/plain": [
       "(21, 21)"
      ]
     },
     "execution_count": 138,
     "metadata": {},
     "output_type": "execute_result"
    }
   ],
   "source": [
    "y.sum(), np.sum(y)"
   ]
  },
  {
   "cell_type": "code",
   "execution_count": 139,
   "metadata": {
    "collapsed": false
   },
   "outputs": [
    {
     "data": {
      "text/plain": [
       "(array([5, 7, 9]), array([5, 7, 9]))"
      ]
     },
     "execution_count": 139,
     "metadata": {},
     "output_type": "execute_result"
    }
   ],
   "source": [
    "y.sum(0), np.sum(y, axis = 0) # column sum. np.sum() is much faster"
   ]
  },
  {
   "cell_type": "code",
   "execution_count": 140,
   "metadata": {
    "collapsed": false
   },
   "outputs": [
    {
     "data": {
      "text/plain": [
       "(array([ 6, 15]), array([ 6, 15]))"
      ]
     },
     "execution_count": 140,
     "metadata": {},
     "output_type": "execute_result"
    }
   ],
   "source": [
    "y.sum(1), np.sum(y, axis = 1) # row sum"
   ]
  },
  {
   "cell_type": "markdown",
   "metadata": {},
   "source": [
    "### Standardize matrix"
   ]
  },
  {
   "cell_type": "code",
   "execution_count": 150,
   "metadata": {
    "collapsed": false
   },
   "outputs": [],
   "source": [
    "y = np.array([1,2,3,4])\n",
    "z = (y - np.mean(y))/np.std(y)"
   ]
  },
  {
   "cell_type": "code",
   "execution_count": 151,
   "metadata": {
    "collapsed": false
   },
   "outputs": [
    {
     "data": {
      "text/plain": [
       "array([-1.34164079, -0.4472136 ,  0.4472136 ,  1.34164079])"
      ]
     },
     "execution_count": 151,
     "metadata": {},
     "output_type": "execute_result"
    }
   ],
   "source": [
    "z"
   ]
  },
  {
   "cell_type": "code",
   "execution_count": 152,
   "metadata": {
    "collapsed": false
   },
   "outputs": [
    {
     "data": {
      "text/plain": [
       "(0.0, 1.0)"
      ]
     },
     "execution_count": 152,
     "metadata": {},
     "output_type": "execute_result"
    }
   ],
   "source": [
    "z.mean(), z.std()"
   ]
  },
  {
   "cell_type": "markdown",
   "metadata": {},
   "source": [
    "++++++++++++++++++++++++++++++++++++++++++++++++++++++++++++++++++++++++++++++++++++++++++++++++++++++++++++++"
   ]
  },
  {
   "cell_type": "markdown",
   "metadata": {},
   "source": [
    "## EXERCISE TIME!\n",
    "\n",
    "Given the following matrix:\n",
    "```python\n",
    "      [[7, 8, 8],\n",
    "       [1, 3, 8],\n",
    "       [9, 2, 1]]\n",
    "```\n",
    "\n",
    "Normalize the matrix so that all rows sum to 1.0."
   ]
  },
  {
   "cell_type": "markdown",
   "metadata": {},
   "source": [
    "++++++++++++++++++++++++++++++++++++++++++++++++++++++++++++++++++++++++++++++++++++++++++++++++++++++++++++++"
   ]
  },
  {
   "cell_type": "markdown",
   "metadata": {},
   "source": [
    "## How to figure out $\\beta_0$ and $\\beta_1$<a id='findbeta'></a>\n",
    "\n",
    "<ul>\n",
    "<li>Want to find line of best fit\n",
    "<li>Minimize the distances between the line and each data point\n",
    "<li>Adjust $\\beta$s in order to make the sum of the squared residuals, $SSE_{res}$, as small as possible (hence called \"least squares\").\n",
    "<li>Residual, $r_i$, is the vertical distance between a data point, $y_i$, and the line estimate, $\\hat{y_i}$.\n",
    "$$\\text{min}\\sum_{i=1}^{n} SSE_{res}= \\text{min}\\sum_{i=1}^{n}r_i^2 = \\text{min}\\sum_{i=1}^{n}(y_i - \\hat{y_i})^2 = \\text{min}\\sum_{i=1}^{n}(y_i - \\beta_0 - \\beta_1 x_i)^2$$\n",
    "</ul>"
   ]
  },
  {
   "cell_type": "markdown",
   "metadata": {},
   "source": [
    "### Can be solved in 3 ways:\n",
    "\n",
    "#### 1) Using calculus. This is used for simple cases only. Not in practice.<br>\n",
    "\n",
    "$$\\beta_1 = \\frac{\\sum_{i=1}^n (x_i - \\bar{x})(y_i - \\bar{y}) }{\\sum_{i=1}^n (x_i - \\bar{x})^2} $$<br>\n",
    "$$\\beta_0 = \\bar{y} - \\beta_1\\bar{x}$$\n",
    "\n",
    "#### 2) Using linear algebra. Inverses and matrix multiplication can be expensive. In practice these quantities are approximated.<br>\n",
    "\n",
    "$y=x\\beta$<br>\n",
    "$x^Ty=x^T x\\beta$  `// multiply both sides by` $x^T$<br>\n",
    "$(x^T x)^{-1}x^Ty=\\beta$ `// \"divide\" both sides by` $(x^Tx)^{-1}$\n",
    "\n",
    "#### 3) Using numerical approximation - this is what's used in practice. Out of scope."
   ]
  },
  {
   "cell_type": "markdown",
   "metadata": {},
   "source": [
    "++++++++++++++++++++++++++++++++++++++++++++++++++++++++++++++++++++++++++++++++++++++++++++++++++++++++++++"
   ]
  },
  {
   "cell_type": "markdown",
   "metadata": {},
   "source": [
    "## EXERCISE TIME\n",
    "\n",
    "Given the following data points:\n",
    "\n",
    "```python\n",
    "x = np.array([1,2,3,4,5,6,7])\n",
    "y = np.array([0,-0.5,3,6,11,5,15])\n",
    "```\n",
    "\n",
    "1) Solve for $\\beta$ using the formulas for $\\beta_1$ and $\\beta_0$. You should have a value for $\\beta_1$ and $\\beta_0$\n",
    "\n",
    "2) Solve for $\\beta$ using linear algebra. Is it the same as above?\n",
    "\n",
    "Hint 1: Remember to keep the dimensions correct<br>\n",
    "Hint 2: Always use `np.dot(a,b)` or `a.dot(b)` when doing matrix multiplication.<br>\n",
    "Hint 3: Look up the `inv()` function in the `linalg` library of `numpy`."
   ]
  },
  {
   "cell_type": "markdown",
   "metadata": {},
   "source": [
    "++++++++++++++++++++++++++++++++++++++++++++++++++++++++++++++++++++++++++++++++++++++++++++++++++++++++++++"
   ]
  },
  {
   "cell_type": "markdown",
   "metadata": {},
   "source": [
    "## Let's do it using real data!\n",
    "\n",
    "Dataset:  birthrate.dat<br>\n",
    "\n",
    "Source: R. Weintraub (1962). \"The Birth Rate and Economic Development:\n",
    "      An Empirical Study\", Econometrica, Vol. 40, #4, pp 812-817.\n",
    "\n",
    "Description: Birth Rates, per capita income, proportion (ratio?) of \n",
    "population in farming, and infant mortality during early 1950s for\n",
    "30 nations.\n",
    "\n",
    "```\n",
    "Variables/Columns:\n",
    "Nation   1-20\n",
    "Birth Rate  22-25  /* 1953-1954 (Units not given)  */\n",
    "Per Capita Income    30-33    /*  1953-1954 in 1948 US $  */\n",
    "Proportion of population on farms   38-41 /*   Circa 1950  */ \n",
    "Infant Mortality Rate    45-49   /*  1953-1954  */\n",
    "```"
   ]
  },
  {
   "cell_type": "code",
   "execution_count": 179,
   "metadata": {
    "collapsed": true
   },
   "outputs": [],
   "source": [
    "import re\n",
    "from sklearn import linear_model\n",
    "\n",
    "with open('regression.txt') as f:   # read in data file\n",
    "    text = f.readlines()"
   ]
  },
  {
   "cell_type": "code",
   "execution_count": 184,
   "metadata": {
    "collapsed": false
   },
   "outputs": [
    {
     "data": {
      "text/plain": [
       "['Venezuela            46.4     392    0.40    68.5\\n',\n",
       " 'Mexico               45.7     118    0.61    87.8\\n',\n",
       " 'Ecuador              45.3      44    0.53   115.8\\n',\n",
       " 'Colombia             38.6     158    0.53   106.8\\n',\n",
       " 'Ceylon               37.2      81    0.53    71.6\\n']"
      ]
     },
     "execution_count": 184,
     "metadata": {},
     "output_type": "execute_result"
    }
   ],
   "source": [
    "text[:5]   # list of strings"
   ]
  },
  {
   "cell_type": "code",
   "execution_count": 197,
   "metadata": {
    "collapsed": false
   },
   "outputs": [],
   "source": [
    "data = np.empty((len(text),4))   # create matrix to store data\n",
    "nations = []   # list of nations\n",
    "\n",
    "for e, r in enumerate(text):\n",
    "    temp = re.sub(' + ',' ',r)      # clean the data\n",
    "\n",
    "    # parse from first digit to end, i.e. skip the Nation variable\n",
    "    data[e] = temp[re.search(\"\\d\", temp).start():].strip('\\n').split(' ') \n",
    "    nations.append(temp[:re.search(\"\\d\", temp).start()-1].strip('\\n'))"
   ]
  },
  {
   "cell_type": "code",
   "execution_count": 183,
   "metadata": {
    "collapsed": false
   },
   "outputs": [
    {
     "data": {
      "text/plain": [
       "array([[  46.4 ,  392.  ,    0.4 ,   68.5 ],\n",
       "       [  45.7 ,  118.  ,    0.61,   87.8 ],\n",
       "       [  45.3 ,   44.  ,    0.53,  115.8 ],\n",
       "       [  38.6 ,  158.  ,    0.53,  106.8 ],\n",
       "       [  37.2 ,   81.  ,    0.53,   71.6 ]])"
      ]
     },
     "execution_count": 183,
     "metadata": {},
     "output_type": "execute_result"
    }
   ],
   "source": [
    "data[:5]   # matrix of numbers!"
   ]
  },
  {
   "cell_type": "code",
   "execution_count": 186,
   "metadata": {
    "collapsed": false
   },
   "outputs": [],
   "source": [
    "x = data.T[0]  # birth rate\n",
    "y = data.T[3]  # per capita income"
   ]
  },
  {
   "cell_type": "code",
   "execution_count": 256,
   "metadata": {
    "collapsed": false
   },
   "outputs": [
    {
     "name": "stdout",
     "output_type": "stream",
     "text": [
      "b1 = 2.04566089202\n",
      "b0 = 1.85610298035\n"
     ]
    }
   ],
   "source": [
    "# Using linear algebra - good to understand\n",
    "\n",
    "X = np.column_stack([x,np.ones(len(x))])\n",
    "\n",
    "b1 = la.inv(np.dot(X.T,X)).dot(X.T).dot(y.T)[0]\n",
    "b0 = la.inv(np.dot(X.T,X)).dot(X.T).dot(y.T)[1]\n",
    "\n",
    "print \"b1 =\", b1\n",
    "print \"b0 =\", b0\n"
   ]
  },
  {
   "cell_type": "code",
   "execution_count": 257,
   "metadata": {
    "collapsed": false
   },
   "outputs": [
    {
     "name": "stdout",
     "output_type": "stream",
     "text": [
      "b1 = 2.04566089202\n",
      "b0 = 1.85610298035\n"
     ]
    }
   ],
   "source": [
    "# Using scikit - you'll use this\n",
    "\n",
    "clf = linear_model.LinearRegression(fit_intercept=False) # include an intercept term\n",
    "clf.fit(X,y)\n",
    "y_pred = clf.predict(X)\n",
    "print \"b1 =\",clf.coef_[0]\n",
    "print \"b0 =\",clf.coef_[1]"
   ]
  },
  {
   "cell_type": "code",
   "execution_count": 258,
   "metadata": {
    "collapsed": false
   },
   "outputs": [
    {
     "data": {
      "image/png": "[encoded data removed]",
      "text/plain": [
       "<matplotlib.figure.Figure at 0x102825dd0>"
      ]
     },
     "metadata": {},
     "output_type": "display_data"
    }
   ],
   "source": [
    "fig, ax = plt.subplots(1,1,figsize=(12,10))\n",
    "\n",
    "plt.title(\"Comparing birth rate to per capita income\",size=16)\n",
    "ax.scatter(x,y,s=40,color='red')\n",
    "ax.plot(x, y_pred, color='blue', linewidth=3)\n",
    "\n",
    "for i, txt in enumerate(nations):\n",
    "    ax.annotate(txt, (x[i]+0.5,y[i]))\n",
    "    \n",
    "plt.ylabel('y',size=14)\n",
    "plt.xlabel('x',size=14)\n",
    "plt.xlabel('birth rate')\n",
    "plt.ylabel(\"per capita income\")\n",
    "plt.show()"
   ]
  },
  {
   "cell_type": "markdown",
   "metadata": {},
   "source": [
    "### Basic summary statistics"
   ]
  },
  {
   "cell_type": "code",
   "execution_count": 263,
   "metadata": {
    "collapsed": false
   },
   "outputs": [],
   "source": [
    "from sklearn.metrics import r2_score, mean_squared_error\n",
    "from sklearn.feature_selection import f_regression"
   ]
  },
  {
   "cell_type": "code",
   "execution_count": 307,
   "metadata": {
    "collapsed": false
   },
   "outputs": [
    {
     "data": {
      "text/plain": [
       "0.44132472547943769"
      ]
     },
     "execution_count": 307,
     "metadata": {},
     "output_type": "execute_result"
    }
   ],
   "source": [
    "r2_score(y, y_pred, multioutput='uniform_average')  # between 0 and 1. Higher is better"
   ]
  },
  {
   "cell_type": "code",
   "execution_count": 305,
   "metadata": {
    "collapsed": false
   },
   "outputs": [
    {
     "data": {
      "text/plain": [
       "469.73228373596157"
      ]
     },
     "execution_count": 305,
     "metadata": {},
     "output_type": "execute_result"
    }
   ],
   "source": [
    "mean_squared_error(y, y_pred)"
   ]
  },
  {
   "cell_type": "code",
   "execution_count": 306,
   "metadata": {
    "collapsed": false
   },
   "outputs": [
    {
     "name": "stdout",
     "output_type": "stream",
     "text": [
      "F-statistics:  [ 22.11855952  35.02356559  26.36902047]\n",
      "p-values:  [  6.24508169e-05   2.28189374e-06   1.91704103e-05]\n"
     ]
    }
   ],
   "source": [
    "print \"F-statistics: \", f_regression(data.T[:3].T, y)[0]\n",
    "print \"p-values: \", f_regression(data.T[:3].T, y)[1]"
   ]
  },
  {
   "cell_type": "markdown",
   "metadata": {},
   "source": [
    "# Lots more to cover about Linear Regression...in another class!"
   ]
  },
  {
   "cell_type": "markdown",
   "metadata": {},
   "source": [
    "## More useful functions<a id='func'></a>\n",
    "\n",
    "<ul>\n",
    "<li>`linspace()`\n",
    "<li>`argsort()`\n",
    "<li>`argmax()`, `where()`\n",
    "<li>`ravel()`\n",
    "<li>`tile()`\n",
    "</ul>"
   ]
  },
  {
   "cell_type": "code",
   "execution_count": 308,
   "metadata": {
    "collapsed": false
   },
   "outputs": [
    {
     "data": {
      "text/plain": [
       "array([   0.,   10.,   20.,   30.,   40.,   50.,   60.,   70.,   80.,\n",
       "         90.,  100.])"
      ]
     },
     "execution_count": 308,
     "metadata": {},
     "output_type": "execute_result"
    }
   ],
   "source": [
    "np.linspace(0,100,11)"
   ]
  },
  {
   "cell_type": "code",
   "execution_count": 309,
   "metadata": {
    "collapsed": false
   },
   "outputs": [
    {
     "name": "stdout",
     "output_type": "stream",
     "text": [
      "[ 0.71516914  0.13953755  0.25743844  0.16861235  0.89161248  0.87940246\n",
      "  0.12578153  0.14164716  0.06985647  0.29957177]\n",
      "4\n"
     ]
    }
   ],
   "source": [
    "z = np.random.random(10)\n",
    "print z\n",
    "print np.argmax(z)"
   ]
  },
  {
   "cell_type": "code",
   "execution_count": 310,
   "metadata": {
    "collapsed": false
   },
   "outputs": [
    {
     "name": "stdout",
     "output_type": "stream",
     "text": [
      "[ 0.06985647  0.12578153  0.13953755  0.14164716  0.16861235  0.25743844\n",
      "  0.29957177  0.71516914  0.87940246  0.89161248]\n"
     ]
    }
   ],
   "source": [
    "print z[np.argsort(z)]"
   ]
  },
  {
   "cell_type": "code",
   "execution_count": 311,
   "metadata": {
    "collapsed": false
   },
   "outputs": [
    {
     "name": "stdout",
     "output_type": "stream",
     "text": [
      "[ 0.89161248  0.87940246  0.71516914  0.29957177  0.25743844  0.16861235\n",
      "  0.14164716  0.13953755  0.12578153  0.06985647]\n"
     ]
    }
   ],
   "source": [
    "print z[np.argsort(z)[::-1]]   ## reverse order"
   ]
  },
  {
   "cell_type": "code",
   "execution_count": 312,
   "metadata": {
    "collapsed": false
   },
   "outputs": [
    {
     "name": "stdout",
     "output_type": "stream",
     "text": [
      "[   1.            6.21052632   11.42105263   16.63157895   21.84210526\n",
      "   27.05263158   32.26315789   37.47368421   42.68421053   47.89473684\n",
      "   53.10526316   58.31578947   63.52631579   68.73684211   73.94736842\n",
      "   79.15789474   84.36842105   89.57894737   94.78947368  100.        ]\n",
      "1.0\n"
     ]
    }
   ],
   "source": [
    "z = np.linspace(1,100,20)\n",
    "c = np.random.choice(z)\n",
    "print z\n",
    "print c"
   ]
  },
  {
   "cell_type": "code",
   "execution_count": 313,
   "metadata": {
    "collapsed": false
   },
   "outputs": [
    {
     "name": "stdout",
     "output_type": "stream",
     "text": [
      "(array([0]),)\n"
     ]
    }
   ],
   "source": [
    "idx = np.where(z == c)\n",
    "print idx"
   ]
  },
  {
   "cell_type": "code",
   "execution_count": 314,
   "metadata": {
    "collapsed": false
   },
   "outputs": [
    {
     "name": "stdout",
     "output_type": "stream",
     "text": [
      "[ 1.]\n"
     ]
    }
   ],
   "source": [
    "print z[idx]"
   ]
  },
  {
   "cell_type": "code",
   "execution_count": 315,
   "metadata": {
    "collapsed": false
   },
   "outputs": [
    {
     "name": "stdout",
     "output_type": "stream",
     "text": [
      "[[ 0  1  2  3  4  5  6  7  8  9 10 11 12 13 14 15 16 17 18 19]\n",
      " [20 21 22 23 24 25 26 27 28 29 30 31 32 33 34 35 36 37 38 39]\n",
      " [40 41 42 43 44 45 46 47 48 49 50 51 52 53 54 55 56 57 58 59]\n",
      " [60 61 62 63 64 65 66 67 68 69 70 71 72 73 74 75 76 77 78 79]\n",
      " [80 81 82 83 84 85 86 87 88 89 90 91 92 93 94 95 96 97 98 99]]\n"
     ]
    }
   ],
   "source": [
    "z = np.arange(10*10).reshape(5,20)\n",
    "print z"
   ]
  },
  {
   "cell_type": "code",
   "execution_count": 316,
   "metadata": {
    "collapsed": false
   },
   "outputs": [
    {
     "name": "stdout",
     "output_type": "stream",
     "text": [
      "[ 0  1  2  3  4  5  6  7  8  9 10 11 12 13 14 15 16 17 18 19 20 21 22 23 24\n",
      " 25 26 27 28 29 30 31 32 33 34 35 36 37 38 39 40 41 42 43 44 45 46 47 48 49\n",
      " 50 51 52 53 54 55 56 57 58 59 60 61 62 63 64 65 66 67 68 69 70 71 72 73 74\n",
      " 75 76 77 78 79 80 81 82 83 84 85 86 87 88 89 90 91 92 93 94 95 96 97 98 99]\n"
     ]
    }
   ],
   "source": [
    "print z.ravel()"
   ]
  },
  {
   "cell_type": "code",
   "execution_count": 317,
   "metadata": {
    "collapsed": false
   },
   "outputs": [
    {
     "name": "stdout",
     "output_type": "stream",
     "text": [
      "[[ 1  2  1  2  1  2]\n",
      " [-2 -1 -2 -1 -2 -1]\n",
      " [ 1  2  1  2  1  2]\n",
      " [-2 -1 -2 -1 -2 -1]\n",
      " [ 1  2  1  2  1  2]\n",
      " [-2 -1 -2 -1 -2 -1]\n",
      " [ 1  2  1  2  1  2]\n",
      " [-2 -1 -2 -1 -2 -1]\n",
      " [ 1  2  1  2  1  2]\n",
      " [-2 -1 -2 -1 -2 -1]]\n"
     ]
    }
   ],
   "source": [
    "print np.tile( [[1, 2],[-2, -1]], [5, 3])"
   ]
  },
  {
   "cell_type": "markdown",
   "metadata": {},
   "source": [
    "+++++++++++++++++++++++++++++++++++++++++++++++++++++++++++++++++++++++++++++++++++++++++++++++++++++++++++++++++++++++"
   ]
  },
  {
   "cell_type": "markdown",
   "metadata": {},
   "source": [
    "## EXERCISE TIME\n",
    "\n",
    "1. Write a program to create a checkerboard `8x8` matrix using the `tile` function\n",
    "\n",
    "2. Write a program to find the closest value (to a given number) in an array ? \n"
   ]
  },
  {
   "cell_type": "markdown",
   "metadata": {},
   "source": [
    "+++++++++++++++++++++++++++++++++++++++++++++++++++++++++++++++++++++++++++++++++++++++++++++++++++++++++++++++++++++++"
   ]
  },
  {
   "cell_type": "markdown",
   "metadata": {},
   "source": [
    "## Review Problems<a id='hmwk'></a>"
   ]
  },
  {
   "cell_type": "markdown",
   "metadata": {},
   "source": [
    "**Q1**.\n",
    "\n",
    "Write a program to swap any 2 rows of a numpy array. Hint: This is a one liner."
   ]
  },
  {
   "cell_type": "markdown",
   "metadata": {},
   "source": [
    "**Q2.**\n",
    "\n",
    "Write two ways to get the diagonal elements of a dot product of two matrices, A and B."
   ]
  },
  {
   "cell_type": "markdown",
   "metadata": {},
   "source": [
    "**Q3.** Write a 12 by 12 times table matrix shwon below. Do this \n",
    "\n",
    "- using nested for loops\n",
    "- uisng numpy fromfunction array constructor\n",
    "- using numpy broadcasting \n",
    "```\n",
    "array([[  1,   2,   3,   4,   5,   6,   7,   8,   9,  10,  11,  12],\n",
    "       [  2,   4,   6,   8,  10,  12,  14,  16,  18,  20,  22,  24],\n",
    "       [  3,   6,   9,  12,  15,  18,  21,  24,  27,  30,  33,  36],\n",
    "       [  4,   8,  12,  16,  20,  24,  28,  32,  36,  40,  44,  48],\n",
    "       [  5,  10,  15,  20,  25,  30,  35,  40,  45,  50,  55,  60],\n",
    "       [  6,  12,  18,  24,  30,  36,  42,  48,  54,  60,  66,  72],\n",
    "       [  7,  14,  21,  28,  35,  42,  49,  56,  63,  70,  77,  84],\n",
    "       [  8,  16,  24,  32,  40,  48,  56,  64,  72,  80,  88,  96],\n",
    "       [  9,  18,  27,  36,  45,  54,  63,  72,  81,  90,  99, 108],\n",
    "       [ 10,  20,  30,  40,  50,  60,  70,  80,  90, 100, 110, 120],\n",
    "       [ 11,  22,  33,  44,  55,  66,  77,  88,  99, 110, 121, 132],\n",
    "       [ 12,  24,  36,  48,  60,  72,  84,  96, 108, 120, 132, 144]])\n",
    "```"
   ]
  },
  {
   "cell_type": "markdown",
   "metadata": {},
   "source": [
    "**Q4**.\n",
    "\n",
    "Here is the normalized transition matrix from the exercise above:\n",
    "\n",
    "```python\n",
    " P = [[ 0.30434783  0.34782609  0.34782609]\n",
    "     [ 0.08333333  0.25        0.66666667]\n",
    "     [ 0.75        0.16666667  0.08333333]]\n",
    " ```\n",
    "\n",
    "Find the stationary distribution. You can do this by raising this matrix to a very large power, until the result doesn't change. For example:\n",
    "\n",
    "$P^1$ = \n",
    "```python\n",
    "    [[ 0.30434783  0.34782609  0.34782609]\n",
    "     [ 0.08333333  0.25        0.66666667]\n",
    "     [ 0.75        0.16666667  0.08333333]]\n",
    "```\n",
    "\n",
    "$P^2$ = \n",
    "```python\n",
    "[[ 0.38248267  0.25078765  0.36672968]\n",
    " [ 0.54619565  0.20259662  0.25120773]\n",
    " [ 0.30464976  0.31642512  0.37892512]]\n",
    " ```\n",
    " \n",
    "$P^3$ = \n",
    "```python\n",
    "[[ 0.412354    0.25685598  0.33079002]\n",
    " [ 0.37152231  0.28249821  0.34597949]\n",
    " [ 0.40328209  0.2482256   0.34849231]]\n",
    "```\n",
    "\n",
    "With a large enough power, $P^{n} = P^{n+1}$. Write a function that can raise $P$ to any arbitrary power, n."
   ]
  },
  {
   "cell_type": "markdown",
   "metadata": {},
   "source": [
    "**Q5.** Calculating moments: Moment Generating Functions\n",
    "\n",
    "Write a function that calculates the moment, $t$ for a given probability distribution, $x$. The function should have the signature `discrete_mgf(x, t)` where:<br>\n",
    "\n",
    "- `x` is a discrete `2D` probability vector where:\n",
    "  - The first dimension are values that `X` can take. \n",
    "  - The second dimension is the probabilities that `X` takes on those values. \n",
    "    - *These should add to `1.0`*\n",
    "    - *Both dimensions of `x` should be of the same length*\n",
    "- `t` is the moment.\n",
    "\n",
    "\n",
    "Moment Generating Functions are defined as:<br>\n",
    "\n",
    "$$\n",
    "M_x(t) = E[e^{tX}]\n",
    "$$\n",
    "\n",
    "For example:<br>\n",
    "\n",
    "$$\n",
    "    \\begin{equation}\n",
    "             \\nonumber p_X(k) = \\left\\{\n",
    "            \\begin{array}{2 1}\n",
    "              \\frac{1}{6} & \\quad  k=1\\\\\n",
    "\t\t\t   &  \\quad   \\\\\n",
    "               \\frac{2}{6}  & \\quad  k=2\\\\\n",
    "\t\t\t   &  \\quad   \\\\\n",
    "               \\frac{3}{6}  & \\quad  k=-1\\\\\n",
    "            \\end{array} \\right.\n",
    "    \\end{equation}\n",
    "$$\n",
    "\n",
    "$E[e^{tX}] = \\sum_{k=1}^{n} f_X(k)p_X(k) = \\frac{1}{6}e^{(1)t} + \\frac{2}{6}e^{(2)t} + \\frac{3}{6}e^{(-1)t}$.<br>\n",
    "<br>\n",
    "When $t=2, E[e^{2X}] = \\frac{1}{6}e^{(1)\\times2} + \\frac{2}{6}e^{(2)\\times2} + \\frac{3}{6}e^{(-1)\\times2} = 19.5$\n",
    "\n"
   ]
  },
  {
   "cell_type": "markdown",
   "metadata": {},
   "source": [
    "**Q6**.\n",
    "\n",
    "Write a function that computes moving averages for an array and window size. For example\n",
    "\n",
    "```python \n",
    "a = [0, 3, 3, 3, 9, 6, 9, 9, 12]\n",
    "size = 3\n",
    "\n",
    "moving_average(a, size = 3) = [  2.   3.   5.   6.   8.   8.  10.]\n",
    "```"
   ]
  }
 ],
 "metadata": {
  "kernelspec": {
   "display_name": "Python 2",
   "language": "python",
   "name": "python2"
  },
  "language_info": {
   "codemirror_mode": {
    "name": "ipython",
    "version": 2
   },
   "file_extension": ".py",
   "mimetype": "text/x-python",
   "name": "python",
   "nbconvert_exporter": "python",
   "pygments_lexer": "ipython2",
   "version": "2.7.10"
  }
 },
 "nbformat": 4,
 "nbformat_minor": 0
}
