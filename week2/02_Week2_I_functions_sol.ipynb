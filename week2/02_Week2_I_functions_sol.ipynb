{
 "cells": [
  {
   "cell_type": "markdown",
   "metadata": {},
   "source": [
    "Functions\n",
    "======="
   ]
  },
  {
   "cell_type": "markdown",
   "metadata": {},
   "source": [
    "1. [First class functions](#firstclass)\n",
    "2. [Higher order functions](#higherorder)\n",
    "3. [Anonymous functions](#anonymous)\n",
    "4. [Recursion](#recursion)\n",
    "5. [Iterators](#iterators)\n",
    "6. [Review Problems](#hmwk)"
   ]
  },
  {
   "cell_type": "markdown",
   "metadata": {},
   "source": [
    "## First class functions <a id='firstclass'></a>\n",
    "\n",
    "Functions behave like any other object, such as an `int` or a `list`\n",
    "<ul>\n",
    "<li>use functions as arguments to other functions\n",
    "<li>store functions as dictionary values\n",
    "<li>return a function from another function\n",
    "</ul>\n",
    "\n",
    "This leads to many powerful ways to use functions.\n"
   ]
  },
  {
   "cell_type": "code",
   "execution_count": 1,
   "metadata": {
    "collapsed": false
   },
   "outputs": [],
   "source": [
    "def square(x):\n",
    "    \"\"\"Square of x.\"\"\"\n",
    "    return x*x\n",
    "\n",
    "def cube(x):\n",
    "    \"\"\"Cube of x.\"\"\"\n",
    "    return x*x*x\n",
    "\n",
    "def root(x):\n",
    "    \"\"\"Square root of x.\"\"\"\n",
    "    return x**.5"
   ]
  },
  {
   "cell_type": "code",
   "execution_count": 2,
   "metadata": {
    "collapsed": false
   },
   "outputs": [],
   "source": [
    "# create a dictionary of functions\n",
    "funcs = {\n",
    "    'square': square,\n",
    "    'cube': cube,\n",
    "    'root': root,\n",
    "}"
   ]
  },
  {
   "cell_type": "code",
   "execution_count": 3,
   "metadata": {
    "collapsed": false
   },
   "outputs": [
    {
     "name": "stdout",
     "output_type": "stream",
     "text": [
      "4\n",
      "8\n",
      "1.41421356237\n"
     ]
    }
   ],
   "source": [
    "x = 2\n",
    "\n",
    "print square(x)\n",
    "print cube(x)\n",
    "print root(x)"
   ]
  },
  {
   "cell_type": "code",
   "execution_count": 4,
   "metadata": {
    "collapsed": false
   },
   "outputs": [
    {
     "name": "stdout",
     "output_type": "stream",
     "text": [
      "cube 8\n",
      "root 1.41421356237\n",
      "square 4\n"
     ]
    }
   ],
   "source": [
    "# print function name and output, sorted by function name\n",
    "for func_name in sorted(funcs):\n",
    "    print func_name, funcs[func_name](x)"
   ]
  },
  {
   "cell_type": "markdown",
   "metadata": {},
   "source": [
    "### Functions can be passed in as arguments"
   ]
  },
  {
   "cell_type": "code",
   "execution_count": 5,
   "metadata": {
    "collapsed": true
   },
   "outputs": [],
   "source": [
    "def derivative(x, f, h=0.01):\n",
    "    \"\"\" Calculate the derivative of any continuous, differentiable function \"\"\"\n",
    "    \n",
    "    return (f(x+h) - f(x-h))/(2*h)"
   ]
  },
  {
   "cell_type": "markdown",
   "metadata": {},
   "source": [
    "$$ f(x) = 3x^2 + 5x + 3$$"
   ]
  },
  {
   "cell_type": "code",
   "execution_count": 6,
   "metadata": {
    "collapsed": true
   },
   "outputs": [],
   "source": [
    "def some_func(x):    \n",
    "    return 3*x**2 + 5*x + 3"
   ]
  },
  {
   "cell_type": "code",
   "execution_count": 7,
   "metadata": {
    "collapsed": false
   },
   "outputs": [
    {
     "data": {
      "text/plain": [
       "16.999999999999815"
      ]
     },
     "execution_count": 7,
     "metadata": {},
     "output_type": "execute_result"
    }
   ],
   "source": [
    "derivative(2, some_func) # passing in function f"
   ]
  },
  {
   "cell_type": "markdown",
   "metadata": {},
   "source": [
    "### Functions can also be returned by functions"
   ]
  },
  {
   "cell_type": "code",
   "execution_count": 8,
   "metadata": {
    "collapsed": false
   },
   "outputs": [],
   "source": [
    "import time\n",
    "\n",
    "def sum_squares(n):\n",
    "    \"\"\" Sum of the squares from 1 to n \"\"\"\n",
    "    \n",
    "    s = sum([x*x for x in range(n)])\n",
    "    return s\n",
    "\n",
    "def timer(f,n):\n",
    "    \"\"\" time how long it takes to evaluate function \"\"\"\n",
    "    \n",
    "    start = time.clock()\n",
    "    result = f(n)   \n",
    "    elapsed = time.clock() - start\n",
    "    return result, elapsed"
   ]
  },
  {
   "cell_type": "code",
   "execution_count": 9,
   "metadata": {
    "collapsed": false
   },
   "outputs": [
    {
     "data": {
      "text/plain": [
       "(333332833333500000, 0.13836700000000002)"
      ]
     },
     "execution_count": 9,
     "metadata": {},
     "output_type": "execute_result"
    }
   ],
   "source": [
    "n = 1000000\n",
    "timer(sum_squares, n)"
   ]
  },
  {
   "cell_type": "markdown",
   "metadata": {},
   "source": [
    "## Higher order functions<a id='higherorder'></a>\n",
    "\n",
    "<ul>\n",
    "<li>A function that uses another function as an input argument or returns a function\n",
    "<li>The most familiar are `map` and `filter`.\n",
    "<li>Custom functions are HOF\n",
    "</ul>"
   ]
  },
  {
   "cell_type": "code",
   "execution_count": 10,
   "metadata": {
    "collapsed": false
   },
   "outputs": [
    {
     "data": {
      "text/plain": [
       "[0, 1, 4, 9, 16, 25, 36, 49, 64, 81]"
      ]
     },
     "execution_count": 10,
     "metadata": {},
     "output_type": "execute_result"
    }
   ],
   "source": [
    "# The map function applies a function to each member of a collection\n",
    "# map(aFunction, aSequence)\n",
    "\n",
    "map(square, range(10))"
   ]
  },
  {
   "cell_type": "code",
   "execution_count": 11,
   "metadata": {
    "collapsed": false
   },
   "outputs": [
    {
     "data": {
      "text/plain": [
       "[0, 2, 4, 6, 8]"
      ]
     },
     "execution_count": 11,
     "metadata": {},
     "output_type": "execute_result"
    }
   ],
   "source": [
    "# The filter function applies a predicate to each member of a collection,\n",
    "# retaining only those members where the predicate is True\n",
    "\n",
    "def is_even(x):\n",
    "    return x % 2 == 0\n",
    "\n",
    "filter(is_even, range(10))"
   ]
  },
  {
   "cell_type": "code",
   "execution_count": 12,
   "metadata": {
    "collapsed": false
   },
   "outputs": [
    {
     "data": {
      "text/plain": [
       "[0, 4, 16, 36, 64]"
      ]
     },
     "execution_count": 12,
     "metadata": {},
     "output_type": "execute_result"
    }
   ],
   "source": [
    "# It is common to combine map and filter\n",
    "\n",
    "map(square, filter(is_even, range(10)))"
   ]
  },
  {
   "cell_type": "code",
   "execution_count": 13,
   "metadata": {
    "collapsed": false
   },
   "outputs": [
    {
     "data": {
      "text/plain": [
       "15"
      ]
     },
     "execution_count": 13,
     "metadata": {},
     "output_type": "execute_result"
    }
   ],
   "source": [
    "# The reduce function reduces a collection using a binary operator to combine items two at a time\n",
    "\n",
    "def my_add(x, y):\n",
    "    return x + y\n",
    "\n",
    "# another implementation of the sum function - like a running total\n",
    "reduce(my_add, [1,2,3,4,5])"
   ]
  },
  {
   "cell_type": "code",
   "execution_count": 14,
   "metadata": {
    "collapsed": false
   },
   "outputs": [
    {
     "name": "stdout",
     "output_type": "stream",
     "text": [
      "285\n",
      "2025\n",
      "19.306000526\n"
     ]
    }
   ],
   "source": [
    "def custom_sum(xs, func):\n",
    "    \"\"\"Returns the sum of xs after a user specified transform.\"\"\"\n",
    "    \n",
    "    return sum(map(func, xs))\n",
    "\n",
    "xs = range(10)\n",
    "print custom_sum(xs, square)\n",
    "print custom_sum(xs, cube)\n",
    "print custom_sum(xs, root)"
   ]
  },
  {
   "cell_type": "markdown",
   "metadata": {},
   "source": [
    "++++++++++++++++++++++++++++++++++++++++++++++++++++++++++++++++++++++++++++++++++++++++++++++++++++++++++++++++"
   ]
  },
  {
   "cell_type": "markdown",
   "metadata": {},
   "source": [
    "## EXERCISE TIME!\n",
    "\n",
    "1) Using `map`, write python program to calculate the length of each element in a list: `['Donald','Ted','Hilary','Joe','Bernie']`.\n"
   ]
  },
  {
   "cell_type": "code",
   "execution_count": 17,
   "metadata": {
    "collapsed": false
   },
   "outputs": [
    {
     "data": {
      "text/plain": [
       "[6, 3, 6, 3, 6]"
      ]
     },
     "execution_count": 17,
     "metadata": {},
     "output_type": "execute_result"
    }
   ],
   "source": [
    "## SOLUTION - 1\n",
    "map(len,['Donald','Ted','Hilary','Joe','Bernie'])"
   ]
  },
  {
   "cell_type": "markdown",
   "metadata": {},
   "source": [
    "2) Using `reduce` and `map`, write a python program to find the largest element in the list of integers, floats or strings (that are numbers). <br>\n",
    "For example: `[2, '3', 4.0, 2, -1, '10', 9, -4.3, 8, 7, 11, 3]`. Should return `11`.\n",
    "<br>\n",
    "<br>\n",
    "Hint:\n",
    "<ol>\n",
    "<li>How can you compare `'10'` to `8`? Should the types be the same?\n",
    "<li>You can use `reduce` to find the maximum in a similar way as we used it to find the `sum` in the example above.\n",
    "</ol>"
   ]
  },
  {
   "cell_type": "code",
   "execution_count": 18,
   "metadata": {
    "collapsed": false
   },
   "outputs": [
    {
     "data": {
      "text/plain": [
       "11"
      ]
     },
     "execution_count": 18,
     "metadata": {},
     "output_type": "execute_result"
    }
   ],
   "source": [
    "## SOLUTION - 2\n",
    "\n",
    "reduce(max, (map (int, [2, '3', 4.0, 2, -1, '10', 9, -4.3, 8, 7, 11, 3])))"
   ]
  },
  {
   "cell_type": "markdown",
   "metadata": {},
   "source": [
    "++++++++++++++++++++++++++++++++++++++++++++++++++++++++++++++++++++++++++++++++++++++++++++++++++++++++++++++++"
   ]
  },
  {
   "cell_type": "markdown",
   "metadata": {},
   "source": [
    "## Anonymous functions<a id='anonymous'></a>\n",
    "\n",
    "<ul>\n",
    "<li>When using functional style, there is often the need to create small specific functions that perform a limited task as input to a HOF such as map or filter.\n",
    "<li>In such cases, these functions are often written as anonymous or **lambda** functions. \n",
    "</ul>\n",
    "\n",
    "*If you find it hard to understand what a lambda function is doing, it should probably be rewritten as a regular function.*"
   ]
  },
  {
   "cell_type": "code",
   "execution_count": 19,
   "metadata": {
    "collapsed": false
   },
   "outputs": [
    {
     "data": {
      "text/plain": [
       "100"
      ]
     },
     "execution_count": 19,
     "metadata": {},
     "output_type": "execute_result"
    }
   ],
   "source": [
    "# Using standard functions\n",
    "n = 10\n",
    "\n",
    "def square(x):\n",
    "    return x*x\n",
    "\n",
    "square(n)"
   ]
  },
  {
   "cell_type": "code",
   "execution_count": 20,
   "metadata": {
    "collapsed": false
   },
   "outputs": [
    {
     "data": {
      "text/plain": [
       "[0, 1, 4, 9, 16, 25, 36, 49, 64, 81]"
      ]
     },
     "execution_count": 20,
     "metadata": {},
     "output_type": "execute_result"
    }
   ],
   "source": [
    "map(square, range(n))"
   ]
  },
  {
   "cell_type": "code",
   "execution_count": 21,
   "metadata": {
    "collapsed": false
   },
   "outputs": [
    {
     "data": {
      "text/plain": [
       "100"
      ]
     },
     "execution_count": 21,
     "metadata": {},
     "output_type": "execute_result"
    }
   ],
   "source": [
    "# Using lambda function\n",
    "\n",
    "sqr = lambda x: x*x\n",
    "\n",
    "sqr(n)"
   ]
  },
  {
   "cell_type": "code",
   "execution_count": 22,
   "metadata": {
    "collapsed": false
   },
   "outputs": [
    {
     "data": {
      "text/plain": [
       "[0, 1, 4, 9, 16, 25, 36, 49, 64, 81]"
      ]
     },
     "execution_count": 22,
     "metadata": {},
     "output_type": "execute_result"
    }
   ],
   "source": [
    "map(sqr, range(n))"
   ]
  },
  {
   "cell_type": "code",
   "execution_count": 23,
   "metadata": {
    "collapsed": false
   },
   "outputs": [
    {
     "name": "stdout",
     "output_type": "stream",
     "text": [
      "285\n"
     ]
    }
   ],
   "source": [
    "# what does this function do?\n",
    "\n",
    "s1 = reduce(lambda x, y: x+y, map(lambda x: x**2, range(1,10)))\n",
    "print(s1)"
   ]
  },
  {
   "cell_type": "code",
   "execution_count": 24,
   "metadata": {
    "collapsed": false
   },
   "outputs": [
    {
     "name": "stdout",
     "output_type": "stream",
     "text": [
      "285\n"
     ]
    }
   ],
   "source": [
    "# functional expressions and lambdas are cool\n",
    "# but can be difficult to read when over-used\n",
    "# Here is a more comprehensible version\n",
    "\n",
    "s2 = sum(x**2 for x in range(1, 10))\n",
    "print(s2)"
   ]
  },
  {
   "cell_type": "markdown",
   "metadata": {},
   "source": [
    "++++++++++++++++++++++++++++++++++++++++++++++++++++++++++++++++++++++++++++++++++++++++++++++++++++++++++++++++"
   ]
  },
  {
   "cell_type": "markdown",
   "metadata": {},
   "source": [
    "## EXERCISE TIME!\n",
    "\n",
    "Rewrite the following as a list comprehension, i.e. one liner without using `map` or `filter`"
   ]
  },
  {
   "cell_type": "code",
   "execution_count": 25,
   "metadata": {
    "collapsed": false
   },
   "outputs": [
    {
     "name": "stdout",
     "output_type": "stream",
     "text": [
      "[0, 4, 16, 36, 64]\n"
     ]
    }
   ],
   "source": [
    "ans = map(lambda x: x*x, filter(lambda x: x%2 == 0, range(10)))\n",
    "print ans"
   ]
  },
  {
   "cell_type": "markdown",
   "metadata": {},
   "source": [
    "++++++++++++++++++++++++++++++++++++++++++++++++++++++++++++++++++++++++++++++++++++++++++++++++++++++++++++++++"
   ]
  },
  {
   "cell_type": "code",
   "execution_count": 26,
   "metadata": {
    "collapsed": false
   },
   "outputs": [
    {
     "name": "stdout",
     "output_type": "stream",
     "text": [
      "[0, 4, 16, 36, 64]\n"
     ]
    }
   ],
   "source": [
    "## SOLUTION\n",
    "\n",
    "ans = [x*x for x in range(10) if x%2 == 0]\n",
    "print ans"
   ]
  },
  {
   "cell_type": "markdown",
   "metadata": {},
   "source": [
    "## Recursion<a id='recursion'></a>\n",
    "<ul>\n",
    "<li>A recursive function is one that calls itself\n",
    "<li>Extremely useful examples of the divide-and-conquer paradigm in algorithm development\n",
    "<li>However, they can be computationally inefficient and their use in Python is quite rare in practice\n",
    "</ul>\n",
    "\n",
    "Recursive functions generally have:\n",
    "<ul>\n",
    "<li>a set of base cases \n",
    "<ul>\n",
    "<li>the answer is obvious\n",
    "<li>can be returned immediately\n",
    "</ul>\n",
    "<li>a set of recursive cases\n",
    "<ul>\n",
    "<li>which are split into smaller pieces\n",
    "<li>each of which is given to the same function called recursively\n",
    "</ul>\n",
    "</ul>\n"
   ]
  },
  {
   "cell_type": "markdown",
   "metadata": {},
   "source": [
    "### Examples"
   ]
  },
  {
   "cell_type": "markdown",
   "metadata": {},
   "source": [
    "**Factorial**:\n",
    "\n",
    "$$ n! = n\\times(n-1)\\times(n-2)\\times...\\times2\\times1$$ \n",
    "\n",
    "\n",
    "For example, $$4! = 4\\times3\\times2\\times1 = 24 $$"
   ]
  },
  {
   "cell_type": "code",
   "execution_count": 27,
   "metadata": {
    "collapsed": false,
    "scrolled": true
   },
   "outputs": [],
   "source": [
    "def fact(n):\n",
    "    \"\"\"Returns the factorial of n.\"\"\"\n",
    "    \n",
    "    # base case\n",
    "    if n==0:\n",
    "        return 1\n",
    "    \n",
    "    # recursive case\n",
    "    else:\n",
    "        return n * fact(n-1)"
   ]
  },
  {
   "cell_type": "code",
   "execution_count": 28,
   "metadata": {
    "collapsed": false
   },
   "outputs": [
    {
     "data": {
      "text/plain": [
       "[(1, 1),\n",
       " (2, 2),\n",
       " (3, 6),\n",
       " (4, 24),\n",
       " (5, 120),\n",
       " (6, 720),\n",
       " (7, 5040),\n",
       " (8, 40320),\n",
       " (9, 362880)]"
      ]
     },
     "execution_count": 28,
     "metadata": {},
     "output_type": "execute_result"
    }
   ],
   "source": [
    "[(n,fact(n)) for n in range(1,10)]"
   ]
  },
  {
   "cell_type": "markdown",
   "metadata": {},
   "source": [
    "**Fibonacci sequence**:\n",
    "\n",
    "$$F_n = F_{n-1} + F_{n-2},\\!\\,$$\n",
    "\n",
    "Output is:\n",
    "\n",
    "$$1, 1, 2, 3, 5, 8, 13, 21, ...$$"
   ]
  },
  {
   "cell_type": "code",
   "execution_count": 29,
   "metadata": {
    "collapsed": false
   },
   "outputs": [],
   "source": [
    "def fib1(n):\n",
    "    \"\"\"Fib with recursion.\"\"\"\n",
    "\n",
    "    # base case\n",
    "    if n==0 or n==1:\n",
    "        return 1\n",
    "    # recursive caae\n",
    "    else:\n",
    "        return fib1(n-1) + fib1(n-2)"
   ]
  },
  {
   "cell_type": "code",
   "execution_count": 30,
   "metadata": {
    "collapsed": false
   },
   "outputs": [
    {
     "data": {
      "text/plain": [
       "[(0, 1),\n",
       " (1, 1),\n",
       " (2, 2),\n",
       " (3, 3),\n",
       " (4, 5),\n",
       " (5, 8),\n",
       " (6, 13),\n",
       " (7, 21),\n",
       " (8, 34),\n",
       " (9, 55),\n",
       " (10, 89),\n",
       " (11, 144),\n",
       " (12, 233),\n",
       " (13, 377),\n",
       " (14, 610),\n",
       " (15, 987),\n",
       " (16, 1597),\n",
       " (17, 2584),\n",
       " (18, 4181),\n",
       " (19, 6765)]"
      ]
     },
     "execution_count": 30,
     "metadata": {},
     "output_type": "execute_result"
    }
   ],
   "source": [
    "[(i,fib1(i)) for i in range(20)]"
   ]
  },
  {
   "cell_type": "code",
   "execution_count": 31,
   "metadata": {
    "collapsed": false
   },
   "outputs": [],
   "source": [
    "# In Python, a more efficient version that does not use recursion is\n",
    "\n",
    "def fib2(n):\n",
    "    \"\"\"Fib without recursion.\"\"\"\n",
    "    a, b = 0, 1\n",
    "    for i in range(1, n+1):\n",
    "        a, b = b, a+b\n",
    "    return b"
   ]
  },
  {
   "cell_type": "code",
   "execution_count": 32,
   "metadata": {
    "collapsed": false
   },
   "outputs": [
    {
     "data": {
      "text/plain": [
       "[(0, 1),\n",
       " (1, 1),\n",
       " (2, 2),\n",
       " (3, 3),\n",
       " (4, 5),\n",
       " (5, 8),\n",
       " (6, 13),\n",
       " (7, 21),\n",
       " (8, 34),\n",
       " (9, 55),\n",
       " (10, 89),\n",
       " (11, 144),\n",
       " (12, 233),\n",
       " (13, 377),\n",
       " (14, 610),\n",
       " (15, 987),\n",
       " (16, 1597),\n",
       " (17, 2584),\n",
       " (18, 4181),\n",
       " (19, 6765)]"
      ]
     },
     "execution_count": 32,
     "metadata": {},
     "output_type": "execute_result"
    }
   ],
   "source": [
    "[(i,fib2(i)) for i in range(20)]"
   ]
  },
  {
   "cell_type": "code",
   "execution_count": 33,
   "metadata": {
    "collapsed": false
   },
   "outputs": [
    {
     "name": "stdout",
     "output_type": "stream",
     "text": [
      "100 loops, best of 3: 2.87 ms per loop\n",
      "1000000 loops, best of 3: 1.7 µs per loop\n"
     ]
    }
   ],
   "source": [
    "# Note that the recursive version is much slower than the non-recursive version\n",
    "\n",
    "%timeit fib1(20)\n",
    "%timeit fib2(20)"
   ]
  },
  {
   "cell_type": "markdown",
   "metadata": {
    "collapsed": true
   },
   "source": [
    "This is because it makes many duplicate function calls. For example:\n",
    "\n",
    "`fib(5) -> fib(4), fib(3)`<br>\n",
    "`fib(4) -> fib(3), fib(2)`<br>\n",
    "`fib(3) -> fib(2), fib(1)`<br>\n",
    "`fib(2) -> fib(1), fib(0)`<br>\n",
    "`fib(1) -> 1`<br>\n",
    "`fib(0) -> 1`<br>"
   ]
  },
  {
   "cell_type": "code",
   "execution_count": 35,
   "metadata": {
    "collapsed": false
   },
   "outputs": [],
   "source": [
    "# Recursion is used to show off the divide-and-conquer paradigm\n",
    "\n",
    "def quick_sort(xs):\n",
    "    \"\"\" Classic quick sort \"\"\"\n",
    "\n",
    "    # base case\n",
    "    if xs == []:\n",
    "        return xs\n",
    "    # recursive case\n",
    "    else:\n",
    "        pivot = xs[0] # choose starting pivot to be on the left\n",
    "        less_than = [x for x in xs[1:] if x <= pivot]\n",
    "        more_than = [x for x in xs[1:] if x > pivot]\n",
    "        \n",
    "        return quick_sort(less_than) + [pivot] + quick_sort(more_than)"
   ]
  },
  {
   "cell_type": "code",
   "execution_count": 36,
   "metadata": {
    "collapsed": false
   },
   "outputs": [
    {
     "name": "stdout",
     "output_type": "stream",
     "text": [
      "[-1, 0, 1, 1, 2, 3, 3, 3, 4, 4, 4, 5, 5, 5, 5, 6, 7, 8, 9, 9, 10, 11]\n"
     ]
    }
   ],
   "source": [
    "xs = [11,3,1,4,1,5,9,2,6,5,3,5,9,0,10,4,3,7,4,5,8,-1]\n",
    "print quick_sort(xs)"
   ]
  },
  {
   "cell_type": "markdown",
   "metadata": {},
   "source": [
    "++++++++++++++++++++++++++++++++++++++++++++++++++++++++++++++++++++++++++++++++++++++++++++++++++++++++++++++++"
   ]
  },
  {
   "cell_type": "markdown",
   "metadata": {},
   "source": [
    "## EXERCISE TIME!\n",
    "\n",
    "Euclid's algorithm for finding the greatest common divisor of two numbers is\n",
    "\n",
    "```python\n",
    "gcd(a, 0) = a\n",
    "gcd(a, b) = gcd(b, a modulo b)\n",
    "```\n",
    "\n",
    "<ol>\n",
    "<li>What is the greatest common divisor of `17384` and `1928`? Write the `gcd(a,b)` function.\n",
    "<li>Write a function to calculate the least common multiple, `lcm(a,b)`\n",
    "<li>What is the least common multiple of `17384` and `1928`? Hint: Google it!\n",
    "</ol>"
   ]
  },
  {
   "cell_type": "markdown",
   "metadata": {},
   "source": [
    "++++++++++++++++++++++++++++++++++++++++++++++++++++++++++++++++++++++++++++++++++++++++++++++++++++++++++++++++"
   ]
  },
  {
   "cell_type": "code",
   "execution_count": 2,
   "metadata": {
    "collapsed": true
   },
   "outputs": [],
   "source": [
    "from __future__ import division"
   ]
  },
  {
   "cell_type": "code",
   "execution_count": 1,
   "metadata": {
    "collapsed": false
   },
   "outputs": [
    {
     "name": "stdout",
     "output_type": "stream",
     "text": [
      "8\n",
      "4189544\n"
     ]
    }
   ],
   "source": [
    "## SOLUTION\n",
    "\n",
    "def gcd(a,b):\n",
    "    if b == 0:\n",
    "        return a\n",
    "    else:\n",
    "        return gcd(b, a % b)\n",
    "\n",
    "print gcd(17384,1928)\n",
    "\n",
    "def lcm(a,b):\n",
    "    return a*b/gcd(a,b)\n",
    "\n",
    "print lcm(17384,1928)"
   ]
  },
  {
   "cell_type": "markdown",
   "metadata": {},
   "source": [
    "## Iterators<a id='iterators'></a>\n",
    "<ul>\n",
    "<li>Iterators represent streams of values. \n",
    "<li>Will produce the next value when you call `next()` on it\n",
    "<li>Because only one value is consumed at a time, they use very little memory.\n",
    "<li>Use of iterators is very helpful for working with data sets too large to fit into RAM.\n",
    "</ul> "
   ]
  },
  {
   "cell_type": "code",
   "execution_count": 252,
   "metadata": {
    "collapsed": false
   },
   "outputs": [
    {
     "name": "stdout",
     "output_type": "stream",
     "text": [
      "1\n",
      "2\n",
      "3\n"
     ]
    },
    {
     "ename": "StopIteration",
     "evalue": "",
     "output_type": "error",
     "traceback": [
      "\u001b[0;31m---------------------------------------------------------------------------\u001b[0m",
      "\u001b[0;31mStopIteration\u001b[0m                             Traceback (most recent call last)",
      "\u001b[0;32m<ipython-input-252-35c80bc0fe4b>\u001b[0m in \u001b[0;36m<module>\u001b[0;34m()\u001b[0m\n\u001b[1;32m      7\u001b[0m \u001b[0;32mprint\u001b[0m \u001b[0mx_iter\u001b[0m\u001b[0;34m.\u001b[0m\u001b[0mnext\u001b[0m\u001b[0;34m(\u001b[0m\u001b[0;34m)\u001b[0m\u001b[0;34m\u001b[0m\u001b[0m\n\u001b[1;32m      8\u001b[0m \u001b[0;32mprint\u001b[0m \u001b[0mx_iter\u001b[0m\u001b[0;34m.\u001b[0m\u001b[0mnext\u001b[0m\u001b[0;34m(\u001b[0m\u001b[0;34m)\u001b[0m\u001b[0;34m\u001b[0m\u001b[0m\n\u001b[0;32m----> 9\u001b[0;31m \u001b[0;32mprint\u001b[0m \u001b[0mx_iter\u001b[0m\u001b[0;34m.\u001b[0m\u001b[0mnext\u001b[0m\u001b[0;34m(\u001b[0m\u001b[0;34m)\u001b[0m\u001b[0;34m\u001b[0m\u001b[0m\n\u001b[0m",
      "\u001b[0;31mStopIteration\u001b[0m: "
     ]
    }
   ],
   "source": [
    "# Iterators can be created from sequences with the built-in function iter()\n",
    "\n",
    "xs = [1,2,3]\n",
    "x_iter = iter(xs)\n",
    "\n",
    "print x_iter.next() # python \"remembers\" where the pointer is\n",
    "print x_iter.next()\n",
    "print x_iter.next()\n",
    "print x_iter.next()"
   ]
  },
  {
   "cell_type": "code",
   "execution_count": 253,
   "metadata": {
    "collapsed": false
   },
   "outputs": [
    {
     "name": "stdout",
     "output_type": "stream",
     "text": [
      "1\n",
      "2\n",
      "3\n"
     ]
    }
   ],
   "source": [
    "# Most commonly, iterators are used (automatically) within a for loop\n",
    "# which terminates when it encouters a StopIteration exception\n",
    "\n",
    "x_iter = iter(xs)\n",
    "for x in x_iter:\n",
    "    print x"
   ]
  },
  {
   "cell_type": "markdown",
   "metadata": {},
   "source": [
    "++++++++++++++++++++++++++++++++++++++++++++++++++++++++++++++++++++++++++++++++++++++++++++++++++++++++++++++++"
   ]
  },
  {
   "cell_type": "markdown",
   "metadata": {},
   "source": [
    "## EXERCISE TIME!"
   ]
  },
  {
   "cell_type": "markdown",
   "metadata": {},
   "source": [
    "Starting with `range(1, 20)`, make a list of the squares of each odd number in the following ways\n",
    "\n",
    "- Using `map` and `filter`. This can be done in one line if you use `lambda` (twice!). Remember - you need to create functions to pass the list elements to. One function checks if its even, the other squares it.\n",
    "- Using a list comprehension\n",
    "- With a `for` loop\n",
    "\n",
    "The answer should be `[1, 9, 25, 49, 81, 121, 169, 225, 289, 361]`"
   ]
  },
  {
   "cell_type": "markdown",
   "metadata": {},
   "source": [
    "++++++++++++++++++++++++++++++++++++++++++++++++++++++++++++++++++++++++++++++++++++++++++++++++++++++++++++++++"
   ]
  },
  {
   "cell_type": "code",
   "execution_count": 43,
   "metadata": {
    "collapsed": false
   },
   "outputs": [
    {
     "name": "stdout",
     "output_type": "stream",
     "text": [
      "[1, 9, 25, 49, 81, 121, 169, 225, 289, 361]\n",
      "[1, 9, 25, 49, 81, 121, 169, 225, 289, 361]\n",
      "[1, 9, 25, 49, 81, 121, 169, 225, 289, 361]\n",
      "[1, 9, 25, 49, 81, 121, 169, 225, 289, 361]\n"
     ]
    }
   ],
   "source": [
    "## SOLUTION\n",
    "\n",
    "# using a for loop\n",
    "for_list = []\n",
    "for i in range(1,20):\n",
    "    if i % 2 != 0:\n",
    "        for_list.append(i**2)\n",
    "print for_list\n",
    "      \n",
    "# using list comprehension\n",
    "print [i**2 for i in range(1,20) if i % 2 != 0]\n",
    "\n",
    "# using map and filter\n",
    "def sqr(x):\n",
    "    return x**2\n",
    "\n",
    "def is_even(x):\n",
    "    return True if x%2!=0 else False\n",
    "\n",
    "print map(sqr, filter(is_even, range(1,20)))\n",
    "\n",
    "# using lambda\n",
    "print map(lambda a: a**2, (filter(lambda x: x % 2 !=0, range(1,20))))\n"
   ]
  },
  {
   "cell_type": "markdown",
   "metadata": {},
   "source": [
    "Review Problems<a id='hmwk'></a>\n",
    "======"
   ]
  },
  {
   "cell_type": "markdown",
   "metadata": {},
   "source": [
    "**Q1.** Rewrite the factorial function so that it does not use recursion. Hint: consider using `reduce` since you're multiplying consecutive numbers.\n",
    "\n",
    "Here is the original code:\n",
    "\n",
    "```\n",
    "def fact(n):\n",
    "    \"\"\"Returns the factorial of n.\"\"\"\n",
    "    # base case\n",
    "    if n==0:\n",
    "        return 1\n",
    "    # recursive case\n",
    "    else:\n",
    "        return n * fact(n-1)\n",
    "\n",
    "for i in range(1,11):\n",
    "    print fact(i),\n",
    "```"
   ]
  },
  {
   "cell_type": "code",
   "execution_count": 44,
   "metadata": {
    "collapsed": false
   },
   "outputs": [
    {
     "name": "stdout",
     "output_type": "stream",
     "text": [
      "1 2 6 24 120 720 5040 40320 362880 3628800\n"
     ]
    }
   ],
   "source": [
    "## SOLUTION\n",
    "def fact1(n):\n",
    "    \"\"\"Returns the factorial of n.\"\"\"\n",
    "    return reduce(lambda x, y: x*y, range(1, n+1))\n",
    "\n",
    "for i in range(1,11):\n",
    "    print fact1(i),"
   ]
  },
  {
   "cell_type": "markdown",
   "metadata": {
    "collapsed": true
   },
   "source": [
    "**Q2.** Write a function, `normalize(x)` that takes in a vector `x` and outputs a normalized vector `x_norm` in the following way:\n",
    "\n",
    "$$\n",
    "X^{normed}_{i} = \\frac{X_{i} - \\mu}{\\sigma}\n",
    "$$\n",
    "\n",
    "where,\n",
    "\n",
    "$$\n",
    "\\mu = \\frac{1}{n}\\sum_{i=1}^{n}X_{i}\n",
    "$$\n",
    "\n",
    "$$\n",
    "\\sigma^2 = \\frac{1}{n}\\sum_{i=1}^{n}(X_{i} - \\mu)^2\n",
    "$$\n",
    "\n",
    "Each $X_i$ is a single data point from the input list. For example, an input list `x = [1,2,3,4]` should output `x_norm = [-1.3416407865,-0.4472135955,0.4472135955,1.3416407865]`. <br>\n",
    "\n",
    "*Note that the sum of the new list should be 0 and the standard deviation should be 1.0 - this is why it's called normalizing. It's also called standardizing*"
   ]
  },
  {
   "cell_type": "code",
   "execution_count": 47,
   "metadata": {
    "collapsed": false
   },
   "outputs": [
    {
     "data": {
      "text/plain": [
       "[-1.3416407864998738,\n",
       " -0.4472135954999579,\n",
       " 0.4472135954999579,\n",
       " 1.3416407864998738]"
      ]
     },
     "execution_count": 47,
     "metadata": {},
     "output_type": "execute_result"
    }
   ],
   "source": [
    "## SOLUTION\n",
    "def normalize(x):\n",
    "    \n",
    "    mean_x = sum(x)/len(x)\n",
    "    \n",
    "    std_ = 0\n",
    "    for i in x:\n",
    "        std_ += (i-mean_x)**2\n",
    "\n",
    "    std_ = std_/len(x)\n",
    "\n",
    "    x_prime = []\n",
    "    for i in x:\n",
    "        x_prime.append((i - mean_x)/(std_**0.5))\n",
    "    \n",
    "    return x_prime\n",
    "    \n",
    "\n",
    "x = [1,2,3,4.]\n",
    "normalize(x)\n"
   ]
  },
  {
   "cell_type": "markdown",
   "metadata": {},
   "source": [
    "**Q3**. Matrix Multiplication and list comprehension\n",
    "<br>\n",
    "\n",
    "Rewrite the matrix multiplication code to use list comprehension instead of nested for loops"
   ]
  },
  {
   "cell_type": "code",
   "execution_count": 48,
   "metadata": {
    "collapsed": false
   },
   "outputs": [
    {
     "ename": "NameError",
     "evalue": "name 'A' is not defined",
     "output_type": "error",
     "traceback": [
      "\u001b[0;31m---------------------------------------------------------------------------\u001b[0m",
      "\u001b[0;31mNameError\u001b[0m                                 Traceback (most recent call last)",
      "\u001b[0;32m<ipython-input-48-fe2e9bd333a4>\u001b[0m in \u001b[0;36m<module>\u001b[0;34m()\u001b[0m\n\u001b[1;32m      9\u001b[0m     \u001b[0;32mreturn\u001b[0m \u001b[0;34m[\u001b[0m\u001b[0;34m[\u001b[0m\u001b[0msum\u001b[0m\u001b[0;34m(\u001b[0m\u001b[0mA\u001b[0m\u001b[0;34m[\u001b[0m\u001b[0mi\u001b[0m\u001b[0;34m]\u001b[0m\u001b[0;34m[\u001b[0m\u001b[0mk\u001b[0m\u001b[0;34m]\u001b[0m\u001b[0;34m*\u001b[0m\u001b[0mB\u001b[0m\u001b[0;34m[\u001b[0m\u001b[0mk\u001b[0m\u001b[0;34m]\u001b[0m\u001b[0;34m[\u001b[0m\u001b[0mj\u001b[0m\u001b[0;34m]\u001b[0m \u001b[0;32mfor\u001b[0m \u001b[0mk\u001b[0m \u001b[0;32min\u001b[0m \u001b[0mrange\u001b[0m\u001b[0;34m(\u001b[0m\u001b[0mshared\u001b[0m\u001b[0;34m)\u001b[0m\u001b[0;34m)\u001b[0m \u001b[0;32mfor\u001b[0m \u001b[0mj\u001b[0m \u001b[0;32min\u001b[0m \u001b[0mrange\u001b[0m\u001b[0;34m(\u001b[0m\u001b[0mcols\u001b[0m\u001b[0;34m)\u001b[0m\u001b[0;34m]\u001b[0m \u001b[0;32mfor\u001b[0m \u001b[0mi\u001b[0m \u001b[0;32min\u001b[0m \u001b[0mrange\u001b[0m\u001b[0;34m(\u001b[0m\u001b[0mrows\u001b[0m\u001b[0;34m)\u001b[0m\u001b[0;34m]\u001b[0m\u001b[0;34m\u001b[0m\u001b[0m\n\u001b[1;32m     10\u001b[0m \u001b[0;34m\u001b[0m\u001b[0m\n\u001b[0;32m---> 11\u001b[0;31m \u001b[0mdot_product\u001b[0m\u001b[0;34m(\u001b[0m\u001b[0mA\u001b[0m\u001b[0;34m,\u001b[0m\u001b[0mB\u001b[0m\u001b[0;34m)\u001b[0m\u001b[0;34m\u001b[0m\u001b[0m\n\u001b[0m",
      "\u001b[0;31mNameError\u001b[0m: name 'A' is not defined"
     ]
    }
   ],
   "source": [
    "## SOLUTION\n",
    "\n",
    "def dot_product(A, B):\n",
    "    \n",
    "    rows = len(A)\n",
    "    shared = len(B)\n",
    "    cols = len(B[0])\n",
    "    \n",
    "    return [[sum(A[i][k]*B[k][j] for k in range(shared)) for j in range(cols)] for i in range(rows)]\n",
    "\n",
    "dot_product(A,B)"
   ]
  },
  {
   "cell_type": "markdown",
   "metadata": {},
   "source": [
    "**Q4**. \n",
    "\n",
    "Write a program to merge two dictionaries together. Assume the dictionaries have the same keys. For example:\n",
    "\n",
    "```\n",
    "a = {\n",
    "    \"key1\" : 1,\n",
    "    \"key3\" : \"snafu\",\n",
    "    \"key2\" : 5,\n",
    "    \"key5\" : 7,\n",
    "    \"key4\" : 0,\n",
    "    }\n",
    "\n",
    "b = {\n",
    "    \"key2\" : 6,\n",
    "    \"key1\" : 8,\n",
    "    \"key4\" : \"bar\",\n",
    "    \"key3\" : 9,\n",
    "    \"key5\" : \"foo\"\n",
    "    }\n",
    "```\n",
    "    \n",
    "becomes\n",
    "\n",
    "```\n",
    "c = {\n",
    "     'key1': (1, 8),\n",
    "     'key2': (5, 6),\n",
    "     'key3': ('snafu', 9),\n",
    "     'key4': (0, 'bar'),\n",
    "     'key5': (7, 'foo')\n",
    "}\n",
    "```\n",
    "\n",
    "Hint: See the `collections` module for a helper function.\n"
   ]
  },
  {
   "cell_type": "code",
   "execution_count": 49,
   "metadata": {
    "collapsed": false
   },
   "outputs": [
    {
     "data": {
      "text/plain": [
       "{'key1': (1, 8),\n",
       " 'key2': (5, 6),\n",
       " 'key3': ('snafu', 9),\n",
       " 'key4': (0, 'bar'),\n",
       " 'key5': (7, 'foo')}"
      ]
     },
     "execution_count": 49,
     "metadata": {},
     "output_type": "execute_result"
    }
   ],
   "source": [
    "## SOLUTION\n",
    "\n",
    "from collections import OrderedDict\n",
    "\n",
    "a = {\n",
    "    \"key1\" : 1,\n",
    "    \"key3\" : \"snafu\",\n",
    "    \"key2\" : 5,\n",
    "    \"key5\" : 7,\n",
    "    \"key4\" : 0,\n",
    "    }\n",
    "\n",
    "b = {\n",
    "    \"key2\" : 6,\n",
    "    \"key1\" : 8,\n",
    "    \"key4\" : \"bar\",\n",
    "    \"key3\" : 9,\n",
    "    \"key5\" : \"foo\"\n",
    "    }\n",
    "\n",
    "a = OrderedDict(sorted(a.items()))\n",
    "b = OrderedDict(sorted(b.items()))\n",
    "\n",
    "# combine graph_attr and unique_attr. Order is the same because of OrderedDict\n",
    "c = {}\n",
    "for e, (k, v) in enumerate(a.items()):\n",
    "    c[k] = zip(a.values(), b.values())[e]\n",
    "    \n",
    "c"
   ]
  },
  {
   "cell_type": "markdown",
   "metadata": {
    "collapsed": true
   },
   "source": [
    "**Q5**. Pascal's triangle\n",
    "\n",
    "<ol>\n",
    "<li>Write a function `pascal(c,r)` which takes in a column `c` and row `r` (both start indexing at 0) and returns the value of Pascal's triangle. \n",
    "<li>Print the first 10 iterations of the triangle. Here are the first 6:\n",
    "\n",
    "</ol>\n",
    "\n",
    "```\n",
    "     1\n",
    "    1 1\n",
    "   1 2 1\n",
    "  1 3 3 1\n",
    " 1 4 6 4 1 \n",
    "1 5 10 10 5 1 \n",
    "...\n",
    "```\n",
    "\n",
    "Do this **recursively**."
   ]
  },
  {
   "cell_type": "code",
   "execution_count": 50,
   "metadata": {
    "collapsed": false
   },
   "outputs": [
    {
     "name": "stdout",
     "output_type": "stream",
     "text": [
      "1\n",
      "1 1\n",
      "1 2 1\n",
      "1 3 3 1\n",
      "1 4 6 4 1\n",
      "1 5 10 10 5 1\n",
      "1 6 15 20 15 6 1\n",
      "1 7 21 35 35 21 7 1\n",
      "1 8 28 56 70 56 28 8 1\n",
      "1 9 36 84 126 126 84 36 9 1\n"
     ]
    }
   ],
   "source": [
    "## SOLUTION\n",
    "\n",
    "def pascal(c,r):\n",
    "    \n",
    "    assert c <= r, \"Bad parameters - column cannot be greater than row\"\n",
    "    \n",
    "    if c == 1 or c == r:\n",
    "        return 1\n",
    "    else:\n",
    "        return pascal(c-1, r-1) + pascal(c, r-1)\n",
    "\n",
    "\n",
    "depth = 10\n",
    "\n",
    "for row in range(1, depth+1):\n",
    "    for col in range(1, row+1):\n",
    "         print pascal(col, row),\n",
    "    print"
   ]
  },
  {
   "cell_type": "markdown",
   "metadata": {
    "collapsed": true
   },
   "source": [
    "## Bonus (Hard!) Questions"
   ]
  },
  {
   "cell_type": "markdown",
   "metadata": {},
   "source": [
    "**Q1.** The four adjacent digits in the 1000-digit number that have the greatest product are 9 × 9 × 8 × 9 = 5832.\n",
    "```\n",
    "73167176531330624919225119674426574742355349194934\n",
    "96983520312774506326239578318016984801869478851843\n",
    "85861560789112949495459501737958331952853208805511\n",
    "12540698747158523863050715693290963295227443043557\n",
    "66896648950445244523161731856403098711121722383113\n",
    "62229893423380308135336276614282806444486645238749\n",
    "30358907296290491560440772390713810515859307960866\n",
    "70172427121883998797908792274921901699720888093776\n",
    "65727333001053367881220235421809751254540594752243\n",
    "52584907711670556013604839586446706324415722155397\n",
    "53697817977846174064955149290862569321978468622482\n",
    "83972241375657056057490261407972968652414535100474\n",
    "82166370484403199890008895243450658541227588666881\n",
    "16427171479924442928230863465674813919123162824586\n",
    "17866458359124566529476545682848912883142607690042\n",
    "24219022671055626321111109370544217506941658960408\n",
    "07198403850962455444362981230987879927244284909188\n",
    "84580156166097919133875499200524063689912560717606\n",
    "05886116467109405077541002256983155200055935729725\n",
    "71636269561882670428252483600823257530420752963450\n",
    "```\n",
    "Write a program to find the thirteen adjacent digits in the 1000-digit number that have the greatest product. What is the value of this product? (Euler problem #8)\n",
    "\n",
    "The answer shoud be 23514624000."
   ]
  },
  {
   "cell_type": "code",
   "execution_count": null,
   "metadata": {
    "collapsed": true
   },
   "outputs": [],
   "source": [
    "BIG_NUM = 7316717653133062491922511967442657474235534919493496983520312774506326239578318016984801869478851843858615607891129494954595017379583319528532088055111254069874715852386305071569329096329522744304355766896648950445244523161731856403098711121722383113622298934233803081353362766142828064444866452387493035890729629049156044077239071381051585930796086670172427121883998797908792274921901699720888093776657273330010533678812202354218097512545405947522435258490771167055601360483958644670632441572215539753697817977846174064955149290862569321978468622482839722413756570560574902614079729686524145351004748216637048440319989000889524345065854122758866688116427171479924442928230863465674813919123162824586178664583591245665294765456828489128831426076900422421902267105562632111110937054421750694165896040807198403850962455444362981230987879927244284909188845801561660979191338754992005240636899125607176060588611646710940507754100225698315520005593572972571636269561882670428252483600823257530420752963450\n",
    "max_num = 0  # this holds the largest number for the current iteration of the loop\n",
    "NUM_ADJACENT = 13\n",
    "\n",
    "def product_consecutive(ind):\n",
    "    ''' Calculate the product of consecutive digits'''\n",
    "    prod = 1\n",
    "    for digit in str(BIG_NUM)[ind:ind + NUM_ADJACENT]: # loop over every digit in the 13 consecutive digits\n",
    "        prod *= int(digit)\n",
    "    return prod\n",
    "        \n",
    "\n",
    "for ind in range(len(str(BIG_NUM))): # loop over the range of digits in big_num\n",
    "    current_product = product_consecutive(ind)\n",
    "    if current_product > max_num: \n",
    "        max_num = current_product\n",
    "\n",
    "print(max_num)"
   ]
  },
  {
   "cell_type": "markdown",
   "metadata": {},
   "source": [
    "**Q2**.\n",
    "\n",
    "A string of consecutive successes is known as a success *run*. Write a function that returns the counts for runs of length $k$ for each $k$ observed in a dictionary. Hint: check out the `itertools` library.\n",
    "\n",
    "For example: if the trials were [0, 1, 0, 1, 1, 0, 0, 0, 0, 1], the function should return \n",
    "```\n",
    "{1: 2, 2: 1})\n",
    "```"
   ]
  },
  {
   "cell_type": "code",
   "execution_count": 40,
   "metadata": {
    "collapsed": false
   },
   "outputs": [
    {
     "data": {
      "text/plain": [
       "{1: 2, 2: 1}"
      ]
     },
     "execution_count": 40,
     "metadata": {},
     "output_type": "execute_result"
    }
   ],
   "source": [
    "## SOLUTION\n",
    "\n",
    "from itertools import groupby\n",
    "\n",
    "def calc_runs_dict(trials):\n",
    "    \"\"\"\n",
    "    Returns the counts for runs of length k for each k observed in a dictionary\n",
    "    \"\"\"\n",
    "\n",
    "    runs = {}\n",
    "\n",
    "    count_consecutive = lambda x: [(k, sum(1 for i in g)) for k, g in groupby(x)] # function to group consecutive values\n",
    "    grouped_counts = count_consecutive(trials)\n",
    "    \n",
    "    run_values = [i[1] for i in grouped_counts if i[0] == 1] # filter out 0's\n",
    "    update_dictionary = lambda x: runs.update({x:runs.get(x,0)+1})\n",
    "    \n",
    "    list(map(update_dictionary, run_values)) # update runs dictionary for new consecutive 1's\n",
    "    \n",
    "    return runs\n",
    "\n",
    "trials = [0, 1, 0, 1, 1, 0, 0, 0, 0, 1]    \n",
    "calc_runs_dict(trials)"
   ]
  },
  {
   "cell_type": "code",
   "execution_count": null,
   "metadata": {
    "collapsed": true
   },
   "outputs": [],
   "source": []
  }
 ],
 "metadata": {
  "kernelspec": {
   "display_name": "Python 2",
   "language": "python",
   "name": "python2"
  },
  "language_info": {
   "codemirror_mode": {
    "name": "ipython",
    "version": 2
   },
   "file_extension": ".py",
   "mimetype": "text/x-python",
   "name": "python",
   "nbconvert_exporter": "python",
   "pygments_lexer": "ipython2",
   "version": "2.7.10"
  }
 },
 "nbformat": 4,
 "nbformat_minor": 0
}
