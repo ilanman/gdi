{
 "cells": [
  {
   "cell_type": "markdown",
   "metadata": {},
   "source": [
    "<img src='http://www.wpclipart.com/education/chalkboard/more_boards/welcome_back.png'>"
   ]
  },
  {
   "cell_type": "markdown",
   "metadata": {},
   "source": [
    "# Week 1 Review"
   ]
  },
  {
   "cell_type": "code",
   "execution_count": 4,
   "metadata": {
    "collapsed": true
   },
   "outputs": [],
   "source": [
    "from sklearn import datasets\n",
    "boston = datasets.load_boston()"
   ]
  },
  {
   "cell_type": "code",
   "execution_count": 5,
   "metadata": {
    "collapsed": false
   },
   "outputs": [
    {
     "name": "stdout",
     "output_type": "stream",
     "text": [
      "Boston House Prices dataset\n",
      "\n",
      "Notes\n",
      "------\n",
      "Data Set Characteristics:  \n",
      "\n",
      "    :Number of Instances: 506 \n",
      "\n",
      "    :Number of Attributes: 13 numeric/categorical predictive\n",
      "    \n",
      "    :Median Value (attribute 14) is usually the target\n",
      "\n",
      "    :Attribute Information (in order):\n",
      "        - CRIM     per capita crime rate by town\n",
      "        - ZN       proportion of residential land zoned for lots over 25,000 sq.ft.\n",
      "        - INDUS    proportion of non-retail business acres per town\n",
      "        - CHAS     Charles River dummy variable (= 1 if tract bounds river; 0 otherwise)\n",
      "        - NOX      nitric oxides concentration (parts per 10 million)\n",
      "        - RM       average number of rooms per dwelling\n",
      "        - AGE      proportion of owner-occupied units built prior to 1940\n",
      "        - DIS      weighted distances to five Boston employment centres\n",
      "        - RAD      index of accessibility to radial highways\n",
      "        - TAX      full-value property-tax rate per $10,000\n",
      "        - PTRATIO  pupil-teacher ratio by town\n",
      "        - B        1000(Bk - 0.63)^2 where Bk is the proportion of blacks by town\n",
      "        - LSTAT    % lower status of the population\n",
      "        - MEDV     Median value of owner-occupied homes in $1000's\n",
      "\n",
      "    :Missing Attribute Values: None\n",
      "\n",
      "    :Creator: Harrison, D. and Rubinfeld, D.L.\n",
      "\n",
      "This is a copy of UCI ML housing dataset.\n",
      "http://archive.ics.uci.edu/ml/datasets/Housing\n",
      "\n",
      "\n",
      "This dataset was taken from the StatLib library which is maintained at Carnegie Mellon University.\n",
      "\n",
      "The Boston house-price data of Harrison, D. and Rubinfeld, D.L. 'Hedonic\n",
      "prices and the demand for clean air', J. Environ. Economics & Management,\n",
      "vol.5, 81-102, 1978.   Used in Belsley, Kuh & Welsch, 'Regression diagnostics\n",
      "...', Wiley, 1980.   N.B. Various transformations are used in the table on\n",
      "pages 244-261 of the latter.\n",
      "\n",
      "The Boston house-price data has been used in many machine learning papers that address regression\n",
      "problems.   \n",
      "     \n",
      "**References**\n",
      "\n",
      "   - Belsley, Kuh & Welsch, 'Regression diagnostics: Identifying Influential Data and Sources of Collinearity', Wiley, 1980. 244-261.\n",
      "   - Quinlan,R. (1993). Combining Instance-Based and Model-Based Learning. In Proceedings on the Tenth International Conference of Machine Learning, 236-243, University of Massachusetts, Amherst. Morgan Kaufmann.\n",
      "   - many more! (see http://archive.ics.uci.edu/ml/datasets/Housing)\n",
      "\n"
     ]
    }
   ],
   "source": [
    "print boston.DESCR"
   ]
  },
  {
   "cell_type": "markdown",
   "metadata": {},
   "source": [
    "## Let's group house prices into expensive (> \\$20K) or affordable (<= \\$20K). This is 1978."
   ]
  },
  {
   "cell_type": "code",
   "execution_count": 13,
   "metadata": {
    "collapsed": false
   },
   "outputs": [
    {
     "name": "stdout",
     "output_type": "stream",
     "text": [
      "{'affordable': [16.5,\n",
      "                18.899999999999999,\n",
      "                15.0,\n",
      "                18.899999999999999,\n",
      "                18.199999999999999,\n",
      "                19.899999999999999,\n",
      "                17.5,\n",
      "                18.199999999999999,\n",
      "                13.6,\n",
      "                19.600000000000001,\n",
      "                15.199999999999999,\n",
      "                14.5,\n",
      "                15.6,\n",
      "                13.9,\n",
      "                16.600000000000001,\n",
      "                14.800000000000001,\n",
      "                18.399999999999999,\n",
      "                12.699999999999999,\n",
      "                14.5,\n",
      "                13.199999999999999,\n",
      "                13.1,\n",
      "                13.5,\n",
      "                18.899999999999999,\n",
      "                20.0,\n",
      "                19.300000000000001,\n",
      "                20.0,\n",
      "                16.600000000000001,\n",
      "                14.4,\n",
      "                19.399999999999999,\n",
      "                19.699999999999999,\n",
      "                18.899999999999999,\n",
      "                19.600000000000001,\n",
      "                18.699999999999999,\n",
      "                16.0,\n",
      "                19.399999999999999,\n",
      "                17.399999999999999,\n",
      "                20.0,\n",
      "                18.600000000000001,\n",
      "                19.300000000000001,\n",
      "                19.5,\n",
      "                19.5,\n",
      "                19.800000000000001,\n",
      "                19.399999999999999,\n",
      "                18.800000000000001,\n",
      "                18.699999999999999,\n",
      "                18.5,\n",
      "                18.300000000000001,\n",
      "                19.199999999999999,\n",
      "                19.300000000000001,\n",
      "                17.300000000000001,\n",
      "                18.800000000000001,\n",
      "                15.699999999999999,\n",
      "                16.199999999999999,\n",
      "                18.0,\n",
      "                14.300000000000001,\n",
      "                19.199999999999999,\n",
      "                19.600000000000001,\n",
      "                18.399999999999999,\n",
      "                15.6,\n",
      "                18.100000000000001,\n",
      "                17.399999999999999,\n",
      "                17.100000000000001,\n",
      "                13.300000000000001,\n",
      "                17.800000000000001,\n",
      "                14.0,\n",
      "                14.4,\n",
      "                13.4,\n",
      "                15.6,\n",
      "                11.800000000000001,\n",
      "                13.800000000000001,\n",
      "                15.6,\n",
      "                14.6,\n",
      "                17.800000000000001,\n",
      "                15.4,\n",
      "                19.600000000000001,\n",
      "                15.300000000000001,\n",
      "                19.399999999999999,\n",
      "                17.0,\n",
      "                15.6,\n",
      "                13.1,\n",
      "                17.399999999999999,\n",
      "                19.100000000000001,\n",
      "                20.0,\n",
      "                19.300000000000001,\n",
      "                17.600000000000001,\n",
      "                18.5,\n",
      "                16.100000000000001,\n",
      "                19.399999999999999,\n",
      "                16.199999999999999,\n",
      "                17.800000000000001,\n",
      "                19.800000000000001,\n",
      "                18.5,\n",
      "                19.300000000000001,\n",
      "                19.800000000000001,\n",
      "                17.100000000000001,\n",
      "                19.399999999999999,\n",
      "                19.5,\n",
      "                18.5,\n",
      "                19.0,\n",
      "                18.699999999999999,\n",
      "                16.5,\n",
      "                17.5,\n",
      "                17.199999999999999,\n",
      "                18.600000000000001,\n",
      "                18.199999999999999,\n",
      "                17.800000000000001,\n",
      "                19.899999999999999,\n",
      "                16.800000000000001,\n",
      "                13.800000000000001,\n",
      "                13.800000000000001,\n",
      "                15.0,\n",
      "                13.9,\n",
      "                13.300000000000001,\n",
      "                13.1,\n",
      "                10.199999999999999,\n",
      "                10.4,\n",
      "                10.9,\n",
      "                11.300000000000001,\n",
      "                12.300000000000001,\n",
      "                8.8000000000000007,\n",
      "                7.2000000000000002,\n",
      "                10.5,\n",
      "                7.4000000000000004,\n",
      "                10.199999999999999,\n",
      "                11.5,\n",
      "                15.1,\n",
      "                9.6999999999999993,\n",
      "                13.800000000000001,\n",
      "                12.699999999999999,\n",
      "                13.1,\n",
      "                12.5,\n",
      "                8.5,\n",
      "                5.0,\n",
      "                6.2999999999999998,\n",
      "                5.5999999999999996,\n",
      "                7.2000000000000002,\n",
      "                12.1,\n",
      "                8.3000000000000007,\n",
      "                8.5,\n",
      "                5.0,\n",
      "                11.9,\n",
      "                17.199999999999999,\n",
      "                15.0,\n",
      "                17.199999999999999,\n",
      "                17.899999999999999,\n",
      "                16.300000000000001,\n",
      "                7.0,\n",
      "                7.2000000000000002,\n",
      "                7.5,\n",
      "                10.4,\n",
      "                8.8000000000000007,\n",
      "                8.4000000000000004,\n",
      "                16.699999999999999,\n",
      "                14.199999999999999,\n",
      "                13.4,\n",
      "                11.699999999999999,\n",
      "                8.3000000000000007,\n",
      "                10.199999999999999,\n",
      "                10.9,\n",
      "                11.0,\n",
      "                9.5,\n",
      "                14.5,\n",
      "                14.1,\n",
      "                16.100000000000001,\n",
      "                14.300000000000001,\n",
      "                11.699999999999999,\n",
      "                13.4,\n",
      "                9.5999999999999996,\n",
      "                8.6999999999999993,\n",
      "                8.4000000000000004,\n",
      "                12.800000000000001,\n",
      "                10.5,\n",
      "                17.100000000000001,\n",
      "                18.399999999999999,\n",
      "                15.4,\n",
      "                10.800000000000001,\n",
      "                11.800000000000001,\n",
      "                14.9,\n",
      "                12.6,\n",
      "                14.1,\n",
      "                13.0,\n",
      "                13.4,\n",
      "                15.199999999999999,\n",
      "                16.100000000000001,\n",
      "                17.800000000000001,\n",
      "                14.9,\n",
      "                14.1,\n",
      "                12.699999999999999,\n",
      "                13.5,\n",
      "                14.9,\n",
      "                20.0,\n",
      "                16.399999999999999,\n",
      "                17.699999999999999,\n",
      "                19.5,\n",
      "                19.899999999999999,\n",
      "                19.0,\n",
      "                19.100000000000001,\n",
      "                19.100000000000001,\n",
      "                19.899999999999999,\n",
      "                19.600000000000001,\n",
      "                13.800000000000001,\n",
      "                13.300000000000001,\n",
      "                16.699999999999999,\n",
      "                12.0,\n",
      "                14.6,\n",
      "                19.100000000000001,\n",
      "                15.199999999999999,\n",
      "                7.0,\n",
      "                8.0999999999999996,\n",
      "                13.6,\n",
      "                19.699999999999999,\n",
      "                18.300000000000001,\n",
      "                17.5,\n",
      "                16.800000000000001,\n",
      "                11.9],\n",
      " 'expensive': [24.0,\n",
      "               21.600000000000001,\n",
      "               34.700000000000003,\n",
      "               33.399999999999999,\n",
      "               36.200000000000003,\n",
      "               28.699999999999999,\n",
      "               22.899999999999999,\n",
      "               27.100000000000001,\n",
      "               21.699999999999999,\n",
      "               20.399999999999999,\n",
      "               23.100000000000001,\n",
      "               20.199999999999999,\n",
      "               21.0,\n",
      "               21.0,\n",
      "               24.699999999999999,\n",
      "               30.800000000000001,\n",
      "               34.899999999999999,\n",
      "               26.600000000000001,\n",
      "               25.300000000000001,\n",
      "               24.699999999999999,\n",
      "               21.199999999999999,\n",
      "               20.5,\n",
      "               25.0,\n",
      "               23.399999999999999,\n",
      "               35.399999999999999,\n",
      "               24.699999999999999,\n",
      "               31.600000000000001,\n",
      "               23.300000000000001,\n",
      "               22.199999999999999,\n",
      "               25.0,\n",
      "               33.0,\n",
      "               23.5,\n",
      "               22.0,\n",
      "               20.899999999999999,\n",
      "               24.199999999999999,\n",
      "               21.699999999999999,\n",
      "               22.800000000000001,\n",
      "               23.399999999999999,\n",
      "               24.100000000000001,\n",
      "               21.399999999999999,\n",
      "               20.800000000000001,\n",
      "               21.199999999999999,\n",
      "               20.300000000000001,\n",
      "               28.0,\n",
      "               23.899999999999999,\n",
      "               24.800000000000001,\n",
      "               22.899999999999999,\n",
      "               23.899999999999999,\n",
      "               26.600000000000001,\n",
      "               22.5,\n",
      "               22.199999999999999,\n",
      "               23.600000000000001,\n",
      "               28.699999999999999,\n",
      "               22.600000000000001,\n",
      "               22.0,\n",
      "               22.899999999999999,\n",
      "               25.0,\n",
      "               20.600000000000001,\n",
      "               28.399999999999999,\n",
      "               21.399999999999999,\n",
      "               38.700000000000003,\n",
      "               43.799999999999997,\n",
      "               33.200000000000003,\n",
      "               27.5,\n",
      "               26.5,\n",
      "               20.100000000000001,\n",
      "               20.399999999999999,\n",
      "               21.699999999999999,\n",
      "               22.800000000000001,\n",
      "               21.199999999999999,\n",
      "               20.399999999999999,\n",
      "               22.0,\n",
      "               20.300000000000001,\n",
      "               20.5,\n",
      "               21.399999999999999,\n",
      "               23.0,\n",
      "               21.5,\n",
      "               41.299999999999997,\n",
      "               24.300000000000001,\n",
      "               23.300000000000001,\n",
      "               27.0,\n",
      "               50.0,\n",
      "               50.0,\n",
      "               50.0,\n",
      "               22.699999999999999,\n",
      "               25.0,\n",
      "               50.0,\n",
      "               23.800000000000001,\n",
      "               23.800000000000001,\n",
      "               22.300000000000001,\n",
      "               23.100000000000001,\n",
      "               23.600000000000001,\n",
      "               22.600000000000001,\n",
      "               29.399999999999999,\n",
      "               23.199999999999999,\n",
      "               24.600000000000001,\n",
      "               29.899999999999999,\n",
      "               37.200000000000003,\n",
      "               39.799999999999997,\n",
      "               36.200000000000003,\n",
      "               37.899999999999999,\n",
      "               32.5,\n",
      "               26.399999999999999,\n",
      "               29.600000000000001,\n",
      "               50.0,\n",
      "               32.0,\n",
      "               29.800000000000001,\n",
      "               34.899999999999999,\n",
      "               37.0,\n",
      "               30.5,\n",
      "               36.399999999999999,\n",
      "               31.100000000000001,\n",
      "               29.100000000000001,\n",
      "               50.0,\n",
      "               33.299999999999997,\n",
      "               30.300000000000001,\n",
      "               34.600000000000001,\n",
      "               34.899999999999999,\n",
      "               32.899999999999999,\n",
      "               24.100000000000001,\n",
      "               42.299999999999997,\n",
      "               48.5,\n",
      "               50.0,\n",
      "               22.600000000000001,\n",
      "               24.399999999999999,\n",
      "               22.5,\n",
      "               24.399999999999999,\n",
      "               21.699999999999999,\n",
      "               22.399999999999999,\n",
      "               28.100000000000001,\n",
      "               23.699999999999999,\n",
      "               25.0,\n",
      "               23.300000000000001,\n",
      "               28.699999999999999,\n",
      "               21.5,\n",
      "               23.0,\n",
      "               26.699999999999999,\n",
      "               21.699999999999999,\n",
      "               27.5,\n",
      "               30.100000000000001,\n",
      "               44.799999999999997,\n",
      "               50.0,\n",
      "               37.600000000000001,\n",
      "               31.600000000000001,\n",
      "               46.700000000000003,\n",
      "               31.5,\n",
      "               24.300000000000001,\n",
      "               31.699999999999999,\n",
      "               41.700000000000003,\n",
      "               48.299999999999997,\n",
      "               29.0,\n",
      "               24.0,\n",
      "               25.100000000000001,\n",
      "               31.5,\n",
      "               23.699999999999999,\n",
      "               23.300000000000001,\n",
      "               22.0,\n",
      "               20.100000000000001,\n",
      "               22.199999999999999,\n",
      "               23.699999999999999,\n",
      "               24.300000000000001,\n",
      "               20.5,\n",
      "               24.5,\n",
      "               26.199999999999999,\n",
      "               24.399999999999999,\n",
      "               24.800000000000001,\n",
      "               29.600000000000001,\n",
      "               42.799999999999997,\n",
      "               21.899999999999999,\n",
      "               20.899999999999999,\n",
      "               44.0,\n",
      "               50.0,\n",
      "               36.0,\n",
      "               30.100000000000001,\n",
      "               33.799999999999997,\n",
      "               43.100000000000001,\n",
      "               48.799999999999997,\n",
      "               31.0,\n",
      "               36.5,\n",
      "               22.800000000000001,\n",
      "               30.699999999999999,\n",
      "               50.0,\n",
      "               43.5,\n",
      "               20.699999999999999,\n",
      "               21.100000000000001,\n",
      "               25.199999999999999,\n",
      "               24.399999999999999,\n",
      "               35.200000000000003,\n",
      "               32.399999999999999,\n",
      "               32.0,\n",
      "               33.200000000000003,\n",
      "               33.100000000000001,\n",
      "               29.100000000000001,\n",
      "               35.100000000000001,\n",
      "               45.399999999999999,\n",
      "               35.399999999999999,\n",
      "               46.0,\n",
      "               50.0,\n",
      "               32.200000000000003,\n",
      "               22.0,\n",
      "               20.100000000000001,\n",
      "               23.199999999999999,\n",
      "               22.300000000000001,\n",
      "               24.800000000000001,\n",
      "               28.5,\n",
      "               37.299999999999997,\n",
      "               27.899999999999999,\n",
      "               23.899999999999999,\n",
      "               21.699999999999999,\n",
      "               28.600000000000001,\n",
      "               27.100000000000001,\n",
      "               20.300000000000001,\n",
      "               22.5,\n",
      "               29.0,\n",
      "               24.800000000000001,\n",
      "               22.0,\n",
      "               26.399999999999999,\n",
      "               33.100000000000001,\n",
      "               36.100000000000001,\n",
      "               28.399999999999999,\n",
      "               33.399999999999999,\n",
      "               28.199999999999999,\n",
      "               22.800000000000001,\n",
      "               20.300000000000001,\n",
      "               22.100000000000001,\n",
      "               21.600000000000001,\n",
      "               23.800000000000001,\n",
      "               23.100000000000001,\n",
      "               21.0,\n",
      "               23.800000000000001,\n",
      "               23.100000000000001,\n",
      "               20.399999999999999,\n",
      "               25.0,\n",
      "               24.600000000000001,\n",
      "               23.0,\n",
      "               22.199999999999999,\n",
      "               22.600000000000001,\n",
      "               22.199999999999999,\n",
      "               20.699999999999999,\n",
      "               21.100000000000001,\n",
      "               20.600000000000001,\n",
      "               32.700000000000003,\n",
      "               23.899999999999999,\n",
      "               31.199999999999999,\n",
      "               23.100000000000001,\n",
      "               24.5,\n",
      "               26.600000000000001,\n",
      "               22.899999999999999,\n",
      "               24.100000000000001,\n",
      "               30.100000000000001,\n",
      "               20.600000000000001,\n",
      "               21.699999999999999,\n",
      "               22.699999999999999,\n",
      "               22.600000000000001,\n",
      "               25.0,\n",
      "               20.800000000000001,\n",
      "               21.899999999999999,\n",
      "               27.5,\n",
      "               21.899999999999999,\n",
      "               23.100000000000001,\n",
      "               50.0,\n",
      "               50.0,\n",
      "               50.0,\n",
      "               50.0,\n",
      "               50.0,\n",
      "               23.199999999999999,\n",
      "               27.899999999999999,\n",
      "               27.5,\n",
      "               20.800000000000001,\n",
      "               20.199999999999999,\n",
      "               21.399999999999999,\n",
      "               20.100000000000001,\n",
      "               23.199999999999999,\n",
      "               29.800000000000001,\n",
      "               21.399999999999999,\n",
      "               23.0,\n",
      "               23.699999999999999,\n",
      "               25.0,\n",
      "               21.800000000000001,\n",
      "               20.600000000000001,\n",
      "               21.199999999999999,\n",
      "               20.600000000000001,\n",
      "               20.100000000000001,\n",
      "               21.800000000000001,\n",
      "               24.5,\n",
      "               23.100000000000001,\n",
      "               21.199999999999999,\n",
      "               22.399999999999999,\n",
      "               20.600000000000001,\n",
      "               23.899999999999999,\n",
      "               22.0]}\n"
     ]
    }
   ],
   "source": [
    "# create dictionary with values that are empty lists\n",
    "prices = {\n",
    "    'expensive' : [],\n",
    "    'affordable' : []\n",
    "}\n",
    "\n",
    "# the price of a house will be appended to the corresponding list (expensive or affordable)\n",
    "for value in boston.target:\n",
    "    if value > 20:\n",
    "        prices['expensive'].append(value)\n",
    "    else:\n",
    "        prices['affordable'].append(value)\n",
    "\n",
    "from pprint import pprint as pp\n",
    "pp(prices)"
   ]
  },
  {
   "cell_type": "code",
   "execution_count": 14,
   "metadata": {
    "collapsed": false
   },
   "outputs": [
    {
     "name": "stdout",
     "output_type": "stream",
     "text": [
      "Expensive: 291\n",
      "Affordable: 215\n"
     ]
    }
   ],
   "source": [
    "# how many affordable and expensive houses are there?\n",
    "print \"Expensive:\", len(prices['expensive'])\n",
    "print \"Affordable:\", len(prices['affordable'])"
   ]
  },
  {
   "cell_type": "code",
   "execution_count": 19,
   "metadata": {
    "collapsed": false
   },
   "outputs": [
    {
     "data": {
      "text/plain": [
       "0.10652920962199312"
      ]
     },
     "execution_count": 19,
     "metadata": {},
     "output_type": "execute_result"
    }
   ],
   "source": [
    "# What proportion of expensive houses are more than $40K?  List comprehension is good for operating on a list\n",
    "from __future__ import division      # what's another way to do this without importing?\n",
    "\n",
    "len([v for v in prices['expensive'] if v > 40])/len(prices['expensive'])"
   ]
  },
  {
   "cell_type": "code",
   "execution_count": 35,
   "metadata": {
    "collapsed": false
   },
   "outputs": [
    {
     "name": "stdout",
     "output_type": "stream",
     "text": [
      "15.1930232558\n",
      "Average price: $15,193\n"
     ]
    }
   ],
   "source": [
    "# whats the average price of an affordable house?\n",
    "avg = sum(i for i in prices['affordable'])/len(prices['affordable'])\n",
    "print avg\n",
    "print \"Average price: ${:,.0f}\".format(avg*1000)    # make it pretty"
   ]
  },
  {
   "cell_type": "markdown",
   "metadata": {},
   "source": [
    "Week 2 - Functions\n",
    "======="
   ]
  },
  {
   "cell_type": "markdown",
   "metadata": {},
   "source": [
    "1. [First class functions](#firstclass)\n",
    "2. [Higher order functions](#higherorder)\n",
    "3. [Anonymous functions](#anonymous)\n",
    "4. [Recursion](#recursion)\n",
    "5. [Iterators](#iterators)\n",
    "6. [Review Problems](#hmwk)"
   ]
  },
  {
   "cell_type": "markdown",
   "metadata": {},
   "source": [
    "## First class functions <a id='firstclass'></a>\n",
    "\n",
    "Functions behave like any other object, such as an `int` or a `list`\n",
    "<ul>\n",
    "<li>Use functions as arguments to other functions\n",
    "<li>Store functions as dictionary values\n",
    "<li>Return a function from another function\n",
    "<li>Common feature of functional programming languages like Lisp or Haskell or Scala\n",
    "<li>Leads to many powerful ways to use functions.\n",
    "</ul>\n",
    "\n",
    "\n"
   ]
  },
  {
   "cell_type": "code",
   "execution_count": 231,
   "metadata": {
    "collapsed": false
   },
   "outputs": [],
   "source": [
    "def square(x):\n",
    "    \"\"\"Square of x\"\"\"    # what are these \"\"\" \"\"\" called? What are they for?\n",
    "    return x**2\n",
    "\n",
    "def cube(x):\n",
    "    \"\"\"Cube of x.\"\"\"\n",
    "    return x**3\n",
    "\n",
    "def root(x):\n",
    "    \"\"\"Square root of x.\"\"\"\n",
    "    return x**.5"
   ]
  },
  {
   "cell_type": "code",
   "execution_count": 233,
   "metadata": {
    "collapsed": false
   },
   "outputs": [],
   "source": [
    "# create a dictionary of functions\n",
    "funcs = {\n",
    "    'square': square,\n",
    "    'cube': cube,\n",
    "    'root': root,\n",
    "}"
   ]
  },
  {
   "cell_type": "code",
   "execution_count": 234,
   "metadata": {
    "collapsed": false
   },
   "outputs": [
    {
     "name": "stdout",
     "output_type": "stream",
     "text": [
      "4\n",
      "8\n",
      "1.41421356237\n"
     ]
    }
   ],
   "source": [
    "x = 2\n",
    "\n",
    "print square(x)\n",
    "print cube(x)\n",
    "print root(x)"
   ]
  },
  {
   "cell_type": "code",
   "execution_count": 235,
   "metadata": {
    "collapsed": false
   },
   "outputs": [
    {
     "name": "stdout",
     "output_type": "stream",
     "text": [
      "cube 8\n",
      "root 1.41421356237\n",
      "square 4\n"
     ]
    }
   ],
   "source": [
    "# print function name and output, sorted by function name\n",
    "for key, val in sorted(funcs.items()):\n",
    "    print key, val(x)"
   ]
  },
  {
   "cell_type": "markdown",
   "metadata": {},
   "source": [
    "### Functions can be passed in as arguments"
   ]
  },
  {
   "cell_type": "code",
   "execution_count": 245,
   "metadata": {
    "collapsed": true
   },
   "outputs": [],
   "source": [
    "def derivative(x, f, h = 0.01):       # using default value for h\n",
    "    \"\"\" Calculate the derivative of any continuous, differentiable function \"\"\"\n",
    "    \n",
    "    return (f(x+h) - f(x))/h"
   ]
  },
  {
   "cell_type": "markdown",
   "metadata": {},
   "source": [
    "$$ f(x) = 3x^2 + 5x + 3$$\n",
    "<br>\n",
    "$$ f'(x) = 6x + 5$$\n",
    "<br>\n",
    "$$ f'(2) = 6\\times2 + 5 = 17$$"
   ]
  },
  {
   "cell_type": "code",
   "execution_count": 138,
   "metadata": {
    "collapsed": true
   },
   "outputs": [],
   "source": [
    "def some_func(x):    \n",
    "    return 3*x**2 + 5*x + 3"
   ]
  },
  {
   "cell_type": "code",
   "execution_count": 251,
   "metadata": {
    "collapsed": false
   },
   "outputs": [
    {
     "data": {
      "text/plain": [
       "17.029999999999745"
      ]
     },
     "execution_count": 251,
     "metadata": {},
     "output_type": "execute_result"
    }
   ],
   "source": [
    "derivative(2, some_func, h = 0.01) # passing in function f.   What happens if I include a value for h?"
   ]
  },
  {
   "cell_type": "markdown",
   "metadata": {},
   "source": [
    "### Functions can also be returned by functions"
   ]
  },
  {
   "cell_type": "code",
   "execution_count": 257,
   "metadata": {
    "collapsed": false
   },
   "outputs": [],
   "source": [
    "# this is how you might performing timing outside of the Jupyter notebook\n",
    "# Lots of documentation online about time decorator\n",
    "\n",
    "import time\n",
    "\n",
    "def sum_squares(n):\n",
    "    \"\"\" Sum of the squares from 0 to n-1 \"\"\"\n",
    "    \n",
    "    return sum([x**2 for x in range(n)])\n",
    "\n",
    "def timer(f,n):\n",
    "    \"\"\" Time how long it takes to evaluate a function \"\"\"\n",
    "    \n",
    "    start = time.clock()\n",
    "    result = f(n)   \n",
    "    elapsed = time.clock() - start\n",
    "    return result, elapsed"
   ]
  },
  {
   "cell_type": "code",
   "execution_count": 258,
   "metadata": {
    "collapsed": false
   },
   "outputs": [
    {
     "data": {
      "text/plain": [
       "(333333283333335000000L, 1.555731999999999)"
      ]
     },
     "execution_count": 258,
     "metadata": {},
     "output_type": "execute_result"
    }
   ],
   "source": [
    "n = 10000000\n",
    "timer(sum_squares, n)"
   ]
  },
  {
   "cell_type": "code",
   "execution_count": 259,
   "metadata": {
    "collapsed": false
   },
   "outputs": [
    {
     "name": "stdout",
     "output_type": "stream",
     "text": [
      "1 loop, best of 3: 1.53 s per loop\n"
     ]
    }
   ],
   "source": [
    "%timeit sum_squares(n)"
   ]
  },
  {
   "cell_type": "markdown",
   "metadata": {},
   "source": [
    "## Higher order functions<a id='higherorder'></a>\n",
    "\n",
    "<ul>\n",
    "<li>A function that uses another function as an input argument or returns a function\n",
    "<li>The most familiar are `map`, `filter` and `reduce`. These are very fast in Python.\n",
    "<li>Custom functions are HOF\n",
    "</ul>"
   ]
  },
  {
   "cell_type": "code",
   "execution_count": 167,
   "metadata": {
    "collapsed": false
   },
   "outputs": [
    {
     "data": {
      "text/plain": [
       "[0, 1, 4, 9, 16, 25, 36, 49, 64, 81]"
      ]
     },
     "execution_count": 167,
     "metadata": {},
     "output_type": "execute_result"
    }
   ],
   "source": [
    "# The map function applies a function to each member of a collection\n",
    "# map(some_function, some_sequence)\n",
    "\n",
    "map(square, range(10))"
   ]
  },
  {
   "cell_type": "code",
   "execution_count": 176,
   "metadata": {
    "collapsed": false
   },
   "outputs": [
    {
     "data": {
      "text/plain": [
       "[0, 2, 4, 6, 8]"
      ]
     },
     "execution_count": 176,
     "metadata": {},
     "output_type": "execute_result"
    }
   ],
   "source": [
    "# The filter function applies a predicate to each member of a collection,\n",
    "# retaining only those members where the predicate is True\n",
    "\n",
    "def is_even(x):\n",
    "    return x % 2 == 0\n",
    "\n",
    "filter(is_even, range(10))"
   ]
  },
  {
   "cell_type": "code",
   "execution_count": 177,
   "metadata": {
    "collapsed": false
   },
   "outputs": [
    {
     "data": {
      "text/plain": [
       "[0, 4, 16, 36, 64]"
      ]
     },
     "execution_count": 177,
     "metadata": {},
     "output_type": "execute_result"
    }
   ],
   "source": [
    "# It is common to combine map and filter\n",
    "\n",
    "map(square, filter(is_even, range(10)))"
   ]
  },
  {
   "cell_type": "code",
   "execution_count": 181,
   "metadata": {
    "collapsed": false
   },
   "outputs": [
    {
     "data": {
      "text/plain": [
       "15"
      ]
     },
     "execution_count": 181,
     "metadata": {},
     "output_type": "execute_result"
    }
   ],
   "source": [
    "# The reduce function reduces a collection using a binary operator to combine sequential items, two at a time\n",
    "\n",
    "def add_them(x, y):\n",
    "    return x + y\n",
    "\n",
    "# another implementation of the sum function - like a running total\n",
    "reduce(add_them, [1,2,3,4,5])"
   ]
  },
  {
   "cell_type": "code",
   "execution_count": 182,
   "metadata": {
    "collapsed": false
   },
   "outputs": [
    {
     "name": "stdout",
     "output_type": "stream",
     "text": [
      "285\n",
      "2025\n",
      "19.306000526\n"
     ]
    }
   ],
   "source": [
    "def custom_sum(xs, func):\n",
    "    \"\"\"Returns the sum of xs after applying func to xs.\"\"\"\n",
    "    \n",
    "    return sum(map(func, xs))\n",
    "\n",
    "xs = range(10)\n",
    "print custom_sum(xs, square)\n",
    "print custom_sum(xs, cube)\n",
    "print custom_sum(xs, root)"
   ]
  },
  {
   "cell_type": "markdown",
   "metadata": {},
   "source": [
    "++++++++++++++++++++++++++++++++++++++++++++++++++++++++++++++++++++++++++++++++++++++++++++++++++++++++++++++++"
   ]
  },
  {
   "cell_type": "markdown",
   "metadata": {},
   "source": [
    "## EXERCISE TIME!\n",
    "\n",
    "1) Using `map`, write python program to calculate the length of each element in a list: `['Donald','Ted','Hilary','Joe','Bernie']`.\n"
   ]
  },
  {
   "cell_type": "markdown",
   "metadata": {},
   "source": [
    "2) Using `reduce` and `map`, write a python program to find the largest element in the list of integers, floats or strings (that are numbers). <br>\n",
    "For example: `[2, '3', 4.0, 2, -1, '10', 9, -4.3, 8, 7, 11, 3]`. Should return `11`.\n",
    "<br>\n",
    "<br>\n",
    "Hint:\n",
    "<ol>\n",
    "<li>How can you tell Python to compare `'10'` to `8`? Should the types be the same?\n",
    "<li>You can use `reduce` to find the maximum in a similar way as we used it to find the `sum` in the example above.\n",
    "</ol>"
   ]
  },
  {
   "cell_type": "markdown",
   "metadata": {},
   "source": [
    "++++++++++++++++++++++++++++++++++++++++++++++++++++++++++++++++++++++++++++++++++++++++++++++++++++++++++++++++"
   ]
  },
  {
   "cell_type": "markdown",
   "metadata": {},
   "source": [
    "## Anonymous functions<a id='anonymous'></a>\n",
    "\n",
    "<ul>\n",
    "<li>In functional programming, there is often a need to create small specific functions that perform a limited task as input to a HOF such as `map` or `filter`. Think `sum()`, `square()`, ...\n",
    "<li>In such cases, these functions are often written as anonymous or **lambda** functions\n",
    "</ul>\n",
    "\n",
    "*If you find it hard to understand what a lambda function is doing, it should probably be rewritten as a regular function.*"
   ]
  },
  {
   "cell_type": "code",
   "execution_count": 185,
   "metadata": {
    "collapsed": false
   },
   "outputs": [
    {
     "data": {
      "text/plain": [
       "100"
      ]
     },
     "execution_count": 185,
     "metadata": {},
     "output_type": "execute_result"
    }
   ],
   "source": [
    "# Using standard functions\n",
    "n = 10\n",
    "\n",
    "def square(x):\n",
    "    return x*x\n",
    "\n",
    "square(n)"
   ]
  },
  {
   "cell_type": "code",
   "execution_count": 186,
   "metadata": {
    "collapsed": false
   },
   "outputs": [
    {
     "data": {
      "text/plain": [
       "[0, 1, 4, 9, 16, 25, 36, 49, 64, 81]"
      ]
     },
     "execution_count": 186,
     "metadata": {},
     "output_type": "execute_result"
    }
   ],
   "source": [
    "map(square, range(n))"
   ]
  },
  {
   "cell_type": "code",
   "execution_count": 187,
   "metadata": {
    "collapsed": false
   },
   "outputs": [
    {
     "data": {
      "text/plain": [
       "100"
      ]
     },
     "execution_count": 187,
     "metadata": {},
     "output_type": "execute_result"
    }
   ],
   "source": [
    "# Using lambda function\n",
    "\n",
    "sqr = lambda x: x*x\n",
    "\n",
    "sqr(n)"
   ]
  },
  {
   "cell_type": "code",
   "execution_count": 265,
   "metadata": {
    "collapsed": false
   },
   "outputs": [
    {
     "data": {
      "text/plain": [
       "[0, 1, 4, 9, 16, 25, 36, 49, 64, 81]"
      ]
     },
     "execution_count": 265,
     "metadata": {},
     "output_type": "execute_result"
    }
   ],
   "source": [
    "n=10\n",
    "map(sqr, range(n))"
   ]
  },
  {
   "cell_type": "code",
   "execution_count": 266,
   "metadata": {
    "collapsed": false
   },
   "outputs": [
    {
     "name": "stdout",
     "output_type": "stream",
     "text": [
      "285\n"
     ]
    }
   ],
   "source": [
    "# what does this function do?\n",
    "\n",
    "s1 = reduce(lambda x, y: x+y, map(lambda x: x**2, range(1,10)))\n",
    "print(s1)"
   ]
  },
  {
   "cell_type": "code",
   "execution_count": 267,
   "metadata": {
    "collapsed": false
   },
   "outputs": [
    {
     "name": "stdout",
     "output_type": "stream",
     "text": [
      "285\n"
     ]
    }
   ],
   "source": [
    "# functional expressions and lambdas are cool\n",
    "# but can be difficult to read when over-used\n",
    "# Here is a more comprehensible version\n",
    "\n",
    "s2 = sum(x**2 for x in range(1, 10))\n",
    "print(s2)"
   ]
  },
  {
   "cell_type": "markdown",
   "metadata": {},
   "source": [
    "++++++++++++++++++++++++++++++++++++++++++++++++++++++++++++++++++++++++++++++++++++++++++++++++++++++++++++++++"
   ]
  },
  {
   "cell_type": "markdown",
   "metadata": {},
   "source": [
    "## EXERCISE TIME!\n",
    "\n",
    "Rewrite the following as a list comprehension, i.e. one liner without using `map` or `filter`"
   ]
  },
  {
   "cell_type": "code",
   "execution_count": 21,
   "metadata": {
    "collapsed": false
   },
   "outputs": [
    {
     "name": "stdout",
     "output_type": "stream",
     "text": [
      "[0, 4, 16, 36, 64]\n"
     ]
    }
   ],
   "source": [
    "ans = map(lambda x: x*x, filter(lambda x: x%2 == 0, range(10)))\n",
    "print ans"
   ]
  },
  {
   "cell_type": "markdown",
   "metadata": {},
   "source": [
    "++++++++++++++++++++++++++++++++++++++++++++++++++++++++++++++++++++++++++++++++++++++++++++++++++++++++++++++++"
   ]
  },
  {
   "cell_type": "markdown",
   "metadata": {},
   "source": [
    "## Recursion<a id='recursion'></a>\n",
    "<ul>\n",
    "<li>A recursive function is one that calls itself\n",
    "<li>Extremely useful examples of the divide-and-conquer paradigm in algorithm development\n",
    "<li>However, they can be computationally inefficient and their use in Python is quite rare in practice\n",
    "</ul>\n",
    "\n",
    "Recursive functions generally have:\n",
    "<ul>\n",
    "<li>a set of base cases \n",
    "<ul>\n",
    "<li>the answer is obvious\n",
    "<li>can be returned immediately\n",
    "</ul>\n",
    "<li>a set of recursive cases\n",
    "<ul>\n",
    "<li>which are split into smaller pieces\n",
    "<li>each of which is given to the same function called recursively\n",
    "</ul>\n",
    "</ul>\n"
   ]
  },
  {
   "cell_type": "markdown",
   "metadata": {},
   "source": [
    "### Examples"
   ]
  },
  {
   "cell_type": "markdown",
   "metadata": {},
   "source": [
    "**Factorial**:\n",
    "\n",
    "$$ n! = n\\times(n-1)\\times(n-2)\\times...\\times2\\times1$$ \n",
    "\n",
    "\n",
    "For example, $$4! = 4\\times3\\times2\\times1 = 24 $$"
   ]
  },
  {
   "cell_type": "code",
   "execution_count": 268,
   "metadata": {
    "collapsed": false,
    "scrolled": true
   },
   "outputs": [],
   "source": [
    "def fact(n):\n",
    "    \"\"\"Returns the factorial of n\"\"\"\n",
    "    \n",
    "    # base case\n",
    "    if n==0:\n",
    "        return 1\n",
    "    \n",
    "    # recursive case\n",
    "    else:\n",
    "        return n * fact(n-1)"
   ]
  },
  {
   "cell_type": "code",
   "execution_count": 269,
   "metadata": {
    "collapsed": false
   },
   "outputs": [
    {
     "data": {
      "text/plain": [
       "[(1, 1),\n",
       " (2, 2),\n",
       " (3, 6),\n",
       " (4, 24),\n",
       " (5, 120),\n",
       " (6, 720),\n",
       " (7, 5040),\n",
       " (8, 40320),\n",
       " (9, 362880)]"
      ]
     },
     "execution_count": 269,
     "metadata": {},
     "output_type": "execute_result"
    }
   ],
   "source": [
    "[(n,fact(n)) for n in range(1,10)]"
   ]
  },
  {
   "cell_type": "markdown",
   "metadata": {},
   "source": [
    "**Fibonacci sequence**:\n",
    "\n",
    "$$F_n = F_{n-1} + F_{n-2},\\!\\,$$\n",
    "\n",
    "Output is:\n",
    "\n",
    "$$1, 1, 2, 3, 5, 8, 13, 21, ...$$"
   ]
  },
  {
   "cell_type": "markdown",
   "metadata": {},
   "source": [
    "<img src='../images/rabbits.png'>"
   ]
  },
  {
   "cell_type": "code",
   "execution_count": 193,
   "metadata": {
    "collapsed": false
   },
   "outputs": [],
   "source": [
    "def fib1(n):\n",
    "    \"\"\"Fibonacci with recursion\"\"\"\n",
    "\n",
    "    # base case\n",
    "    if n==0 or n==1:\n",
    "        return 1\n",
    "    # recursive caae\n",
    "    else:\n",
    "        return fib1(n-1) + fib1(n-2)"
   ]
  },
  {
   "cell_type": "code",
   "execution_count": 270,
   "metadata": {
    "collapsed": false
   },
   "outputs": [
    {
     "data": {
      "text/plain": [
       "[(0, 1),\n",
       " (1, 1),\n",
       " (2, 2),\n",
       " (3, 3),\n",
       " (4, 5),\n",
       " (5, 8),\n",
       " (6, 13),\n",
       " (7, 21),\n",
       " (8, 34),\n",
       " (9, 55),\n",
       " (10, 89),\n",
       " (11, 144),\n",
       " (12, 233),\n",
       " (13, 377),\n",
       " (14, 610),\n",
       " (15, 987),\n",
       " (16, 1597),\n",
       " (17, 2584),\n",
       " (18, 4181),\n",
       " (19, 6765)]"
      ]
     },
     "execution_count": 270,
     "metadata": {},
     "output_type": "execute_result"
    }
   ],
   "source": [
    "[(i,fib1(i)) for i in range(20)]"
   ]
  },
  {
   "cell_type": "code",
   "execution_count": 272,
   "metadata": {
    "collapsed": false
   },
   "outputs": [],
   "source": [
    "# In Python, a more efficient version that does not use recursion is\n",
    "\n",
    "def fib2(n):\n",
    "    \"\"\"Fibonacci without recursion\"\"\"\n",
    "    \n",
    "    a, b = 0, 1\n",
    "    for i in range(1, n+1):\n",
    "        a, b = b, a + b  # notice the variable setting is on one line\n",
    "    return b"
   ]
  },
  {
   "cell_type": "code",
   "execution_count": 273,
   "metadata": {
    "collapsed": false
   },
   "outputs": [
    {
     "data": {
      "text/plain": [
       "[(0, 1),\n",
       " (1, 1),\n",
       " (2, 2),\n",
       " (3, 3),\n",
       " (4, 5),\n",
       " (5, 8),\n",
       " (6, 13),\n",
       " (7, 21),\n",
       " (8, 34),\n",
       " (9, 55),\n",
       " (10, 89),\n",
       " (11, 144),\n",
       " (12, 233),\n",
       " (13, 377),\n",
       " (14, 610),\n",
       " (15, 987),\n",
       " (16, 1597),\n",
       " (17, 2584),\n",
       " (18, 4181),\n",
       " (19, 6765)]"
      ]
     },
     "execution_count": 273,
     "metadata": {},
     "output_type": "execute_result"
    }
   ],
   "source": [
    "[(i,fib2(i)) for i in range(20)]"
   ]
  },
  {
   "cell_type": "code",
   "execution_count": 274,
   "metadata": {
    "collapsed": false
   },
   "outputs": [
    {
     "name": "stdout",
     "output_type": "stream",
     "text": [
      "CPU times: user 428 ms, sys: 23.5 ms, total: 451 ms\n",
      "Wall time: 437 ms\n",
      "CPU times: user 6 µs, sys: 0 ns, total: 6 µs\n",
      "Wall time: 7.87 µs\n"
     ]
    },
    {
     "data": {
      "text/plain": [
       "1346269"
      ]
     },
     "execution_count": 274,
     "metadata": {},
     "output_type": "execute_result"
    }
   ],
   "source": [
    "# Note that the recursive version is much slower than the non-recursive version\n",
    "\n",
    "%time fib1(30)\n",
    "%time fib2(30)"
   ]
  },
  {
   "cell_type": "markdown",
   "metadata": {
    "collapsed": true
   },
   "source": [
    "This is because it makes many duplicate function calls. For example:\n",
    "\n",
    "<img src=\"../images/fib_calculation_tree.png\"> "
   ]
  },
  {
   "cell_type": "markdown",
   "metadata": {},
   "source": [
    "We can get around that by caching results, but we won't cover that here."
   ]
  },
  {
   "cell_type": "markdown",
   "metadata": {},
   "source": [
    "### Classic use of recursion - Quick Sort"
   ]
  },
  {
   "cell_type": "code",
   "execution_count": 275,
   "metadata": {
    "collapsed": false
   },
   "outputs": [],
   "source": [
    "def quick_sort(xs):\n",
    "    \"\"\" Classic quick sort \"\"\"\n",
    "\n",
    "    # base case\n",
    "    if xs == []:\n",
    "        return xs\n",
    "    # recursive case\n",
    "    else:\n",
    "        pivot = xs[0] # choose starting pivot to be on the left\n",
    "        less_than = [x for x in xs[1:] if x <= pivot]\n",
    "        more_than = [x for x in xs[1:] if x > pivot]\n",
    "        \n",
    "        return quick_sort(less_than) + [pivot] + quick_sort(more_than)"
   ]
  },
  {
   "cell_type": "code",
   "execution_count": 276,
   "metadata": {
    "collapsed": false
   },
   "outputs": [
    {
     "name": "stdout",
     "output_type": "stream",
     "text": [
      "[-1, 0, 1, 1, 2, 3, 3, 3, 4, 4, 4, 5, 5, 5, 5, 6, 7, 8, 9, 9, 10, 11]\n"
     ]
    }
   ],
   "source": [
    "xs = [11,3,1,4,1,5,9,2,6,5,3,5,9,0,10,4,3,7,4,5,8,-1]\n",
    "print quick_sort(xs)"
   ]
  },
  {
   "cell_type": "markdown",
   "metadata": {},
   "source": [
    "++++++++++++++++++++++++++++++++++++++++++++++++++++++++++++++++++++++++++++++++++++++++++++++++++++++++++++++++"
   ]
  },
  {
   "cell_type": "markdown",
   "metadata": {},
   "source": [
    "## EXERCISE TIME!\n",
    "\n",
    "Euclid's algorithm for finding the greatest common divisor of two numbers is\n",
    "\n",
    "```python\n",
    "gcd(a, 0) = a\n",
    "gcd(a, b) = gcd(b, a modulo b)\n",
    "```\n",
    "\n",
    "<ol>\n",
    "<li>What is the greatest common divisor of `17384` and `1928`? Write the `gcd(a,b)` function.\n",
    "<li>Write a function to calculate the least common multiple, `lcm(a,b)`. Hint: Using `gcd` makes this very easy. Feel free to Google it.\n",
    "<li>What is the least common multiple of `17384` and `1928`? Hint: Google it!\n",
    "</ol>"
   ]
  },
  {
   "cell_type": "markdown",
   "metadata": {},
   "source": [
    "++++++++++++++++++++++++++++++++++++++++++++++++++++++++++++++++++++++++++++++++++++++++++++++++++++++++++++++++"
   ]
  },
  {
   "cell_type": "markdown",
   "metadata": {},
   "source": [
    "## Iterators<a id='iterators'></a>\n",
    "<ul>\n",
    "<li>Iterators represent streams of values. \n",
    "<li>Will produce the next value when you call `next()` on it\n",
    "<li>Because only one value is consumed at a time, they use very little memory.\n",
    "<li>Use of iterators is very helpful for working with data sets too large to fit into RAM.\n",
    "</ul> "
   ]
  },
  {
   "cell_type": "code",
   "execution_count": 215,
   "metadata": {
    "collapsed": false
   },
   "outputs": [
    {
     "name": "stdout",
     "output_type": "stream",
     "text": [
      "1\n",
      "2\n",
      "3\n"
     ]
    },
    {
     "ename": "StopIteration",
     "evalue": "",
     "output_type": "error",
     "traceback": [
      "\u001b[0;31m---------------------------------------------------------------------------\u001b[0m",
      "\u001b[0;31mStopIteration\u001b[0m                             Traceback (most recent call last)",
      "\u001b[0;32m<ipython-input-215-35c80bc0fe4b>\u001b[0m in \u001b[0;36m<module>\u001b[0;34m()\u001b[0m\n\u001b[1;32m      7\u001b[0m \u001b[0;32mprint\u001b[0m \u001b[0mx_iter\u001b[0m\u001b[0;34m.\u001b[0m\u001b[0mnext\u001b[0m\u001b[0;34m(\u001b[0m\u001b[0;34m)\u001b[0m\u001b[0;34m\u001b[0m\u001b[0m\n\u001b[1;32m      8\u001b[0m \u001b[0;32mprint\u001b[0m \u001b[0mx_iter\u001b[0m\u001b[0;34m.\u001b[0m\u001b[0mnext\u001b[0m\u001b[0;34m(\u001b[0m\u001b[0;34m)\u001b[0m\u001b[0;34m\u001b[0m\u001b[0m\n\u001b[0;32m----> 9\u001b[0;31m \u001b[0;32mprint\u001b[0m \u001b[0mx_iter\u001b[0m\u001b[0;34m.\u001b[0m\u001b[0mnext\u001b[0m\u001b[0;34m(\u001b[0m\u001b[0;34m)\u001b[0m\u001b[0;34m\u001b[0m\u001b[0m\n\u001b[0m",
      "\u001b[0;31mStopIteration\u001b[0m: "
     ]
    }
   ],
   "source": [
    "# Iterators can be created from sequences with the built-in function iter()\n",
    "\n",
    "xs = [1,2,3]\n",
    "x_iter = iter(xs)\n",
    "\n",
    "print x_iter.next() # python \"remembers\" where the pointer is\n",
    "print x_iter.next()\n",
    "print x_iter.next()\n",
    "print x_iter.next()"
   ]
  },
  {
   "cell_type": "code",
   "execution_count": 216,
   "metadata": {
    "collapsed": false
   },
   "outputs": [
    {
     "name": "stdout",
     "output_type": "stream",
     "text": [
      "1\n",
      "2\n",
      "3\n"
     ]
    }
   ],
   "source": [
    "# Most commonly, iterators are used (automatically) within a for loop\n",
    "# which terminates when it encouters a StopIteration exception\n",
    "\n",
    "x_iter = iter(xs)\n",
    "for x in x_iter:\n",
    "    print x"
   ]
  },
  {
   "cell_type": "markdown",
   "metadata": {},
   "source": [
    "++++++++++++++++++++++++++++++++++++++++++++++++++++++++++++++++++++++++++++++++++++++++++++++++++++++++++++++++"
   ]
  },
  {
   "cell_type": "markdown",
   "metadata": {},
   "source": [
    "## EXERCISE TIME!"
   ]
  },
  {
   "cell_type": "markdown",
   "metadata": {},
   "source": [
    "Starting with `range(1, 20)`, make a list of the squares of each odd number in the following ways\n",
    "\n",
    "- Using `map` and `filter`. \n",
    "  - This can be done in one line if you use `lambda` (twice!). But you don't have to!\n",
    "  - Remember - to use `map` and/or `filter`, you need to apply a function to each element of a list.\n",
    "- Using a list comprehension\n",
    "- With a `for` loop\n",
    "\n",
    "The answer should be `[1, 9, 25, 49, 81, 121, 169, 225, 289, 361]`"
   ]
  },
  {
   "cell_type": "markdown",
   "metadata": {},
   "source": [
    "++++++++++++++++++++++++++++++++++++++++++++++++++++++++++++++++++++++++++++++++++++++++++++++++++++++++++++++++"
   ]
  },
  {
   "cell_type": "markdown",
   "metadata": {},
   "source": [
    "Review Problems<a id='hmwk'></a>\n",
    "======"
   ]
  },
  {
   "cell_type": "markdown",
   "metadata": {},
   "source": [
    "**Q1.** Rewrite the factorial function so that it does not use recursion. Hint: consider using `reduce` since you're multiplying consecutive numbers.\n",
    "\n",
    "Here is the original code:\n",
    "\n",
    "```\n",
    "def fact(n):\n",
    "    \"\"\"Returns the factorial of n.\"\"\"\n",
    "    # base case\n",
    "    if n==0:\n",
    "        return 1\n",
    "    # recursive case\n",
    "    else:\n",
    "        return n * fact(n-1)\n",
    "\n",
    "for i in range(1,11):\n",
    "    print fact(i),\n",
    "```"
   ]
  },
  {
   "cell_type": "markdown",
   "metadata": {
    "collapsed": true
   },
   "source": [
    "**Q2.** Write a function, `normalize(x)` that takes in a vector `x` and outputs a normalized vector `x_norm` in the following way:\n",
    "\n",
    "$$\n",
    "x^{normed}_{i} = \\frac{x_{i} - \\mu}{\\sigma}\n",
    "$$\n",
    "\n",
    "where,\n",
    "\n",
    "$$\n",
    "\\mu = \\frac{1}{n}\\sum_{i=1}^{n}x_{i}\n",
    "$$\n",
    "\n",
    "$$\n",
    "\\sigma^2 = \\frac{1}{n}\\sum_{i=1}^{n}(x_{i} - \\mu)^2\n",
    "$$\n",
    "\n",
    "Each $X_i$ is a single data point from the input list. For example, an input list `x = [1,2,3,4]` should output `x_norm = [-1.3416407865,-0.4472135955,0.4472135955,1.3416407865]`. <br>\n",
    "\n",
    "*Note that the sum of the new list should be 0 and the standard deviation should be 1.0 - this is why it's called normalizing. It's also called standardizing*"
   ]
  },
  {
   "cell_type": "markdown",
   "metadata": {},
   "source": [
    "**Q3**. Matrix Multiplication and list comprehension\n",
    "<br>\n",
    "\n",
    "Rewrite the matrix multiplication code to use list comprehension instead of nested for loops."
   ]
  },
  {
   "cell_type": "markdown",
   "metadata": {},
   "source": [
    "**Q4**. \n",
    "\n",
    "Write a program to merge two dictionaries together. Assume the dictionaries have the same keys. For example:\n",
    "\n",
    "```\n",
    "a = {\n",
    "    \"key1\" : 1,\n",
    "    \"key3\" : \"snafu\",\n",
    "    \"key2\" : 5,\n",
    "    \"key5\" : 7,\n",
    "    \"key4\" : 0,\n",
    "    }\n",
    "\n",
    "b = {\n",
    "    \"key2\" : 6,\n",
    "    \"key1\" : 8,\n",
    "    \"key4\" : \"bar\",\n",
    "    \"key3\" : 9,\n",
    "    \"key5\" : \"foo\"\n",
    "    }\n",
    "```\n",
    "    \n",
    "becomes\n",
    "\n",
    "```\n",
    "c = {\n",
    "     'key1': (1, 8),\n",
    "     'key2': (5, 6),\n",
    "     'key3': ('snafu', 9),\n",
    "     'key4': (0, 'bar'),\n",
    "     'key5': (7, 'foo')\n",
    "}\n",
    "```\n",
    "\n",
    "Hint: See the `collections` module for a helper function.\n"
   ]
  },
  {
   "cell_type": "markdown",
   "metadata": {
    "collapsed": true
   },
   "source": [
    "**Q5**. Pascal's triangle\n",
    "\n",
    "<ol>\n",
    "<li>Write a function `pascal(c,r)` which takes in a column `c` and row `r` (both start indexing at 0) and returns the value of Pascal's triangle. \n",
    "<li>Print the first 10 iterations of the triangle. Here are the first 6:\n",
    "\n",
    "</ol>\n",
    "\n",
    "```\n",
    "     1\n",
    "    1 1\n",
    "   1 2 1\n",
    "  1 3 3 1\n",
    " 1 4 6 4 1 \n",
    "1 5 10 10 5 1 \n",
    "...\n",
    "```\n",
    "\n",
    "Do this **recursively**."
   ]
  },
  {
   "cell_type": "markdown",
   "metadata": {
    "collapsed": true
   },
   "source": [
    "## Bonus (Hard!) Questions"
   ]
  },
  {
   "cell_type": "markdown",
   "metadata": {},
   "source": [
    "**Q1.** The four adjacent digits in the 1000-digit number that have the greatest product are 9 × 9 × 8 × 9 = 5832.\n",
    "```\n",
    "73167176531330624919225119674426574742355349194934\n",
    "96983520312774506326239578318016984801869478851843\n",
    "85861560789112949495459501737958331952853208805511\n",
    "12540698747158523863050715693290963295227443043557\n",
    "66896648950445244523161731856403098711121722383113\n",
    "62229893423380308135336276614282806444486645238749\n",
    "30358907296290491560440772390713810515859307960866\n",
    "70172427121883998797908792274921901699720888093776\n",
    "65727333001053367881220235421809751254540594752243\n",
    "52584907711670556013604839586446706324415722155397\n",
    "53697817977846174064955149290862569321978468622482\n",
    "83972241375657056057490261407972968652414535100474\n",
    "82166370484403199890008895243450658541227588666881\n",
    "16427171479924442928230863465674813919123162824586\n",
    "17866458359124566529476545682848912883142607690042\n",
    "24219022671055626321111109370544217506941658960408\n",
    "07198403850962455444362981230987879927244284909188\n",
    "84580156166097919133875499200524063689912560717606\n",
    "05886116467109405077541002256983155200055935729725\n",
    "71636269561882670428252483600823257530420752963450\n",
    "```\n",
    "Write a program to find the thirteen adjacent digits in the 1000-digit number that have the greatest product. What is the value of this product? (Euler problem #8)\n",
    "\n",
    "The answer shoud be 23514624000."
   ]
  },
  {
   "cell_type": "markdown",
   "metadata": {},
   "source": [
    "**Q2**.\n",
    "\n",
    "A string of consecutive successes is known as a success *run*. Write a function that returns the counts for runs of length $k$ for each $k$ observed in a dictionary. Hint: check out the `itertools` library.\n",
    "\n",
    "For example: if the trials were [0, 1, 0, 1, 1, 0, 0, 0, 0, 1], the function should return \n",
    "```\n",
    "{1: 2, 2: 1})\n",
    "```"
   ]
  }
 ],
 "metadata": {
  "kernelspec": {
   "display_name": "Python 2",
   "language": "python",
   "name": "python2"
  },
  "language_info": {
   "codemirror_mode": {
    "name": "ipython",
    "version": 2
   },
   "file_extension": ".py",
   "mimetype": "text/x-python",
   "name": "python",
   "nbconvert_exporter": "python",
   "pygments_lexer": "ipython2",
   "version": "2.7.10"
  }
 },
 "nbformat": 4,
 "nbformat_minor": 0
}
