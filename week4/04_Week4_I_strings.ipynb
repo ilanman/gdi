{
 "cells": [
  {
   "cell_type": "markdown",
   "metadata": {},
   "source": [
    "# Week 3 Review"
   ]
  },
  {
   "cell_type": "markdown",
   "metadata": {},
   "source": [
    "### basic numpy manipulation\n",
    "\n",
    "Write two ways to get the diagonal elements of a dot product of two matrices, A and B."
   ]
  },
  {
   "cell_type": "code",
   "execution_count": 118,
   "metadata": {
    "collapsed": false
   },
   "outputs": [
    {
     "name": "stdout",
     "output_type": "stream",
     "text": [
      "[ 150  435  770 1155 1590]\n",
      "[ 150  435  770 1155 1590]\n"
     ]
    }
   ],
   "source": [
    "A = np.arange(25).reshape(5,5)\n",
    "B = np.arange(25).reshape(5,5)\n",
    "\n",
    "print np.diag(np.dot(A, B))\n",
    "print np.sum(A * B.T, axis=1)  # what does this do?"
   ]
  },
  {
   "cell_type": "markdown",
   "metadata": {},
   "source": [
    "Given some matrix (row normalized to 1.0):\n",
    "\n",
    "```python\n",
    " P = [[ 0.30434783  0.34782609  0.34782609]\n",
    "     [ 0.08333333  0.25        0.66666667]\n",
    "     [ 0.75        0.16666667  0.08333333]]\n",
    " ```\n",
    "\n",
    "Find the stationary distribution."
   ]
  },
  {
   "cell_type": "code",
   "execution_count": 123,
   "metadata": {
    "collapsed": false
   },
   "outputs": [],
   "source": [
    "P = np.array([[ 0.30434783, 0.34782609, 0.34782609],[0.08333333,  0.25, 0.66666667], [ 0.75, 0.16666667,  0.08333333]])"
   ]
  },
  {
   "cell_type": "code",
   "execution_count": 132,
   "metadata": {
    "collapsed": false
   },
   "outputs": [],
   "source": [
    "def raise_nth_power(n, transition):\n",
    "    ''' Solve for stationary distribution by raising to the nth power '''\n",
    "    \n",
    "    temp = transition\n",
    "    for i in np.arange(n-1):    \n",
    "        temp = transition.dot(temp)\n",
    "    \n",
    "    return temp"
   ]
  },
  {
   "cell_type": "code",
   "execution_count": 133,
   "metadata": {
    "collapsed": false
   },
   "outputs": [
    {
     "name": "stdout",
     "output_type": "stream",
     "text": [
      "[[ 0.39499623  0.26277315  0.34223064]\n",
      " [ 0.39609814  0.25751295  0.34638892]\n",
      " [ 0.40479273  0.26041049  0.3347968 ]]\n"
     ]
    }
   ],
   "source": [
    "n = 4\n",
    "print raise_nth_power(n,P)"
   ]
  },
  {
   "cell_type": "code",
   "execution_count": 115,
   "metadata": {
    "collapsed": true
   },
   "outputs": [],
   "source": [
    "# how to run a linear regression using scikit learn. See week 3 notebook for example."
   ]
  },
  {
   "cell_type": "markdown",
   "metadata": {},
   "source": [
    "Week 4 - Strings\n",
    "====\n",
    "\n",
    "<ul>\n",
    "<li>Text analysis is a *huge* part of data analysis - its not just numbers\n",
    "<li>Need to standardize variables, resolve ambiguoous labels\n",
    "<li>Converting text to numeric representations (word bagging, n-grams) is common\n",
    "</ul>\n",
    "\n",
    "## Today\n",
    "\n",
    "1. [Tweet example](#tweet)\n",
    "2. [string modules](#modules)\n",
    "<ol>\n",
    "<li>os\n",
    "<li>collections\n",
    "</ol>\n",
    "3. [Regular Expressions](#regex)\n",
    "4. [Review Problems](#hmwk)\n",
    "\n",
    "### And if there is time - either more Regression or intro Pandas"
   ]
  },
  {
   "cell_type": "markdown",
   "metadata": {},
   "source": [
    "Sentiment analysis on Obama's tweets<a id=\"tweet\"></a>\n",
    "====\n",
    "\n",
    "<ul>\n",
    "<li>One of Python’s strengths is the ease of working with text\n",
    "</ul>"
   ]
  },
  {
   "cell_type": "code",
   "execution_count": 1,
   "metadata": {
    "collapsed": false
   },
   "outputs": [],
   "source": [
    "import urllib     # popular module for fetching data from web"
   ]
  },
  {
   "cell_type": "code",
   "execution_count": null,
   "metadata": {
    "collapsed": false
   },
   "outputs": [],
   "source": [
    "files = ['positive.txt','obama_tweets.txt']     # create list of filenames\n",
    "path = 'http://www.unc.edu/~ncaren/haphazard/'   # this URL has good text documents to practice on\n",
    "\n",
    "for file_name in files:\n",
    "     urllib.urlretrieve(path + file_name,file_name)    # pull down text data from URL"
   ]
  },
  {
   "cell_type": "code",
   "execution_count": 2,
   "metadata": {
    "collapsed": false,
    "scrolled": true
   },
   "outputs": [
    {
     "data": {
      "text/plain": [
       "'Obama has called the GOP budget social Darwinism. Nice try, but they believe in social creationism.\\nIn his teen years, Obama has been known to use marijuana and cocaine.\\nIPA Congratulates President Barack Obama for Leadership Regarding JOBS Act: WASHINGTON, Apr 05, 2012 (BUSINESS W... http://t.co/8le3DC8E\\nRT @Professor_Why: #WhatsRomneyHiding - his connection to supporters of Critical Race Theory.... Oh wait, that was Obama, not Romney...\\nRT @wardollarshome: Obama has approved more targeted assassinations than any modern US prez; READ & RT: http://t.co/bfC4gbBW\\nVideo shows federal officials joking about cost of lavish conference http://t.co/2i4SmoPM #obama #crime #p2 #news #tcot #teaparty\\none Chicago kid who says \"Obama is my man\" tells Jesse Watters that the gun violence in Chicago is like \"World War 17\"\\nRT @ohgirlphrase: American kid \"You\\'re from the UK? Ohhh cool, So do you have tea with the Queen?\". British kid: \"Do you like, go to Mcdonalds with Obama?\\nA valid explanation for why '"
      ]
     },
     "execution_count": 2,
     "metadata": {},
     "output_type": "execute_result"
    }
   ],
   "source": [
    "tweet_file = open(\"obama_tweets.txt\").read()\n",
    "tweet_file[:1000]"
   ]
  },
  {
   "cell_type": "markdown",
   "metadata": {},
   "source": [
    "## How can we get a handle on all this text?"
   ]
  },
  {
   "cell_type": "markdown",
   "metadata": {},
   "source": [
    "### String methods\n",
    "\n",
    "<ul>\n",
    "<li>`Split` a string according to some character. This creates a list of strings out of the original string.\n",
    "<li>`Join` a list of strings together according to some delimiter     \n",
    "<li>`Strip` leading and trailing blanks around a word  \n",
    "<li>`count` the number of exact matches\n",
    "<li>`find` the index of first occurrence. `-1` if doesn't exist\n",
    "<li>`replace` replaces every occurrence of one pattern with another\n",
    "</ul>"
   ]
  },
  {
   "cell_type": "code",
   "execution_count": 3,
   "metadata": {
    "collapsed": false
   },
   "outputs": [
    {
     "data": {
      "text/plain": [
       "['Obama has called the GOP budget social Darwinism. Nice try, but they believe in social creationism.',\n",
       " 'In his teen years, Obama has been known to use marijuana and cocaine.',\n",
       " 'IPA Congratulates President Barack Obama for Leadership Regarding JOBS Act: WASHINGTON, Apr 05, 2012 (BUSINESS W... http://t.co/8le3DC8E',\n",
       " 'RT @Professor_Why: #WhatsRomneyHiding - his connection to supporters of Critical Race Theory.... Oh wait, that was Obama, not Romney...',\n",
       " 'RT @wardollarshome: Obama has approved more targeted assassinations than any modern US prez; READ & RT: http://t.co/bfC4gbBW',\n",
       " 'Video shows federal officials joking about cost of lavish conference http://t.co/2i4SmoPM #obama #crime #p2 #news #tcot #teaparty',\n",
       " 'one Chicago kid who says \"Obama is my man\" tells Jesse Watters that the gun violence in Chicago is like \"World War 17\"',\n",
       " 'RT @ohgirlphrase: American kid \"You\\'re from the UK? Ohhh cool, So do you have tea with the Queen?\". British kid: \"Do you like, go to Mcdonalds with Obama?',\n",
       " \"A valid explanation for why Obama won't let women on the golf course.   #WhatsRomneyHiding\",\n",
       " 'President Obama &lt; Lindsay Lohan RUMORS beginning cross shape lights on ST &lt; 1987 Analyst64 DC bicycle courier &lt; Video changes to scramble.']"
      ]
     },
     "execution_count": 3,
     "metadata": {},
     "output_type": "execute_result"
    }
   ],
   "source": [
    "tweets = tweet_file.split('\\n')   # very commonly used\n",
    "tweets[:10]"
   ]
  },
  {
   "cell_type": "code",
   "execution_count": 4,
   "metadata": {
    "collapsed": false
   },
   "outputs": [
    {
     "name": "stdout",
     "output_type": "stream",
     "text": [
      "1365\n"
     ]
    },
    {
     "data": {
      "text/plain": [
       "['Obama has called the GOP budget social Darwinism. Nice try, but they believe in social creationism.',\n",
       " 'In his teen years, Obama has been known to use marijuana and cocaine.',\n",
       " 'IPA Congratulates President Barack Obama for Leadership Regarding JOBS Act: WASHINGTON, Apr 05, 2012 (BUSINESS W... http://t.co/8le3DC8E',\n",
       " 'RT @Professor_Why: #WhatsRomneyHiding - his connection to supporters of Critical Race Theory.... Oh wait, that was Obama, not Romney...',\n",
       " 'RT @wardollarshome: Obama has approved more targeted assassinations than any modern US prez; READ & RT: http://t.co/bfC4gbBW']"
      ]
     },
     "execution_count": 4,
     "metadata": {},
     "output_type": "execute_result"
    }
   ],
   "source": [
    "print len(tweets)\n",
    "tweets[:5]"
   ]
  },
  {
   "cell_type": "code",
   "execution_count": 5,
   "metadata": {
    "collapsed": false
   },
   "outputs": [
    {
     "data": {
      "text/plain": [
       "0"
      ]
     },
     "execution_count": 5,
     "metadata": {},
     "output_type": "execute_result"
    }
   ],
   "source": [
    "# Average number of hashtags total?\n",
    "# I hope you remember your list comprehensions :)\n",
    "\n",
    "sum([tweet.count('#') for tweet in tweets])/len(tweets)      # exact matching pattern"
   ]
  },
  {
   "cell_type": "code",
   "execution_count": 6,
   "metadata": {
    "collapsed": false
   },
   "outputs": [
    {
     "name": "stdout",
     "output_type": "stream",
     "text": [
      "White House in damage control over Obama Supreme Court remarks: The White House was forced on the defensive on W... http://t.co/2Yy8Srct\n",
      "16\n",
      "-1\n"
     ]
    }
   ],
   "source": [
    "print tweets[300]\n",
    "print tweets[300].find('a')  # only first occurrence\n",
    "print tweets[300].find('!')  # -1 if doesn't occur"
   ]
  },
  {
   "cell_type": "code",
   "execution_count": 7,
   "metadata": {
    "collapsed": false
   },
   "outputs": [
    {
     "data": {
      "text/plain": [
       "896"
      ]
     },
     "execution_count": 7,
     "metadata": {},
     "output_type": "execute_result"
    }
   ],
   "source": [
    "# Number of tweets with no #?\n",
    "\n",
    "sum([tweet.find('#') == -1  for tweet in tweets])       "
   ]
  },
  {
   "cell_type": "code",
   "execution_count": 8,
   "metadata": {
    "collapsed": false
   },
   "outputs": [
    {
     "data": {
      "text/plain": [
       "'White House in damage control over Trump Supreme Court remarks: The White House was forced on the defensive on W... http://t.co/2Yy8Srct'"
      ]
     },
     "execution_count": 8,
     "metadata": {},
     "output_type": "execute_result"
    }
   ],
   "source": [
    "tweets[300].replace('Obama', \"Trump\")"
   ]
  },
  {
   "cell_type": "markdown",
   "metadata": {},
   "source": [
    "### Basic string manipulation - example\n",
    "\n",
    "Pull out the `methods` from the markdown text below:"
   ]
  },
  {
   "cell_type": "markdown",
   "metadata": {},
   "source": [
    "objective = \"Basic string manipulation\"\n",
    "\n",
    "<ul>\n",
    "  <li>`Split` a string according to some character. This creates a list of strings out of the original string.\n",
    "  <li>`Join` a list of strings together according to some delimiter     \n",
    "  <li>`Strip` leading and trailing blanks around a word  \n",
    "  <li>`count` the number of exact matches\n",
    "  <li>`find` the index of first occurrence. `-1` if doesn't exist\n",
    "  <li>`replace` replaces every occurrence of one pattern with another\n",
    "</ul>"
   ]
  },
  {
   "cell_type": "code",
   "execution_count": 9,
   "metadata": {
    "collapsed": false
   },
   "outputs": [
    {
     "name": "stdout",
     "output_type": "stream",
     "text": [
      "\n",
      "<ul>\n",
      "  <li>`Split` a string according to some character. This creates a list of strings out of the original string.\n",
      "  <li>`Join` a list of strings together according to some delimiter     \n",
      "  <li>`Strip` leading and trailing blanks around a word  \n",
      "  <li>`count` the number of exact matches\n",
      "  <li>`find` the index of first occurrence. `-1` if doesn't exist\n",
      "  <li>`replace` replaces every occurrence of one pattern with another\n",
      "</ul>\n",
      "\n"
     ]
    }
   ],
   "source": [
    "objective = \"Basic string manipulation\"\n",
    "\n",
    "s = \"\"\"\n",
    "<ul>\n",
    "  <li>`Split` a string according to some character. This creates a list of strings out of the original string.\n",
    "  <li>`Join` a list of strings together according to some delimiter     \n",
    "  <li>`Strip` leading and trailing blanks around a word  \n",
    "  <li>`count` the number of exact matches\n",
    "  <li>`find` the index of first occurrence. `-1` if doesn't exist\n",
    "  <li>`replace` replaces every occurrence of one pattern with another\n",
    "</ul>\n",
    "\"\"\"\n",
    "print s     # where's the newline characters?"
   ]
  },
  {
   "cell_type": "code",
   "execution_count": 10,
   "metadata": {
    "collapsed": false
   },
   "outputs": [
    {
     "data": {
      "text/plain": [
       "['',\n",
       " '<ul>',\n",
       " '  <li>`Split` a string according to some character. This creates a list of strings out of the original string.',\n",
       " '  <li>`Join` a list of strings together according to some delimiter     ',\n",
       " '  <li>`Strip` leading and trailing blanks around a word  ',\n",
       " '  <li>`count` the number of exact matches',\n",
       " \"  <li>`find` the index of first occurrence. `-1` if doesn't exist\",\n",
       " '  <li>`replace` replaces every occurrence of one pattern with another',\n",
       " '</ul>',\n",
       " '']"
      ]
     },
     "execution_count": 10,
     "metadata": {},
     "output_type": "execute_result"
    }
   ],
   "source": [
    "split_list = [i for i in s.split('\\n')]\n",
    "split_list"
   ]
  },
  {
   "cell_type": "code",
   "execution_count": 11,
   "metadata": {
    "collapsed": false
   },
   "outputs": [
    {
     "data": {
      "text/plain": [
       "['`Split` a string according to some character. This creates a list of strings out of the original string.',\n",
       " '`Join` a list of strings together according to some delimiter',\n",
       " '`Strip` leading and trailing blanks around a word',\n",
       " '`count` the number of exact matches',\n",
       " \"`find` the index of first occurrence. `-1` if doesn't exist\",\n",
       " '`replace` replaces every occurrence of one pattern with another']"
      ]
     },
     "execution_count": 11,
     "metadata": {},
     "output_type": "execute_result"
    }
   ],
   "source": [
    "strip_list = [i.strip('   <li>') for i in split_list[2:-2]] # remove trailing space and markdown characters\n",
    "strip_list\n",
    "\n",
    "# should remove first two and last two"
   ]
  },
  {
   "cell_type": "code",
   "execution_count": 12,
   "metadata": {
    "collapsed": false
   },
   "outputs": [
    {
     "name": "stdout",
     "output_type": "stream",
     "text": [
      "[['`Split`', 'a', 'string', 'according', 'to', 'some', 'character.', 'This', 'creates', 'a', 'list', 'of', 'strings', 'out', 'of', 'the', 'original', 'string.'], ['`Join`', 'a', 'list', 'of', 'strings', 'together', 'according', 'to', 'some', 'delimiter'], ['`Strip`', 'leading', 'and', 'trailing', 'blanks', 'around', 'a', 'word'], ['`count`', 'the', 'number', 'of', 'exact', 'matches'], ['`find`', 'the', 'index', 'of', 'first', 'occurrence.', '`-1`', 'if', \"doesn't\", 'exist'], ['`replace`', 'replaces', 'every', 'occurrence', 'of', 'one', 'pattern', 'with', 'another']]\n"
     ]
    }
   ],
   "source": [
    "tokenize = [i.split(' ') for i in strip_list]\n",
    "print tokenize"
   ]
  },
  {
   "cell_type": "code",
   "execution_count": 13,
   "metadata": {
    "collapsed": false
   },
   "outputs": [
    {
     "data": {
      "text/plain": [
       "['Split', 'Join', 'Strip', 'count', 'find', 'replace']"
      ]
     },
     "execution_count": 13,
     "metadata": {},
     "output_type": "execute_result"
    }
   ],
   "source": [
    "final_words = [i[0].strip('`') for i in tokenize]\n",
    "final_words"
   ]
  },
  {
   "cell_type": "code",
   "execution_count": 14,
   "metadata": {
    "collapsed": false
   },
   "outputs": [
    {
     "data": {
      "text/plain": [
       "'Split + Join + Strip + count + find + replace = Basic string manipulation'"
      ]
     },
     "execution_count": 14,
     "metadata": {},
     "output_type": "execute_result"
    }
   ],
   "source": [
    "\" + \".join(final_words) + \" = {}\".format(objective)"
   ]
  },
  {
   "cell_type": "markdown",
   "metadata": {},
   "source": [
    "+++++++++++++++++++++++++++++++++++++++++++++++++++++++++++++++++++++++++++++++++++++++++++++++++++++++++++++++++++++++"
   ]
  },
  {
   "cell_type": "markdown",
   "metadata": {},
   "source": [
    "## EXERCISE TIME!\n",
    "\n",
    "Format your `PATH` variable such that it looks like this:\n",
    "\n",
    "```\n",
    "=> bin=> sh\n",
    "=> Users=> ilanman=> sparkapphelper=> scala-2.11.7=> bin=> bin\n",
    "=> Users=> ilanman=> sparkapphelper=> spark=> spark-1.6.0-bin-hadoop2.6=> bin\n",
    "=> Users=> ilanman=> sparkapphelper=> sbt=> sbt-0.13.11=> bin\n",
    "=> Library=> Java=> JavaVirtualMachines=> jdk1.8.0_60.jdk=> Contents=> Home=> bin\n",
    "=> usr=> local=> bin\n",
    "=> usr=> bin\n",
    "=> bin\n",
    "=> usr=> sbin\n",
    "=> sbin\n",
    "=> opt=> X11=> bin\n",
    "=> Library=> TeX=> texbin\n",
    "No such file or directory\n",
    "```\n",
    "\n",
    "Note that Jupyter can access your terminal by entering `!` before regular terminal commands, i.e. `!mkdir newfolder`<br>\n",
    "\n",
    "Here is my current `PATH`: `!echo $PATH`\n",
    "\n",
    "`/Users/ilanman/spark/bin:/Users/ilanman/sbt/bin:/Library/Java/JavaVirtualMachines/jdk1.8.0_60.jdk/Contents/Home/bin`<br>\n",
    "`/usr/local/bin:/usr/bin:/bin:/usr/sbin:/sbin:/opt/X11/bin:/Library/TeX/texbin`"
   ]
  },
  {
   "cell_type": "markdown",
   "metadata": {},
   "source": [
    "+++++++++++++++++++++++++++++++++++++++++++++++++++++++++++++++++++++++++++++++++++++++++++++++++++++++++++++++++++++++"
   ]
  },
  {
   "cell_type": "markdown",
   "metadata": {},
   "source": [
    "## Assess positive or negative sentiment"
   ]
  },
  {
   "cell_type": "code",
   "execution_count": 15,
   "metadata": {
    "collapsed": false
   },
   "outputs": [
    {
     "data": {
      "text/plain": [
       "'abidance\\nabidance\\nabilities\\nability\\nable\\nabove\\nabove-average\\nabundant\\nabundance\\nacceptance\\nacceptable\\naccessible\\nacclaim\\nacclaimed\\naccolade\\naccolades\\naccommodative\\naccomplishment\\naccomplishments\\naccordance\\naccordantly\\naccurate\\naccurately\\nachievable\\nachievement\\nachievements\\nacknowledgement\\nactive\\nacumen\\nadaptable\\nadaptability\\nadaptive\\nadept\\nadeptly\\nadequate\\nadherence\\nadherent\\nadhesion\\nadmirable\\nadmirer\\nadmirable\\nadmirably\\nadmiration\\nadmiring\\nadmiringly\\nadmission\\nadmission\\nadorable\\nadored\\nadorer\\nadoring\\nadoringly\\nadroit\\nadroitly\\nadulatory\\nadvanced\\nadvantage\\nadvantage\\nadvantageous\\nadvantages\\nadvantages\\nadventure\\nadventure\\nadventuresome\\nadventurism\\nadventurous\\nadvice\\nadvice\\nadvisable\\nadvocacy\\naffable\\naffability\\naffably\\naffection\\naffection\\naffectionate\\naffinity\\naffirmation\\naffirmation\\naffirmative\\naffluent\\naffluence\\naffordable\\nafloat\\nagile\\nagilely\\nagility\\nagreeable\\nagreement\\nagreement\\nallowable\\nallure\\nalluring\\nalluringly\\nalmighty\\naltruist\\naltruistic\\naltruistically\\namazed\\namazement\\namazing\\nam'"
      ]
     },
     "execution_count": 15,
     "metadata": {},
     "output_type": "execute_result"
    }
   ],
   "source": [
    "positive_file = open(\"positive.txt\").read()\n",
    "positive_file[:1000]"
   ]
  },
  {
   "cell_type": "code",
   "execution_count": 16,
   "metadata": {
    "collapsed": false
   },
   "outputs": [
    {
     "data": {
      "text/plain": [
       "['abidance',\n",
       " 'abidance',\n",
       " 'abilities',\n",
       " 'ability',\n",
       " 'able',\n",
       " 'above',\n",
       " 'above-average',\n",
       " 'abundant',\n",
       " 'abundance',\n",
       " 'acceptance']"
      ]
     },
     "execution_count": 16,
     "metadata": {},
     "output_type": "execute_result"
    }
   ],
   "source": [
    "positive_file.split('\\n')[:10]"
   ]
  },
  {
   "cell_type": "markdown",
   "metadata": {},
   "source": [
    "## What's the positive sentiment in the tweets?\n",
    "\n",
    "<ul>\n",
    "<li>Iterate through tweets and count occurrence of positive words. \n",
    "<li>Need to do a bit a cleaning first.\n",
    "</ul>"
   ]
  },
  {
   "cell_type": "code",
   "execution_count": 17,
   "metadata": {
    "collapsed": false
   },
   "outputs": [
    {
     "data": {
      "text/plain": [
       "'Obama has called the GOP budget social Darwinism. Nice try, but they believe in social creationism.'"
      ]
     },
     "execution_count": 17,
     "metadata": {},
     "output_type": "execute_result"
    }
   ],
   "source": [
    "tweets[0]"
   ]
  },
  {
   "cell_type": "code",
   "execution_count": 18,
   "metadata": {
    "collapsed": false
   },
   "outputs": [
    {
     "name": "stdout",
     "output_type": "stream",
     "text": [
      "!\"#$%&'()*+,-./:;<=>?@[\\]^_`{|}~\n"
     ]
    }
   ],
   "source": [
    "# The punctuation function is useful for getting rid of unwanted characters in a string\n",
    "from string import punctuation\n",
    "print punctuation"
   ]
  },
  {
   "cell_type": "markdown",
   "metadata": {},
   "source": [
    "## os module\n",
    "\n",
    "<ul>\n",
    "<li>`os` module provides a way of using operating system dependent functionality. You can find important information about your location or about the process.\n",
    "<li>We'll look at this in more detail next session\n",
    "</ul>"
   ]
  },
  {
   "cell_type": "code",
   "execution_count": 19,
   "metadata": {
    "collapsed": false
   },
   "outputs": [
    {
     "name": "stdout",
     "output_type": "stream",
     "text": [
      "/Users/ilanman/gdi/week4\n"
     ]
    }
   ],
   "source": [
    "import os\n",
    "\n",
    "print os.getcwd()"
   ]
  },
  {
   "cell_type": "code",
   "execution_count": 20,
   "metadata": {
    "collapsed": false
   },
   "outputs": [
    {
     "name": "stdout",
     "output_type": "stream",
     "text": [
      "  % Total    % Received % Xferd  Average Speed   Time    Time     Time  Current\n",
      "                                 Dload  Upload   Total   Spent    Left  Speed\n",
      "100  163k  100  163k    0     0   247k      0 --:--:-- --:--:-- --:--:--  247k\n",
      "<html>\n",
      "<head><title>301 Moved Permanently</title></head>\n",
      "<body bgcolor=\"white\">\n",
      "<center><h1>301 Moved Permanently</h1></center>\n",
      "<hr><center>nginx</center>\n",
      "</body>\n",
      "</html>\n"
     ]
    }
   ],
   "source": [
    "# Alice in Wonderland from Project Gutenberg\n",
    "\n",
    "if not os.path.exists('alice.txt'):\n",
    "    ! curl http://www.gutenberg.org/cache/epub/11/pg11.txt -O alice.txt"
   ]
  },
  {
   "cell_type": "code",
   "execution_count": 21,
   "metadata": {
    "collapsed": false
   },
   "outputs": [
    {
     "name": "stdout",
     "output_type": "stream",
     "text": [
      "﻿Project Gutenberg's Alice's Adventures in Wonderland, by Lewis Carroll\r",
      "\r\n",
      "\r",
      "\r\n",
      "This eBook is for the use of anyone anywhere at no cost and with\r",
      "\r\n",
      "almost no restrictions whatsoever.  You may copy it, give it away or\r",
      "\r\n",
      "re-use it under the terms of the Project Gutenberg License included\r",
      "\r\n",
      "with this eBook or online at www.gutenberg.org\r",
      "\r\n",
      "\r",
      "\r\n",
      "\r",
      "\r\n",
      "Title: Alice's Adventures in Wonderland\r",
      "\r\n",
      "\r",
      "\r\n",
      "Author: Lewis Carroll\r",
      "\r\n",
      "\r",
      "\r\n",
      "Posting Date: June 25, 2008 [EBook #11]\r",
      "\r\n",
      "Release Date: March, 1994\r",
      "\r\n",
      "[Last updated: December 20, 2011]\r",
      "\r\n",
      "\r",
      "\r\n",
      "Language: English\r",
      "\r\n",
      "\r",
      "\r\n",
      "\r",
      "\r\n",
      "*** START OF THIS PROJECT GUTENBERG EBOOK ALICE'S ADVENTURES IN WONDERLAND ***\r",
      "\r\n",
      "\r",
      "\r\n",
      "\r",
      "\r\n",
      "\r",
      "\r\n",
      "\r",
      "\r\n",
      "\r",
      "\r\n",
      "\r",
      "\r\n",
      "\r",
      "\r\n",
      "\r",
      "\r\n",
      "\r",
      "\r\n",
      "\r",
      "\r\n",
      "ALICE'S ADVENTURES IN WONDERLAND\r",
      "\r\n",
      "\r",
      "\r\n",
      "Lewis Carroll\r",
      "\r\n",
      "\r",
      "\r\n",
      "THE MILLENNIUM FULCRUM EDITION 3.0\r",
      "\r\n",
      "\r",
      "\r\n",
      "\r",
      "\r\n",
      "\r",
      "\r\n",
      "\r",
      "\r\n",
      "CHAPTER I. Down the Rabbit-Hole\r",
      "\r\n",
      "\r",
      "\r\n",
      "Alice was beginning to get very tired of sitting by her sister on the\r",
      "\r\n",
      "bank, and of having nothing to do: once or twice she had peeped into the\r",
      "\r\n",
      "book her sister was reading, but it had no pictures or conversations in\r",
      "\r\n",
      "it, 'and what is the use of a book,' thought Alice 'without pictures or\r",
      "\r\n",
      "conversations?'\r",
      "\r\n",
      "\r",
      "\r\n",
      "So she was considering in her own mind (as well as she could, for the\r",
      "\r\n",
      "hot day made her feel very sleepy and stupid), whether the pleasure\r",
      "\r\n",
      "of making a daisy-chain would be worth the trouble of getting up and\r",
      "\r\n"
     ]
    }
   ],
   "source": [
    "!head -50 pg11.txt"
   ]
  },
  {
   "cell_type": "markdown",
   "metadata": {},
   "source": [
    "## collections modules\n",
    "\n",
    "<ul>\n",
    "<li>Very useful module for text manipulation, analysis. Lots of iterating over dictionary-like objects.\n",
    "<li>`OrderedDict`\n",
    "<li>`defaultdict`\n",
    "<li>`namedtuple`\n",
    "<li>`Counter`\n",
    "</ul>"
   ]
  },
  {
   "cell_type": "code",
   "execution_count": 22,
   "metadata": {
    "collapsed": false
   },
   "outputs": [],
   "source": [
    "alice = open('pg11.txt').read()  # read in file\n",
    "\n",
    "# split words on spaces, remove punctuation and make lower case\n",
    "words = alice.translate(None, punctuation).lower().split()    # common to chain together string methods"
   ]
  },
  {
   "cell_type": "code",
   "execution_count": 23,
   "metadata": {
    "collapsed": false
   },
   "outputs": [
    {
     "name": "stdout",
     "output_type": "stream",
     "text": [
      "29386\n",
      "3251\n"
     ]
    }
   ],
   "source": [
    "print len(words)\n",
    "print len(set(words))   # set - unique elements"
   ]
  },
  {
   "cell_type": "markdown",
   "metadata": {},
   "source": [
    "## Digression on Sets\n",
    "\n",
    "<ul>\n",
    "<li>Another python data type\n",
    "<li>Can use `{some_sequence}` or `set(some_list)` to create it\n",
    "<li>Like lists or tuples, but returns **unique** elements. This can be super handy.\n",
    "<li>Has a specific way of thinking about it\n",
    "<li>`add`, `intersection`, `union`\n",
    "</ul>"
   ]
  },
  {
   "cell_type": "code",
   "execution_count": 24,
   "metadata": {
    "collapsed": false
   },
   "outputs": [
    {
     "data": {
      "text/plain": [
       "{1, 2, 3, 4, 5, 6, 7}"
      ]
     },
     "execution_count": 24,
     "metadata": {},
     "output_type": "execute_result"
    }
   ],
   "source": [
    "x = [1,2,3,2,1,2,3,4,5,6,7,6,5,4,3,3]  # some list\n",
    "set(x)"
   ]
  },
  {
   "cell_type": "code",
   "execution_count": 25,
   "metadata": {
    "collapsed": false
   },
   "outputs": [
    {
     "data": {
      "text/plain": [
       "{1, 2, 3, 4, 5, 6, 7}"
      ]
     },
     "execution_count": 25,
     "metadata": {},
     "output_type": "execute_result"
    }
   ],
   "source": [
    "y = {1,2,3,2,1,2,3,4,5,6,7,6,5,4,3,3}\n",
    "y"
   ]
  },
  {
   "cell_type": "code",
   "execution_count": 26,
   "metadata": {
    "collapsed": false
   },
   "outputs": [
    {
     "data": {
      "text/plain": [
       "{'this is a sentence'}"
      ]
     },
     "execution_count": 26,
     "metadata": {},
     "output_type": "execute_result"
    }
   ],
   "source": [
    "set(['this is a sentence'])"
   ]
  },
  {
   "cell_type": "code",
   "execution_count": 27,
   "metadata": {
    "collapsed": false
   },
   "outputs": [
    {
     "data": {
      "text/plain": [
       "{' ', 'a', 'c', 'e', 'h', 'i', 'n', 's', 't'}"
      ]
     },
     "execution_count": 27,
     "metadata": {},
     "output_type": "execute_result"
    }
   ],
   "source": [
    "set('this is a sentence')"
   ]
  },
  {
   "cell_type": "code",
   "execution_count": 28,
   "metadata": {
    "collapsed": false
   },
   "outputs": [
    {
     "data": {
      "text/plain": [
       "{3, 4, 5}"
      ]
     },
     "execution_count": 28,
     "metadata": {},
     "output_type": "execute_result"
    }
   ],
   "source": [
    "a = [1,2,3,4,5]\n",
    "b = [3,4,5,6,7]\n",
    "set(a).intersection(set(b))"
   ]
  },
  {
   "cell_type": "code",
   "execution_count": 29,
   "metadata": {
    "collapsed": false
   },
   "outputs": [
    {
     "data": {
      "text/plain": [
       "{1, 2, 3, 4, 5, 6, 7}"
      ]
     },
     "execution_count": 29,
     "metadata": {},
     "output_type": "execute_result"
    }
   ],
   "source": [
    "set(a).union(set(b))"
   ]
  },
  {
   "cell_type": "code",
   "execution_count": 30,
   "metadata": {
    "collapsed": false
   },
   "outputs": [
    {
     "data": {
      "text/plain": [
       "{1, 2}"
      ]
     },
     "execution_count": 30,
     "metadata": {},
     "output_type": "execute_result"
    }
   ],
   "source": [
    "set(a).difference(set(b))   # a - b"
   ]
  },
  {
   "cell_type": "markdown",
   "metadata": {},
   "source": [
    "### How to find 10 most common words?"
   ]
  },
  {
   "cell_type": "code",
   "execution_count": 31,
   "metadata": {
    "collapsed": false
   },
   "outputs": [],
   "source": [
    "most_common = {}\n",
    "\n",
    "# use set to find unique words, store in dictionary\n",
    "for word in set(words):\n",
    "    most_common.update({word : words.count(word)})     # WHAT DOES UPDATE DO?"
   ]
  },
  {
   "cell_type": "code",
   "execution_count": 32,
   "metadata": {
    "collapsed": false
   },
   "outputs": [
    {
     "data": {
      "text/plain": [
       "{'secondly': 2,\n",
       " 'pardon': 6,\n",
       " 'limited': 5,\n",
       " 'copy': 12,\n",
       " 'saves': 1,\n",
       " 'bear': 1,\n",
       " 'knelt': 1,\n",
       " 'four': 6,\n",
       " 'sleep': 6,\n",
       " 'hanging': 3,\n",
       " 'ringlets': 2,\n",
       " 'oldest': 1,\n",
       " 'hate': 1,\n",
       " 'assembled': 2,\n",
       " 'consider': 4,\n",
       " 'whose': 2,\n",
       " 'lory': 7,\n",
       " 'calculate': 1,\n",
       " 'paris': 2,\n",
       " 'blacking': 1,\n",
       " 'presents': 2,\n",
       " 'yetits': 1,\n",
       " 'certain': 5,\n",
       " 'whatsoever': 2,\n",
       " 'under': 22,\n",
       " 'inwards': 1,\n",
       " 'sorry': 1,\n",
       " 'glovesthat': 1,\n",
       " 'worth': 4,\n",
       " 'updated': 2,\n",
       " 'void': 1,\n",
       " 'rise': 1,\n",
       " 'every': 12,\n",
       " 'govern': 1,\n",
       " 'month': 2,\n",
       " 'fireplace': 1,\n",
       " 'school': 5,\n",
       " 'prize': 1,\n",
       " 'wooden': 1,\n",
       " 'pinch': 2,\n",
       " 'persisted': 2,\n",
       " 'drawlingthe': 1,\n",
       " 'wept': 1,\n",
       " 'favoured': 1,\n",
       " 'leaders': 1,\n",
       " 'farmyardwhile': 1,\n",
       " 'tired': 7,\n",
       " 'feathers': 1,\n",
       " 'direct': 1,\n",
       " 'elegant': 1,\n",
       " 'likely': 5,\n",
       " 'louder': 1,\n",
       " 'machines': 1,\n",
       " 'shining': 1,\n",
       " 'even': 21,\n",
       " 'meekly': 2,\n",
       " 'errors': 1,\n",
       " 'hide': 1,\n",
       " 'forgetting': 3,\n",
       " 'solemn': 3,\n",
       " 'thunder': 1,\n",
       " 'near': 15,\n",
       " 'poison': 3,\n",
       " 'above': 3,\n",
       " 'conduct': 1,\n",
       " 'new': 8,\n",
       " 'babythe': 1,\n",
       " 'increasing': 1,\n",
       " 'asis': 1,\n",
       " 'told': 6,\n",
       " 'gained': 1,\n",
       " 'never': 45,\n",
       " 'wrapping': 1,\n",
       " 'here': 48,\n",
       " 'hundreds': 1,\n",
       " 'met': 4,\n",
       " 'protection': 1,\n",
       " 'hers': 3,\n",
       " 'cardboard': 1,\n",
       " 'shriek': 5,\n",
       " 'dry': 8,\n",
       " 'voice': 47,\n",
       " 'daughter': 1,\n",
       " 'voicethe': 1,\n",
       " 'employees': 2,\n",
       " 'changed': 8,\n",
       " 'reports': 1,\n",
       " 'swam': 5,\n",
       " 'barrowful': 2,\n",
       " 'waterwell': 1,\n",
       " 'smoke': 1,\n",
       " 'theres': 24,\n",
       " 'settled': 3,\n",
       " 'ventured': 4,\n",
       " 'golden': 7,\n",
       " 'sourand': 1,\n",
       " 'grumbled': 1,\n",
       " 'explained': 1,\n",
       " 'angrily': 9,\n",
       " 'feelings': 2,\n",
       " 'brought': 3,\n",
       " 'patience': 1,\n",
       " 'moral': 8,\n",
       " 'guests': 3,\n",
       " 'drowned': 1,\n",
       " 'punching': 1,\n",
       " 'spoke': 16,\n",
       " 'would': 83,\n",
       " 'arms': 6,\n",
       " 'insult': 1,\n",
       " 'distributing': 7,\n",
       " 'dormouses': 1,\n",
       " 'overhead': 1,\n",
       " 'therefore': 1,\n",
       " 'leant': 1,\n",
       " 'survive': 1,\n",
       " 'fainting': 1,\n",
       " 'tell': 31,\n",
       " 'breathe': 3,\n",
       " 'paperwork': 1,\n",
       " 'posting': 1,\n",
       " 'clearly': 2,\n",
       " 'hurt': 3,\n",
       " 'grief': 1,\n",
       " 'glass': 9,\n",
       " 'teaching': 1,\n",
       " 'adjourn': 1,\n",
       " '90': 2,\n",
       " 'hold': 10,\n",
       " 'outdated': 1,\n",
       " 'circumstances': 1,\n",
       " 'me': 68,\n",
       " 'join': 9,\n",
       " '1994': 1,\n",
       " 'work': 53,\n",
       " 'dodo': 13,\n",
       " 'worm': 1,\n",
       " 'roof': 6,\n",
       " 'itself': 14,\n",
       " 'elbow': 3,\n",
       " 'my': 58,\n",
       " 'shook': 9,\n",
       " 'rosetree': 4,\n",
       " 'quiver': 1,\n",
       " 'serpent': 9,\n",
       " 'give': 16,\n",
       " 'unjust': 1,\n",
       " 'flung': 1,\n",
       " 'organized': 1,\n",
       " 'frighten': 1,\n",
       " 'want': 9,\n",
       " 'hurrying': 1,\n",
       " 'times': 6,\n",
       " 'worse': 3,\n",
       " 'ones': 2,\n",
       " 'end': 20,\n",
       " 'thing': 49,\n",
       " 'provide': 7,\n",
       " 'agony': 1,\n",
       " 'sitting': 10,\n",
       " 'damage': 2,\n",
       " '1e9': 3,\n",
       " 'machine': 1,\n",
       " 'how': 68,\n",
       " 'hot': 5,\n",
       " 'piecrust': 1,\n",
       " 'answer': 9,\n",
       " 'if': 114,\n",
       " 'truthful': 1,\n",
       " 'poker': 1,\n",
       " 'flustered': 1,\n",
       " 'mouths': 3,\n",
       " 'after': 42,\n",
       " 'growl': 3,\n",
       " 'wrong': 5,\n",
       " 'jumping': 4,\n",
       " 'lay': 4,\n",
       " 'curiosity': 5,\n",
       " 'law': 4,\n",
       " 'lap': 2,\n",
       " 'types': 1,\n",
       " 'attempt': 1,\n",
       " 'childhood': 1,\n",
       " 'wink': 2,\n",
       " 'wriggling': 1,\n",
       " 'green': 4,\n",
       " 'goodbye': 1,\n",
       " 'aloud': 5,\n",
       " 'order': 3,\n",
       " 'wind': 2,\n",
       " 'wine': 2,\n",
       " 'withina': 1,\n",
       " 'executed': 6,\n",
       " 'office': 2,\n",
       " 'curled': 2,\n",
       " 'dreamed': 1,\n",
       " 'over': 40,\n",
       " 'xi': 1,\n",
       " 'london': 1,\n",
       " 'crumbs': 4,\n",
       " 'before': 39,\n",
       " 'thenbills': 1,\n",
       " 'chatte': 1,\n",
       " 'fit': 3,\n",
       " 'somewhere': 3,\n",
       " 'lefthand': 2,\n",
       " 'fix': 2,\n",
       " 'elsebut': 1,\n",
       " 'writing': 7,\n",
       " 'better': 14,\n",
       " 'hm': 1,\n",
       " 'production': 1,\n",
       " 'fig': 1,\n",
       " 'glanced': 1,\n",
       " 'croquet': 6,\n",
       " 'weeks': 1,\n",
       " 'overcome': 1,\n",
       " 'then': 90,\n",
       " 'them': 84,\n",
       " 'romeno': 1,\n",
       " 'slate': 2,\n",
       " 'safe': 2,\n",
       " 'break': 2,\n",
       " 'caterpillar': 27,\n",
       " 'they': 130,\n",
       " 'interrupt': 1,\n",
       " 'awfully': 1,\n",
       " 'bank': 2,\n",
       " 'pegs': 1,\n",
       " 'theni': 1,\n",
       " 'grammar': 1,\n",
       " 'meat': 1,\n",
       " 'alternately': 1,\n",
       " 'herald': 1,\n",
       " 'good': 24,\n",
       " '1e2': 1,\n",
       " 'roast': 1,\n",
       " 'each': 9,\n",
       " 'went': 83,\n",
       " 'side': 17,\n",
       " 'cornerno': 1,\n",
       " 'mean': 10,\n",
       " 'calmly': 1,\n",
       " 'financial': 1,\n",
       " 'telescope': 3,\n",
       " 'series': 1,\n",
       " 'applicable': 3,\n",
       " 'vote': 1,\n",
       " 'taught': 4,\n",
       " 'forgot': 2,\n",
       " 'flock': 1,\n",
       " 'array': 1,\n",
       " 'reminding': 1,\n",
       " 'velvet': 1,\n",
       " 'network': 1,\n",
       " 'eeevening': 3,\n",
       " 'sighing': 3,\n",
       " 'fellows': 1,\n",
       " 'content': 1,\n",
       " 'encourage': 1,\n",
       " 'branch': 1,\n",
       " 'millennium': 1,\n",
       " 'got': 45,\n",
       " 'size': 13,\n",
       " 'forth': 8,\n",
       " 'foundation': 22,\n",
       " 'splashed': 1,\n",
       " 'stamping': 2,\n",
       " 'turning': 12,\n",
       " 'speakand': 1,\n",
       " 'written': 9,\n",
       " 'lessonbook': 1,\n",
       " 'onebut': 1,\n",
       " 'little': 128,\n",
       " 'free': 8,\n",
       " 'uglification': 2,\n",
       " '646221541': 1,\n",
       " 'whereupon': 1,\n",
       " 'mallets': 1,\n",
       " 'wanted': 4,\n",
       " 'telescopes': 1,\n",
       " 'enormous': 1,\n",
       " 'ate': 1,\n",
       " 'shelves': 1,\n",
       " 'writhing': 1,\n",
       " 'cackled': 1,\n",
       " 'messages': 2,\n",
       " 'days': 8,\n",
       " 'trotting': 2,\n",
       " 'pence': 1,\n",
       " 'hopeless': 1,\n",
       " 'alices': 17,\n",
       " 'moving': 3,\n",
       " 'loud': 6,\n",
       " 'bite': 2,\n",
       " 'user': 3,\n",
       " 'enjoy': 1,\n",
       " 'already': 3,\n",
       " 'dunce': 1,\n",
       " 'curiouser': 2,\n",
       " 'synonymous': 1,\n",
       " 'encouraging': 2,\n",
       " 'hearing': 4,\n",
       " 'wash': 2,\n",
       " 'another': 22,\n",
       " 'thoughtfully': 4,\n",
       " 'thick': 1,\n",
       " 'electronic': 27,\n",
       " 'anyone': 5,\n",
       " 'service': 1,\n",
       " 'indicate': 1,\n",
       " '84116': 1,\n",
       " 'top': 8,\n",
       " 'neck': 7,\n",
       " 'girls': 3,\n",
       " '1c': 2,\n",
       " 'airs': 1,\n",
       " 'master': 3,\n",
       " 'too': 26,\n",
       " 'wildly': 2,\n",
       " 'legs': 3,\n",
       " 'dogs': 4,\n",
       " 'listen': 7,\n",
       " 'consented': 1,\n",
       " 'ceiling': 1,\n",
       " 'solemnly': 4,\n",
       " 'meanstomakeanythingprettier': 1,\n",
       " 'fancying': 1,\n",
       " 'took': 24,\n",
       " 'hadnt': 8,\n",
       " 'positively': 1,\n",
       " 'begins': 4,\n",
       " 'distance': 7,\n",
       " 'perfectly': 4,\n",
       " 'withoutmaybe': 1,\n",
       " 'coward': 1,\n",
       " 'tree': 5,\n",
       " 'second': 6,\n",
       " 'seated': 1,\n",
       " 'project': 86,\n",
       " 'matter': 9,\n",
       " 'splendidly': 1,\n",
       " 'exclaimed': 6,\n",
       " 'flame': 1,\n",
       " 'friend': 3,\n",
       " 'feeling': 7,\n",
       " 'fashion': 2,\n",
       " 'ran': 16,\n",
       " 'faceand': 1,\n",
       " 'shyly': 1,\n",
       " 'modern': 1,\n",
       " 'mind': 10,\n",
       " 'mine': 8,\n",
       " 'talking': 17,\n",
       " 'manner': 2,\n",
       " 'further': 4,\n",
       " 'seen': 14,\n",
       " 'seem': 8,\n",
       " 'groundand': 1,\n",
       " 'eels': 1,\n",
       " 'strength': 1,\n",
       " 'mostly': 2,\n",
       " 'thoroughly': 2,\n",
       " 'doori': 1,\n",
       " 'haste': 1,\n",
       " 'eagerly': 8,\n",
       " 'subjects': 1,\n",
       " 'guineapig': 2,\n",
       " 'doors': 2,\n",
       " 'laughed': 2,\n",
       " 'andoh': 2,\n",
       " 'gravy': 1,\n",
       " 'exactly': 8,\n",
       " 'though': 11,\n",
       " 'ebook': 9,\n",
       " 'regular': 2,\n",
       " 'mouth': 10,\n",
       " 'plenty': 2,\n",
       " 'the': 1804,\n",
       " 'grave': 3,\n",
       " 'zealand': 1,\n",
       " 'professor': 1,\n",
       " 'm': 4,\n",
       " 'dog': 2,\n",
       " 'swamp': 1,\n",
       " 'ridiculous': 1,\n",
       " 'pineapple': 1,\n",
       " 'notion': 3,\n",
       " 'incomplete': 1,\n",
       " 'decidedly': 4,\n",
       " 'saying': 15,\n",
       " 'currants': 1,\n",
       " 'pardoned': 1,\n",
       " 'steamengine': 1,\n",
       " 'pope': 1,\n",
       " 'lewis': 4,\n",
       " 'queen': 68,\n",
       " 'sage': 1,\n",
       " 'ending': 1,\n",
       " 'attempts': 1,\n",
       " 'queer': 10,\n",
       " 'earth': 4,\n",
       " 'lessons': 10,\n",
       " 'execution': 2,\n",
       " 'flowers': 2,\n",
       " 'spite': 1,\n",
       " 'explain': 10,\n",
       " 'folded': 3,\n",
       " 'sugar': 1,\n",
       " 'itsits': 1,\n",
       " 'deepest': 1,\n",
       " 'disgust': 1,\n",
       " 'themi': 1,\n",
       " 'do': 98,\n",
       " 'cartwheels': 1,\n",
       " 'squeaking': 2,\n",
       " 'stop': 6,\n",
       " 'coast': 1,\n",
       " 'frowning': 4,\n",
       " 'shutting': 2,\n",
       " 'cushion': 2,\n",
       " 'altogether': 5,\n",
       " 'nasty': 1,\n",
       " 'dr': 2,\n",
       " 'youcome': 1,\n",
       " 'comply': 6,\n",
       " 'bat': 3,\n",
       " 'countries': 1,\n",
       " 'nicely': 2,\n",
       " 'ever': 21,\n",
       " 'anxiously': 14,\n",
       " 'shape': 1,\n",
       " 'licking': 1,\n",
       " 'public': 9,\n",
       " 'twice': 5,\n",
       " 'bad': 2,\n",
       " 'softly': 1,\n",
       " 'lookingglass': 1,\n",
       " 'release': 1,\n",
       " 'explanations': 1,\n",
       " 'ears': 5,\n",
       " 'blew': 2,\n",
       " 'fair': 1,\n",
       " 'checks': 1,\n",
       " 'depends': 2,\n",
       " 'decided': 3,\n",
       " 'submitted': 1,\n",
       " 'cattle': 1,\n",
       " 'corrupt': 1,\n",
       " 'miserable': 2,\n",
       " 'mournfully': 1,\n",
       " 'best': 12,\n",
       " 'subject': 7,\n",
       " 'pebbles': 2,\n",
       " 'said': 462,\n",
       " 'away': 27,\n",
       " 'irs': 1,\n",
       " 'enoughi': 1,\n",
       " 'unable': 1,\n",
       " 'finger': 5,\n",
       " 'sorts': 3,\n",
       " 'previous': 1,\n",
       " 'approach': 1,\n",
       " 'preserve': 1,\n",
       " 'claws': 2,\n",
       " 'lazy': 1,\n",
       " 'interrupting': 2,\n",
       " 'terms': 22,\n",
       " '99712': 1,\n",
       " 'confusion': 5,\n",
       " 'weak': 2,\n",
       " 'however': 21,\n",
       " 'camomile': 1,\n",
       " 'twinkling': 4,\n",
       " 'drew': 5,\n",
       " 'extent': 1,\n",
       " 'picking': 2,\n",
       " 'maynt': 1,\n",
       " 'improve': 1,\n",
       " 'pity': 3,\n",
       " 'received': 6,\n",
       " 'protect': 2,\n",
       " 'accident': 2,\n",
       " 'goodnatured': 1,\n",
       " 'reported': 1,\n",
       " 'country': 3,\n",
       " 'ill': 33,\n",
       " 'adventures': 11,\n",
       " 'edgar': 1,\n",
       " 'players': 4,\n",
       " 'games': 2,\n",
       " 'faces': 5,\n",
       " 'argue': 1,\n",
       " 'asked': 17,\n",
       " 'httpwwwgutenbergorg111': 1,\n",
       " 'tone': 40,\n",
       " 'appeared': 8,\n",
       " 'character': 1,\n",
       " 'backsomersault': 1,\n",
       " 'lullaby': 1,\n",
       " 'height': 5,\n",
       " 'active': 2,\n",
       " 'wider': 1,\n",
       " 'beheaded': 3,\n",
       " 'merchantibility': 1,\n",
       " 'speak': 14,\n",
       " 'shouting': 2,\n",
       " 'tarts': 7,\n",
       " 'three': 26,\n",
       " 'been': 38,\n",
       " 'quarrelling': 2,\n",
       " 'chimneys': 1,\n",
       " 'recognised': 1,\n",
       " 'teaparty': 2,\n",
       " 'schoolroom': 1,\n",
       " 'expected': 1,\n",
       " 'firstverdict': 1,\n",
       " 'lovely': 2,\n",
       " 'knowno': 1,\n",
       " 'threw': 2,\n",
       " 'life': 12,\n",
       " 'frogfootman': 1,\n",
       " 'beloved': 1,\n",
       " 'mushroom': 8,\n",
       " 'turned': 16,\n",
       " 'concerning': 2,\n",
       " 'uncommon': 1,\n",
       " 'joined': 3,\n",
       " 'soooop': 7,\n",
       " 'child': 10,\n",
       " 'catch': 3,\n",
       " 'doth': 3,\n",
       " 'teapot': 1,\n",
       " 'rabbitspat': 1,\n",
       " 'tonight': 1,\n",
       " 'has': 9,\n",
       " 'lessen': 1,\n",
       " 'tastes': 1,\n",
       " 'air': 14,\n",
       " 'aim': 1,\n",
       " 'ugly': 2,\n",
       " 'lizard': 5,\n",
       " 'suppose': 14,\n",
       " 'viii': 1,\n",
       " 'stopping': 1,\n",
       " 'property': 2,\n",
       " 'leaves': 6,\n",
       " 'mistake': 3,\n",
       " 'remembering': 1,\n",
       " 'ix': 1,\n",
       " 'seven': 6,\n",
       " 'stretching': 2,\n",
       " 'have': 85,\n",
       " 'played': 1,\n",
       " 'is': 128,\n",
       " 'it': 541,\n",
       " 'iv': 1,\n",
       " 'ii': 2,\n",
       " 'need': 1,\n",
       " 'cant': 28,\n",
       " 'im': 57,\n",
       " 'clinging': 1,\n",
       " 'in': 428,\n",
       " 'happening': 1,\n",
       " 'importantunimportantunimportantimportant': 1,\n",
       " 'mouse': 38,\n",
       " 'id': 11,\n",
       " 'arminarm': 1,\n",
       " 'grown': 7,\n",
       " 'containing': 1,\n",
       " 'severity': 1,\n",
       " 'credit': 1,\n",
       " 'perform': 1,\n",
       " 'things': 30,\n",
       " 'make': 29,\n",
       " 'breadandbutter': 6,\n",
       " 'forehead': 2,\n",
       " 'damages': 4,\n",
       " 'unfortunate': 3,\n",
       " 'vegetable': 1,\n",
       " 'plates': 2,\n",
       " 'several': 5,\n",
       " 'couple': 1,\n",
       " 'fairly': 1,\n",
       " 'teathings': 1,\n",
       " 'tops': 1,\n",
       " 'hand': 20,\n",
       " 'delight': 3,\n",
       " 'marched': 1,\n",
       " 'canterbury': 1,\n",
       " 'dozing': 1,\n",
       " 'opportunity': 9,\n",
       " 'thoughts': 2,\n",
       " 'kid': 5,\n",
       " 'butter': 3,\n",
       " 'hearth': 1,\n",
       " 'kept': 13,\n",
       " 'pattering': 3,\n",
       " 'askance': 1,\n",
       " 'possessed': 1,\n",
       " 'humble': 1,\n",
       " 'bankthe': 1,\n",
       " '809': 1,\n",
       " 'rome': 1,\n",
       " 'humbly': 2,\n",
       " 'impertinent': 1,\n",
       " 'hearts': 8,\n",
       " '801': 1,\n",
       " 'bythebye': 1,\n",
       " 'yours': 3,\n",
       " 'trademarkcopyright': 1,\n",
       " 'left': 14,\n",
       " 'just': 51,\n",
       " 'sentence': 8,\n",
       " 'distribute': 6,\n",
       " 'sleepy': 5,\n",
       " 'atheling': 1,\n",
       " 'verses': 4,\n",
       " 'identify': 1,\n",
       " 'farther': 1,\n",
       " 'bearmind': 1,\n",
       " 'yes': 13,\n",
       " 'yer': 4,\n",
       " 'yet': 22,\n",
       " 'electronically': 2,\n",
       " 'secure': 1,\n",
       " 'adding': 1,\n",
       " 'spectacles': 3,\n",
       " 'hjckrrh': 1,\n",
       " 'royal': 2,\n",
       " 'belongs': 2,\n",
       " 'easy': 3,\n",
       " 'prison': 1,\n",
       " 'save': 1,\n",
       " 'hat': 1,\n",
       " 'gave': 15,\n",
       " 'vii': 1,\n",
       " 'boxed': 1,\n",
       " 'online': 4,\n",
       " 'possible': 1,\n",
       " 'bythe': 1,\n",
       " 'possibly': 3,\n",
       " 'dreamy': 1,\n",
       " 'flamingoes': 2,\n",
       " 'afore': 1,\n",
       " 'gutenbergtms': 1,\n",
       " 'judge': 4,\n",
       " 'isthe': 1,\n",
       " 'replace': 1,\n",
       " 'burnt': 1,\n",
       " 'shoulder': 4,\n",
       " 'sorrows': 1,\n",
       " 'appearing': 2,\n",
       " 'uncivil': 1,\n",
       " 'seaside': 1,\n",
       " 'alice': 385,\n",
       " 'quadrille': 4,\n",
       " 'theyre': 13,\n",
       " 'specific': 1,\n",
       " 'renamed': 1,\n",
       " 'officer': 1,\n",
       " 'night': 3,\n",
       " 'hung': 1,\n",
       " 'right': 35,\n",
       " 'old': 21,\n",
       " 'deal': 12,\n",
       " 'people': 16,\n",
       " 'sends': 1,\n",
       " 'crown': 3,\n",
       " 'somehow': 1,\n",
       " 'dead': 4,\n",
       " '50': 1,\n",
       " 'fulcrum': 1,\n",
       " 'clubs': 1,\n",
       " 'escape': 4,\n",
       " 'dear': 29,\n",
       " 'straightening': 1,\n",
       " 'bore': 1,\n",
       " 'repeated': 10,\n",
       " 'creep': 1,\n",
       " 'confusing': 3,\n",
       " 'denies': 1,\n",
       " 'for': 179,\n",
       " 'bottom': 4,\n",
       " 'purple': 1,\n",
       " 'everything': 10,\n",
       " 'asking': 5,\n",
       " 'shakespeare': 1,\n",
       " 'denied': 2,\n",
       " 'serpents': 3,\n",
       " 'beating': 2,\n",
       " 'christmas': 1,\n",
       " 'pinched': 2,\n",
       " 'knew': 15,\n",
       " 'congereel': 1,\n",
       " 'burn': 2,\n",
       " 'disappeared': 2,\n",
       " 'boyand': 1,\n",
       " 'shifting': 1,\n",
       " 'paid': 6,\n",
       " 'losing': 1,\n",
       " 'bowing': 1,\n",
       " 'permitted': 3,\n",
       " 'proceed': 2,\n",
       " 'chapter': 12,\n",
       " 'limitation': 3,\n",
       " 'theirs': 1,\n",
       " 'newspapers': 1,\n",
       " 'choke': 1,\n",
       " 'o': 2,\n",
       " 'costs': 2,\n",
       " 'dinner': 2,\n",
       " 'despair': 1,\n",
       " 'efforts': 3,\n",
       " 'sluggard': 1,\n",
       " 'this': 181,\n",
       " 'raised': 2,\n",
       " 'sob': 1,\n",
       " 'statements': 1,\n",
       " 'facility': 1,\n",
       " 'civil': 3,\n",
       " 'prisoners': 1,\n",
       " 'obtaining': 2,\n",
       " 'bound': 3,\n",
       " 'cauldron': 2,\n",
       " 'son': 1,\n",
       " 'down': 101,\n",
       " 'respectable': 1,\n",
       " 'bats': 4,\n",
       " 'lieu': 2,\n",
       " 'balanced': 1,\n",
       " 'frightened': 7,\n",
       " 'often': 6,\n",
       " 'crowd': 4,\n",
       " 'impatiently': 5,\n",
       " 'wag': 1,\n",
       " 'support': 4,\n",
       " 'sneezing': 6,\n",
       " 'fight': 2,\n",
       " 'derision': 1,\n",
       " 'lowspirited': 1,\n",
       " 'way': 54,\n",
       " 'music': 3,\n",
       " 'was': 358,\n",
       " 'happy': 1,\n",
       " 'fork': 1,\n",
       " 'head': 48,\n",
       " 'medium': 5,\n",
       " 'form': 5,\n",
       " 'offer': 2,\n",
       " 'attempted': 1,\n",
       " 'becoming': 1,\n",
       " 'remarking': 3,\n",
       " 'failure': 1,\n",
       " 'hear': 15,\n",
       " 'heap': 1,\n",
       " 'removed': 4,\n",
       " 'nodded': 1,\n",
       " 'theyyouve': 1,\n",
       " 'flavour': 1,\n",
       " 'full': 19,\n",
       " 'rippling': 1,\n",
       " 'inside': 2,\n",
       " 'attached': 1,\n",
       " 'maximum': 1,\n",
       " 'until': 5,\n",
       " 'retire': 1,\n",
       " 'marmalade': 1,\n",
       " 'unusually': 1,\n",
       " 'more': 49,\n",
       " 'bitterandand': 1,\n",
       " 'temper': 5,\n",
       " 'proud': 2,\n",
       " 'proved': 2,\n",
       " 'sticks': 1,\n",
       " 'goodnaturedly': 1,\n",
       " 'fury': 3,\n",
       " 'toss': 1,\n",
       " 'paragraphs': 3,\n",
       " 'muscular': 1,\n",
       " 'hungry': 3,\n",
       " 'howling': 3,\n",
       " 'guessed': 3,\n",
       " 'promised': 1,\n",
       " 'melan': 1,\n",
       " 'candle': 3,\n",
       " 'accounting': 1,\n",
       " 'archive': 13,\n",
       " 'peeping': 1,\n",
       " 'solicitation': 1,\n",
       " 'floor': 3,\n",
       " 'generally': 7,\n",
       " 'handed': 3,\n",
       " 'tis': 5,\n",
       " 'beheading': 1,\n",
       " 'setting': 1,\n",
       " 'holding': 3,\n",
       " 'tie': 1,\n",
       " 'vanished': 4,\n",
       " 'shrink': 1,\n",
       " 'saucepans': 1,\n",
       " 'picture': 1,\n",
       " 'brothers': 1,\n",
       " 'savage': 4,\n",
       " 'turnup': 1,\n",
       " 'surprise': 5,\n",
       " 'welcome': 1,\n",
       " 'fell': 6,\n",
       " 'ridges': 1,\n",
       " 'gardenhow': 1,\n",
       " 'inkstand': 1,\n",
       " 'unlocking': 1,\n",
       " 'died': 1,\n",
       " 'puss': 1,\n",
       " 'spades': 1,\n",
       " 'cheated': 1,\n",
       " 'together': 9,\n",
       " 'beds': 1,\n",
       " 'longed': 2,\n",
       " 'fact': 8,\n",
       " 'cucumberframe': 1,\n",
       " 'remarked': 10,\n",
       " 'push': 1,\n",
       " 'profits': 1,\n",
       " 'concept': 2,\n",
       " 'managed': 4,\n",
       " 'remarkable': 2,\n",
       " 'whoever': 1,\n",
       " 'dance': 13,\n",
       " 'untwist': 1,\n",
       " 'rudeness': 1,\n",
       " 'branches': 2,\n",
       " 'invent': 1,\n",
       " 'seeneverything': 1,\n",
       " 'crocodile': 1,\n",
       " 'england': 1,\n",
       " 'mile': 2,\n",
       " 'displaying': 4,\n",
       " 'milk': 1,\n",
       " 'row': 2,\n",
       " 'certainly': 14,\n",
       " 'father': 6,\n",
       " 'passage': 4,\n",
       " 'answered': 4,\n",
       " 'charge': 6,\n",
       " 'unpleasant': 2,\n",
       " 'promoting': 2,\n",
       " 'terror': 1,\n",
       " 'must': 54,\n",
       " 'pleases': 1,\n",
       " 'jogged': 1,\n",
       " 'furrows': 1,\n",
       " 'brown': 2,\n",
       " 'downloading': 1,\n",
       " 'advantage': 3,\n",
       " 'none': 4,\n",
       " 'hatter': 55,\n",
       " 'choice': 2,\n",
       " 'liability': 3,\n",
       " 'stays': 1,\n",
       " 'cook': 13,\n",
       " 'locked': 1,\n",
       " 'trouble': 6,\n",
       " 'exact': 1,\n",
       " 'feeble': 2,\n",
       " 'minute': 21,\n",
       " 'wore': 1,\n",
       " 'sighed': 5,\n",
       " 'presented': 1,\n",
       " 'did': 62,\n",
       " 'die': 1,\n",
       " 'dig': 1,\n",
       " 'accidentally': 1,\n",
       " 'leave': 9,\n",
       " 'settle': 1,\n",
       " 'quick': 2,\n",
       " 'rabbits': 4,\n",
       " 'round': 41,\n",
       " 'lodging': 1,\n",
       " 'prevent': 2,\n",
       " 'brave': 1,\n",
       " 'voiceshold': 1,\n",
       " 'tougher': 1,\n",
       " 'sigh': 4,\n",
       " 'obsolete': 1,\n",
       " 'sign': 1,\n",
       " 'fairytales': 1,\n",
       " 'cost': 4,\n",
       " 'dried': 1,\n",
       " 'dinahll': 2,\n",
       " 'helpless': 1,\n",
       " 'hoarse': 3,\n",
       " 'irritated': 1,\n",
       " 'appear': 3,\n",
       " 'assistance': 1,\n",
       " 'axes': 1,\n",
       " 'uniform': 1,\n",
       " 'current': 1,\n",
       " 'looking': 30,\n",
       " 'lazily': 1,\n",
       " 'goes': 7,\n",
       " 'shared': 2,\n",
       " 'falling': 2,\n",
       " 'staff': 1,\n",
       " 'filled': 3,\n",
       " 'growls': 1,\n",
       " 'jury': 17,\n",
       " 'nearer': 5,\n",
       " 'honour': 4,\n",
       " 'learn': 8,\n",
       " 'french': 4,\n",
       " 'disclaim': 1,\n",
       " 'pause': 2,\n",
       " 'twentieth': 1,\n",
       " 'yards': 1,\n",
       " 'elses': 1,\n",
       " 'alone': 5,\n",
       " 'along': 5,\n",
       " 'appears': 1,\n",
       " 'change': 15,\n",
       " 'wait': 1,\n",
       " 'box': 4,\n",
       " 'boy': 2,\n",
       " 'thirty': 1,\n",
       " 'sharks': 1,\n",
       " 'grinned': 3,\n",
       " 'gryphon': 55,\n",
       " 'trial': 7,\n",
       " 'patriotic': 1,\n",
       " 'lamps': 1,\n",
       " 'quarrel': 1,\n",
       " 'beauootiful': 4,\n",
       " 'love': 3,\n",
       " 'morals': 1,\n",
       " 'jar': 2,\n",
       " 'merely': 2,\n",
       " 'marked': 8,\n",
       " 'histories': 1,\n",
       " 'inquisitively': 1,\n",
       " 'seashore': 1,\n",
       " 'swallowed': 1,\n",
       " 'stingy': 1,\n",
       " 'everybody': 8,\n",
       " 'voices': 2,\n",
       " 'prove': 1,\n",
       " 'angry': 5,\n",
       " 'visit': 3,\n",
       " 'tears': 11,\n",
       " 'france': 1,\n",
       " 'live': 8,\n",
       " 'going': 27,\n",
       " 'somersault': 1,\n",
       " 'wondering': 7,\n",
       " 'memory': 1,\n",
       " 'associated': 8,\n",
       " 'today': 4,\n",
       " 'loving': 1,\n",
       " 'dismay': 1,\n",
       " 'entrance': 1,\n",
       " 'sharing': 2,\n",
       " 'afford': 1,\n",
       " 'teases': 1,\n",
       " 'ignorant': 1,\n",
       " 'wwwgutenbergorg': 3,\n",
       " 'effort': 2,\n",
       " 'fly': 3,\n",
       " 'mouseo': 1,\n",
       " 'anything': 21,\n",
       " 'shrill': 5,\n",
       " 'teatime': 2,\n",
       " 'pretend': 1,\n",
       " 'mousea': 1,\n",
       " 'modified': 1,\n",
       " 'longitude': 2,\n",
       " 'cat': 35,\n",
       " 'soup': 18,\n",
       " 'can': 44,\n",
       " 'believed': 1,\n",
       " 'making': 8,\n",
       " 'toffee': 1,\n",
       " 'laughter': 1,\n",
       " 'slightest': 1,\n",
       " 'heart': 2,\n",
       " 'crazy': 1,\n",
       " 'undertone': 2,\n",
       " 'nursing': 3,\n",
       " 'figure': 3,\n",
       " 'december': 1,\n",
       " 'sense': 3,\n",
       " 'carroll': 4,\n",
       " 'confused': 4,\n",
       " 'agent': 1,\n",
       " 'paused': 1,\n",
       " 'heard': 30,\n",
       " 'queerest': 1,\n",
       " 'chin': 7,\n",
       " 'dropped': 5,\n",
       " 'sharp': 6,\n",
       " 'counting': 1,\n",
       " 'stole': 2,\n",
       " ...}"
      ]
     },
     "execution_count": 32,
     "metadata": {},
     "output_type": "execute_result"
    }
   ],
   "source": [
    "most_common"
   ]
  },
  {
   "cell_type": "markdown",
   "metadata": {},
   "source": [
    "### To find top 10, need to sort dictionary on values. There are <em>MANY</em> ways to do this."
   ]
  },
  {
   "cell_type": "code",
   "execution_count": 33,
   "metadata": {
    "collapsed": false
   },
   "outputs": [
    {
     "data": {
      "text/plain": [
       "[('the', 1804),\n",
       " ('and', 912),\n",
       " ('to', 801),\n",
       " ('a', 684),\n",
       " ('of', 625),\n",
       " ('it', 541),\n",
       " ('she', 538),\n",
       " ('said', 462),\n",
       " ('you', 429),\n",
       " ('in', 428)]"
      ]
     },
     "execution_count": 33,
     "metadata": {},
     "output_type": "execute_result"
    }
   ],
   "source": [
    "# using base python\n",
    "\n",
    "sorted_words_lambda = sorted(most_common.items(), key = lambda x: x[1], reverse = True)\n",
    "sorted_words_lambda[:10]"
   ]
  },
  {
   "cell_type": "code",
   "execution_count": 34,
   "metadata": {
    "collapsed": false
   },
   "outputs": [
    {
     "data": {
      "text/plain": [
       "[('the', 1804),\n",
       " ('and', 912),\n",
       " ('to', 801),\n",
       " ('a', 684),\n",
       " ('of', 625),\n",
       " ('it', 541),\n",
       " ('she', 538),\n",
       " ('said', 462),\n",
       " ('you', 429),\n",
       " ('in', 428)]"
      ]
     },
     "execution_count": 34,
     "metadata": {},
     "output_type": "execute_result"
    }
   ],
   "source": [
    "# using itemgetter from operator module\n",
    "from operator import itemgetter\n",
    "\n",
    "sorted_words_itemgetter = sorted(most_common.items(), key = itemgetter(1), reverse = True)\n",
    "sorted_words_itemgetter[:10]"
   ]
  },
  {
   "cell_type": "code",
   "execution_count": 35,
   "metadata": {
    "collapsed": false,
    "scrolled": false
   },
   "outputs": [
    {
     "data": {
      "text/plain": [
       "[('the', 1804),\n",
       " ('and', 912),\n",
       " ('to', 801),\n",
       " ('a', 684),\n",
       " ('of', 625),\n",
       " ('it', 541),\n",
       " ('she', 538),\n",
       " ('said', 462),\n",
       " ('you', 429),\n",
       " ('in', 428)]"
      ]
     },
     "execution_count": 35,
     "metadata": {},
     "output_type": "execute_result"
    }
   ],
   "source": [
    "# using collections module\n",
    "from collections import OrderedDict\n",
    "\n",
    "sorted_words_collections = OrderedDict(sorted(most_common.items(), key = lambda x: x[1], reverse = True))\n",
    "sorted_words_collections.items()[:10]"
   ]
  },
  {
   "cell_type": "code",
   "execution_count": 36,
   "metadata": {
    "collapsed": false
   },
   "outputs": [
    {
     "name": "stdout",
     "output_type": "stream",
     "text": [
      "the 1804\n",
      "and 912\n",
      "to 801\n",
      "a 684\n",
      "of 625\n",
      "it 541\n",
      "she 538\n",
      "said 462\n",
      "you 429\n",
      "in 428\n"
     ]
    }
   ],
   "source": [
    "# default dict\n",
    "\n",
    "from collections import defaultdict\n",
    "inverse = defaultdict( list )\n",
    "\n",
    "for k, v in most_common.items():\n",
    "    inverse[v].append( k )\n",
    "\n",
    "for k in sorted(inverse,reverse=True)[:10]:\n",
    "    print inverse[k][0], k"
   ]
  },
  {
   "cell_type": "code",
   "execution_count": 37,
   "metadata": {
    "collapsed": false
   },
   "outputs": [
    {
     "data": {
      "text/plain": [
       "[word(word=1804, count='the'),\n",
       " word(word=912, count='and'),\n",
       " word(word=801, count='to'),\n",
       " word(word=684, count='a'),\n",
       " word(word=625, count='of'),\n",
       " word(word=541, count='it'),\n",
       " word(word=538, count='she'),\n",
       " word(word=462, count='said'),\n",
       " word(word=429, count='you'),\n",
       " word(word=428, count='in')]"
      ]
     },
     "execution_count": 37,
     "metadata": {},
     "output_type": "execute_result"
    }
   ],
   "source": [
    "# named tuple\n",
    "\n",
    "from collections import namedtuple\n",
    "\n",
    "sorted_words_named = namedtuple('word', 'word count')\n",
    "sorted_words_named = sorted([sorted_words_named(v,k) for (k,v) in most_common.items()], reverse=True)\n",
    "sorted_words_named[:10]"
   ]
  },
  {
   "cell_type": "code",
   "execution_count": 38,
   "metadata": {
    "collapsed": false
   },
   "outputs": [
    {
     "data": {
      "text/plain": [
       "[('the', 1804),\n",
       " ('and', 912),\n",
       " ('to', 801),\n",
       " ('a', 684),\n",
       " ('of', 625),\n",
       " ('it', 541),\n",
       " ('she', 538),\n",
       " ('said', 462),\n",
       " ('you', 429),\n",
       " ('in', 428)]"
      ]
     },
     "execution_count": 38,
     "metadata": {},
     "output_type": "execute_result"
    }
   ],
   "source": [
    "# using Counter\n",
    "\n",
    "from collections import Counter\n",
    "\n",
    "sorted_words_counter = [item for item in Counter(words).most_common(10)]\n",
    "sorted_words_counter[:10]"
   ]
  },
  {
   "cell_type": "markdown",
   "metadata": {},
   "source": [
    "++++++++++++++++++++++++++++++++++++++++++++++++++++++++++++++++++++++++++++++++++++++++++++++++++++++++++++++++++++++"
   ]
  },
  {
   "cell_type": "markdown",
   "metadata": {},
   "source": [
    "## EXERCISE TIME!\n",
    "\n",
    "Find the number of words that appear exactly 10 times in the book. Use a python module."
   ]
  },
  {
   "cell_type": "markdown",
   "metadata": {},
   "source": [
    "++++++++++++++++++++++++++++++++++++++++++++++++++++++++++++++++++++++++++++++++++++++++++++++++++++++++++++++++++++++"
   ]
  },
  {
   "cell_type": "markdown",
   "metadata": {},
   "source": [
    "## Find positive sentiment from tweets"
   ]
  },
  {
   "cell_type": "markdown",
   "metadata": {},
   "source": [
    "<ul>\n",
    "<li>Helpful to standardize tweets\n",
    "<li>Convert to lower case\n",
    "<li>Remove punctuation\n",
    "</ul>"
   ]
  },
  {
   "cell_type": "code",
   "execution_count": 39,
   "metadata": {
    "collapsed": false
   },
   "outputs": [],
   "source": [
    "positive_word_dict = {}\n",
    "\n",
    "positives = positive_file.split('\\n')[::-1][1:]\n",
    "\n",
    "for tweet in tweets:   # for all tweets\n",
    "    for positive_word in positives:   # for all positive words\n",
    "        if positive_word in tweet.translate(None, punctuation).lower():   # if positive word in tweet\n",
    "            positive_word_dict[positive_word] = positive_word_dict.get(positive_word, 0)  # WHAT DOES GET DO?\n",
    "            positive_word_dict[positive_word] += 1"
   ]
  },
  {
   "cell_type": "code",
   "execution_count": 40,
   "metadata": {
    "collapsed": false,
    "scrolled": true
   },
   "outputs": [
    {
     "data": {
      "text/plain": [
       "[('ability', 2),\n",
       " ('able', 14),\n",
       " ('accomplishment', 1),\n",
       " ('accomplishments', 1),\n",
       " ('active', 4),\n",
       " ('advantage', 10),\n",
       " ('agreement', 10),\n",
       " ('amazing', 1),\n",
       " ('ample', 1),\n",
       " ('angel', 2)]"
      ]
     },
     "execution_count": 40,
     "metadata": {},
     "output_type": "execute_result"
    }
   ],
   "source": [
    "sorted(positive_word_dict.items())[:10]"
   ]
  },
  {
   "cell_type": "markdown",
   "metadata": {},
   "source": [
    "## Find the most common positive word used in the tweets"
   ]
  },
  {
   "cell_type": "code",
   "execution_count": 41,
   "metadata": {
    "collapsed": false
   },
   "outputs": [
    {
     "data": {
      "text/plain": [
       "[('just', 174)]"
      ]
     },
     "execution_count": 41,
     "metadata": {},
     "output_type": "execute_result"
    }
   ],
   "source": [
    "[item for item in Counter(positive_word_dict).most_common(1)]"
   ]
  },
  {
   "cell_type": "markdown",
   "metadata": {},
   "source": [
    "++++++++++++++++++++++++++++++++++++++++++++++++++++++++++++++++++++++++++++++++++++++++++++++++++++++++++++++++++++"
   ]
  },
  {
   "cell_type": "markdown",
   "metadata": {},
   "source": [
    "## EXERCISE TIME!\n",
    "\n",
    "Do a similar analysis above but using negative words. \n",
    "\n",
    "1) Read in the `negative.txt` file and store it in a variable call it `negative`.<br>\n",
    "2) Using `negative`, find the 10 most common negative words in the tweets. Comment on any interesting observations.<br>\n",
    "3) For the most common negative word, print 10 tweets that contain it. Comment on any interesting observations.\n"
   ]
  },
  {
   "cell_type": "markdown",
   "metadata": {},
   "source": [
    "++++++++++++++++++++++++++++++++++++++++++++++++++++++++++++++++++++++++++++++++++++++++++++++++++++++++++++++++++++"
   ]
  },
  {
   "cell_type": "markdown",
   "metadata": {},
   "source": [
    "## What happened??"
   ]
  },
  {
   "cell_type": "markdown",
   "metadata": {},
   "source": [
    "Regular Expression <a id=\"regex\"></a>\n",
    "-----\n",
    "\n",
    "<ul>\n",
    "<li>Special sequence of characters that helps you match (**exact!**) or find other strings or sets of strings, using a specialized syntax held in a pattern\n",
    "<li>Regular expressions as a concept is not exclusive to Python at all.\n",
    "<li>Regular expressions are widely used in UNIX world.\n",
    "<li>`re` module\n",
    "        <ul>\n",
    "        <li>`re.compile()`\n",
    "        <li>`re.match()`\n",
    "        <li>`re.search()`\n",
    "        <li>`re.findall()`\n",
    "        <li>`re.sub()`\n",
    "        </ul>\n",
    "<li>In python, regular expressions tend to be **very slow**. So only use if necessary.\n",
    "</ul>"
   ]
  },
  {
   "cell_type": "code",
   "execution_count": 42,
   "metadata": {
    "collapsed": true
   },
   "outputs": [],
   "source": [
    "from re import match, search, findall, compile, sub"
   ]
  },
  {
   "cell_type": "code",
   "execution_count": 43,
   "metadata": {
    "collapsed": false
   },
   "outputs": [
    {
     "name": "stdout",
     "output_type": "stream",
     "text": [
      "This is a\n",
      "normal string with a newline and \ttab character\n",
      "+++++++++++++++++\n",
      "and this is a\\nraw string which can be used to search for \\tpatterns\n"
     ]
    }
   ],
   "source": [
    "# python treats / as an escape character. So \"/n\" is a newline object, not a literal '/n'\n",
    "# to de-pythonify a string, add r' to the front - this makes it a raw string\n",
    "\n",
    "string = 'This is a\\nnormal string with a newline and \\ttab character'\n",
    "rawString = r'and this is a\\nraw string which can be used to search for \\tpatterns'\n",
    "print string\n",
    "print \"+++++++++++++++++\"\n",
    "print rawString"
   ]
  },
  {
   "cell_type": "markdown",
   "metadata": {},
   "source": [
    "#### `match` - only find matches if they occur at the start of the string being searched."
   ]
  },
  {
   "cell_type": "code",
   "execution_count": 44,
   "metadata": {
    "collapsed": true
   },
   "outputs": [],
   "source": [
    "test_string = \"I'm learning about regular expressions and about how to use them in Python. This is fantastic stuff!\""
   ]
  },
  {
   "cell_type": "code",
   "execution_count": 45,
   "metadata": {
    "collapsed": false
   },
   "outputs": [
    {
     "name": "stdout",
     "output_type": "stream",
     "text": [
      "<_sre.SRE_Match object at 0x1073819f0>\n",
      "I'm\n"
     ]
    }
   ],
   "source": [
    "match_pattern = match(\"I'm\", test_string) # return pattern matched by query\n",
    "print match_pattern\n",
    "print match_pattern.group()"
   ]
  },
  {
   "cell_type": "code",
   "execution_count": 46,
   "metadata": {
    "collapsed": false
   },
   "outputs": [
    {
     "name": "stdout",
     "output_type": "stream",
     "text": [
      "None\n"
     ]
    }
   ],
   "source": [
    "print match(\"about\", test_string)"
   ]
  },
  {
   "cell_type": "markdown",
   "metadata": {
    "collapsed": true
   },
   "source": [
    "#### `search` - similar to `match`, but `search` doesn’t restrict us to only finding matches at the beginning of the string. But will only return the first result"
   ]
  },
  {
   "cell_type": "code",
   "execution_count": 47,
   "metadata": {
    "collapsed": false
   },
   "outputs": [
    {
     "name": "stdout",
     "output_type": "stream",
     "text": [
      "<_sre.SRE_Match object at 0x107381b28>\n"
     ]
    },
    {
     "data": {
      "text/plain": [
       "'about'"
      ]
     },
     "execution_count": 47,
     "metadata": {},
     "output_type": "execute_result"
    }
   ],
   "source": [
    "search_pattern = search('about', test_string)\n",
    "print search_pattern\n",
    "search_pattern.group()"
   ]
  },
  {
   "cell_type": "markdown",
   "metadata": {
    "collapsed": true
   },
   "source": [
    "#### `findall` - get a list of all matching patterns"
   ]
  },
  {
   "cell_type": "code",
   "execution_count": 48,
   "metadata": {
    "collapsed": false
   },
   "outputs": [
    {
     "data": {
      "text/plain": [
       "['about', 'about']"
      ]
     },
     "execution_count": 48,
     "metadata": {},
     "output_type": "execute_result"
    }
   ],
   "source": [
    "findall('about',test_string)"
   ]
  },
  {
   "cell_type": "code",
   "execution_count": 49,
   "metadata": {
    "collapsed": false
   },
   "outputs": [
    {
     "data": {
      "text/plain": [
       "['an', 'an']"
      ]
     },
     "execution_count": 49,
     "metadata": {},
     "output_type": "execute_result"
    }
   ],
   "source": [
    "findall('an',test_string)  # no good"
   ]
  },
  {
   "cell_type": "code",
   "execution_count": 50,
   "metadata": {
    "collapsed": false
   },
   "outputs": [
    {
     "data": {
      "text/plain": [
       "[]"
      ]
     },
     "execution_count": 50,
     "metadata": {},
     "output_type": "execute_result"
    }
   ],
   "source": [
    "findall(' an ',test_string)  # kinda hacky"
   ]
  },
  {
   "cell_type": "code",
   "execution_count": 51,
   "metadata": {
    "collapsed": false
   },
   "outputs": [
    {
     "data": {
      "text/plain": [
       "['about', 'about']"
      ]
     },
     "execution_count": 51,
     "metadata": {},
     "output_type": "execute_result"
    }
   ],
   "source": [
    "word = 'about'\n",
    "findall(r'\\b' + word + r'\\b', test_string)  # better"
   ]
  },
  {
   "cell_type": "code",
   "execution_count": 52,
   "metadata": {
    "collapsed": false
   },
   "outputs": [
    {
     "data": {
      "text/plain": [
       "2"
      ]
     },
     "execution_count": 52,
     "metadata": {},
     "output_type": "execute_result"
    }
   ],
   "source": [
    "word = 'about'\n",
    "test_string.count(word)  # count() is ok for simple searches"
   ]
  },
  {
   "cell_type": "markdown",
   "metadata": {},
   "source": [
    "#### Use `compile` to create regular expressions that you can then `search`, `findall`, `match`, ..."
   ]
  },
  {
   "cell_type": "code",
   "execution_count": 53,
   "metadata": {
    "collapsed": false
   },
   "outputs": [
    {
     "name": "stdout",
     "output_type": "stream",
     "text": [
      "['about', 'about']\n"
     ]
    }
   ],
   "source": [
    "word = 'about'\n",
    "expr = compile(r'\\b' + word + r'\\b')  # can get complex\n",
    "print findall(expr, test_string)"
   ]
  },
  {
   "cell_type": "markdown",
   "metadata": {},
   "source": [
    "++++++++++++++++++++++++++++++++++++++++++++++++++++++++++++++++++++++++++++++++++++++++++++++++++++++++++++++++++++++++"
   ]
  },
  {
   "cell_type": "markdown",
   "metadata": {},
   "source": [
    "## EXERCISE TIME!"
   ]
  },
  {
   "cell_type": "markdown",
   "metadata": {},
   "source": [
    "Redo the negative tweet exercise from above to perform exact matching. That is:<br>\n",
    "\n",
    "1) Using negative, find the 10 most common negative words in the tweets. Comment on any interesting observations.<br>\n",
    "2) For the most common negative word, print 10 tweets that contain it. Comment on any interesting observations."
   ]
  },
  {
   "cell_type": "markdown",
   "metadata": {},
   "source": [
    "++++++++++++++++++++++++++++++++++++++++++++++++++++++++++++++++++++++++++++++++++++++++++++++++++++++++++++++++++++++++"
   ]
  },
  {
   "cell_type": "markdown",
   "metadata": {},
   "source": [
    "# What is the distribution of negative word occurrence?\n",
    "\n",
    "**Let's plot it!**"
   ]
  },
  {
   "cell_type": "code",
   "execution_count": 75,
   "metadata": {
    "collapsed": false
   },
   "outputs": [],
   "source": [
    "import numpy as np\n",
    "import matplotlib.pyplot as plt\n",
    "%matplotlib inline"
   ]
  },
  {
   "cell_type": "code",
   "execution_count": 76,
   "metadata": {
    "collapsed": false
   },
   "outputs": [
    {
     "data": {
      "text/plain": [
       "[('just', 174),\n",
       " ('will', 134),\n",
       " ('pro', 108),\n",
       " ('right', 76),\n",
       " ('support', 64),\n",
       " ('star', 62),\n",
       " ('real', 56),\n",
       " ('respect', 52),\n",
       " ('interest', 46),\n",
       " ('bull', 44),\n",
       " ('hug', 44),\n",
       " ('gain', 43),\n",
       " ('fun', 42),\n",
       " ('friend', 38),\n",
       " ('white', 38),\n",
       " ('well', 34),\n",
       " ('slim', 32),\n",
       " ('supreme', 32),\n",
       " ('hope', 30),\n",
       " ('ease', 29),\n",
       " ('top', 27),\n",
       " ('important', 26),\n",
       " ('master', 24),\n",
       " ('hot', 21),\n",
       " ('favor', 18),\n",
       " ('good', 18),\n",
       " ('lean', 18),\n",
       " ('praising', 18),\n",
       " ('nice', 17),\n",
       " ('supporter', 16),\n",
       " ('even', 16),\n",
       " ('promise', 16),\n",
       " ('security', 16),\n",
       " ('sure', 16),\n",
       " ('live', 15),\n",
       " ('justice', 14),\n",
       " ('progress', 14),\n",
       " ('love', 14),\n",
       " ('rights', 14),\n",
       " ('chic', 14)]"
      ]
     },
     "execution_count": 76,
     "metadata": {},
     "output_type": "execute_result"
    }
   ],
   "source": [
    "common_words = Counter(positive_word_dict).most_common(40)\n",
    "common_words"
   ]
  },
  {
   "cell_type": "code",
   "execution_count": 77,
   "metadata": {
    "collapsed": false
   },
   "outputs": [],
   "source": [
    "ys = [i[1] for i in common_words]   # number of occurrences\n",
    "xs = [i[0] for i in common_words]   # words"
   ]
  },
  {
   "cell_type": "code",
   "execution_count": 78,
   "metadata": {
    "collapsed": false
   },
   "outputs": [
    {
     "data": {
      "image/png": "[encoded data removed]",
      "text/plain": [
       "<matplotlib.figure.Figure at 0x10e98cb10>"
      ]
     },
     "metadata": {},
     "output_type": "display_data"
    }
   ],
   "source": [
    "plt.figure(figsize=(18,8))  # set the canvas size\n",
    "plt.plot(ys, linewidth = 2)    # call a line plt\n",
    "pass"
   ]
  },
  {
   "cell_type": "code",
   "execution_count": 79,
   "metadata": {
    "collapsed": true
   },
   "outputs": [],
   "source": [
    "import seaborn as sns   # let's use seaborn in our plotting environment"
   ]
  },
  {
   "cell_type": "code",
   "execution_count": 80,
   "metadata": {
    "collapsed": false
   },
   "outputs": [
    {
     "data": {
      "image/png": "[encoded data removed]",
      "text/plain": [
       "<matplotlib.figure.Figure at 0x10e57a050>"
      ]
     },
     "metadata": {},
     "output_type": "display_data"
    }
   ],
   "source": [
    "plt.figure(figsize=(18,8))  # set the canvas size\n",
    "plt.plot(ys, linewidth = 2)    # call a line plt\n",
    "pass"
   ]
  },
  {
   "cell_type": "markdown",
   "metadata": {},
   "source": [
    "## Is this chart helpful?\n",
    "\n",
    "Where are the words??"
   ]
  },
  {
   "cell_type": "code",
   "execution_count": 90,
   "metadata": {
    "collapsed": false
   },
   "outputs": [
    {
     "data": {
      "image/png": "[encoded data removed]",
      "text/plain": [
       "<matplotlib.figure.Figure at 0x10fe63910>"
      ]
     },
     "metadata": {},
     "output_type": "display_data"
    }
   ],
   "source": [
    "plt.figure(figsize=(18,8))  # set the canvas size\n",
    "plt.plot(ys, linewidth = 2)    # call a line plt\n",
    "plt.xticks(range(len(xs)), xs, rotation = 40)\n",
    "pass"
   ]
  },
  {
   "cell_type": "markdown",
   "metadata": {},
   "source": [
    "## Distribution of word length"
   ]
  },
  {
   "cell_type": "code",
   "execution_count": 91,
   "metadata": {
    "collapsed": false,
    "scrolled": false
   },
   "outputs": [],
   "source": [
    "word_length_dict = {}\n",
    "for tweet in tweets:\n",
    "    for word in filter(None,tweet.translate(None, punctuation).split(' ')):\n",
    "        word_length_dict[len(word)] = word_length_dict.get(len(word),0) + 1"
   ]
  },
  {
   "cell_type": "code",
   "execution_count": 92,
   "metadata": {
    "collapsed": false
   },
   "outputs": [
    {
     "data": {
      "text/plain": [
       "{1: 614,\n",
       " 2: 3987,\n",
       " 3: 3940,\n",
       " 4: 3841,\n",
       " 5: 3381,\n",
       " 6: 1992,\n",
       " 7: 1530,\n",
       " 8: 1113,\n",
       " 9: 869,\n",
       " 10: 406,\n",
       " 11: 367,\n",
       " 12: 302,\n",
       " 13: 133,\n",
       " 14: 134,\n",
       " 15: 548,\n",
       " 16: 15,\n",
       " 17: 182,\n",
       " 18: 4,\n",
       " 19: 7,\n",
       " 20: 4,\n",
       " 21: 1,\n",
       " 22: 1,\n",
       " 25: 1,\n",
       " 27: 11,\n",
       " 30: 5,\n",
       " 33: 5,\n",
       " 44: 1}"
      ]
     },
     "execution_count": 92,
     "metadata": {},
     "output_type": "execute_result"
    }
   ],
   "source": [
    "word_length_dict"
   ]
  },
  {
   "cell_type": "code",
   "execution_count": 93,
   "metadata": {
    "collapsed": false
   },
   "outputs": [],
   "source": [
    "ys = [v for k, v in word_length_dict.items()]\n",
    "xs = [k for k, v in word_length_dict.items()]"
   ]
  },
  {
   "cell_type": "code",
   "execution_count": 94,
   "metadata": {
    "collapsed": false
   },
   "outputs": [
    {
     "data": {
      "image/png": "[encoded data removed]",
      "text/plain": [
       "<matplotlib.figure.Figure at 0x10e526790>"
      ]
     },
     "metadata": {},
     "output_type": "display_data"
    }
   ],
   "source": [
    "plt.figure(figsize=(18,8))\n",
    "plt.plot(ys, linewidth=2)\n",
    "plt.xticks(range(len(xs)), xs,rotation=35)\n",
    "plt.title(\"Distribution of word length\",size=16)\n",
    "plt.ylabel(\"Frequency\",size=14)\n",
    "plt.xlabel(\"Word length\",size=14)\n",
    "pass"
   ]
  },
  {
   "cell_type": "markdown",
   "metadata": {},
   "source": [
    "## Anyone notice something strange about the chart?"
   ]
  },
  {
   "cell_type": "code",
   "execution_count": 97,
   "metadata": {
    "collapsed": false
   },
   "outputs": [],
   "source": [
    "for i in range(max(word_length_dict.keys())):\n",
    "    if i not in word_length_dict.keys():\n",
    "        word_length_dict[i] = 0"
   ]
  },
  {
   "cell_type": "code",
   "execution_count": 98,
   "metadata": {
    "collapsed": false
   },
   "outputs": [
    {
     "data": {
      "text/plain": [
       "{0: 0,\n",
       " 1: 614,\n",
       " 2: 3987,\n",
       " 3: 3940,\n",
       " 4: 3841,\n",
       " 5: 3381,\n",
       " 6: 1992,\n",
       " 7: 1530,\n",
       " 8: 1113,\n",
       " 9: 869,\n",
       " 10: 406,\n",
       " 11: 367,\n",
       " 12: 302,\n",
       " 13: 133,\n",
       " 14: 134,\n",
       " 15: 548,\n",
       " 16: 15,\n",
       " 17: 182,\n",
       " 18: 4,\n",
       " 19: 7,\n",
       " 20: 4,\n",
       " 21: 1,\n",
       " 22: 1,\n",
       " 23: 0,\n",
       " 24: 0,\n",
       " 25: 1,\n",
       " 26: 0,\n",
       " 27: 11,\n",
       " 28: 0,\n",
       " 29: 0,\n",
       " 30: 5,\n",
       " 31: 0,\n",
       " 32: 0,\n",
       " 33: 5,\n",
       " 34: 0,\n",
       " 35: 0,\n",
       " 36: 0,\n",
       " 37: 0,\n",
       " 38: 0,\n",
       " 39: 0,\n",
       " 40: 0,\n",
       " 41: 0,\n",
       " 42: 0,\n",
       " 43: 0,\n",
       " 44: 1}"
      ]
     },
     "execution_count": 98,
     "metadata": {},
     "output_type": "execute_result"
    }
   ],
   "source": [
    "word_length_dict"
   ]
  },
  {
   "cell_type": "code",
   "execution_count": 99,
   "metadata": {
    "collapsed": true
   },
   "outputs": [],
   "source": [
    "ys = [v for k, v in word_length_dict.items()]\n",
    "xs = [k for k, v in word_length_dict.items()]"
   ]
  },
  {
   "cell_type": "code",
   "execution_count": 100,
   "metadata": {
    "collapsed": false
   },
   "outputs": [
    {
     "data": {
      "image/png": "[encoded data removed]",
      "text/plain": [
       "<matplotlib.figure.Figure at 0x10db43fd0>"
      ]
     },
     "metadata": {},
     "output_type": "display_data"
    }
   ],
   "source": [
    "plt.figure(figsize=(18,8))\n",
    "plt.plot(ys,linewidth=2)\n",
    "plt.xticks(range(len(xs)), xs,rotation=35)\n",
    "plt.title(\"Distribution of word length\",size=16)\n",
    "plt.ylabel(\"Frequency\",size=14)\n",
    "plt.xlabel(\"Word length\",size=14)\n",
    "pass"
   ]
  },
  {
   "cell_type": "markdown",
   "metadata": {},
   "source": [
    "## n-grams\n",
    "\n",
    "<ul>\n",
    "<li>Single word counts is ok, but for richer text analysis might want combinations of words\n",
    "<li>bi-grams, tri-grams, ..., n-grams\n",
    "</ul>"
   ]
  },
  {
   "cell_type": "code",
   "execution_count": 101,
   "metadata": {
    "collapsed": false
   },
   "outputs": [],
   "source": [
    "# example of bi grams of first tweet\n",
    "\n",
    "tweet = tweets[0].split(' ')\n",
    "bigrams = []\n",
    "\n",
    "for i in range(len(tweet)-1): # need to stop 1 element before the end\n",
    "    bigrams.append((tweet[i], tweet[i+1]))"
   ]
  },
  {
   "cell_type": "code",
   "execution_count": 102,
   "metadata": {
    "collapsed": false
   },
   "outputs": [
    {
     "data": {
      "text/plain": [
       "[('Obama', 'has'),\n",
       " ('has', 'called'),\n",
       " ('called', 'the'),\n",
       " ('the', 'GOP'),\n",
       " ('GOP', 'budget'),\n",
       " ('budget', 'social'),\n",
       " ('social', 'Darwinism.'),\n",
       " ('Darwinism.', 'Nice'),\n",
       " ('Nice', 'try,'),\n",
       " ('try,', 'but'),\n",
       " ('but', 'they'),\n",
       " ('they', 'believe'),\n",
       " ('believe', 'in'),\n",
       " ('in', 'social'),\n",
       " ('social', 'creationism.')]"
      ]
     },
     "execution_count": 102,
     "metadata": {},
     "output_type": "execute_result"
    }
   ],
   "source": [
    "bigrams"
   ]
  },
  {
   "cell_type": "code",
   "execution_count": 103,
   "metadata": {
    "collapsed": false
   },
   "outputs": [],
   "source": [
    "# example of trigrams of first tweet\n",
    "\n",
    "tweet = tweets[0].split(' ')\n",
    "trigrams = []\n",
    "\n",
    "for i in range(len(tweet)-2):\n",
    "    trigrams.append((tweet[i], tweet[i+1], tweet[i+2]))"
   ]
  },
  {
   "cell_type": "code",
   "execution_count": 104,
   "metadata": {
    "collapsed": false
   },
   "outputs": [
    {
     "data": {
      "text/plain": [
       "[('Obama', 'has', 'called'),\n",
       " ('has', 'called', 'the'),\n",
       " ('called', 'the', 'GOP'),\n",
       " ('the', 'GOP', 'budget'),\n",
       " ('GOP', 'budget', 'social'),\n",
       " ('budget', 'social', 'Darwinism.'),\n",
       " ('social', 'Darwinism.', 'Nice'),\n",
       " ('Darwinism.', 'Nice', 'try,'),\n",
       " ('Nice', 'try,', 'but'),\n",
       " ('try,', 'but', 'they'),\n",
       " ('but', 'they', 'believe'),\n",
       " ('they', 'believe', 'in'),\n",
       " ('believe', 'in', 'social'),\n",
       " ('in', 'social', 'creationism.')]"
      ]
     },
     "execution_count": 104,
     "metadata": {},
     "output_type": "execute_result"
    }
   ],
   "source": [
    "trigrams"
   ]
  },
  {
   "cell_type": "markdown",
   "metadata": {},
   "source": [
    "+++++++++++++++++++++++++++++++++++++++++++++++++++++++++++++++++++++++++++++++++++++++++++++++++++++++"
   ]
  },
  {
   "cell_type": "markdown",
   "metadata": {},
   "source": [
    "## EXERCISE TIME\n",
    "\n",
    "1. Write your own bigram function. Do this without using a for loop. Hint - look up the `zip` function.\n",
    "2. Do the same for tri grams."
   ]
  },
  {
   "cell_type": "markdown",
   "metadata": {},
   "source": [
    "+++++++++++++++++++++++++++++++++++++++++++++++++++++++++++++++++++++++++++++++++++++++++++++++++++++++"
   ]
  },
  {
   "cell_type": "markdown",
   "metadata": {},
   "source": [
    "# Take Away\n",
    "\n",
    "<ul>\n",
    "<li>Manipulating strings and text analysis\n",
    "<li>Reading files from the web and local \n",
    "<li>Basic plotting\n",
    "</ul>"
   ]
  },
  {
   "cell_type": "markdown",
   "metadata": {},
   "source": [
    "Review Problems<a id=\"hmwk\"></a>\n",
    "===="
   ]
  },
  {
   "cell_type": "markdown",
   "metadata": {},
   "source": [
    "**Q1**.\n",
    "\n",
    "Write a function to remove vowels from a string. Stick to base python only."
   ]
  },
  {
   "cell_type": "markdown",
   "metadata": {},
   "source": [
    "#### Q2. \n",
    "For the next few questions, read in `Through the Looking glass` from Project Gutenberg (`pg12.txt`). "
   ]
  },
  {
   "cell_type": "code",
   "execution_count": 72,
   "metadata": {
    "collapsed": false
   },
   "outputs": [
    {
     "name": "stdout",
     "output_type": "stream",
     "text": [
      "  % Total    % Received % Xferd  Average Speed   Time    Time     Time  Current\n",
      "                                 Dload  Upload   Total   Spent    Left  Speed\n",
      "100  181k  100  181k    0     0   236k      0 --:--:-- --:--:-- --:--:--  236k\n",
      "<html>\n",
      "<head><title>301 Moved Permanently</title></head>\n",
      "<body bgcolor=\"white\">\n",
      "<center><h1>301 Moved Permanently</h1></center>\n",
      "<hr><center>nginx</center>\n",
      "</body>\n",
      "</html>\n"
     ]
    }
   ],
   "source": [
    "import os\n",
    "\n",
    "if not os.path.exists('alice.txt'):\n",
    "    ! curl http://www.gutenberg.org/cache/epub/12/pg12.txt -O alice.txt        "
   ]
  },
  {
   "cell_type": "code",
   "execution_count": 73,
   "metadata": {
    "collapsed": false
   },
   "outputs": [
    {
     "name": "stdout",
     "output_type": "stream",
     "text": [
      "﻿The Project Gutenberg EBook of Through the Looking-Glass, by\r\n",
      "Charles Dodgson                         AKA Lewis Carroll\r\n",
      "\r\n",
      "This eBook is for the use of anyone anywhere at no cost and with\r\n",
      "almost no restrictions whatsoever.  You may copy it, give it away or\r\n",
      "re-use it under the terms of the Project Gutenberg License included\r\n",
      "with this eBook or online at www.gutenberg.org\r\n",
      "\r\n",
      "\r\n",
      "Title: Through the Looking-Glass\r\n",
      "\r\n",
      "Author: Charles Dodgson, AKA Lewis Carroll\r\n",
      "\r\n",
      "Last updated: December 29, 2008\r\n",
      "Posting Date: June 25, 2008 [EBook #12]\r\n",
      "Release Date: February, 1991\r\n",
      "\r\n",
      "Language: English\r\n",
      "\r\n",
      "\r\n",
      "*** START OF THIS PROJECT GUTENBERG EBOOK THROUGH THE LOOKING-GLASS ***\r\n",
      "\r\n",
      "\r\n",
      "\r\n",
      "\r\n",
      "\r\n",
      "\r\n",
      "\r\n",
      "\r\n",
      "\r\n",
      "\r\n",
      "THROUGH THE LOOKING-GLASS\r\n",
      "\r\n",
      "By Lewis Carroll\r\n",
      "\r\n",
      "\r\n",
      "The Millennium Fulcrum Edition 1.7\r\n",
      "\r\n",
      "\r\n",
      "\r\n",
      "\r\n",
      "CHAPTER I. Looking-Glass house\r\n",
      "\r\n",
      "One thing was certain, that the WHITE kitten had had nothing to do with\r\n",
      "it:--it was the black kitten's fault entirely. For the white kitten had\r\n",
      "been having its face washed by the old\n"
     ]
    }
   ],
   "source": [
    "poem = open('pg12.txt').read()  # read in file\n",
    "print poem[:1000]"
   ]
  },
  {
   "cell_type": "markdown",
   "metadata": {},
   "source": [
    "**A)**. Print the subset starting from `'JABBERWOCKY'` and ending with `'It seems very pretty.'`"
   ]
  },
  {
   "cell_type": "markdown",
   "metadata": {},
   "source": [
    "**B)**. Print all *distinct* palindromic words, if any. Remember to 'standardize' first."
   ]
  },
  {
   "cell_type": "markdown",
   "metadata": {},
   "source": [
    "**C)**. Find all possible sequences of 3 words in the poem. This is called a trigram. (Hint: use `zip` or `islice` from `itertools`)"
   ]
  },
  {
   "cell_type": "markdown",
   "metadata": {},
   "source": [
    "**Q3**.\n",
    "\n",
    "Plot a similar distribution for the positive word count. The differences are:\n",
    "\n",
    "<ul>\n",
    "<li>Plot top 30 positive words only\n",
    "<li>Change the figure size\n",
    "<li>Change the rotation of the xticks\n",
    "<li>Change the linewidth and color\n",
    "</ul>\n",
    "\n",
    "Feel free to use the existing code as a template.<br>\n",
    "\n",
    "As an extra challenge, instead of plotting the count of each positive word in ascending order, plot the cumulative count of the positive words, as a % of the total count of positive words, for the first 30. Your chart should look something like this:\n",
    "\n",
    "<img id=\"cumulative\" src=\"../images/cumulative.png\"/>\n",
    "\n",
    "\n"
   ]
  },
  {
   "cell_type": "markdown",
   "metadata": {},
   "source": [
    "# BONUS QUESTION!\n",
    "\n",
    "**Q1**. Encode and decode `Through the Looking Glass` using a [Caesar cipher](https://en.wikipedia.org/wiki/Caesar_cipher) <br>\n",
    "\n",
    "Hint: create a function `encode(poem, shift)` where `shift` is the number of characters used to encode the cipher. It should return the encoded poem. Can you also use this function to return the decoded cipher? Check out the `maketrans` function in `string`"
   ]
  }
 ],
 "metadata": {
  "kernelspec": {
   "display_name": "Python 2",
   "language": "python",
   "name": "python2"
  },
  "language_info": {
   "codemirror_mode": {
    "name": "ipython",
    "version": 2
   },
   "file_extension": ".py",
   "mimetype": "text/x-python",
   "name": "python",
   "nbconvert_exporter": "python",
   "pygments_lexer": "ipython2",
   "version": "2.7.10"
  }
 },
 "nbformat": 4,
 "nbformat_minor": 0
}
