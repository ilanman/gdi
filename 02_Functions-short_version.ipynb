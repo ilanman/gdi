{
 "cells": [
  {
   "cell_type": "code",
   "execution_count": 1,
   "metadata": {
    "collapsed": false
   },
   "outputs": [],
   "source": [
    "import numpy as np\n",
    "import matplotlib.pyplot as plt\n",
    "%matplotlib inline"
   ]
  },
  {
   "cell_type": "markdown",
   "metadata": {},
   "source": [
    "Functions\n",
    "======="
   ]
  },
  {
   "cell_type": "markdown",
   "metadata": {},
   "source": [
    "1. [Basics](#basics)\n",
    "2. [First class functions](#firstclass)\n",
    "3. [Higher order functions](#higherorder)\n",
    "4. [Anonymous functions](#anonymous)\n",
    "5. [Pure functions](#pure)\n",
    "6. [Recursion](#recursion)\n",
    "7. [Iterators](#iterators)\n",
    "8. [Generators](#generators)\n",
    "9. [Modules](#modules)\n",
    "<ol>\n",
    "<li>Operator\n",
    "<li>Itertools\n",
    "<li>Functools\n",
    "<li>Custom modules\n",
    "</ol>\n",
    "11. [Homework](#hmwk)"
   ]
  },
  {
   "cell_type": "markdown",
   "metadata": {},
   "source": [
    "## Basics <a id='basics'></a>"
   ]
  },
  {
   "cell_type": "code",
   "execution_count": 12,
   "metadata": {
    "collapsed": true
   },
   "outputs": [],
   "source": [
    "def do_math(a,b):\n",
    "    \"\"\"These are doc strings. They are useful. \"\"\"\n",
    "\n",
    "    add = a + b\n",
    "    subtract = a - b\n",
    "    multiply = a * b\n",
    "    divide = a/b\n",
    "    exponentiate = a**b\n",
    "    \n",
    "    # return more than one object\n",
    "    return add, subtract, multiply, divide, exponentiate\n"
   ]
  },
  {
   "cell_type": "code",
   "execution_count": 13,
   "metadata": {
    "collapsed": false
   },
   "outputs": [
    {
     "name": "stdout",
     "output_type": "stream",
     "text": [
      "These are doc strings. They are useful. \n"
     ]
    }
   ],
   "source": [
    "print do_math.__doc__"
   ]
  },
  {
   "cell_type": "code",
   "execution_count": 16,
   "metadata": {
    "collapsed": false,
    "scrolled": true
   },
   "outputs": [
    {
     "name": "stdout",
     "output_type": "stream",
     "text": [
      "\n",
      "    Matrix or vector norm.\n",
      "\n",
      "    This function is able to return one of eight different matrix norms,\n",
      "    or one of an infinite number of vector norms (described below), depending\n",
      "    on the value of the ``ord`` parameter.\n",
      "\n",
      "    Parameters\n",
      "    ----------\n",
      "    x : array_like\n",
      "        Input array.  If `axis` is None, `x` must be 1-D or 2-D.\n",
      "    ord : {non-zero int, inf, -inf, 'fro', 'nuc'}, optional\n",
      "        Order of the norm (see table under ``Notes``). inf means numpy's\n",
      "        `inf` object.\n",
      "    axis : {int, 2-tuple of ints, None}, optional\n",
      "        If `axis` is an integer, it specifies the axis of `x` along which to\n",
      "        compute the vector norms.  If `axis` is a 2-tuple, it specifies the\n",
      "        axes that hold 2-D matrices, and the matrix norms of these matrices\n",
      "        are computed.  If `axis` is None then either a vector norm (when `x`\n",
      "        is 1-D) or a matrix norm (when `x` is 2-D) is returned.\n",
      "    keepdims : bool, optional\n",
      "        If this is set to True, the axes which are normed over are left in the\n",
      "        result as dimensions with size one.  With this option the result will\n",
      "        broadcast correctly against the original `x`.\n",
      "\n",
      "        .. versionadded:: 1.10.0\n",
      "\n",
      "    Returns\n",
      "    -------\n",
      "    n : float or ndarray\n",
      "        Norm of the matrix or vector(s).\n",
      "\n",
      "    Notes\n",
      "    -----\n",
      "    For values of ``ord <= 0``, the result is, strictly speaking, not a\n",
      "    mathematical 'norm', but it may still be useful for various numerical\n",
      "    purposes.\n",
      "\n",
      "    The following norms can be calculated:\n",
      "\n",
      "    =====  ============================  ==========================\n",
      "    ord    norm for matrices             norm for vectors\n",
      "    =====  ============================  ==========================\n",
      "    None   Frobenius norm                2-norm\n",
      "    'fro'  Frobenius norm                --\n",
      "    'nuc'  nuclear norm                  --\n",
      "    inf    max(sum(abs(x), axis=1))      max(abs(x))\n",
      "    -inf   min(sum(abs(x), axis=1))      min(abs(x))\n",
      "    0      --                            sum(x != 0)\n",
      "    1      max(sum(abs(x), axis=0))      as below\n",
      "    -1     min(sum(abs(x), axis=0))      as below\n",
      "    2      2-norm (largest sing. value)  as below\n",
      "    -2     smallest singular value       as below\n",
      "    other  --                            sum(abs(x)**ord)**(1./ord)\n",
      "    =====  ============================  ==========================\n",
      "\n",
      "    The Frobenius norm is given by [1]_:\n",
      "\n",
      "        :math:`||A||_F = [\\sum_{i,j} abs(a_{i,j})^2]^{1/2}`\n",
      "\n",
      "    The nuclear norm is the sum of the singular values.\n",
      "\n",
      "    References\n",
      "    ----------\n",
      "    .. [1] G. H. Golub and C. F. Van Loan, *Matrix Computations*,\n",
      "           Baltimore, MD, Johns Hopkins University Press, 1985, pg. 15\n",
      "\n",
      "    Examples\n",
      "    --------\n",
      "    >>> from numpy import linalg as LA\n",
      "    >>> a = np.arange(9) - 4\n",
      "    >>> a\n",
      "    array([-4, -3, -2, -1,  0,  1,  2,  3,  4])\n",
      "    >>> b = a.reshape((3, 3))\n",
      "    >>> b\n",
      "    array([[-4, -3, -2],\n",
      "           [-1,  0,  1],\n",
      "           [ 2,  3,  4]])\n",
      "\n",
      "    >>> LA.norm(a)\n",
      "    7.745966692414834\n",
      "    >>> LA.norm(b)\n",
      "    7.745966692414834\n",
      "    >>> LA.norm(b, 'fro')\n",
      "    7.745966692414834\n",
      "    >>> LA.norm(a, np.inf)\n",
      "    4.0\n",
      "    >>> LA.norm(b, np.inf)\n",
      "    9.0\n",
      "    >>> LA.norm(a, -np.inf)\n",
      "    0.0\n",
      "    >>> LA.norm(b, -np.inf)\n",
      "    2.0\n",
      "\n",
      "    >>> LA.norm(a, 1)\n",
      "    20.0\n",
      "    >>> LA.norm(b, 1)\n",
      "    7.0\n",
      "    >>> LA.norm(a, -1)\n",
      "    -4.6566128774142013e-010\n",
      "    >>> LA.norm(b, -1)\n",
      "    6.0\n",
      "    >>> LA.norm(a, 2)\n",
      "    7.745966692414834\n",
      "    >>> LA.norm(b, 2)\n",
      "    7.3484692283495345\n",
      "\n",
      "    >>> LA.norm(a, -2)\n",
      "    nan\n",
      "    >>> LA.norm(b, -2)\n",
      "    1.8570331885190563e-016\n",
      "    >>> LA.norm(a, 3)\n",
      "    5.8480354764257312\n",
      "    >>> LA.norm(a, -3)\n",
      "    nan\n",
      "\n",
      "    Using the `axis` argument to compute vector norms:\n",
      "\n",
      "    >>> c = np.array([[ 1, 2, 3],\n",
      "    ...               [-1, 1, 4]])\n",
      "    >>> LA.norm(c, axis=0)\n",
      "    array([ 1.41421356,  2.23606798,  5.        ])\n",
      "    >>> LA.norm(c, axis=1)\n",
      "    array([ 3.74165739,  4.24264069])\n",
      "    >>> LA.norm(c, ord=1, axis=1)\n",
      "    array([ 6.,  6.])\n",
      "\n",
      "    Using the `axis` argument to compute matrix norms:\n",
      "\n",
      "    >>> m = np.arange(8).reshape(2,2,2)\n",
      "    >>> LA.norm(m, axis=(1,2))\n",
      "    array([  3.74165739,  11.22497216])\n",
      "    >>> LA.norm(m[0, :, :]), LA.norm(m[1, :, :])\n",
      "    (3.7416573867739413, 11.224972160321824)\n",
      "\n",
      "    \n"
     ]
    }
   ],
   "source": [
    "print np.linalg.norm.__doc__"
   ]
  },
  {
   "cell_type": "code",
   "execution_count": 17,
   "metadata": {
    "collapsed": false
   },
   "outputs": [
    {
     "name": "stdout",
     "output_type": "stream",
     "text": [
      "(9, -1, 20, 0, 1024)\n"
     ]
    }
   ],
   "source": [
    "a, b = 4, 5  # variable assignments on single line\n",
    "\n",
    "print do_math(a,b)"
   ]
  },
  {
   "cell_type": "code",
   "execution_count": 18,
   "metadata": {
    "collapsed": false
   },
   "outputs": [
    {
     "name": "stdout",
     "output_type": "stream",
     "text": [
      "9 1024\n"
     ]
    }
   ],
   "source": [
    "sum_, diff_, prod_, quot_, exp_ = do_math(a,b)\n",
    "print sum_, exp_"
   ]
  },
  {
   "cell_type": "code",
   "execution_count": 19,
   "metadata": {
    "collapsed": false
   },
   "outputs": [
    {
     "name": "stdout",
     "output_type": "stream",
     "text": [
      "4\n"
     ]
    }
   ],
   "source": [
    "d = sum_ - 5\n",
    "print d"
   ]
  },
  {
   "cell_type": "code",
   "execution_count": 20,
   "metadata": {
    "collapsed": false
   },
   "outputs": [
    {
     "name": "stdout",
     "output_type": "stream",
     "text": [
      "4 5\n"
     ]
    }
   ],
   "source": [
    "print a, b"
   ]
  },
  {
   "cell_type": "markdown",
   "metadata": {},
   "source": [
    "++++++++++++++++++++++++++++++++++++++++++++++++++++++++++++++++++++++++++++++++++++++++++++++++++++++++++++++++"
   ]
  },
  {
   "cell_type": "markdown",
   "metadata": {},
   "source": [
    "## EXERCISE TIME!\n",
    "\n",
    "Write a function `median(u)` that finds the median in a list of numbers.\n",
    "\n",
    "Assume that the input is a valid list. For example `median([-1,2,30])` should return `2` and `median([-1,40,3,2])` should return `2.5`"
   ]
  },
  {
   "cell_type": "markdown",
   "metadata": {},
   "source": [
    "++++++++++++++++++++++++++++++++++++++++++++++++++++++++++++++++++++++++++++++++++++++++++++++++++++++++++++++++"
   ]
  },
  {
   "cell_type": "code",
   "execution_count": 5,
   "metadata": {
    "collapsed": false
   },
   "outputs": [
    {
     "data": {
      "text/plain": [
       "2.5"
      ]
     },
     "execution_count": 5,
     "metadata": {},
     "output_type": "execute_result"
    }
   ],
   "source": [
    "## SOLUTION\n",
    "\n",
    "def median(u):\n",
    "    \n",
    "    N = len(u)\n",
    "    \n",
    "    if N % 2 != 0:\n",
    "        return sorted(u)[(N-1)/2]\n",
    "    \n",
    "    else:\n",
    "        return (sorted(u)[N/2] + sorted(u)[(N-1)/2])/2.\n",
    "\n",
    "median([-1,2,3,40])"
   ]
  },
  {
   "cell_type": "markdown",
   "metadata": {},
   "source": [
    "## First class functions <a id='firstclass'></a>\n",
    "\n",
    "Functions behave like any other object, such as an `int` or a `list`\n",
    "<ul>\n",
    "<li>use functions as arguments to other functions\n",
    "<li>store functions as dictionary values\n",
    "<li>return a function from another function\n",
    "</ul>\n",
    "\n",
    "This leads to many powerful ways to use functions.\n"
   ]
  },
  {
   "cell_type": "code",
   "execution_count": 110,
   "metadata": {
    "collapsed": false
   },
   "outputs": [],
   "source": [
    "def square(x):\n",
    "    \"\"\"Square of x.\"\"\"\n",
    "    return x*x\n",
    "\n",
    "def cube(x):\n",
    "    \"\"\"Cube of x.\"\"\"\n",
    "    return x*x*x\n",
    "\n",
    "def root(x):\n",
    "    \"\"\"Square root of x.\"\"\"\n",
    "    return x**.5"
   ]
  },
  {
   "cell_type": "code",
   "execution_count": 111,
   "metadata": {
    "collapsed": false
   },
   "outputs": [],
   "source": [
    "# create a dictionary of functions\n",
    "funcs = {\n",
    "    'square': square,\n",
    "    'cube': cube,\n",
    "    'root': root,\n",
    "}"
   ]
  },
  {
   "cell_type": "code",
   "execution_count": 112,
   "metadata": {
    "collapsed": false
   },
   "outputs": [
    {
     "name": "stdout",
     "output_type": "stream",
     "text": [
      "4\n",
      "8\n",
      "1.41421356237\n"
     ]
    }
   ],
   "source": [
    "x = 2\n",
    "\n",
    "print square(x)\n",
    "print cube(x)\n",
    "print root(x)"
   ]
  },
  {
   "cell_type": "code",
   "execution_count": 114,
   "metadata": {
    "collapsed": false
   },
   "outputs": [
    {
     "name": "stdout",
     "output_type": "stream",
     "text": [
      "cube 8\n",
      "root 1.41421356237\n",
      "square 4\n"
     ]
    }
   ],
   "source": [
    "# print function name and output, sorted by function name\n",
    "for func_name in sorted(funcs):\n",
    "    print func_name, funcs[func_name](x)"
   ]
  },
  {
   "cell_type": "markdown",
   "metadata": {},
   "source": [
    "### Functions can be passed in as arguments"
   ]
  },
  {
   "cell_type": "code",
   "execution_count": 130,
   "metadata": {
    "collapsed": true
   },
   "outputs": [],
   "source": [
    "def derivative(x, f, h=0.01):\n",
    "    \"\"\" Calculate the derivative of any continuous, differentiable function \"\"\"\n",
    "    \n",
    "    return (f(x+h) - f(x-h))/(2*h)"
   ]
  },
  {
   "cell_type": "markdown",
   "metadata": {},
   "source": [
    "$$ f(x) = 3x^2 + 5x + 3$$"
   ]
  },
  {
   "cell_type": "code",
   "execution_count": 131,
   "metadata": {
    "collapsed": true
   },
   "outputs": [],
   "source": [
    "def some_func(x):    \n",
    "    return 3*x**2 + 5*x + 3"
   ]
  },
  {
   "cell_type": "code",
   "execution_count": 134,
   "metadata": {
    "collapsed": false
   },
   "outputs": [
    {
     "data": {
      "text/plain": [
       "16.999999999999815"
      ]
     },
     "execution_count": 134,
     "metadata": {},
     "output_type": "execute_result"
    }
   ],
   "source": [
    "derivative(2, some_func) # passing in function f"
   ]
  },
  {
   "cell_type": "markdown",
   "metadata": {},
   "source": [
    "### Functions can also be returned by functions"
   ]
  },
  {
   "cell_type": "code",
   "execution_count": 144,
   "metadata": {
    "collapsed": false
   },
   "outputs": [],
   "source": [
    "import time\n",
    "\n",
    "def sum_squares(n):\n",
    "    \"\"\" Sum of the squares from 1 to n \"\"\"\n",
    "    \n",
    "    s = sum([x*x for x in range(n)])\n",
    "    return s\n",
    "\n",
    "def timer(f,n):\n",
    "    \"\"\" time how long it takes to evaluate function \"\"\"\n",
    "    \n",
    "    start = time.clock()\n",
    "    result = f(n)   \n",
    "    elapsed = time.clock() - start\n",
    "    return result, elapsed"
   ]
  },
  {
   "cell_type": "code",
   "execution_count": 146,
   "metadata": {
    "collapsed": false
   },
   "outputs": [
    {
     "data": {
      "text/plain": [
       "(333332833333500000, 0.10474499999999987)"
      ]
     },
     "execution_count": 146,
     "metadata": {},
     "output_type": "execute_result"
    }
   ],
   "source": [
    "n = 1000000\n",
    "timer(sum_squares, n)"
   ]
  },
  {
   "cell_type": "markdown",
   "metadata": {},
   "source": [
    "## Higher order functions<a id='higherorder'></a>\n",
    "\n",
    "<ul>\n",
    "<li>A function that uses another function as an input argument or returns a function\n",
    "<li>The most familiar are `map` and `filter`.\n",
    "<li>Custom functions are HOF\n",
    "</ul>"
   ]
  },
  {
   "cell_type": "code",
   "execution_count": 147,
   "metadata": {
    "collapsed": false
   },
   "outputs": [
    {
     "data": {
      "text/plain": [
       "[0, 1, 4, 9, 16, 25, 36, 49, 64, 81]"
      ]
     },
     "execution_count": 147,
     "metadata": {},
     "output_type": "execute_result"
    }
   ],
   "source": [
    "# The map function applies a function to each member of a collection\n",
    "\n",
    "map(square, range(10))"
   ]
  },
  {
   "cell_type": "code",
   "execution_count": 148,
   "metadata": {
    "collapsed": false
   },
   "outputs": [
    {
     "data": {
      "text/plain": [
       "[0, 2, 4, 6, 8]"
      ]
     },
     "execution_count": 148,
     "metadata": {},
     "output_type": "execute_result"
    }
   ],
   "source": [
    "# The filter function applies a predicate to each member of a collection,\n",
    "# retaining only those members where the predicate is True\n",
    "\n",
    "def is_even(x):\n",
    "    return x % 2 == 0\n",
    "\n",
    "filter(is_even, range(10))"
   ]
  },
  {
   "cell_type": "code",
   "execution_count": 149,
   "metadata": {
    "collapsed": false
   },
   "outputs": [
    {
     "data": {
      "text/plain": [
       "[0, 4, 16, 36, 64]"
      ]
     },
     "execution_count": 149,
     "metadata": {},
     "output_type": "execute_result"
    }
   ],
   "source": [
    "# It is common to combine map and filter\n",
    "\n",
    "map(square, filter(is_even, range(10)))"
   ]
  },
  {
   "cell_type": "code",
   "execution_count": 230,
   "metadata": {
    "collapsed": false
   },
   "outputs": [
    {
     "data": {
      "text/plain": [
       "15"
      ]
     },
     "execution_count": 230,
     "metadata": {},
     "output_type": "execute_result"
    }
   ],
   "source": [
    "# The reduce function reduces a collection using a binary operator to combine items two at a time\n",
    "\n",
    "def my_add(x, y):\n",
    "    return x + y\n",
    "\n",
    "# another implementation of the sum function - like a running total\n",
    "reduce(my_add, [1,2,3,4,5])"
   ]
  },
  {
   "cell_type": "code",
   "execution_count": 150,
   "metadata": {
    "collapsed": false
   },
   "outputs": [
    {
     "name": "stdout",
     "output_type": "stream",
     "text": [
      "285\n",
      "2025\n",
      "19.306000526\n"
     ]
    }
   ],
   "source": [
    "def custom_sum(xs, transform):\n",
    "    \"\"\"Returns the sum of xs after a user specified transform.\"\"\"\n",
    "    \n",
    "    return sum(map(transform, xs))\n",
    "\n",
    "xs = range(10)\n",
    "print custom_sum(xs, square)\n",
    "print custom_sum(xs, cube)\n",
    "print custom_sum(xs, root)"
   ]
  },
  {
   "cell_type": "markdown",
   "metadata": {},
   "source": [
    "## Anonymous functions<a id='anonymous'></a>\n",
    "\n",
    "<ul>\n",
    "<li>When using functional style, there is often the need to create small specific functions that perform a limited task as input to a HOF such as map or filter.\n",
    "<li>In such cases, these functions are often written as anonymous or **lambda** functions. \n",
    "</ul>\n",
    "\n",
    "*If you find it hard to understand what a lambda function is doing, it should probably be rewritten as a regular function.*"
   ]
  },
  {
   "cell_type": "code",
   "execution_count": 151,
   "metadata": {
    "collapsed": false
   },
   "outputs": [
    {
     "data": {
      "text/plain": [
       "100"
      ]
     },
     "execution_count": 151,
     "metadata": {},
     "output_type": "execute_result"
    }
   ],
   "source": [
    "# Using standard functions\n",
    "n = 10\n",
    "\n",
    "def square(x):\n",
    "    return x*x\n",
    "\n",
    "square(n)"
   ]
  },
  {
   "cell_type": "code",
   "execution_count": 152,
   "metadata": {
    "collapsed": false
   },
   "outputs": [
    {
     "data": {
      "text/plain": [
       "[0, 1, 4, 9, 16, 25, 36, 49, 64, 81]"
      ]
     },
     "execution_count": 152,
     "metadata": {},
     "output_type": "execute_result"
    }
   ],
   "source": [
    "map(square, range(n))"
   ]
  },
  {
   "cell_type": "code",
   "execution_count": 153,
   "metadata": {
    "collapsed": false
   },
   "outputs": [
    {
     "data": {
      "text/plain": [
       "100"
      ]
     },
     "execution_count": 153,
     "metadata": {},
     "output_type": "execute_result"
    }
   ],
   "source": [
    "# Using lambda function\n",
    "\n",
    "sqr = lambda x: x*x\n",
    "\n",
    "sqr(n)"
   ]
  },
  {
   "cell_type": "code",
   "execution_count": 154,
   "metadata": {
    "collapsed": false
   },
   "outputs": [
    {
     "data": {
      "text/plain": [
       "[0, 1, 4, 9, 16, 25, 36, 49, 64, 81]"
      ]
     },
     "execution_count": 154,
     "metadata": {},
     "output_type": "execute_result"
    }
   ],
   "source": [
    "map(sqr, range(n))"
   ]
  },
  {
   "cell_type": "code",
   "execution_count": 155,
   "metadata": {
    "collapsed": false
   },
   "outputs": [
    {
     "name": "stdout",
     "output_type": "stream",
     "text": [
      "285\n"
     ]
    }
   ],
   "source": [
    "# what does this function do?\n",
    "\n",
    "s1 = reduce(lambda x, y: x+y, map(lambda x: x**2, range(1,10)))\n",
    "print(s1)"
   ]
  },
  {
   "cell_type": "code",
   "execution_count": 156,
   "metadata": {
    "collapsed": false
   },
   "outputs": [
    {
     "name": "stdout",
     "output_type": "stream",
     "text": [
      "285\n"
     ]
    }
   ],
   "source": [
    "# functional expressions and lambdas are cool\n",
    "# but can be difficult to read when over-used\n",
    "# Here is a more comprehensible version\n",
    "\n",
    "s2 = sum(x**2 for x in range(1, 10))\n",
    "print(s2)"
   ]
  },
  {
   "cell_type": "markdown",
   "metadata": {},
   "source": [
    "++++++++++++++++++++++++++++++++++++++++++++++++++++++++++++++++++++++++++++++++++++++++++++++++++++++++++++++++"
   ]
  },
  {
   "cell_type": "markdown",
   "metadata": {},
   "source": [
    "## EXERCISE TIME!\n",
    "\n",
    "Rewrite the following as a list comprehension, i.e. one liner without using `map` or `filter`"
   ]
  },
  {
   "cell_type": "code",
   "execution_count": 159,
   "metadata": {
    "collapsed": false
   },
   "outputs": [
    {
     "name": "stdout",
     "output_type": "stream",
     "text": [
      "[0, 4, 16, 36, 64]\n"
     ]
    }
   ],
   "source": [
    "ans = map(lambda x: x*x, filter(lambda x: x%2 == 0, range(10)))\n",
    "print ans"
   ]
  },
  {
   "cell_type": "markdown",
   "metadata": {},
   "source": [
    "++++++++++++++++++++++++++++++++++++++++++++++++++++++++++++++++++++++++++++++++++++++++++++++++++++++++++++++++"
   ]
  },
  {
   "cell_type": "code",
   "execution_count": 160,
   "metadata": {
    "collapsed": false
   },
   "outputs": [
    {
     "name": "stdout",
     "output_type": "stream",
     "text": [
      "[0, 4, 16, 36, 64]\n"
     ]
    }
   ],
   "source": [
    "## SOLUTION\n",
    "\n",
    "ans = [x*x for x in range(10) if x%2 == 0]\n",
    "print ans"
   ]
  },
  {
   "cell_type": "markdown",
   "metadata": {},
   "source": [
    "## Pure functions<a id='pure'></a>\n",
    "\n",
    "<ul>\n",
    "<li>Functions are pure if they do not have any side effects and do not depend on global variables. \n",
    "<li>Pure functions are similar to mathematical functions - each time the same input is given, the same output will be returned. \n",
    "<li>This is useful for reducing bugs and in parallel programming since each function call is independent of any other function call and hence trivially parallelizable.\n",
    "</ul>\n"
   ]
  },
  {
   "cell_type": "code",
   "execution_count": 168,
   "metadata": {
    "collapsed": false
   },
   "outputs": [
    {
     "name": "stdout",
     "output_type": "stream",
     "text": [
      "xs = [0, 1, 2, 3, 4, 5, 6, 7, 8, 9]\n",
      "[0, 2, 4, 6, 8, 10, 12, 14, 16, 18]\n",
      "xs = [0, 1, 2, 3, 4, 5, 6, 7, 8, 9]\n"
     ]
    }
   ],
   "source": [
    "def pure(xs):\n",
    "    \"\"\" Make a new list and return that \"\"\"\n",
    "    \n",
    "    xs = [x*2 for x in xs]\n",
    "    return xs\n",
    "\n",
    "xs = range(n)\n",
    "\n",
    "print \"xs =\", xs\n",
    "print pure(xs)\n",
    "print \"xs =\", xs"
   ]
  },
  {
   "cell_type": "code",
   "execution_count": 169,
   "metadata": {
    "collapsed": false
   },
   "outputs": [
    {
     "name": "stdout",
     "output_type": "stream",
     "text": [
      "xs = [0, 1, 2, 3, 4, 5, 6, 7, 8, 9]\n",
      "[0, 2, 4, 6, 8, 10, 12, 14, 16, 18]\n",
      "xs = [0, 2, 4, 6, 8, 10, 12, 14, 16, 18]\n"
     ]
    }
   ],
   "source": [
    "def impure(xs):\n",
    "    \"\"\" Changes value of xs outside of function \"\"\"\n",
    "    \n",
    "    for i, x in enumerate(xs):\n",
    "        xs[i] = x*2\n",
    "    return xs\n",
    "\n",
    "xs = range(n)\n",
    "\n",
    "print \"xs =\", xs\n",
    "print impure(xs)\n",
    "print \"xs =\", xs"
   ]
  },
  {
   "cell_type": "code",
   "execution_count": 173,
   "metadata": {
    "collapsed": false
   },
   "outputs": [
    {
     "name": "stdout",
     "output_type": "stream",
     "text": [
      "10\n",
      "20\n",
      "13\n"
     ]
    }
   ],
   "source": [
    "# Note that mutable functions are created upon function declaration, not use.\n",
    "# This gives rise to a common source of beginner errors.\n",
    "\n",
    "def append_to_y(x, y=[]):\n",
    "    \"\"\" Never give an empty list or other mutable structure as a default \"\"\"\n",
    "    \n",
    "    y.append(x)\n",
    "    return sum(y)\n",
    "\n",
    "print append_to_y(10)\n",
    "print append_to_y(10) # y remembers - oops!\n",
    "print append_to_y(10, y = [1,2] ) # y resets"
   ]
  },
  {
   "cell_type": "code",
   "execution_count": 174,
   "metadata": {
    "collapsed": false
   },
   "outputs": [
    {
     "name": "stdout",
     "output_type": "stream",
     "text": [
      "10\n",
      "10\n",
      "13\n"
     ]
    }
   ],
   "source": [
    "# Here is the correct Python idiom\n",
    "\n",
    "def append_to_y(x, y=None):\n",
    "    \"\"\" Check if y is None - if so make it a list \"\"\"\n",
    "\n",
    "    if y is None:\n",
    "        y = []\n",
    "    y.append(x)\n",
    "    \n",
    "    return sum(y)\n",
    "\n",
    "print append_to_y(10)\n",
    "print append_to_y(10)\n",
    "print append_to_y(10, y =[1,2])"
   ]
  },
  {
   "cell_type": "markdown",
   "metadata": {},
   "source": [
    "++++++++++++++++++++++++++++++++++++++++++++++++++++++++++++++++++++++++++++++++++++++++++++++++++++++++++++++++"
   ]
  },
  {
   "cell_type": "markdown",
   "metadata": {},
   "source": [
    "## EXERCISE TIME!"
   ]
  },
  {
   "cell_type": "markdown",
   "metadata": {},
   "source": [
    "Convert the function below into a pure function with no global variables or side effects"
   ]
  },
  {
   "cell_type": "code",
   "execution_count": 204,
   "metadata": {
    "collapsed": false
   },
   "outputs": [
    {
     "name": "stdout",
     "output_type": "stream",
     "text": [
      "[1, 2, 3]\n",
      "[1, 2, 3, 0, 1, 2, 3, 4]\n",
      "[1, 2, 3, 0, 1, 2, 3, 4]\n"
     ]
    }
   ],
   "source": [
    "def f(alist):\n",
    "    for i in range(x):\n",
    "        alist.append(i)\n",
    "    return alist\n",
    "\n",
    "x = 5\n",
    "alist = [1,2,3]\n",
    "\n",
    "print alist\n",
    "print f(alist)\n",
    "print alist # alist has been changed!"
   ]
  },
  {
   "cell_type": "markdown",
   "metadata": {},
   "source": [
    "++++++++++++++++++++++++++++++++++++++++++++++++++++++++++++++++++++++++++++++++++++++++++++++++++++++++++++++++"
   ]
  },
  {
   "cell_type": "code",
   "execution_count": 205,
   "metadata": {
    "collapsed": false
   },
   "outputs": [
    {
     "name": "stdout",
     "output_type": "stream",
     "text": [
      "[1, 2, 3]\n",
      "[1, 2, 3, 0, 1, 2, 3, 4]\n",
      "[1, 2, 3]\n"
     ]
    }
   ],
   "source": [
    "## SOLUTION\n",
    "\n",
    "def f(alist, x=5):\n",
    "    \"\"\"Append range(x) to alist.\"\"\"\n",
    "    return alist + range(x)\n",
    "\n",
    "alist = [1,2,3]\n",
    "\n",
    "print alist\n",
    "print f(alist)\n",
    "print alist"
   ]
  },
  {
   "cell_type": "markdown",
   "metadata": {},
   "source": [
    "## Recursion<a id='recursion'></a>\n",
    "<ul>\n",
    "<li>A recursive function is one that calls itself\n",
    "<li>Extremely useful examples of the divide-and-conquer paradigm in algorithm development\n",
    "<li>However, they can be computationally inefficient and their use in Python is quite rare in practice\n",
    "</ul>\n",
    "\n",
    "Recursive functions generally have:\n",
    "<ul>\n",
    "<li>a set of base cases \n",
    "<ul>\n",
    "<li>the answer is obvious\n",
    "<li>can be returned immediately\n",
    "</ul>\n",
    "<li>a set of recursive cases\n",
    "<ul>\n",
    "<li>which are split into smaller pieces\n",
    "<li>each of which is given to the same function called recursively\n",
    "</ul>\n",
    "</ul>\n"
   ]
  },
  {
   "cell_type": "markdown",
   "metadata": {},
   "source": [
    "### Examples"
   ]
  },
  {
   "cell_type": "markdown",
   "metadata": {},
   "source": [
    "**Factorial**:\n",
    "\n",
    "$$ n! = n\\times(n-1)\\times(n-2)\\times...\\times2\\times1$$ \n",
    "\n",
    "\n",
    "For example, $$4! = 4\\times3\\times2\\times1 = 24 $$"
   ]
  },
  {
   "cell_type": "code",
   "execution_count": 206,
   "metadata": {
    "collapsed": false,
    "scrolled": true
   },
   "outputs": [],
   "source": [
    "def fact(n):\n",
    "    \"\"\"Returns the factorial of n.\"\"\"\n",
    "    \n",
    "    # base case\n",
    "    if n==0:\n",
    "        return 1\n",
    "    \n",
    "    # recursive case\n",
    "    else:\n",
    "        return n * fact(n-1)"
   ]
  },
  {
   "cell_type": "code",
   "execution_count": 212,
   "metadata": {
    "collapsed": false
   },
   "outputs": [
    {
     "data": {
      "text/plain": [
       "[(1, 1),\n",
       " (2, 2),\n",
       " (3, 6),\n",
       " (4, 24),\n",
       " (5, 120),\n",
       " (6, 720),\n",
       " (7, 5040),\n",
       " (8, 40320),\n",
       " (9, 362880)]"
      ]
     },
     "execution_count": 212,
     "metadata": {},
     "output_type": "execute_result"
    }
   ],
   "source": [
    "[(n,fact(n)) for n in range(1,10)]"
   ]
  },
  {
   "cell_type": "markdown",
   "metadata": {},
   "source": [
    "**Fibonacci sequence**:\n",
    "\n",
    "$$F_n = F_{n-1} + F_{n-2},\\!\\,$$\n",
    "\n",
    "Output is:\n",
    "\n",
    "$$1, 1, 2, 3, 5, 8, 13, 21, ...$$"
   ]
  },
  {
   "cell_type": "code",
   "execution_count": 213,
   "metadata": {
    "collapsed": false
   },
   "outputs": [],
   "source": [
    "def fib1(n):\n",
    "    \"\"\"Fib with recursion.\"\"\"\n",
    "\n",
    "    # base case\n",
    "    if n==0 or n==1:\n",
    "        return 1\n",
    "    # recurssive caae\n",
    "    else:\n",
    "        return fib1(n-1) + fib1(n-2)"
   ]
  },
  {
   "cell_type": "code",
   "execution_count": 219,
   "metadata": {
    "collapsed": false
   },
   "outputs": [
    {
     "data": {
      "text/plain": [
       "[(0, 1),\n",
       " (1, 1),\n",
       " (2, 2),\n",
       " (3, 3),\n",
       " (4, 5),\n",
       " (5, 8),\n",
       " (6, 13),\n",
       " (7, 21),\n",
       " (8, 34),\n",
       " (9, 55),\n",
       " (10, 89),\n",
       " (11, 144),\n",
       " (12, 233),\n",
       " (13, 377),\n",
       " (14, 610),\n",
       " (15, 987),\n",
       " (16, 1597),\n",
       " (17, 2584),\n",
       " (18, 4181),\n",
       " (19, 6765)]"
      ]
     },
     "execution_count": 219,
     "metadata": {},
     "output_type": "execute_result"
    }
   ],
   "source": [
    "[(i,fib1(i)) for i in range(20)]"
   ]
  },
  {
   "cell_type": "code",
   "execution_count": 220,
   "metadata": {
    "collapsed": false
   },
   "outputs": [],
   "source": [
    "# In Python, a more efficient version that does not use recursion is\n",
    "\n",
    "def fib2(n):\n",
    "    \"\"\"Fib without recursion.\"\"\"\n",
    "    a, b = 0, 1\n",
    "    for i in range(1, n+1):\n",
    "        a, b = b, a+b\n",
    "    return b"
   ]
  },
  {
   "cell_type": "code",
   "execution_count": 221,
   "metadata": {
    "collapsed": false
   },
   "outputs": [
    {
     "data": {
      "text/plain": [
       "[(0, 1),\n",
       " (1, 1),\n",
       " (2, 2),\n",
       " (3, 3),\n",
       " (4, 5),\n",
       " (5, 8),\n",
       " (6, 13),\n",
       " (7, 21),\n",
       " (8, 34),\n",
       " (9, 55),\n",
       " (10, 89),\n",
       " (11, 144),\n",
       " (12, 233),\n",
       " (13, 377),\n",
       " (14, 610),\n",
       " (15, 987),\n",
       " (16, 1597),\n",
       " (17, 2584),\n",
       " (18, 4181),\n",
       " (19, 6765)]"
      ]
     },
     "execution_count": 221,
     "metadata": {},
     "output_type": "execute_result"
    }
   ],
   "source": [
    "[(i,fib2(i)) for i in range(20)]"
   ]
  },
  {
   "cell_type": "code",
   "execution_count": 226,
   "metadata": {
    "collapsed": false
   },
   "outputs": [
    {
     "name": "stdout",
     "output_type": "stream",
     "text": [
      "100 loops, best of 3: 2.89 ms per loop\n",
      "1000000 loops, best of 3: 1.45 µs per loop\n"
     ]
    }
   ],
   "source": [
    "# Note that the recursive version is much slower than the non-recursive version\n",
    "\n",
    "%timeit fib1(20)\n",
    "%timeit fib2(20)"
   ]
  },
  {
   "cell_type": "markdown",
   "metadata": {
    "collapsed": true
   },
   "source": [
    "This is because it makes many duplicate function calls. For example:\n",
    "\n",
    "`fib(5) -> fib(4), fib(3)`<br>\n",
    "`fib(4) -> fib(3), fib(2)`<br>\n",
    "`fib(3) -> fib(2), fib(1)`<br>\n",
    "`fib(2) -> fib(1), fib(0)`<br>\n",
    "`fib(1) -> 1`<br>\n",
    "`fib(0) -> 1`<br>"
   ]
  },
  {
   "cell_type": "code",
   "execution_count": 227,
   "metadata": {
    "collapsed": false
   },
   "outputs": [],
   "source": [
    "# Use of cache to speed up the recursive version.\n",
    "# Note biding of the (mutable) dictionary as a default at run-time.\n",
    "\n",
    "def fib3(n, cache={0: 1, 1: 1}):\n",
    "    \"\"\"Fib with recursion and caching.\"\"\"\n",
    "\n",
    "    try:\n",
    "        return cache[n]\n",
    "    \n",
    "    except KeyError:\n",
    "        cache[n] = fib3(n-1) + fib3(n-2) # update the dictionary value until you get down to 1\n",
    "        return cache[n]"
   ]
  },
  {
   "cell_type": "code",
   "execution_count": 231,
   "metadata": {
    "collapsed": false
   },
   "outputs": [
    {
     "data": {
      "text/plain": [
       "[(0, 1),\n",
       " (1, 1),\n",
       " (2, 2),\n",
       " (3, 3),\n",
       " (4, 5),\n",
       " (5, 8),\n",
       " (6, 13),\n",
       " (7, 21),\n",
       " (8, 34),\n",
       " (9, 55),\n",
       " (10, 89),\n",
       " (11, 144),\n",
       " (12, 233),\n",
       " (13, 377),\n",
       " (14, 610),\n",
       " (15, 987),\n",
       " (16, 1597),\n",
       " (17, 2584),\n",
       " (18, 4181),\n",
       " (19, 6765)]"
      ]
     },
     "execution_count": 231,
     "metadata": {},
     "output_type": "execute_result"
    }
   ],
   "source": [
    "[(i,fib3(i)) for i in range(20)]"
   ]
  },
  {
   "cell_type": "code",
   "execution_count": 232,
   "metadata": {
    "collapsed": false
   },
   "outputs": [
    {
     "name": "stdout",
     "output_type": "stream",
     "text": [
      "100 loops, best of 3: 2.92 ms per loop\n",
      "1000000 loops, best of 3: 1.46 µs per loop\n",
      "The slowest run took 48.09 times longer than the fastest. This could mean that an intermediate result is being cached.\n",
      "10000000 loops, best of 3: 144 ns per loop\n"
     ]
    }
   ],
   "source": [
    "%timeit fib1(20)\n",
    "%timeit fib2(20)\n",
    "%timeit fib3(20)"
   ]
  },
  {
   "cell_type": "code",
   "execution_count": 233,
   "metadata": {
    "collapsed": false
   },
   "outputs": [],
   "source": [
    "# Recursion is used to show off the divide-and-conquer paradigm\n",
    "\n",
    "def quick_sort(xs):\n",
    "    \"\"\" Classic quick sort \"\"\"\n",
    "\n",
    "    # base case\n",
    "    if xs == []:\n",
    "        return xs\n",
    "    # recursive case\n",
    "    else:\n",
    "        pivot = xs[0] # choose starting pivot to be on the left\n",
    "        less_than = [x for x in xs[1:] if x <= pivot]\n",
    "        more_than = [x for x in xs[1:] if x > pivot]\n",
    "        \n",
    "        return quick_sort(less_than) + [pivot] + quick_sort(more_than)"
   ]
  },
  {
   "cell_type": "code",
   "execution_count": 234,
   "metadata": {
    "collapsed": false
   },
   "outputs": [
    {
     "name": "stdout",
     "output_type": "stream",
     "text": [
      "[-1, 0, 1, 1, 2, 3, 3, 3, 4, 4, 4, 5, 5, 5, 5, 6, 7, 8, 9, 9, 10, 11]\n"
     ]
    }
   ],
   "source": [
    "xs = [11,3,1,4,1,5,9,2,6,5,3,5,9,0,10,4,3,7,4,5,8,-1]\n",
    "print quick_sort(xs)"
   ]
  },
  {
   "cell_type": "markdown",
   "metadata": {},
   "source": [
    "++++++++++++++++++++++++++++++++++++++++++++++++++++++++++++++++++++++++++++++++++++++++++++++++++++++++++++++++"
   ]
  },
  {
   "cell_type": "markdown",
   "metadata": {},
   "source": [
    "## EXERCISE TIME!\n",
    "\n",
    "Euclid's algorithm for finding the greatest common divisor of two numbers is\n",
    "\n",
    "```python\n",
    "gcd(a, 0) = a\n",
    "gcd(a, b) = gcd(b, a modulo b)\n",
    "```\n",
    "\n",
    "<ol>\n",
    "<li>What is the greatest common divisor of `17384` and `1928`? Write the `gcd(a,b)` function.\n",
    "<li>Write a function to calculate the least common multiple, `lcm(a,b)`\n",
    "<li>What is the least common multiple of `17384` and `1928`? Hint: Google it!\n",
    "</ol>"
   ]
  },
  {
   "cell_type": "markdown",
   "metadata": {},
   "source": [
    "++++++++++++++++++++++++++++++++++++++++++++++++++++++++++++++++++++++++++++++++++++++++++++++++++++++++++++++++"
   ]
  },
  {
   "cell_type": "code",
   "execution_count": 250,
   "metadata": {
    "collapsed": false
   },
   "outputs": [
    {
     "data": {
      "text/plain": [
       "4189544"
      ]
     },
     "execution_count": 250,
     "metadata": {},
     "output_type": "execute_result"
    }
   ],
   "source": [
    "## SOLUTION\n",
    "\n",
    "def gcd(a,b):\n",
    "    if b == 0:\n",
    "        return a\n",
    "    else:\n",
    "        return gcd(b, a % b)\n",
    "\n",
    "gcd(17384,1928)\n",
    "\n",
    "def lcm(a,b):\n",
    "    return a*b/gcd(a,b)\n",
    "\n",
    "lcm(17384,1928)"
   ]
  },
  {
   "cell_type": "markdown",
   "metadata": {},
   "source": [
    "### Summary\n",
    "\n",
    "<ul>\n",
    "<li>Higher order functions - functional programming must haves (`map`, `lambda`, ...)\n",
    "<li>Pure functions - avoid unintended outcomes\n",
    "<li>Recursion - helpful but can run into problems\n",
    "</ul>"
   ]
  },
  {
   "cell_type": "markdown",
   "metadata": {},
   "source": [
    "## Iterators<a id='iterators'></a>\n",
    "<ul>\n",
    "<li>Iterators represent streams of values. \n",
    "<li>Because only one value is consumed at a time, they use very little memory.\n",
    "<li>Use of iterators is very helpful for working with data sets too large to fit into RAM.\n",
    "</ul> "
   ]
  },
  {
   "cell_type": "code",
   "execution_count": 252,
   "metadata": {
    "collapsed": false
   },
   "outputs": [
    {
     "name": "stdout",
     "output_type": "stream",
     "text": [
      "1\n",
      "2\n",
      "3\n"
     ]
    },
    {
     "ename": "StopIteration",
     "evalue": "",
     "output_type": "error",
     "traceback": [
      "\u001b[0;31m---------------------------------------------------------------------------\u001b[0m",
      "\u001b[0;31mStopIteration\u001b[0m                             Traceback (most recent call last)",
      "\u001b[0;32m<ipython-input-252-35c80bc0fe4b>\u001b[0m in \u001b[0;36m<module>\u001b[0;34m()\u001b[0m\n\u001b[1;32m      7\u001b[0m \u001b[0;32mprint\u001b[0m \u001b[0mx_iter\u001b[0m\u001b[0;34m.\u001b[0m\u001b[0mnext\u001b[0m\u001b[0;34m(\u001b[0m\u001b[0;34m)\u001b[0m\u001b[0;34m\u001b[0m\u001b[0m\n\u001b[1;32m      8\u001b[0m \u001b[0;32mprint\u001b[0m \u001b[0mx_iter\u001b[0m\u001b[0;34m.\u001b[0m\u001b[0mnext\u001b[0m\u001b[0;34m(\u001b[0m\u001b[0;34m)\u001b[0m\u001b[0;34m\u001b[0m\u001b[0m\n\u001b[0;32m----> 9\u001b[0;31m \u001b[0;32mprint\u001b[0m \u001b[0mx_iter\u001b[0m\u001b[0;34m.\u001b[0m\u001b[0mnext\u001b[0m\u001b[0;34m(\u001b[0m\u001b[0;34m)\u001b[0m\u001b[0;34m\u001b[0m\u001b[0m\n\u001b[0m",
      "\u001b[0;31mStopIteration\u001b[0m: "
     ]
    }
   ],
   "source": [
    "# Iterators can be created from sequences with the built-in function iter()\n",
    "\n",
    "xs = [1,2,3]\n",
    "x_iter = iter(xs)\n",
    "\n",
    "print x_iter.next() # python \"remembers\" where the pointer is\n",
    "print x_iter.next()\n",
    "print x_iter.next()\n",
    "print x_iter.next()"
   ]
  },
  {
   "cell_type": "code",
   "execution_count": 253,
   "metadata": {
    "collapsed": false
   },
   "outputs": [
    {
     "name": "stdout",
     "output_type": "stream",
     "text": [
      "1\n",
      "2\n",
      "3\n"
     ]
    }
   ],
   "source": [
    "# Most commonly, iterators are used (automatically) within a for loop\n",
    "# which terminates when it encouters a StopIteration exception\n",
    "\n",
    "x_iter = iter(xs)\n",
    "for x in x_iter:\n",
    "    print x"
   ]
  },
  {
   "cell_type": "markdown",
   "metadata": {},
   "source": [
    "++++++++++++++++++++++++++++++++++++++++++++++++++++++++++++++++++++++++++++++++++++++++++++++++++++++++++++++++"
   ]
  },
  {
   "cell_type": "markdown",
   "metadata": {},
   "source": [
    "## EXERCISE TIME!"
   ]
  },
  {
   "cell_type": "markdown",
   "metadata": {},
   "source": [
    "Starting with `range(1, 20)`, make a list of the squares of each odd number in the following ways\n",
    "\n",
    "- With a for loop\n",
    "- Using a list comprehension\n",
    "- Using map and filter\n",
    "\n",
    "The answer should be `[1, 9, 25, 49, 81, 121, 169, 225, 289, 361]`"
   ]
  },
  {
   "cell_type": "markdown",
   "metadata": {},
   "source": [
    "++++++++++++++++++++++++++++++++++++++++++++++++++++++++++++++++++++++++++++++++++++++++++++++++++++++++++++++++"
   ]
  },
  {
   "cell_type": "code",
   "execution_count": 263,
   "metadata": {
    "collapsed": false
   },
   "outputs": [
    {
     "name": "stdout",
     "output_type": "stream",
     "text": [
      "[1, 9, 25, 49, 81, 121, 169, 225, 289, 361]\n",
      "[1, 9, 25, 49, 81, 121, 169, 225, 289, 361]\n",
      "[1, 9, 25, 49, 81, 121, 169, 225, 289, 361]\n"
     ]
    }
   ],
   "source": [
    "## SOLUTION\n",
    "\n",
    "# using a for loop\n",
    "for_list = []\n",
    "for i in range(1,20):\n",
    "    if i % 2 != 0:\n",
    "        for_list.append(i**2)\n",
    "print(for_list)\n",
    "\n",
    "# using list comprehension\n",
    "print([i**2 for i in range(1,20) if i % 2 != 0])\n",
    "\n",
    "# using map and filter\n",
    "print(list(map(lambda a: a**2,(filter(lambda x: x % 2 !=0, range(1,20))))))"
   ]
  },
  {
   "cell_type": "markdown",
   "metadata": {},
   "source": [
    "More on Modules <a id='modules'></a>\n",
    "====="
   ]
  },
  {
   "cell_type": "markdown",
   "metadata": {},
   "source": [
    "## The operator module\n",
    "The operator module provides “function” versions of common Python operators (+, *, [] etc) that can be easily used where a function argument is expected."
   ]
  },
  {
   "cell_type": "code",
   "execution_count": 273,
   "metadata": {
    "collapsed": false
   },
   "outputs": [
    {
     "name": "stdout",
     "output_type": "stream",
     "text": [
      "45\n",
      "362880\n"
     ]
    }
   ],
   "source": [
    "import operator as op\n",
    "\n",
    "# Here is another way to express the sum function\n",
    "print reduce(op.add, range(10))\n",
    "\n",
    "# The pattern can be generalized\n",
    "print reduce(op.mul, range(1, 10))"
   ]
  },
  {
   "cell_type": "code",
   "execution_count": 276,
   "metadata": {
    "collapsed": false
   },
   "outputs": [
    {
     "name": "stdout",
     "output_type": "stream",
     "text": [
      "[('a', 1), ('bb', 4), ('ccc', 2), ('dddd', 3)]\n",
      "[('a', 1), ('ccc', 2), ('dddd', 3), ('bb', 4)]\n"
     ]
    }
   ],
   "source": [
    "my_list = [('a', 1), ('bb', 4), ('ccc', 2), ('dddd', 3)]\n",
    "\n",
    "# standard sort\n",
    "print sorted(my_list)\n",
    "\n",
    "# return list sorted by element at position 1 (remember Python counts from 0)\n",
    "print sorted(my_list, key=op.itemgetter(1))\n",
    "\n",
    "# the key argument is quite flexible\n",
    "# What does this do?\n",
    "# print sorted(my_list, key=lambda x: len(x[0]), reverse=True)"
   ]
  },
  {
   "cell_type": "markdown",
   "metadata": {},
   "source": [
    "## The functools module\n",
    "The most useful function in the functools module is `partial`, which allows you to create a new function from an old one with some arguments “filled-in”."
   ]
  },
  {
   "cell_type": "code",
   "execution_count": 278,
   "metadata": {
    "collapsed": false
   },
   "outputs": [
    {
     "name": "stdout",
     "output_type": "stream",
     "text": [
      "10\n",
      "24\n"
     ]
    }
   ],
   "source": [
    "from functools import partial, reduce\n",
    "\n",
    "sum_ = partial(reduce, op.add)\n",
    "prod_ = partial(reduce, op.mul)\n",
    "\n",
    "print sum_([1,2,3,4])\n",
    "print prod_([1,2,3,4])"
   ]
  },
  {
   "cell_type": "code",
   "execution_count": 285,
   "metadata": {
    "collapsed": false
   },
   "outputs": [
    {
     "name": "stdout",
     "output_type": "stream",
     "text": [
      "[ 2.47907542  1.41044955  2.49703417  2.20064131  1.97137169  1.78888311\n",
      "  1.65312581  1.19236611  2.36649284  1.69589686]\n",
      "[  9.77441069  12.21244022   9.54021859  10.33531143  10.42660916\n",
      "   8.73869119   8.88524206  11.76573871   9.38136785   9.72222898]\n"
     ]
    }
   ],
   "source": [
    "rng1 = partial(np.random.normal, 2, .3)\n",
    "rng2 = partial(np.random.normal, 10, 1)\n",
    "\n",
    "print rng1(10)\n",
    "print rng2(10)"
   ]
  },
  {
   "cell_type": "code",
   "execution_count": 286,
   "metadata": {
    "collapsed": false
   },
   "outputs": [
    {
     "data": {
      "text/plain": [
       "99.145693055712059"
      ]
     },
     "execution_count": 286,
     "metadata": {},
     "output_type": "execute_result"
    }
   ],
   "source": [
    "reduce(op.add, rng2(10))"
   ]
  },
  {
   "cell_type": "markdown",
   "metadata": {},
   "source": [
    "## The itertools module\n",
    "\n",
    "This provides many essential functions for working with iterators. The permuations and combinations generators may be particularly useful for simulating data, and the `groupby` generator is useful for data analysis.\n"
   ]
  },
  {
   "cell_type": "code",
   "execution_count": 295,
   "metadata": {
    "collapsed": false
   },
   "outputs": [
    {
     "name": "stdout",
     "output_type": "stream",
     "text": [
      "['a', 'b', 'c', 'd', 'a', 'b', 'c', 'd', 'a', 'b']\n"
     ]
    }
   ],
   "source": [
    "from itertools import cycle, groupby, islice, permutations, combinations, takewhile, starmap\n",
    "\n",
    "print list(islice(cycle('abcd'), 0, 10))"
   ]
  },
  {
   "cell_type": "code",
   "execution_count": 301,
   "metadata": {
    "collapsed": false
   },
   "outputs": [
    {
     "name": "stdout",
     "output_type": "stream",
     "text": [
      "3 ['pig', 'cow', 'dog', 'cat']\n",
      "4 ['lion']\n",
      "5 ['hippo', 'tiger']\n",
      "7 ['giraffe']\n",
      "8 ['elephant']\n"
     ]
    }
   ],
   "source": [
    "animals = sorted(['pig', 'cow', 'giraffe', 'elephant',\n",
    "                  'dog', 'cat', 'hippo', 'lion', 'tiger'], key=len)\n",
    "for k, g in groupby(animals, key=len):\n",
    "    print k, list(g)"
   ]
  },
  {
   "cell_type": "code",
   "execution_count": 302,
   "metadata": {
    "collapsed": false
   },
   "outputs": [
    {
     "name": "stdout",
     "output_type": "stream",
     "text": [
      "['abc', 'acb', 'bac', 'bca', 'cab', 'cba']\n"
     ]
    }
   ],
   "source": [
    "print [''.join(p) for p in permutations('abc')]"
   ]
  },
  {
   "cell_type": "code",
   "execution_count": 305,
   "metadata": {
    "collapsed": false
   },
   "outputs": [
    {
     "name": "stdout",
     "output_type": "stream",
     "text": [
      "[[1, 2], [1, 3], [1, 4], [1, 5], [2, 3], [2, 4], [2, 5], [3, 4], [3, 5], [4, 5]]\n"
     ]
    }
   ],
   "source": [
    "print [list(c) for c in combinations([1,2,3,4,5], r=2)]"
   ]
  },
  {
   "cell_type": "code",
   "execution_count": 312,
   "metadata": {
    "collapsed": false
   },
   "outputs": [
    {
     "data": {
      "text/plain": [
       "[3, 5, 7]"
      ]
     },
     "execution_count": 312,
     "metadata": {},
     "output_type": "execute_result"
    }
   ],
   "source": [
    "import operator as op\n",
    "\n",
    "[i for i in starmap(op.add, [(1,2), (2,3), (3,4)])]"
   ]
  },
  {
   "cell_type": "markdown",
   "metadata": {
    "collapsed": true
   },
   "source": [
    "## The toolz, fn and funcy modules\n",
    "If you want to learn functional programming in Python, check out these libraries:\n",
    "\n",
    "<ol>\n",
    "<li>toolz\n",
    "<li>fn\n",
    "<li>funcy\n",
    "</ol>"
   ]
  },
  {
   "cell_type": "markdown",
   "metadata": {},
   "source": [
    "#### Where does Python search for modules?"
   ]
  },
  {
   "cell_type": "code",
   "execution_count": 314,
   "metadata": {
    "collapsed": false
   },
   "outputs": [
    {
     "data": {
      "text/plain": [
       "['',\n",
       " '/Library/Python/2.7/site-packages/pymc-2.3.4-py2.7-macosx-10.10-intel.egg',\n",
       " '/Library/Python/2.7/site-packages',\n",
       " '/System/Library/Frameworks/Python.framework/Versions/2.7/lib/python27.zip',\n",
       " '/System/Library/Frameworks/Python.framework/Versions/2.7/lib/python2.7',\n",
       " '/System/Library/Frameworks/Python.framework/Versions/2.7/lib/python2.7/plat-darwin',\n",
       " '/System/Library/Frameworks/Python.framework/Versions/2.7/lib/python2.7/plat-mac',\n",
       " '/System/Library/Frameworks/Python.framework/Versions/2.7/lib/python2.7/plat-mac/lib-scriptpackages',\n",
       " '/System/Library/Frameworks/Python.framework/Versions/2.7/Extras/lib/python',\n",
       " '/System/Library/Frameworks/Python.framework/Versions/2.7/lib/python2.7/lib-tk',\n",
       " '/System/Library/Frameworks/Python.framework/Versions/2.7/lib/python2.7/lib-old',\n",
       " '/System/Library/Frameworks/Python.framework/Versions/2.7/lib/python2.7/lib-dynload',\n",
       " '/Users/ilanman/Library/Python/2.7/lib/python/site-packages',\n",
       " '/System/Library/Frameworks/Python.framework/Versions/2.7/Extras/lib/python/PyObjC',\n",
       " '/Library/Python/2.7/site-packages/PIL',\n",
       " '/Library/Python/2.7/site-packages/IPython/extensions',\n",
       " '/Users/ilanman/.ipython']"
      ]
     },
     "execution_count": 314,
     "metadata": {},
     "output_type": "execute_result"
    }
   ],
   "source": [
    "import sys\n",
    "sys.path"
   ]
  },
  {
   "cell_type": "markdown",
   "metadata": {},
   "source": [
    "Homework<a id='hmwk'></a>\n",
    "======"
   ]
  },
  {
   "cell_type": "markdown",
   "metadata": {},
   "source": [
    "**Q1.** The four adjacent digits in the 1000-digit number that have the greatest product are 9 × 9 × 8 × 9 = 5832.\n",
    "```\n",
    "73167176531330624919225119674426574742355349194934\n",
    "96983520312774506326239578318016984801869478851843\n",
    "85861560789112949495459501737958331952853208805511\n",
    "12540698747158523863050715693290963295227443043557\n",
    "66896648950445244523161731856403098711121722383113\n",
    "62229893423380308135336276614282806444486645238749\n",
    "30358907296290491560440772390713810515859307960866\n",
    "70172427121883998797908792274921901699720888093776\n",
    "65727333001053367881220235421809751254540594752243\n",
    "52584907711670556013604839586446706324415722155397\n",
    "53697817977846174064955149290862569321978468622482\n",
    "83972241375657056057490261407972968652414535100474\n",
    "82166370484403199890008895243450658541227588666881\n",
    "16427171479924442928230863465674813919123162824586\n",
    "17866458359124566529476545682848912883142607690042\n",
    "24219022671055626321111109370544217506941658960408\n",
    "07198403850962455444362981230987879927244284909188\n",
    "84580156166097919133875499200524063689912560717606\n",
    "05886116467109405077541002256983155200055935729725\n",
    "71636269561882670428252483600823257530420752963450\n",
    "```\n",
    "Write a program to find the thirteen adjacent digits in the 1000-digit number that have the greatest product. What is the value of this product? (Euler problem #8)\n",
    "\n",
    "The answer shoud be 23514624000."
   ]
  },
  {
   "cell_type": "code",
   "execution_count": null,
   "metadata": {
    "collapsed": true
   },
   "outputs": [],
   "source": [
    "BIG_NUM = 7316717653133062491922511967442657474235534919493496983520312774506326239578318016984801869478851843858615607891129494954595017379583319528532088055111254069874715852386305071569329096329522744304355766896648950445244523161731856403098711121722383113622298934233803081353362766142828064444866452387493035890729629049156044077239071381051585930796086670172427121883998797908792274921901699720888093776657273330010533678812202354218097512545405947522435258490771167055601360483958644670632441572215539753697817977846174064955149290862569321978468622482839722413756570560574902614079729686524145351004748216637048440319989000889524345065854122758866688116427171479924442928230863465674813919123162824586178664583591245665294765456828489128831426076900422421902267105562632111110937054421750694165896040807198403850962455444362981230987879927244284909188845801561660979191338754992005240636899125607176060588611646710940507754100225698315520005593572972571636269561882670428252483600823257530420752963450\n",
    "max_num = 0  # this holds the largest number for the current iteration of the loop\n",
    "NUM_ADJACENT = 13\n",
    "\n",
    "def product_consecutive(ind):\n",
    "    ''' Calculate the product of consecutive digits'''\n",
    "    prod = 1\n",
    "    for digit in str(BIG_NUM)[ind:ind + NUM_ADJACENT]: # loop over every digit in the 13 consecutive digits\n",
    "        prod *= int(digit)\n",
    "    return prod\n",
    "        \n",
    "\n",
    "for ind in range(len(str(BIG_NUM))): # loop over the range of digits in big_num\n",
    "    current_product = product_consecutive(ind)\n",
    "    if current_product > max_num: \n",
    "        max_num = current_product\n",
    "\n",
    "print(max_num)"
   ]
  },
  {
   "cell_type": "markdown",
   "metadata": {},
   "source": [
    "**Q2.** Rewrite the factorial function so that it does not use recursion."
   ]
  },
  {
   "cell_type": "code",
   "execution_count": 320,
   "metadata": {
    "collapsed": true
   },
   "outputs": [],
   "source": [
    "def fact(n):\n",
    "    \"\"\"Returns the factorial of n.\"\"\"\n",
    "    # base case\n",
    "    if n==0:\n",
    "        return 1\n",
    "    # recursive case\n",
    "    else:\n",
    "        return n * fact(n-1)"
   ]
  },
  {
   "cell_type": "code",
   "execution_count": 321,
   "metadata": {
    "collapsed": false
   },
   "outputs": [
    {
     "name": "stdout",
     "output_type": "stream",
     "text": [
      "1 2 6 24 120 720 5040 40320 362880 3628800\n"
     ]
    }
   ],
   "source": [
    "for i in range(1,11):\n",
    "    print fact(i),"
   ]
  },
  {
   "cell_type": "code",
   "execution_count": 324,
   "metadata": {
    "collapsed": false
   },
   "outputs": [
    {
     "name": "stdout",
     "output_type": "stream",
     "text": [
      "1 2 6 24 120 720 5040 40320 362880 3628800\n"
     ]
    }
   ],
   "source": [
    "## SOLUTION\n",
    "def fact1(n):\n",
    "    \"\"\"Returns the factorial of n.\"\"\"\n",
    "    return reduce(lambda x, y: x*y, range(1, n+1))\n",
    "\n",
    "for i in range(1,11):\n",
    "    print fact1(i),"
   ]
  },
  {
   "cell_type": "markdown",
   "metadata": {},
   "source": [
    "**Q3.** Rewrite the recursive factorial function so that it uses a cache to speed up calculations. Check the speed."
   ]
  },
  {
   "cell_type": "code",
   "execution_count": 325,
   "metadata": {
    "collapsed": true
   },
   "outputs": [],
   "source": [
    "def fact(n):\n",
    "    \"\"\"Returns the factorial of n.\"\"\"\n",
    "    # base case\n",
    "    if n==0:\n",
    "        return 1\n",
    "    # recursive case\n",
    "    else:\n",
    "        return n * fact(n-1)"
   ]
  },
  {
   "cell_type": "code",
   "execution_count": 326,
   "metadata": {
    "collapsed": false
   },
   "outputs": [
    {
     "name": "stdout",
     "output_type": "stream",
     "text": [
      "1 2 6 24 120 720 5040 40320 362880 3628800\n"
     ]
    }
   ],
   "source": [
    "### SOLUTION\n",
    "\n",
    "def fact2(n, cache={0: 1}):\n",
    "    \"\"\"Returns the factorial of n.\"\"\"\n",
    "    if n in cache:\n",
    "        return cache[n]\n",
    "    else:\n",
    "        cache[n] = n * fact2(n-1)\n",
    "        return cache[n]\n",
    "\n",
    "for i in range(1,11):\n",
    "    print fact2(i),"
   ]
  },
  {
   "cell_type": "markdown",
   "metadata": {
    "collapsed": true
   },
   "source": [
    "**Q4.** Write a function, `normalize(x)` that takes in a vector `x` and outputs a normalized vector `x_norm` in the following way:\n",
    "\n",
    "$$\n",
    "X^{normed}_{i} = \\frac{X_{i} - \\mu}{\\sigma}\n",
    "$$\n",
    "\n",
    "where,\n",
    "\n",
    "$$\n",
    "\\mu = \\frac{1}{n}\\sum_{i=1}^{n}X_{i}\n",
    "$$\n",
    "\n",
    "$$\n",
    "\\sigma^2 = \\frac{1}{n}\\sum_{i=1}^{n}(X_{i} - \\bar{X})^2\n",
    "$$\n",
    "\n",
    "For example, an input list `x = [1,2,3,4]` should output `x_norm = [-1.3416407865,-0.4472135955,0.4472135955,1.3416407865]`. <br>\n",
    "*Note that the sum of the new list should be 0 and the standard deviation should be 1.0 - this is why it's called normalizing. It's also called standardizing*"
   ]
  },
  {
   "cell_type": "code",
   "execution_count": 367,
   "metadata": {
    "collapsed": false
   },
   "outputs": [
    {
     "data": {
      "text/plain": [
       "[-1.3416407864998738,\n",
       " -0.4472135954999579,\n",
       " 0.4472135954999579,\n",
       " 1.3416407864998738]"
      ]
     },
     "execution_count": 367,
     "metadata": {},
     "output_type": "execute_result"
    }
   ],
   "source": [
    "## SOLUTION\n",
    "def normalize(x):\n",
    "    \n",
    "    mean_x = sum(x)/len(x)\n",
    "    \n",
    "    std_ = 0\n",
    "    for i in x:\n",
    "        std_ += (i-mean_x)**2\n",
    "\n",
    "    std_ = std_/len(x)\n",
    "\n",
    "    x_prime = []\n",
    "    for i in x:\n",
    "        x_prime.append((i - mean_x)/(std_**0.5))\n",
    "    \n",
    "    return x_prime\n",
    "    \n",
    "\n",
    "x = [1,2,3,4.]\n",
    "normalize(x)\n"
   ]
  },
  {
   "cell_type": "markdown",
   "metadata": {
    "collapsed": true
   },
   "source": [
    "**Q5.** Linear Algebra I\n",
    "\n",
    "Write a function `element_wise_multiplication(u, v)` that multiplies the elements of two arbitrary vectors, `u` and `v`.\n",
    "\n",
    "For example, `element_wise_multiplication([1, 2, 3], [4, 5, 6])` should return `[4, 10, 18]`.\n",
    "\n",
    "Note:\n",
    "\n",
    "1) Remember to check that the vectors are the same length<br>\n",
    "2) Each element of the vector should be a number. If you get a string that is clearly a number, convert it and multiply it. i.e. convert `'12'` to `12`."
   ]
  },
  {
   "cell_type": "code",
   "execution_count": 350,
   "metadata": {
    "collapsed": false
   },
   "outputs": [
    {
     "data": {
      "text/plain": [
       "[7, 16, 27]"
      ]
     },
     "execution_count": 350,
     "metadata": {},
     "output_type": "execute_result"
    }
   ],
   "source": [
    "## SOLUTION\n",
    "def element_wise_multiplication(u,v):\n",
    "    \n",
    "    assert len(u) == len(v), 'u and v must be of the same length'\n",
    "    \n",
    "    return[i[0]*i[1] for i in zip(map(int, u),map(int, v))]\n",
    "\n",
    "u = [1,2,3]\n",
    "v = [7,8,'9']\n",
    "element_wise_multiplication(u,v)"
   ]
  },
  {
   "cell_type": "markdown",
   "metadata": {},
   "source": [
    "**Q6.** Linear Algebra II\n",
    "\n",
    "Write a function `scale_and_shift(u, a, b)` that takes in scalars `a` and `b` and arbitrary vector `u` and returns `a*u+b`.\n",
    "\n",
    "For example, `scale_and_shift([1,2,3], 2, 4)` should return `[6, 8, 10]`.\n",
    "\n",
    "Note that you should convert strings to ints, i.e. convert `'12'` to `12`."
   ]
  },
  {
   "cell_type": "code",
   "execution_count": 373,
   "metadata": {
    "collapsed": false
   },
   "outputs": [
    {
     "data": {
      "text/plain": [
       "[6, 8, 10]"
      ]
     },
     "execution_count": 373,
     "metadata": {},
     "output_type": "execute_result"
    }
   ],
   "source": [
    "## SOLUTION\n",
    "\n",
    "u = [1,'2',3]\n",
    "a = 2\n",
    "b = 4\n",
    "\n",
    "def scale_and_shift(u, a, b):\n",
    "    return [int(i)*a+b for i in u]\n",
    "\n",
    "scale_and_shift(u, a, b)"
   ]
  },
  {
   "cell_type": "markdown",
   "metadata": {
    "collapsed": true
   },
   "source": [
    "**Q7**. Pascal's triangle\n",
    "\n",
    "<ol>\n",
    "<li>Write a function `pascal(c,r)` which takes in a column `c` and row `r` (both start indexing at 0) and returns the value of Pascal's triangle. \n",
    "<li>Print the first 10 iterations of the triangle. Here are the first 6:\n",
    "\n",
    "</ol>\n",
    "\n",
    "```\n",
    "     1\n",
    "    1 1\n",
    "   1 2 1\n",
    "  1 3 3 1\n",
    " 1 4 6 4 1 \n",
    "1 5 10 10 5 1 \n",
    "...\n",
    "```\n",
    "\n",
    "Do this **recursively**."
   ]
  },
  {
   "cell_type": "code",
   "execution_count": 510,
   "metadata": {
    "collapsed": false
   },
   "outputs": [
    {
     "name": "stdout",
     "output_type": "stream",
     "text": [
      "1\n",
      "1 1\n",
      "1 2 1\n",
      "1 3 3 1\n",
      "1 4 6 4 1\n",
      "1 5 10 10 5 1\n",
      "1 6 15 20 15 6 1\n",
      "1 7 21 35 35 21 7 1\n",
      "1 8 28 56 70 56 28 8 1\n",
      "1 9 36 84 126 126 84 36 9 1\n"
     ]
    }
   ],
   "source": [
    "## SOLUTION\n",
    "\n",
    "def pascal(c,r):\n",
    "    \n",
    "    assert c <= r, \"Bad parameters - column cannot be greater than row\"\n",
    "    \n",
    "    if c == 1 or c == r:\n",
    "        return 1\n",
    "    else:\n",
    "        return pascal(c-1, r-1) + pascal(c, r-1)\n",
    "\n",
    "\n",
    "depth = 10\n",
    "\n",
    "for row in range(1, depth+1):\n",
    "    for col in range(1, row+1):\n",
    "         print pascal(col, row),\n",
    "    print"
   ]
  },
  {
   "cell_type": "code",
   "execution_count": null,
   "metadata": {
    "collapsed": true
   },
   "outputs": [],
   "source": []
  }
 ],
 "metadata": {
  "kernelspec": {
   "display_name": "Python 2",
   "language": "python",
   "name": "python2"
  },
  "language_info": {
   "codemirror_mode": {
    "name": "ipython",
    "version": 2
   },
   "file_extension": ".py",
   "mimetype": "text/x-python",
   "name": "python",
   "nbconvert_exporter": "python",
   "pygments_lexer": "ipython2",
   "version": "2.7.10"
  }
 },
 "nbformat": 4,
 "nbformat_minor": 0
}
