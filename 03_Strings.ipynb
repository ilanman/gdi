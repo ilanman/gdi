{
 "cells": [
  {
   "cell_type": "markdown",
   "metadata": {},
   "source": [
    "Strings\n",
    "====\n",
    "\n",
    "The process of cleaning data for analysis often requires working with text, for example, to correct typos, convert to standard nomenclature and resolve ambiguous labels. In some statistical fields that deal with (say) processing electronic medical records, information science or recommendations based on user feedback, text must be processed before analysis - for example, by converting to a bag of words.\n",
    "\n",
    "\n",
    "1. [Text wrangling](#wrangle)\n",
    "2. [string modules](#modules)\n",
    "<ol>\n",
    "<li>string\n",
    "<li>os\n",
    "<li>collections\n",
    "</ol>\n",
    "3. [Regular Expressions](#regex)\n",
    "4. [Homework](#hmwk)"
   ]
  },
  {
   "cell_type": "markdown",
   "metadata": {},
   "source": [
    "Working with text<a id=\"wrangle\"></a>\n",
    "====\n",
    "One of Python’s strengths is the ease of working with text. Here are some examples."
   ]
  },
  {
   "cell_type": "code",
   "execution_count": 74,
   "metadata": {
    "collapsed": false
   },
   "outputs": [],
   "source": [
    "from __future__ import division\n",
    "import urllib"
   ]
  },
  {
   "cell_type": "code",
   "execution_count": 258,
   "metadata": {
    "collapsed": true
   },
   "outputs": [],
   "source": [
    "files=['negative.txt','positive.txt','obama_tweets.txt']\n",
    "path='http://www.unc.edu/~ncaren/haphazard/'\n",
    "for file_name in files:\n",
    "     urllib.urlretrieve(path+file_name,file_name)"
   ]
  },
  {
   "cell_type": "code",
   "execution_count": 57,
   "metadata": {
    "collapsed": false,
    "scrolled": true
   },
   "outputs": [
    {
     "data": {
      "text/plain": [
       "'Obama has called the GOP budget social Darwinism. Nice try, but they believe in social creationism.\\nIn his teen years, Obama has been known to use marijuana and cocaine.\\nIPA Congratulates President Barack Obama for Leadership Regarding JOBS Act: WASHINGTON, Apr 05, 2012 (BUSINESS W... http://t.co/8le3DC8E\\nRT @Professor_Why: #WhatsRomneyHiding - his connection to supporters of Critical Race Theory.... Oh wait, that was Obama, not Romney...\\nRT @wardollarshome: Obama has approved more targeted assassinations than any modern US prez; READ & RT: http://t.co/bfC4gbBW\\nVideo shows federal officials joking about cost of lavish conference http://t.co/2i4SmoPM #obama #crime #p2 #news #tcot #teaparty\\none Chicago kid who says \"Obama is my man\" tells Jesse Watters that the gun violence in Chicago is like \"World War 17\"\\nRT @ohgirlphrase: American kid \"You\\'re from the UK? Ohhh cool, So do you have tea with the Queen?\". British kid: \"Do you like, go to Mcdonalds with Obama?\\nA valid explanation for why Obama won\\'t let women on the golf course.   #WhatsRomneyHiding\\nPresident Obama &lt; Lindsay Lohan RUMORS beginning cross shape lights on ST &lt; 1987 Analyst64 DC bicycle courier &lt; Video changes to scramble.\\nObama\\'s Gender Advantage Extends to the States - 2012 Decoded: New detail on recent swing state polling further ... http://t.co/8iSanDGS\\n#WhatsRomneyHiding? Obama\\'s dignity and sense of humor? #p2 #tcot\\nHere\\'s How Obama and the Democrats Will Win in 2012: Let\\'s start by going back to the assorted polls questioning... http://t.co/zpg0TVm3\\nRealClearPolitics - Obama\\'s Organizational Advantage on Full ...: As a small but electorally significant state t... http://t.co/3Ax22aBB\\nRT @GregWHoward: Obama inherited (if you want to use his lame wording) $10.6 trillion in debt and turned it into $15.2 trillion. #tcot #p2 #ocra #teaparty\\nRT @ohgirlphrase: American kid \"You\\'re from the UK? Ohhh cool, So do you have tea with the Queen?\". British kid: \"Do you like, go to Mcdonalds with Obama?\\nof course..I blame HAARP, sinners, aliens, Bush and Obama for all this.  :P....&gt;&gt; http://t.co/7eq8nebt\\nPravda Endorses and Supports Obama   http://t.co/G68JEmkz\\nRT @mlake9: Love how the #Obama campaign\\'s #WhatsRomneyHiding back fired, now #WhatsObamaHiding is trending. Seeing a lot of birth certificate tweets.\\n@katie_larson It was Obama\\'s hashtag--conservatives turned it into a game (again) :) It\\'s funny ;)\\nRT @FrankConniff: Harvard graduate Romney slammed Obama for going to Harvard. Good to know that Mitt Romney hates people like Mitt Romney.\\nRT @wilycyotee Pres. Obama\\'s ongoing support of women is another reason I am so proud he is my President!  @edshow #Obama2012\\nRT @ohgirlphrase: American kid \"You\\'re from the UK? Ohhh cool, So do you have tea with the Queen?\". British kid: \"Do you like, go to Mcdonalds with Obama?\\nRT @mlake9: Love how the #Obama campaign\\'s #WhatsRomneyHiding back fired, now #WhatsObamaHiding is trending. Seeing a lot of birth certificate tweets.\\nRT @RandallHoven: Nixon was missing 18 minutes. Obama is missing 18 years.\\n#WhatsRomneyHiding Obama\\'s birth certificate.\\n@edshow the direspect of President #Obama is based on racism. They do not want a Black PRESIDENT. #edshow\\nRT @Professor_Why: #WhatsRomneyHiding - his plan to push bad loans through for Green energy just to see \\'em go bankrupt... Oops, that\\'s Obama again!\\nThanks for the shout out in this recap of #JOBSAct signing! http://t.co/njCfZuSd via @MiamiHerald\\nRT @haymakers: When RWers whine \"What\\'s Obama doing about gas prices!?\" Tell them, \"Nothing. That\\'s how the free-market works. What are you? A socialist?\"\\nRT @0ryuge: #WhatsRomneyHiding The videotape of Barack Obama sucking up to radical Rashid Khalidi. Oh wait, that\\'s the LATimes #VetThePress #VetThePres\\n#edshow  My President is standing up,speaking up,fighting back and I am so glad he has taken the gloves off. OBAMA 2012 @edshow\\nIf Obama win 2012 Election wait til 2016 he will have full white hair! just like Bill clinton!\\nRT @Un_Progressive: .@ResistTyranny @freegalt Easy. Obama is hiding everything. Always has.\\nRT @EMcLean1982: #WhatsRomneyHiding Obama\\'s Mom Jeans\\nEven CBS won\\'t buy bogus WH explanation of Obama Supreme Court comments - at http://t.co/rkNdEmIy #withnewt #tpn #tcot #tlot #tpp #sgp\\nRT @Libertarian_76: I can\\'t wait until Romney goes after Obama on NDAA. Oh wait.\\n#KimKardashiansNextBoyFriend Obama lol Michelle ain\\'t goin 4 dat\\nObama And The Democrats Shocked By Constitutional Restraint http://t.co/RhSzoEU7 via @IBDinvestors\\nObama, Romney agree: Admit women to Augusta golf club: US President Barack Obama believes women should be allowe... http://t.co/PVKrepqI\\nRT @ohgirlphrase: American kid \"You\\'re from the UK? Ohhh cool, So do you have tea with the Queen?\". British kid: \"Do you like, go to Mcdonalds with Obama?\\n#whatsObamahiding Kryptonite for the Grand Old Party! Obama 2012\\nRT @BunkerBlast: RT @teacherspets Obama\\'s Budget: \\'Interest Payments Will Exceed Defense Budget\\' in 2019  http://t.co/uddCXCjt\\n@edshow The Right has been crying about unelected judges legislation from  bench forever all of a sudden Obama says same thing he is a Thug\\nRT @Kerryepp: #WhatsRomneyHiding that he can throw a baseball like a man and not like a girl like Obama...\\nRT @Justgod007: RT @NBCNews: President Obama signs law to prohibit insider trading by members of Congress: http://t.co/sCw6mZVz\\n@JoeSixpackSays Our Troops NEED TO COME HOME !!!! BRING OUR TROOPS HOME NOW OBAMA YOU BASTARD OOOORAH SEMPER FI\\n@BarackObama like what are you hiding, Obama?!? You are TOO MUCH!! @MittRomney\\n@edshow If Obama is a \"thug\" and a \"bully\" then I\\'m not sure what to call Rush Limbaugh and Bill O.\\nRT @ohgirlphrase: American kid \"You\\'re from the UK? Ohhh cool, So do you have tea with the Queen?\". British kid: \"Do you like, go to Mcdonalds with Obama?\\nBarack Obama The Pictures Generation, 1974-1984 (Metropolitan Museum of Art): This handsome book is the first co... http://t.co/TGgLdkOo\\nBarack Obama The Triumph of Caesar: A Novel of Ancient Rome [With Earbuds] (Playaway Adult Fiction): The Roman c... http://t.co/EbEYonbx\\nBarack Obama President Ronald Reagan\\'s Initial Actions Project: President Ronald Reagan was also facing an econo... http://t.co/8Go8oCpf\\nRT @TXGaryM: Yes #WHFail RT @jltho: This #WhatsRomneyHiding hashtag is entertaining. Is this another social media backfire from the Obama administration?\\nBarack Obama LONGBOARD Package CORE 7\" TRUCKS 76mm BIGFOOT WHEELS: The newest addition to the Bigfoot Collection... http://t.co/cnHRuUBZ\\nBarack Obama Mir laechelt kein Fruhling, WoO 25 Sheet Music: Digital Sheet Music of Mir laechelt kein Fruhling, ... http://t.co/cuHdVHYv\\nObama has a billion dollar war chest for his reelection.  When were through with vetting him it might as well be Monopoly $ #Resist44\\nRT @Talkmaster: Oh now I get it. Obama was talking in shorthand and we were just too dumb to understand how smart he really is.  Gagme.\\n#KimKardashiansNextBoyFriend Obama\\nThese Trending Topics on #Obama and #Romney signal the start of the presidential campaign. Officially paying attention.\\nRT @HeidiForLiberty: RT @Libertarian_76: I can\\'t wait until Romney goes after Obama on NDAA. Oh wait\\nRT @1Directionality: \"Harry styles described Michelle Obama as a very attractive older woman\" OBAMA HIDE YOUR WIFE, STYLES IS COMING!\"\\nAttorney Mario Apuzzo Files Ballot Access Challenge Against Obama Today in New Jersey http://t.co/06rD6lCL\\nRT @LiberalMel: REPUBLICANS WANT TO TAKE AWAY FREE HEALTHCARE AND SEND PUT PEOPLE IN JAIL FOR FIGHTING. REPUBLICANS ARE AHOLES!!! #DEM #OBAMA #OBAMA2012\\nRT @Tortured_Verse: Romney has TWO Harvard degrees and he says Obama spent \"too much time at Harvard?\"  http://t.co/J4bep9Q0 #p2 #tcot #wiunion #ocra #TWISTERS\\nRT @jennykassan: President Obama: for the first time ordinary Americans will be able to invest in companies they believe in #crowdfunding\\n@kellieo79 save it for michelle Obama.\\nRT @TrentOn_YouOff: Why Barack Obama trying to start stuff with our future President? Have some respect for Mitt Romney.\\nRT @ohgirlphrase: American kid \"You\\'re from the UK? Ohhh cool, So do you have tea with the Queen?\". British kid: \"Do you like, go to Mcdonalds with Obama?\\n#edshow Obama is passionate about healthcare - that doesn\\'t make him a bully.\\nObama is a great president. He\\'s honest, loyal, friends, smart, and wants the BEST for EVERYONE in this country, not just the rich.\\nFSU Cultural Post: Re: Newt or Mitt VS Obama. Can either of \\'em beat him?: What parts do you find distu... http://t.co/ie4ClOp9 , at RWD\\n#newbedon 4/6/2012 4:27:33 AM Obama Wins Landslide Presidential Election...With Online Gamers http://t.co/L5xqNFfD\\nAmerican kid \"You\\'re from the UK? Ohhh cool, So do you have tea with the Queen?\". British kid: \"Do you like, go to Mcdonalds with Obama?\\nRT @WhatTheFFacts: In his teen years, Obama has been known to use marijuana and cocaine.\\nThe only incompetent candidate for 2012 is Obama .  Vote NoObama in 2012\\nRT @ohgirlphrase: American kid \"You\\'re from the UK? Ohhh cool, So do you have tea with the Queen?\". British kid: \"Do you like, go to Mcdonalds with Obama?\\nRT @ohgirlphrase: American kid \"You\\'re from the UK? Ohhh cool, So do you have tea with the Queen?\". British kid: \"Do you like, go to Mcdonalds with Obama?\\n@billmaher Mr Maher I just seen the HBO documentary hot coffee.I feel so upset, we need four more years of President Obama 1000% certtain!\\nRT @RealNichelle: I love that even most that don\\'t agree with Pres Obama\\'s politics could appreciate that he\\'s a Trekker. That\\'s what IDIC is all about.\\nRT @djtechchicago: Apparently, he\\'s hiding Barack Obama\\'s copy of the Constitution. #WhatsRomneyHiding\\nRT @ohgirlphrase: American kid \"You\\'re from the UK? Ohhh cool, So do you have tea with the Queen?\". British kid: \"Do you like, go to Mcdonalds with Obama?\\nMedia Matters & Obama WH In Secret Meetings 2 Create Enemies List http://t.co/UlXo9kp3 #GOP #TCOT #TPP #Patriots #Teaparty #twisters #p2 #RS\\nIs #Syria Obama\\'s trump card, or will civil nukes offer result in more futile sanctions on #Iran? http://t.co/7W5qni2S\\nRT @markknoller: Obama Campaign says Romney should make public 23 years of tax returns so Americans can assess any conflicts of interest.\\nObama says 2012 will be a \"fun debate\": President Barack Obama says the 2012 election will be a \"fun debate\" ove... http://t.co/OGi7SdUq\\nRT @ChicoDelainky: Mitt Romney attacked President Obama for going to Harvard, yet, Romney spent 4 years at Harvard. What\\'s wrong with this man?!\\nRT @ohgirlphrase: American kid \"You\\'re from the UK? Ohhh cool, So do you have tea with the Queen?\". British kid: \"Do you like, go to Mcdonalds with Obama?\\nRT @Fake_Dispatch: I think we are all in agreement that Rick Santorum could beat Obama... at bowling.\\nRT @ohgirlphrase: American kid \"You\\'re from the UK? Ohhh cool, So do you have tea with the Queen?\". British kid: \"Do you like, go to Mcdonalds with Obama?\\nObama has called the GOP budget social Darwinism. Nice try, but they believe in social creationism.\\nIn his teen years, Obama has been known to use marijuana and cocaine.\\nRT @edshow: Righties call Pres. Obama a \"thug\" and \"bully\" for comments on health care law hearings. Comment on FB or tweet so we can share on #edshow!\\nRT @markknoller: AT a campaign fundraiser tonight, Pres. Obama again denounced Mitt Romney by name for his support of the House-passed GOP Budget.\\nRT @RobertoManzana: Obama Is Like The Worst President Ever ,\\nRT @JennyErikson: Obama\\'s college transcripts. #WhatsRomneyHiding\\nRT @ohgirlphrase: American kid \"You\\'re from the UK? Ohhh cool, So do you have tea with the Queen?\". British kid: \"Do you like, go to Mcdonalds with Obama?\\nRT @ohgirlphrase: American kid \"You\\'re from the UK? Ohhh cool, So do you have tea with the Queen?\". British kid: \"Do you like, go to Mcdonalds with Obama?\\nvote for President Barack Obama and let\\'s keep moving forward.@BarackObama\\nObama has approved more targeted assassinations than any modern US prez; READ & RT: http://t.co/bfC4gbBW\\nRT @GottaLaff: RT @markknoller: Pres Obama says it\\'ll be a big debate and a fun debate because - he says - he has the truth on his side.\\nRT @ohgirlphrase: American kid \"You\\'re from the UK? Ohhh cool, So do you have tea with the Queen?\". British kid: \"Do you like, go to Mcdonalds with Obama?\\nRT @DrewMcKissick: Dapper Dan, and a comb.  And a thick oppo research file on Obama. #WhatsRomneyHiding\\n@sgaut the Architects of the housing debacle were Schumer, Fwank, Dodd and Obama who forced banks to loan trillions to the poor. #edshow\\nRT @ohgirlphrase: American kid \"You\\'re from the UK? Ohhh cool, So do you have tea with the Queen?\". British kid: \"Do you like, go to Mcdonalds with Obama?\\nHE DIDN\\'T MEAN WHAT HE SAID! Obama\\'s Constitutional law professor spins for him b/c he\\'s a mind reader http://t.co/GTmqufBo #tcot #tlot\\nRT @ohgirlphrase: American kid \"You\\'re from the UK? Ohhh cool, So do you have tea with the Queen?\". British kid: \"Do you like, go to Mcdonalds with Obama?\\n@gretawire @WhineNot This is the most transparent Obama has been since he was caught on an open mike with the Russian president.\\nRT @ohgirlphrase: American kid \"You\\'re from the UK? Ohhh cool, So do you have tea with the Queen?\". British kid: \"Do you like, go to Mcdonalds with Obama?\\nRT @JeffersonObama: Arianna Huffington blasting President Obama at any chance and praising GOP. This pic explains things. http://t.co/Ov6I5CoS\\nObama signs bill to boost business startups http://t.co/zq6zC4ZO\\nRT @wcptersn: If Obama were white, he\\'d be Mitt Romney.\\nRT @HarryFacts1D: \\'\\'Harry Styles describe a Michelle Obama como una mujer muy atractiva.\\'\\' OBAMA ESCONDE A TU ESPOSA Y A TUS HIJOS, STYLES VIENE EN CAMINO.\\n@Fake_Dispatch no way, obama would school his ass! santorum has weak arms! lmao\\nImpossible! RT @Fake_Dispatch: I think we are all in agreement that Rick Santorum could beat Obama... at bowling.\\n\\'Back Off\\' : McConnell Warns Obama Crossed \\'Dangerous line\\'--Times  247 http://t.co/dFTjxuKB\\nI can\\'t wait until Romney goes after Obama on NDAA. Oh wait.\\nRT @GottaLaff: RT @markknoller: Pres Obama sayd \"I cannot wait\" for the \"big important debate\" we are going to have on these issues.\\nRT @ohgirlphrase: American kid \"You\\'re from the UK? Ohhh cool, So do you have tea with the Queen?\". British kid: \"Do you like, go to Mcdonalds with Obama?\\n@AC360  President Obama is a Constitutional Law scholar - give him credit and the respect that he deserves.  @JaySekulow is annoying.\\nRT @MusicandFaith: Judicial Watch: $500,000 of Your Money to Send Michelle to Africa http://t.co/DmMaGbBz via @Po_st\\nRT @PeteXU: Obama wants Romney to release his tax return that will show an effective tax rate of under 15% and how little US citizens understand taxes.\\nRT @JeffersonObama: 62% of U.S. Jews would reelect Obama, 4% say Israel is most important issue - Haaretz http://t.co/VhURDtdO http://t.co/gIGmn5kE\\nRT @debv219: #edshow Whenever Obama tells the truth about the Gop, they boo hoo hoo and call him a bully.\\n#Obama is trying to strong arm Sheriff Joe to force him to drop investigation into Obama\\'s fake birth certificate. #GOP #tcot #teaparty\\nRT @Fake_Dispatch: I think we are all in agreement that Rick Santorum could beat Obama... at bowling.\\n@WhiteHouse @BarackObama Shell sued over massive oil spills in Nigeria. President Obama: #SaveTheArctic from Shell! http://t.co/WI0ajzJX\\nRT @ohgirlphrase: American kid \"You\\'re from the UK? Ohhh cool, So do you have tea with the Queen?\". British kid: \"Do you like, go to Mcdonalds with Obama?\\nA \"legislator\" who\\'d never passed legislation. A \"law professor\" who\\'d never published a law review article ... Is Obama fictional? #hhrs\\nObama and Cantor are all smiles as JOBS Act is signed into law http://t.co/5ac6zmY0 via @zite\\n@EileenLeft @Wary12 This is from @DavidShuster IMPORTANT MSM helpRomney get away with his lies.We must warn ind voters  http://t.co/Au49TLVs\\nRT @ohgirlphrase: American kid \"You\\'re from the UK? Ohhh cool, So do you have tea with the Queen?\". British kid: \"Do you like, go to Mcdonalds with Obama?\\nIf Obama is a \"law professor,\" I am a Navy SEAL.  What a farce!  A Harvard law grad doesn\\'t know Marbury v. Madison?  He\\'s an ignorant twit.\\nObama says 2012 will be a \"fun debate\": President Barack Obama says the 2012 election will be a \"fun debate\" ove... http://t.co/RpPh3u0V\\nOh well 4 more years under Obama if that\\'s good or bad idk. But I don\\'t think americans are stupid enough to vote for Romney.\\nRT @markknoller: Pres Obama says it\\'ll be a big debate and a fun debate because - he says - he has the truth on his side.\\nTalking about gas. Asked who is to blame. Tell him I can\\'t narrow it to a single person. \"First guy all week that didnt blame Obama!\"\\nRT @ohgirlphrase: American kid \"You\\'re from the UK? Ohhh cool, So do you have tea with the Queen?\". British kid: \"Do you like, go to Mcdonalds with Obama?\\nObama believes women should be admitted to Augusta http://t.co/ltBrqsgc via @edshow\\nSo let me get this right the supreme court is going over Obama\\'s Healthcare reviewing and deciding whether or not to challenge it.\\nRT @JeffersonObama: Arianna Huffington blasting President Obama at any chance and praising GOP. This pic explains things. http://t.co/Ov6I5CoS\\nHolder to 5th Circuit. Obama didn\\'t say what he said. Read letter at http://t.co/rkNdEmIy #tcot #tlot #withnewt #prolife #sgp #lnyhbt #tpp\\nRT @thinkprogress: Romney, who has two Harvard degrees, blasts Obama for spending \"too much time at Harvard.\" http://t.co/avbgNT57 #icymi\\nRT @ohgirlphrase: American kid \"You\\'re from the UK? Ohhh cool, So do you have tea with the Queen?\". British kid: \"Do you like, go to Mcdonalds with Obama?\\nRT @HuffPostPol: Jim DeMint calls President Obama a \"bully\" http://t.co/2kXhMwKY\\nRT @Fer_SmilerJB: En el backstage de los KCA\\'s, Harry le pregunto a Michelle Obama como hacia para ordenar pizza desde la Casa Blanca.\\nRT@pslweb Endorsement Of Democrats: A Misuse Of Union Time And Money http://t.co/l3QGcWds #union #ilwu #seiu #aflcio #demproxy #union #alba\\nObama\\'s Signing Of JOBS Act Likely Won\\'t Dim #GOP Charge He\\'s Anti-Jobs http://t.co/4INNVGfC You think? #FoxNews #TeaParty #tcot #p2\\nObama talking about women being able to golf, while @MittRomney  cares about women making ends meet and putting food on the table!\\nRT @ohgirlphrase: American kid \"You\\'re from the UK? Ohhh cool, So do you have tea with the Queen?\". British kid: \"Do you like, go to Mcdonalds with Obama?\\nRT @ohgirlphrase: American kid \"You\\'re from the UK? Ohhh cool, So do you have tea with the Queen?\". British kid: \"Do you like, go to Mcdonalds with Obama?\\nRT @JoiningForces: Photo of the Day: First Lady Michelle Obama greets a #WoundedWarrior @ Walter Reed in #Bethesda: http://t.co/IwG56RDK\\nRT @ohgirlphrase: American kid \"You\\'re from the UK? Ohhh cool, So do you have tea with the Queen?\". British kid: \"Do you like, go to Mcdonalds with Obama?\\n@YungdashK I think you come across quite up yourself to think people have to earn a follow from you. You\\'re not Barack Obama sweet cheeks\\nRT @ohgirlphrase: American kid \"You\\'re from the UK? Ohhh cool, So do you have tea with the Queen?\". British kid: \"Do you like, go to Mcdonalds with Obama?\\nBreaking News: Million Men March to #Jerusalem was conceived and orchestrated by #Obama\\'s #Globalist controllers -- http://t.co/R80dwTeD\\nRT @ohgirlphrase: American kid \"You\\'re from the UK? Ohhh cool, So do you have tea with the Queen?\". British kid: \"Do you like, go to Mcdonalds with Obama?\\n#Obama 12\\' win &gt; Debt increased by 87 percent & will top $20 trillion in 2016\\nhttp://t.co/3COJeZ2F  STOP IT!!!\\nRT @markknoller: AT a campaign fundraiser tonight, Pres. Obama again denounced Mitt Romney by name for his support of the House-passed GOP Budget.\\nRT @dqnickle: I wonder who\\'d win in a footrace, Barack Obama or Mitt Romney...stereotypes tell me Bam...but those things aren\\'t very reliable are they\\nRIGHT SPEAK: LET US NOT FORGET THAT PETTY SANTORUM ENDORSES OBAMA OVER ROMNEY! NOT PRESIDENTIAL! http://t.co/ZqAuGKOd #elections2012 #gop\\nObama inherited (if you want to use his lame wording) $10.6 trillion in debt and turned it into $15.2 trillion. #tcot #p2 #ocra #teaparty\\nRT @thinkprogress: Romney, who has two Harvard degrees, blasts Obama for spending \"too much time at Harvard.\" http://t.co/avbgNT57 #icymi\\nRT @ohgirlphrase: American kid \"You\\'re from the UK? Ohhh cool, So do you have tea with the Queen?\". British kid: \"Do you like, go to Mcdonalds with Obama?\\nObamacare passed by 7 votes. For #Obama this is a \"strong majority\". LOL!  http://t.co/tX5Rx9tC #tcot #dem\\nRT @BuckSexton: interesting to see how Obama and co. game housing market to avoid final correction b4 election. millions of homes glutting market = GOP win\\nRT @ohgirlphrase: American kid \"You\\'re from the UK? Ohhh cool, So do you have tea with the Queen?\". British kid: \"Do you like, go to Mcdonalds with Obama?\\nRT @Talkmaster: Oh now I get it. Obama was talking in shorthand and we were just too dumb to understand how smart he really is.  Gagme.\\n@WilliamShatner  I just seen the HBO documentary hot coffee.I feel so upset, we need four more years of President Obama 1000% certtain!!!\\n@IamDonCheadle In your view,do you believe Obama has been an economic disaster?\\nObama \\'s hair whole gray!\\nRT @ohgirlphrase: American kid \"You\\'re from the UK? Ohhh cool, So do you have tea with the Queen?\". British kid: \"Do you like, go to Mcdonalds with Obama?\\n#WhatsRomneyHiding HE WONDERING.. WHATS OBAMA HIDING?????  remember the most transparent adm in history.. LMBO\\nSipsey Street Irregulars: Katie Pavlich writes an audio book. #FastandFurious: Barack Obama\\'s Bloodiest Scandal http://t.co/x5vw6vy4\\nEn el backstage de los KCA\\'s, Harry le pregunto a Michelle Obama como hacia para ordenar pizza desde la Casa Blanca.\\nRT @ohgirlphrase: American kid \"You\\'re from the UK? Ohhh cool, So do you have tea with the Queen?\". British kid: \"Do you like, go to Mcdonalds with Obama?\\nLaFollette \"we will go to newly elected president Obama and ask for our train back\"\\nRT @HuffPostPol: Jim DeMint calls President Obama a \"bully\" http://t.co/5xHkGMDg / Soooo out of touch.\\nRT @MikeLotito15: Alright President Obama needs to pass a law that prohibits anyone and everyone from tweeting about this one direction crap. It will stop now\\nRT @BandDirFundRais: Is this the same golf course that refused to admit blacks until Tiger Woods? #WomenOnlyCourse #obama #agusta #golf http://t.co/d2tf13n0\\nRT @ohgirlphrase: American kid \"You\\'re from the UK? Ohhh cool, So do you have tea with the Queen?\". British kid: \"Do you like, go to Mcdonalds with Obama?\\n@Wozniak1: @edshow Irony is fun: Obama is much friendlier with Muslim Brotherhood than the GOP, but says only later is waging war on women.\\nObama has called the GOP budget social Darwinism. Nice try, but they believe in social creationism.\\nIn his teen years, Obama has been known to use marijuana and cocaine.\\nRT @Gabby_Hoffman: We want a president with a spine, not a president with fecklessness. America can do better than Obama. #resist44 #tcot RT if you agree!\\nRT @ohgirlphrase: American kid \"You\\'re from the UK? Ohhh cool, So do you have tea with the Queen?\". British kid: \"Do you like, go to Mcdonalds with Obama?\\nRT @JeffersonObama: Arianna Huffington blasting President Obama at any chance and praising GOP. This pic explains things. http://t.co/Ov6I5CoS\\nRT @ohgirlphrase: American kid \"You\\'re from the UK? Ohhh cool, So do you have tea with the Queen?\". British kid: \"Do you like, go to Mcdonalds with Obama?\\nObama Birth Certificate http://t.co/1yZOM5d9\\nRT @Zulu_xo: #KimKardashiansNextBoyFriend Obama?\\nEn el backstage de los KCA\\'s Harry le pregunto a Michelle Obama como hacia para ordenar pizza desde la Casa Blanca #1Dfact\\n@edshow: Pres. Obama a \"thug\" and \"bully\" well I\\'m glad he has my back figthing for healthcare for all! #edshow!\\nRT @derekahunter: I like how Obama asks \"#WhatsRomneyHiding?\" My guess, Obama\\'s crappy college transcripts. #WhatsObamaSmoking? #Caring #p2 @Messina2012\\nRT @markknoller: Pres Obama sayd \"I cannot wait\" for the \"big important debate\" we are going to have on these issues.\\nNBC Accuses Federal Judge of Bringing Politics Into Courtroom By Questioning Obama | Media Research Center http://t.co/m3LFBhGY\\nNo one thinks Obama sold out today? I do. This was a complete sell out.\\n@BarackObama i want your real birth certificate obama,And your real college transcripts. Too bad they dont exist! barry the exchange student\\n@2happi2bsad Why not obama?\\nHow Saul Alinsky Taught Obama to Say One Thing and Do the Opposite http://t.co/yg8Wl99P\\nWhat Obama could learn from Muhammad Ali | Stephen M. Walt: http://t.co/T8Mfzi0i\\n@LongLiveShah the time that Obama decide 2 move his ass about mullahs,they\\'ll nuke the whole world&still Obama wants 2 shake hands with them\\nRT @ohgirlphrase: American kid \"You\\'re from the UK? Ohhh cool, So do you have tea with the Queen?\". British kid: \"Do you like, go to Mcdonalds with Obama?\\nRT @ohgirlphrase: American kid \"You\\'re from the UK? Ohhh cool, So do you have tea with the Queen?\". British kid: \"Do you like, go to Mcdonalds with Obama?\\nRT @JanOnAmerica: With all the truth that has been exposed about the Obama Administration, you have to wonder why any Americans in... http://t.co/1Pso0ULz\\nMitt Romney\\'s tweets all have something to do with Obama! Like really its not that serious\\nObama\\'s Budget: \\'Interest Payments Will Exceed Defense Budget\\' in 2019 http://t.co/dKy7CI8M\\n\"@edu_castillo: Obama aboga por el ingreso de las mujeres al club de golf de Augusta// mish interesante...\\nRT @MooseOfReason: With a range of opinion from Obama to Romney. MT @markknoller: Pres Obama says \"I cannot wait\" for \"big important debate\" on issues.\\nswear i just saw barack obama walking down my street...highly doubtful hahaha #INeedGlasses\\nRT @against_obama: Obama\\'s illegal alien uncle\\'s drivers license #whatsromneyhiding\\n@LeslieMarshall You mean savings...when SCOTUS tells the world that Obama is wrong.ACA is unconstitutional! Are you sure Obama is a lawyer?\\nObama 2 versions of his ties 2 #ACORN : At 2008 debate http://t.co/2eaXDiOD - To ACORN: http://t.co/IP2xu3cW #WhatsRomneyHiding #gen44 #tcot\\n\"@SubwayEATTFRESH: WHO HASN\\'T KIM K DATED??? OBAMA\"\\n#WhatsRomneyHiding - his connection to supporters of Critical Race Theory.... Oh wait, that was Obama, not Romney...\\n@Solameanie Truly & O\\'Reilly\\'s milquetoast  interview w/that Obama a$$ kisser &socialist (also a race baiter) Marc Lamont Hill was sickening\\nObama campaign wants to train army of women http://t.co/48O3o6jd\\nI think we are all in agreement that Rick Santorum could beat Obama... at bowling.\\nOh, how fun! Another #Obama-created Hashtag #WhatsRomneyHiding Via @anthropocon\\nRT @lilcode45: why does everyone hate on obama?&lt; Cause he aint done shit for us.\\n@Harry_Styles Barack obama should hide his kids and hide his wife\\nRT @katiehiggins_x: My favourite drawing I\\'ve ever received on draw something is Nicole\\'s drawing of Obama. Piece of art that was.\\n@edshow President Obama made the federal court look ridiculous, and showed the RW who they truly are.\\nRT @thinkprogress: Romney, who has two Harvard degrees, blasts Obama for spending \"too much time at Harvard.\" http://t.co/avbgNT57 #icymi\\nRomney and Obama agree that Augusta National should allow women to be members? Unthinkable...and bad news for the green coats.\\n#WhatsRomneyHiding The videotape of Barack Obama sucking up to radical Rashid Khalidi. Oh wait, that\\'s the LATimes #VetThePress #VetThePres\\nInteresting take: Obama Misquotes Bible on Wealth Redistribution http://t.co/qGDbGxfg\\nRT @JennyErikson: Obama\\'s college transcripts. #WhatsRomneyHiding\\nTop News Headlines: Obama Signs JOBS Act http://t.co/fCuFtbWm #business #video\\nRT @ohgirlphrase: American kid \"You\\'re from the UK? Ohhh cool, So do you have tea with the Queen?\". British kid: \"Do you like, go to Mcdonalds with Obama?\\nObama seeks to defuse healthcare row with court @ http://t.co/KkaKZGHv...\\nRT @BelleInABow: Obama doesn\\'t need to be your favorite person, but he\\'s still the President of the United States of America. That always deserves respect.\\nRT @LouTommoBum: Michelle Obama invited the boys to her Easter party. l0l\\n@AP 0 because i know the global elite have set up america to fail in the coming years and there doing it through there puppet obama\\nInteresting take: Obama Misquotes Bible on Wealth Redistribution http://t.co/Z2BCceVk\\n@marclamonthill Why aren\\'t you and Obama and others telling kids to stop dressing like thugs in jail.... go to school...don\\'t emulate thugs\\nLook For Obama To Approve Keystone Pipeline - Right Before The Election, http://t.co/rVWI6S1Y, #TCOT\\nRT @robints: Obama Admin cries for tax increases as they applaud China 4 lowering taxes to spur econ grwth. http://t.co/iR2DAMfM Can\\'t make it up! #tcot\\nBarack Obama is coming to FAU on Tuesday! :D\\nRT @GEsfandiari: \"Obama signaled US would accept Iranian civilian nuclear program if Khamenei back up claim #Iran will not pursue nukes\" http://t.co/svxFPoHq\\nRT @handrewschwartz: Ignatius reports Obama signaled Iran US wld accept civ nuke pgm if Khameni can assure Iran will never get nuke weapons http://t.co/KkaAhGPq\\n#whatsromneyhiding from obama\\n@HesDanTheMan @edshow nothing will come of it.  Had it been #obama, the #gop would impeach him. #p2 #edshow\\nExposing the Obama-Soetoro deception: http://t.co/PFmSWQsU via @AddThis\\nOBAMA Follows The Quran &gt; Muslims can Lie to the Infidel (US) to Get achieve His Goals&gt; Destruction of the West&gt; #tcot #p2 #ocra #dem #tlot\\nRT @blakehounshell: From Ignatius: \"U.S. officials hope [Putin] can broker a Syria deal before he meets Obama at the G-8 summit next month.\"\\nRT @CatoInstitute: NEW Podcast:  Obama\\'s Vanished Coalition http://t.co/w0cUHRM5  (h/t @COBrown)\\nAmerican kid \"You\\'re from the UK? Ohhh cool, So do you have tea with the Queen?\". British kid: \"Do you like, go to Mcdonalds with Obama?\\n@c_o_l_l_e_e_n Obama is ill prepared for the sh*t storm if the Catholics shut down the hospitals and universities\\nBeloit (WI) Daily News:  Obama setting up Supreme Court as a campaign issue . More #Obama #news - http://t.co/WYKgE3LZ\\n@markknoller @obama denounces @mittromney for supporting a budget? Why doesn\\'t @obama denounce the senate for ignoring HIS budget ?\\nRT @JonahNRO: But he got them fast! MT @thinkprogress Romney, who has two Harvard degrees, blasts Obama for spending \"too much time at Harvard.\"\\nI\\'ll survive if America elects Obama again. After all, thats what we\\'re all about. Electing some moron who\\'s kiling everything we believe in\\nRT @markknoller: Pres Obama says it\\'ll be a big debate and a fun debate because - he says - he has the truth on his side.\\nRT @HeraMing: While #Progressives shout #WarOnWomen at #Republicans, Barack Hussein #Obama hosts Muslim \"Sharia Law\" Brotherhood AT WHITEHOUSE!! WTH?!?!\\n#WhatsRomneyHiding the secret handshake. Obama is really mad he wants to know this handshake\\nI\\'d like to read #Obama\\'s #college thesis to find out if he espouses any constitutional conflicts of interest. #tcot #whatsobamahiding #p2\\n@mmfa Like the questions the liberal media gives Obama.\\nRT @Creationtips: Ouch! Obama at prayer breakfast: Jesus Is \"A Son of God\". (CNS) | http://t.co/9a1deeP0\\nRT @ohgirlphrase: American kid \"You\\'re from the UK? Ohhh cool, So do you have tea with the Queen?\". British kid: \"Do you like, go to Mcdonalds with Obama?\\nRT @SteveDeaceShow: Tonight\\'s show: the Texas Republican Party may be the last line of defense between the Constitution and another four years of Obama.\\nRT @ohgirlphrase: American kid \"You\\'re from the UK? Ohhh cool, So do you have tea with the Queen?\". British kid: \"Do you like, go to Mcdonalds with Obama?\\nPresident Obama Signs the Jumpstart Our Business Startups (JOBS) Act: An Attempt to Ease Access to Capital and... http://t.co/B2cYIX23\\n#edshow Whenever Obama tells the truth about the Gop, they boo hoo hoo and call him a bully.\\nRT @GEsfandiari: \"Obama signaled US would accept Iranian civilian nuclear program if Khamenei back up claim #Iran will not pursue nukes\" http://t.co/svxFPoHq\\nRT @ohgirlphrase: American kid \"You\\'re from the UK? Ohhh cool, So do you have tea with the Queen?\". British kid: \"Do you like, go to Mcdonalds with Obama?\\nRT @nprnews Assailing \\'Disobedience,\\' Pope Says Women Will Not Be Ordained http://t.co/sYSnUwUJ Compare to Obama\\'s statement on lady golfers\\n#whatsromneyhiding the fact that he is a student of critical race theory? Or is that Obama.....?\\nRT @GEsfandiari: \"Obama signaled US would accept Iranian civilian nuclear program if Khamenei back up claim #Iran will not pursue nukes\" http://t.co/svxFPoHq\\nObama Attacks Justices & Now Must Answer in Court http://t.co/NKCZ0YqD. How anyone can support such a manipulative President?\\nRT @PresElections: The Barack Obama, Mitt Romney budget battle - Ben White http://t.co/gb87afx1 via @newspin\\nObama has called the GOP budget social Darwinism. Nice try, but they believe in social creationism.\\nIn his teen years, Obama has been known to use marijuana and cocaine.\\nRT @GEsfandiari: \"Obama signaled US would accept Iranian civilian nuclear program if Khamenei back up claim #Iran will not pursue nukes\" http://t.co/svxFPoHq\\nVan Jones Echoes \\'08 Hillary Clinton: President Obama, \\'A Great... http://t.co/B3b4vkeX\\nRT @RealClearScott: NH is emblematic of Obama\\'s swing state organization advantage. Already over 30 staffers, 7 offices: http://t.co/X8fkVleu\\nJim DeMint calls President Obama a \"bully\" http://t.co/2kXhMwKY\\nObama Could Face Election-Year Jam on Gay Marriage| http://t.co/aViCL1rV |\\rSouthFloridaGayNews.| |#lgbt #p2 #glbt #ssm #queer #gay|\\nWith a range of opinion from Obama to Romney. MT @markknoller: Pres Obama says \"I cannot wait\" for \"big important debate\" on issues.\\nRT @WhatTheFFacts: In his teen years, Obama has been known to use marijuana and cocaine.\\nRT @markknoller: Pres Obama sayd \"I cannot wait\" for the \"big important debate\" we are going to have on these issues.\\nObama\\'s Weak-Kneed Regulatory Regime | Common Dreams: http://t.co/IZXRte2e via @AddThis\\nRT @ohgirlphrase: American kid \"You\\'re from the UK? Ohhh cool, So do you have tea with the Queen?\". British kid: \"Do you like, go to Mcdonalds with Obama?\\nInteresting take: Obama Misquotes Bible on Wealth Redistribution http://t.co/ejpjWjHg\\nRT lmfao @_Ciroc_Obama: Wonder if @PRINCE_POLO know Rihanna in that new movie battleship who am I kidding of course his groupie ass knew lol\\nInteresting take: Obama Misquotes Bible on Wealth Redistribution http://t.co/FNPrvVDK\\n#KimKardashiansNextBoyFriend Obama?\\nObey: Obama still not satisfied with the lapdog press (@times247)  http://t.co/FVcoWj7p\\nObama says knock you out -- http://t.co/PUZRq7HU #screwytees\\nRT @HonestConservat: EXCLUSIVE Selma Bouvier w 3 am Kagan 2 Obama call http://t.co/JdrQZSJr THE SHREW @SgtTim911\\nRT @djtechchicago: Apparently, he\\'s hiding Barack Obama\\'s copy of the Constitution. #WhatsRomneyHiding\\n#WhatsRomneyHiding Michelle Obama\\'s divorce attorney on speed dial?\\nObama is a puppet for America. There\\'s more to his face and words.\\nRT @JeffersonObama: Arianna Huffington blasting President Obama at any chance and praising GOP. This pic explains things. http://t.co/Ov6I5CoS\\nRT @charlesdavis84: All those people with Obama logos on their avatar? If someone could do that for me but with the Pepsi logo I\\'d appreciate it.\\n@edshow #edshow Obama is the one looking out for women the GOP is in fiction world\\nGOP calls Pres. Obama a Thug and we wonder why #TrayvonMartin / was killed\\n@BaisdenLive Look at the Barack Obama Chicken Nugget on ebay. You are not going to believe this. Why is this allowed?\\nRT @Professor_Why: #WhatsRomneyHiding - his willingness to tell police officers they \"acted stupidly\" w/out knowing the facts... Oh wait, that\\'s Obama again!\\nRT @markknoller: Pres Obama says it\\'ll be a big debate and a fun debate because - he says - he has the truth on his side.\\nWhite House in damage control over Obama Supreme Court remarks: The White House was forced on the defensive on W... http://t.co/2Yy8Srct\\nRT @ForAmerica: McCaskill Calls For Obama to Release Day&Half Supply of Oil From SPR via @MOPNS But Biden says oil policy is \"best it\\'s ever been\" #MOsen\\na  large number of #GOP women will vote for #Obama #edshow\\nObama on the offensive! RT @BarackObama: So what\\'s Romney hiding? Tweet @MittRomney to demand he release his tax returns. #WhatsRomneyHiding\\nObama\\'s college transcripts. #WhatsRomneyHiding\\nRT @ohgirlphrase: American kid \"You\\'re from the UK? Ohhh cool, So do you have tea with the Queen?\". British kid: \"Do you like, go to Mcdonalds with Obama?\\nYou want others to know how you feel and say sorry without you telling them what\\'s wrong. Last time I checked, Obama is still president :/\\nRT @astroterf: RT @scarlett_0hara: RT @rightchange2012: Veteran groups blast Obama\\'s plan 2 double (cont) http://t.co/ZuKdTidE\\n@maddow Rachel I just seen the HBO documentary hot coffee.I feel so upset, we need four more years of President Obama 1000% certtain!\\nAmerican kid \"You\\'re from the UK? Ohhh cool, So do you have tea with the Queen?\". British kid: \"Do you like, go to Mcdonalds with Obama?\\nObama Is Like The Worst President Ever ,\\nRT @yahoo_music: Madonna Tweets Britney, Katy, Skrillex And Obama, Plus Exclusive Ultra Music Fest Video! http://t.co/EteMGqKk\\nRT @keder: His record includes making businesses profitable, instead of bankrupting and extorting them. (Unlike Obama) #WhatsRomneyHiding\\nOne Direction Tolak Undangan Michelle Obama! http://t.co/S8lPX0SZ [Like it? http://t.co/WIDZGjRj ]\\nwhats up with the obama trend ? Leave the man alone ! Hes done ALOT\\nPresident Obama is coming to FAU April 10 &gt;__&lt; parking is going to be worse than it already is... @nicholle_\\nMy favourite drawing I\\'ve ever received on draw something is Nicole\\'s drawing of Obama. Piece of art that was.\\nRT @GEsfandiari: \"Obama signaled US would accept Iranian civilian nuclear program if Khamenei back up claim #Iran will not pursue nuk...\\nHow come Barack Obama has twitter? Some illuminati trying to disguise himself. He puts voodoo on his followers\\nRT @ohgirlphrase: American kid \"You\\'re from the UK? Ohhh cool, So do you have tea with the Queen?\". British kid: \"Do you like, go to Mcdonalds with Obama?\\nRT @17bbomb: @geoff9cow Right! Of course! It\\'s ALWAYS someone else\\'s fault when it comes to Obama! / about 95% is. very good odds, too.\\nRT @ridiamond: WORD!! \"Obama\\'s Organizational Advantage on Full Display in N.H.\"\\nhttp://t.co/JrUSKBu9\\nObama Signs Rare Bipartisan Jobs Bill: http://t.co/W761OyXD via @youtube\\nRT @ohgirlphrase: American kid \"You\\'re from the UK? Ohhh cool, So do you have tea with the Queen?\". British kid: \"Do you like, go to Mcdonalds with Obama?\\nRT @markknoller: Pres Obama sayd \"I cannot wait\" for the \"big important debate\" we are going to have on these issues.\\nRT @ohgirlphrase: American kid \"You\\'re from the UK? Ohhh cool, So do you have tea with the Queen?\". British kid: \"Do you like, go to Mcdonalds with Obama?\\nRT @ohgirlphrase: American kid \"You\\'re from the UK? Ohhh cool, So do you have tea with the Queen?\". British kid: \"Do you like, go to Mcdonalds with Obama?\\nRT @Drudge_Report: Obama setting up Supreme Court as campaign issue... http://t.co/1IiLN01H\\n@markknoller funny Obama saying Romney should release stuff. Mr birth certificate. mr no college records. must think we are stupid.\\nRT @markknoller: Pres Obama says it\\'ll be a big debate and a fun debate because - he says - he has the truth on his side.\\nRT @mediaite: The Five\\'s Greg Gutfeld: President Obama Isn\\'t A Bully, He\\'s A Whiner (VIDEO) http://t.co/kWBO2rSs\\nPresident  Obama has the highest office in America yet he hasn\\'t the power to speak freely. So much for the First Amendment! #backoffdummies\\nObey: Obama still not satisfied with the lapdog press http://t.co/4vxMWaZv #wethepeople in the way! #tcot #sgp\\nRT @MsRock4Ever: GOP is SO desperate and so Frightened of President Obama that they are suppressing votes in several states, but it will cause them loss too.\\nRT @ohgirlphrase: American kid \"You\\'re from the UK? Ohhh cool, So do you have tea with the Queen?\". British kid: \"Do you like, go to Mcdonalds with Obama?\\nRT @TPO_Hisself: For the first time in history, CONTRARY 2 Dr. King\\'s wishes, Obama is calling on voters FOR THE COLOR OF THEIR SKIN! #RACIST! #TREASON!\\nToday\\'s Federal Debt is about $15.2 Trillion. Obama has added 43% since he usurped the office of POTUS. #tcot #p2 #ocra #teaparty\\nRT @TPO_Hisself: For the first time in history, CONTRARY 2 Dr. King\\'s wishes, Obama is calling on voters FOR THE COLOR OF THEIR SKIN! #RACIST! #TREASON!\\nRT @Talkmaster: Oh now I get it. Obama was talking in shorthand and we were just too dumb to understand how smart he really is.  Gagme.\\nRT @susie_c: Latest on #NDAA lawsuit from @sparrowmedia, which has the prettiest website. http://t.co/RQQpZJHd\\nRT @ohgirlphrase: American kid \"You\\'re from the UK? Ohhh cool, So do you have tea with the Queen?\". British kid: \"Do you like, go to Mcdonalds with Obama?\\nStill hoping that #Obama is gonna make some #Romney/Bob Ewell comparison before the night is over. http://t.co/0TBmBaKB #p2\\nRT @LouTommoBum: Michelle Obama invited the boys to her Easter party. l0l\\nRT @PoliticalGal11: Archbishop Dolan: Obama lied to his face. Read at http://t.co/wX1RzFKm #tcot #prolife #tlot #sgp #MSM #tpp #Catholic #lnyhbt #withnewt #army\\nRT @ohgirlphrase: American kid \"You\\'re from the UK? Ohhh cool, So do you have tea with the Queen?\". British kid: \"Do you like, go to Mcdonalds with Obama?\\nAfter Threatening Judges, GOP Accuses Obama of Judicial Intimidation http://t.co/rHr93J15 via @dailykos -- #Republican #Disinformation\\nclick obama related trending topic. racist bullshit every few tweets. [arrested development dove macro]\\nRT @ItsLoopzProd: LOOOOOOOOOOOOOOOOOOOOOOOOOOOOL This is why i rate obama http://t.co/vsOYFhSa\\nRT @HarryFacts1D: \\'\\'Harry Styles describe a Michelle Obama como una mujer muy atractiva.\\'\\' OBAMA ESCONDE A TU ESPOSA Y A TUS HIJOS, STYLES VIENE EN CAMINO.\\nLate Night Jokes: Obama Unqualified to Be a Trekkie: \\nThe Tonight Show With Jay Leno\\nCongratulations to Mitt Ro... http://t.co/krM3IuSt\\nRT @jltho: This #WhatsRomneyHiding hashtag is entertaining. Is this another social media backfire from the Obama administration?\\nObama: \"To avoid voter fraud, I have authorized $1.5B to hire the Black Panthers for Security at polling places. We are watchigng you\"\\nRT @Blondiecakess: Obama\\'s skin color is not a reason to vote for him..\\nRT @Our4thEstate: @edshow The President of the United States, Barack Obama, is all that stands between the rights of the 99% & the Party of Koch & Norquist.\\nRT @JeffersonObama: Arianna Huffington blasting President Obama at any chance and praising GOP. This pic explains things. http://t.co/Ov6I5CoS\\n#newbedon 4/6/2012 4:25:20 AM Obama Wins Landslide Presidential Election...With Online Gamers http://t.co/JGbJwE9Z\\nHappy Passover, love Obama http://t.co/gHQ3NrWP\\nObama has called the GOP budget social Darwinism. Nice try, but they believe in social creationism.\\nIn his teen years, Obama has been known to use marijuana and cocaine.\\nWhy Did Obama Invite Al Sharpton to Easter Prayer Breakfast But Not Southern Baptist Leaders? http://t.co/Zgsh2zyo via @theblaze\\nRT @ohgirlphrase: American kid \"You\\'re from the UK? Ohhh cool, So do you have tea with the Queen?\". British kid: \"Do you like, go to Mcdonalds with Obama?\\nRT @jmimac351: @EWErickson $4 gas, high unemployment & Obama is worried about Augusta National. This is smoke and mirrors for utter failure. #cantwait2vote\\nLove how the #Obama campaign\\'s #WhatsRomneyHiding back fired, now #WhatsObamaHiding is trending. Seeing a lot of birth certificate tweets.\\n#WhatsRomneyHiding Obama\\'s Mom Jeans\\nRT @ohgirlphrase: American kid \"You\\'re from the UK? Ohhh cool, So do you have tea with the Queen?\". British kid: \"Do you like, go to Mcdonalds with Obama?\\nWith all the truth that has been exposed about the Obama Administration, you have to wonder why any Americans in... http://t.co/1Pso0ULz\\nYes #WHFail RT @jltho: This #WhatsRomneyHiding hashtag is entertaining. Is this another social media backfire from the Obama administration?\\n#Obama Signs \"Fraud-Friendly\" JOBS #Act into Law: http://t.co/j92pfp6T | #business #economist\\nRT @ohgirlphrase: American kid \"You\\'re from the UK? Ohhh cool, So do you have tea with the Queen?\". British kid: \"Do you like, go to Mcdonalds with Obama?\\n@edshow that\\'s because Obama is a thug and unqualified to be president\\nRT @ohgirlphrase: American kid \"You\\'re from the UK? Ohhh cool, So do you have tea with the Queen?\". British kid: \"Do you like, go to Mcdonalds with Obama?\\n@Bdcochese I\\'m scared to hear it any anti Obama songs or is uncle AL only against his government when a republicans in office\\n@AustinPaul19 Why\\'s Obama hiding his school record\\'s ?\\nRT @ohgirlphrase: American kid \"You\\'re from the UK? Ohhh cool, So do you have tea with the Queen?\". British kid: \"Do you like, go to Mcdonalds with Obama?\\nObama: If you\\'re a racist and you know it, and you REALLY want to show it, VOTE FOR ME!!   http://t.co/CK84NpUq #TREASON\\nRT @blakehounshell: From Ignatius: \"U.S. officials hope [Putin] can broker a Syria deal before he meets Obama at the G-8 summit next month.\"\\n@Mr_JPatt did you ever read obama\\'s book before he became president?\\nI love President Obama @BarackObama\\nRT @ohgirlphrase: American kid \"You\\'re from the UK? Ohhh cool, So do you have tea with the Queen?\". British kid: \"Do you like, go to Mcdonalds with Obama?\\nRT @ohgirlphrase: American kid \"You\\'re from the UK? Ohhh cool, So do you have tea with the Queen?\". British kid: \"Do you like, go to Mcdonalds with Obama?\\nObama Warns Unelected Supreme Court Against Striking Down Healthcare & J...: http://t.co/0bk8kViG via @youtube\\n@BarackObama Obama vs. the Constitution, the Bill of Rights, the Declaration of Independence, etc...\\nRT @ohgirlphrase: American kid \"You\\'re from the UK? Ohhh cool, So do you have tea with the Queen?\". British kid: \"Do you like, go to Mcdonalds with Obama?\\nRT @Steto33: @edshow Tomorrow\\'s GOP headline: Obama hates golf. #edshow\\n@markknoller Does Obama really want to dig into Romney\\'s past like that? Wow! It looks like #vetthepresident time. Go Breitbart acolytes!\\nObama is verifiably NUTS &gt; now challenging the legitimacy of the U.S. Supreme Court http://t.co/XliEIxvs #rnc #economy #teabagger\\nRT @ohgirlphrase: American kid \"You\\'re from the UK? Ohhh cool, So do you have tea with the Queen?\". British kid: \"Do you like, go to Mcdonalds with Obama?\\n@danwho equalization. That sounds like \\'redistribution of wealth\\' aka another commie plot from Obama.\\nObama signs JOBS Act to boost startup firms - http://t.co/SELMj7zZ\\nRT @JeffersonObama: 62% of U.S. Jews would reelect Obama, 4% say Israel is most important issue - Haaretz http://t.co/VhURDtdO http://t.co/gIGmn5kE\\nRT @betseyross: Democrats & EPA move to destroy US coal industry http://t.co/NFOS1n9d @ClaireCMC @KayHagan @MarkWarner @SenJimDeMint @MarcoRubio @RandPaul\\nRT @JeffersonObama: Arianna Huffington blasting President Obama at any chance and praising GOP. This pic explains things. http://t.co/Ov6I5CoS\\nRT @theblaze: DOJ Issues Letter Clarifying Obama\\'s Remarks: Court\\'s Power to Strike Down Laws \\'Beyond Dispute\\' http://t.co/pAe0TYYI via @theblaze mm\\nRT @Our4thEstate: @edshow The President of the United States, Barack Obama, is all that stands between the rights of the 99% & the Party of Koch & Norquist.\\nAmerican Kid \"You\\'re From The UK? Ohhh Cool, So Do You Have Tea With The Queen?\". British Kid: \"Do You Like, Go To Mcdonalds With Obama?\"\\nObama dings men-only Masters host @ http://t.co/kexX62X8 US President Barack Obama says w...\\nRT @ohgirlphrase: American kid \"You\\'re from the UK? Ohhh cool, So do you have tea with the Queen?\". British kid: \"Do you like, go to Mcdonalds with Obama?\\n@FHQ of course, if Obama just wins PA, he\\'s at 270 in most scenarios. Obama goes 2/4, he\\'s definitely over it (assuming VA is blue.)\\nFormer White House Speechwriter Suggests Military Coup Could Oust Obama http://t.co/NddhkcNX\\nPres Obama should worry about something else(i.e. economy) instead of Augusta\\'s membership policies..Policy was in place way before his time\\n@Obama2012 @truthteam2012 @gop Obama run on your record and your budgets that were voted down 97-0 and 414-0 instead if this nonsense\\nRT @sunnyright: A $1 million donation from a guy who refers to women as c*nts and tw*ts. Oh, wait, that\\'s Obama and Bill Maher. #WhatsRomneyHiding\\nRT @ohgirlphrase: American kid \"You\\'re from the UK? Ohhh cool, So do you have tea with the Queen?\". British kid: \"Do you like, go to Mcdonalds with Obama?\\n\"Service is the rent we pay to live on earth\" Michelle Obama\\nRT @Talkmaster: Oh now I get it. Obama was talking in shorthand and we were just too dumb to understand how smart he really is.  Gagme.\\n@DavidCornDC Mr Corn I just seen the HBO documentary hot coffee.I feel so upset, we need four more years of President Obama 1000% certtain!\\nFor the first time in history, CONTRARY 2 Dr. King\\'s wishes, Obama is calling on voters FOR THE COLOR OF THEIR SKIN! #RACIST! #TREASON!\\nIt\\'s incredible that something like #WhatsRomneyHiding would be trending. Yet Obama is sneakiest, harmful person and no one says anything.\\nRT @JeffersonObama: 62% of U.S. Jews would reelect Obama, 4% say Israel is most important issue - Haaretz http://t.co/VhURDtdO http://t.co/gIGmn5kE\\nArchbishop Dolan: Obama lied to his face. Read at http://t.co/wX1RzFKm #tcot #prolife #tlot #sgp #MSM #tpp #Catholic #lnyhbt #withnewt #army\\nTHIS is what the gun sale surge was for when Obama was elected. #thinkaboutit\\n@NHLWingsfanKay well whiter obama :P\\nPresident Obama ^ Lindsay Lohan ^ USA Intel public scams ^ Press 2007 pissed off Analyt64  = DC courier type magnet on USA White House.\\nRT @ohgirlphrase: American kid \"You\\'re from the UK? Ohhh cool, So do you have tea with the Queen?\". British kid: \"Do you like, go to Mcdonalds with Obama?\\nRT @OrwellForce: Everything Obama did before the age of 35 #WhatsRomneyHiding\\n@VRWCTexan FIRST OF ALL OBAMA WAS\" NOT\" A CONSTITUTIONAL LAW  PROFESSOR , HE WAS \"NOT\" AN TENURED PROFESSOR, HE WAS AN INSTRUCTOR,THATS IT\\nBean on my pocket, Obama on my wrist.\\nObama to all black Americans: I REALLY need you this time! Whitey won\\'t be fooled twice!!   http://t.co/f8b7HLaf  #TREASON\\nRT @markknoller: Pres Obama says it\\'ll be a big debate and a fun debate because - he says - he has the truth on his side.\\nRT @ohgirlphrase: American kid \"You\\'re from the UK? Ohhh cool, So do you have tea with the Queen?\". British kid: \"Do you like, go to Mcdonalds with Obama?\\nRT @ohgirlphrase: American kid \"You\\'re from the UK? Ohhh cool, So do you have tea with the Queen?\". British kid: \"Do you like, go to Mcdonalds with Obama?\\nRT @baseballcrank: #WhatsRomneyHiding Obama\\'s State Senate records\\nRT @JeffersonObama: Arianna Huffington blasting President Obama at any chance and praising GOP. This pic explains things. http://t.co/Ov6I5CoS\\nThis Reporter stuck it to the #Obama Admin. lol http://t.co/taquWJUt\\nObama\\'s skin color is not a reason to vote for him..\\nRT @ohgirlphrase: American kid \"You\\'re from the UK? Ohhh cool, So do you have tea with the Queen?\". British kid: \"Do you like, go to Mcdonalds with Obama?\\n@geoff9cow Right! Of course! It\\'s ALWAYS someone else\\'s fault when it comes to Obama!\\nRT @cannabis_times: Drug Policy Groups Unite to Demand End to Medical Marijuana Raids - http://t.co/y1W2HmGS via @Shareaholic\\nRT @Professor_Why: #WhatsRomneyHiding - the fact that REAL unemployment is at 19%... Oh wait, that\\'s Obama, not Romney...\\nExaminer Editorial: Obama\\'s budget, not Ryan\\'s, is \\'antithetical\\' to history: Speaking at the American Society o... http://t.co/mNhPMR5U\\ngotta take care of those kids, i know you heard Obama\\nExaminer Editorial: Obama\\'s budget, not Ryan\\'s, is \\'antithetical\\' to history: Speaking at the American Society o... http://t.co/maoLb5Ia\\nRT @ohgirlphrase: American kid \"You\\'re from the UK? Ohhh cool, So do you have tea with the Queen?\". British kid: \"Do you like, go to Mcdonalds with Obama?\\nRT @michellemalkin: DBM. Drool Bucket Media. RT @Josh_Painter: What media bias? AP Chairman Slobbers All Over Obama, http://t.co/8IhorwzV\\nIf you can find a better Obama gif than this one, I\\'m quitting Twitter. http://t.co/cNr0Sr3c\\nOne more thing to like about President Obama: #WGCL Obama believes women should be admitted to Augusta http://t.co/go9toJ8e\\nRT @IndyEnigma: How Saul Alinsky Taught Obama http://t.co/gIb7UzdC to Say One Thing and Do the Opposite #twcot #ocra #p2 #sgp #tcot\\nRT @ohgirlphrase: American kid \"You\\'re from the UK? Ohhh cool, So do you have tea with the Queen?\". British kid: \"Do you like, go to Mcdonalds with Obama?\\nWhile fishing \\nLady: do you live in here. \\nTanner: yeah\\nLady: well then who\\'s the president \\nTanner: Barack obama duh #run\\n@TannerEnglish3\\nRT @JeffersonObama: Arianna Huffington blasting President Obama at any chance and praising GOP. This pic explains things. http://t.co/Ov6I5CoS\\nObama: If all the blacks line up for me, I promise I will triple your entitlements & give you all Escalades    http://t.co/f8b7HLaf\\nRT @markknoller: Pres Obama sayd \"I cannot wait\" for the \"big important debate\" we are going to have on these issues.\\nFor $10 I\\'d prank call Obama\\nAmid Trayvon Martin case, Obama hosts screening of \\'To Kill a Mockingbird\\': On Thursday night, President Obama i... http://t.co/l9LEKN8f\\nObama has called the GOP budget social Darwinism. Nice try, but they believe in social creationism.\\nIn his teen years, Obama has been known to use marijuana and cocaine.\\nRT @markknoller: AT a campaign fundraiser tonight, Pres. Obama again denounced Mitt Romney by name for his support of the House-passed GOP Budget.\\nRT @ohgirlphrase: American kid \"You\\'re from the UK? Ohhh cool, So do you have tea with the Queen?\". British kid: \"Do you like, go to Mcdonalds with Obama?\\nhttp://t.co/FN7jJZNY i love obama so much\\nNixon was missing 18 minutes. Obama is missing 18 years.\\nRT @ohgirlphrase: American kid \"You\\'re from the UK? Ohhh cool, So do you have tea with the Queen?\". British kid: \"Do you like, go to Mcdonalds with Obama?\\nRT @markknoller: AT a campaign fundraiser tonight, Pres. Obama again denounced Mitt Romney by name for his support of the House-passed GOP Budget.\\nRT @skeeteronmy: No #Racial Lines To Cross When It Comes To The #Marijuana Cause Vote #RonPaul #gop2012 #democrats #romney #santorum #newt #Obama #ucla #usc\\nRT @GetsGreased: Obama says #Obamacare passed by \\'strong majority\\' of Congress? Not a single #GOP vote & many Dems voted NO. He LIES - AGAIN. #tcot #p2\\nRT @CatoInstitute: NEW Podcast:  Obama\\'s Vanished Coalition http://t.co/Hi8NnhBT  (h/t @COBrown)\\nRT @ohgirlphrase: American kid \"You\\'re from the UK? Ohhh cool, So do you have tea with the Queen?\". British kid: \"Do you like, go to Mcdonalds with Obama?\\nPres Obama says it\\'ll be a big debate and a fun debate because - he says - he has the truth on his side.\\nObama\\'s Green Jobs? #WhatsRomneyHiding\\nPresident Obama Announces the 2012 Launch of African Americans 4 Obama http://t.co/CK84NpUq / Whites for Romney OK then? #TREASON\\nRT @against_obama: Obama\\'s illegal alien uncle\\'s drivers license #whatsromneyhiding\\nRT @GrassRootRevolt: Obama: Not Ready to Release Saved Oil to Lower Gas Prices: (News Max) - Saying that he was not prepared to make ... http://t.co/vHxp18EN\\nRT @MovieMikeScott: #WhatsRomneyHiding @BarackObama GET CHA OBAMA ON (Unofficial Obama Song): http://t.co/RyG3vgRQ via @youtube\\n#getchaObamaon #retweet #Obama\\n@megynkelly Why didn\\'t you ask the Sheriff about obama eligibility?  Looks like fox is in obama pocket also.  Truth, truth is now\\n@Harry_Styles Heard your diggin Michelle Obama!! get in there styles :)\\n@edshow Tomorrow\\'s GOP headline: Obama hates golf. #edshow\\nRepublicans for Obama http://t.co/x40FUeqV\\nRT @ohgirlphrase: American kid \"You\\'re from the UK? Ohhh cool, So do you have tea with the Queen?\". British kid: \"Do you like, go to Mcdonalds with Obama?\\nRT @FRANCE24: Obama hosts screening of \\'To Kill a Mockingbird\\' http://t.co/zHiGQqZi\\nRT @Jeri2: #WhatsRomneyHiding ? His REAL feelings about Obama...\\nRT @ohgirlphrase: American kid \"You\\'re from the UK? Ohhh cool, So do you have tea with the Queen?\". British kid: \"Do you like, go to Mcdonalds with Obama?\\n\"Obama signaled US would accept Iranian civilian nuclear program if Khamenei back up claim #Iran will not pursue nukes\" http://t.co/svxFPoHq\\nRT @Our4thEstate: @edshow The President of the United States, Barack Obama, is all that stands between the rights of the 99% & the Party of Koch & Norquist.\\nPresident Obama ^ Lindsay Lohan ^ 1989 RUMORS business 19 TH & M ST NW DC met field agent = multi connector to FFX VA covert overt zone.\\nRT @ohgirlphrase: American kid \"You\\'re from the UK? Ohhh cool, So do you have tea with the Queen?\". British kid: \"Do you like, go to Mcdonalds with Obama?\\nRT @ohgirlphrase: American kid \"You\\'re from the UK? Ohhh cool, So do you have tea with the Queen?\". British kid: \"Do you like, go to Mcdonalds with Obama?\\nRT @W_Paul_Williams: RT @MerlePearl: Obama has us mourning for America --&gt; EDITORIAL: Mr. (cont) http://t.co/PxooFjTO\\nRT @Kerryepp: #WhatsRomneyHiding that he can throw a baseball like a man and not like a girl like Obama...\\nRT @ForAmerica: McCaskill Calls For Obama to Release Day&Half Supply of Oil From SPR via @MOPNS But Biden says oil policy is \"best it\\'s ever been\" #MOsen\\nRT @markknoller: Pres Obama slammed Romney for embracing a budget that supports a few doing well at the top, everyone else struggling to get by.\\nRT @WhatTheFFacts: In his teen years, Obama has been known to use marijuana and cocaine.\\nRT @wilycyotee: Pres. Obama\\'s ongoing support of women is another reason I am so proud he is my President!  @edshow #Obama2012\\nRT @MacehuaHart: Sharing: http://t.co/ztufxsn1 Czech Press: More is know about the Birth of Jesus a millenia ago than about Obama\\nRT @ohgirlphrase: American kid \"You\\'re from the UK? Ohhh cool, So do you have tea with the Queen?\". British kid: \"Do you like, go to Mcdonalds with Obama?\\nRT @preciousliberty: Obama\\'s Osawatomie Speech: \"The United States of America has never worked\" http://t.co/qwIsdV2n #tcot #debt #citizensunited #teaparty\\nRT @kesgardner: Obama\\'s college records? #whatsromneyhiding\\n@marishuntsman He is for the most part obama lite but I would vote for pee wee herman over obama lama ding dong\\nRT @NouvelleNom: @nakedsk8boy @Artco77 Obama\\'s excessive WH parties AND his obsession with algae, prove he is really a FUNGI. #tcot\\ni heard on #VetThePrez President Obama Was a Swiftboat Skipper Who Lied About His Purple Heart #p2 #twisters #thetwisters #anystreet #ows\\nRT @KevinWGlass: RT @DrewMTips: #WhatsRomneyHiding The person who refuses to let Obama be clear\\nRT @MsRock4Ever: GOP is SO desperate and so Frightened of President Obama that they are suppressing votes in several states, but it will cause them loss too.\\n@samiksami @obama  we are warming up for 2016...\\nRT @washingtonpost: What Romney\\'s \"Harvard\" attack on Obama really means http://t.co/nATmWclx via @ThePlumLineGS\\nTwitter drama between obama and romney lololol\\nRT @stinger5150: Romney is gonna be the nominee y\\'all. Not my first choice either but we cannot allow a 2nd Obama term. Obama HAS TO GO!!!!!!!\\nObama Sharpens Kansas Vision\\nObama had the chance.... China is now the customer for Canada\\'s oil, not America. Result? Higher oil prices. Thanks, O. http://t.co/mpZxO1Mn\\nEvery time these RW mouthpieces start whining about Obama...I think, \"get over yourselves and your small world view.\" he is your president 2\\nKoch brothers linked to $3.6M anti-Obama gas price ad campaign - http://t.co/OTpHamKc: http://t.co/Taa46B8j via @POLITICO\\nRT @betseyross: Democrats & EPA move to destroy US coal industry http://t.co/NFOS1n9d @ClaireCMC @KayHagan @MarkWarner @SenJimDeMint @MarcoRubio @RandPaul\\nPresident Obama ^ Lindsay Lohan RUMORS video sec 50 to 56 visual special effects = human soul indicator ^ Covert overt connector.\\nI favorited a @YouTube video http://t.co/LdPffo7a Tales of Fantasy - Obama\\'s Look HD\\nA $1 million donation from a guy who refers to women as c*nts and tw*ts. Oh, wait, that\\'s Obama and Bill Maher. #WhatsRomneyHiding\\nRT @cmadhur: \"Obama Signs \\'Game-Changing,\\' Crowd-Funding JOBS Act | Mashable - http://t.co/7GdTS0Lf\" | #MBA #Jobs\\nRT @edshow: Righties call Pres. Obama a \"thug\" and \"bully\" for comments on health care law hearings. Comment on FB or tweet so we can share on #edshow!\\n@KatrinaNation Katrina I just seen the HBO documentary hot coffee.I feel so upset, we need four more years of President Obama 1000% certtain\\nRT @WhatTheFFacts: In his teen years, Obama has been known to use marijuana and cocaine.\\nRT @CARepublican12: RT @stinger5150: Everything Obama does is detrimental to this country. I honestly believe the ... http://t.co/OVkDyuX9\\nRT @LouTommoBum Michelle Obama invited the boys to her Easter party. l0l\\n\"President Obama has steered clear of taking a firm stance on the Keystone pipeline, but many Democrats running... http://t.co/CSyUlFW0\\nRT @PRIVATE_SLEEPY: I think its time for a change..........#Obama\\nRT @KevinWGlass: RT @DrewMTips: #WhatsRomneyHiding The person who refuses to let Obama be clear\\n( yea ill dm it to you. Dont share it tho) RT @DJECOOL: Hey @Tiwaworks u get Obama Pin? Thanks bro!\\nRT @MrTinyPenis: I heard there is a gay porn titled \"Obama Been Slobbin\" ....now think about who Obama killed in Pakistan\\nTrending topics ada tentang obama\\nI liked a @YouTube video http://t.co/LdPffo7a Tales of Fantasy - Obama\\'s Look HD\\n@edshow Obama is a thug and a Progressive Marxist Commie. Obamacare will bankrupt Americans while funding Abortion clinics #edshow\\n@JennyErikson Another Obama created hashtag  #WhatsRomneyHiding\\nRT @GarrettNBCNews: Romney, who earned a combined JD/MBA from Harvard just hit President Obama for spending \"too much time at Harvard\"\\nRT @stinger5150: A 2nd term for Obama would mean the end of the US. He must be defeated. Our kids future depends on it.\\n@AC360 @jeffreytoobin @jaysekulow #Obama and #Santorum have same judicial criticism in common. Now that\\'s politics!\\nPoor Warin\\' Orin Hatch on a tear that Obama is \"going to throw the Mormon Church\" at Mitt #notactuallyconfirmed #mittless\\nRT @markknoller: Pres Obama sayd \"I cannot wait\" for the \"big important debate\" we are going to have on these issues.\\n#Google #News Gun Sales Booming: Doomsday, Obama or Zombies? http://t.co/Iw3pz7fy #AutoFollowBack Goo\\nRT @markknoller: Saul says Pres Obama \"will do anything\" to distract Americans from his \"failed\" economic record incl unemployment & higher gas prices.\"\\nWhite House in damage control over Obama Supreme Court remarks - Yahoo! News Canada http://t.co/j3K58zDO via @yahoocanadanews\\nRT @markknoller: AT a campaign fundraiser tonight, Pres. Obama again denounced Mitt Romney by name for his support of the House-passed GOP Budget.\\n#KimKardashiansNextBoyFriend... Barack Obama... He\\'s the leader of the free world.  She\\'s the booty in the white world...\\nObama, \\'You Think I\\'m Joking\\' - Two Words for You, Predator Drones http://t.co/G2kQrEmd\\nRT @Un_OccupyWallSt: @Stranahan #whatsRomneyHiding? Umm i can guarantee if anything, it is FAR less than Obama and Holder\\n@AIsForOrg And this genius man can sing. Who else is there really? Obama 2012\\nRT @baseballcrank: #WhatsRomneyHiding Obama\\'s State Senate records\\nRT @anna12061: Another Obama Buddy!\\rhttp://t.co/B2WIWFrV\\r\\rNapolitano Caught Hiring Muslim Brotherhood Terrorist, Giving Him Top-Secret Security Clearance\\nIt would take far less time to sing \"100 Bottles of Beer\" than list what we KNOW Obama is hiding. #hypocriticalmarxist #irony #GOP #divider\\nSave the Sand-Dune Lizard? - Nash Keune - National Review Online http://t.co/GzD7DkRt #Obama #WarOnThePoor #WarOnTheMiddleClass #WarOnJobs\\nPresident Obama ^ Lindsay Lohan RUMORS beginning ^ 1987 Analyst64 was protected ^ Future time-line indicator ^ Scramble scam mode video.\\nRT @Atrios: probably not the most important thing in the world, but I did hope that security theatre would diminish at least slightly under obama rule\\n@Im_Tyler I apologize you must know more about our government than Obama and those in Washington. So I guess it\\'s  #BlameBush in 2012\\nObama has called the GOP budget social Darwinism. Nice try, but they believe in social creationism.\\nIn his teen years, Obama has been known to use marijuana and cocaine.\\nRT @baseballcrank: #WhatsRomneyHiding Obama\\'s State Senate records\\nRT @anna12061: Another Obama Buddy!\\rhttp://t.co/B2WIWFrV\\r\\rNapolitano Caught Hiring Muslim Brotherhood Terrorist, Giving Him Top-Secret Security Clearance\\nIt would take far less time to sing \"100 Bottles of Beer\" than list what we KNOW Obama is hiding. #hypocriticalmarxist #irony #GOP #divider\\nSave the Sand-Dune Lizard? - Nash Keune - National Review Online http://t.co/GzD7DkRt #Obama #WarOnThePoor #WarOnTheMiddleClass #WarOnJobs\\nPresident Obama ^ Lindsay Lohan RUMORS beginning ^ 1987 Analyst64 was protected ^ Future time-line indicator ^ Scramble scam mode video.\\nRT @Atrios: probably not the most important thing in the world, but I did hope that security theatre would diminish at least slightly under obama rule\\n@Im_Tyler I apologize you must know more about our government than Obama and those in Washington. So I guess it\\'s  #BlameBush in 2012\\nAmerican Kid \"You\\'re from the UK? Ohhh cool, so do you have tea with the queen?\". British Kid \"Do you like, go to Mcdonalds with Obama?\"\\nDick riding obama obama -thugnificent\\n#KimKardashiansNextBoyFriend -&gt; Obama\\nRT @BelleInABow: Obama doesn\\'t need to be your favorite person, but he\\'s still the President of the United States of America. That always deserves respect.\\nRT @keder: He likes Israel. Unlike Obama. #WhatsRomneyHiding\\nRT @ohgirlphrase: American kid \"You\\'re from the UK? Ohhh cool, So do you have tea with the Queen?\". British kid: \"Do you like, go to Mcdonalds with Obama?\\n@edshow #Obama would not have to come out and defend women if #GOP would not do stupid things. #edshow\\nU.S. not backing off as Iran sanctions bite: WASHINGTON (Reuters) - The Obama administration\\'s man in charge of ... http://t.co/GHX5maQk\\n\\'Israel should trust Obama to stop Iran nukes\\' - http://t.co/S8YeopCr\\nHarry \"Yes, I\\'m secretly Barack Obama.\" Me\" And I\\'m secretly your future wife.\"\\n@Nicky2Things always says that Obama=Bush.  I cannot help but wonder what, if anything, is the other thing @Nicky2Things says...\\n#ILikeObamacare because its my patriot duty to pay way more, for way less, so that Obama can give away his stash. #p2 #tcot #TeaParty\\nI love sodomy! RT @JoeSixpackSays: @jswoopg76 Under Obama, Beastiality & Sodomy, legalized #sodomy\\nRT @JeffersonObama: So despite 62% Jewish Obama support in latest polls, right winger Michael Barone writes Obama losing Jewish vote  http://t.co/0wNSy7T6\\nbarrack hussein obama is a traitor and a hater of freedom.\\nIf Jefferson, MLK & JFK were alive, most political experts say theyd vote 4 #RonPaul RT @wcptersn: If Obama were white, he\\'d be Mitt Romney.\\nRT @thinkprogress: Romney, who has two Harvard degrees, blasts Obama for spending \"too much time at Harvard.\" http://t.co/avbgNT57 #icymi\\nPresident Obama ^ Lindsay Lohan RUMORS beginning cross shape lights on ST ^ 1987 Analyst64 DC bicycle courier ^ Video changes to scramble.\\nRT @thinkprogress: Romney, who has two Harvard degrees, blasts Obama for spending \"too much time at Harvard.\" http://t.co/avbgNT57 #icymi\\nRT @rochelledp: #prayersgoup lol RT @_Ciroc_Obama: Mannnnn hope dey pass dat gas cap tax...it could end up makin gas $2.50 a gallon wooo\\nRT @Talkmaster: Oh now I get it. Obama was talking in shorthand and we were just too dumb to understand how smart he really is.  Gagme.\\nRT @markknoller: Saul says Pres Obama \"will do anything\" to distract Americans from his \"failed\" economic record incl unemployment & higher gas prices.\"\\n@AnitaMarks @barackobama @mittromney really? I\\'d rather know what Obama is hiding with fast &furiius, healthcare & ridiculous policies\\n#WhatsRomneyHiding: Probably the same shit Obama\\'s hiding. Money, whores, addiction to oxy. Ya know, what most Americans hide.\\nthis man had something bad in his hotchoclateRomney Attacks Obama For Spending Too Much Time At Harvard: http://t.co/SaQa8V5w via @youtube\\nRT @LauraFlyMe: I am worried that Barack Obama is in bed with Iran.We know that he is leaking classified info on Israel plan.He is not on our side or Israel\\nRT @sparrowmedia: Please Share our latest update on the landmark free speech lawsuit against the #NDAA \\'Hedges v. Obama\\' -... http://t.co/GZDMIGVy\\nRT @LouTommoBum: Michelle Obama invited the boys to her Easter party. l0l\\n@TBCDG #WhatsRomneyHiding - OBAMA wants to come out of the closet but Mitt wants to wait until after Elections! #GOP #tcot\\nRT @1DfactsOMG: Los chicos conocieron a Michelle Obama y a sus hijas durante el backstage de los KCA RT si a ti te encantaria casarte con los chicos *-*\\nHoping this country dosen\\'t get into a serious debate regarding the merits of Mittens vs Obama.I guess we will. #200daywar\\nRT @DrewMTips: #WhatsRomneyHiding The person who refuses to let Obama be clear\\n@Libertarian_76 Congress will do that, following Paul Ryan\\'s Roadmap. But only if Romney is Pres, so Obama can\\'t veto.\\nRT @DrewMTips: #WhatsRomneyHiding The person who refuses to let Obama be clear\\n#WhatsRomneyHiding Hmm, probably some ultimate scheme with Obama to steal one of the world\\'s most precious diamonds...just a wild guess.\\n@edshow The President of the United States, Barack Obama, is all that stands between the rights of the 99% & the Party of Koch & Norquist.\\nMcCaskill Calls For Obama to Release Day&Half Supply of Oil From SPR via @MOPNS But Biden says oil policy is \"best it\\'s ever been\" #MOsen\\nWhy Barack Obama trying to start stuff with our future President? Have some respect for Mitt Romney.\\n@seanhannity asking again. Did Obama have some record of drug use?\\nRT @kesgardner: Obama\\'s college records? #whatsromneyhiding\\n@ericbolling #Hillary\\'s gonna challenge #Obama\\nHoney trap: Sexy Russian spy cozied up to Obama Cab member. Details at http://t.co/wX1RzFKm #tcot #tlot #tpp #tpn #sgp #sot #withnewt #usaf\\nWow.... \"@LauraFlyMe: Proved to be true: Obama -The One Video: http://t.co/e1cPbsY0 via @YouTube\"\\n#WhatsRomneyHiding the fact that Obama is corrupt\\nObama needs to not feed into it\\nRealClearPolitics Video - Carney: Obama Not Understood Because He Spoke In \"Shorthand\" Since He Is A Law Professor http://t.co/vbHf1w9e\\n#WhatsRomneyHiding ? His REAL feelings about Obama...\\nI liked a @YouTube video http://t.co/MuovhZSc I AM SEXY AND I KNOW IT(Cover By Barack Obama).\\nI heard there is a gay porn titled \"Obama Been Slobbin\" ....now think about who Obama killed in Pakistan\\nRT @TheOnion: Major Obama Donor Accused Of Fraud | \"I hope no one vets me. I donated $5 and one time I stole a bracelet from Target.\" http://t.co/91ecaJAE\\nArianna Huffington blasting President Obama at any chance and praising GOP. This pic explains things. http://t.co/Ov6I5CoS\\nObama\\'s transcripts #WhatsRomneyHiding\\nObama should talk about the OIL PRODUCTION HE BOOSTED (NONE) NOT THE PROD. BUSH POLICIES & ACTIONS BOOSTED #TCOT #P2 #OCRA #SGP\\nProfessor Norgaard Urged Obama To Ignore Democracy, Public Opinion: Paul Joseph Watson Infowars Climate change a... http://t.co/6nWfVOAx\\nRT @edshow: Righties call Pres. Obama a \"thug\" and \"bully\" for comments on health care law hearings. Comment on FB or tweet so we can share on #edshow!\\n\"@Drudge_Report: Obama setting up Supreme Court as campaign issue... http://t.co/89tb9uIl\" #NEWSXOOMcom\\nRT @CArepub: We need to tag Obama & define him for Nov battle. #Obama #failedleader #incompetent #wasteful #divisive #desperate #flexible #arrogant #lazy\\n@TheDemocrats I demand to see this alleged Constitutional scholar\\'s college grades. We all know @MittRomney is rich, but is Obama stupid?\\n@therealrc Look at the Barack Obama Chicken Nugget on eBAY. You are not going to believe this.\\nRT @DS_CT: It\\'s a sorry state of affairs when the US President menaces other branches of government. Obama mocks and menaces like governing is sport.\\n\"@LauraFlyMe: Obama\\'s Hidden Past: http://t.co/hRbM9jal via @youtube\"\\nSharing: http://t.co/ztufxsn1 Czech Press: More is know about the Birth of Jesus a millenia ago than about Obama\\nRT @JeffersonObama: 62% of U.S. Jews would reelect Obama, 4% say Israel is most important issue - Haaretz http://t.co/VhURDtdO http://t.co/gIGmn5kE\\nRT @Professor_Why: #WhatsRomneyHiding - the fact that REAL unemployment is at 19%... Oh wait, that\\'s Obama, not Romney...\\nRT @OrwellForce: Everything Obama did before the age of 35 #WhatsRomneyHiding\\nHow come he\\'s such a dimwit then? http://t.co/S5H0Er1B\\n#KimKardashiansNextBoyFriend Obama\\n#NightRyder\\n@edshow Pres.Obama is showing respect for women while the #GOP & the ole boys club keeps kicking us in the teeth. Obama 2012 is a no brainer\\n#WhatsRomneyHiding is the definition of a social media stunt backfiring. Just sayin, #Obama.\\nPres Obama sayd \"I cannot wait\" for the \"big important debate\" we are going to have on these issues.\\nRT @NatlWOW: @edshow Pres. Obama understands right from wrong! And doesn\\'t need to flip flop around to get votes! #UniteWomen #edshow\\nObama, Romney agree: Admit women to Augusta golf club http://t.co/IMcTUlsH\\n@NHLWingsfanKay romney is white obama\\n@wolfblitzercnn Wolf  I just seen the HBO documentary hot coffee.I feel so upset, we need four more years of President Obama 1000% certtain\\nObama\\'s embarrassing photos on Jim Messina to make him work RT @Messina2012: Americans want to know. Trending #1 in US: #WhatsRomneyHiding?\\n@Harry_Styles hi Harry! I know u wont notice this but i just wanna congratulate you on KCA! :) even Michelle Obama likes WMYB!\\nRT @edshow: Righties call Pres. Obama a \"thug\" and \"bully\" for comments on health care law hearings. Comment on FB or tweet so we can share on #edshow!\\nRT @DrewMTips: #WhatsRomneyHiding His relationship with Vera Baker? Damn, that might be Obama too. I suck at this.\\n#WhatsRomneyHiding? His foot in Obama\\'s ass.\\nRT @edshow: Women at Augusta? Obama says absolutely. Romney hedges. Comment on FB or tweet so we can share on #edshow!\\nhistorically 2 term presidents do horribly on their second term. so, I haven\\'t been all that eager for obama to serve a 2nd term.. +\\nRT @JohnSMackenzie: @jimcramer Bush TARP bailout (hated) = Taxpayer moneymaker. Obama solar company bailouts (not as hated) = taxpayer loss! What\\'s wrong here?\\nObama has called the GOP budget social Darwinism. Nice try, but they believe in social creationism.\\nIn his teen years, Obama has been known to use marijuana and cocaine.\\nRT @SamValley: #WhatsRomneyHiding Blueprints on how conservatives destroy Obama\\'s lame attempts to launch hashtags.\\nRT @sugarscape: Ooh an older lady crush for One Direction - but not Harry Styles? HAS THE WORLD GONE MAD? http://t.co/BFzSh3iz\\nRT @DrewMTips: #WhatsRomneyHiding The person who refuses to let Obama be clear\\nYou know things are going bad for the #GOP when they have to resort to calling Obama a communist. THere has to be a corollary of Godwins law\\n@BarackObama What is #Obama hiding? Fake Birth Certificate... Vote Ron #Paul...\\nRT @LouTommoBum: Michelle Obama invited the boys to her Easter party. l0l\\nRT @OrwellForce: Everything Obama did before the age of 35 #WhatsRomneyHiding\\nRT @RightWay2: #Romney is right #Obama should STOP LYING ABOUT 4 million new jobs NOT CREATED  Killing AMERICAN CITIZENS  ,HC FRAUD #GOP #DEM #p2\\nObama signs JOBS Act to boost startup firms - http://t.co/TFuPTCwT\\nRT @Habibaty_Souria: I don\\'t even believe there is any good in humanity anymore. \\n#Syria #Hama #Homs #Assad #UN #NATO #Obama\\nPres. Obama signs STOCK act into law. Credit where credit is due. Thank you. http://t.co/42Ak8yAq\\nWhy did Michelle & Barack Obama become like celebrities? -.- I can\\'t take them seriously now. haha\\nThe President Obama Who is He? Osama Ben Laden Maybe - Let\\'s Roll Forums: http://t.co/5DLIc25x @letsrollforums\\nRT @DrewMTips: #WhatsRomneyHiding His association with convicted felon Tony Rezko and domestic terrorist Bill Ayers. Wait, that\\'s Obama.\\n#WhatsRomneyHiding Obama underwears\\n#newbedon 4/6/2012 4:23:05 AM Obama Wins Landslide Presidential Election...With Online Gamers http://t.co/CNjhBxVM\\nObama\\'s Pretzel Logic: Based on this understanding, any program that puts money into the pockets of the average ... http://t.co/14GbcXGO\\nplease USA dont deserve Presiden OBAMA 4 years more!\\nRT @ohgirlphrase: American kid \"You\\'re from the UK? Ohhh cool, So do you have tea with the Queen?\". British kid: \"Do you like, go to Mcdonalds with Obama?\\nObama\\'s Budget: \\'Interest Payments Will Exceed Defense Budget\\' in 2019 http://t.co/oSLQ94QM and he bashes Ryan\\'s budget.\\nRT @LouTommoBum: Michelle Obama invited the boys to her Easter party. l0l\\n#WhatsRomneyHiding - He and OBAMA are secret lovers and want to get married! #GOP #tcot\\n#WhatsRomneyHiding Obama\\'s talking points are already stale. He has 0 positive accomplishments 2 run on so It\\'s character assassination time\\n@MittRomney, are you really going to take #WhatsRomneyHiding from Obama? #WhatsBarackHiding is the real question\\nRT @markknoller: Obama Campaign seizing on Washington Post report on Mitt Romney not disclosing certain details of his income & assets.  http://t.co/zneCZUTo\\nRT @handrewschwartz: Ignatius reports Obama signaled Iran US wld accept civ nuke pgm if Khameni can assure Iran will never get nuke weapons http://t.co/KkaAhGPq\\nRT @kombiz: http://t.co/ld3uspIs - this is such a great image .. the difference between Romney and Obama\\nRT @ronpaulrca2012: #Obama FactChecked -- http://t.co/oohsPWzs #Obama2012 #P2 #TopProg #TeaParty #Gop #Gop2012 #Republican #POTUS #Politics #Election2012 #tcot\\nDa hora,,, http://t.co/xluoi3GU\\nRT @ohgirlphrase: American kid \"You\\'re from the UK? Ohhh cool, So do you have tea with the Queen?\". British kid: \"Do you like, go to Mcdonalds with Obama?\\nObama prepara a Estados Unidos para una nueva guerra http://t.co/SGo5zdHy\\nObama Cozies Up With Egypt\\'s Anti-Western Islamists\\nhttp://t.co/XzRRCVaP #tcot\\nWow the #WhatsRomneyHiding hashtag turned into something pretty pointless. I got excited for nothing. Oh, well. Team Obama let\\'s go! ;)\\nRT @betseyross: Obama Misquotes Bible on Wealth Redistribution http://t.co/s4XUUW1h Alinskyites r machiavellians not ideologues #tcot #p2 #consnc\\n#WhatsObamaHiding A list of Obama\\'s broken promises. @Messina2012\\nWe need to tag Obama & define him for Nov battle. #Obama #failedleader #incompetent #wasteful #divisive #desperate #flexible #arrogant #lazy\\nThe actual Barack Obama Campaign And its particular Impact on Future Elections - Other: Sarah Palin, was seeking... http://t.co/pbY99uec\\nLies the Truth: Obama As Dunce - (John Hinderaker) Pretty much everyone is piling on President Obama in connection w... http://t.co/vQ7vnrdC\\nWhite House Wants YOU To Participate In The State Of The Union Address http://t.co/mWVRGqf8 #SOTU #obama\\n@cardinal623:#edshow Great Obama Presentation (for Women)!!\\nEverything Obama did before the age of 35 #WhatsRomneyHiding\\n@Lorebsponge es que no soy lo mejor del word, esta Ghandi, Obama aunque mande misiles a esos lados y tal, son premios Nobeles en la paz.. x)\\n@edshow if Obama is a \"thug\" for healthcare, then George W. Bush is a criminal mastermind for war.\\nRT @Habibaty_Souria: I don\\'t even believe there is any good in humanity anymore. \\n#Syria #Hama #Homs #Assad #UN #NATO #Obama\\nRT @wilycyotee: Pres. Obama\\'s ongoing support of women is another reason I am so proud he is my President!  @edshow #Obama2012\\nWho the fuck cares about Obama? Presidents have never directly effected me so I really couldn\\'t care fucking less.\\nRT @markknoller: Obama Campaign seizing on Washington Post report on Mitt Romney not disclosing certain details of his income & assets.  http://t.co/zneCZUTo\\nCool democrat rap shirt \"OBAMA SAYS KNOCK YOU OUT\" -- http://t.co/PUZRq7HU ---- #lazymansmall #obama #Democrats #whitehouse #screwytees\\nRT @BelleInABow: Obama doesn\\'t need to be your favorite person, but he\\'s still the President of the United States of America. That always deserves respect.\\nRT @kesgardner: Obama\\'s college records? #whatsromneyhiding\\n@TPO_Hisself @barackobama people laugh but don\\'t belive I\\'m really talking 2 obama but i am; not my fault if he\\'s not listening, it\\'s his\\nSpeaking of the constitution, if you vote for hussein obama again you should be tried and found guilty of treason against your country j ...\\nFULLERTON HAS A SUMMER INTERNSHIP AT THE WHITE HOUSE WHAT IF I GET TO MEET OBAMA\\nSmall Biz News Obama to sign bill to help companies go public http://t.co/v68EEZhl\\nRT @Lever_OFA_NH: Obama\\'s Organizational Advantage on Full Display in N.H. http://t.co/ntzCSGeW\\n@Obama2012 @truthteam2012 @gop truth is Obama no budget trillions in debt high gas price inflation weak dollar no jobs Can\\'t run on record\\nRT @TCOTvideos: Obama\\'s snafu over Supreme Court\\'s job duties give hint as to why he has locked all his college transcripts in Fort Knox. #TCOT\\nRT @drecrumbs: Obama being all direct!! \"@BarackObama: So what\\'s Romney hiding? Tweet @MittRomney to demand he release his tax returns. #WhatsRomneyHiding\"\\nRT @DrewMTips: #WhatsRomneyHiding The person who refuses to let Obama be clear\\nJesse Jackson Meltdown on Live TV - Insults Obama With Crude Remarks: http://t.co/g5qKE6RS via @youtube\\nRT @edshow: Righties call Pres. Obama a \"thug\" and \"bully\" for comments on health care law hearings. Comment on FB or tweet so we can share on #edshow!\\nSmall Biz News Obama to sign bill to help companies go public http://t.co/w8RSgU6t\\nU.S. not backing off as Iran sanctions bite - WASHINGTON (Reuters) - The Obama administration\\'s man in charge of squ... http://t.co/asaEviZ5\\nRT @VRWCTexan: FACT: Obama swore an oath to \"Preserve, Protect & Defend the Constitution of the United States\" (NOT pick & choose at his OWN whim) #TCOT\\nThink About It - Top Secret Obama 2012 World War 3 Illuminati Antichrist Conspiracy!: http://t.co/iqg1xarL via @youtube\\n#WhatsRomneyHiding He is Obama\\'s half brother.\\nMichelle Obama invited the boys to her Easter party. l0l\\nRT @ohgirlphrase: American kid \"You\\'re from the UK? Ohhh cool, So do you have tea with the Queen?\". British kid: \"Do you like, go to Mcdonalds with Obama?\\nDuring the DNC convention later this summer in Charlotte, N.C. there will be an extreme heat wave. All that hot air from speakers & Obama.\\nObama Reveals How to Get National Unemployment Rate to 6% http://t.co/qHrUeEoO\\n@erockradio you\\'re right! Blame Obama, he could do something if he wanted to. Like open up Alaska for drilling maybe green light a refinery\\nRT @edshow: Women at Augusta? Obama says absolutely. Romney hedges. Comment on FB or tweet so we can share on #edshow!\\n#WhatsRomneyHiding The person who refuses to let Obama be clear\\nRT @ZekeJMiller: Obama campaign launches #WhatsRomneyHiding campaign on Romney\\'s tax returns featuring a @Messina2012 tweet.\\nRT @kesgardner: Obama\\'s college records? #whatsromneyhiding\\nRT @ohgirlphrase: American kid \"You\\'re from the UK? Ohhh cool, So do you have tea with the Queen?\". British kid: \"Do you like, go to Mcdonalds with Obama?\\n@MalikFloyd Looks like Barack Obama in your twitcon, Lol Vute though &lt;3\\nObama Recycles Speeches  VIDS TO VIEW  http://t.co/NU1LDv2R via @WestJournalism\\nRT @SexeadaPor1D: En el backstage de los KCA\\'s, Harry le pregunto a Michelle Obama como hacia para ordenar pizza desde la Casa Blanca.\\nObama\\'s old girlfriends #WhatsRomneyHiding\\nThis is cool @Ludacris Is cheezin\\' big here with Obama http://t.co/EmIhIKWh\\nwhy does everyone hate on obama?\\nRT @CAWright77: Anyone else notice how Obama runs his flaps on a subject, disappears, then his cronies take over?  #wimp\\n@Mamadoxie We\\'ll just have to channel that anger and focus on defeating Obama in November.  No time for whiny and pouting!\\nVery strange. As soon as I volunteered online for the Obama campaign, 2 Republican Party tweeters started following me. Both from SC. Leak?\\nObama Misquotes Bible on Wealth Redistribution http://t.co/s4XUUW1h Alinskyites r machiavellians not ideologues #tcot #p2 #consnc\\nObama has called the GOP budget social Darwinism. Nice try, but they believe in social creationism.\\nIn his teen years, Obama has been known to use marijuana and cocaine.\\nDemocrats & EPA move to destroy US coal industry http://t.co/NFOS1n9d @ClaireCMC @KayHagan @MarkWarner @SenJimDeMint @MarcoRubio @RandPaul\\nThe actual Barack Obama Campaign And its particular Impact on Future Elections - Other: Sarah Palin, was seeking... http://t.co/NDp6dISb\\nRT @OrwellForce: Pictures of Obama and Larry Sinclair #WhatsRomneyHiding\\nRT @kesgardner: Obama\\'s college records? #whatsromneyhiding\\nRT @AlinskyDefeater: RT If you pledge to vote against Obama in 2012 in an effort to make sure he loses all 57 states. #ocra #tcot #teaparty\\nBarack Obama\\'s BBQ 2011: http://t.co/tA8pGNuA via @youtube\\n@Devils_for_Life lol No Obama is :)\\nObama signs small-business legislation http://t.co/w4gUGJIG via @nbcpolitics\\nRT @HarryFacts1D: \\'\\'Harry Styles describe a Michelle Obama como una mujer muy atractiva.\\'\\' OBAMA ESCONDE A TU ESPOSA Y A TUS HIJOS, STYLES VIENE EN CAMINO.\\nRT @fredthompson: In VT, Obama said he supports \"value\" that \"I am my brother\\'s keeper.\" In that case - brother, you\\'re spending too much of our money. #tcot\\nRT @tweetslikeagirl: #WhatsRomneyHiding His college records... Oh, wait that\\'s Obama.\\nRT @anna12061: Obama Birth Certificate: Anthony Bucco, New Jersey Legislator, Says Issue Unresolved http://t.co/uMDAWA7X via @HuffingtonPost\\nRT @markknoller: AT a campaign fundraiser tonight, Pres. Obama again denounced Mitt Romney by name for his support of the House-passed GOP Budget.\\nObama verses the court | Conservative Byte http://t.co/uOkvibi8\\nRT @ParadigmForce: DOJ Issues Letter Clarifying Obama\\'s Remarks: Court\\'s Power to Strike Down Laws \\'Beyond Dispute\\' http://t.co/XelcRaLT via @theblaze mm\\nRT @markknoller: AT a campaign fundraiser tonight, Pres. Obama again denounced Mitt Romney by name for his support of the House-passed GOP Budget.\\nCloward Piven strategy for capitalist collapse describes Obama eerily well #independents #gop #topprog http://t.co/DbYlHcSh\\nRT @djtechchicago: Obama\\'s birth certificate. #WhatsRomneyHiding\\nGoogle stats tell me 223 Americans Who Hate Obama read my blog yesterday. I don\\'t believe it, but if you did visit, AWHOs, don\\'t do it again\\nPres Obama slammed Romney for embracing a budget that supports a few doing well at the top, everyone else struggling to get by.\\nObama\\'s Osawatomie Speech: \"The United States of America has never worked\" http://t.co/qwIsdV2n #tcot #debt #citizensunited #teaparty\\nhttp://t.co/pS9fQaaL idk. does Obama give Muslim terrorists a pass?\\nRT @psema4: RT @PiratePartyGa: Tell Obama And Dodd: No Backroom Dealing, No New SOPA http://t... http://t.co/I004oH6s #GFW #FuckGFW #VPN\\nOust Obama - Oust Obama 2012: http://t.co/avHENxrg via @AddThis\\nRT @nprnews: Obama\\'s Signing Of JOBS Act Likely Won\\'t Dim GOP Charge He\\'s Anti-Jobs http://t.co/4LtEJRbL\\ni aint hear about obama on the news yet . the hell he doing .\\nI don\\'t even believe there is any good in humanity anymore. \\n#Syria #Hama #Homs #Assad #UN #NATO #Obama\\n@TheDemocrats @MittRomney   Just as soon as obama releases ALL his records.\\nObama\\'s college transcripts #WhatsRomneyHiding\\nRT @AIsForOrg: How Obama Can Win With Women http://t.co/l5Z9C1L7\\nWingnut Judges Get Two Single-Spaced Pages From Obama, Not Three http://t.co/goZv1VU1 via @motherjones\\nRT @markknoller: AT a campaign fundraiser tonight, Pres. Obama again denounced Mitt Romney by name for his support of the House-passed GOP Budget.\\nGet your FFL license now before Obama starts messing with your gun rights. http://t.co/YtzeLXMt\\nRT @psema4: RT @PiratePartyGa: Tell Obama And Dodd: No Backroom Dealing, No New SOPA http://t... http://t.co/Su79rpyv #GFW #FuckGFW #VPN\\nEveryone hatin on obama here at work....\\nRighties call Pres. Obama a \"thug\" and \"bully\" for comments on health care law hearings. Comment on FB or tweet so we can share on #edshow!\\nBy the way, it\\'s PRESIDENT Obama. RT @wcptersn: If Obama were white, he\\'d be Mitt Romney.\\nRT @AlinskyDefeater: RT If you pledge to vote against Obama in 2012 in an effort to make sure he loses all 57 states. #ocra #tcot #teaparty\\nRT @CBrielle5: Obama a goon lol RT @BarackObama: So what\\'s Romney hiding? Tweet @MittRomney to demand he release his tax returns. #WhatsRomneyHiding\\nRT @A_Khanivore: He\\'s half white, so is he half Mitt Romney? RT @wcptersn: If Obama were white, he\\'d be Mitt Romney.\\nRT @BORNCURIOUS: Thanx to GW/Obama Patriot Act, every phone call,e mail,web site can be recorded by Feds w/o showing any cause or suspicion\\nO Barak Obama apresentou hoje o Jornal Nacional...\\n@meganagerton Bobby P tells Obama what to do, Megan\\n@daanxyelll That\\'s very mature. I\\'m sure Obama would love you propogating that term.\\nRT @Drudge_Report: LIMBAUGH: Obama Puts Out Figurative Bounty on Supreme Court... http://t.co/Z552mkRl\\nHatch Makes Startling Accusation Against Obama http://t.co/HVQfUzgr ..shocking headline...NOT&gt;\\nRT @ItsLoopzProd: LOOOOOOOOOOOOOOOOOOOOOOOOOOOOL This is why i rate obama http://t.co/vsOYFhSa\\nRT @rovibe71: FINALLY - A former Obama law student speaks out -- and he can\\'t believe the crap spewing from O\\'s mouth, either: http://t.co/GLopiyOC\\n@taylorswift13 0ne more,I don\\'t get awestruck much&WE would be some amazing places,but TPie in the whitehouse,Mmm :-)  http://t.co/1RimJk0Z\\nObama on Constitutional Law: Did He Lie or Is He Just Ignorant? http://t.co/H1YRpYlV\\nObama Sets Table To Ridicule GOP As US Military Secretly Using Algae Fuel In Naval Ships & Secret Army Airships http://t.co/zkUbbBVN\\nRT @MarcACaputo: \"Jewbags\" flap exposes rift in Barack Obama-Debbie Wasserman Schultz World http://t.co/7ZpGu5YT\\nAnyone else notice how Obama runs his flaps on a subject, disappears, then his cronies take over?  #wimp\\nU.S. not backing off as Iran sanctions bite - WASHINGTON (Reuters) - The Obama administration\\'s man in charge of squ... http://t.co/ONKneI5X\\nRT @kesgardner: Obama\\'s college records? #whatsromneyhiding\\nRT @informedblackmn: No wonder Obama hasn\\'t made sense to me lately. I cannot get a handle on super-smart-law-professor jargon.  Example: \"uh....um...uh...um....\\nRT @JeffersonObama: 62% of U.S. Jews would reelect Obama, 4% say Israel is most important issue - Haaretz http://t.co/VhURDtdO http://t.co/gIGmn5kE\\nDAYMN OBAMA TWEETED ROMNEY #SHITGOTREAL\\n@MittRomney Yes, we all have weaknesses, but it seems as if your whole plan is to attack Obama.\\nRT @kesgardner: Obama\\'s college records? #whatsromneyhiding\\nRT @TPO_Hisself: Obama Wants Our Vets to Pay for Their War Injuries, but Illegal Immigrants Get Free Medical Care!  http://t.co/pKDwxfGK\\nRT @A_Khanivore: This just pissed me the hell off. RT @wcptersn: If Obama were white, he\\'d be Mitt Romney.\\nRT @commondreams: Obama Signs \"Fraud-Friendly\" JOBS Act into Law http://t.co/2gnXDo0f\\nRT @pourmecoffee: White House Easter Egg Roll is Monday. Obama redistributing eggs. #socialism\\n@funkmasterflex Kinda remind me of Obama\\'s citizenship certificate :P\\nObama se opone al \"sexismo en el golf\" en el Augusta National http://t.co/qSyEjCZR\\nRT @JeffersonObama: 62% of U.S. Jews would reelect Obama, 4% say Israel is most important issue - Haaretz http://t.co/VhURDtdO http://t.co/gIGmn5kE\\nRT @blakehounshell: From Ignatius: \"U.S. officials hope [Putin] can broker a Syria deal before he meets Obama at the G-8 summit next month.\"\\nRT @kesgardner: Obama\\'s college records? #whatsromneyhiding\\n@PAC43 Thats the problem...there is no clean end to an Obama supporter. One side is Poop, and the other side is pure crap...\\nRT @PAC43: Reforming an Obama supporter is like trying to pick up poop by its clean end\\n#WhatisRomneyHiding he\\'s not Barack Obama. #WhatsObamaHiding he wants to run on anyone but his own record.\\nRT @baseballcrank: #WhatsRomneyHiding Obama\\'s State Senate records\\n@edshow: Obama is the only one standing up for WOMEN #edshow!\\n@edshow Mr Schultz I just seen the HBO documentary hot coffee.I feel so upset,  we need four more  years of President  Obama 1000% certtain!\\nHow can FoxNews asked the question, \"Is Obama using intimidation tactics toward the Supreme Court?\"  It\\'s (cont) http://t.co/BnBgHZx0\\nRT @baseballcrank: #WhatsRomneyHiding Obama\\'s State Senate records\\nTHIS RT @baseballcrank  #WhatsRomneyHiding Obama\\'s State Senate records\\n@markknoller so when is Obama going to do the same.\\n@edshow Obama is the only one representing women!!!\\nObama Administration Delivers Letter to 5th Circuit Court of Appeals  http://t.co/mU1aHVLs via @AddThis\\nRT @ohgirlphrase: American kid \"You\\'re from the UK? Ohhh cool, So do you have tea with the Queen?\". British kid: \"Do you like, go to Mcdonalds with Obama?\\n@Messina2012 because of people making fun of the intense irony of the ultra-secretive obama asking what romney\\'s hiding.\\nRT @Spidyy32: Obama gotta Portugeese Water Dog (:\\nI wonder who\\'d win in a footrace, Barack Obama or Mitt Romney...stereotypes tell me Bam...but those things aren\\'t very reliable are they\\nRT @schwingcat: That his campaign disabled credit card verification on his online donation site #WhatsRomneyHiding #OhWait,that\\'s Obama http://t.co/3fgWm3n4\\n@djtechchicago I see. Hmm, need a good #obama hash tag...\\nObama entrando en Skateboard y que si es real http://t.co/Sm9s2o9i LIKE A BOSS\\n@DanMoffTarkin Yeah. Even though he\\'s like an honest Obama in his policies.\\nNgakak bahhh.. Obama nyanyi sexy and i know it ama bornthisway... Akakakaka\\nObama has called the GOP budget social Darwinism. Nice try, but they believe in social creationism.\\nIn his teen years, Obama has been known to use marijuana and cocaine.\\n@djtechchicago I see. Hmm, need a good #obama hash tag...\\nObama entrando en Skateboard y que si es real http://t.co/Sm9s2o9i LIKE A BOSS\\n@DanMoffTarkin Yeah. Even though he\\'s like an honest Obama in his policies.\\nNgakak bahhh.. Obama nyanyi sexy and i know it ama bornthisway... Akakakaka\\nObama 2013 Budget Proposal: Bringing Down the Deficit and Turning Around the Economy By Raising Taxes and ... http://t.co/OSb2gr3f\\nHigh Gas Prices Drive Suburbanites Into #blueCity areas As Obama Plan Soars...Communal Living http://t.co/u0GrbKfi #redstate #GA #sprawl\\n@BrianBrownNet: Exposing the Obama-Soetoro deception - \\nObama eligibility, birth... http://t.co/j9IJJsL5\\nIt\\'s Tax Time: Is It Also a Time to Occupy the IRS?: This April, send a message to President Obama, It\\'s Time to... http://t.co/ab54HUve\\n@tajan1 @messina2012 @lilrascal01 hiding his money from that lying cheating, baby killing Obama!\\n@TrackVeteran: Im the Obama of #TrackNation\\nRT @blakehounshell: From Ignatius: \"U.S. officials hope [Putin] can broker a Syria deal before he meets Obama at the G-8 summit next month.\"\\nObama needs remedial course in judicial review.Read at http://t.co/wX1RzFKm #twisters #tcot #tpp #sgp #tlot #vettheprez #lnyhbt #withnewt\\nIn 2004, he released his autobiography My Life, and was involved in his wife\\'s and then Barack Obama\\'s campaigns for president in 2008\\nRT @fredthompson: In VT, Obama said he supports \"value\" that \"I am my brother\\'s keeper.\" In that case - brother, you\\'re spending too much of our money. #tcot\\nRT @markknoller: Obama Campaign says Romney should make public 23 years of tax returns so Americans can assess any conflicts of interest.\\nObama\\'s college records? #whatsromneyhiding\\nRT @therightsarah: #WhatsRomneyHiding a bloody plan to put guns in cartel hands to force stricter gun laws on Americans? Nope. That\\'s Obama. #FastAndFurious\\n@VoteHillary2012 @TheRealRoseanne Is Hillary running 4 Pres? We need 2 know. Tell her she will win this time. Fed up with B.S. @ obama!!\\nPresident signs a bipartisan bill to help small business startups. @ASBA  http://t.co/qUWT4WOL\\n@markknoller Then @obama should release all of the financial documents from all of his street-organizing organizations!\\nRT @WhatTheFFacts: In his teen years, Obama has been known to use marijuana and cocaine.\\n@oreilly_updates Had to turn off OReilly again tonight. When he starts slobbering over Obama w/his \"I want to be fair to the president\" BS.\\nTime has come. #Anonymous #Revolution #2012 - http://t.co/3qzdFw1C #Occupy #OWS #Obama #RonPaul #TheAnonMessage http://t.co/Pu73AOEV\\nRT @Stewart7Donna: Checking out \"Obama Puts Heat on Fox News to Prevent Hannity from Airing this \" on Constitutional Emergency: http://t.co/XwY62sep\\nRT @gardenofthegods: Think the #GOP is engaged in a \"War on Women\"? Why is #Obama meeting with Women\\'s worst enemy the Muslim Bro. tomorrow at OUR whitehouse?\\nRT @ohgirlphrase: American kid \"You\\'re from the UK? Ohhh cool, So do you have tea with the Queen?\". British kid: \"Do you like, go to Mcdonalds with Obama?\\nRT @JeffersonObama 62% of U.S. Jews would reelect Obama, 4% say Israel is most important issue - http://t.co/H2ZSl5ro http://t.co/NTDdbMbj\\nRT @GlobalGrind: Picture Perfect! Jay, Barack, Bey & Michelle are perfectly posed..photos &gt;&gt; http://t.co/XpXJJp9c\\nRT @markknoller: AT a campaign fundraiser tonight, Pres. Obama again denounced Mitt Romney by name for his support of the House-passed GOP Budget.\\n#whatsromneyhiding is his plan to kick obama and his pack of liberal stooges out of DC\\nhttp://t.co/oLxGUJE0 Whats with Obama and his pitching, looks like a girl!\\nPresident Obama * Lindsay Lohan * USA Intel public scams * Press 2007 pissed off Analyt64  = DC courier type magnet on USA White House.\\n@keder not to start an argument but when did Obama disrespect religious freedom?\\nMichelle Obama being in on the heist (not even really being married to Barack) is the icing in on the cake!\\n@markknoller @obama should release all of his transcripts from all of the colleges he attended.\\nRT @pourmecoffee: White House Easter Egg Roll is Monday. Obama redistributing eggs. #socialism\\nPriceless. Cons take over lame Obama hashtag #whatsRomneyHiding, Obamabots claim America wants to know because it\\'s trending. So much stupid\\nRT @roobishimmer: #WhatsRomneyHiding Obama released his tax returns since 2000, where are Romney\\'s?\\nRT @JeffersonObama: 62% of U.S. Jews would reelect Obama, 4% say Israel is most important issue - Haaretz http://t.co/VhURDtdO http://t.co/gIGmn5kE\\nRT @truthout: Background on ex-CIA officer John Kiriakou, who Obama admin just indicted 4 allegedly leaking info re: torture program http://t.co/ySzwNRxV\\nRT @BelleInABow: Obama doesn\\'t need to be your favorite person, but he\\'s still the President of the United States of America. That always deserves respect.\\n[cbs-eve] Video: WH concedes Court\\'s power to kill health care law: The Obama Administration conceded that the S... http://t.co/0TPBphCt\\nBarack Obama, because nothing spells \\'champion of the middle class\\' like $5.00 gas! Go economy!\\nThis just pissed me the hell off. RT @wcptersn: If Obama were white, he\\'d be Mitt Romney.\\nHolder delivers three-page letter to judge over Obama comments | The Raw Story: http://t.co/MuLmPaB2 via @AddThis\\nObama\\'s Budget: \\'Interest Payments Will Exceed Defense Budget\\' in 2019 | The Weekly Standard\\nhttp://t.co/j84POPPR\\n@Deltagirl1326 @MissusPowell @sevenlayercake You dont really believe that Obama is a Socialist in the way you inferred? O believes in all..\\nRT @NatlWOW: @edshow Pres. Obama understands right from wrong! And doesn\\'t need to flip flop around to get votes! #UniteWomen #edshow\\nRT @handrewschwartz: Ignatius reports Obama signaled Iran US wld accept civ nuke pgm if Khameni can assure Iran will never get nuke weapons http://t.co/KkaAhGPq\\nIM QUITE POSITIVE OBAMA WANTS TO GET INSIDE MY PANTS. IM SURE OF IT, I AM SO IMPORTANT IN THE SCHEMA. IM A... http://t.co/8UxiTXT9\\nOpinion Romney-Obama - a contrast in style http://t.co/oZUoyoNN\\n@mbenzgt I\\'m glad you can read, yes I did blame bush. That\\'s cool I\\'m not Obama.\\nRT @Salon: Very important for Obama to do him job\\n.@Notintheface1 I thought it was more, describe Obama, but instead of using Obama\\'s qualities, list his own. Then hope nobody noticed.\\nRT @gardenofthegods: Think the #GOP is engaged in a \"War on Women\"? Why is #Obama meeting with Women\\'s worst enemy the Muslim Bro. tomorrow at OUR whitehouse?\\nI am worried that Barack Obama is in bed with Iran.We know that he is leaking classified info on Israel plan.He is not on our side or Israel\\n#WhatsRomneyHiding Obama\\'s State Senate records\\nI\\'m on the phone with my mom and said I\\'m on Busch waiting for the bus and she goes on your going to Obama next. LMFAO so lame.\\nRT @Professor_Why: #WhatsRomneyHiding - his plan to push bad loans through for Green energy just to see \\'em go bankrupt... Oops, that\\'s Obama again!\\nRT @BORNCURIOUS: The Taliban wins when 2 consecutive arrogant,contemptuos POTUS\\'s (GW & Obama) can strip our freedoms away with a signature\\nRT @blakehounshell: From Ignatius: \"U.S. officials hope [Putin] can broker a Syria deal before he meets Obama at the G-8 summit next month.\"\\nThey put Obama in  Hoodie Lol.\\nObama has a twitter?! Lol I swear he\\'s a thug!\\nPres. Obama\\'s ongoing support of women is another reason I am so proud he is my President!  @edshow #Obama2012\\nRT @handrewschwartz: Ignatius reports Obama signaled Iran US wld accept civ nuke pgm if Khameni can assure Iran will never get nuke weapons http://t.co/KkaAhGPq\\nRT @robertcobrien: @jameshohmann: Bill Kristol, WSJ Ed. Bd. & NRO all call on #Santorum to leave race, so that GOP can focus on Obama. @Norsu2 @AudreyLPerry\\nNBC sucks...NBC Accuses Federal Judge of Bringing Politics Into Courtroom By Questioning Obama | Media Research Center http://t.co/2GG53ZII\\nObama Next.....LMAO http://t.co/eEqWimgY\\nRT @derekahunter: I like how Obama asks \"#WhatsRomneyHiding?\" My guess, Obama\\'s crappy college transcripts. #WhatsObamaSmoking? #Caring #p2 @Messina2012\\n@alexaforman Obama in Boca!? #saywhatttt\\n@gretawire Obama\\'s not fooling anyone with a brain about what he\\'s up 2. We all know he\\'s brown nosing them 4 votes. Wine n\\' Dine stuff!\\nAT a campaign fundraiser tonight, Pres. Obama again denounced Mitt Romney by name for his support of the House-passed GOP Budget.\\nACA Can Live Even If Insurance Mandate Dies: http://t.co/MhF1hyPC\\nRT @MrPartisan: #WhatsRomneyHiding How he told AIPAC he\\'d \"have Israel\\'s back\" in dealing with Iran, then backtracked. No, wait. That was Obama.\\nHe\\'s half white, so is he half Mitt Romney? RT @wcptersn: If Obama were white, he\\'d be Mitt Romney.\\nRT @blakehounshell: RT @justinwolfers: Private payrolls fell -913k over W\\'s first term; rose +267k over his second term. Obama on track to do better than both.\\nObama signs jobs bill in a win for startup companies http://t.co/w77vkYru\\nRT @BelleInABow: Obama doesn\\'t need to be your favorite person, but he\\'s still the President of the United States of America. That always deserves respect.\\nRomney attacks Obama while barnstorming through Pennsylvania http://t.co/I4J3Q5uG\\nRT @PamMcAllister: How about we give him a decent Congress and then \"push\"? RT @maryfranholm @edwardvirtually Obama will move left only if we push him.\\nhttp://t.co/nAESlKQ9\\nhe nottt sliccck , tried to get at my boy obama .\\n#WhatsRomneyHiding Obama putting him out there lol. Damn Obama on some twitter beef\\nFoot job act -  Obama assinou hj :-p\\nRT @JoiningForces: Photo of the Day: First Lady Michelle Obama greets a #WoundedWarrior @ Walter Reed in #Bethesda: http://t.co/IwG56RDK\\n@ErskineGrier Racism in punishwork for Obama and in penalty against NOLA Saints, the chocolate city.\\nRT @ohgirlphrase: American kid \"You\\'re from the UK? Ohhh cool, So do you have tea with the Queen?\". British kid: \"Do you like, go to Mcdonalds with Obama?\\nBO\\'s college records?RT @markknoller: Obama Campaign says Romney should make public 23 years of tax (cont) http://t.co/G2bb5AIS\\nRT @BORNCURIOUS: For over 200 years in our great country we were protected by our founders from illegal search & seizure & now under 2 men (obama & GW)KAPUT\\n62% of U.S. Jews would reelect Obama, 4% say Israel is most important issue - Haaretz http://t.co/kJdeKfKg http://t.co/YuBShHrj\"\\nObama has called the GOP budget social Darwinism. Nice try, but they believe in social creationism.\\nIn his teen years, Obama has been known to use marijuana and cocaine.\\nRT @JoiningForces: Photo of the Day: First Lady Michelle Obama greets a #WoundedWarrior @ Walter Reed in #Bethesda: http://t.co/IwG56RDK\\n@ErskineGrier Racism in punishwork for Obama and in penalty against NOLA Saints, the chocolate city.\\nRT @ohgirlphrase: American kid \"You\\'re from the UK? Ohhh cool, So do you have tea with the Queen?\". British kid: \"Do you like, go to Mcdonalds with Obama?\\nBO\\'s college records?RT @markknoller: Obama Campaign says Romney should make public 23 years of tax (cont) http://t.co/G2bb5AIS\\nRT @BORNCURIOUS: For over 200 years in our great country we were protected by our founders from illegal search & seizure & now under 2 men (obama & GW)KAPUT\\n62% of U.S. Jews would reelect Obama, 4% say Israel is most important issue - Haaretz http://t.co/kJdeKfKg http://t.co/YuBShHrj\"\\nPresident Obama * Lindsay Lohan * 1989 RUMORS business 19 TH & M ST NW DC met field agent = multi connector to FFX  VA covert overt zone.\\nMarine Faces Dismissal for Criticizing Obama on Facebook http://t.co/MpMYwNyi\\nRT @markknoller: Obama Campaign says Romney should make public 23 years of tax returns so Americans can assess any conflicts of interest.\\nRT @CaptainCook03: And carpool with your friends. If we can stay away from the pump gas prices will drop. It\\'s up to us to lower them, not Obama\\n@JustAnotherMo #WhatsRomneyHiding His contempt for American exceptionalism and the laws of our nation  you forgot:  Oh wait thats Obama.\\nWash Examiner- Examiner Editorial: Obama\\'s budget, not Ryan\\'s, is \\'antithetical\\' to history: Speaking at the Ame... http://t.co/37kEFtMg\\nRT @ABC: Attorney General Completes Judge\\'s \"Obamacare\" Homework Assignment http://t.co/WCtllWno\\nExaminer Editorial: Obama\\'s budget, not Ryan\\'s, is \\'antithetical\\' to history: Speaking at the American Society o... http://t.co/t9xniyJG\\n\"once we have passed from bondage to liberty, how do we make the most of all that God has given us\" ~ President Obama\\'s Passover address\\nObama\\'s tax returns from the 80s and 90s? #WhatsRomneyHiding\\nGreen groups sue EPA over coal ash rules: The Obama administration is going into a tough election year fighting ... http://t.co/T4aopGDD\\nConcerning allegations about the firing of someone in the Obama admin whose job it was to uphold science integrity: http://t.co/1nDIfI3y\\nRT @robertcobrien: Obama: .@USNavy won\\'t get 345 ships called for in QDR; not 313 min necessary 4 missions; but less than 300 ships! http://t.co/CQpMvkDJ\\n#WhatsRomneyHiding The recipe to Dr. Obama\\'s Miraculous Algae Tonic.\\nA couple of months ago Finnish officials found sixty of our Patriot missiles on a ship bound for China. Expect big Chicom donor$ to Obama\\nRT @krauthammer: Obama v SCOTUS. The preemptive liberal attack on the Court: unseemly, hypocritical, illogical. Strong letter to follow. http://t.co/uJwEroyW\\nGreat photo!! LLAP!!  #trekkers RT @GuyKawasaki: Barack Obama: Vulcan? http://t.co/UejtlmGt\\nRT @Gabby_Hoffman: We want a president with a spine, not a president with fecklessness. America can do better than Obama. #resist44 #tcot RT if you agree!\\nGas over $4/Gal in my neighborhood today. Thanks #Obama! #FireObama #DrillHereDrillNow #Oil #NatGas #PickensPlan #NGVs http://t.co/NkIYIkj1\\n#WhatsRomneyHiding That President Obama is so jealous about anyways? Cant be self-generated wealth, can it&gt;\\nGood luck getting to class Tuesday when obama comes to FAU... @FAU_Problems\\n@Trigonis  people say Obama is inept. This proves it. :-))\\nRT @1Dlover_carrots: @Harry_Styles on a scale of 1-10 how attractive is this?...and don\\'t say michelle Obama. http://t.co/YiFq4PKT\\nRT @SgtPolite: #WhatsRomneyHiding HINT, it\\'s NOT Barack \"TelePrompter\" Obama\\'s College Transcripts, NOBODY can find those! #tcot #p2 #ocra #Obama2012\\nRT @blessmyliberty: Obama will portray #Romney as a rich, white guy outta touch w/the working class whos policies are similar to his so why not keep the hip cat\\nObama has message for you: LIVE FREE OR DIE HARD  http://t.co/SPn6jMXH #sopa #ndaa #occupy #ows #ronpaul @occupymarines #freedom\\nPresident Obama * Lindsay Lohan RUMORS video sec 50 to 56 visual special effects = human soul indicator * Covert overt connector.\\nUm, who really gives a rats ass about golf in Augusta & the new IBM CEO? Who is the reporter that asks & idiot #Obama responds? #tcot\\nMarine Faces Dismissal for Criticizing Obama on Facebook: By Barbara E. Hernandez A marine facing discharge afte... http://t.co/7UpYOSnI\\n@edshow Is the GOp war on women a fact?? Does a bear sleep in the woods?? Go Obama 2012\\nRT @JeffersonObama: 62% of U.S. Jews would reelect Obama, 4% say Israel is most important issue - Haaretz http://t.co/VhURDtdO http://t.co/gIGmn5kE\\nRT @marymauldin: OBAMA HONORS the wkwnd of Holy Passover 4 Jews & Holy Passion of Jesus by hosting MUSLIM BROTHERHOOD who wld murder both Jews & Christians\\n\"@southsalem: #VetThePrez #ArmyofBreitbarts RT @Bellanieve: Photos: Obama marched with New Black Panthers http://t.co/JaHy0cnn\"\\nMe and my Amp sis Khady when President Obama got elected and Nyrell looking like a fool in the background lo http://t.co/nBAjvfWA\\nRT @iowahawkblog: Taking Constitutional Law from Barack Obama is like taking Auto Shop from Barack Obama. #ormathorscienceorhistoryorteleprompterrepair\\n#WhatsRomneyHiding How he told AIPAC he\\'d \"have Israel\\'s back\" in dealing with Iran, then backtracked. No, wait. That was Obama.\\nRT @schwingcat: That his campaign disabled credit card verification on his online donation site #WhatsRomneyHiding #OhWait,that\\'s Obama http://t.co/3fgWm3n4\\nRT @NMsly: @marymauldin Nothing is ever a coincidence w/Obama. He CLEARLY speakes w/his actions...like hosting (cont) http://t.co/D9qwckJ3\\nA lady gave me a real dollar that said Obama is a dirty rat bastard. Oh hell naw!\\nRT @HarryFacts1D: \\'\\'Harry Styles describe a Michelle Obama como una mujer muy atractiva.\\'\\' OBAMA ESCONDE A TU ESPOSA Y A TUS HIJOS, STYLES VIENE EN CAMINO.\\nObama\\'s only hope: That a majority of Americans are morons. (GIven that he got elected once, should that thought give me comfort?) #hhrs\\n#WhatsRomneyHiding His college records... Oh, wait that\\'s Obama.\\nPictures of Obama and Larry Sinclair #WhatsRomneyHiding\\nRT @edshow: Women at Augusta? Obama says absolutely. Romney hedges. Comment on FB or tweet so we can share on #edshow!\\nBarrack obama be talking shit about mitt romney on twitter lololol hella funny\\n@blakehounshell @handrewschwartz yeah, i just opened, read lede. My edit: \"Obama has signaled no change in longstanding US position\"\\nPresident Obama * Lindsay Lohan RUMORS beginning * 1987 Analyst64 was protected * Future time-line indicator * Scramble scam mode video.\\n@benhurleycomedy haha is the first person you followed, Obama?\\n#Romney is right #Obama should STOP LYING ABOUT 4 million new jobs NOT CREATED  Killing AMERICAN CITIZENS  ,HC FRAUD #GOP #DEM #p2\\nRT @handrewschwartz: Ignatius reports Obama signaled Iran US wld accept civ nuke pgm if Khameni can assure Iran will never get nuke weapons http://t.co/KkaAhGPq\\nRT @ohgirlphrase: American kid \"You\\'re from the UK? Ohhh cool, So do you have tea with the Queen?\". British kid: \"Do you like, go to Mcdonalds with Obama?\\nObama at AP luncheon: Newshounds in heat. Details at http://t.co/rkNdEmIy #tlot #withnewt #tcot #tpp #tpn #sgp #sot #MSM #nra #lnyhbt #usmc\\nIn the year 3087, a cryogenically-reborn Barack Obama meets Newt Gingrich on the moon, his kingdom; a duel for Saturn beings #futuremoonNewt\\nRT @Talkmaster: Oh now I get it. Obama was talking in shorthand and we were just too dumb to understand how smart he really is.  Gagme.\\n@Harry_Styles on a scale of 1-10 how attractive is this?...and don\\'t say michelle Obama. http://t.co/YiFq4PKT\\n\"@Common_Sense4U: Bogus #Obama SOTU Poll - #Yahoo! Publishes Another Liberal Propaganda Piece as News!. #teaparty  http://t.co/OGyR4YUk\"\\n#Yahoo #Trend McConnell says in Lexington that Obama is trying to \\'intimidate\\' court http://t.co/PsXJ71R3 #TeamFollowBack Goo\\nPolitiFact | Obama says Republicans in Congress won\\'t name one tax exemption they want to repeal http://t.co/HdJiGiMe via @politifact\\nPresident Obama Signs the Jumpstart Our Business Startups (JOBS) Act: An Attempt to Ease... http://t.co/4IOwLqh1 (via @Media_Laws)\\nRT @EMcLean1982: #WhatsRomneyHiding nothing compared to this  MT @informedblackmn: Proof that Obama is accepting funny money.  http://t.co/TTnhii6A\\nRT @A_liketheletter: #WhatsRomneyHiding the reality of losing the election to President Obama\\n#KimKardashiansNextBoyFriend barrack obama\\nIt\\'s driving Liberals crazy that they can\\'t find any skeletons in Romney\\'s closet. In the case of Obama it\\'s one every day.\\nRT @TylerSadonis: Shout out to @RyanFecteau for the cool work he\\'s doing with the Obama campaign #Pride2012 http://t.co/AnxszxJn\\nRT @handrewschwartz: Ignatius reports Obama signaled Iran US wld accept civ nuke pgm if Khameni can assure Iran will never get nuke weapons http://t.co/KkaAhGPq\\nRT @HarryFacts1D: \\'\\'Harry Styles describe a Michelle Obama como una mujer muy atractiva.\\'\\' OBAMA ESCONDE A TU ESPOSA Y A TUS HIJOS, STYLES VIENE EN CAMINO.\\nRT @PAC43: Reforming an Obama supporter is like trying to pick up poop by its clean end\\nFull Metal Jacket\\'s R. Lee Ermey Rips Into Obama Administration: http://t.co/rXWlPBKQ via @youtube\\nRT @TimothyNoah1: What Obama should have said was: Let\\'s term-limit Supreme Court justices. http://t.co/RaKHSwfn\\nThe halved deficit Obama promised? #WhatsRomneyHiding\\nPresident Obama * Lindsay Lohan RUMORS beginning cross shape lights on ST * 1987 Analyst64 DC bicycle courier * Video changes to scramble.\\nRT @schwingcat: That his campaign disabled credit card verification on his online donation site #WhatsRomneyHiding #OhWait,that\\'s Obama http://t.co/3fgWm3n4\\n#WhatsRomneyHiding - the fact that he\\'ll start idiotic hashtags that\\'ll get taken over by Conservatives... Oh wait, that\\'s Obama! #caring\\nObama holds high-end fundraisers at DC hotels - AP Online http://t.co/Ng1MH6hO #obama\\n#WhatsRomneyHiding saying that he should  b president bc he will improve private sec. job growth..which Obama has done 4 the past 24 months.\\nNancy Pelosi | Obamacare | Barack Obama | Supreme Court | The Daily Caller http://t.co/DrZl9zwA via @addthis\\nObama signs small business legislation - Yahoo! News http://t.co/9JQdRBUs\\nI\\'m THINKIN\\' that OBAMA WAS OVERSOLD #justsayin ==&gt;RT @River_City: #Duh Biden Adviser: Green jobs oversold http://t.co/q5iS0Fyq\\n@MichelleObama lol u go miss obama u look so pretty\\nSo good I gotta tweet it again: Is Barack Obama A Soviet Spy? Operation Hot Mic - http://t.co/KW9dn9wq via @WestJournalism\\n@CNNnewsroom @sierchioM..good obama..now rep.act\\'g in agreement-wow?\\nDumb Obama my 4year old brother could do a better job sher there would be alot of Legos and candy but it would be better\\nI\\'m Michelle Obama, u Kim K, C\\'mon bitch u see where the black president at?\\nRT @BelleInABow: Obama doesn\\'t need to be your favorite person, but he\\'s still the President of the United States of America. That always deserves respect.\\nLiberal #SteveJobs: Obama\\'s business killing regulations forces Apple to build in #China #cnn - http://t.co/Yd8jzwoV\\nRT @jazzcattrio: Consistently very good jobs reports, auto industry rebounds, Pres. Obama signs Jobs Act....& GOP responds: \"He\\'s destroying America!\" #p2\\nObama has called the GOP budget social Darwinism. Nice try, but they believe in social creationism.\\nIn his teen years, Obama has been known to use marijuana and cocaine.\\n@BarackObama @MittRomney we wil when #obama releases his college records and  the passport he traveled to Pakistan with\\nTo how many foreign leaders has Obama promised post-election flexibility? ~NEWT At http://t.co/wX1RzFKm #tcot #tlot #tpp #tpn #sgp #withnewt\\n#WhatsRomneyHiding his secret \\'more flexible\\' plans with Russia? Nope, Obama again.\\nRT @globeandmail: Obama takes a swing at all-male Augusta National http://t.co/LUw7Ky66\\nDear #dmv_twitter, wondering where the dudes at? They at the Kappa-fest... I mean the Park-Obama fundraiser on the 3rd floor. #thankmelater\\nRT @LyndsayFarlow: Steve Forbes Warns of New Obama Recession if Re-Elected http://t.co/xcNDC7jK @Fingersflying\\nNPR Topics: Politics-Obama\\'s Signing Of JOBS Act Likely Won\\'t Dim GOP Charge He\\'s Anti-Jobs http://t.co/22GPDvLM\\nRT @markknoller: Obama Campaign says Romney should make public 23 years of tax returns so Americans can assess any conflicts of interest.\\nRT @JoeSixpackSays: LETS DRAFT SHERRIFF JOE for Independent Prosecutor, hah? Lets have a GRAND JURY! OBAMA MUST GO! #tcot\\nRT @preciousliberty: Obama hands over $3.5 billion in Libyan liquid assets to Hamas & al-Qaeda via Libyan rebels http://t.co/NcJH7Jgb #citizensunited #tlot\\nBarack Obama.. COMMERCIAL come on!\\n@edshow Pres. Obama understands right from wrong! And doesn\\'t need to flip flop around to get votes! #UniteWomen #edshow\\n@solomongebbs :O For saying that One Direction looked gay! That was an insult to me, them, and Obama!\\n@markknoller \"Saul says Pres Obama \"will do anything\" to distract Americans from his \"failed\" economic record ..\" Saul Alinsky said that?\\nhttp://t.co/uMhu62nd Obama, if you had a son, would he look like any of these fine youngsters?\\nRT @globeandmail: Obama takes a swing at all-male Augusta National http://t.co/LUw7Ky66\\nThe GOP is the white whale. Obama is Ahab climbing up the harpoons & Dems are complaining it\\'s not tail dancing & making flipper noises yet.\\n@TPO_Hisself @barackobama Literally, i walk around talking on my cell phone 2 obama, I tell him to shut up, that he\\'s light tan not black\\nRT @DS_CT: It\\'s a sorry state of affairs when the US President menaces other branches of government. Obama mocks and menaces like governing is sport.\\nRT @searfoss70: Unreal: Obama Regime Release $1.5 Billion In Aid To Egypt After Meeting With Muslim Brotherhood http://t.co/qmkaNjER #becktips #tcot\\nDoesn\\'t matter to Libs that Obama\\'s the one avoiding honesty. If they accuse first, they think they\\'re golden. But they understimate #tcot!\\nIf this were George Bush instead of Michelle Obama, it\\'d be about 90% of all of my group projects. #asklessofbusiness http://t.co/q04cVYix\\n@tsagliani oh how I agree and Obama is leading them, the Bastard\\nRT @Tacami222: #TCOT This says it all......Obama Caught Lying-In His Own Words: http://t.co/sTR0vyJK #bcot #NoObama #liar #socialist #marxist #deceit #fail\\nShout out to @RyanFecteau for the cool work he\\'s doing with the Obama campaign #Pride2012 http://t.co/AnxszxJn\\n@jaguarfreckles @truebornstark IDK. I just saw that Michelle Obama invited them to perform and they said \"no, thank you\".\\nFree country can have a all male club... Piss on you and Obama @edshow Women at Augusta? Obama says absolutely. ... http://t.co/GaLabbKb\\nRT @idkmanilove1D: OMFG FIRST CAROLINE, NEXT MICHELLE OBAMA, NOW SOPHIA? Hazz.. Look he is staring at her ass... http://t.co/UiNfpoYP\\nRT @4Mitt4USA: #WhatsRomneyHiding is that he can easily defeat Obama. Hes just trying to be nice at the moment\\nFrom Ignatius: \"U.S. officials hope [Putin] can broker a Syria deal before he meets Obama at the G-8 summit next month.\"\\nObama. #drawsomething @therealdwele showing off http://t.co/KJc4gJso\\nRT @Professor_Why: #WhatsRomneyHiding - his plan to push bad loans through for Green energy just to see \\'em go bankrupt... Oops, that\\'s Obama again!\\nThat he thinks Obama is a dangerous, incompetent socialist jerk, but can\\'t really say that #tcot #WhatsRomneyHiding\\n#prayersgoup lol RT @_Ciroc_Obama: Mannnnn hope dey pass dat gas cap tax...it could end up makin gas $2.50 a gallon wooo\\nRT @CaptivatingNews: Obama Campaign Hosting Women\\'s Issue Conference http://t.co/EaNtlmO0\\nClearly Mr. Obama intended to bully and bring public pressure on the Supreme  Court re ObamaCare. We don\\'t need further explanations.\\nRT @preciousliberty: Obama is the biggest brother in the Muslim Brotherhood: he\\'s funding Hamas & al-Qaeda via Libyan rebels http://t.co/NcJH7Jgb #citizensunited\\nRT @/ThirdRailersObama Autopen Missing: Lost Bills found - Obama Autopen Missing:... http://t.co/8HYLEeNW\\n #tcot... http://t.co/oVMu9fKA\\nKoch brothers linked to $3.6M anti-Obama gas price ad campaign - http://t.co/oZwYTqxX: http://t.co/acZt9PW2 via @POLITICO #Dems #p2b #p2\\nRT @/SheCallsMeLarryThe \"new\" anti-Obama slur from the #RWNJ echo chamber is THUG? So we\\'ve decided to just let ... http://t.co/lFYgXSNS\\n@sweetbay That was Paul Ryan\\'s budget. How did Obama\\'s budget do? Getting educated on the facts is the first step in losing that liberalism!\\nRT @anna12061: Another Obama Buddy!\\rhttp://t.co/B2WIWFrV\\r\\rNapolitano Caught Hiring Muslim Brotherhood Terrorist, Giving Him Top-Secret Security Clearance\\n#whatsromneyhiding Obama\\'s college transcripts\\n#WhatsRomneyHiding the reality of losing the election to President Obama\\nRT @texaszman: War On Children: Liberals Attack Scott Walker\\'s Kids. Liberal \\'Civility\\' - Just Like Obama Promised. http://t.co/vdBXgsyk\\n@YahooNews What is a \"white Hispanic?\"   http://t.co/QTdmKZQe  Is Obama a white African American? Why do you use this racist term?\\n@pritikothari I dont really care what obama\\'s hiding either, still voting for him!\\nRT @RoheezyDoesIt: Obama is the miggity man!\\nRT @AP_Ken_Thomas: #Obama at DC fundraiser: \"It\\'s going to be a fun debate because it\\'s always good to have the truth on your side.\" #2012\\nNot good for the D Party. http://t.co/wJVdoGyI\\nA vote for @RonPaul or @TheRealRoseanne is a vote for obama\\n62% of U.S. Jews would reelect Obama, 4% say Israel is most important issue - Haaretz http://t.co/VhURDtdO http://t.co/gIGmn5kE\\nRT @DANEgerus: #WhatsRomneyHiding Mitt actually got a paycheck, and met a payroll, while Obama has looted the tax-payer his whole life\\nBUM! Obama \"threatens\" supreme court justices considering repealing his unconstitutional healthcare law. Nice move bum!\\nhttp://t.co/BAUROUue\\nEEUU autoriza a Obama ejercer poderes totales y control absoluto de recursos: CISPA, mucho peor que la Ley SOPA http://t.co/qF22AsjO\\nRT @BelleInABow: Obama doesn\\'t need to be your favorite person, but he\\'s still the President of the United States of America. That always deserves respect.\\n@OREILLY NEEDS 2 STEP DOWN OR BACK! HE KNOWS NOTHING ABT ANYTHING BUT THINKS HE KNOWS EVERYTHING & HE KNOWS IT NOT! -me #freedomfever #obama\\nRT @rushlimbaugh777: Limbaugh: Obama \\'a Thug\\' on SCOTUS - Rush Limbaugh - Fox Nation http://t.co/GP27CETj\\nRT @GlobalGrind: Picture Perfect! Jay, Barack, Bey & Michelle are perfectly posed..photos &gt;&gt; http://t.co/XpXJJp9c\\nTake any #poll of adults & registered #voters w grain of salt. Skew #Dem. Likely voters best gauge of any election http://t.co/sVTTAKbW #GOP\\nRT @Kerryepp: #WhatsRomneyHiding that he can throw a baseball like a man and not like a girl like Obama...\\nRT @MeganSmiles: #WhatsRomneyHiding  his birth certificate? Nope, that\\'s Obama.\\nRT @TheWrightWingv2: Is Despot better? @workinmama @RednaxalA Calling Obama a despot gives him more respectability than his sort is due; a thug. #obama2012 #gop\\nThat his campaign disabled credit card verification on his online donation site #WhatsRomneyHiding #OhWait,that\\'s Obama http://t.co/3fgWm3n4\\nHow Saul Alinsky Taught  #Obama to Say One Thing and Do the Opposite http://t.co/BKn8RpkI  #Tcot #twisters #teaparty #sgp #ocra\\nPretty cool video&gt;&gt;&gt;The Story of \"Fired up! Ready to go!\" - Obama for America 2012: http://t.co/nxXJrxZe\\nProsecutor: Marine posted negative images of Obama http://t.co/9WGiMra5\\n#celeb #tabloid #rumor: Bo Obama Crashes TV Promo http://t.co/tFame7bZ #news\\nhttp://t.co/b7hy5nu1 http://t.co/2gtwMBtu\\nDemand Romney release his tax returns?  Is that like demanding Obama release his birth certificate?  What good could ever come of that?\\n@KeithOlbermann did you vote for Obama? If so why? It\\'s a simple question a man of you intellectual fortitude can answer....\\nLittle stuff like this is why Obama will beat Romney http://t.co/xQMcasBa\\nRomney &gt; Obama\\nObama Autopen Missing: Lost Bills found - Obama Autopen Missing:... http://t.co/C54NpNfl\\n #tcot #tlot #teaparty #thirdrailers #gop #twisters\\n\"Fuck Yo Grammar , Obama Is President \"\\n@donjuanw @vaponte8 He\\'s bored, It think he wants to waterboard someone. http://t.co/gpdr1y1C\\nRT @geoff9cow: RT @17bbomb: @geoff9cow Is that why more people are on foodstamps under Obama / no. bullshit wars & bullshit tax breaks are why\\nGood call!  RT \"President Obama believes Augusta National Golf Club should admit women, White House spokesman says. http://t.co/pp8XLXM4\"\\nhttp://t.co/eamVPg6w http://t.co/XpHKzt5Y\\nRT @ryanjcroft: Is anyone else growing tired of the Obama Administration\\'s relentless class warfare tactics? They\\'re maddening and un-American.\\n#WhatsRomneyHiding Obama released his tax returns since 2000, where are Romney\\'s?\\nRT @TPO_Hisself: obama will go down in history as the only president in 200 years to be unable to get a single budget passed.  #Fail\\nRT @jodikyman: RT @American1st UNELECTED OBAMA JUSTICE DEPT IS TRYIN 2 BULLY ELECTED SHERIFF JOE ARPAIO OF MARICOPA COUNTY? VIOLATING UR OWN RULE?Mr Obama\\nObama has called the GOP budget social Darwinism. Nice try, but they believe in social creationism.\\nIn his teen years, Obama has been known to use marijuana and cocaine.\\nGood call!  RT \"President Obama believes Augusta National Golf Club should admit women, White House spokesman says. http://t.co/pp8XLXM4\"\\nhttp://t.co/eamVPg6w http://t.co/XpHKzt5Y\\nRT @ryanjcroft: Is anyone else growing tired of the Obama Administration\\'s relentless class warfare tactics? They\\'re maddening and un-American.\\n#WhatsRomneyHiding Obama released his tax returns since 2000, where are Romney\\'s?\\nRT @TPO_Hisself: obama will go down in history as the only president in 200 years to be unable to get a single budget passed.  #Fail\\nRT @jodikyman: RT @American1st UNELECTED OBAMA JUSTICE DEPT IS TRYIN 2 BULLY ELECTED SHERIFF JOE ARPAIO OF MARICOPA COUNTY? VIOLATING UR OWN RULE?Mr Obama\\nDaily Front Row - The Fix - Designers Discuss: Made In The USA Campaign http://t.co/VGCUvWQN #fashion\\nLETS DRAFT SHERRIFF JOE for Independent Prosecutor, hah? Lets have a GRAND JURY! OBAMA MUST GO! #tcot\\nBreakin\\' News: Holder: Obama administration respects the Supreme Court - USA TODAY http://t.co/owqtrrpr\\nRT @rushlimbaugh777: Rush: Obama \\'Knows About Judicial Review\\' http://t.co/bGmEgGZR\\n#TCOT This says it all......Obama Caught Lying-In His Own Words: http://t.co/sTR0vyJK #bcot #NoObama #liar #socialist #marxist #deceit #fail\\nRT @wcptersn: If Obama were white, he\\'d be Mitt Romney.\\nRT @Ooh_ShePretty: - I\\'m Riding With Him Like Obama , He Don\\'t Gimme Drama\\nRT @markknoller: Saul says Pres Obama \"will do anything\" to distract Americans from his \"failed\" economic record incl unemployment & higher gas prices.\"\\n@Duckinthedesert Why didn\\'t Obama just run with the initial bill? @uscfandave\\nRT @handrewschwartz: Ignatius reports Obama signaled Iran US wld accept civ nuke pgm if Khameni can assure Iran will never get nuke weapons http://t.co/KkaAhGPq\\nRep.: Drop charges against anti-Obama Marine - Military News | News From Afghanistan, Iraq And  - Military Times http://t.co/4ZV5rueN\\n@edshow While Obama is decisive, Romney has yet figured out how to be on both sides of the Augusta issue #edshow\\nObama Concedes That Courts Can Review Acts of Congress: A federal appeals court had demanded that the administra... http://t.co/enaJSbD3\\nObama Concedes That Courts Can Review Acts of Congress: A federal appeals court had demanded that the administra... http://t.co/zejRChDn\\nObama Concedes That Courts Can Review Acts of Congress: A federal appeals court had demanded that the administra... http://t.co/UbLfVfdK\\nObama Concedes That Courts Can Review Acts of Congress: A federal appeals court had demanded that the administra... http://t.co/bKUGLufH\\n@ORiellyFactor  Had to turn off OReilly again tonight. When he starts slobbering over Obama with his \"I want to be fair to the president\" BS\\nObama Concedes That Courts Can Review Acts of Congress: A federal appeals court had demanded that the administra... http://t.co/YT7rGVL9\\nRT @vflyby: I truly believe the GOP is serious about beating Obama n Mitt needs 2 start now calling Obama out on his record! NO similarity between the 2\\nTexas GOP talking about going to winner-take-all primary. Could single-handedly change who Barack Obama faces this year #epic\\n#WhatsRomneyHiding His relationship with Vera Baker? Damn, that might be Obama too. I suck at this.\\nUn genio Obama cantando \"Sexy and i know it\"  ajajajaj http://t.co/LojgGtGT\\n@TPO_Hisself : Obama For America (Fla) decided to follow me- maybe you should run for Prez, you have 5x as many followers\\n#obama samsung galaxy i5800 android 2.2 http://t.co/bgk2uOdY\\n#KimKardashiansNextBoyFriend Obama!\\n@ExtremeLiberal obama is the best choice by far for 2012. i push people to vote a lot. check 2010 tweets. but dem machine needs replacement.\\nObama: Star Wars or Star Trek? - Movies News at IGN: http://t.co/HW7liQa9 via @IGN\\n#WhatsRomneyHiding HE IS HIDING JUST AS MUCH BULLSHIT AND LIES AS OBAMA AND THE DEMOCRATS ARE. ALL POLITICIANS ARE SCUM FUCK LIARS\\n@_H_C_T_ you are so right. yup. that\\'s why 90% of my friends aren\\'t white, that\\'s why i voted for obama that\\'s why I\\'m traveling to Africa\\n[221] The next day, on Obama\\'s orders, the U\\n@NatefromUSA Say, how about that Obama sealing all his college transcripts & passport records?  #p2 #Obama2012 No big deal, eh? #gop #tcot\\nMoving to Iowa. Obama becomes president. Working with 5 of the most brilliant people he\\'s ever known. living in DC. #quickstory\\nRT @whatevrer: i hope barack obama and mitt romney get in a twitter fight\\nOnly in an election year will obama take sudden interest in Augusta admitting Woman members.\\nRT @BarackObama: Watch live: President Obama signs the JOBS Act, making it easier for startups and small businesses to get financing. http://t.co/mm4eGrZJ\\nRT @markknoller: Obama Campaign says Romney should make public 23 years of tax returns so Americans can assess any conflicts of interest.\\nhttp://t.co/0NrH7GKj Obama signs JOBS Act to boost startup firms - http://t.co/REuKvbgg\\nRT @moxist: My tweet about Nobody being better than Obama got 8 RTs. The same tweet about Ron Paul got 2. Ron Paul is not Nobody, people.\\nRT @WhatTheFFacts: In his teen years, Obama has been known to use marijuana and cocaine.\\nNamun, dengan dirinya terpilih menjadi presiden, jadwal Obama langsung pt menghadiri banyak undangan\\nRT @markknoller: Obama Campaign seizing on Washington Post report on Mitt Romney not disclosing certain details of his income & assets.  http://t.co/zneCZUTo\\nRT @Notintheface1: Apparently, Romney\\'s entire campaign strategy for Obama consists of \"I Know You Are But What Am I?\"\\n@MittRomney Instead of constantly pointing out Obama\\'s weaknesses, why not worry about your own. What are your plans to make improvements?\\nRT @brianwiersema: @JoeNBC If you have FACTS supporting your assertion that Obama policies contributed to high gas prices then lets hear them. Otherwise STFU!\\nRT @Norsu2: Justice Grimaces As Obama Criticizes Supreme Court at State of the Union: http://t.co/LSCUC7P4 via @youtube See a trend here? #tcot #ocra\\nRT @thinkprogress: Romney, who has two Harvard degrees, blasts Obama for spending \"too much time at Harvard.\" http://t.co/avbgNT57 #icymi\\nAfter Obama gets women admitted to Augusta, I\\'m gonna see if I can join Adams Co League of Women Voters.\\nRT @thinkprogress: Romney, who has two Harvard degrees, blasts Obama for spending \"too much time at Harvard.\" http://t.co/avbgNT57 #icymi\\nHolder delivers three-page letter to judge over Obama comments | The Raw Story: http://t.co/zcSKd1Jd via @AddThis\\nRT @timgRIGHTway: #Obama gives $1.5 Billion to Egypt after meeting Muslim Brotherhood http://t.co/1kiskMUC . Unreal! #Tcot\\n@Joeymommy @_ccm http://t.co/clrOvUEB I would believe Snopes over Jerome Corsi. Look at their record in court: zero!\\nRT @markknoller: Obama Campaign seizing on Washington Post report on Mitt Romney not disclosing certain details of his income & assets.  http://t.co/zneCZUTo\\nRT @ohgirlphrase: American kid \"You\\'re from the UK? Ohhh cool, So do you have tea with the Queen?\". British kid: \"Do you like, go to Mcdonalds with Obama?\\nThe spectacle of democracy in the US http://t.co/rhDUtpLs #p2 #tcot #Obama #teaparty #WhatsRomneyHiding\\nAgain President Obama stands up for \"women\" @edshow and boldly does so.\\nRT @searfoss70: Unreal: Obama Regime Release $1.5 Billion In Aid To Egypt After Meeting With Muslim Brotherhood http://t.co/qmkaNjER #becktips #tcot\\nRT @1LuisSandoval: If Obama had a son, he\\'d look like Trayvon.  If he had a dad, he\\'d look like Marion Barry.  If he had a hammer, he\\'d hammer in the morning.\\nRT @DrewMTips: #WhatsRomneyHiding His plan to sell out US missile defense to Russia after the election. Nope, sorry, that\\'s Obama again.\\nhttp://t.co/5XJZbGSV Naked Sarah Palin The polls are heading Barack Obama\\'s way but much of the\\nObama Signs \"Fraud-Friendly\" JOBS Act into Law | Economist: Bill will bring fraud, destroy jobs http://t.co/XjuQrb5w @AddThis\\nPowerline points out that even the Washington Post is laughing at Obama. http://t.co/Oqebcdlc\\nRT @SheCallsMeLarry: The \"new\" anti-Obama slur from the #RWNJ echo chamber is THUG? So we\\'ve decided to just let our racist bedsheets fly, huh? Interesting. #GOP\\n- I\\'m Riding With Him Like Obama , He Don\\'t Gimme Drama\\nmuito bom http://t.co/JqlUcpRc AHUAHAHUHAHAUHUAHUAHHAUHA\\n@Im_Tyler haha blaming Bush 4 years later? Even Obama stopping blaming him years ago.\\nRomney is gonna be the nominee y\\'all. Not my first choice either but we cannot allow a 2nd Obama term. Obama HAS TO GO!!!!!!!\\n#WhatsRomneyHiding - his connection to a former IL Governor selling a congressional seat... Whoops, that\\'s Obama again!\\nObama\\'s economic policy is simple: \"Spending on Steroids\". #Economics101\\nMarion Barry attacking Asians;  Obama, CBC, NAACP attcking Zimmerman etc.  Who are the real racists?\\nRT @1Directionality: \"Harry styles described Michelle Obama as a very attractive older woman\" OBAMA HIDE YOUR WIFE, STYLES IS COMING!\"\\nRT @HonestMitt: We all know Obama will use Chicago style politics against Mitt Romney, so I thought you\\'d like to meet the REAL Mitt Romney! #HonestMitt\\nObama\\'s Confidence Hints at Hidden Powers Shaping Election - Godfather Politics http://t.co/qCKXeVlI\\nI fucking dreamnt that Obama was on Running Man. #wtf?\\nI know people personally whose lives were saved by Barack Obama\\'s health care law. I\\'m through with your lies. @MittRomney @RickSantorum\\nRealClearPolitics Video -  Reporter To Carney: Obama \"Made A Mistake And You Can\\'t Admit It\" http://t.co/QDV1qQKn\\nU ROCK LUIS!RT @1LuisSandoval: If Obama had a son, he\\'d look like Trayvon.  If he had a dad, he\\'d (cont) http://t.co/sqG7ysWO\\nObama Administration Funding Middle East Christian Extermination: #tcot #independents #tlot #Christians #democrats http://t.co/NCe2nJzX\\nSaul says Pres Obama \"will do anything\" to distract Americans from his \"failed\" economic record incl unemployment & higher gas prices.\"\\nRT @ABC: Obama Signs #JOBS Act Into Law http://t.co/JJQ5DfKb\\nRT @dierdrelewis: Koch brothers linked to $3.6M anti-Obama gas price ad campaign - http://t.co/fOrfWYMb: http://t.co/z4KU2HkN via @POLITICO #p2 #tcot\\nRT @PAC43: Reforming an Obama supporter is like trying to pick up poop by its clean end\\nRT @ItsLoopzProd: LOOOOOOOOOOOOOOOOOOOOOOOOOOOOL This is why i rate obama http://t.co/vsOYFhSa\\nRT @KarlRove: Obama\\'s habit of blaming others for country\\'s problems adds to perception of a weak leader. http://t.co/NZaqvz3C\\nObama has called the GOP budget social Darwinism. Nice try, but they believe in social creationism.\\nIn his teen years, Obama has been known to use marijuana and cocaine.\\nSaul says Pres Obama \"will do anything\" to distract Americans from his \"failed\" economic record incl unemployment & higher gas prices.\"\\nRT @ABC: Obama Signs #JOBS Act Into Law http://t.co/JJQ5DfKb\\nRT @dierdrelewis: Koch brothers linked to $3.6M anti-Obama gas price ad campaign - http://t.co/fOrfWYMb: http://t.co/z4KU2HkN via @POLITICO #p2 #tcot\\nRT @PAC43: Reforming an Obama supporter is like trying to pick up poop by its clean end\\nRT @ItsLoopzProd: LOOOOOOOOOOOOOOOOOOOOOOOOOOOOL This is why i rate obama http://t.co/vsOYFhSa\\nRT @KarlRove: Obama\\'s habit of blaming others for country\\'s problems adds to perception of a weak leader. http://t.co/NZaqvz3C\\nRespect for the Supreme Court and power of judicial review.... Oh wait that\\'s Professor Obama #WhatsRomneyHiding #tcot\\n@MichelleObama great photo of Mrs Obama .\\nMy tweet about Nobody being better than Obama got 8 RTs. The same tweet about Ron Paul got 2. Ron Paul is not Nobody, people.\\nRT @Professor_Why: #WhatsRomneyHiding - his long-form birth certificate for 2 1/2 years... Oh wait, that little game was played by Obama, not Romney...\\nSantorum & bible. Romney & attorneys. Obama & drones & prison camps. RON PAUL & The CONSTITUTION. Liberty, Freedom & Justice, anyone?\\nRT @kkrebeka: how come Justin Bieber has more followers than Barack Obama\\nhttp://t.co/UxKlvxaj  - Attorney General Defends Obama\\'s Court Critique .#tcot\\nTonight\\'s show: the Texas Republican Party may be the last line of defense between the Constitution and another four years of Obama.\\n@carrotgravy lol okay I\\'m calm. But technically 4 black directioners cause michelle obama is one now. WOW. and as am I :)\\nRT @thinkprogress: Romney, who has two Harvard degrees, blasts Obama for spending \"too much time at Harvard.\" http://t.co/avbgNT57 #icymi\\n#WhatsRomneyHiding #Obama\\'s Communist membership card along with all #Obama\\'s college papers, birth certificate, real social sec.card  #tcot\\n@charlesfrith wow the dum=dum celebrity worshippers really pray at Obama\\'s feet. I wonder why they don\\'t smell how bad he really is? DUM USA\\nObama vs Romney&gt;Obama helped the Auto Industry,Prevented a deeper recession/created 3+ million jobs&lt;Romney cant win on this issue #p2 #tcot\\nRT @Real_Liam_Payne: That was one of the strangest days ever will smith taylor swift justin bieber michelle obama  wow what it going on with my life!!\\nThe \"new\" anti-Obama slur from the #RWNJ echo chamber is THUG? So we\\'ve decided to just let our racist bedsheets fly, huh? Interesting. #GOP\\nRT @angel__network: Obama to sign JobsAct into law, which is designed to make crowdfunding a legal option for startups: http://t.co/35EWTJG7\\n#WhatsRomneyHiding Blueprints on how conservatives destroy Obama\\'s lame attempts to launch hashtags.\\nGas is 3.98...I\\'m gunna have sex with Barrack Obama! I mean You only live once..- @samholley42\\nRT @Ghutsch: Hey @attackwatch, I think the conservatives are taking over Obama\\'s attempt to attack using #whatsromneyhiding....  BWAhahahahahaha!!!!\\nRT @DS_CT: It\\'s a sorry state of affairs when the US President menaces other branches of government. Obama mocks and menaces like governing is sport.\\n#WhatsRomneyHiding That Michelle Obama was featured in Sir Mixalot\\'s music video \"Baby Got Back\"\\nRT @Boudicabpi: Michael Savage: How Obama plans to fix the 2012 election http://t.co/LuObjd1M via @SarahRoman11\\nRT @LMFAO: Who\\'s sexy and knows it? Barack Obama. Yeeeaah baby!! http://t.co/5EO2RIfx\\nRT @markknoller: Obama Campaign says Romney should make public 23 years of tax returns so Americans can assess any conflicts of interest.\\nNicki Minaj Rules For Republican Radicals: Throughout the 2008 Presidential campaign, both Barack Obama and his ... http://t.co/UnVSPmdy\\nRT @markknoller: Obama Campaign says Romney should make public 23 years of tax returns so Americans can assess any conflicts of interest.\\n\"who was the woman who worked for Hillarys presidental run against Obama says that\" http://t.co/19Frqx8C\\nRT @handrewschwartz: Ignatius reports Obama signaled Iran US wld accept civ nuke pgm if Khameni can assure Iran will never get nuke weapons http://t.co/KkaAhGPq\\nThe Writer\\'s strike gave him the opportunity to go work for Obama\\'s campaign\\nMitt Romney: Obama \\'Spent Too Much Time At Harvard,\\' Also A Year Less Than I Did http://t.co/qxcmS5HU via @huffingtonpost\\nRT @GeorgeD_87: Nothing like Team Obama attacking Romney to unite conservatives. Thanks.  #WhatsRomneyHiding\\nLove the idea that @SarahPalinUSA acts like a complete buffoon as a cover-up for a diamond heist planned by Obama & McCain, if only true..\\nObama donor Perry hits cops for racial profiling http://t.co/MNq3PqOp\\nConclusive proof that Obama\\'s real first name is also \\'Willard\\' #WhatsRomneyHiding\\n#KimKardashiansNextBoyFriend Obama\\nPresident #Obama talks directly to women! @MittRomney talks at women&sends #phonyAnn then has her report back to see what women are saying?\\nTo Obama, legal precedents are all about politics http://t.co/R0LJqx8X\\nObama to celebrate Passover with Seder http://t.co/tIS5Umhh\\nRT @LauraFlyMe: \"Barry Soetoro a.k.a. Barack Obama Exposed Finally: http://t.co/Hl52R0AN via @youtube\\nBarack Obama Traditional Mahjong http://t.co/C67LiSDV\\nThe Vetting: Obama Exploited Catholics To Push Universal Health Care In Illinois  http://t.co/NqjjCWMB\\nRT @TCOTvideos: Obama\\'s snafu over Supreme Court\\'s job duties give hint as to why he has locked all his college transcripts in Fort Knox. #TCOT\\nRT @angel__network: Obama to sign Jobs Act into law Thursday, which is designed to make crowdfunding a legal ... http://t.co/mpTGvRvw\\nKal liked what Obama had to say at political rally and signed up to volunteer for campaign.\\nRT @MiltShook: If #202-599-9212 appears on your caller ID, it\\'s a pro-GOP telemarketer trashing Obama. Don\\'t answer, or answer while flushing toilet.\\nRT @WhatTheFFacts: In his teen years, Obama has been known to use marijuana and cocaine.\\nRT @rickjnewman Which presidential candidate is out of touch? How about both. http://t.co/02AQUGPl #Obama #Romney\\nRT @nat_riverascott: @Mirandacan you are so right about that #shameonyou #Obama\\nExaminer Editorial: Obama joins attacks on court even before health care ruling | Washington Examiner http://t.co/zHkcmmyb via @addthis\\n#WhatsRomneyHiding That time he told AIPAC Jerusalem should remain united, then backtracked in a TV interview. No, wait. That was Obama.\\nIs President #Obama trying to muscle the Supreme Court? @JeffreyToobin & @JaySekulow are standing by to discuss...and disagree! #AC360\\nRT @Talkmaster: Oh now I get it. Obama was talking in shorthand and we were just too dumb to understand how smart he really is.  Gagme.\\nSharing: http://t.co/AEp80p7F Feds refuse to release obummer\\'s draft docs to Sheriff Joe.\\nThe Maverick Conservative: President Obama: Hispanics/Latinos as Illegal Immigrants and Murderers http://t.co/BX2ogeQN via @addthis\\nIs anyone else growing tired of the Obama Administration\\'s relentless class warfare tactics? They\\'re maddening and un-American.\\nRT @anna12061: Another Obama Buddy!\\rhttp://t.co/B2WIWFrV\\r\\rNapolitano Caught Hiring Muslim Brotherhood Terrorist, Giving Him Top-Secret Security Clearance\\nRT @whitehouse: Today President Obama signed the #JOBSAct - encourages startups, supports #smallbiz: http://t.co/YyeRYmHT\\n@MJ_Obama you right though enjoy your self my nigg we gon he wilding soon\\nIt\\'s a sorry state of affairs when the US President menaces other branches of government. Obama mocks and menaces like governing is sport.\\nAmerican kid \"You\\'re from the UK? Ohhh cool, So do you have tea with the Queen?\". British kid: \"Do you like, go to Mcdonalds with Obama?\\n@PAC43 wonder if Obama\\'s buddies will lose their passports too? Buffet,Geither& Immelt?\\nObama aboga por el ingreso de las mujeres al club de golf de Augusta http://t.co/zhKx6rQE\\nWith Obama\\'s budget, interest payments on the debt will exceed our entire defense budget in 2019.. #tcot  http://t.co/tmsSKR0T\\n\"@Ciroc_Obama: #IBLOCKA\"\\n#Obama and #Romney agree on including #women at the Augusta Golf Club &gt; Well, waiting for #Mitt to #FlipFlop any minute now :-) #weasel\\nLOL RT @esqcapades #WhatsRomneyHiding The secret code that would let Obama be clear.\\nhow come Justin Bieber has more followers than Barack Obama\\nRT @BelleInABow: Obama doesn\\'t need to be your favorite person, but he\\'s still the President of the United States of America. That always deserves respect.\\n#WhatsRomneyHiding - his long-form birth certificate for 2 1/2 years... Oh wait, that little game was played by Obama, not Romney...\\n@edshow It\\'s great. Obama is looking out for women.\\nPenn is changing the conversation from his film career to his involvement with the Obama administration.\\nIn Obama\\'s Budget, Interest Payments on the Debt Will Exceed Defense in 2019. http://t.co/ta0Gs2Su #twcot #tlot #tcot\\nRT @Talkmaster: Oh now I get it. Obama was talking in shorthand and we were just too dumb to understand how smart he really is.  Gagme.\\nRT @SayfieReview: Herald: \"Jewbags\" flap exposes rift in Barack Obama-Debbie Wasserman Schultz World http://t.co/7jswRZAQ #sayfie\\nhttp://t.co/nl8vX5Of\\n#WhatsRomneyHiding - we all know Romney can\\'t Eff with President Obama!\\nI hope @PitchyPete uses this list to assign seats at his future dinner party. I want to talk fave TMNT w/ Obama & Oprah http://t.co/RoLLLTt2\\n@ATeagirl The Obama propaganda department came out with that hashtag regarding Romney\\'s tax records.\\nRT @thinkprogress: Romney, who has two Harvard degrees, blasts Obama for spending \"too much time at Harvard.\" http://t.co/avbgNT57 #icymi\\nObey: Obama still not satisfied with the lapdog press (@times247) http://t.co/qSQXWxnl Now he\\'s \\'ordering\\' what the press should report!\\nObama has called the GOP budget social Darwinism. Nice try, but they believe in social creationism.\\nIn his teen years, Obama has been known to use marijuana and cocaine.\\nRT @Talkmaster: Oh now I get it. Obama was talking in shorthand and we were just too dumb to understand how smart he really is.  Gagme.\\n#WhatsRomneyHiding Obama\\'s birth cert,smh dis guy ix really funny,lol\\nGOP senator accuses Obama of threatening the Supreme Court - The Hill\\'s Blog Briefing Room http://t.co/gVSs6ulN\\n#WhatsRomneyHiding Obama\\'s college transcripts?\\nRT @paulrevered1776: RT @Professor_Why: #WhatsRomneyHiding - the fact that he was very close to a domestic terrorist- Oh wait, that\\'s Obama\\nIs Despot better? @workinmama @RednaxalA Calling Obama a despot gives him more respectability than his sort is due; a thug. #obama2012 #gop\\n#Google #Hot #News Comments by Obama set off imbroglio http://t.co/mbVzVzKt #InstantFollowBack YBNews\\nRT @anna12061: Another Obama Buddy!\\rhttp://t.co/B2WIWFrV\\r\\rNapolitano Caught Hiring Muslim Brotherhood Terrorist, Giving Him Top-Secret Security Clearance\\n@JeffersonObama it would look like the president is doing good. Goes against their narrative \"everything sucks Obama fault No one likes him\"\\nIs Obama \\'Dangerously Close To Totalitarianism\\'?\\n http://t.co/KeC3MhTg\\nFINALLY - A former Obama law student speaks out -- and he can\\'t believe the crap spewing from O\\'s mouth, either: http://t.co/GLopiyOC\\nReforming an Obama supporter is like trying to pick up poop by its clean end\\nLOOOOOOOOOOOOOOOOOOOOOOOOOOOOL This is why i rate obama http://t.co/vsOYFhSa\\nRT @larryeldershow: Spike Lee said he dislikes black-white couples, gives them \"visual daggers\". Yo, Spike, if you got your way, Obama wouldn\\'t exist.\\n[121] In March 2009, Obama reversed a Bush-era policy which had limited funding of embryonic stem cell research\\nRT @DrewMTips: #WhatsRomneyHiding His association with convicted felon Tony Rezko and domestic terrorist Bill Ayers. Wait, that\\'s Obama.\\nI just signed a petition asking Pres. Obama to fulfill the promise of National Alzheimer\\'s Project Act at: http://t.co/WEbFZPlb\\nI heard there is a gay porn titled \"Obama Been Slobbin\" ....now think about who Obama killed in Pakistan..yeah crazy\\nSanctioning Iran to Influence Israel\\nIf President Obama is concerned that his efforts at \"diplomacy\" with Iran... http://t.co/nrVeFQPQ\\n#WhatsRomneyHiding The secret code that would let Obama be clear.\\nHow do you spell FAILURE - \"OBAMA\"\\n#tcot #sgp #teaparty\\n@WAMK I was implying that you think Obama is not as smart as the Supreme Court. Apologies for the misunderstanding.\\n#WhatsRomneyHiding His demand that Israel retreat to indefensible borders from which she can be destroyed. No, wait. That\\'s Obama.\\n@Mar_Pizzle miles away from u.lol.. obama town\\nRT @terresamonroe: Obama Is Making the Case For His Own Impeachment http://t.co/hbWWnakJ\\nRT @ArkansasBoys: #IWantToPunchPeopleWho voted for Obama #arkansasboyproblems\\nAs Obama\\'s policies have turned women into 3rd class citizens, he is working on bringing down the whole economy. #edshow\\n#WhatsObamaHiding RT @conkc2: #WhatsRomneyHiding A cheeseburger from Michelle. &lt;-----That\\'s Obama again. He keeps it in his coat pocket.\\n@iChicagoScott hahaha left of Obama. That\\'s great\\nDespite rising gas prices, energy policy experts Charles Ebinger & Susan Tierney say you can\\'t blame Obama on #TheTavisSmileyShow this week.\\nquisiera ser la hija de Obama. ah porque (?)\\nRT @RT_America Obama\\'s pretzel logic http://t.co/Shv83Z0F @PeterSchiff #Obama campaign\\nFEAR IS THE MINDKILLER. OH NO ITS OBAMA..MUMMMYYYYYYYYYY!!!!!!!!! http://t.co/p2vrYRFz\\nObama\\'s Signing Of JOBS Act Likely Won\\'t Dim GOP C...:  President Obama\\'s signing of the JOBS Act gives him one ... http://t.co/pWArEGsR\\n@Gabby_Hoffman Community Organizers in one zip code in Chicago could do better than Obama.\\nRT @CBSSports: Obama, Romney say admit women to Augusta golf club - http://t.co/OtHTaRDK\\n#WhatsRomneyHiding The fact that he can beat Obama!\\nRT @markknoller: Obama Campaign says Romney should make public 23 years of tax returns so Americans can assess any conflicts of interest.\\n@edshow I\\'M A WOMAN NOT A CATERPILLAR.  OBAMA IN 2012 #ED SHOW\\nAmid Trayvon Martin case, Obama hosts screening of \\'To Kill a Mockingbird\\' - http://t.co/vvaTNwON http://t.co/MzerPkAh\\nTop Secret Obama 2012 World War 3 Illuminati Antichrist Conspiracy!: http://t.co/iqg1xarL via @youtube\\nObama Respects the Supreme Court Says Eric Holder, Violence in Syria Continues in Anticipation of... http://t.co/4PEbWUGs #libertario #tlot\\n#WhatsRomneyHiding? That he has a lot of money. OH WAIT ANYONE WITH A BRAIN ALREADY KNEW THAT. Dumbest hashtag ever. Obama has money too FYI\\n#WhatsRomneyHiding ?  less than how much Obama\\'s hiding from the public.  That\\'s what.\\nObama Respects the Supreme Court Says Eric Holder, Violence in Syria Continues in Anticipation of... http://t.co/TUqvEApu #libertario #tlot\\nRT @edshow: Women at Augusta? Obama says absolutely. Romney hedges. Comment on FB or tweet so we can share on #edshow!\\nObama Respects the Supreme Court Says Eric Holder, Violence in Syria Continues in Anticipation of... http://t.co/5QBOVrBw #libertario #tlot\\nRT @Professor_Why: #WhatsRomneyHiding - his lack of knowledge regarding Constitutional Checks & Balances... Oh wait, that\\'s our Constitutional \"scholar\" Obama!\\nObama Respects the Supreme Court Says Eric Holder, Violence in Syria Continues in Anticipation of... http://t.co/Duemei61 #libertario #tlot\\nObama Respects the Supreme Court Says Eric Holder, Violence in Syria Continues in Anticipation of... http://t.co/S4UHjSVS #libertario #tlot\\nObama Respects the Supreme Court Says Eric Holder, Violence in Syria Continues in Anticipation of... http://t.co/DHvGqb1Z #libertario #tlot\\nObama Respects the Supreme Court Says Eric Holder, Violence in Syria Continues in Anticipation of... http://t.co/8Mp8Bg3y #libertario #tlot\\nRT @thinkprogress: Romney, who has two Harvard degrees, blasts Obama for spending \"too much time at Harvard.\" http://t.co/avbgNT57\\nMiddle-class professionals only losers in Coalition government\\'s tax changes - Telegrap http://t.co/ONvpI8jR you in USA HOLD OBAMA ON YR  SH\\nObama Respects the Supreme Court Says Eric Holder, Violence in Syria Continues in Anticipation of... http://t.co/QJYdOvLj #libertario #tlot\\nRT @stonerjesus420: Six National Drug Policy Organizations Send Letter Asking Obama To End MMJ Crackdown: http://t.co/fFZKYkLF\\nRT @poorconservativ: Obama Is Trying To Bully The Supreme Court With His Warning About Health Care Law  http://t.co/aKzIOEDM\\n@obama start tweeting dang\\nHolder answers judge, defending both judiciary and Obama health care remarks http://t.co/EAS8WNVU\\n@Androushka The liberals have seen to it that parents can have no choice in schools and may not send their children to schools like Obama\\'s\\nRT @Ausflatfish #Obama Administration indicts 6th #whistleblower under the #Espionage Act http://t.co/xYdHGtKJ #media #journalism\\n73% of Democrats said Bush could lower gas prices, but now only 33% think #Obama can. Graph: http://t.co/d2X461u2 @yaliberty\\nI bet Obama didn\\'t think about calculus when he promised change. Yeah, we will bring change, but will we calculate the change? Damn home ...\\n@John_37058 How long do you think it will take Obama to write an executive order giving him the right to use it on us?\\nRT @ohgirlphrase: American kid \"You\\'re from the UK? Ohhh cool, So do you have tea with the Queen?\". British kid: \"Do you like, go to Mcdonalds with Obama?\\nIs Obama a dumb nigger, or what?!?!  Holder Says Court Power To Review Laws \\'beyond Dispute\\' | Fox News http://t.co/yhJ55xhM via @addthis\\nYou niggas are fake that\\'s word to Obama - Lil B\\nRT @GranholmTWR: Tonight @MikeAllen gives us the inside scoop on the election. Also, Obama\\'s fmr. advisor Austan Goolsbee will talk jobs & the economy.\\nThe hundreds of millions of dollars in taxes Obama donor Warren Buffett owes to the federal government. #WhatsRomneyHiding\\nOKAY. HOW ON THE EARTH DID BARACK OBAMA PUT THAT BLENDER ON HIS TWITTER? I WANT TOO.\\nRT @ForAmerica: Obama claims #ObamaCare was passed with a \"strong majority.\" How does he keep a straight face and say that? #tcot #VAsen #MOsen #FLsen\\nRT @MrMcMillin: hahahahahaha  http://t.co/LW1S5Iea #Obama #Clinton\\n@BrianBrownNet: Commentary: Barack Obama Mining Trayvon\\'s Grave -  Poor Trayvon Martin, dying... http://t.co/gk6vL04x\\n #mainstreammedia\\nObama hosts screening of \\'To Kill a Mockingbird\\' http://t.co/ylSMZBNx\\nRT @handrewschwartz: Ignatius reports Obama signaled Iran US wld accept civ nuke pgm if Khameni can assure Iran will never get nuke weapons http://t.co/KkaAhGPq\\nRT @edshow: Women at Augusta? Obama says absolutely. Romney hedges. Comment on FB or tweet so we can share on #edshow!\\n@liberalminds Its trending idiot.. Did you look at the tweets? LOL they are all making fun of Obama for his stupid Hashtag\\nRT @AstoldByBass: #KimKardashiansNextBoyfriend Barack Obama\\nRT @GatorNation41: gas was $1.92 when Obama took office...I guess he did promise he would change things http://t.co/TlfMmi0G\\n@xShwag haha i know im just so smart, i mean you gotta listen to obama cuz its obama. and lol i got my belly button pierced.\\n#OBAMA:  DICTATOR IN TRAINING.  If he passes this training course in November this country is freaking SCREWED!\\nRT @SoCalConservtiv: His failed budget proposal that was voted down 414-0 in Congress... Oh wait that\\'s Professor Obama #WhatsRomneyHiding #tcot'"
      ]
     },
     "execution_count": 57,
     "metadata": {},
     "output_type": "execute_result"
    }
   ],
   "source": [
    "tweets = open(\"obama_tweets.txt\").read()\n",
    "tweets"
   ]
  },
  {
   "cell_type": "markdown",
   "metadata": {},
   "source": [
    "## How can we get a handle on all this text?"
   ]
  },
  {
   "cell_type": "markdown",
   "metadata": {},
   "source": [
    "### String methods"
   ]
  },
  {
   "cell_type": "code",
   "execution_count": 58,
   "metadata": {
    "collapsed": false
   },
   "outputs": [
    {
     "data": {
      "text/plain": [
       "['Obama has called the GOP budget social Darwinism. Nice try, but they believe in social creationism.',\n",
       " 'In his teen years, Obama has been known to use marijuana and cocaine.',\n",
       " 'IPA Congratulates President Barack Obama for Leadership Regarding JOBS Act: WASHINGTON, Apr 05, 2012 (BUSINESS W... http://t.co/8le3DC8E',\n",
       " 'RT @Professor_Why: #WhatsRomneyHiding - his connection to supporters of Critical Race Theory.... Oh wait, that was Obama, not Romney...',\n",
       " 'RT @wardollarshome: Obama has approved more targeted assassinations than any modern US prez; READ & RT: http://t.co/bfC4gbBW',\n",
       " 'Video shows federal officials joking about cost of lavish conference http://t.co/2i4SmoPM #obama #crime #p2 #news #tcot #teaparty',\n",
       " 'one Chicago kid who says \"Obama is my man\" tells Jesse Watters that the gun violence in Chicago is like \"World War 17\"',\n",
       " 'RT @ohgirlphrase: American kid \"You\\'re from the UK? Ohhh cool, So do you have tea with the Queen?\". British kid: \"Do you like, go to Mcdonalds with Obama?',\n",
       " \"A valid explanation for why Obama won't let women on the golf course.   #WhatsRomneyHiding\",\n",
       " 'President Obama &lt; Lindsay Lohan RUMORS beginning cross shape lights on ST &lt; 1987 Analyst64 DC bicycle courier &lt; Video changes to scramble.',\n",
       " \"Obama's Gender Advantage Extends to the States - 2012 Decoded: New detail on recent swing state polling further ... http://t.co/8iSanDGS\",\n",
       " \"#WhatsRomneyHiding? Obama's dignity and sense of humor? #p2 #tcot\",\n",
       " \"Here's How Obama and the Democrats Will Win in 2012: Let's start by going back to the assorted polls questioning... http://t.co/zpg0TVm3\",\n",
       " \"RealClearPolitics - Obama's Organizational Advantage on Full ...: As a small but electorally significant state t... http://t.co/3Ax22aBB\",\n",
       " 'RT @GregWHoward: Obama inherited (if you want to use his lame wording) $10.6 trillion in debt and turned it into $15.2 trillion. #tcot #p2 #ocra #teaparty',\n",
       " 'RT @ohgirlphrase: American kid \"You\\'re from the UK? Ohhh cool, So do you have tea with the Queen?\". British kid: \"Do you like, go to Mcdonalds with Obama?',\n",
       " 'of course..I blame HAARP, sinners, aliens, Bush and Obama for all this.  :P....&gt;&gt; http://t.co/7eq8nebt',\n",
       " 'Pravda Endorses and Supports Obama   http://t.co/G68JEmkz',\n",
       " \"RT @mlake9: Love how the #Obama campaign's #WhatsRomneyHiding back fired, now #WhatsObamaHiding is trending. Seeing a lot of birth certificate tweets.\",\n",
       " \"@katie_larson It was Obama's hashtag--conservatives turned it into a game (again) :) It's funny ;)\",\n",
       " 'RT @FrankConniff: Harvard graduate Romney slammed Obama for going to Harvard. Good to know that Mitt Romney hates people like Mitt Romney.',\n",
       " \"RT @wilycyotee Pres. Obama's ongoing support of women is another reason I am so proud he is my President!  @edshow #Obama2012\",\n",
       " 'RT @ohgirlphrase: American kid \"You\\'re from the UK? Ohhh cool, So do you have tea with the Queen?\". British kid: \"Do you like, go to Mcdonalds with Obama?',\n",
       " \"RT @mlake9: Love how the #Obama campaign's #WhatsRomneyHiding back fired, now #WhatsObamaHiding is trending. Seeing a lot of birth certificate tweets.\",\n",
       " 'RT @RandallHoven: Nixon was missing 18 minutes. Obama is missing 18 years.',\n",
       " \"#WhatsRomneyHiding Obama's birth certificate.\",\n",
       " '@edshow the direspect of President #Obama is based on racism. They do not want a Black PRESIDENT. #edshow',\n",
       " \"RT @Professor_Why: #WhatsRomneyHiding - his plan to push bad loans through for Green energy just to see 'em go bankrupt... Oops, that's Obama again!\",\n",
       " 'Thanks for the shout out in this recap of #JOBSAct signing! http://t.co/njCfZuSd via @MiamiHerald',\n",
       " 'RT @haymakers: When RWers whine \"What\\'s Obama doing about gas prices!?\" Tell them, \"Nothing. That\\'s how the free-market works. What are you? A socialist?\"',\n",
       " \"RT @0ryuge: #WhatsRomneyHiding The videotape of Barack Obama sucking up to radical Rashid Khalidi. Oh wait, that's the LATimes #VetThePress #VetThePres\",\n",
       " '#edshow  My President is standing up,speaking up,fighting back and I am so glad he has taken the gloves off. OBAMA 2012 @edshow',\n",
       " 'If Obama win 2012 Election wait til 2016 he will have full white hair! just like Bill clinton!',\n",
       " 'RT @Un_Progressive: .@ResistTyranny @freegalt Easy. Obama is hiding everything. Always has.',\n",
       " \"RT @EMcLean1982: #WhatsRomneyHiding Obama's Mom Jeans\",\n",
       " \"Even CBS won't buy bogus WH explanation of Obama Supreme Court comments - at http://t.co/rkNdEmIy #withnewt #tpn #tcot #tlot #tpp #sgp\",\n",
       " \"RT @Libertarian_76: I can't wait until Romney goes after Obama on NDAA. Oh wait.\",\n",
       " \"#KimKardashiansNextBoyFriend Obama lol Michelle ain't goin 4 dat\",\n",
       " 'Obama And The Democrats Shocked By Constitutional Restraint http://t.co/RhSzoEU7 via @IBDinvestors',\n",
       " 'Obama, Romney agree: Admit women to Augusta golf club: US President Barack Obama believes women should be allowe... http://t.co/PVKrepqI',\n",
       " 'RT @ohgirlphrase: American kid \"You\\'re from the UK? Ohhh cool, So do you have tea with the Queen?\". British kid: \"Do you like, go to Mcdonalds with Obama?',\n",
       " '#whatsObamahiding Kryptonite for the Grand Old Party! Obama 2012',\n",
       " \"RT @BunkerBlast: RT @teacherspets Obama's Budget: 'Interest Payments Will Exceed Defense Budget' in 2019  http://t.co/uddCXCjt\",\n",
       " '@edshow The Right has been crying about unelected judges legislation from  bench forever all of a sudden Obama says same thing he is a Thug',\n",
       " 'RT @Kerryepp: #WhatsRomneyHiding that he can throw a baseball like a man and not like a girl like Obama...',\n",
       " 'RT @Justgod007: RT @NBCNews: President Obama signs law to prohibit insider trading by members of Congress: http://t.co/sCw6mZVz',\n",
       " '@JoeSixpackSays Our Troops NEED TO COME HOME !!!! BRING OUR TROOPS HOME NOW OBAMA YOU BASTARD OOOORAH SEMPER FI',\n",
       " '@BarackObama like what are you hiding, Obama?!? You are TOO MUCH!! @MittRomney',\n",
       " '@edshow If Obama is a \"thug\" and a \"bully\" then I\\'m not sure what to call Rush Limbaugh and Bill O.',\n",
       " 'RT @ohgirlphrase: American kid \"You\\'re from the UK? Ohhh cool, So do you have tea with the Queen?\". British kid: \"Do you like, go to Mcdonalds with Obama?',\n",
       " 'Barack Obama The Pictures Generation, 1974-1984 (Metropolitan Museum of Art): This handsome book is the first co... http://t.co/TGgLdkOo',\n",
       " 'Barack Obama The Triumph of Caesar: A Novel of Ancient Rome [With Earbuds] (Playaway Adult Fiction): The Roman c... http://t.co/EbEYonbx',\n",
       " \"Barack Obama President Ronald Reagan's Initial Actions Project: President Ronald Reagan was also facing an econo... http://t.co/8Go8oCpf\",\n",
       " 'RT @TXGaryM: Yes #WHFail RT @jltho: This #WhatsRomneyHiding hashtag is entertaining. Is this another social media backfire from the Obama administration?',\n",
       " 'Barack Obama LONGBOARD Package CORE 7\" TRUCKS 76mm BIGFOOT WHEELS: The newest addition to the Bigfoot Collection... http://t.co/cnHRuUBZ',\n",
       " 'Barack Obama Mir laechelt kein Fruhling, WoO 25 Sheet Music: Digital Sheet Music of Mir laechelt kein Fruhling, ... http://t.co/cuHdVHYv',\n",
       " 'Obama has a billion dollar war chest for his reelection.  When were through with vetting him it might as well be Monopoly $ #Resist44',\n",
       " 'RT @Talkmaster: Oh now I get it. Obama was talking in shorthand and we were just too dumb to understand how smart he really is.  Gagme.',\n",
       " '#KimKardashiansNextBoyFriend Obama',\n",
       " 'These Trending Topics on #Obama and #Romney signal the start of the presidential campaign. Officially paying attention.',\n",
       " \"RT @HeidiForLiberty: RT @Libertarian_76: I can't wait until Romney goes after Obama on NDAA. Oh wait\",\n",
       " 'RT @1Directionality: \"Harry styles described Michelle Obama as a very attractive older woman\" OBAMA HIDE YOUR WIFE, STYLES IS COMING!\"',\n",
       " 'Attorney Mario Apuzzo Files Ballot Access Challenge Against Obama Today in New Jersey http://t.co/06rD6lCL',\n",
       " 'RT @LiberalMel: REPUBLICANS WANT TO TAKE AWAY FREE HEALTHCARE AND SEND PUT PEOPLE IN JAIL FOR FIGHTING. REPUBLICANS ARE AHOLES!!! #DEM #OBAMA #OBAMA2012',\n",
       " 'RT @Tortured_Verse: Romney has TWO Harvard degrees and he says Obama spent \"too much time at Harvard?\"  http://t.co/J4bep9Q0 #p2 #tcot #wiunion #ocra #TWISTERS',\n",
       " 'RT @jennykassan: President Obama: for the first time ordinary Americans will be able to invest in companies they believe in #crowdfunding',\n",
       " '@kellieo79 save it for michelle Obama.',\n",
       " 'RT @TrentOn_YouOff: Why Barack Obama trying to start stuff with our future President? Have some respect for Mitt Romney.',\n",
       " 'RT @ohgirlphrase: American kid \"You\\'re from the UK? Ohhh cool, So do you have tea with the Queen?\". British kid: \"Do you like, go to Mcdonalds with Obama?',\n",
       " \"#edshow Obama is passionate about healthcare - that doesn't make him a bully.\",\n",
       " \"Obama is a great president. He's honest, loyal, friends, smart, and wants the BEST for EVERYONE in this country, not just the rich.\",\n",
       " \"FSU Cultural Post: Re: Newt or Mitt VS Obama. Can either of 'em beat him?: What parts do you find distu... http://t.co/ie4ClOp9 , at RWD\",\n",
       " '#newbedon 4/6/2012 4:27:33 AM Obama Wins Landslide Presidential Election...With Online Gamers http://t.co/L5xqNFfD',\n",
       " 'American kid \"You\\'re from the UK? Ohhh cool, So do you have tea with the Queen?\". British kid: \"Do you like, go to Mcdonalds with Obama?',\n",
       " 'RT @WhatTheFFacts: In his teen years, Obama has been known to use marijuana and cocaine.',\n",
       " 'The only incompetent candidate for 2012 is Obama .  Vote NoObama in 2012',\n",
       " 'RT @ohgirlphrase: American kid \"You\\'re from the UK? Ohhh cool, So do you have tea with the Queen?\". British kid: \"Do you like, go to Mcdonalds with Obama?',\n",
       " 'RT @ohgirlphrase: American kid \"You\\'re from the UK? Ohhh cool, So do you have tea with the Queen?\". British kid: \"Do you like, go to Mcdonalds with Obama?',\n",
       " '@billmaher Mr Maher I just seen the HBO documentary hot coffee.I feel so upset, we need four more years of President Obama 1000% certtain!',\n",
       " \"RT @RealNichelle: I love that even most that don't agree with Pres Obama's politics could appreciate that he's a Trekker. That's what IDIC is all about.\",\n",
       " \"RT @djtechchicago: Apparently, he's hiding Barack Obama's copy of the Constitution. #WhatsRomneyHiding\",\n",
       " 'RT @ohgirlphrase: American kid \"You\\'re from the UK? Ohhh cool, So do you have tea with the Queen?\". British kid: \"Do you like, go to Mcdonalds with Obama?',\n",
       " 'Media Matters & Obama WH In Secret Meetings 2 Create Enemies List http://t.co/UlXo9kp3 #GOP #TCOT #TPP #Patriots #Teaparty #twisters #p2 #RS',\n",
       " \"Is #Syria Obama's trump card, or will civil nukes offer result in more futile sanctions on #Iran? http://t.co/7W5qni2S\",\n",
       " 'RT @markknoller: Obama Campaign says Romney should make public 23 years of tax returns so Americans can assess any conflicts of interest.',\n",
       " 'Obama says 2012 will be a \"fun debate\": President Barack Obama says the 2012 election will be a \"fun debate\" ove... http://t.co/OGi7SdUq',\n",
       " \"RT @ChicoDelainky: Mitt Romney attacked President Obama for going to Harvard, yet, Romney spent 4 years at Harvard. What's wrong with this man?!\",\n",
       " 'RT @ohgirlphrase: American kid \"You\\'re from the UK? Ohhh cool, So do you have tea with the Queen?\". British kid: \"Do you like, go to Mcdonalds with Obama?',\n",
       " 'RT @Fake_Dispatch: I think we are all in agreement that Rick Santorum could beat Obama... at bowling.',\n",
       " 'RT @ohgirlphrase: American kid \"You\\'re from the UK? Ohhh cool, So do you have tea with the Queen?\". British kid: \"Do you like, go to Mcdonalds with Obama?',\n",
       " 'Obama has called the GOP budget social Darwinism. Nice try, but they believe in social creationism.',\n",
       " 'In his teen years, Obama has been known to use marijuana and cocaine.',\n",
       " 'RT @edshow: Righties call Pres. Obama a \"thug\" and \"bully\" for comments on health care law hearings. Comment on FB or tweet so we can share on #edshow!',\n",
       " 'RT @markknoller: AT a campaign fundraiser tonight, Pres. Obama again denounced Mitt Romney by name for his support of the House-passed GOP Budget.',\n",
       " 'RT @RobertoManzana: Obama Is Like The Worst President Ever ,',\n",
       " \"RT @JennyErikson: Obama's college transcripts. #WhatsRomneyHiding\",\n",
       " 'RT @ohgirlphrase: American kid \"You\\'re from the UK? Ohhh cool, So do you have tea with the Queen?\". British kid: \"Do you like, go to Mcdonalds with Obama?',\n",
       " 'RT @ohgirlphrase: American kid \"You\\'re from the UK? Ohhh cool, So do you have tea with the Queen?\". British kid: \"Do you like, go to Mcdonalds with Obama?',\n",
       " \"vote for President Barack Obama and let's keep moving forward.@BarackObama\",\n",
       " 'Obama has approved more targeted assassinations than any modern US prez; READ & RT: http://t.co/bfC4gbBW',\n",
       " \"RT @GottaLaff: RT @markknoller: Pres Obama says it'll be a big debate and a fun debate because - he says - he has the truth on his side.\",\n",
       " 'RT @ohgirlphrase: American kid \"You\\'re from the UK? Ohhh cool, So do you have tea with the Queen?\". British kid: \"Do you like, go to Mcdonalds with Obama?',\n",
       " 'RT @DrewMcKissick: Dapper Dan, and a comb.  And a thick oppo research file on Obama. #WhatsRomneyHiding',\n",
       " '@sgaut the Architects of the housing debacle were Schumer, Fwank, Dodd and Obama who forced banks to loan trillions to the poor. #edshow',\n",
       " 'RT @ohgirlphrase: American kid \"You\\'re from the UK? Ohhh cool, So do you have tea with the Queen?\". British kid: \"Do you like, go to Mcdonalds with Obama?',\n",
       " \"HE DIDN'T MEAN WHAT HE SAID! Obama's Constitutional law professor spins for him b/c he's a mind reader http://t.co/GTmqufBo #tcot #tlot\",\n",
       " 'RT @ohgirlphrase: American kid \"You\\'re from the UK? Ohhh cool, So do you have tea with the Queen?\". British kid: \"Do you like, go to Mcdonalds with Obama?',\n",
       " '@gretawire @WhineNot This is the most transparent Obama has been since he was caught on an open mike with the Russian president.',\n",
       " 'RT @ohgirlphrase: American kid \"You\\'re from the UK? Ohhh cool, So do you have tea with the Queen?\". British kid: \"Do you like, go to Mcdonalds with Obama?',\n",
       " 'RT @JeffersonObama: Arianna Huffington blasting President Obama at any chance and praising GOP. This pic explains things. http://t.co/Ov6I5CoS',\n",
       " 'Obama signs bill to boost business startups http://t.co/zq6zC4ZO',\n",
       " \"RT @wcptersn: If Obama were white, he'd be Mitt Romney.\",\n",
       " \"RT @HarryFacts1D: ''Harry Styles describe a Michelle Obama como una mujer muy atractiva.'' OBAMA ESCONDE A TU ESPOSA Y A TUS HIJOS, STYLES VIENE EN CAMINO.\",\n",
       " '@Fake_Dispatch no way, obama would school his ass! santorum has weak arms! lmao',\n",
       " 'Impossible! RT @Fake_Dispatch: I think we are all in agreement that Rick Santorum could beat Obama... at bowling.',\n",
       " \"'Back Off' : McConnell Warns Obama Crossed 'Dangerous line'--Times  247 http://t.co/dFTjxuKB\",\n",
       " \"I can't wait until Romney goes after Obama on NDAA. Oh wait.\",\n",
       " 'RT @GottaLaff: RT @markknoller: Pres Obama sayd \"I cannot wait\" for the \"big important debate\" we are going to have on these issues.',\n",
       " 'RT @ohgirlphrase: American kid \"You\\'re from the UK? Ohhh cool, So do you have tea with the Queen?\". British kid: \"Do you like, go to Mcdonalds with Obama?',\n",
       " '@AC360  President Obama is a Constitutional Law scholar - give him credit and the respect that he deserves.  @JaySekulow is annoying.',\n",
       " 'RT @MusicandFaith: Judicial Watch: $500,000 of Your Money to Send Michelle to Africa http://t.co/DmMaGbBz via @Po_st',\n",
       " 'RT @PeteXU: Obama wants Romney to release his tax return that will show an effective tax rate of under 15% and how little US citizens understand taxes.',\n",
       " 'RT @JeffersonObama: 62% of U.S. Jews would reelect Obama, 4% say Israel is most important issue - Haaretz http://t.co/VhURDtdO http://t.co/gIGmn5kE',\n",
       " 'RT @debv219: #edshow Whenever Obama tells the truth about the Gop, they boo hoo hoo and call him a bully.',\n",
       " \"#Obama is trying to strong arm Sheriff Joe to force him to drop investigation into Obama's fake birth certificate. #GOP #tcot #teaparty\",\n",
       " 'RT @Fake_Dispatch: I think we are all in agreement that Rick Santorum could beat Obama... at bowling.',\n",
       " '@WhiteHouse @BarackObama Shell sued over massive oil spills in Nigeria. President Obama: #SaveTheArctic from Shell! http://t.co/WI0ajzJX',\n",
       " 'RT @ohgirlphrase: American kid \"You\\'re from the UK? Ohhh cool, So do you have tea with the Queen?\". British kid: \"Do you like, go to Mcdonalds with Obama?',\n",
       " 'A \"legislator\" who\\'d never passed legislation. A \"law professor\" who\\'d never published a law review article ... Is Obama fictional? #hhrs',\n",
       " 'Obama and Cantor are all smiles as JOBS Act is signed into law http://t.co/5ac6zmY0 via @zite',\n",
       " '@EileenLeft @Wary12 This is from @DavidShuster IMPORTANT MSM helpRomney get away with his lies.We must warn ind voters  http://t.co/Au49TLVs',\n",
       " 'RT @ohgirlphrase: American kid \"You\\'re from the UK? Ohhh cool, So do you have tea with the Queen?\". British kid: \"Do you like, go to Mcdonalds with Obama?',\n",
       " 'If Obama is a \"law professor,\" I am a Navy SEAL.  What a farce!  A Harvard law grad doesn\\'t know Marbury v. Madison?  He\\'s an ignorant twit.',\n",
       " 'Obama says 2012 will be a \"fun debate\": President Barack Obama says the 2012 election will be a \"fun debate\" ove... http://t.co/RpPh3u0V',\n",
       " \"Oh well 4 more years under Obama if that's good or bad idk. But I don't think americans are stupid enough to vote for Romney.\",\n",
       " \"RT @markknoller: Pres Obama says it'll be a big debate and a fun debate because - he says - he has the truth on his side.\",\n",
       " 'Talking about gas. Asked who is to blame. Tell him I can\\'t narrow it to a single person. \"First guy all week that didnt blame Obama!\"',\n",
       " 'RT @ohgirlphrase: American kid \"You\\'re from the UK? Ohhh cool, So do you have tea with the Queen?\". British kid: \"Do you like, go to Mcdonalds with Obama?',\n",
       " 'Obama believes women should be admitted to Augusta http://t.co/ltBrqsgc via @edshow',\n",
       " \"So let me get this right the supreme court is going over Obama's Healthcare reviewing and deciding whether or not to challenge it.\",\n",
       " 'RT @JeffersonObama: Arianna Huffington blasting President Obama at any chance and praising GOP. This pic explains things. http://t.co/Ov6I5CoS',\n",
       " \"Holder to 5th Circuit. Obama didn't say what he said. Read letter at http://t.co/rkNdEmIy #tcot #tlot #withnewt #prolife #sgp #lnyhbt #tpp\",\n",
       " 'RT @thinkprogress: Romney, who has two Harvard degrees, blasts Obama for spending \"too much time at Harvard.\" http://t.co/avbgNT57 #icymi',\n",
       " 'RT @ohgirlphrase: American kid \"You\\'re from the UK? Ohhh cool, So do you have tea with the Queen?\". British kid: \"Do you like, go to Mcdonalds with Obama?',\n",
       " 'RT @HuffPostPol: Jim DeMint calls President Obama a \"bully\" http://t.co/2kXhMwKY',\n",
       " \"RT @Fer_SmilerJB: En el backstage de los KCA's, Harry le pregunto a Michelle Obama como hacia para ordenar pizza desde la Casa Blanca.\",\n",
       " 'RT@pslweb Endorsement Of Democrats: A Misuse Of Union Time And Money http://t.co/l3QGcWds #union #ilwu #seiu #aflcio #demproxy #union #alba',\n",
       " \"Obama's Signing Of JOBS Act Likely Won't Dim #GOP Charge He's Anti-Jobs http://t.co/4INNVGfC You think? #FoxNews #TeaParty #tcot #p2\",\n",
       " 'Obama talking about women being able to golf, while @MittRomney  cares about women making ends meet and putting food on the table!',\n",
       " 'RT @ohgirlphrase: American kid \"You\\'re from the UK? Ohhh cool, So do you have tea with the Queen?\". British kid: \"Do you like, go to Mcdonalds with Obama?',\n",
       " 'RT @ohgirlphrase: American kid \"You\\'re from the UK? Ohhh cool, So do you have tea with the Queen?\". British kid: \"Do you like, go to Mcdonalds with Obama?',\n",
       " 'RT @JoiningForces: Photo of the Day: First Lady Michelle Obama greets a #WoundedWarrior @ Walter Reed in #Bethesda: http://t.co/IwG56RDK',\n",
       " 'RT @ohgirlphrase: American kid \"You\\'re from the UK? Ohhh cool, So do you have tea with the Queen?\". British kid: \"Do you like, go to Mcdonalds with Obama?',\n",
       " \"@YungdashK I think you come across quite up yourself to think people have to earn a follow from you. You're not Barack Obama sweet cheeks\",\n",
       " 'RT @ohgirlphrase: American kid \"You\\'re from the UK? Ohhh cool, So do you have tea with the Queen?\". British kid: \"Do you like, go to Mcdonalds with Obama?',\n",
       " \"Breaking News: Million Men March to #Jerusalem was conceived and orchestrated by #Obama's #Globalist controllers -- http://t.co/R80dwTeD\",\n",
       " 'RT @ohgirlphrase: American kid \"You\\'re from the UK? Ohhh cool, So do you have tea with the Queen?\". British kid: \"Do you like, go to Mcdonalds with Obama?',\n",
       " \"#Obama 12' win &gt; Debt increased by 87 percent & will top $20 trillion in 2016\",\n",
       " 'http://t.co/3COJeZ2F  STOP IT!!!',\n",
       " 'RT @markknoller: AT a campaign fundraiser tonight, Pres. Obama again denounced Mitt Romney by name for his support of the House-passed GOP Budget.',\n",
       " \"RT @dqnickle: I wonder who'd win in a footrace, Barack Obama or Mitt Romney...stereotypes tell me Bam...but those things aren't very reliable are they\",\n",
       " 'RIGHT SPEAK: LET US NOT FORGET THAT PETTY SANTORUM ENDORSES OBAMA OVER ROMNEY! NOT PRESIDENTIAL! http://t.co/ZqAuGKOd #elections2012 #gop',\n",
       " 'Obama inherited (if you want to use his lame wording) $10.6 trillion in debt and turned it into $15.2 trillion. #tcot #p2 #ocra #teaparty',\n",
       " 'RT @thinkprogress: Romney, who has two Harvard degrees, blasts Obama for spending \"too much time at Harvard.\" http://t.co/avbgNT57 #icymi',\n",
       " 'RT @ohgirlphrase: American kid \"You\\'re from the UK? Ohhh cool, So do you have tea with the Queen?\". British kid: \"Do you like, go to Mcdonalds with Obama?',\n",
       " 'Obamacare passed by 7 votes. For #Obama this is a \"strong majority\". LOL!  http://t.co/tX5Rx9tC #tcot #dem',\n",
       " 'RT @BuckSexton: interesting to see how Obama and co. game housing market to avoid final correction b4 election. millions of homes glutting market = GOP win',\n",
       " 'RT @ohgirlphrase: American kid \"You\\'re from the UK? Ohhh cool, So do you have tea with the Queen?\". British kid: \"Do you like, go to Mcdonalds with Obama?',\n",
       " 'RT @Talkmaster: Oh now I get it. Obama was talking in shorthand and we were just too dumb to understand how smart he really is.  Gagme.',\n",
       " '@WilliamShatner  I just seen the HBO documentary hot coffee.I feel so upset, we need four more years of President Obama 1000% certtain!!!',\n",
       " '@IamDonCheadle In your view,do you believe Obama has been an economic disaster?',\n",
       " \"Obama 's hair whole gray!\",\n",
       " 'RT @ohgirlphrase: American kid \"You\\'re from the UK? Ohhh cool, So do you have tea with the Queen?\". British kid: \"Do you like, go to Mcdonalds with Obama?',\n",
       " '#WhatsRomneyHiding HE WONDERING.. WHATS OBAMA HIDING?????  remember the most transparent adm in history.. LMBO',\n",
       " \"Sipsey Street Irregulars: Katie Pavlich writes an audio book. #FastandFurious: Barack Obama's Bloodiest Scandal http://t.co/x5vw6vy4\",\n",
       " \"En el backstage de los KCA's, Harry le pregunto a Michelle Obama como hacia para ordenar pizza desde la Casa Blanca.\",\n",
       " 'RT @ohgirlphrase: American kid \"You\\'re from the UK? Ohhh cool, So do you have tea with the Queen?\". British kid: \"Do you like, go to Mcdonalds with Obama?',\n",
       " 'LaFollette \"we will go to newly elected president Obama and ask for our train back\"',\n",
       " 'RT @HuffPostPol: Jim DeMint calls President Obama a \"bully\" http://t.co/5xHkGMDg / Soooo out of touch.',\n",
       " 'RT @MikeLotito15: Alright President Obama needs to pass a law that prohibits anyone and everyone from tweeting about this one direction crap. It will stop now',\n",
       " 'RT @BandDirFundRais: Is this the same golf course that refused to admit blacks until Tiger Woods? #WomenOnlyCourse #obama #agusta #golf http://t.co/d2tf13n0',\n",
       " 'RT @ohgirlphrase: American kid \"You\\'re from the UK? Ohhh cool, So do you have tea with the Queen?\". British kid: \"Do you like, go to Mcdonalds with Obama?',\n",
       " '@Wozniak1: @edshow Irony is fun: Obama is much friendlier with Muslim Brotherhood than the GOP, but says only later is waging war on women.',\n",
       " 'Obama has called the GOP budget social Darwinism. Nice try, but they believe in social creationism.',\n",
       " 'In his teen years, Obama has been known to use marijuana and cocaine.',\n",
       " 'RT @Gabby_Hoffman: We want a president with a spine, not a president with fecklessness. America can do better than Obama. #resist44 #tcot RT if you agree!',\n",
       " 'RT @ohgirlphrase: American kid \"You\\'re from the UK? Ohhh cool, So do you have tea with the Queen?\". British kid: \"Do you like, go to Mcdonalds with Obama?',\n",
       " 'RT @JeffersonObama: Arianna Huffington blasting President Obama at any chance and praising GOP. This pic explains things. http://t.co/Ov6I5CoS',\n",
       " 'RT @ohgirlphrase: American kid \"You\\'re from the UK? Ohhh cool, So do you have tea with the Queen?\". British kid: \"Do you like, go to Mcdonalds with Obama?',\n",
       " 'Obama Birth Certificate http://t.co/1yZOM5d9',\n",
       " 'RT @Zulu_xo: #KimKardashiansNextBoyFriend Obama?',\n",
       " \"En el backstage de los KCA's Harry le pregunto a Michelle Obama como hacia para ordenar pizza desde la Casa Blanca #1Dfact\",\n",
       " '@edshow: Pres. Obama a \"thug\" and \"bully\" well I\\'m glad he has my back figthing for healthcare for all! #edshow!',\n",
       " 'RT @derekahunter: I like how Obama asks \"#WhatsRomneyHiding?\" My guess, Obama\\'s crappy college transcripts. #WhatsObamaSmoking? #Caring #p2 @Messina2012',\n",
       " 'RT @markknoller: Pres Obama sayd \"I cannot wait\" for the \"big important debate\" we are going to have on these issues.',\n",
       " 'NBC Accuses Federal Judge of Bringing Politics Into Courtroom By Questioning Obama | Media Research Center http://t.co/m3LFBhGY',\n",
       " 'No one thinks Obama sold out today? I do. This was a complete sell out.',\n",
       " '@BarackObama i want your real birth certificate obama,And your real college transcripts. Too bad they dont exist! barry the exchange student',\n",
       " '@2happi2bsad Why not obama?',\n",
       " 'How Saul Alinsky Taught Obama to Say One Thing and Do the Opposite http://t.co/yg8Wl99P',\n",
       " 'What Obama could learn from Muhammad Ali | Stephen M. Walt: http://t.co/T8Mfzi0i',\n",
       " \"@LongLiveShah the time that Obama decide 2 move his ass about mullahs,they'll nuke the whole world&still Obama wants 2 shake hands with them\",\n",
       " 'RT @ohgirlphrase: American kid \"You\\'re from the UK? Ohhh cool, So do you have tea with the Queen?\". British kid: \"Do you like, go to Mcdonalds with Obama?',\n",
       " 'RT @ohgirlphrase: American kid \"You\\'re from the UK? Ohhh cool, So do you have tea with the Queen?\". British kid: \"Do you like, go to Mcdonalds with Obama?',\n",
       " 'RT @JanOnAmerica: With all the truth that has been exposed about the Obama Administration, you have to wonder why any Americans in... http://t.co/1Pso0ULz',\n",
       " \"Mitt Romney's tweets all have something to do with Obama! Like really its not that serious\",\n",
       " \"Obama's Budget: 'Interest Payments Will Exceed Defense Budget' in 2019 http://t.co/dKy7CI8M\",\n",
       " '\"@edu_castillo: Obama aboga por el ingreso de las mujeres al club de golf de Augusta// mish interesante...',\n",
       " 'RT @MooseOfReason: With a range of opinion from Obama to Romney. MT @markknoller: Pres Obama says \"I cannot wait\" for \"big important debate\" on issues.',\n",
       " 'swear i just saw barack obama walking down my street...highly doubtful hahaha #INeedGlasses',\n",
       " \"RT @against_obama: Obama's illegal alien uncle's drivers license #whatsromneyhiding\",\n",
       " '@LeslieMarshall You mean savings...when SCOTUS tells the world that Obama is wrong.ACA is unconstitutional! Are you sure Obama is a lawyer?',\n",
       " 'Obama 2 versions of his ties 2 #ACORN : At 2008 debate http://t.co/2eaXDiOD - To ACORN: http://t.co/IP2xu3cW #WhatsRomneyHiding #gen44 #tcot',\n",
       " '\"@SubwayEATTFRESH: WHO HASN\\'T KIM K DATED??? OBAMA\"',\n",
       " '#WhatsRomneyHiding - his connection to supporters of Critical Race Theory.... Oh wait, that was Obama, not Romney...',\n",
       " \"@Solameanie Truly & O'Reilly's milquetoast  interview w/that Obama a$$ kisser &socialist (also a race baiter) Marc Lamont Hill was sickening\",\n",
       " 'Obama campaign wants to train army of women http://t.co/48O3o6jd',\n",
       " 'I think we are all in agreement that Rick Santorum could beat Obama... at bowling.',\n",
       " 'Oh, how fun! Another #Obama-created Hashtag #WhatsRomneyHiding Via @anthropocon',\n",
       " 'RT @lilcode45: why does everyone hate on obama?&lt; Cause he aint done shit for us.',\n",
       " '@Harry_Styles Barack obama should hide his kids and hide his wife',\n",
       " \"RT @katiehiggins_x: My favourite drawing I've ever received on draw something is Nicole's drawing of Obama. Piece of art that was.\",\n",
       " '@edshow President Obama made the federal court look ridiculous, and showed the RW who they truly are.',\n",
       " 'RT @thinkprogress: Romney, who has two Harvard degrees, blasts Obama for spending \"too much time at Harvard.\" http://t.co/avbgNT57 #icymi',\n",
       " 'Romney and Obama agree that Augusta National should allow women to be members? Unthinkable...and bad news for the green coats.',\n",
       " \"#WhatsRomneyHiding The videotape of Barack Obama sucking up to radical Rashid Khalidi. Oh wait, that's the LATimes #VetThePress #VetThePres\",\n",
       " 'Interesting take: Obama Misquotes Bible on Wealth Redistribution http://t.co/qGDbGxfg',\n",
       " \"RT @JennyErikson: Obama's college transcripts. #WhatsRomneyHiding\",\n",
       " 'Top News Headlines: Obama Signs JOBS Act http://t.co/fCuFtbWm #business #video',\n",
       " 'RT @ohgirlphrase: American kid \"You\\'re from the UK? Ohhh cool, So do you have tea with the Queen?\". British kid: \"Do you like, go to Mcdonalds with Obama?',\n",
       " 'Obama seeks to defuse healthcare row with court @ http://t.co/KkaKZGHv...',\n",
       " \"RT @BelleInABow: Obama doesn't need to be your favorite person, but he's still the President of the United States of America. That always deserves respect.\",\n",
       " 'RT @LouTommoBum: Michelle Obama invited the boys to her Easter party. l0l',\n",
       " '@AP 0 because i know the global elite have set up america to fail in the coming years and there doing it through there puppet obama',\n",
       " 'Interesting take: Obama Misquotes Bible on Wealth Redistribution http://t.co/Z2BCceVk',\n",
       " \"@marclamonthill Why aren't you and Obama and others telling kids to stop dressing like thugs in jail.... go to school...don't emulate thugs\",\n",
       " 'Look For Obama To Approve Keystone Pipeline - Right Before The Election, http://t.co/rVWI6S1Y, #TCOT',\n",
       " \"RT @robints: Obama Admin cries for tax increases as they applaud China 4 lowering taxes to spur econ grwth. http://t.co/iR2DAMfM Can't make it up! #tcot\",\n",
       " 'Barack Obama is coming to FAU on Tuesday! :D',\n",
       " 'RT @GEsfandiari: \"Obama signaled US would accept Iranian civilian nuclear program if Khamenei back up claim #Iran will not pursue nukes\" http://t.co/svxFPoHq',\n",
       " 'RT @handrewschwartz: Ignatius reports Obama signaled Iran US wld accept civ nuke pgm if Khameni can assure Iran will never get nuke weapons http://t.co/KkaAhGPq',\n",
       " '#whatsromneyhiding from obama',\n",
       " '@HesDanTheMan @edshow nothing will come of it.  Had it been #obama, the #gop would impeach him. #p2 #edshow',\n",
       " 'Exposing the Obama-Soetoro deception: http://t.co/PFmSWQsU via @AddThis',\n",
       " 'OBAMA Follows The Quran &gt; Muslims can Lie to the Infidel (US) to Get achieve His Goals&gt; Destruction of the West&gt; #tcot #p2 #ocra #dem #tlot',\n",
       " 'RT @blakehounshell: From Ignatius: \"U.S. officials hope [Putin] can broker a Syria deal before he meets Obama at the G-8 summit next month.\"',\n",
       " \"RT @CatoInstitute: NEW Podcast:  Obama's Vanished Coalition http://t.co/w0cUHRM5  (h/t @COBrown)\",\n",
       " 'American kid \"You\\'re from the UK? Ohhh cool, So do you have tea with the Queen?\". British kid: \"Do you like, go to Mcdonalds with Obama?',\n",
       " '@c_o_l_l_e_e_n Obama is ill prepared for the sh*t storm if the Catholics shut down the hospitals and universities',\n",
       " 'Beloit (WI) Daily News:  Obama setting up Supreme Court as a campaign issue . More #Obama #news - http://t.co/WYKgE3LZ',\n",
       " \"@markknoller @obama denounces @mittromney for supporting a budget? Why doesn't @obama denounce the senate for ignoring HIS budget ?\",\n",
       " 'RT @JonahNRO: But he got them fast! MT @thinkprogress Romney, who has two Harvard degrees, blasts Obama for spending \"too much time at Harvard.\"',\n",
       " \"I'll survive if America elects Obama again. After all, thats what we're all about. Electing some moron who's kiling everything we believe in\",\n",
       " \"RT @markknoller: Pres Obama says it'll be a big debate and a fun debate because - he says - he has the truth on his side.\",\n",
       " 'RT @HeraMing: While #Progressives shout #WarOnWomen at #Republicans, Barack Hussein #Obama hosts Muslim \"Sharia Law\" Brotherhood AT WHITEHOUSE!! WTH?!?!',\n",
       " '#WhatsRomneyHiding the secret handshake. Obama is really mad he wants to know this handshake',\n",
       " \"I'd like to read #Obama's #college thesis to find out if he espouses any constitutional conflicts of interest. #tcot #whatsobamahiding #p2\",\n",
       " '@mmfa Like the questions the liberal media gives Obama.',\n",
       " 'RT @Creationtips: Ouch! Obama at prayer breakfast: Jesus Is \"A Son of God\". (CNS) | http://t.co/9a1deeP0',\n",
       " 'RT @ohgirlphrase: American kid \"You\\'re from the UK? Ohhh cool, So do you have tea with the Queen?\". British kid: \"Do you like, go to Mcdonalds with Obama?',\n",
       " \"RT @SteveDeaceShow: Tonight's show: the Texas Republican Party may be the last line of defense between the Constitution and another four years of Obama.\",\n",
       " 'RT @ohgirlphrase: American kid \"You\\'re from the UK? Ohhh cool, So do you have tea with the Queen?\". British kid: \"Do you like, go to Mcdonalds with Obama?',\n",
       " 'President Obama Signs the Jumpstart Our Business Startups (JOBS) Act: An Attempt to Ease Access to Capital and... http://t.co/B2cYIX23',\n",
       " '#edshow Whenever Obama tells the truth about the Gop, they boo hoo hoo and call him a bully.',\n",
       " 'RT @GEsfandiari: \"Obama signaled US would accept Iranian civilian nuclear program if Khamenei back up claim #Iran will not pursue nukes\" http://t.co/svxFPoHq',\n",
       " 'RT @ohgirlphrase: American kid \"You\\'re from the UK? Ohhh cool, So do you have tea with the Queen?\". British kid: \"Do you like, go to Mcdonalds with Obama?',\n",
       " \"RT @nprnews Assailing 'Disobedience,' Pope Says Women Will Not Be Ordained http://t.co/sYSnUwUJ Compare to Obama's statement on lady golfers\",\n",
       " '#whatsromneyhiding the fact that he is a student of critical race theory? Or is that Obama.....?',\n",
       " 'RT @GEsfandiari: \"Obama signaled US would accept Iranian civilian nuclear program if Khamenei back up claim #Iran will not pursue nukes\" http://t.co/svxFPoHq',\n",
       " 'Obama Attacks Justices & Now Must Answer in Court http://t.co/NKCZ0YqD. How anyone can support such a manipulative President?',\n",
       " 'RT @PresElections: The Barack Obama, Mitt Romney budget battle - Ben White http://t.co/gb87afx1 via @newspin',\n",
       " 'Obama has called the GOP budget social Darwinism. Nice try, but they believe in social creationism.',\n",
       " 'In his teen years, Obama has been known to use marijuana and cocaine.',\n",
       " 'RT @GEsfandiari: \"Obama signaled US would accept Iranian civilian nuclear program if Khamenei back up claim #Iran will not pursue nukes\" http://t.co/svxFPoHq',\n",
       " \"Van Jones Echoes '08 Hillary Clinton: President Obama, 'A Great... http://t.co/B3b4vkeX\",\n",
       " \"RT @RealClearScott: NH is emblematic of Obama's swing state organization advantage. Already over 30 staffers, 7 offices: http://t.co/X8fkVleu\",\n",
       " 'Jim DeMint calls President Obama a \"bully\" http://t.co/2kXhMwKY',\n",
       " 'Obama Could Face Election-Year Jam on Gay Marriage| http://t.co/aViCL1rV |\\rSouthFloridaGayNews.| |#lgbt #p2 #glbt #ssm #queer #gay|',\n",
       " 'With a range of opinion from Obama to Romney. MT @markknoller: Pres Obama says \"I cannot wait\" for \"big important debate\" on issues.',\n",
       " 'RT @WhatTheFFacts: In his teen years, Obama has been known to use marijuana and cocaine.',\n",
       " 'RT @markknoller: Pres Obama sayd \"I cannot wait\" for the \"big important debate\" we are going to have on these issues.',\n",
       " \"Obama's Weak-Kneed Regulatory Regime | Common Dreams: http://t.co/IZXRte2e via @AddThis\",\n",
       " 'RT @ohgirlphrase: American kid \"You\\'re from the UK? Ohhh cool, So do you have tea with the Queen?\". British kid: \"Do you like, go to Mcdonalds with Obama?',\n",
       " 'Interesting take: Obama Misquotes Bible on Wealth Redistribution http://t.co/ejpjWjHg',\n",
       " 'RT lmfao @_Ciroc_Obama: Wonder if @PRINCE_POLO know Rihanna in that new movie battleship who am I kidding of course his groupie ass knew lol',\n",
       " 'Interesting take: Obama Misquotes Bible on Wealth Redistribution http://t.co/FNPrvVDK',\n",
       " '#KimKardashiansNextBoyFriend Obama?',\n",
       " 'Obey: Obama still not satisfied with the lapdog press (@times247)  http://t.co/FVcoWj7p',\n",
       " 'Obama says knock you out -- http://t.co/PUZRq7HU #screwytees',\n",
       " 'RT @HonestConservat: EXCLUSIVE Selma Bouvier w 3 am Kagan 2 Obama call http://t.co/JdrQZSJr THE SHREW @SgtTim911',\n",
       " \"RT @djtechchicago: Apparently, he's hiding Barack Obama's copy of the Constitution. #WhatsRomneyHiding\",\n",
       " \"#WhatsRomneyHiding Michelle Obama's divorce attorney on speed dial?\",\n",
       " \"Obama is a puppet for America. There's more to his face and words.\",\n",
       " 'RT @JeffersonObama: Arianna Huffington blasting President Obama at any chance and praising GOP. This pic explains things. http://t.co/Ov6I5CoS',\n",
       " \"RT @charlesdavis84: All those people with Obama logos on their avatar? If someone could do that for me but with the Pepsi logo I'd appreciate it.\",\n",
       " '@edshow #edshow Obama is the one looking out for women the GOP is in fiction world',\n",
       " 'GOP calls Pres. Obama a Thug and we wonder why #TrayvonMartin / was killed',\n",
       " '@BaisdenLive Look at the Barack Obama Chicken Nugget on ebay. You are not going to believe this. Why is this allowed?',\n",
       " 'RT @Professor_Why: #WhatsRomneyHiding - his willingness to tell police officers they \"acted stupidly\" w/out knowing the facts... Oh wait, that\\'s Obama again!',\n",
       " \"RT @markknoller: Pres Obama says it'll be a big debate and a fun debate because - he says - he has the truth on his side.\",\n",
       " 'White House in damage control over Obama Supreme Court remarks: The White House was forced on the defensive on W... http://t.co/2Yy8Srct',\n",
       " 'RT @ForAmerica: McCaskill Calls For Obama to Release Day&Half Supply of Oil From SPR via @MOPNS But Biden says oil policy is \"best it\\'s ever been\" #MOsen',\n",
       " 'a  large number of #GOP women will vote for #Obama #edshow',\n",
       " \"Obama on the offensive! RT @BarackObama: So what's Romney hiding? Tweet @MittRomney to demand he release his tax returns. #WhatsRomneyHiding\",\n",
       " \"Obama's college transcripts. #WhatsRomneyHiding\",\n",
       " 'RT @ohgirlphrase: American kid \"You\\'re from the UK? Ohhh cool, So do you have tea with the Queen?\". British kid: \"Do you like, go to Mcdonalds with Obama?',\n",
       " \"You want others to know how you feel and say sorry without you telling them what's wrong. Last time I checked, Obama is still president :/\",\n",
       " \"RT @astroterf: RT @scarlett_0hara: RT @rightchange2012: Veteran groups blast Obama's plan 2 double (cont) http://t.co/ZuKdTidE\",\n",
       " '@maddow Rachel I just seen the HBO documentary hot coffee.I feel so upset, we need four more years of President Obama 1000% certtain!',\n",
       " 'American kid \"You\\'re from the UK? Ohhh cool, So do you have tea with the Queen?\". British kid: \"Do you like, go to Mcdonalds with Obama?',\n",
       " 'Obama Is Like The Worst President Ever ,',\n",
       " 'RT @yahoo_music: Madonna Tweets Britney, Katy, Skrillex And Obama, Plus Exclusive Ultra Music Fest Video! http://t.co/EteMGqKk',\n",
       " 'RT @keder: His record includes making businesses profitable, instead of bankrupting and extorting them. (Unlike Obama) #WhatsRomneyHiding',\n",
       " 'One Direction Tolak Undangan Michelle Obama! http://t.co/S8lPX0SZ [Like it? http://t.co/WIDZGjRj ]',\n",
       " 'whats up with the obama trend ? Leave the man alone ! Hes done ALOT',\n",
       " 'President Obama is coming to FAU April 10 &gt;__&lt; parking is going to be worse than it already is... @nicholle_',\n",
       " \"My favourite drawing I've ever received on draw something is Nicole's drawing of Obama. Piece of art that was.\",\n",
       " 'RT @GEsfandiari: \"Obama signaled US would accept Iranian civilian nuclear program if Khamenei back up claim #Iran will not pursue nuk...',\n",
       " 'How come Barack Obama has twitter? Some illuminati trying to disguise himself. He puts voodoo on his followers',\n",
       " 'RT @ohgirlphrase: American kid \"You\\'re from the UK? Ohhh cool, So do you have tea with the Queen?\". British kid: \"Do you like, go to Mcdonalds with Obama?',\n",
       " \"RT @17bbomb: @geoff9cow Right! Of course! It's ALWAYS someone else's fault when it comes to Obama! / about 95% is. very good odds, too.\",\n",
       " 'RT @ridiamond: WORD!! \"Obama\\'s Organizational Advantage on Full Display in N.H.\"',\n",
       " 'http://t.co/JrUSKBu9',\n",
       " 'Obama Signs Rare Bipartisan Jobs Bill: http://t.co/W761OyXD via @youtube',\n",
       " 'RT @ohgirlphrase: American kid \"You\\'re from the UK? Ohhh cool, So do you have tea with the Queen?\". British kid: \"Do you like, go to Mcdonalds with Obama?',\n",
       " 'RT @markknoller: Pres Obama sayd \"I cannot wait\" for the \"big important debate\" we are going to have on these issues.',\n",
       " 'RT @ohgirlphrase: American kid \"You\\'re from the UK? Ohhh cool, So do you have tea with the Queen?\". British kid: \"Do you like, go to Mcdonalds with Obama?',\n",
       " 'RT @ohgirlphrase: American kid \"You\\'re from the UK? Ohhh cool, So do you have tea with the Queen?\". British kid: \"Do you like, go to Mcdonalds with Obama?',\n",
       " 'RT @Drudge_Report: Obama setting up Supreme Court as campaign issue... http://t.co/1IiLN01H',\n",
       " '@markknoller funny Obama saying Romney should release stuff. Mr birth certificate. mr no college records. must think we are stupid.',\n",
       " \"RT @markknoller: Pres Obama says it'll be a big debate and a fun debate because - he says - he has the truth on his side.\",\n",
       " \"RT @mediaite: The Five's Greg Gutfeld: President Obama Isn't A Bully, He's A Whiner (VIDEO) http://t.co/kWBO2rSs\",\n",
       " \"President  Obama has the highest office in America yet he hasn't the power to speak freely. So much for the First Amendment! #backoffdummies\",\n",
       " 'Obey: Obama still not satisfied with the lapdog press http://t.co/4vxMWaZv #wethepeople in the way! #tcot #sgp',\n",
       " 'RT @MsRock4Ever: GOP is SO desperate and so Frightened of President Obama that they are suppressing votes in several states, but it will cause them loss too.',\n",
       " 'RT @ohgirlphrase: American kid \"You\\'re from the UK? Ohhh cool, So do you have tea with the Queen?\". British kid: \"Do you like, go to Mcdonalds with Obama?',\n",
       " \"RT @TPO_Hisself: For the first time in history, CONTRARY 2 Dr. King's wishes, Obama is calling on voters FOR THE COLOR OF THEIR SKIN! #RACIST! #TREASON!\",\n",
       " \"Today's Federal Debt is about $15.2 Trillion. Obama has added 43% since he usurped the office of POTUS. #tcot #p2 #ocra #teaparty\",\n",
       " \"RT @TPO_Hisself: For the first time in history, CONTRARY 2 Dr. King's wishes, Obama is calling on voters FOR THE COLOR OF THEIR SKIN! #RACIST! #TREASON!\",\n",
       " 'RT @Talkmaster: Oh now I get it. Obama was talking in shorthand and we were just too dumb to understand how smart he really is.  Gagme.',\n",
       " 'RT @susie_c: Latest on #NDAA lawsuit from @sparrowmedia, which has the prettiest website. http://t.co/RQQpZJHd',\n",
       " 'RT @ohgirlphrase: American kid \"You\\'re from the UK? Ohhh cool, So do you have tea with the Queen?\". British kid: \"Do you like, go to Mcdonalds with Obama?',\n",
       " 'Still hoping that #Obama is gonna make some #Romney/Bob Ewell comparison before the night is over. http://t.co/0TBmBaKB #p2',\n",
       " 'RT @LouTommoBum: Michelle Obama invited the boys to her Easter party. l0l',\n",
       " 'RT @PoliticalGal11: Archbishop Dolan: Obama lied to his face. Read at http://t.co/wX1RzFKm #tcot #prolife #tlot #sgp #MSM #tpp #Catholic #lnyhbt #withnewt #army',\n",
       " 'RT @ohgirlphrase: American kid \"You\\'re from the UK? Ohhh cool, So do you have tea with the Queen?\". British kid: \"Do you like, go to Mcdonalds with Obama?',\n",
       " 'After Threatening Judges, GOP Accuses Obama of Judicial Intimidation http://t.co/rHr93J15 via @dailykos -- #Republican #Disinformation',\n",
       " 'click obama related trending topic. racist bullshit every few tweets. [arrested development dove macro]',\n",
       " 'RT @ItsLoopzProd: LOOOOOOOOOOOOOOOOOOOOOOOOOOOOL This is why i rate obama http://t.co/vsOYFhSa',\n",
       " \"RT @HarryFacts1D: ''Harry Styles describe a Michelle Obama como una mujer muy atractiva.'' OBAMA ESCONDE A TU ESPOSA Y A TUS HIJOS, STYLES VIENE EN CAMINO.\",\n",
       " 'Late Night Jokes: Obama Unqualified to Be a Trekkie: ',\n",
       " 'The Tonight Show With Jay Leno',\n",
       " 'Congratulations to Mitt Ro... http://t.co/krM3IuSt',\n",
       " 'RT @jltho: This #WhatsRomneyHiding hashtag is entertaining. Is this another social media backfire from the Obama administration?',\n",
       " 'Obama: \"To avoid voter fraud, I have authorized $1.5B to hire the Black Panthers for Security at polling places. We are watchigng you\"',\n",
       " \"RT @Blondiecakess: Obama's skin color is not a reason to vote for him..\",\n",
       " 'RT @Our4thEstate: @edshow The President of the United States, Barack Obama, is all that stands between the rights of the 99% & the Party of Koch & Norquist.',\n",
       " 'RT @JeffersonObama: Arianna Huffington blasting President Obama at any chance and praising GOP. This pic explains things. http://t.co/Ov6I5CoS',\n",
       " '#newbedon 4/6/2012 4:25:20 AM Obama Wins Landslide Presidential Election...With Online Gamers http://t.co/JGbJwE9Z',\n",
       " 'Happy Passover, love Obama http://t.co/gHQ3NrWP',\n",
       " 'Obama has called the GOP budget social Darwinism. Nice try, but they believe in social creationism.',\n",
       " 'In his teen years, Obama has been known to use marijuana and cocaine.',\n",
       " 'Why Did Obama Invite Al Sharpton to Easter Prayer Breakfast But Not Southern Baptist Leaders? http://t.co/Zgsh2zyo via @theblaze',\n",
       " 'RT @ohgirlphrase: American kid \"You\\'re from the UK? Ohhh cool, So do you have tea with the Queen?\". British kid: \"Do you like, go to Mcdonalds with Obama?',\n",
       " 'RT @jmimac351: @EWErickson $4 gas, high unemployment & Obama is worried about Augusta National. This is smoke and mirrors for utter failure. #cantwait2vote',\n",
       " \"Love how the #Obama campaign's #WhatsRomneyHiding back fired, now #WhatsObamaHiding is trending. Seeing a lot of birth certificate tweets.\",\n",
       " \"#WhatsRomneyHiding Obama's Mom Jeans\",\n",
       " 'RT @ohgirlphrase: American kid \"You\\'re from the UK? Ohhh cool, So do you have tea with the Queen?\". British kid: \"Do you like, go to Mcdonalds with Obama?',\n",
       " 'With all the truth that has been exposed about the Obama Administration, you have to wonder why any Americans in... http://t.co/1Pso0ULz',\n",
       " 'Yes #WHFail RT @jltho: This #WhatsRomneyHiding hashtag is entertaining. Is this another social media backfire from the Obama administration?',\n",
       " '#Obama Signs \"Fraud-Friendly\" JOBS #Act into Law: http://t.co/j92pfp6T | #business #economist',\n",
       " 'RT @ohgirlphrase: American kid \"You\\'re from the UK? Ohhh cool, So do you have tea with the Queen?\". British kid: \"Do you like, go to Mcdonalds with Obama?',\n",
       " \"@edshow that's because Obama is a thug and unqualified to be president\",\n",
       " 'RT @ohgirlphrase: American kid \"You\\'re from the UK? Ohhh cool, So do you have tea with the Queen?\". British kid: \"Do you like, go to Mcdonalds with Obama?',\n",
       " \"@Bdcochese I'm scared to hear it any anti Obama songs or is uncle AL only against his government when a republicans in office\",\n",
       " \"@AustinPaul19 Why's Obama hiding his school record's ?\",\n",
       " 'RT @ohgirlphrase: American kid \"You\\'re from the UK? Ohhh cool, So do you have tea with the Queen?\". British kid: \"Do you like, go to Mcdonalds with Obama?',\n",
       " \"Obama: If you're a racist and you know it, and you REALLY want to show it, VOTE FOR ME!!   http://t.co/CK84NpUq #TREASON\",\n",
       " 'RT @blakehounshell: From Ignatius: \"U.S. officials hope [Putin] can broker a Syria deal before he meets Obama at the G-8 summit next month.\"',\n",
       " \"@Mr_JPatt did you ever read obama's book before he became president?\",\n",
       " 'I love President Obama @BarackObama',\n",
       " 'RT @ohgirlphrase: American kid \"You\\'re from the UK? Ohhh cool, So do you have tea with the Queen?\". British kid: \"Do you like, go to Mcdonalds with Obama?',\n",
       " 'RT @ohgirlphrase: American kid \"You\\'re from the UK? Ohhh cool, So do you have tea with the Queen?\". British kid: \"Do you like, go to Mcdonalds with Obama?',\n",
       " 'Obama Warns Unelected Supreme Court Against Striking Down Healthcare & J...: http://t.co/0bk8kViG via @youtube',\n",
       " '@BarackObama Obama vs. the Constitution, the Bill of Rights, the Declaration of Independence, etc...',\n",
       " 'RT @ohgirlphrase: American kid \"You\\'re from the UK? Ohhh cool, So do you have tea with the Queen?\". British kid: \"Do you like, go to Mcdonalds with Obama?',\n",
       " \"RT @Steto33: @edshow Tomorrow's GOP headline: Obama hates golf. #edshow\",\n",
       " \"@markknoller Does Obama really want to dig into Romney's past like that? Wow! It looks like #vetthepresident time. Go Breitbart acolytes!\",\n",
       " 'Obama is verifiably NUTS &gt; now challenging the legitimacy of the U.S. Supreme Court http://t.co/XliEIxvs #rnc #economy #teabagger',\n",
       " 'RT @ohgirlphrase: American kid \"You\\'re from the UK? Ohhh cool, So do you have tea with the Queen?\". British kid: \"Do you like, go to Mcdonalds with Obama?',\n",
       " \"@danwho equalization. That sounds like 'redistribution of wealth' aka another commie plot from Obama.\",\n",
       " 'Obama signs JOBS Act to boost startup firms - http://t.co/SELMj7zZ',\n",
       " 'RT @JeffersonObama: 62% of U.S. Jews would reelect Obama, 4% say Israel is most important issue - Haaretz http://t.co/VhURDtdO http://t.co/gIGmn5kE',\n",
       " 'RT @betseyross: Democrats & EPA move to destroy US coal industry http://t.co/NFOS1n9d @ClaireCMC @KayHagan @MarkWarner @SenJimDeMint @MarcoRubio @RandPaul',\n",
       " 'RT @JeffersonObama: Arianna Huffington blasting President Obama at any chance and praising GOP. This pic explains things. http://t.co/Ov6I5CoS',\n",
       " \"RT @theblaze: DOJ Issues Letter Clarifying Obama's Remarks: Court's Power to Strike Down Laws 'Beyond Dispute' http://t.co/pAe0TYYI via @theblaze mm\",\n",
       " 'RT @Our4thEstate: @edshow The President of the United States, Barack Obama, is all that stands between the rights of the 99% & the Party of Koch & Norquist.',\n",
       " 'American Kid \"You\\'re From The UK? Ohhh Cool, So Do You Have Tea With The Queen?\". British Kid: \"Do You Like, Go To Mcdonalds With Obama?\"',\n",
       " 'Obama dings men-only Masters host @ http://t.co/kexX62X8 US President Barack Obama says w...',\n",
       " 'RT @ohgirlphrase: American kid \"You\\'re from the UK? Ohhh cool, So do you have tea with the Queen?\". British kid: \"Do you like, go to Mcdonalds with Obama?',\n",
       " \"@FHQ of course, if Obama just wins PA, he's at 270 in most scenarios. Obama goes 2/4, he's definitely over it (assuming VA is blue.)\",\n",
       " 'Former White House Speechwriter Suggests Military Coup Could Oust Obama http://t.co/NddhkcNX',\n",
       " \"Pres Obama should worry about something else(i.e. economy) instead of Augusta's membership policies..Policy was in place way before his time\",\n",
       " '@Obama2012 @truthteam2012 @gop Obama run on your record and your budgets that were voted down 97-0 and 414-0 instead if this nonsense',\n",
       " \"RT @sunnyright: A $1 million donation from a guy who refers to women as c*nts and tw*ts. Oh, wait, that's Obama and Bill Maher. #WhatsRomneyHiding\",\n",
       " 'RT @ohgirlphrase: American kid \"You\\'re from the UK? Ohhh cool, So do you have tea with the Queen?\". British kid: \"Do you like, go to Mcdonalds with Obama?',\n",
       " '\"Service is the rent we pay to live on earth\" Michelle Obama',\n",
       " 'RT @Talkmaster: Oh now I get it. Obama was talking in shorthand and we were just too dumb to understand how smart he really is.  Gagme.',\n",
       " '@DavidCornDC Mr Corn I just seen the HBO documentary hot coffee.I feel so upset, we need four more years of President Obama 1000% certtain!',\n",
       " \"For the first time in history, CONTRARY 2 Dr. King's wishes, Obama is calling on voters FOR THE COLOR OF THEIR SKIN! #RACIST! #TREASON!\",\n",
       " \"It's incredible that something like #WhatsRomneyHiding would be trending. Yet Obama is sneakiest, harmful person and no one says anything.\",\n",
       " 'RT @JeffersonObama: 62% of U.S. Jews would reelect Obama, 4% say Israel is most important issue - Haaretz http://t.co/VhURDtdO http://t.co/gIGmn5kE',\n",
       " 'Archbishop Dolan: Obama lied to his face. Read at http://t.co/wX1RzFKm #tcot #prolife #tlot #sgp #MSM #tpp #Catholic #lnyhbt #withnewt #army',\n",
       " 'THIS is what the gun sale surge was for when Obama was elected. #thinkaboutit',\n",
       " '@NHLWingsfanKay well whiter obama :P',\n",
       " 'President Obama ^ Lindsay Lohan ^ USA Intel public scams ^ Press 2007 pissed off Analyt64  = DC courier type magnet on USA White House.',\n",
       " 'RT @ohgirlphrase: American kid \"You\\'re from the UK? Ohhh cool, So do you have tea with the Queen?\". British kid: \"Do you like, go to Mcdonalds with Obama?',\n",
       " 'RT @OrwellForce: Everything Obama did before the age of 35 #WhatsRomneyHiding',\n",
       " '@VRWCTexan FIRST OF ALL OBAMA WAS\" NOT\" A CONSTITUTIONAL LAW  PROFESSOR , HE WAS \"NOT\" AN TENURED PROFESSOR, HE WAS AN INSTRUCTOR,THATS IT',\n",
       " 'Bean on my pocket, Obama on my wrist.',\n",
       " \"Obama to all black Americans: I REALLY need you this time! Whitey won't be fooled twice!!   http://t.co/f8b7HLaf  #TREASON\",\n",
       " \"RT @markknoller: Pres Obama says it'll be a big debate and a fun debate because - he says - he has the truth on his side.\",\n",
       " 'RT @ohgirlphrase: American kid \"You\\'re from the UK? Ohhh cool, So do you have tea with the Queen?\". British kid: \"Do you like, go to Mcdonalds with Obama?',\n",
       " 'RT @ohgirlphrase: American kid \"You\\'re from the UK? Ohhh cool, So do you have tea with the Queen?\". British kid: \"Do you like, go to Mcdonalds with Obama?',\n",
       " \"RT @baseballcrank: #WhatsRomneyHiding Obama's State Senate records\",\n",
       " 'RT @JeffersonObama: Arianna Huffington blasting President Obama at any chance and praising GOP. This pic explains things. http://t.co/Ov6I5CoS',\n",
       " 'This Reporter stuck it to the #Obama Admin. lol http://t.co/taquWJUt',\n",
       " \"Obama's skin color is not a reason to vote for him..\",\n",
       " 'RT @ohgirlphrase: American kid \"You\\'re from the UK? Ohhh cool, So do you have tea with the Queen?\". British kid: \"Do you like, go to Mcdonalds with Obama?',\n",
       " \"@geoff9cow Right! Of course! It's ALWAYS someone else's fault when it comes to Obama!\",\n",
       " 'RT @cannabis_times: Drug Policy Groups Unite to Demand End to Medical Marijuana Raids - http://t.co/y1W2HmGS via @Shareaholic',\n",
       " \"RT @Professor_Why: #WhatsRomneyHiding - the fact that REAL unemployment is at 19%... Oh wait, that's Obama, not Romney...\",\n",
       " \"Examiner Editorial: Obama's budget, not Ryan's, is 'antithetical' to history: Speaking at the American Society o... http://t.co/mNhPMR5U\",\n",
       " 'gotta take care of those kids, i know you heard Obama',\n",
       " \"Examiner Editorial: Obama's budget, not Ryan's, is 'antithetical' to history: Speaking at the American Society o... http://t.co/maoLb5Ia\",\n",
       " 'RT @ohgirlphrase: American kid \"You\\'re from the UK? Ohhh cool, So do you have tea with the Queen?\". British kid: \"Do you like, go to Mcdonalds with Obama?',\n",
       " 'RT @michellemalkin: DBM. Drool Bucket Media. RT @Josh_Painter: What media bias? AP Chairman Slobbers All Over Obama, http://t.co/8IhorwzV',\n",
       " \"If you can find a better Obama gif than this one, I'm quitting Twitter. http://t.co/cNr0Sr3c\",\n",
       " 'One more thing to like about President Obama: #WGCL Obama believes women should be admitted to Augusta http://t.co/go9toJ8e',\n",
       " 'RT @IndyEnigma: How Saul Alinsky Taught Obama http://t.co/gIb7UzdC to Say One Thing and Do the Opposite #twcot #ocra #p2 #sgp #tcot',\n",
       " 'RT @ohgirlphrase: American kid \"You\\'re from the UK? Ohhh cool, So do you have tea with the Queen?\". British kid: \"Do you like, go to Mcdonalds with Obama?',\n",
       " 'While fishing ',\n",
       " 'Lady: do you live in here. ',\n",
       " 'Tanner: yeah',\n",
       " \"Lady: well then who's the president \",\n",
       " 'Tanner: Barack obama duh #run',\n",
       " '@TannerEnglish3',\n",
       " 'RT @JeffersonObama: Arianna Huffington blasting President Obama at any chance and praising GOP. This pic explains things. http://t.co/Ov6I5CoS',\n",
       " 'Obama: If all the blacks line up for me, I promise I will triple your entitlements & give you all Escalades    http://t.co/f8b7HLaf',\n",
       " 'RT @markknoller: Pres Obama sayd \"I cannot wait\" for the \"big important debate\" we are going to have on these issues.',\n",
       " \"For $10 I'd prank call Obama\",\n",
       " \"Amid Trayvon Martin case, Obama hosts screening of 'To Kill a Mockingbird': On Thursday night, President Obama i... http://t.co/l9LEKN8f\",\n",
       " 'Obama has called the GOP budget social Darwinism. Nice try, but they believe in social creationism.',\n",
       " 'In his teen years, Obama has been known to use marijuana and cocaine.',\n",
       " 'RT @markknoller: AT a campaign fundraiser tonight, Pres. Obama again denounced Mitt Romney by name for his support of the House-passed GOP Budget.',\n",
       " 'RT @ohgirlphrase: American kid \"You\\'re from the UK? Ohhh cool, So do you have tea with the Queen?\". British kid: \"Do you like, go to Mcdonalds with Obama?',\n",
       " 'http://t.co/FN7jJZNY i love obama so much',\n",
       " 'Nixon was missing 18 minutes. Obama is missing 18 years.',\n",
       " 'RT @ohgirlphrase: American kid \"You\\'re from the UK? Ohhh cool, So do you have tea with the Queen?\". British kid: \"Do you like, go to Mcdonalds with Obama?',\n",
       " 'RT @markknoller: AT a campaign fundraiser tonight, Pres. Obama again denounced Mitt Romney by name for his support of the House-passed GOP Budget.',\n",
       " 'RT @skeeteronmy: No #Racial Lines To Cross When It Comes To The #Marijuana Cause Vote #RonPaul #gop2012 #democrats #romney #santorum #newt #Obama #ucla #usc',\n",
       " \"RT @GetsGreased: Obama says #Obamacare passed by 'strong majority' of Congress? Not a single #GOP vote & many Dems voted NO. He LIES - AGAIN. #tcot #p2\",\n",
       " \"RT @CatoInstitute: NEW Podcast:  Obama's Vanished Coalition http://t.co/Hi8NnhBT  (h/t @COBrown)\",\n",
       " 'RT @ohgirlphrase: American kid \"You\\'re from the UK? Ohhh cool, So do you have tea with the Queen?\". British kid: \"Do you like, go to Mcdonalds with Obama?',\n",
       " \"Pres Obama says it'll be a big debate and a fun debate because - he says - he has the truth on his side.\",\n",
       " \"Obama's Green Jobs? #WhatsRomneyHiding\",\n",
       " 'President Obama Announces the 2012 Launch of African Americans 4 Obama http://t.co/CK84NpUq / Whites for Romney OK then? #TREASON',\n",
       " \"RT @against_obama: Obama's illegal alien uncle's drivers license #whatsromneyhiding\",\n",
       " 'RT @GrassRootRevolt: Obama: Not Ready to Release Saved Oil to Lower Gas Prices: (News Max) - Saying that he was not prepared to make ... http://t.co/vHxp18EN',\n",
       " 'RT @MovieMikeScott: #WhatsRomneyHiding @BarackObama GET CHA OBAMA ON (Unofficial Obama Song): http://t.co/RyG3vgRQ via @youtube',\n",
       " '#getchaObamaon #retweet #Obama',\n",
       " \"@megynkelly Why didn't you ask the Sheriff about obama eligibility?  Looks like fox is in obama pocket also.  Truth, truth is now\",\n",
       " '@Harry_Styles Heard your diggin Michelle Obama!! get in there styles :)',\n",
       " \"@edshow Tomorrow's GOP headline: Obama hates golf. #edshow\",\n",
       " 'Republicans for Obama http://t.co/x40FUeqV',\n",
       " 'RT @ohgirlphrase: American kid \"You\\'re from the UK? Ohhh cool, So do you have tea with the Queen?\". British kid: \"Do you like, go to Mcdonalds with Obama?',\n",
       " \"RT @FRANCE24: Obama hosts screening of 'To Kill a Mockingbird' http://t.co/zHiGQqZi\",\n",
       " 'RT @Jeri2: #WhatsRomneyHiding ? His REAL feelings about Obama...',\n",
       " 'RT @ohgirlphrase: American kid \"You\\'re from the UK? Ohhh cool, So do you have tea with the Queen?\". British kid: \"Do you like, go to Mcdonalds with Obama?',\n",
       " '\"Obama signaled US would accept Iranian civilian nuclear program if Khamenei back up claim #Iran will not pursue nukes\" http://t.co/svxFPoHq',\n",
       " 'RT @Our4thEstate: @edshow The President of the United States, Barack Obama, is all that stands between the rights of the 99% & the Party of Koch & Norquist.',\n",
       " 'President Obama ^ Lindsay Lohan ^ 1989 RUMORS business 19 TH & M ST NW DC met field agent = multi connector to FFX VA covert overt zone.',\n",
       " 'RT @ohgirlphrase: American kid \"You\\'re from the UK? Ohhh cool, So do you have tea with the Queen?\". British kid: \"Do you like, go to Mcdonalds with Obama?',\n",
       " 'RT @ohgirlphrase: American kid \"You\\'re from the UK? Ohhh cool, So do you have tea with the Queen?\". British kid: \"Do you like, go to Mcdonalds with Obama?',\n",
       " 'RT @W_Paul_Williams: RT @MerlePearl: Obama has us mourning for America --&gt; EDITORIAL: Mr. (cont) http://t.co/PxooFjTO',\n",
       " 'RT @Kerryepp: #WhatsRomneyHiding that he can throw a baseball like a man and not like a girl like Obama...',\n",
       " 'RT @ForAmerica: McCaskill Calls For Obama to Release Day&Half Supply of Oil From SPR via @MOPNS But Biden says oil policy is \"best it\\'s ever been\" #MOsen',\n",
       " 'RT @markknoller: Pres Obama slammed Romney for embracing a budget that supports a few doing well at the top, everyone else struggling to get by.',\n",
       " 'RT @WhatTheFFacts: In his teen years, Obama has been known to use marijuana and cocaine.',\n",
       " \"RT @wilycyotee: Pres. Obama's ongoing support of women is another reason I am so proud he is my President!  @edshow #Obama2012\",\n",
       " 'RT @MacehuaHart: Sharing: http://t.co/ztufxsn1 Czech Press: More is know about the Birth of Jesus a millenia ago than about Obama',\n",
       " 'RT @ohgirlphrase: American kid \"You\\'re from the UK? Ohhh cool, So do you have tea with the Queen?\". British kid: \"Do you like, go to Mcdonalds with Obama?',\n",
       " 'RT @preciousliberty: Obama\\'s Osawatomie Speech: \"The United States of America has never worked\" http://t.co/qwIsdV2n #tcot #debt #citizensunited #teaparty',\n",
       " \"RT @kesgardner: Obama's college records? #whatsromneyhiding\",\n",
       " '@marishuntsman He is for the most part obama lite but I would vote for pee wee herman over obama lama ding dong',\n",
       " \"RT @NouvelleNom: @nakedsk8boy @Artco77 Obama's excessive WH parties AND his obsession with algae, prove he is really a FUNGI. #tcot\",\n",
       " 'i heard on #VetThePrez President Obama Was a Swiftboat Skipper Who Lied About His Purple Heart #p2 #twisters #thetwisters #anystreet #ows',\n",
       " 'RT @KevinWGlass: RT @DrewMTips: #WhatsRomneyHiding The person who refuses to let Obama be clear',\n",
       " 'RT @MsRock4Ever: GOP is SO desperate and so Frightened of President Obama that they are suppressing votes in several states, but it will cause them loss too.',\n",
       " '@samiksami @obama  we are warming up for 2016...',\n",
       " 'RT @washingtonpost: What Romney\\'s \"Harvard\" attack on Obama really means http://t.co/nATmWclx via @ThePlumLineGS',\n",
       " 'Twitter drama between obama and romney lololol',\n",
       " \"RT @stinger5150: Romney is gonna be the nominee y'all. Not my first choice either but we cannot allow a 2nd Obama term. Obama HAS TO GO!!!!!!!\",\n",
       " 'Obama Sharpens Kansas Vision',\n",
       " \"Obama had the chance.... China is now the customer for Canada's oil, not America. Result? Higher oil prices. Thanks, O. http://t.co/mpZxO1Mn\",\n",
       " 'Every time these RW mouthpieces start whining about Obama...I think, \"get over yourselves and your small world view.\" he is your president 2',\n",
       " 'Koch brothers linked to $3.6M anti-Obama gas price ad campaign - http://t.co/OTpHamKc: http://t.co/Taa46B8j via @POLITICO',\n",
       " 'RT @betseyross: Democrats & EPA move to destroy US coal industry http://t.co/NFOS1n9d @ClaireCMC @KayHagan @MarkWarner @SenJimDeMint @MarcoRubio @RandPaul',\n",
       " 'President Obama ^ Lindsay Lohan RUMORS video sec 50 to 56 visual special effects = human soul indicator ^ Covert overt connector.',\n",
       " \"I favorited a @YouTube video http://t.co/LdPffo7a Tales of Fantasy - Obama's Look HD\",\n",
       " \"A $1 million donation from a guy who refers to women as c*nts and tw*ts. Oh, wait, that's Obama and Bill Maher. #WhatsRomneyHiding\",\n",
       " 'RT @cmadhur: \"Obama Signs \\'Game-Changing,\\' Crowd-Funding JOBS Act | Mashable - http://t.co/7GdTS0Lf\" | #MBA #Jobs',\n",
       " 'RT @edshow: Righties call Pres. Obama a \"thug\" and \"bully\" for comments on health care law hearings. Comment on FB or tweet so we can share on #edshow!',\n",
       " '@KatrinaNation Katrina I just seen the HBO documentary hot coffee.I feel so upset, we need four more years of President Obama 1000% certtain',\n",
       " 'RT @WhatTheFFacts: In his teen years, Obama has been known to use marijuana and cocaine.',\n",
       " 'RT @CARepublican12: RT @stinger5150: Everything Obama does is detrimental to this country. I honestly believe the ... http://t.co/OVkDyuX9',\n",
       " 'RT @LouTommoBum Michelle Obama invited the boys to her Easter party. l0l',\n",
       " '\"President Obama has steered clear of taking a firm stance on the Keystone pipeline, but many Democrats running... http://t.co/CSyUlFW0',\n",
       " 'RT @PRIVATE_SLEEPY: I think its time for a change..........#Obama',\n",
       " 'RT @KevinWGlass: RT @DrewMTips: #WhatsRomneyHiding The person who refuses to let Obama be clear',\n",
       " '( yea ill dm it to you. Dont share it tho) RT @DJECOOL: Hey @Tiwaworks u get Obama Pin? Thanks bro!',\n",
       " 'RT @MrTinyPenis: I heard there is a gay porn titled \"Obama Been Slobbin\" ....now think about who Obama killed in Pakistan',\n",
       " 'Trending topics ada tentang obama',\n",
       " \"I liked a @YouTube video http://t.co/LdPffo7a Tales of Fantasy - Obama's Look HD\",\n",
       " '@edshow Obama is a thug and a Progressive Marxist Commie. Obamacare will bankrupt Americans while funding Abortion clinics #edshow',\n",
       " '@JennyErikson Another Obama created hashtag  #WhatsRomneyHiding',\n",
       " 'RT @GarrettNBCNews: Romney, who earned a combined JD/MBA from Harvard just hit President Obama for spending \"too much time at Harvard\"',\n",
       " 'RT @stinger5150: A 2nd term for Obama would mean the end of the US. He must be defeated. Our kids future depends on it.',\n",
       " \"@AC360 @jeffreytoobin @jaysekulow #Obama and #Santorum have same judicial criticism in common. Now that's politics!\",\n",
       " 'Poor Warin\\' Orin Hatch on a tear that Obama is \"going to throw the Mormon Church\" at Mitt #notactuallyconfirmed #mittless',\n",
       " 'RT @markknoller: Pres Obama sayd \"I cannot wait\" for the \"big important debate\" we are going to have on these issues.',\n",
       " '#Google #News Gun Sales Booming: Doomsday, Obama or Zombies? http://t.co/Iw3pz7fy #AutoFollowBack Goo',\n",
       " 'RT @markknoller: Saul says Pres Obama \"will do anything\" to distract Americans from his \"failed\" economic record incl unemployment & higher gas prices.\"',\n",
       " 'White House in damage control over Obama Supreme Court remarks - Yahoo! News Canada http://t.co/j3K58zDO via @yahoocanadanews',\n",
       " 'RT @markknoller: AT a campaign fundraiser tonight, Pres. Obama again denounced Mitt Romney by name for his support of the House-passed GOP Budget.',\n",
       " \"#KimKardashiansNextBoyFriend... Barack Obama... He's the leader of the free world.  She's the booty in the white world...\",\n",
       " \"Obama, 'You Think I'm Joking' - Two Words for You, Predator Drones http://t.co/G2kQrEmd\",\n",
       " 'RT @Un_OccupyWallSt: @Stranahan #whatsRomneyHiding? Umm i can guarantee if anything, it is FAR less than Obama and Holder',\n",
       " '@AIsForOrg And this genius man can sing. Who else is there really? Obama 2012',\n",
       " \"RT @baseballcrank: #WhatsRomneyHiding Obama's State Senate records\",\n",
       " 'RT @anna12061: Another Obama Buddy!\\rhttp://t.co/B2WIWFrV\\r\\rNapolitano Caught Hiring Muslim Brotherhood Terrorist, Giving Him Top-Secret Security Clearance',\n",
       " 'It would take far less time to sing \"100 Bottles of Beer\" than list what we KNOW Obama is hiding. #hypocriticalmarxist #irony #GOP #divider',\n",
       " 'Save the Sand-Dune Lizard? - Nash Keune - National Review Online http://t.co/GzD7DkRt #Obama #WarOnThePoor #WarOnTheMiddleClass #WarOnJobs',\n",
       " 'President Obama ^ Lindsay Lohan RUMORS beginning ^ 1987 Analyst64 was protected ^ Future time-line indicator ^ Scramble scam mode video.',\n",
       " 'RT @Atrios: probably not the most important thing in the world, but I did hope that security theatre would diminish at least slightly under obama rule',\n",
       " \"@Im_Tyler I apologize you must know more about our government than Obama and those in Washington. So I guess it's  #BlameBush in 2012\",\n",
       " 'Obama has called the GOP budget social Darwinism. Nice try, but they believe in social creationism.',\n",
       " 'In his teen years, Obama has been known to use marijuana and cocaine.',\n",
       " \"RT @baseballcrank: #WhatsRomneyHiding Obama's State Senate records\",\n",
       " 'RT @anna12061: Another Obama Buddy!\\rhttp://t.co/B2WIWFrV\\r\\rNapolitano Caught Hiring Muslim Brotherhood Terrorist, Giving Him Top-Secret Security Clearance',\n",
       " 'It would take far less time to sing \"100 Bottles of Beer\" than list what we KNOW Obama is hiding. #hypocriticalmarxist #irony #GOP #divider',\n",
       " 'Save the Sand-Dune Lizard? - Nash Keune - National Review Online http://t.co/GzD7DkRt #Obama #WarOnThePoor #WarOnTheMiddleClass #WarOnJobs',\n",
       " 'President Obama ^ Lindsay Lohan RUMORS beginning ^ 1987 Analyst64 was protected ^ Future time-line indicator ^ Scramble scam mode video.',\n",
       " 'RT @Atrios: probably not the most important thing in the world, but I did hope that security theatre would diminish at least slightly under obama rule',\n",
       " \"@Im_Tyler I apologize you must know more about our government than Obama and those in Washington. So I guess it's  #BlameBush in 2012\",\n",
       " 'American Kid \"You\\'re from the UK? Ohhh cool, so do you have tea with the queen?\". British Kid \"Do you like, go to Mcdonalds with Obama?\"',\n",
       " 'Dick riding obama obama -thugnificent',\n",
       " '#KimKardashiansNextBoyFriend -&gt; Obama',\n",
       " \"RT @BelleInABow: Obama doesn't need to be your favorite person, but he's still the President of the United States of America. That always deserves respect.\",\n",
       " 'RT @keder: He likes Israel. Unlike Obama. #WhatsRomneyHiding',\n",
       " 'RT @ohgirlphrase: American kid \"You\\'re from the UK? Ohhh cool, So do you have tea with the Queen?\". British kid: \"Do you like, go to Mcdonalds with Obama?',\n",
       " '@edshow #Obama would not have to come out and defend women if #GOP would not do stupid things. #edshow',\n",
       " \"U.S. not backing off as Iran sanctions bite: WASHINGTON (Reuters) - The Obama administration's man in charge of ... http://t.co/GHX5maQk\",\n",
       " \"'Israel should trust Obama to stop Iran nukes' - http://t.co/S8YeopCr\",\n",
       " 'Harry \"Yes, I\\'m secretly Barack Obama.\" Me\" And I\\'m secretly your future wife.\"',\n",
       " '@Nicky2Things always says that Obama=Bush.  I cannot help but wonder what, if anything, is the other thing @Nicky2Things says...',\n",
       " '#ILikeObamacare because its my patriot duty to pay way more, for way less, so that Obama can give away his stash. #p2 #tcot #TeaParty',\n",
       " 'I love sodomy! RT @JoeSixpackSays: @jswoopg76 Under Obama, Beastiality & Sodomy, legalized #sodomy',\n",
       " 'RT @JeffersonObama: So despite 62% Jewish Obama support in latest polls, right winger Michael Barone writes Obama losing Jewish vote  http://t.co/0wNSy7T6',\n",
       " 'barrack hussein obama is a traitor and a hater of freedom.',\n",
       " \"If Jefferson, MLK & JFK were alive, most political experts say theyd vote 4 #RonPaul RT @wcptersn: If Obama were white, he'd be Mitt Romney.\",\n",
       " 'RT @thinkprogress: Romney, who has two Harvard degrees, blasts Obama for spending \"too much time at Harvard.\" http://t.co/avbgNT57 #icymi',\n",
       " 'President Obama ^ Lindsay Lohan RUMORS beginning cross shape lights on ST ^ 1987 Analyst64 DC bicycle courier ^ Video changes to scramble.',\n",
       " 'RT @thinkprogress: Romney, who has two Harvard degrees, blasts Obama for spending \"too much time at Harvard.\" http://t.co/avbgNT57 #icymi',\n",
       " 'RT @rochelledp: #prayersgoup lol RT @_Ciroc_Obama: Mannnnn hope dey pass dat gas cap tax...it could end up makin gas $2.50 a gallon wooo',\n",
       " 'RT @Talkmaster: Oh now I get it. Obama was talking in shorthand and we were just too dumb to understand how smart he really is.  Gagme.',\n",
       " 'RT @markknoller: Saul says Pres Obama \"will do anything\" to distract Americans from his \"failed\" economic record incl unemployment & higher gas prices.\"',\n",
       " \"@AnitaMarks @barackobama @mittromney really? I'd rather know what Obama is hiding with fast &furiius, healthcare & ridiculous policies\",\n",
       " \"#WhatsRomneyHiding: Probably the same shit Obama's hiding. Money, whores, addiction to oxy. Ya know, what most Americans hide.\",\n",
       " 'this man had something bad in his hotchoclateRomney Attacks Obama For Spending Too Much Time At Harvard: http://t.co/SaQa8V5w via @youtube',\n",
       " 'RT @LauraFlyMe: I am worried that Barack Obama is in bed with Iran.We know that he is leaking classified info on Israel plan.He is not on our side or Israel',\n",
       " \"RT @sparrowmedia: Please Share our latest update on the landmark free speech lawsuit against the #NDAA 'Hedges v. Obama' -... http://t.co/GZDMIGVy\",\n",
       " 'RT @LouTommoBum: Michelle Obama invited the boys to her Easter party. l0l',\n",
       " '@TBCDG #WhatsRomneyHiding - OBAMA wants to come out of the closet but Mitt wants to wait until after Elections! #GOP #tcot',\n",
       " 'RT @1DfactsOMG: Los chicos conocieron a Michelle Obama y a sus hijas durante el backstage de los KCA RT si a ti te encantaria casarte con los chicos *-*',\n",
       " \"Hoping this country dosen't get into a serious debate regarding the merits of Mittens vs Obama.I guess we will. #200daywar\",\n",
       " 'RT @DrewMTips: #WhatsRomneyHiding The person who refuses to let Obama be clear',\n",
       " \"@Libertarian_76 Congress will do that, following Paul Ryan's Roadmap. But only if Romney is Pres, so Obama can't veto.\",\n",
       " 'RT @DrewMTips: #WhatsRomneyHiding The person who refuses to let Obama be clear',\n",
       " \"#WhatsRomneyHiding Hmm, probably some ultimate scheme with Obama to steal one of the world's most precious diamonds...just a wild guess.\",\n",
       " '@edshow The President of the United States, Barack Obama, is all that stands between the rights of the 99% & the Party of Koch & Norquist.',\n",
       " 'McCaskill Calls For Obama to Release Day&Half Supply of Oil From SPR via @MOPNS But Biden says oil policy is \"best it\\'s ever been\" #MOsen',\n",
       " 'Why Barack Obama trying to start stuff with our future President? Have some respect for Mitt Romney.',\n",
       " '@seanhannity asking again. Did Obama have some record of drug use?',\n",
       " \"RT @kesgardner: Obama's college records? #whatsromneyhiding\",\n",
       " \"@ericbolling #Hillary's gonna challenge #Obama\",\n",
       " 'Honey trap: Sexy Russian spy cozied up to Obama Cab member. Details at http://t.co/wX1RzFKm #tcot #tlot #tpp #tpn #sgp #sot #withnewt #usaf',\n",
       " 'Wow.... \"@LauraFlyMe: Proved to be true: Obama -The One Video: http://t.co/e1cPbsY0 via @YouTube\"',\n",
       " '#WhatsRomneyHiding the fact that Obama is corrupt',\n",
       " 'Obama needs to not feed into it',\n",
       " 'RealClearPolitics Video - Carney: Obama Not Understood Because He Spoke In \"Shorthand\" Since He Is A Law Professor http://t.co/vbHf1w9e',\n",
       " '#WhatsRomneyHiding ? His REAL feelings about Obama...',\n",
       " 'I liked a @YouTube video http://t.co/MuovhZSc I AM SEXY AND I KNOW IT(Cover By Barack Obama).',\n",
       " 'I heard there is a gay porn titled \"Obama Been Slobbin\" ....now think about who Obama killed in Pakistan',\n",
       " 'RT @TheOnion: Major Obama Donor Accused Of Fraud | \"I hope no one vets me. I donated $5 and one time I stole a bracelet from Target.\" http://t.co/91ecaJAE',\n",
       " 'Arianna Huffington blasting President Obama at any chance and praising GOP. This pic explains things. http://t.co/Ov6I5CoS',\n",
       " \"Obama's transcripts #WhatsRomneyHiding\",\n",
       " 'Obama should talk about the OIL PRODUCTION HE BOOSTED (NONE) NOT THE PROD. BUSH POLICIES & ACTIONS BOOSTED #TCOT #P2 #OCRA #SGP',\n",
       " 'Professor Norgaard Urged Obama To Ignore Democracy, Public Opinion: Paul Joseph Watson Infowars Climate change a... http://t.co/6nWfVOAx',\n",
       " 'RT @edshow: Righties call Pres. Obama a \"thug\" and \"bully\" for comments on health care law hearings. Comment on FB or tweet so we can share on #edshow!',\n",
       " '\"@Drudge_Report: Obama setting up Supreme Court as campaign issue... http://t.co/89tb9uIl\" #NEWSXOOMcom',\n",
       " 'RT @CArepub: We need to tag Obama & define him for Nov battle. #Obama #failedleader #incompetent #wasteful #divisive #desperate #flexible #arrogant #lazy',\n",
       " \"@TheDemocrats I demand to see this alleged Constitutional scholar's college grades. We all know @MittRomney is rich, but is Obama stupid?\",\n",
       " '@therealrc Look at the Barack Obama Chicken Nugget on eBAY. You are not going to believe this.',\n",
       " \"RT @DS_CT: It's a sorry state of affairs when the US President menaces other branches of government. Obama mocks and menaces like governing is sport.\",\n",
       " '\"@LauraFlyMe: Obama\\'s Hidden Past: http://t.co/hRbM9jal via @youtube\"',\n",
       " 'Sharing: http://t.co/ztufxsn1 Czech Press: More is know about the Birth of Jesus a millenia ago than about Obama',\n",
       " 'RT @JeffersonObama: 62% of U.S. Jews would reelect Obama, 4% say Israel is most important issue - Haaretz http://t.co/VhURDtdO http://t.co/gIGmn5kE',\n",
       " \"RT @Professor_Why: #WhatsRomneyHiding - the fact that REAL unemployment is at 19%... Oh wait, that's Obama, not Romney...\",\n",
       " 'RT @OrwellForce: Everything Obama did before the age of 35 #WhatsRomneyHiding',\n",
       " \"How come he's such a dimwit then? http://t.co/S5H0Er1B\",\n",
       " '#KimKardashiansNextBoyFriend Obama',\n",
       " '#NightRyder',\n",
       " '@edshow Pres.Obama is showing respect for women while the #GOP & the ole boys club keeps kicking us in the teeth. Obama 2012 is a no brainer',\n",
       " '#WhatsRomneyHiding is the definition of a social media stunt backfiring. Just sayin, #Obama.',\n",
       " 'Pres Obama sayd \"I cannot wait\" for the \"big important debate\" we are going to have on these issues.',\n",
       " \"RT @NatlWOW: @edshow Pres. Obama understands right from wrong! And doesn't need to flip flop around to get votes! #UniteWomen #edshow\",\n",
       " 'Obama, Romney agree: Admit women to Augusta golf club http://t.co/IMcTUlsH',\n",
       " '@NHLWingsfanKay romney is white obama',\n",
       " '@wolfblitzercnn Wolf  I just seen the HBO documentary hot coffee.I feel so upset, we need four more years of President Obama 1000% certtain',\n",
       " \"Obama's embarrassing photos on Jim Messina to make him work RT @Messina2012: Americans want to know. Trending #1 in US: #WhatsRomneyHiding?\",\n",
       " '@Harry_Styles hi Harry! I know u wont notice this but i just wanna congratulate you on KCA! :) even Michelle Obama likes WMYB!',\n",
       " 'RT @edshow: Righties call Pres. Obama a \"thug\" and \"bully\" for comments on health care law hearings. Comment on FB or tweet so we can share on #edshow!',\n",
       " 'RT @DrewMTips: #WhatsRomneyHiding His relationship with Vera Baker? Damn, that might be Obama too. I suck at this.',\n",
       " \"#WhatsRomneyHiding? His foot in Obama's ass.\",\n",
       " 'RT @edshow: Women at Augusta? Obama says absolutely. Romney hedges. Comment on FB or tweet so we can share on #edshow!',\n",
       " \"historically 2 term presidents do horribly on their second term. so, I haven't been all that eager for obama to serve a 2nd term.. +\",\n",
       " \"RT @JohnSMackenzie: @jimcramer Bush TARP bailout (hated) = Taxpayer moneymaker. Obama solar company bailouts (not as hated) = taxpayer loss! What's wrong here?\",\n",
       " 'Obama has called the GOP budget social Darwinism. Nice try, but they believe in social creationism.',\n",
       " 'In his teen years, Obama has been known to use marijuana and cocaine.',\n",
       " \"RT @SamValley: #WhatsRomneyHiding Blueprints on how conservatives destroy Obama's lame attempts to launch hashtags.\",\n",
       " 'RT @sugarscape: Ooh an older lady crush for One Direction - but not Harry Styles? HAS THE WORLD GONE MAD? http://t.co/BFzSh3iz',\n",
       " 'RT @DrewMTips: #WhatsRomneyHiding The person who refuses to let Obama be clear',\n",
       " 'You know things are going bad for the #GOP when they have to resort to calling Obama a communist. THere has to be a corollary of Godwins law',\n",
       " '@BarackObama What is #Obama hiding? Fake Birth Certificate... Vote Ron #Paul...',\n",
       " 'RT @LouTommoBum: Michelle Obama invited the boys to her Easter party. l0l',\n",
       " 'RT @OrwellForce: Everything Obama did before the age of 35 #WhatsRomneyHiding',\n",
       " 'RT @RightWay2: #Romney is right #Obama should STOP LYING ABOUT 4 million new jobs NOT CREATED  Killing AMERICAN CITIZENS  ,HC FRAUD #GOP #DEM #p2',\n",
       " 'Obama signs JOBS Act to boost startup firms - http://t.co/TFuPTCwT',\n",
       " \"RT @Habibaty_Souria: I don't even believe there is any good in humanity anymore. \",\n",
       " '#Syria #Hama #Homs #Assad #UN #NATO #Obama',\n",
       " 'Pres. Obama signs STOCK act into law. Credit where credit is due. Thank you. http://t.co/42Ak8yAq',\n",
       " \"Why did Michelle & Barack Obama become like celebrities? -.- I can't take them seriously now. haha\",\n",
       " \"The President Obama Who is He? Osama Ben Laden Maybe - Let's Roll Forums: http://t.co/5DLIc25x @letsrollforums\",\n",
       " \"RT @DrewMTips: #WhatsRomneyHiding His association with convicted felon Tony Rezko and domestic terrorist Bill Ayers. Wait, that's Obama.\",\n",
       " '#WhatsRomneyHiding Obama underwears',\n",
       " '#newbedon 4/6/2012 4:23:05 AM Obama Wins Landslide Presidential Election...With Online Gamers http://t.co/CNjhBxVM',\n",
       " \"Obama's Pretzel Logic: Based on this understanding, any program that puts money into the pockets of the average ... http://t.co/14GbcXGO\",\n",
       " 'please USA dont deserve Presiden OBAMA 4 years more!',\n",
       " 'RT @ohgirlphrase: American kid \"You\\'re from the UK? Ohhh cool, So do you have tea with the Queen?\". British kid: \"Do you like, go to Mcdonalds with Obama?',\n",
       " \"Obama's Budget: 'Interest Payments Will Exceed Defense Budget' in 2019 http://t.co/oSLQ94QM and he bashes Ryan's budget.\",\n",
       " 'RT @LouTommoBum: Michelle Obama invited the boys to her Easter party. l0l',\n",
       " '#WhatsRomneyHiding - He and OBAMA are secret lovers and want to get married! #GOP #tcot',\n",
       " \"#WhatsRomneyHiding Obama's talking points are already stale. He has 0 positive accomplishments 2 run on so It's character assassination time\",\n",
       " '@MittRomney, are you really going to take #WhatsRomneyHiding from Obama? #WhatsBarackHiding is the real question',\n",
       " 'RT @markknoller: Obama Campaign seizing on Washington Post report on Mitt Romney not disclosing certain details of his income & assets.  http://t.co/zneCZUTo',\n",
       " 'RT @handrewschwartz: Ignatius reports Obama signaled Iran US wld accept civ nuke pgm if Khameni can assure Iran will never get nuke weapons http://t.co/KkaAhGPq',\n",
       " 'RT @kombiz: http://t.co/ld3uspIs - this is such a great image .. the difference between Romney and Obama',\n",
       " 'RT @ronpaulrca2012: #Obama FactChecked -- http://t.co/oohsPWzs #Obama2012 #P2 #TopProg #TeaParty #Gop #Gop2012 #Republican #POTUS #Politics #Election2012 #tcot',\n",
       " 'Da hora,,, http://t.co/xluoi3GU',\n",
       " 'RT @ohgirlphrase: American kid \"You\\'re from the UK? Ohhh cool, So do you have tea with the Queen?\". British kid: \"Do you like, go to Mcdonalds with Obama?',\n",
       " 'Obama prepara a Estados Unidos para una nueva guerra http://t.co/SGo5zdHy',\n",
       " \"Obama Cozies Up With Egypt's Anti-Western Islamists\",\n",
       " 'http://t.co/XzRRCVaP #tcot',\n",
       " \"Wow the #WhatsRomneyHiding hashtag turned into something pretty pointless. I got excited for nothing. Oh, well. Team Obama let's go! ;)\",\n",
       " 'RT @betseyross: Obama Misquotes Bible on Wealth Redistribution http://t.co/s4XUUW1h Alinskyites r machiavellians not ideologues #tcot #p2 #consnc',\n",
       " \"#WhatsObamaHiding A list of Obama's broken promises. @Messina2012\",\n",
       " 'We need to tag Obama & define him for Nov battle. #Obama #failedleader #incompetent #wasteful #divisive #desperate #flexible #arrogant #lazy',\n",
       " 'The actual Barack Obama Campaign And its particular Impact on Future Elections - Other: Sarah Palin, was seeking... http://t.co/pbY99uec',\n",
       " 'Lies the Truth: Obama As Dunce - (John Hinderaker) Pretty much everyone is piling on President Obama in connection w... http://t.co/vQ7vnrdC',\n",
       " 'White House Wants YOU To Participate In The State Of The Union Address http://t.co/mWVRGqf8 #SOTU #obama',\n",
       " '@cardinal623:#edshow Great Obama Presentation (for Women)!!',\n",
       " 'Everything Obama did before the age of 35 #WhatsRomneyHiding',\n",
       " '@Lorebsponge es que no soy lo mejor del word, esta Ghandi, Obama aunque mande misiles a esos lados y tal, son premios Nobeles en la paz.. x)',\n",
       " '@edshow if Obama is a \"thug\" for healthcare, then George W. Bush is a criminal mastermind for war.',\n",
       " \"RT @Habibaty_Souria: I don't even believe there is any good in humanity anymore. \",\n",
       " '#Syria #Hama #Homs #Assad #UN #NATO #Obama',\n",
       " \"RT @wilycyotee: Pres. Obama's ongoing support of women is another reason I am so proud he is my President!  @edshow #Obama2012\",\n",
       " \"Who the fuck cares about Obama? Presidents have never directly effected me so I really couldn't care fucking less.\",\n",
       " 'RT @markknoller: Obama Campaign seizing on Washington Post report on Mitt Romney not disclosing certain details of his income & assets.  http://t.co/zneCZUTo',\n",
       " 'Cool democrat rap shirt \"OBAMA SAYS KNOCK YOU OUT\" -- http://t.co/PUZRq7HU ---- #lazymansmall #obama #Democrats #whitehouse #screwytees',\n",
       " \"RT @BelleInABow: Obama doesn't need to be your favorite person, but he's still the President of the United States of America. That always deserves respect.\",\n",
       " \"RT @kesgardner: Obama's college records? #whatsromneyhiding\",\n",
       " \"@TPO_Hisself @barackobama people laugh but don't belive I'm really talking 2 obama but i am; not my fault if he's not listening, it's his\",\n",
       " 'Speaking of the constitution, if you vote for hussein obama again you should be tried and found guilty of treason against your country j ...',\n",
       " 'FULLERTON HAS A SUMMER INTERNSHIP AT THE WHITE HOUSE WHAT IF I GET TO MEET OBAMA',\n",
       " 'Small Biz News Obama to sign bill to help companies go public http://t.co/v68EEZhl',\n",
       " \"RT @Lever_OFA_NH: Obama's Organizational Advantage on Full Display in N.H. http://t.co/ntzCSGeW\",\n",
       " \"@Obama2012 @truthteam2012 @gop truth is Obama no budget trillions in debt high gas price inflation weak dollar no jobs Can't run on record\",\n",
       " \"RT @TCOTvideos: Obama's snafu over Supreme Court's job duties give hint as to why he has locked all his college transcripts in Fort Knox. #TCOT\",\n",
       " 'RT @drecrumbs: Obama being all direct!! \"@BarackObama: So what\\'s Romney hiding? Tweet @MittRomney to demand he release his tax returns. #WhatsRomneyHiding\"',\n",
       " 'RT @DrewMTips: #WhatsRomneyHiding The person who refuses to let Obama be clear',\n",
       " 'Jesse Jackson Meltdown on Live TV - Insults Obama With Crude Remarks: http://t.co/g5qKE6RS via @youtube',\n",
       " 'RT @edshow: Righties call Pres. Obama a \"thug\" and \"bully\" for comments on health care law hearings. Comment on FB or tweet so we can share on #edshow!',\n",
       " 'Small Biz News Obama to sign bill to help companies go public http://t.co/w8RSgU6t',\n",
       " \"U.S. not backing off as Iran sanctions bite - WASHINGTON (Reuters) - The Obama administration's man in charge of squ... http://t.co/asaEviZ5\",\n",
       " 'RT @VRWCTexan: FACT: Obama swore an oath to \"Preserve, Protect & Defend the Constitution of the United States\" (NOT pick & choose at his OWN whim) #TCOT',\n",
       " 'Think About It - Top Secret Obama 2012 World War 3 Illuminati Antichrist Conspiracy!: http://t.co/iqg1xarL via @youtube',\n",
       " \"#WhatsRomneyHiding He is Obama's half brother.\",\n",
       " 'Michelle Obama invited the boys to her Easter party. l0l',\n",
       " 'RT @ohgirlphrase: American kid \"You\\'re from the UK? Ohhh cool, So do you have tea with the Queen?\". British kid: \"Do you like, go to Mcdonalds with Obama?',\n",
       " 'During the DNC convention later this summer in Charlotte, N.C. there will be an extreme heat wave. All that hot air from speakers & Obama.',\n",
       " 'Obama Reveals How to Get National Unemployment Rate to 6% http://t.co/qHrUeEoO',\n",
       " \"@erockradio you're right! Blame Obama, he could do something if he wanted to. Like open up Alaska for drilling maybe green light a refinery\",\n",
       " 'RT @edshow: Women at Augusta? Obama says absolutely. Romney hedges. Comment on FB or tweet so we can share on #edshow!',\n",
       " '#WhatsRomneyHiding The person who refuses to let Obama be clear',\n",
       " \"RT @ZekeJMiller: Obama campaign launches #WhatsRomneyHiding campaign on Romney's tax returns featuring a @Messina2012 tweet.\",\n",
       " \"RT @kesgardner: Obama's college records? #whatsromneyhiding\",\n",
       " 'RT @ohgirlphrase: American kid \"You\\'re from the UK? Ohhh cool, So do you have tea with the Queen?\". British kid: \"Do you like, go to Mcdonalds with Obama?',\n",
       " '@MalikFloyd Looks like Barack Obama in your twitcon, Lol Vute though &lt;3',\n",
       " 'Obama Recycles Speeches  VIDS TO VIEW  http://t.co/NU1LDv2R via @WestJournalism',\n",
       " \"RT @SexeadaPor1D: En el backstage de los KCA's, Harry le pregunto a Michelle Obama como hacia para ordenar pizza desde la Casa Blanca.\",\n",
       " \"Obama's old girlfriends #WhatsRomneyHiding\",\n",
       " \"This is cool @Ludacris Is cheezin' big here with Obama http://t.co/EmIhIKWh\",\n",
       " 'why does everyone hate on obama?',\n",
       " 'RT @CAWright77: Anyone else notice how Obama runs his flaps on a subject, disappears, then his cronies take over?  #wimp',\n",
       " \"@Mamadoxie We'll just have to channel that anger and focus on defeating Obama in November.  No time for whiny and pouting!\",\n",
       " 'Very strange. As soon as I volunteered online for the Obama campaign, 2 Republican Party tweeters started following me. Both from SC. Leak?',\n",
       " 'Obama Misquotes Bible on Wealth Redistribution http://t.co/s4XUUW1h Alinskyites r machiavellians not ideologues #tcot #p2 #consnc',\n",
       " 'Obama has called the GOP budget social Darwinism. Nice try, but they believe in social creationism.',\n",
       " 'In his teen years, Obama has been known to use marijuana and cocaine.',\n",
       " 'Democrats & EPA move to destroy US coal industry http://t.co/NFOS1n9d @ClaireCMC @KayHagan @MarkWarner @SenJimDeMint @MarcoRubio @RandPaul',\n",
       " 'The actual Barack Obama Campaign And its particular Impact on Future Elections - Other: Sarah Palin, was seeking... http://t.co/NDp6dISb',\n",
       " 'RT @OrwellForce: Pictures of Obama and Larry Sinclair #WhatsRomneyHiding',\n",
       " \"RT @kesgardner: Obama's college records? #whatsromneyhiding\",\n",
       " 'RT @AlinskyDefeater: RT If you pledge to vote against Obama in 2012 in an effort to make sure he loses all 57 states. #ocra #tcot #teaparty',\n",
       " \"Barack Obama's BBQ 2011: http://t.co/tA8pGNuA via @youtube\",\n",
       " '@Devils_for_Life lol No Obama is :)',\n",
       " 'Obama signs small-business legislation http://t.co/w4gUGJIG via @nbcpolitics',\n",
       " \"RT @HarryFacts1D: ''Harry Styles describe a Michelle Obama como una mujer muy atractiva.'' OBAMA ESCONDE A TU ESPOSA Y A TUS HIJOS, STYLES VIENE EN CAMINO.\",\n",
       " 'RT @fredthompson: In VT, Obama said he supports \"value\" that \"I am my brother\\'s keeper.\" In that case - brother, you\\'re spending too much of our money. #tcot',\n",
       " \"RT @tweetslikeagirl: #WhatsRomneyHiding His college records... Oh, wait that's Obama.\",\n",
       " 'RT @anna12061: Obama Birth Certificate: Anthony Bucco, New Jersey Legislator, Says Issue Unresolved http://t.co/uMDAWA7X via @HuffingtonPost',\n",
       " 'RT @markknoller: AT a campaign fundraiser tonight, Pres. Obama again denounced Mitt Romney by name for his support of the House-passed GOP Budget.',\n",
       " 'Obama verses the court | Conservative Byte http://t.co/uOkvibi8',\n",
       " \"RT @ParadigmForce: DOJ Issues Letter Clarifying Obama's Remarks: Court's Power to Strike Down Laws 'Beyond Dispute' http://t.co/XelcRaLT via @theblaze mm\",\n",
       " 'RT @markknoller: AT a campaign fundraiser tonight, Pres. Obama again denounced Mitt Romney by name for his support of the House-passed GOP Budget.',\n",
       " 'Cloward Piven strategy for capitalist collapse describes Obama eerily well #independents #gop #topprog http://t.co/DbYlHcSh',\n",
       " \"RT @djtechchicago: Obama's birth certificate. #WhatsRomneyHiding\",\n",
       " \"Google stats tell me 223 Americans Who Hate Obama read my blog yesterday. I don't believe it, but if you did visit, AWHOs, don't do it again\",\n",
       " 'Pres Obama slammed Romney for embracing a budget that supports a few doing well at the top, everyone else struggling to get by.',\n",
       " 'Obama\\'s Osawatomie Speech: \"The United States of America has never worked\" http://t.co/qwIsdV2n #tcot #debt #citizensunited #teaparty',\n",
       " 'http://t.co/pS9fQaaL idk. does Obama give Muslim terrorists a pass?',\n",
       " 'RT @psema4: RT @PiratePartyGa: Tell Obama And Dodd: No Backroom Dealing, No New SOPA http://t... http://t.co/I004oH6s #GFW #FuckGFW #VPN',\n",
       " 'Oust Obama - Oust Obama 2012: http://t.co/avHENxrg via @AddThis',\n",
       " \"RT @nprnews: Obama's Signing Of JOBS Act Likely Won't Dim GOP Charge He's Anti-Jobs http://t.co/4LtEJRbL\",\n",
       " 'i aint hear about obama on the news yet . the hell he doing .',\n",
       " \"I don't even believe there is any good in humanity anymore. \",\n",
       " '#Syria #Hama #Homs #Assad #UN #NATO #Obama',\n",
       " '@TheDemocrats @MittRomney   Just as soon as obama releases ALL his records.',\n",
       " \"Obama's college transcripts #WhatsRomneyHiding\",\n",
       " 'RT @AIsForOrg: How Obama Can Win With Women http://t.co/l5Z9C1L7',\n",
       " 'Wingnut Judges Get Two Single-Spaced Pages From Obama, Not Three http://t.co/goZv1VU1 via @motherjones',\n",
       " 'RT @markknoller: AT a campaign fundraiser tonight, Pres. Obama again denounced Mitt Romney by name for his support of the House-passed GOP Budget.',\n",
       " 'Get your FFL license now before Obama starts messing with your gun rights. http://t.co/YtzeLXMt',\n",
       " 'RT @psema4: RT @PiratePartyGa: Tell Obama And Dodd: No Backroom Dealing, No New SOPA http://t... http://t.co/Su79rpyv #GFW #FuckGFW #VPN',\n",
       " 'Everyone hatin on obama here at work....',\n",
       " 'Righties call Pres. Obama a \"thug\" and \"bully\" for comments on health care law hearings. Comment on FB or tweet so we can share on #edshow!',\n",
       " \"By the way, it's PRESIDENT Obama. RT @wcptersn: If Obama were white, he'd be Mitt Romney.\",\n",
       " 'RT @AlinskyDefeater: RT If you pledge to vote against Obama in 2012 in an effort to make sure he loses all 57 states. #ocra #tcot #teaparty',\n",
       " \"RT @CBrielle5: Obama a goon lol RT @BarackObama: So what's Romney hiding? Tweet @MittRomney to demand he release his tax returns. #WhatsRomneyHiding\",\n",
       " \"RT @A_Khanivore: He's half white, so is he half Mitt Romney? RT @wcptersn: If Obama were white, he'd be Mitt Romney.\",\n",
       " 'RT @BORNCURIOUS: Thanx to GW/Obama Patriot Act, every phone call,e mail,web site can be recorded by Feds w/o showing any cause or suspicion',\n",
       " 'O Barak Obama apresentou hoje o Jornal Nacional...',\n",
       " '@meganagerton Bobby P tells Obama what to do, Megan',\n",
       " \"@daanxyelll That's very mature. I'm sure Obama would love you propogating that term.\",\n",
       " 'RT @Drudge_Report: LIMBAUGH: Obama Puts Out Figurative Bounty on Supreme Court... http://t.co/Z552mkRl',\n",
       " 'Hatch Makes Startling Accusation Against Obama http://t.co/HVQfUzgr ..shocking headline...NOT&gt;',\n",
       " 'RT @ItsLoopzProd: LOOOOOOOOOOOOOOOOOOOOOOOOOOOOL This is why i rate obama http://t.co/vsOYFhSa',\n",
       " \"RT @rovibe71: FINALLY - A former Obama law student speaks out -- and he can't believe the crap spewing from O's mouth, either: http://t.co/GLopiyOC\",\n",
       " \"@taylorswift13 0ne more,I don't get awestruck much&WE would be some amazing places,but TPie in the whitehouse,Mmm :-)  http://t.co/1RimJk0Z\",\n",
       " 'Obama on Constitutional Law: Did He Lie or Is He Just Ignorant? http://t.co/H1YRpYlV',\n",
       " 'Obama Sets Table To Ridicule GOP As US Military Secretly Using Algae Fuel In Naval Ships & Secret Army Airships http://t.co/zkUbbBVN',\n",
       " 'RT @MarcACaputo: \"Jewbags\" flap exposes rift in Barack Obama-Debbie Wasserman Schultz World http://t.co/7ZpGu5YT',\n",
       " 'Anyone else notice how Obama runs his flaps on a subject, disappears, then his cronies take over?  #wimp',\n",
       " \"U.S. not backing off as Iran sanctions bite - WASHINGTON (Reuters) - The Obama administration's man in charge of squ... http://t.co/ONKneI5X\",\n",
       " \"RT @kesgardner: Obama's college records? #whatsromneyhiding\",\n",
       " 'RT @informedblackmn: No wonder Obama hasn\\'t made sense to me lately. I cannot get a handle on super-smart-law-professor jargon.  Example: \"uh....um...uh...um....',\n",
       " 'RT @JeffersonObama: 62% of U.S. Jews would reelect Obama, 4% say Israel is most important issue - Haaretz http://t.co/VhURDtdO http://t.co/gIGmn5kE',\n",
       " 'DAYMN OBAMA TWEETED ROMNEY #SHITGOTREAL',\n",
       " '@MittRomney Yes, we all have weaknesses, but it seems as if your whole plan is to attack Obama.',\n",
       " \"RT @kesgardner: Obama's college records? #whatsromneyhiding\",\n",
       " 'RT @TPO_Hisself: Obama Wants Our Vets to Pay for Their War Injuries, but Illegal Immigrants Get Free Medical Care!  http://t.co/pKDwxfGK',\n",
       " \"RT @A_Khanivore: This just pissed me the hell off. RT @wcptersn: If Obama were white, he'd be Mitt Romney.\",\n",
       " 'RT @commondreams: Obama Signs \"Fraud-Friendly\" JOBS Act into Law http://t.co/2gnXDo0f',\n",
       " 'RT @pourmecoffee: White House Easter Egg Roll is Monday. Obama redistributing eggs. #socialism',\n",
       " \"@funkmasterflex Kinda remind me of Obama's citizenship certificate :P\",\n",
       " 'Obama se opone al \"sexismo en el golf\" en el Augusta National http://t.co/qSyEjCZR',\n",
       " 'RT @JeffersonObama: 62% of U.S. Jews would reelect Obama, 4% say Israel is most important issue - Haaretz http://t.co/VhURDtdO http://t.co/gIGmn5kE',\n",
       " 'RT @blakehounshell: From Ignatius: \"U.S. officials hope [Putin] can broker a Syria deal before he meets Obama at the G-8 summit next month.\"',\n",
       " \"RT @kesgardner: Obama's college records? #whatsromneyhiding\",\n",
       " '@PAC43 Thats the problem...there is no clean end to an Obama supporter. One side is Poop, and the other side is pure crap...',\n",
       " 'RT @PAC43: Reforming an Obama supporter is like trying to pick up poop by its clean end',\n",
       " \"#WhatisRomneyHiding he's not Barack Obama. #WhatsObamaHiding he wants to run on anyone but his own record.\",\n",
       " \"RT @baseballcrank: #WhatsRomneyHiding Obama's State Senate records\",\n",
       " '@edshow: Obama is the only one standing up for WOMEN #edshow!',\n",
       " '@edshow Mr Schultz I just seen the HBO documentary hot coffee.I feel so upset,  we need four more  years of President  Obama 1000% certtain!',\n",
       " 'How can FoxNews asked the question, \"Is Obama using intimidation tactics toward the Supreme Court?\"  It\\'s (cont) http://t.co/BnBgHZx0',\n",
       " \"RT @baseballcrank: #WhatsRomneyHiding Obama's State Senate records\",\n",
       " \"THIS RT @baseballcrank  #WhatsRomneyHiding Obama's State Senate records\",\n",
       " '@markknoller so when is Obama going to do the same.',\n",
       " '@edshow Obama is the only one representing women!!!',\n",
       " 'Obama Administration Delivers Letter to 5th Circuit Court of Appeals  http://t.co/mU1aHVLs via @AddThis',\n",
       " 'RT @ohgirlphrase: American kid \"You\\'re from the UK? Ohhh cool, So do you have tea with the Queen?\". British kid: \"Do you like, go to Mcdonalds with Obama?',\n",
       " \"@Messina2012 because of people making fun of the intense irony of the ultra-secretive obama asking what romney's hiding.\",\n",
       " 'RT @Spidyy32: Obama gotta Portugeese Water Dog (:',\n",
       " \"I wonder who'd win in a footrace, Barack Obama or Mitt Romney...stereotypes tell me Bam...but those things aren't very reliable are they\",\n",
       " \"RT @schwingcat: That his campaign disabled credit card verification on his online donation site #WhatsRomneyHiding #OhWait,that's Obama http://t.co/3fgWm3n4\",\n",
       " '@djtechchicago I see. Hmm, need a good #obama hash tag...',\n",
       " 'Obama entrando en Skateboard y que si es real http://t.co/Sm9s2o9i LIKE A BOSS',\n",
       " \"@DanMoffTarkin Yeah. Even though he's like an honest Obama in his policies.\",\n",
       " 'Ngakak bahhh.. Obama nyanyi sexy and i know it ama bornthisway... Akakakaka',\n",
       " 'Obama has called the GOP budget social Darwinism. Nice try, but they believe in social creationism.',\n",
       " 'In his teen years, Obama has been known to use marijuana and cocaine.',\n",
       " '@djtechchicago I see. Hmm, need a good #obama hash tag...',\n",
       " 'Obama entrando en Skateboard y que si es real http://t.co/Sm9s2o9i LIKE A BOSS',\n",
       " \"@DanMoffTarkin Yeah. Even though he's like an honest Obama in his policies.\",\n",
       " 'Ngakak bahhh.. Obama nyanyi sexy and i know it ama bornthisway... Akakakaka',\n",
       " 'Obama 2013 Budget Proposal: Bringing Down the Deficit and Turning Around the Economy By Raising Taxes and ... http://t.co/OSb2gr3f',\n",
       " 'High Gas Prices Drive Suburbanites Into #blueCity areas As Obama Plan Soars...Communal Living http://t.co/u0GrbKfi #redstate #GA #sprawl',\n",
       " '@BrianBrownNet: Exposing the Obama-Soetoro deception - ',\n",
       " 'Obama eligibility, birth... http://t.co/j9IJJsL5',\n",
       " \"It's Tax Time: Is It Also a Time to Occupy the IRS?: This April, send a message to President Obama, It's Time to... http://t.co/ab54HUve\",\n",
       " '@tajan1 @messina2012 @lilrascal01 hiding his money from that lying cheating, baby killing Obama!',\n",
       " '@TrackVeteran: Im the Obama of #TrackNation',\n",
       " 'RT @blakehounshell: From Ignatius: \"U.S. officials hope [Putin] can broker a Syria deal before he meets Obama at the G-8 summit next month.\"',\n",
       " 'Obama needs remedial course in judicial review.Read at http://t.co/wX1RzFKm #twisters #tcot #tpp #sgp #tlot #vettheprez #lnyhbt #withnewt',\n",
       " \"In 2004, he released his autobiography My Life, and was involved in his wife's and then Barack Obama's campaigns for president in 2008\",\n",
       " 'RT @fredthompson: In VT, Obama said he supports \"value\" that \"I am my brother\\'s keeper.\" In that case - brother, you\\'re spending too much of our money. #tcot',\n",
       " 'RT @markknoller: Obama Campaign says Romney should make public 23 years of tax returns so Americans can assess any conflicts of interest.',\n",
       " \"Obama's college records? #whatsromneyhiding\",\n",
       " \"RT @therightsarah: #WhatsRomneyHiding a bloody plan to put guns in cartel hands to force stricter gun laws on Americans? Nope. That's Obama. #FastAndFurious\",\n",
       " '@VoteHillary2012 @TheRealRoseanne Is Hillary running 4 Pres? We need 2 know. Tell her she will win this time. Fed up with B.S. @ obama!!',\n",
       " 'President signs a bipartisan bill to help small business startups. @ASBA  http://t.co/qUWT4WOL',\n",
       " '@markknoller Then @obama should release all of the financial documents from all of his street-organizing organizations!',\n",
       " 'RT @WhatTheFFacts: In his teen years, Obama has been known to use marijuana and cocaine.',\n",
       " '@oreilly_updates Had to turn off OReilly again tonight. When he starts slobbering over Obama w/his \"I want to be fair to the president\" BS.',\n",
       " 'Time has come. #Anonymous #Revolution #2012 - http://t.co/3qzdFw1C #Occupy #OWS #Obama #RonPaul #TheAnonMessage http://t.co/Pu73AOEV',\n",
       " 'RT @Stewart7Donna: Checking out \"Obama Puts Heat on Fox News to Prevent Hannity from Airing this \" on Constitutional Emergency: http://t.co/XwY62sep',\n",
       " 'RT @gardenofthegods: Think the #GOP is engaged in a \"War on Women\"? Why is #Obama meeting with Women\\'s worst enemy the Muslim Bro. tomorrow at OUR whitehouse?',\n",
       " 'RT @ohgirlphrase: American kid \"You\\'re from the UK? Ohhh cool, So do you have tea with the Queen?\". British kid: \"Do you like, go to Mcdonalds with Obama?',\n",
       " 'RT @JeffersonObama 62% of U.S. Jews would reelect Obama, 4% say Israel is most important issue - http://t.co/H2ZSl5ro http://t.co/NTDdbMbj',\n",
       " 'RT @GlobalGrind: Picture Perfect! Jay, Barack, Bey & Michelle are perfectly posed..photos &gt;&gt; http://t.co/XpXJJp9c',\n",
       " 'RT @markknoller: AT a campaign fundraiser tonight, Pres. Obama again denounced Mitt Romney by name for his support of the House-passed GOP Budget.',\n",
       " '#whatsromneyhiding is his plan to kick obama and his pack of liberal stooges out of DC',\n",
       " 'http://t.co/oLxGUJE0 Whats with Obama and his pitching, looks like a girl!',\n",
       " 'President Obama * Lindsay Lohan * USA Intel public scams * Press 2007 pissed off Analyt64  = DC courier type magnet on USA White House.',\n",
       " '@keder not to start an argument but when did Obama disrespect religious freedom?',\n",
       " 'Michelle Obama being in on the heist (not even really being married to Barack) is the icing in on the cake!',\n",
       " '@markknoller @obama should release all of his transcripts from all of the colleges he attended.',\n",
       " 'RT @pourmecoffee: White House Easter Egg Roll is Monday. Obama redistributing eggs. #socialism',\n",
       " \"Priceless. Cons take over lame Obama hashtag #whatsRomneyHiding, Obamabots claim America wants to know because it's trending. So much stupid\",\n",
       " \"RT @roobishimmer: #WhatsRomneyHiding Obama released his tax returns since 2000, where are Romney's?\",\n",
       " 'RT @JeffersonObama: 62% of U.S. Jews would reelect Obama, 4% say Israel is most important issue - Haaretz http://t.co/VhURDtdO http://t.co/gIGmn5kE',\n",
       " 'RT @truthout: Background on ex-CIA officer John Kiriakou, who Obama admin just indicted 4 allegedly leaking info re: torture program http://t.co/ySzwNRxV',\n",
       " \"RT @BelleInABow: Obama doesn't need to be your favorite person, but he's still the President of the United States of America. That always deserves respect.\",\n",
       " \"[cbs-eve] Video: WH concedes Court's power to kill health care law: The Obama Administration conceded that the S... http://t.co/0TPBphCt\",\n",
       " \"Barack Obama, because nothing spells 'champion of the middle class' like $5.00 gas! Go economy!\",\n",
       " \"This just pissed me the hell off. RT @wcptersn: If Obama were white, he'd be Mitt Romney.\",\n",
       " 'Holder delivers three-page letter to judge over Obama comments | The Raw Story: http://t.co/MuLmPaB2 via @AddThis',\n",
       " \"Obama's Budget: 'Interest Payments Will Exceed Defense Budget' in 2019 | The Weekly Standard\",\n",
       " 'http://t.co/j84POPPR',\n",
       " '@Deltagirl1326 @MissusPowell @sevenlayercake You dont really believe that Obama is a Socialist in the way you inferred? O believes in all..',\n",
       " \"RT @NatlWOW: @edshow Pres. Obama understands right from wrong! And doesn't need to flip flop around to get votes! #UniteWomen #edshow\",\n",
       " 'RT @handrewschwartz: Ignatius reports Obama signaled Iran US wld accept civ nuke pgm if Khameni can assure Iran will never get nuke weapons http://t.co/KkaAhGPq',\n",
       " 'IM QUITE POSITIVE OBAMA WANTS TO GET INSIDE MY PANTS. IM SURE OF IT, I AM SO IMPORTANT IN THE SCHEMA. IM A... http://t.co/8UxiTXT9',\n",
       " 'Opinion Romney-Obama - a contrast in style http://t.co/oZUoyoNN',\n",
       " \"@mbenzgt I'm glad you can read, yes I did blame bush. That's cool I'm not Obama.\",\n",
       " 'RT @Salon: Very important for Obama to do him job',\n",
       " \".@Notintheface1 I thought it was more, describe Obama, but instead of using Obama's qualities, list his own. Then hope nobody noticed.\",\n",
       " 'RT @gardenofthegods: Think the #GOP is engaged in a \"War on Women\"? Why is #Obama meeting with Women\\'s worst enemy the Muslim Bro. tomorrow at OUR whitehouse?',\n",
       " 'I am worried that Barack Obama is in bed with Iran.We know that he is leaking classified info on Israel plan.He is not on our side or Israel',\n",
       " \"#WhatsRomneyHiding Obama's State Senate records\",\n",
       " \"I'm on the phone with my mom and said I'm on Busch waiting for the bus and she goes on your going to Obama next. LMFAO so lame.\",\n",
       " \"RT @Professor_Why: #WhatsRomneyHiding - his plan to push bad loans through for Green energy just to see 'em go bankrupt... Oops, that's Obama again!\",\n",
       " \"RT @BORNCURIOUS: The Taliban wins when 2 consecutive arrogant,contemptuos POTUS's (GW & Obama) can strip our freedoms away with a signature\",\n",
       " 'RT @blakehounshell: From Ignatius: \"U.S. officials hope [Putin] can broker a Syria deal before he meets Obama at the G-8 summit next month.\"',\n",
       " 'They put Obama in  Hoodie Lol.',\n",
       " \"Obama has a twitter?! Lol I swear he's a thug!\",\n",
       " \"Pres. Obama's ongoing support of women is another reason I am so proud he is my President!  @edshow #Obama2012\",\n",
       " 'RT @handrewschwartz: Ignatius reports Obama signaled Iran US wld accept civ nuke pgm if Khameni can assure Iran will never get nuke weapons http://t.co/KkaAhGPq',\n",
       " 'RT @robertcobrien: @jameshohmann: Bill Kristol, WSJ Ed. Bd. & NRO all call on #Santorum to leave race, so that GOP can focus on Obama. @Norsu2 @AudreyLPerry',\n",
       " 'NBC sucks...NBC Accuses Federal Judge of Bringing Politics Into Courtroom By Questioning Obama | Media Research Center http://t.co/2GG53ZII',\n",
       " 'Obama Next.....LMAO http://t.co/eEqWimgY',\n",
       " 'RT @derekahunter: I like how Obama asks \"#WhatsRomneyHiding?\" My guess, Obama\\'s crappy college transcripts. #WhatsObamaSmoking? #Caring #p2 @Messina2012',\n",
       " '@alexaforman Obama in Boca!? #saywhatttt',\n",
       " \"@gretawire Obama's not fooling anyone with a brain about what he's up 2. We all know he's brown nosing them 4 votes. Wine n' Dine stuff!\",\n",
       " 'AT a campaign fundraiser tonight, Pres. Obama again denounced Mitt Romney by name for his support of the House-passed GOP Budget.',\n",
       " 'ACA Can Live Even If Insurance Mandate Dies: http://t.co/MhF1hyPC',\n",
       " 'RT @MrPartisan: #WhatsRomneyHiding How he told AIPAC he\\'d \"have Israel\\'s back\" in dealing with Iran, then backtracked. No, wait. That was Obama.',\n",
       " \"He's half white, so is he half Mitt Romney? RT @wcptersn: If Obama were white, he'd be Mitt Romney.\",\n",
       " \"RT @blakehounshell: RT @justinwolfers: Private payrolls fell -913k over W's first term; rose +267k over his second term. Obama on track to do better than both.\",\n",
       " 'Obama signs jobs bill in a win for startup companies http://t.co/w77vkYru',\n",
       " \"RT @BelleInABow: Obama doesn't need to be your favorite person, but he's still the President of the United States of America. That always deserves respect.\",\n",
       " 'Romney attacks Obama while barnstorming through Pennsylvania http://t.co/I4J3Q5uG',\n",
       " 'RT @PamMcAllister: How about we give him a decent Congress and then \"push\"? RT @maryfranholm @edwardvirtually Obama will move left only if we push him.',\n",
       " 'http://t.co/nAESlKQ9',\n",
       " 'he nottt sliccck , tried to get at my boy obama .',\n",
       " '#WhatsRomneyHiding Obama putting him out there lol. Damn Obama on some twitter beef',\n",
       " 'Foot job act -  Obama assinou hj :-p',\n",
       " 'RT @JoiningForces: Photo of the Day: First Lady Michelle Obama greets a #WoundedWarrior @ Walter Reed in #Bethesda: http://t.co/IwG56RDK',\n",
       " '@ErskineGrier Racism in punishwork for Obama and in penalty against NOLA Saints, the chocolate city.',\n",
       " 'RT @ohgirlphrase: American kid \"You\\'re from the UK? Ohhh cool, So do you have tea with the Queen?\". British kid: \"Do you like, go to Mcdonalds with Obama?',\n",
       " \"BO's college records?RT @markknoller: Obama Campaign says Romney should make public 23 years of tax (cont) http://t.co/G2bb5AIS\",\n",
       " 'RT @BORNCURIOUS: For over 200 years in our great country we were protected by our founders from illegal search & seizure & now under 2 men (obama & GW)KAPUT',\n",
       " '62% of U.S. Jews would reelect Obama, 4% say Israel is most important issue - Haaretz http://t.co/kJdeKfKg http://t.co/YuBShHrj\"',\n",
       " 'Obama has called the GOP budget social Darwinism. Nice try, but they believe in social creationism.',\n",
       " 'In his teen years, Obama has been known to use marijuana and cocaine.',\n",
       " 'RT @JoiningForces: Photo of the Day: First Lady Michelle Obama greets a #WoundedWarrior @ Walter Reed in #Bethesda: http://t.co/IwG56RDK',\n",
       " '@ErskineGrier Racism in punishwork for Obama and in penalty against NOLA Saints, the chocolate city.',\n",
       " 'RT @ohgirlphrase: American kid \"You\\'re from the UK? Ohhh cool, So do you have tea with the Queen?\". British kid: \"Do you like, go to Mcdonalds with Obama?',\n",
       " \"BO's college records?RT @markknoller: Obama Campaign says Romney should make public 23 years of tax (cont) http://t.co/G2bb5AIS\",\n",
       " 'RT @BORNCURIOUS: For over 200 years in our great country we were protected by our founders from illegal search & seizure & now under 2 men (obama & GW)KAPUT',\n",
       " '62% of U.S. Jews would reelect Obama, 4% say Israel is most important issue - Haaretz http://t.co/kJdeKfKg http://t.co/YuBShHrj\"',\n",
       " 'President Obama * Lindsay Lohan * 1989 RUMORS business 19 TH & M ST NW DC met field agent = multi connector to FFX  VA covert overt zone.',\n",
       " 'Marine Faces Dismissal for Criticizing Obama on Facebook http://t.co/MpMYwNyi',\n",
       " 'RT @markknoller: Obama Campaign says Romney should make public 23 years of tax returns so Americans can assess any conflicts of interest.',\n",
       " \"RT @CaptainCook03: And carpool with your friends. If we can stay away from the pump gas prices will drop. It's up to us to lower them, not Obama\",\n",
       " '@JustAnotherMo #WhatsRomneyHiding His contempt for American exceptionalism and the laws of our nation  you forgot:  Oh wait thats Obama.',\n",
       " \"Wash Examiner- Examiner Editorial: Obama's budget, not Ryan's, is 'antithetical' to history: Speaking at the Ame... http://t.co/37kEFtMg\",\n",
       " 'RT @ABC: Attorney General Completes Judge\\'s \"Obamacare\" Homework Assignment http://t.co/WCtllWno',\n",
       " \"Examiner Editorial: Obama's budget, not Ryan's, is 'antithetical' to history: Speaking at the American Society o... http://t.co/t9xniyJG\",\n",
       " '\"once we have passed from bondage to liberty, how do we make the most of all that God has given us\" ~ President Obama\\'s Passover address',\n",
       " \"Obama's tax returns from the 80s and 90s? #WhatsRomneyHiding\",\n",
       " 'Green groups sue EPA over coal ash rules: The Obama administration is going into a tough election year fighting ... http://t.co/T4aopGDD',\n",
       " 'Concerning allegations about the firing of someone in the Obama admin whose job it was to uphold science integrity: http://t.co/1nDIfI3y',\n",
       " \"RT @robertcobrien: Obama: .@USNavy won't get 345 ships called for in QDR; not 313 min necessary 4 missions; but less than 300 ships! http://t.co/CQpMvkDJ\",\n",
       " \"#WhatsRomneyHiding The recipe to Dr. Obama's Miraculous Algae Tonic.\",\n",
       " 'A couple of months ago Finnish officials found sixty of our Patriot missiles on a ship bound for China. Expect big Chicom donor$ to Obama',\n",
       " 'RT @krauthammer: Obama v SCOTUS. The preemptive liberal attack on the Court: unseemly, hypocritical, illogical. Strong letter to follow. http://t.co/uJwEroyW',\n",
       " 'Great photo!! LLAP!!  #trekkers RT @GuyKawasaki: Barack Obama: Vulcan? http://t.co/UejtlmGt',\n",
       " 'RT @Gabby_Hoffman: We want a president with a spine, not a president with fecklessness. America can do better than Obama. #resist44 #tcot RT if you agree!',\n",
       " 'Gas over $4/Gal in my neighborhood today. Thanks #Obama! #FireObama #DrillHereDrillNow #Oil #NatGas #PickensPlan #NGVs http://t.co/NkIYIkj1',\n",
       " '#WhatsRomneyHiding That President Obama is so jealous about anyways? Cant be self-generated wealth, can it&gt;',\n",
       " 'Good luck getting to class Tuesday when obama comes to FAU... @FAU_Problems',\n",
       " '@Trigonis  people say Obama is inept. This proves it. :-))',\n",
       " \"RT @1Dlover_carrots: @Harry_Styles on a scale of 1-10 how attractive is this?...and don't say michelle Obama. http://t.co/YiFq4PKT\",\n",
       " 'RT @SgtPolite: #WhatsRomneyHiding HINT, it\\'s NOT Barack \"TelePrompter\" Obama\\'s College Transcripts, NOBODY can find those! #tcot #p2 #ocra #Obama2012',\n",
       " 'RT @blessmyliberty: Obama will portray #Romney as a rich, white guy outta touch w/the working class whos policies are similar to his so why not keep the hip cat',\n",
       " 'Obama has message for you: LIVE FREE OR DIE HARD  http://t.co/SPn6jMXH #sopa #ndaa #occupy #ows #ronpaul @occupymarines #freedom',\n",
       " 'President Obama * Lindsay Lohan RUMORS video sec 50 to 56 visual special effects = human soul indicator * Covert overt connector.',\n",
       " 'Um, who really gives a rats ass about golf in Augusta & the new IBM CEO? Who is the reporter that asks & idiot #Obama responds? #tcot',\n",
       " 'Marine Faces Dismissal for Criticizing Obama on Facebook: By Barbara E. Hernandez A marine facing discharge afte... http://t.co/7UpYOSnI',\n",
       " '@edshow Is the GOp war on women a fact?? Does a bear sleep in the woods?? Go Obama 2012',\n",
       " 'RT @JeffersonObama: 62% of U.S. Jews would reelect Obama, 4% say Israel is most important issue - Haaretz http://t.co/VhURDtdO http://t.co/gIGmn5kE',\n",
       " 'RT @marymauldin: OBAMA HONORS the wkwnd of Holy Passover 4 Jews & Holy Passion of Jesus by hosting MUSLIM BROTHERHOOD who wld murder both Jews & Christians',\n",
       " '\"@southsalem: #VetThePrez #ArmyofBreitbarts RT @Bellanieve: Photos: Obama marched with New Black Panthers http://t.co/JaHy0cnn\"',\n",
       " 'Me and my Amp sis Khady when President Obama got elected and Nyrell looking like a fool in the background lo http://t.co/nBAjvfWA',\n",
       " 'RT @iowahawkblog: Taking Constitutional Law from Barack Obama is like taking Auto Shop from Barack Obama. #ormathorscienceorhistoryorteleprompterrepair',\n",
       " '#WhatsRomneyHiding How he told AIPAC he\\'d \"have Israel\\'s back\" in dealing with Iran, then backtracked. No, wait. That was Obama.',\n",
       " \"RT @schwingcat: That his campaign disabled credit card verification on his online donation site #WhatsRomneyHiding #OhWait,that's Obama http://t.co/3fgWm3n4\",\n",
       " 'RT @NMsly: @marymauldin Nothing is ever a coincidence w/Obama. He CLEARLY speakes w/his actions...like hosting (cont) http://t.co/D9qwckJ3',\n",
       " 'A lady gave me a real dollar that said Obama is a dirty rat bastard. Oh hell naw!',\n",
       " \"RT @HarryFacts1D: ''Harry Styles describe a Michelle Obama como una mujer muy atractiva.'' OBAMA ESCONDE A TU ESPOSA Y A TUS HIJOS, STYLES VIENE EN CAMINO.\",\n",
       " \"Obama's only hope: That a majority of Americans are morons. (GIven that he got elected once, should that thought give me comfort?) #hhrs\",\n",
       " \"#WhatsRomneyHiding His college records... Oh, wait that's Obama.\",\n",
       " 'Pictures of Obama and Larry Sinclair #WhatsRomneyHiding',\n",
       " 'RT @edshow: Women at Augusta? Obama says absolutely. Romney hedges. Comment on FB or tweet so we can share on #edshow!',\n",
       " 'Barrack obama be talking shit about mitt romney on twitter lololol hella funny',\n",
       " '@blakehounshell @handrewschwartz yeah, i just opened, read lede. My edit: \"Obama has signaled no change in longstanding US position\"',\n",
       " 'President Obama * Lindsay Lohan RUMORS beginning * 1987 Analyst64 was protected * Future time-line indicator * Scramble scam mode video.',\n",
       " '@benhurleycomedy haha is the first person you followed, Obama?',\n",
       " '#Romney is right #Obama should STOP LYING ABOUT 4 million new jobs NOT CREATED  Killing AMERICAN CITIZENS  ,HC FRAUD #GOP #DEM #p2',\n",
       " 'RT @handrewschwartz: Ignatius reports Obama signaled Iran US wld accept civ nuke pgm if Khameni can assure Iran will never get nuke weapons http://t.co/KkaAhGPq',\n",
       " 'RT @ohgirlphrase: American kid \"You\\'re from the UK? Ohhh cool, So do you have tea with the Queen?\". British kid: \"Do you like, go to Mcdonalds with Obama?',\n",
       " 'Obama at AP luncheon: Newshounds in heat. Details at http://t.co/rkNdEmIy #tlot #withnewt #tcot #tpp #tpn #sgp #sot #MSM #nra #lnyhbt #usmc',\n",
       " 'In the year 3087, a cryogenically-reborn Barack Obama meets Newt Gingrich on the moon, his kingdom; a duel for Saturn beings #futuremoonNewt',\n",
       " 'RT @Talkmaster: Oh now I get it. Obama was talking in shorthand and we were just too dumb to understand how smart he really is.  Gagme.',\n",
       " \"@Harry_Styles on a scale of 1-10 how attractive is this?...and don't say michelle Obama. http://t.co/YiFq4PKT\",\n",
       " '\"@Common_Sense4U: Bogus #Obama SOTU Poll - #Yahoo! Publishes Another Liberal Propaganda Piece as News!. #teaparty  http://t.co/OGyR4YUk\"',\n",
       " \"#Yahoo #Trend McConnell says in Lexington that Obama is trying to 'intimidate' court http://t.co/PsXJ71R3 #TeamFollowBack Goo\",\n",
       " \"PolitiFact | Obama says Republicans in Congress won't name one tax exemption they want to repeal http://t.co/HdJiGiMe via @politifact\",\n",
       " 'President Obama Signs the Jumpstart Our Business Startups (JOBS) Act: An Attempt to Ease... http://t.co/4IOwLqh1 (via @Media_Laws)',\n",
       " 'RT @EMcLean1982: #WhatsRomneyHiding nothing compared to this  MT @informedblackmn: Proof that Obama is accepting funny money.  http://t.co/TTnhii6A',\n",
       " 'RT @A_liketheletter: #WhatsRomneyHiding the reality of losing the election to President Obama',\n",
       " '#KimKardashiansNextBoyFriend barrack obama',\n",
       " \"It's driving Liberals crazy that they can't find any skeletons in Romney's closet. In the case of Obama it's one every day.\",\n",
       " \"RT @TylerSadonis: Shout out to @RyanFecteau for the cool work he's doing with the Obama campaign #Pride2012 http://t.co/AnxszxJn\",\n",
       " 'RT @handrewschwartz: Ignatius reports Obama signaled Iran US wld accept civ nuke pgm if Khameni can assure Iran will never get nuke weapons http://t.co/KkaAhGPq',\n",
       " \"RT @HarryFacts1D: ''Harry Styles describe a Michelle Obama como una mujer muy atractiva.'' OBAMA ESCONDE A TU ESPOSA Y A TUS HIJOS, STYLES VIENE EN CAMINO.\",\n",
       " 'RT @PAC43: Reforming an Obama supporter is like trying to pick up poop by its clean end',\n",
       " \"Full Metal Jacket's R. Lee Ermey Rips Into Obama Administration: http://t.co/rXWlPBKQ via @youtube\",\n",
       " \"RT @TimothyNoah1: What Obama should have said was: Let's term-limit Supreme Court justices. http://t.co/RaKHSwfn\",\n",
       " 'The halved deficit Obama promised? #WhatsRomneyHiding',\n",
       " 'President Obama * Lindsay Lohan RUMORS beginning cross shape lights on ST * 1987 Analyst64 DC bicycle courier * Video changes to scramble.',\n",
       " \"RT @schwingcat: That his campaign disabled credit card verification on his online donation site #WhatsRomneyHiding #OhWait,that's Obama http://t.co/3fgWm3n4\",\n",
       " \"#WhatsRomneyHiding - the fact that he'll start idiotic hashtags that'll get taken over by Conservatives... Oh wait, that's Obama! #caring\",\n",
       " 'Obama holds high-end fundraisers at DC hotels - AP Online http://t.co/Ng1MH6hO #obama',\n",
       " '#WhatsRomneyHiding saying that he should  b president bc he will improve private sec. job growth..which Obama has done 4 the past 24 months.',\n",
       " 'Nancy Pelosi | Obamacare | Barack Obama | Supreme Court | The Daily Caller http://t.co/DrZl9zwA via @addthis',\n",
       " ...]"
      ]
     },
     "execution_count": 58,
     "metadata": {},
     "output_type": "execute_result"
    }
   ],
   "source": [
    "tweets = tweets.split('\\n')\n",
    "tweets"
   ]
  },
  {
   "cell_type": "code",
   "execution_count": 78,
   "metadata": {
    "collapsed": false
   },
   "outputs": [
    {
     "name": "stdout",
     "output_type": "stream",
     "text": [
      "1365\n"
     ]
    },
    {
     "data": {
      "text/plain": [
       "['Obama has called the GOP budget social Darwinism. Nice try, but they believe in social creationism.',\n",
       " 'In his teen years, Obama has been known to use marijuana and cocaine.',\n",
       " 'IPA Congratulates President Barack Obama for Leadership Regarding JOBS Act: WASHINGTON, Apr 05, 2012 (BUSINESS W... http://t.co/8le3DC8E',\n",
       " 'RT @Professor_Why: #WhatsRomneyHiding - his connection to supporters of Critical Race Theory.... Oh wait, that was Obama, not Romney...',\n",
       " 'RT @wardollarshome: Obama has approved more targeted assassinations than any modern US prez; READ & RT: http://t.co/bfC4gbBW']"
      ]
     },
     "execution_count": 78,
     "metadata": {},
     "output_type": "execute_result"
    }
   ],
   "source": [
    "print len(tweets)\n",
    "tweets[:5]"
   ]
  },
  {
   "cell_type": "code",
   "execution_count": 66,
   "metadata": {
    "collapsed": false
   },
   "outputs": [
    {
     "data": {
      "text/plain": [
       "['Obama has called the GOP budget social Darwinism. Nice try, but they believe in social creationism.',\n",
       " 'In his teen years, Obama has been known to use marijuana and cocaine.',\n",
       " 'IPA Congratulates President Barack Obama for Leadership Regarding JOBS Act: WASHINGTON, Apr 05, 2012 (BUSINESS W... http://t.co/8le3DC8E',\n",
       " 'RT @Professor_Why: #WhatsRomneyHiding - his connection to supporters of Critical Race Theory.... Oh wait, that was Obama, not Romney...',\n",
       " 'RT @wardollarshome: Obama has approved more targeted assassinations than any modern US prez; READ & RT: http://t.co/bfC4gbBW']"
      ]
     },
     "execution_count": 66,
     "metadata": {},
     "output_type": "execute_result"
    }
   ],
   "source": [
    "tweets[:5]"
   ]
  },
  {
   "cell_type": "code",
   "execution_count": 76,
   "metadata": {
    "collapsed": false
   },
   "outputs": [
    {
     "data": {
      "text/plain": [
       "0.6783882783882784"
      ]
     },
     "execution_count": 76,
     "metadata": {},
     "output_type": "execute_result"
    }
   ],
   "source": [
    "# Average number of hashtags total?\n",
    "\n",
    "sum([tweet.count('#') for tweet in tweets])/len(tweets)"
   ]
  },
  {
   "cell_type": "code",
   "execution_count": 98,
   "metadata": {
    "collapsed": false
   },
   "outputs": [
    {
     "data": {
      "text/plain": [
       "896"
      ]
     },
     "execution_count": 98,
     "metadata": {},
     "output_type": "execute_result"
    }
   ],
   "source": [
    "# Number of tweets with at least 1 #?\n",
    "\n",
    "sum([tweet.find('#') == -1 for tweet in tweets])"
   ]
  },
  {
   "cell_type": "code",
   "execution_count": 103,
   "metadata": {
    "collapsed": false
   },
   "outputs": [
    {
     "name": "stdout",
     "output_type": "stream",
     "text": [
      "White House in damage control over Obama Supreme Court remarks: The White House was forced on the defensive on W... http://t.co/2Yy8Srct\n",
      "16\n",
      "-1\n"
     ]
    }
   ],
   "source": [
    "print tweets[300]\n",
    "print tweets[300].find('a')  # only first occurrence\n",
    "print tweets[300].find('!')  # -1 if doesn't occur"
   ]
  },
  {
   "cell_type": "code",
   "execution_count": 105,
   "metadata": {
    "collapsed": false
   },
   "outputs": [
    {
     "data": {
      "text/plain": [
       "'White House in damage control over Trump Supreme Court remarks: The White House was forced on the defensive on W... http://t.co/2Yy8Srct'"
      ]
     },
     "execution_count": 105,
     "metadata": {},
     "output_type": "execute_result"
    }
   ],
   "source": [
    "tweets[300].replace('Obama', \"Trump\")"
   ]
  },
  {
   "cell_type": "markdown",
   "metadata": {},
   "source": [
    "### Split, Join, Strip\n",
    "\n",
    "<ul>\n",
    "<li>`Split` a string according to some character. This creates a list of strings out of the original string.\n",
    "<li>`Join` a list of strings together according to some delimiter     \n",
    "<li>`Strip` leading and trailing blanks around a word  \n",
    "</ul>"
   ]
  },
  {
   "cell_type": "code",
   "execution_count": 108,
   "metadata": {
    "collapsed": false
   },
   "outputs": [
    {
     "name": "stdout",
     "output_type": "stream",
     "text": [
      "\n",
      "<ul>\n",
      "  <li>`Split` a string according to some character. This creates a list of strings out of the original string. \n",
      "  <li>`Join` a list of strings together according to some delimiter     \n",
      "  <li>`Strip` leading and trailing blanks around a word \n",
      "</ul>\n",
      "\n"
     ]
    }
   ],
   "source": [
    "objective = \"Basic String Manipulation\"\n",
    "s = \"\"\"\n",
    "<ul>\n",
    "  <li>`Split` a string according to some character. This creates a list of strings out of the original string. \n",
    "  <li>`Join` a list of strings together according to some delimiter     \n",
    "  <li>`Strip` leading and trailing blanks around a word \n",
    "</ul>\n",
    "\"\"\"\n",
    "print s     # where's the newline characters?"
   ]
  },
  {
   "cell_type": "code",
   "execution_count": 109,
   "metadata": {
    "collapsed": false
   },
   "outputs": [
    {
     "data": {
      "text/plain": [
       "['  <li>`Split` a string according to some character. This creates a list of strings out of the original string. ',\n",
       " '  <li>`Join` a list of strings together according to some delimiter     ',\n",
       " '  <li>`Strip` leading and trailing blanks around a word ']"
      ]
     },
     "execution_count": 109,
     "metadata": {},
     "output_type": "execute_result"
    }
   ],
   "source": [
    "split_list = [i for i in s.split('\\n')]\n",
    "split_list[2:5]"
   ]
  },
  {
   "cell_type": "code",
   "execution_count": 110,
   "metadata": {
    "collapsed": false
   },
   "outputs": [
    {
     "data": {
      "text/plain": [
       "['`Split` a string according to some character. This creates a list of strings out of the original string.',\n",
       " '`Join` a list of strings together according to some delimiter',\n",
       " '`Strip` leading and trailing blanks around a word']"
      ]
     },
     "execution_count": 110,
     "metadata": {},
     "output_type": "execute_result"
    }
   ],
   "source": [
    "strip_list = [i.strip('   <li>') for i in split_list[2:5]] # remove trailing space also\n",
    "strip_list"
   ]
  },
  {
   "cell_type": "code",
   "execution_count": 111,
   "metadata": {
    "collapsed": false
   },
   "outputs": [
    {
     "name": "stdout",
     "output_type": "stream",
     "text": [
      "[['`Split`', 'a', 'string', 'according', 'to', 'some', 'character.', 'This', 'creates', 'a', 'list', 'of', 'strings', 'out', 'of', 'the', 'original', 'string.'], ['`Join`', 'a', 'list', 'of', 'strings', 'together', 'according', 'to', 'some', 'delimiter'], ['`Strip`', 'leading', 'and', 'trailing', 'blanks', 'around', 'a', 'word']]\n"
     ]
    }
   ],
   "source": [
    "tokenize = [i.split(' ') for i in strip_list]\n",
    "print tokenize"
   ]
  },
  {
   "cell_type": "code",
   "execution_count": 112,
   "metadata": {
    "collapsed": false
   },
   "outputs": [
    {
     "data": {
      "text/plain": [
       "['Split', 'Join', 'Strip']"
      ]
     },
     "execution_count": 112,
     "metadata": {},
     "output_type": "execute_result"
    }
   ],
   "source": [
    "final_words = [i[0].strip('`') for i in tokenize]\n",
    "final_words"
   ]
  },
  {
   "cell_type": "code",
   "execution_count": 113,
   "metadata": {
    "collapsed": false
   },
   "outputs": [
    {
     "data": {
      "text/plain": [
       "'Split + Join + Strip = Basic String Manipulation'"
      ]
     },
     "execution_count": 113,
     "metadata": {},
     "output_type": "execute_result"
    }
   ],
   "source": [
    "\" + \".join(final_words) + \" = {}\".format(objective)"
   ]
  },
  {
   "cell_type": "markdown",
   "metadata": {},
   "source": [
    "+++++++++++++++++++++++++++++++++++++++++++++++++++++++++++++++++++++++++++++++++++++++++++++++++++++++++++++++++++++++"
   ]
  },
  {
   "cell_type": "markdown",
   "metadata": {},
   "source": [
    "## EXERCISE TIME!\n",
    "\n",
    "Format your `PATH` variable such that it looks like mine:\n",
    "\n",
    "```\n",
    "=> bin=> sh\n",
    "=> Users=> ilanman=> sparkapphelper=> scala-2.11.7=> bin=> bin\n",
    "=> Users=> ilanman=> sparkapphelper=> spark=> spark-1.6.0-bin-hadoop2.6=> bin\n",
    "=> Users=> ilanman=> sparkapphelper=> sbt=> sbt-0.13.11=> bin\n",
    "=> Library=> Java=> JavaVirtualMachines=> jdk1.8.0_60.jdk=> Contents=> Home=> bin\n",
    "=> usr=> local=> bin\n",
    "=> usr=> bin\n",
    "=> bin\n",
    "=> usr=> sbin\n",
    "=> sbin\n",
    "=> opt=> X11=> bin\n",
    "=> Library=> TeX=> texbin\n",
    "No such file or directory\n",
    "```\n",
    "\n",
    "Note that Jupyter can access your terminal by entering `!` before regular terminal commands, i.e. `!mkdir newfolder`<br>\n",
    "\n",
    "Here is my current `PATH`: !echo $PATH\n",
    "\n",
    "`/Users/ilanman/spark/bin:/Users/ilanman/sbt/bin:/Library/Java/JavaVirtualMachines/jdk1.8.0_60.jdk/Contents/Home/bin`<br>\n",
    "`/usr/local/bin:/usr/bin:/bin:/usr/sbin:/sbin:/opt/X11/bin:/Library/TeX/texbin`"
   ]
  },
  {
   "cell_type": "markdown",
   "metadata": {},
   "source": [
    "+++++++++++++++++++++++++++++++++++++++++++++++++++++++++++++++++++++++++++++++++++++++++++++++++++++++++++++++++++++++"
   ]
  },
  {
   "cell_type": "code",
   "execution_count": 116,
   "metadata": {
    "collapsed": false
   },
   "outputs": [
    {
     "name": "stdout",
     "output_type": "stream",
     "text": [
      "['/bin/sh: /Users/ilanman/spark/bin:/Users/ilanman/sbt/bin:/Library/Java/JavaVirtualMachines/jdk1.8.0_60.jdk/Contents/Home/bin:/usr/local/bin:/usr/bin:/bin:/usr/sbin:/sbin:/opt/X11/bin:/Library/TeX/texbin: No such file or directory']\n",
      "1\n",
      "/bin/sh: /Users/ilanman/spark/bin:/Users/ilanman/sbt/bin:/Library/Java/JavaVirtualMachines/jdk1.8.0_60.jdk/Contents/Home/bin:/usr/local/bin:/usr/bin:/bin:/usr/sbin:/sbin:/opt/X11/bin:/Library/TeX/texbin: No such file or directory\n",
      "['/bin/sh', ' /Users/ilanman/spark/bin', '/Users/ilanman/sbt/bin', '/Library/Java/JavaVirtualMachines/jdk1.8.0_60.jdk/Contents/Home/bin', '/usr/local/bin', '/usr/bin', '/bin', '/usr/sbin', '/sbin', '/opt/X11/bin', '/Library/TeX/texbin', ' No such file or directory']\n",
      "=> bin=> sh\n",
      "=> Users=> ilanman=> spark=> bin\n",
      "=> Users=> ilanman=> sbt=> bin\n",
      "=> Library=> Java=> JavaVirtualMachines=> jdk1.8.0_60.jdk=> Contents=> Home=> bin\n",
      "=> usr=> local=> bin\n",
      "=> usr=> bin\n",
      "=> bin\n",
      "=> usr=> sbin\n",
      "=> sbin\n",
      "=> opt=> X11=> bin\n",
      "=> Library=> TeX=> texbin\n",
      "No such file or directory\n"
     ]
    }
   ],
   "source": [
    "## SOLUTION\n",
    "\n",
    "paths = !`echo $PATH`\n",
    "print paths     # paths is a list of strings\n",
    "print len(paths)      # only 1 string\n",
    "# pull out string(s) from list of strings\n",
    "path_strings = paths[0]\n",
    "print path_strings\n",
    "all_paths = path_strings.split(':')  # split on : which is what separates paths\n",
    "print all_paths\n",
    "for path in all_paths:\n",
    "    print '=> '.join(path.strip().split('/'))"
   ]
  },
  {
   "cell_type": "markdown",
   "metadata": {},
   "source": [
    "## Assess positive or negative sentiment"
   ]
  },
  {
   "cell_type": "code",
   "execution_count": 123,
   "metadata": {
    "collapsed": false
   },
   "outputs": [
    {
     "data": {
      "text/plain": [
       "'abidance\\nabidance\\nabilities\\nability\\nable\\nabove\\nabove-average\\nabundant\\nabundance\\nacceptance\\nacceptable\\naccessible\\nacclaim\\nacclaimed\\naccolade\\naccolades\\naccommodative\\naccomplishment\\naccomplishments\\naccordance\\naccordantly\\naccurate\\naccurately\\nachievable\\nachievement\\nachievements\\nacknowledgement\\nactive\\nacumen\\nadaptable\\nadaptability\\nadaptive\\nadept\\nadeptly\\nadequate\\nadherence\\nadherent\\nadhesion\\nadmirable\\nadmirer\\nadmirable\\nadmirably\\nadmiration\\nadmiring\\nadmiringly\\nadmission\\nadmission\\nadorable\\nadored\\nadorer\\nadoring\\nadoringly\\nadroit\\nadroitly\\nadulatory\\nadvanced\\nadvantage\\nadvantage\\nadvantageous\\nadvantages\\nadvantages\\nadventure\\nadventure\\nadventuresome\\nadventurism\\nadventurous\\nadvice\\nadvice\\nadvisable\\nadvocacy\\naffable\\naffability\\naffably\\naffection\\naffection\\naffectionate\\naffinity\\naffirmation\\naffirmation\\naffirmative\\naffluent\\naffluence\\naffordable\\nafloat\\nagile\\nagilely\\nagility\\nagreeable\\nagreement\\nagreement\\nallowable\\nallure\\nalluring\\nalluringly\\nalmighty\\naltruist\\naltruistic\\naltruistically\\namazed\\namazement\\namazing\\namazingly\\nambitious\\nambitious\\namenable\\namenity\\namiability\\namiabily\\namiable\\namicability\\namicable\\namicably\\namity\\namity\\namnesty\\namour\\nample\\namply\\namusement\\namusement\\namusing\\nangel\\nangelic\\nanimated\\napostle\\napostle\\napotheosis\\napotheosis\\nappeal\\nappeal\\nappealing\\nappreciable\\nappreciation\\nappreciation\\nappreciative\\nappropriate\\napproval\\napt\\naptly\\naptitude\\nardent\\nardently\\nardor\\naristocratic\\narresting\\narticulate\\nascendant\\nascendant\\nascertainable\\nascertainable\\naspiration\\naspirations\\naspirations\\nassertions\\nassertions\\nassertive\\nasset\\nassiduous\\nassiduously\\nassurance\\nassurance\\nassurances\\nassurances\\nassuredly\\nastonished\\nastonishing\\nastonishingly\\nastonishment\\nastounded\\nastounding\\nastounding\\nastoundingly\\nastute\\nastutely\\nasylum\\nasylum\\nattainable\\nattentive\\nattraction\\nattraction\\nattractive\\nattractive\\nattune\\nauspicious\\nauthentic\\nauthoritative\\naward\\nautonomous\\navid\\navidly\\nawe\\nawed\\nawesome\\nawesomely\\nawesomeness\\nawestruck\\nbackbone\\nbalanced\\nbargain\\nbargain\\nbasic\\nbeacon\\nbeauteous\\nbeautiful\\nbeautifully\\nbeauty\\nbefitting\\nbelievable\\nbeloved\\nbenefactor\\nbeneficial\\nbeneficent\\nbeneficiary\\nbeneficiary\\nbenefit\\nbenefit\\nbenefits\\nbenefits\\nbenevolence\\nbenevolent\\nbenign\\nbest-known\\nbest-performing\\nbest-selling\\nbetter\\nbetter-known\\nbetter-than-expected\\nblameless\\nblessing\\nblessing\\nbliss\\nblissful\\nblissfully\\nblithe\\nbold\\nboldly\\nboldness\\nbonny\\nbonus\\nboom\\nbooming\\nboost\\nboundless\\nbountiful\\nbrains\\nbrains\\nbrainy\\nbrave\\nbravery\\nbravery\\nbreakthrough\\nbreakthrough\\nbreakthroughs\\nbreakthroughs\\nbreathlessness\\nbreathlessness\\nbreathtaking\\nbreathtakingly\\nbright\\nbrightness\\nbrilliance\\nbrilliant\\nbrilliantly\\nbrisk\\nbroad\\nbrotherly\\nbull\\nbull\\nbullish\\nbullish\\nbuoyant\\ncalm\\ncalmness\\ncandid\\ncandor\\ncapable\\ncapability\\ncapably\\ncaptivating\\ncaptivation\\ncarefree\\ncareful\\ncatalyst\\ncatalyst\\ncatchy\\ncelebrated\\ncelebration\\ncelebrity\\nchampion\\nchamp\\nchampion\\ncharismatic\\ncharitable\\ncharitable\\ncharity\\ncharm\\ncharm\\ncharming\\ncharming\\ncharmingly\\nchaste\\ncheer\\ncheery\\ncheerful\\ncherished\\ncherub\\nchic\\nchivalry\\nchivalrous\\nchum\\ncivility\\ncivilization\\ncivilize\\ncivil\\nclarity\\nclassic\\nclean\\ncleanliness\\ncleanse\\nclear-cut\\nclearer\\nclearer\\nclearly\\nclever\\ncloseness\\ncloseness\\nclout\\nclout\\nco-operation\\nco-operation\\ncogent\\ncohesive\\ncoherence\\ncoherence\\ncoherent\\ncohesion\\ncohesive\\ncolorful\\ncolossal\\ncomeback\\ncomeback\\ncomely\\ncomfortable\\ncomfortable\\ncomfortably\\ncomforting\\ncommendable\\ncommendably\\ncommensurate\\ncommonsense\\ncommonsensible\\ncommonsensibly\\ncommonsensical\\ncommodious\\ncommitment\\ncommitment\\ncompact\\ncompassion\\ncompassionate\\ncompatible\\ncompatible\\ncompelling\\ncompelling\\ncompetent\\ncompetence\\ncompetency\\ncompetitive\\ncompetitive\\ncompetitiveness\\ncomplement\\ncompliant\\ncompliant\\ncomplimentary\\ncomprehensive\\ncompromise\\ncompromise\\ncompromises\\ncompromises\\ncomrades\\ncomrades\\nconceivable\\nconceivable\\nconciliatory\\nconclusive\\nconcrete\\nconducive\\nconducive\\nconfidence\\nconfidence\\nconfident\\ncongenial\\ncongratulations\\ncongratulations\\nconscience\\nconscientious\\nconsensus\\nconsiderate\\nconsistent\\nconstancy\\nconstructive\\nconstructive\\nconstructive\\nconsummate\\ncontent\\ncontentment\\ncontinuity\\ncontribution\\ncontribution\\nconvenient\\nconvenient\\nconviction\\nconviction\\nconvincing\\nconvincing\\nconvincingly\\ncooperation\\ncooperation\\ncooperative\\ncooperatively\\ncordial\\ncornerstone\\ncornerstone\\ncorrect\\ncost-effective\\ncost-saving\\ncourage\\ncourage\\ncourageous\\ncourageously\\ncourageousness\\ncourteous\\ncourtesy\\ncourtly\\ncovenant\\ncozy\\ncraving\\ncreative\\ncredence\\ncredence\\ncredible\\ncrisp\\ncrusade\\ncrusade\\ncrusader\\ncure-all\\ncure-all\\ncute\\ndance\\ndaring\\ndaringly\\ndashing\\ndauntless\\ndazzled\\ndazzling\\ndeal\\ndear\\ndecent\\ndecency\\ndecisive\\ndecisiveness\\ndecisiveness\\ndedicated\\ndefender\\ndefender\\ndeference\\ndefense\\ndefinite\\ndefinitive\\ndefinitive\\ndefinitively\\ndeflationary\\ndeft\\ndelectable\\ndelicacy\\ndelicate\\ndelicious\\ndelight\\ndelighted\\ndelightful\\ndelightful\\ndelightfully\\ndelightfulness\\ndemocratic\\ndependable\\ndeserved\\ndeservedly\\ndeserving\\ndesirable\\ndesire\\ndesire\\ndesirous\\ndestined\\ndestinies\\ndestinies\\ndestiny\\ndetermination\\ndetermination\\ndevoted\\ndevotee\\ndevotion\\ndevout\\ndexterity\\ndexterous\\ndexterously\\ndextrous\\ndignified\\ndignity\\ndiligence\\ndiligent\\ndiligently\\ndiplomatic\\ndiplomatic\\ndiscerning\\ndiscreet\\ndiscreet\\ndiscretion\\ndiscriminating\\ndiscriminatingly\\ndistinct\\ndistinction\\ndistinctive\\ndistinctive\\ndistinctive\\ndistinguished\\ndiversified\\ndivine\\ndivinely\\ndodge\\ndodge\\ndotingly\\ndoubtless\\ndream\\ndream\\ndreamland\\ndreams\\ndreams\\ndreamy\\ndrive\\ndriven\\ndurable\\ndurability\\ndynamic\\neager\\neagerly\\neagerness\\nearnest\\nearnestly\\nearnestness\\nease\\neasy\\neasygoing\\nebullience\\nebullient\\nebulliently\\neclectic\\neconomical\\necstasies\\necstasy\\necstatic\\necstatically\\neducable\\neducated\\neducational\\neffective\\neffectiveness\\neffectual\\nefficacious\\nefficiency\\nefficient\\neffortless\\neffortlessly\\neffusion\\neffusive\\neffusively\\neffusiveness\\negalitarian\\nelan\\nelated\\nelatedly\\nelation\\nelectrification\\nelectrification\\nelegance\\nelegant\\nelegantly\\nelevated\\neligible\\nelite\\neloquence\\neloquent\\neloquently\\neminence\\neminent\\nempowerment\\nenchanted\\nenchanting\\nenchantingly\\nencouragement\\nencouragement\\nencouraging\\nencouraging\\nencouragingly\\nendearing\\nendorsement\\nendorsement\\nendorser\\nendurable\\nenduring\\nenergetic\\nenergetic\\nengaging\\nengrossing\\nenhanced\\nenhancement\\nenjoyable\\nenjoyably\\nenjoyment\\nenlightenment\\nenrapt\\nenrichment\\nenterprising\\nentertaining\\nenthusiasm\\nenthusiast\\nenthusiastic\\nenthusiastically\\nenticing\\nenticingly\\nentrancing\\nentreatingly\\nenviable\\nenviably\\nenvisions\\nenvisions\\nepic\\nepitome\\nequality\\nequality\\nequitable\\nerudite\\nessential\\nespecially\\nesteem\\nestablished\\neternity\\neternity\\nethical\\neuphoria\\neuphoric\\neuphorically\\neven\\nevenly\\neventful\\neverlasting\\nevocative\\nexalt\\nexaltation\\nexalted\\nexaltedly\\nexalting\\nexaltingly\\nexceeding\\nexceedingly\\nexcellence\\nexcellency\\nexcellent\\nexcellently\\nexceptional\\nexceptionally\\nexcited\\nexcitedly\\nexcitedness\\nexcitement\\nexciting\\nexcitingly\\nexclusive\\nexcusable\\nexcusable\\nexemplar\\nexemplary\\nexhaustive\\nexhaustively\\nexhilarating\\nexhilaratingly\\nexhilaration\\nexpansive\\nexperienced\\nexpert\\nexpertly\\nexplicit\\nexplicitly\\nexpressive\\nexquisite\\nexquisitely\\nextraordinarily\\nextraordinary\\nexuberance\\nexuberant\\nexuberantly\\nexultation\\nexultingly\\nfabulous\\nfabulously\\nfair\\nfair\\nfairly\\nfairness\\nfairness\\nfaith\\nfaith\\nfaithful\\nfaithful\\nfaithfully\\nfaithfulness\\nfamed\\nfame\\nfamed\\nfamous\\nfamously\\nfancy\\nfanfare\\nfanfare\\nfantastic\\nfantastically\\nfantasy\\nfantasy\\nfarsighted\\nfascinating\\nfascinatingly\\nfascination\\nfashionable\\nfashionably\\nfast-growing\\nfast-paced\\nfastest-growing\\nfavor\\nfavor\\nfavorable\\nfavored\\nfavorite\\nfavour\\nfearless\\nfearlessly\\nfeasible\\nfeasibly\\nfeat\\nfeatly\\nfeisty\\nfeisty\\nfelicitous\\nfelicity\\nfertile\\nfertile\\nfervent\\nfervently\\nfervid\\nfervidly\\nfervor\\nfestive\\nfidelity\\nfiery\\nfine\\nfinely\\nfirst-class\\nfirst-rate\\nfit\\nfitting\\nflair\\nflame\\nflame\\nflattering\\nflatteringly\\nflawless\\nflawlessly\\nflexible\\nflourish\\nflourishing\\nfluent\\nfond\\nfondly\\nfondness\\nfoolproof\\nforemost\\nforesight\\nforgave\\nforgiven\\nforgiveness\\nforgiving\\nforgivingly\\nfortitude\\nfortuitous\\nfortuitously\\nfortunate\\nfortune\\nfortune\\nfragrant\\nfrank\\nfree\\nfreedom\\nfreedom\\nfreedoms\\nfreedoms\\nfresh\\nfriend\\nfriend\\nfriendliness\\nfriendliness\\nfriendly\\nfriends\\nfriends\\nfriendship\\nfriendship\\nfruitful\\nfulfillment\\nfulfillment\\nfull-fledged\\nfun\\nfunctional\\nfunny\\ngaiety\\ngaily\\ngain\\ngainful\\ngainfully\\ngallant\\ngallantly\\ngalore\\ngem\\ngem\\ngems\\ngems\\ngenerosity\\ngenerous\\ngenerously\\ngenial\\ngenius\\ngentle\\ngenuine\\ngermane\\ngiddy\\ngifted\\nglad\\ngladly\\ngladness\\nglamorous\\nglee\\ngleeful\\ngleefully\\nglimmer\\nglimmer\\nglimmering\\nglisten\\nglistening\\nglitter\\nglorious\\ngloriously\\nglory\\nglossy\\nglowingly\\ngo-ahead\\ngo-ahead\\ngod-given\\ngodlike\\ngold\\ngolden\\ngood\\ngoodly\\ngoodness\\ngoodwill\\ngoodwill\\ngorgeous\\ngorgeously\\ngrace\\ngraceful\\ngracefully\\ngracious\\ngraciously\\ngraciousness\\ngrail\\ngrail\\ngrand\\ngrandeur\\ngrateful\\ngrateful\\ngratefully\\ngratification\\ngratifying\\ngratifyingly\\ngratitude\\ngratitude\\ngreat\\ngreatest\\ngreatness\\ngrit\\ngrit\\ngroundbreaking\\ngroundbreaking\\nguarantee\\nguardian\\nguidance\\nguidance\\nguiltless\\ngumption\\ngusto\\ngutsy\\nhalcyon\\nhale\\nhallowed\\nhandily\\nhandsome\\nhandy\\nhappily\\nhappiness\\nhappy\\nhard-working\\nhardier\\nhardier\\nhardy\\nharmless\\nharmonious\\nharmony\\nharmony\\nhaven\\nheadway\\nheady\\nhealthful\\nhealthy\\nhealthy\\nheart\\nheartening\\nheartfelt\\nheartily\\nheartwarming\\nheaven\\nheavenly\\nhelp\\nhelp\\nhelpful\\nhero\\nheroic\\nheroically\\nheroine\\nheros\\nhigh-quality\\nhighlight\\nhilarious\\nhilariously\\nhilariousness\\nhilarity\\nhistoric\\nholy\\nhomage\\nhonest\\nhonest\\nhonestly\\nhonesty\\nhonesty\\nhoneymoon\\nhonor\\nhonor\\nhonorable\\nhope\\nhope\\nhopeful\\nhopefully\\nhopefulness\\nhopes\\nhopes\\nhospitable\\nhot\\nhug\\nhug\\nhumane\\nhumane\\nhumanists\\nhumanists\\nhumanity\\nhumankind\\nhumility\\nhumorous\\nhumorously\\nhumour\\nhumour\\nhumourous\\nideal\\nideal\\nidealism\\nidealist\\nidol\\nidol\\nidolized\\nilluminati\\nilluminati\\nilluminating\\nillustrious\\nimaginative\\nimmaculate\\nimmaculately\\nimpartial\\nimpartiality\\nimpartially\\nimpassioned\\nimpeccable\\nimpeccably\\nimperial\\nimperturbable\\nimpervious\\nimpetus\\nimportance\\nimportant\\nimportantly\\nimpregnable\\nimpression\\nimpression\\nimpressions\\nimpressions\\nimpressive\\nimpressively\\nimpressiveness\\nimproving\\nimproved\\nimprovement\\ninalienable\\nincisive\\nincisively\\nincisiveness\\ninclination\\ninclination\\ninclinations\\ninclined\\ninclusive\\nincontestable\\nincontrovertible\\nincorruptible\\nincredible\\nincredibly\\nindebted\\nindefatigable\\nindelible\\nindelibly\\nindependence\\nindependence\\nindependent\\nindescribable\\nindescribably\\nindestructible\\nindispensable\\nindispensability\\nindisputable\\nindividuality\\nindomitable\\nindomitably\\nindubitable\\nindubitably\\nindulgence\\nindulgent\\nindustrious\\ninestimable\\ninestimably\\ninexpensive\\ninfallible\\ninfallibly\\ninfallibility\\ninfluential\\ninformative\\ningenious\\ningeniously\\ningenuity\\ningenuous\\ningenuously\\ningratiating\\ningratiatingly\\ninnocence\\ninnocence\\ninnocent\\ninnocently\\ninnocuous\\ninnocuous\\ninnovation\\ninnovation\\ninnovative\\ninoffensive\\ninquisitive\\ninsight\\ninsight\\ninsightful\\ninsightfully\\ninsistence\\ninsistence\\ninsistent\\ninsistently\\ninspiration\\ninspirational\\ninspiring\\ninspiring\\ninstructive\\ninstrumental\\nintact\\nintegral\\nintegrity\\nintelligent\\nintelligence\\nintelligible\\ninterest\\ninterest\\ninterested\\ninteresting\\ninterests\\ninterests\\nintimacy\\nintimacy\\nintimate\\nintricate\\nintrigue\\nintrigue\\nintriguing\\nintriguing\\nintriguingly\\nintuitive\\ninvaluable\\ninvaluablely\\ninventive\\ninvigorating\\ninvincibility\\ninvincible\\ninviolable\\ninviolate\\ninvulnerable\\nirrefutable\\nirrefutably\\nirreproachable\\nirresistible\\nirresistibly\\njauntily\\njaunty\\njoke\\njovial\\njoy\\njoyful\\njoyfully\\njoyless\\njoyous\\njoyously\\njubilant\\njubilantly\\njubilation\\njubilation\\njudicious\\njust\\njust\\njust\\njustice\\njustice\\njustifiable\\njustification\\njustly\\nkeen\\nkeenly\\nkeenness\\nkeenness\\nkemp\\nkind\\nkindly\\nkindliness\\nkindness\\nkingmaker\\nkiss\\nknowledgeable\\nlarge\\nlarge\\nlaudable\\nlaudably\\nlavish\\nlavishly\\nlaw-abiding\\nlawful\\nlawfully\\nleading\\nlean\\nlean\\nlearning\\nlearned\\nlegendary\\nlegitimacy\\nlegitimate\\nlegitimately\\nlenient\\nleniently\\nless-expensive\\nleverage\\nlevity\\nliberal\\nliberation\\nliberation\\nliberalism\\nliberally\\nliberty\\nlifeblood\\nlifelong\\nlight\\nlight\\nlight-hearted\\nlikable\\nliking\\nlionhearted\\nliterate\\nlive\\nlively\\nlofty\\nlogical\\nlovable\\nlovably\\nlove\\nloveliness\\nlover\\nlovely\\nlow-cost\\nlow-risk\\nlower-priced\\nloyal\\nloyalty\\nloyalty\\nlucid\\nlucidly\\nluck\\nluckier\\nluckier\\nluckily\\nluckiness\\nlucky\\nlucky\\nlucrative\\nlucrative\\nluminous\\nlush\\nluster\\nlustrous\\nluxuriant\\nluxurious\\nluxuriously\\nluxury\\nluxury\\nlyrical\\nmagic\\nmagical\\nmagnanimous\\nmagnanimously\\nmagnetic\\nmagnificence\\nmagnificent\\nmagnificent\\nmagnificently\\nmagnify\\nmajestic\\nmajesty\\nmanageable\\nmanifest\\nmanly\\nmannerly\\nmarvel\\nmarvellous\\nmarvelous\\nmarvelously\\nmarvelousness\\nmarvels\\nmaster\\nmaster\\nmasterful\\nmasterfully\\nmasterpiece\\nmasterpieces\\nmasters\\nmasters\\nmastery\\nmatchless\\nmature\\nmaturely\\nmaturity\\nmeaningful\\nmeek\\nmellow\\nmemorable\\nmentor\\nmercifully\\nmercy\\nmercy\\nmerit\\nmeritorious\\nmerrily\\nmerriment\\nmerriness\\nmerry\\nmesmerizing\\nmesmerizing\\nmesmerizingly\\nmeticulous\\nmeticulously\\nmight\\nmightily\\nmighty\\nmild\\nmindful\\nmiracle\\nmiracles\\nmiraculous\\nmiraculously\\nmiraculousness\\nmirth\\nmoderate\\nmoderation\\nmoderation\\nmodern\\nmodest\\nmodesty\\nmomentous\\nmonumental\\nmonumentally\\nmoral\\nmoral\\nmorality\\nmotivated\\nmotivation\\nmotivation\\nmoving\\nmyriad\\nnatural\\nnaturally\\nnavigable\\nneat\\nneatly\\nnecessarily\\nnecessary\\nnice\\nnifty\\nnimble\\nnoble\\nnobly\\nnon-violence\\nnon-violent\\nnormal\\nnotable\\nnotable\\nnoteworthy\\nnoteworthy\\nnoticeable\\nnovel\\nnourishing\\nnourishment\\nnurturing\\nnurturing\\noasis\\nobedience\\nobedient\\nobediently\\nobjective\\nobjectively\\noffbeat\\nokay\\nonward\\nonward\\nopen\\nopenly\\nopenness\\nopenness\\nopportune\\nopportunity\\noptimal\\noptimism\\noptimistic\\nopulent\\norderly\\noriginal\\noriginality\\noutgoing\\noutstanding\\noutstandingly\\novation\\novation\\noverachiever\\noverjoyed\\noverture\\noverture\\npacifist\\npacifists\\npacifists\\npainless\\npainlessly\\npainstaking\\npainstakingly\\npalatable\\npalatial\\nparadise\\nparamount\\npassion\\npassionate\\npassionately\\npatience\\npatient\\npatient\\npatient\\npatiently\\npatriot\\npatriotic\\npeace\\npeace\\npeaceable\\npeaceful\\npeaceful\\npeacefully\\npeacekeepers\\npeacekeepers\\npeerless\\npenetrating\\npenitent\\nperceptive\\nperfect\\nperfection\\nperfectly\\npermissible\\nperseverance\\npersistent\\npersistent\\npersonages\\npersonages\\npersonality\\npersonality\\nperspicuous\\nperspicuously\\npersuasive\\npersuasive\\npersuasively\\npertinent\\nphenomenal\\nphenomenally\\npicturesque\\npiety\\npillar\\npillar\\npinnacle\\npious\\npithy\\npithy\\nplacid\\nplain\\nplausibility\\nplausible\\nplayful\\nplayfully\\npleasant\\npleasantly\\npleased\\npleasing\\npleasure\\npleasure\\npledge\\npledges\\npledges\\nplentiful\\nplush\\npoetic\\npoignant\\npoise\\npoised\\npolished\\npolite\\npoliteness\\npopular\\npopular\\npopularity\\npopularity\\nportable\\nposh\\npositive\\npositiveness\\npositively\\nposterity\\npotent\\npotential\\npotential\\npowerful\\npowerfully\\npracticable\\npractical\\npragmatic\\npraise\\npraiseworthy\\npraising\\npraising\\npre-eminent\\npreaching\\npreaching\\nprecaution\\nprecautions\\nprecedent\\nprecious\\nprecious\\nprecise\\nprecisely\\nprecision\\npreeminent\\npreemptive\\npreferable\\npreference\\npreferences\\npreferences\\npremier\\npremium\\nprepared\\npreponderance\\npreponderance\\nprestige\\nprestigious\\nprettily\\npretty\\npriceless\\npride\\nprinciple\\nprinciple\\nprincipled\\nprivilege\\nprivileged\\npro\\npro-American\\npro-American\\npro-Beijing\\npro-Beijing\\npro-Cuba\\npro-Cuba\\npro-peace\\npro-peace\\nproactive\\nproactive\\nprodigious\\nprodigiously\\nprodigy\\nproductive\\nproficient\\nproficiently\\nprofit\\nprofitable\\nprofound\\nprofoundly\\nprofuse\\nprofusely\\nprofusion\\nprogress\\nprogressive\\nprolific\\nprominent\\nprominence\\npromise\\npromise\\npromising\\npromoter\\npromoter\\nprompt\\npromptly\\nproper\\nproperly\\npropitious\\npropitiously\\nprospect\\nprospect\\nprospects\\nprospects\\nprosperity\\nprosperity\\nprosperous\\nprotection\\nprotective\\nprotector\\nprotector\\nproud\\nprovidence\\nprowess\\nprudence\\nprudence\\nprudent\\nprudently\\npunctual\\npundits\\npundits\\npure\\npurification\\npurity\\npurposeful\\nquaint\\nqualified\\nqualify\\nquasi-ally\\nquasi-ally\\nradiance\\nradiant\\nrapprochement\\nrapprochement\\nrapport\\nrapture\\nraptureous\\nraptureously\\nrational\\nrationality\\nrationality\\nre-conquest\\nre-conquest\\nreadily\\nready\\nreaffirm\\nreaffirmation\\nreaffirmation\\nreal\\nrealist\\nrealistic\\nrealistically\\nreason\\nreasonable\\nreasonably\\nreasoned\\nreassurance\\nreassurance\\nreceptive\\nrecognition\\nrecognition\\nrecommendation\\nrecommendations\\nrecommendations\\nrecommended\\nrecompense\\nreconciliation\\nreconciliation\\nrecord-setting\\nrectification\\nrectification\\nrectifying\\nrectifying\\nredeeming\\nredemption\\nrefined\\nrefinement\\nreform\\nreform\\nrefreshing\\nrefuge\\nregal\\nregally\\nregard\\nrehabilitation\\nreinforcement\\nrejoicing\\nrejoicingly\\nrelaxed\\nrelevant\\nrelevance\\nreliable\\nreliability\\nreliably\\nrelief\\nrelief\\nremarkable\\nremarkably\\nremedy\\nreminiscent\\nreminiscent\\nrenaissance\\nrenewal\\nrenovation\\nrenown\\nrenowned\\nrepair\\nreparation\\nrepentance\\nreputable\\nrescue\\nresilient\\nresolute\\nresolve\\nresolve\\nresolved\\nresounding\\nresourceful\\nresourcefulness\\nrespect\\nrespect\\nrespectable\\nrespectful\\nrespectfully\\nrespite\\nresplendent\\nresponsibility\\nresponsible\\nresponsibly\\nresponsive\\nrestful\\nrestoration\\nrestraint\\nrestraint\\nresurgent\\nrevel\\nrevel\\nrevelation\\nrevelation\\nreverence\\nreverent\\nreverently\\nrevival\\nrevolution\\nrevolution\\nrewarding\\nrewardingly\\nrich\\nriches\\nrichly\\nrichness\\nright\\nright\\nrighteous\\nrighteously\\nrighteousness\\nrightful\\nrightfully\\nrightness\\nrightness\\nrights\\nrights\\nripe\\nrisk-free\\nrobust\\nrosy\\nrousing\\nsacred\\nsafe\\nsagacity\\nsage\\nsagely\\nsaint\\nsaintliness\\nsaintly\\nsalable\\nsalutary\\nsalvation\\nsanctity\\nsanctuary\\nsanctuary\\nsanguine\\nsane\\nsanity\\nsanity\\nsatisfaction\\nsatisfaction\\nsatisfactorily\\nsatisfactory\\nsatisfying\\nsavvy\\nscenic\\nscruples\\nscrupulous\\nscrupulously\\nseamless\\nseasoned\\nsecure\\nsecurely\\nsecurity\\nsecurity\\nseductive\\nselective\\nself-determination\\nself-determination\\nself-respect\\nself-satisfaction\\nself-satisfaction\\nself-sufficiency\\nself-sufficiency\\nself-sufficient\\nsemblance\\nsensation\\nsensation\\nsensational\\nsensationally\\nsensations\\nsensations\\nsense\\nsense\\nsensible\\nsensibly\\nsensitive\\nsensitive\\nsensitivity\\nsensitivity\\nsentiment\\nsentiment\\nsentiments\\nserene\\nserenity\\nsettle\\nsexy\\nshelter\\nshimmeringly\\nshiny\\nshiny\\nshrewd\\nshrewdly\\nshrewdness\\nsignificant\\nsignificance\\nsimple\\nsimplicity\\nsimplified\\nsincere\\nsincerely\\nsincerity\\nsincerity\\nskill\\nskilled\\nskillful\\nskillful\\nskillfully\\nsleek\\nslender\\nslim\\nslim\\nsmart\\nsmarter\\nsmartest\\nsmartly\\nsmile\\nsmiling\\nsmilingly\\nsmooth\\nsociable\\nsoft-spoken\\nsoften\\nsoften\\nsolicitous\\nsolicitously\\nsolicitude\\nsolid\\nsolid\\nsolidarity\\nsolidarity\\nsoothingly\\nsophisticated\\nsound\\nsoundness\\nspacious\\nsparing\\nsparingly\\nsparkling\\nspecial\\nspectacular\\nspectacularly\\nspeedy\\nspellbinding\\nspellbindingly\\nspirit\\nspirit\\nspirited\\nspiritual\\nspiritual\\nsplendid\\nsplendidly\\nsplendor\\nspotless\\nsprightly\\nsquarely\\nstability\\nstability\\nstable\\nstable\\nstainless\\nstar\\nstar\\nstars\\nstars\\nstately\\nstatuesque\\nstaunch\\nstaunchly\\nstaunchness\\nsteadfast\\nsteadfastly\\nsteadfastness\\nsteadiness\\nsteady\\nstellar\\nstellarly\\nstimulating\\nstimulative\\nstirring\\nstirringly\\nstraight\\nstraightforward\\nstreamlined\\nstride\\nstride\\nstrides\\nstrides\\nstriking\\nstrikingly\\nstriving\\nstriving\\nstrong\\nstudious\\nstudiously\\nstunned\\nstunning\\nstunningly\\nstupendous\\nstupendously\\nsturdy\\nstylish\\nstylishly\\nsuave\\nsublime\\nsubstantial\\nsubstantially\\nsubstantive\\nsubtle\\nsuccess\\nsuccess\\nsuccessful\\nsuccessfully\\nsufficient\\nsufficiently\\nsuggestions\\nsuggestions\\nsuitable\\nsumptuous\\nsumptuously\\nsumptuousness\\nsunny\\nsuper\\nsuperb\\nsuperbly\\nsuperior\\nsuperlative\\nsupport\\nsupport\\nsupporter\\nsupporter\\nsupportive\\nsupportive\\nsupreme\\nsupremely\\nsupurb\\nsupurbly\\nsure\\nsurge\\nsurging\\nsurvival\\nsurvivor\\nsustainability\\nsustainability\\nsustainable\\nsustainable\\nsustained\\nsweeping\\nsweet\\nsweetheart\\nsweetly\\nsweetness\\nswift\\nswiftness\\nsworn\\ntact\\ntalent\\ntalent\\ntalented\\ntantalizing\\ntantalizingly\\ntaste\\ntemperance\\ntemperate\\ntenacious\\ntenaciously\\ntenacity\\ntender\\ntenderly\\ntenderness\\nterrific\\nterrifically\\nterrified\\nterrifying\\nterrifying\\nterrifyingly\\nthankful\\nthankfully\\nthinkable\\nthinkable\\nthorough\\nthoughtful\\nthoughtfully\\nthoughtfulness\\nthrift\\nthrifty\\nthrill\\nthrilling\\nthrillingly\\nthrills\\nthriving\\ntidy\\ntime-honored\\ntimely\\ntitillating\\ntitillatingly\\ntogetherness\\ntolerable\\ntolerably\\ntolerance\\ntolerance\\ntolerant\\ntolerantly\\ntoleration\\ntop\\ntorrid\\ntorridly\\ntradition\\ntraditional\\ntranquil\\ntranquility\\ntranquility\\ntreat\\ntremendous\\ntrendy\\ntrepidation\\ntribute\\ntrim\\ntriumph\\ntriumphal\\ntriumphant\\ntriumphantly\\ntruculent\\ntruculently\\ntrue\\ntruly\\ntrust\\ntrust\\ntrusting\\ntrustingly\\ntrustworthiness\\ntrustworthy\\ntruthful\\ntruthfully\\ntruthfulness\\nultimate\\nultimately\\nultra\\nunabashed\\nunabashedly\\nunanimous\\nunassailable\\nunassailable\\nunbiased\\nunbound\\nunbroken\\nuncommon\\nuncommonly\\nunconcerned\\nunconditional\\nunconventional\\nundaunted\\nunderstandable\\nunderstanding\\nunderstanding\\nunderstood\\nunderstated\\nunderstatedly\\nundisputable\\nundisputably\\nundisputed\\nundoubted\\nundoubtedly\\nunencumbered\\nunequivocal\\nunfazed\\nunfettered\\nunforgettable\\nuniform\\nuniformly\\nunique\\nunity\\nunity\\nuniversal\\nunlimited\\nunparalleled\\nunpretentious\\nunrestricted\\nunscathed\\nunselfish\\nuntouched\\nuntrained\\nupbeat\\nupfront\\nupheld\\nuphold\\nuplifting\\nupliftment\\nupliftment\\nupright\\nupscale\\nupside\\nupside\\nupward\\nusable\\nuseful\\nusefulness\\nutilitarian\\nutmost\\nuttermost\\nvaliant\\nvaliantly\\nvalid\\nvalidity\\nvalor\\nvaluable\\nvalues\\nvalues\\nvast\\nvastly\\nvastness\\nvenerable\\nvenerably\\nverifiable\\nveritable\\nversatile\\nversatility\\nviable\\nviability\\nvibrant\\nvibrantly\\nvictorious\\nvictory\\nvictory\\nvigilance\\nvigilant\\nvigilant\\nvigorous\\nvigorously\\nvintage\\nvirtue\\nvirtuous\\nvirtuously\\nvisionary\\nvital\\nvitality\\nvitality\\nvivacious\\nvivid\\nvoluntarily\\nvoluntary\\nvulnerable\\nvulnerable\\nwarm\\nwarmhearted\\nwarmly\\nwarmth\\nwealthy\\nwelcome\\nwelcome\\nwelfare\\nwelfare\\nwell\\nwell\\nwell-being\\nwell-being\\nwell-connected\\nwell-educated\\nwell-established\\nwell-informed\\nwell-intentioned\\nwell-managed\\nwell-positioned\\nwell-publicized\\nwell-received\\nwell-regarded\\nwell-run\\nwell-wishers\\nwell-wishers\\nwellbeing\\nwellbeing\\nwhimsical\\nwhite\\nwholeheartedly\\nwholesome\\nwide\\nwide-open\\nwide-ranging\\nwill\\nwill\\nwillful\\nwillfully\\nwilling\\nwillingness\\nwillingness\\nwink\\nwink\\nwinnable\\nwinnable\\nwinners\\nwinners\\nwisdom\\nwisdom\\nwise\\nwise\\nwisely\\nwish\\nwish\\nwishes\\nwishes\\nwishing\\nwishing\\nwitty\\nwonderful\\nwonderfully\\nwonderous\\nwonderously\\nworkable\\nworld-famous\\nworth\\nworth\\nworth-while\\nworthiness\\nworthwhile\\nworthy\\nwow\\nwry\\nyearning\\nyearningly\\nyouthful\\nzeal\\nzenith\\nzest\\n'"
      ]
     },
     "execution_count": 123,
     "metadata": {},
     "output_type": "execute_result"
    }
   ],
   "source": [
    "positive = open(\"positive.txt\").read()\n",
    "positive"
   ]
  },
  {
   "cell_type": "code",
   "execution_count": 125,
   "metadata": {
    "collapsed": false
   },
   "outputs": [
    {
     "data": {
      "text/plain": [
       "['abidance',\n",
       " 'abidance',\n",
       " 'abilities',\n",
       " 'ability',\n",
       " 'able',\n",
       " 'above',\n",
       " 'above-average',\n",
       " 'abundant',\n",
       " 'abundance',\n",
       " 'acceptance']"
      ]
     },
     "execution_count": 125,
     "metadata": {},
     "output_type": "execute_result"
    }
   ],
   "source": [
    "positive.split('\\n')[:10]"
   ]
  },
  {
   "cell_type": "markdown",
   "metadata": {},
   "source": [
    "## What's the positive sentiment in the tweets?\n",
    "\n",
    "<ul>\n",
    "<li>Iterate through tweets and count occurrence of positive words. \n",
    "<li>Need to do a bit a cleaning first.\n",
    "</ul>"
   ]
  },
  {
   "cell_type": "code",
   "execution_count": 127,
   "metadata": {
    "collapsed": false
   },
   "outputs": [
    {
     "data": {
      "text/plain": [
       "'Obama has called the GOP budget social Darwinism. Nice try, but they believe in social creationism.'"
      ]
     },
     "execution_count": 127,
     "metadata": {},
     "output_type": "execute_result"
    }
   ],
   "source": [
    "tweets[0]"
   ]
  },
  {
   "cell_type": "markdown",
   "metadata": {},
   "source": [
    "## String modules <a id=\"modules\"></a>\n",
    "<ul>\n",
    "<li>`maketrans` returns a translation table that maps each character in the `intab` string into the character at the same position in the `outtab` string. Then this table is passed to the `translate()` function. *Note: Both intab and outtab must have the same length.*\n",
    "<li>`punctuation` used to remove punctuation\n",
    "</ul>\n"
   ]
  },
  {
   "cell_type": "code",
   "execution_count": 128,
   "metadata": {
    "collapsed": true
   },
   "outputs": [],
   "source": [
    "from string import maketrans\n",
    "\n",
    "dna_to_rna = maketrans('UCAG', 'ACGT') # intab and outtab. Swap U's with A's, A's with G's and G's with T's\n",
    "dna = 'gattacuau'"
   ]
  },
  {
   "cell_type": "code",
   "execution_count": 129,
   "metadata": {
    "collapsed": false
   },
   "outputs": [
    {
     "name": "stdout",
     "output_type": "stream",
     "text": [
      "tgttgcaga\n"
     ]
    }
   ],
   "source": [
    "print dna.upper().translate(dna_to_rna).lower()"
   ]
  },
  {
   "cell_type": "code",
   "execution_count": 130,
   "metadata": {
    "collapsed": false
   },
   "outputs": [
    {
     "name": "stdout",
     "output_type": "stream",
     "text": [
      "!\"#$%&'()*+,-./:;<=>?@[\\]^_`{|}~\n"
     ]
    }
   ],
   "source": [
    "# The translate function is useful for getting rid of unwanted characters in a string\n",
    "from string import punctuation\n",
    "print punctuation"
   ]
  },
  {
   "cell_type": "markdown",
   "metadata": {},
   "source": [
    "## os module\n",
    "\n",
    "<ul>\n",
    "<li>`os` module provides a way of using operating system dependent functionality. You can find important information about your location or about the process.\n",
    "<li>We'll look at this in more detail next session\n",
    "</ul>"
   ]
  },
  {
   "cell_type": "code",
   "execution_count": 131,
   "metadata": {
    "collapsed": false
   },
   "outputs": [
    {
     "name": "stdout",
     "output_type": "stream",
     "text": [
      "/Users/ilanman/gdi\n"
     ]
    }
   ],
   "source": [
    "import os\n",
    "\n",
    "print os.getcwd()"
   ]
  },
  {
   "cell_type": "code",
   "execution_count": 670,
   "metadata": {
    "collapsed": false
   },
   "outputs": [
    {
     "name": "stdout",
     "output_type": "stream",
     "text": [
      "  % Total    % Received % Xferd  Average Speed   Time    Time     Time  Current\n",
      "                                 Dload  Upload   Total   Spent    Left  Speed\n",
      "100  163k  100  163k    0     0   135k      0  0:00:01  0:00:01 --:--:--  135k\n",
      "curl: (6) Could not resolve host: alice.txt\n"
     ]
    }
   ],
   "source": [
    "# Alice in Wonderland from Project Gutenberg\n",
    "\n",
    "if not os.path.exists('alice.txt'):\n",
    "    ! curl http://www.gutenberg.org/cache/epub/11/pg11.txt -O alice.txt"
   ]
  },
  {
   "cell_type": "code",
   "execution_count": 671,
   "metadata": {
    "collapsed": false
   },
   "outputs": [
    {
     "name": "stdout",
     "output_type": "stream",
     "text": [
      "﻿Project Gutenberg's Alice's Adventures in Wonderland, by Lewis Carroll\r",
      "\r\n",
      "\r",
      "\r\n",
      "This eBook is for the use of anyone anywhere at no cost and with\r",
      "\r\n",
      "almost no restrictions whatsoever.  You may copy it, give it away or\r",
      "\r\n",
      "re-use it under the terms of the Project Gutenberg License included\r",
      "\r\n",
      "with this eBook or online at www.gutenberg.org\r",
      "\r\n",
      "\r",
      "\r\n",
      "\r",
      "\r\n",
      "Title: Alice's Adventures in Wonderland\r",
      "\r\n",
      "\r",
      "\r\n",
      "Author: Lewis Carroll\r",
      "\r\n",
      "\r",
      "\r\n",
      "Posting Date: June 25, 2008 [EBook #11]\r",
      "\r\n",
      "Release Date: March, 1994\r",
      "\r\n",
      "[Last updated: December 20, 2011]\r",
      "\r\n",
      "\r",
      "\r\n",
      "Language: English\r",
      "\r\n",
      "\r",
      "\r\n",
      "\r",
      "\r\n",
      "*** START OF THIS PROJECT GUTENBERG EBOOK ALICE'S ADVENTURES IN WONDERLAND ***\r",
      "\r\n",
      "\r",
      "\r\n",
      "\r",
      "\r\n",
      "\r",
      "\r\n",
      "\r",
      "\r\n",
      "\r",
      "\r\n",
      "\r",
      "\r\n",
      "\r",
      "\r\n",
      "\r",
      "\r\n",
      "\r",
      "\r\n",
      "\r",
      "\r\n",
      "ALICE'S ADVENTURES IN WONDERLAND\r",
      "\r\n",
      "\r",
      "\r\n",
      "Lewis Carroll\r",
      "\r\n",
      "\r",
      "\r\n",
      "THE MILLENNIUM FULCRUM EDITION 3.0\r",
      "\r\n",
      "\r",
      "\r\n",
      "\r",
      "\r\n",
      "\r",
      "\r\n",
      "\r",
      "\r\n",
      "CHAPTER I. Down the Rabbit-Hole\r",
      "\r\n",
      "\r",
      "\r\n",
      "Alice was beginning to get very tired of sitting by her sister on the\r",
      "\r\n",
      "bank, and of having nothing to do: once or twice she had peeped into the\r",
      "\r\n",
      "book her sister was reading, but it had no pictures or conversations in\r",
      "\r\n",
      "it, 'and what is the use of a book,' thought Alice 'without pictures or\r",
      "\r\n",
      "conversations?'\r",
      "\r\n",
      "\r",
      "\r\n",
      "So she was considering in her own mind (as well as she could, for the\r",
      "\r\n",
      "hot day made her feel very sleepy and stupid), whether the pleasure\r",
      "\r\n",
      "of making a daisy-chain would be worth the trouble of getting up and\r",
      "\r\n"
     ]
    }
   ],
   "source": [
    "!head -50 pg11.txt"
   ]
  },
  {
   "cell_type": "markdown",
   "metadata": {},
   "source": [
    "## collections modules\n",
    "\n",
    "<ul>\n",
    "<li>Very useful module for text manipulation, analysis\n",
    "<li>`OrderedDict`\n",
    "<li>`defaultdict`\n",
    "<li>`namedtuple`\n",
    "<li>`Counter`\n",
    "</ul>"
   ]
  },
  {
   "cell_type": "code",
   "execution_count": 672,
   "metadata": {
    "collapsed": false
   },
   "outputs": [],
   "source": [
    "alice = open('pg11.txt').read()  # read in file\n",
    "\n",
    "# split words on spaces, remove punctuation and make lower case\n",
    "words = alice.translate(None, punctuation).lower().split()"
   ]
  },
  {
   "cell_type": "code",
   "execution_count": 673,
   "metadata": {
    "collapsed": false
   },
   "outputs": [
    {
     "name": "stdout",
     "output_type": "stream",
     "text": [
      "29386\n",
      "3251\n"
     ]
    }
   ],
   "source": [
    "print len(words)\n",
    "print len(set(words))"
   ]
  },
  {
   "cell_type": "markdown",
   "metadata": {},
   "source": [
    "### How to find 10 most common words?"
   ]
  },
  {
   "cell_type": "code",
   "execution_count": 165,
   "metadata": {
    "collapsed": false
   },
   "outputs": [],
   "source": [
    "most_common = {}\n",
    "\n",
    "# use set to find unique words, store in dictionary\n",
    "for word in set(words):\n",
    "    most_common.update({word : words.count(word)})"
   ]
  },
  {
   "cell_type": "code",
   "execution_count": 166,
   "metadata": {
    "collapsed": false
   },
   "outputs": [
    {
     "data": {
      "text/plain": [
       "{'secondly': 2,\n",
       " 'pardon': 6,\n",
       " 'limited': 5,\n",
       " 'copy': 12,\n",
       " 'saves': 1,\n",
       " 'bear': 1,\n",
       " 'knelt': 1,\n",
       " 'four': 6,\n",
       " 'sleep': 6,\n",
       " 'hanging': 3,\n",
       " 'ringlets': 2,\n",
       " 'oldest': 1,\n",
       " 'hate': 1,\n",
       " 'assembled': 2,\n",
       " 'consider': 4,\n",
       " 'whose': 2,\n",
       " 'lory': 7,\n",
       " 'calculate': 1,\n",
       " 'paris': 2,\n",
       " 'blacking': 1,\n",
       " 'presents': 2,\n",
       " 'yetits': 1,\n",
       " 'certain': 5,\n",
       " 'whatsoever': 2,\n",
       " 'under': 22,\n",
       " 'inwards': 1,\n",
       " 'sorry': 1,\n",
       " 'glovesthat': 1,\n",
       " 'worth': 4,\n",
       " 'updated': 2,\n",
       " 'void': 1,\n",
       " 'rise': 1,\n",
       " 'every': 12,\n",
       " 'govern': 1,\n",
       " 'month': 2,\n",
       " 'fireplace': 1,\n",
       " 'school': 5,\n",
       " 'prize': 1,\n",
       " 'wooden': 1,\n",
       " 'pinch': 2,\n",
       " 'persisted': 2,\n",
       " 'drawlingthe': 1,\n",
       " 'wept': 1,\n",
       " 'favoured': 1,\n",
       " 'leaders': 1,\n",
       " 'farmyardwhile': 1,\n",
       " 'tired': 7,\n",
       " 'feathers': 1,\n",
       " 'direct': 1,\n",
       " 'elegant': 1,\n",
       " 'likely': 5,\n",
       " 'louder': 1,\n",
       " 'machines': 1,\n",
       " 'shining': 1,\n",
       " 'even': 21,\n",
       " 'meekly': 2,\n",
       " 'errors': 1,\n",
       " 'hide': 1,\n",
       " 'forgetting': 3,\n",
       " 'solemn': 3,\n",
       " 'thunder': 1,\n",
       " 'near': 15,\n",
       " 'poison': 3,\n",
       " 'above': 3,\n",
       " 'conduct': 1,\n",
       " 'new': 8,\n",
       " 'babythe': 1,\n",
       " 'increasing': 1,\n",
       " 'asis': 1,\n",
       " 'told': 6,\n",
       " 'gained': 1,\n",
       " 'never': 45,\n",
       " 'wrapping': 1,\n",
       " 'here': 48,\n",
       " 'hundreds': 1,\n",
       " 'met': 4,\n",
       " 'protection': 1,\n",
       " 'hers': 3,\n",
       " 'cardboard': 1,\n",
       " 'shriek': 5,\n",
       " 'dry': 8,\n",
       " 'voice': 47,\n",
       " 'daughter': 1,\n",
       " 'voicethe': 1,\n",
       " 'employees': 2,\n",
       " 'changed': 8,\n",
       " 'reports': 1,\n",
       " 'swam': 5,\n",
       " 'barrowful': 2,\n",
       " 'waterwell': 1,\n",
       " 'smoke': 1,\n",
       " 'theres': 24,\n",
       " 'settled': 3,\n",
       " 'ventured': 4,\n",
       " 'golden': 7,\n",
       " 'sourand': 1,\n",
       " 'grumbled': 1,\n",
       " 'explained': 1,\n",
       " 'angrily': 9,\n",
       " 'feelings': 2,\n",
       " 'brought': 3,\n",
       " 'patience': 1,\n",
       " 'moral': 8,\n",
       " 'guests': 3,\n",
       " 'drowned': 1,\n",
       " 'punching': 1,\n",
       " 'spoke': 16,\n",
       " 'would': 83,\n",
       " 'arms': 6,\n",
       " 'insult': 1,\n",
       " 'distributing': 7,\n",
       " 'dormouses': 1,\n",
       " 'overhead': 1,\n",
       " 'therefore': 1,\n",
       " 'leant': 1,\n",
       " 'survive': 1,\n",
       " 'fainting': 1,\n",
       " 'tell': 31,\n",
       " 'breathe': 3,\n",
       " 'paperwork': 1,\n",
       " 'posting': 1,\n",
       " 'clearly': 2,\n",
       " 'hurt': 3,\n",
       " 'grief': 1,\n",
       " 'glass': 9,\n",
       " 'teaching': 1,\n",
       " 'adjourn': 1,\n",
       " '90': 2,\n",
       " 'hold': 10,\n",
       " 'outdated': 1,\n",
       " 'circumstances': 1,\n",
       " 'me': 68,\n",
       " 'join': 9,\n",
       " '1994': 1,\n",
       " 'work': 53,\n",
       " 'dodo': 13,\n",
       " 'worm': 1,\n",
       " 'roof': 6,\n",
       " 'itself': 14,\n",
       " 'elbow': 3,\n",
       " 'my': 58,\n",
       " 'shook': 9,\n",
       " 'rosetree': 4,\n",
       " 'quiver': 1,\n",
       " 'serpent': 9,\n",
       " 'give': 16,\n",
       " 'unjust': 1,\n",
       " 'flung': 1,\n",
       " 'organized': 1,\n",
       " 'frighten': 1,\n",
       " 'want': 9,\n",
       " 'hurrying': 1,\n",
       " 'times': 6,\n",
       " 'worse': 3,\n",
       " 'ones': 2,\n",
       " 'end': 20,\n",
       " 'thing': 49,\n",
       " 'provide': 7,\n",
       " 'agony': 1,\n",
       " 'sitting': 10,\n",
       " 'damage': 2,\n",
       " '1e9': 3,\n",
       " 'machine': 1,\n",
       " 'how': 68,\n",
       " 'hot': 5,\n",
       " 'piecrust': 1,\n",
       " 'answer': 9,\n",
       " 'if': 114,\n",
       " 'truthful': 1,\n",
       " 'poker': 1,\n",
       " 'flustered': 1,\n",
       " 'mouths': 3,\n",
       " 'after': 42,\n",
       " 'growl': 3,\n",
       " 'wrong': 5,\n",
       " 'jumping': 4,\n",
       " 'lay': 4,\n",
       " 'curiosity': 5,\n",
       " 'law': 4,\n",
       " 'lap': 2,\n",
       " 'types': 1,\n",
       " 'attempt': 1,\n",
       " 'childhood': 1,\n",
       " 'wink': 2,\n",
       " 'wriggling': 1,\n",
       " 'green': 4,\n",
       " 'goodbye': 1,\n",
       " 'aloud': 5,\n",
       " 'order': 3,\n",
       " 'wind': 2,\n",
       " 'wine': 2,\n",
       " 'withina': 1,\n",
       " 'executed': 6,\n",
       " 'office': 2,\n",
       " 'curled': 2,\n",
       " 'dreamed': 1,\n",
       " 'over': 40,\n",
       " 'xi': 1,\n",
       " 'london': 1,\n",
       " 'crumbs': 4,\n",
       " 'before': 39,\n",
       " 'thenbills': 1,\n",
       " 'chatte': 1,\n",
       " 'fit': 3,\n",
       " 'somewhere': 3,\n",
       " 'lefthand': 2,\n",
       " 'fix': 2,\n",
       " 'elsebut': 1,\n",
       " 'writing': 7,\n",
       " 'better': 14,\n",
       " 'hm': 1,\n",
       " 'production': 1,\n",
       " 'fig': 1,\n",
       " 'glanced': 1,\n",
       " 'croquet': 6,\n",
       " 'weeks': 1,\n",
       " 'overcome': 1,\n",
       " 'then': 90,\n",
       " 'them': 84,\n",
       " 'romeno': 1,\n",
       " 'slate': 2,\n",
       " 'safe': 2,\n",
       " 'break': 2,\n",
       " 'caterpillar': 27,\n",
       " 'they': 130,\n",
       " 'interrupt': 1,\n",
       " 'awfully': 1,\n",
       " 'bank': 2,\n",
       " 'pegs': 1,\n",
       " 'theni': 1,\n",
       " 'grammar': 1,\n",
       " 'meat': 1,\n",
       " 'alternately': 1,\n",
       " 'herald': 1,\n",
       " 'good': 24,\n",
       " '1e2': 1,\n",
       " 'roast': 1,\n",
       " 'each': 9,\n",
       " 'went': 83,\n",
       " 'side': 17,\n",
       " 'cornerno': 1,\n",
       " 'mean': 10,\n",
       " 'calmly': 1,\n",
       " 'financial': 1,\n",
       " 'telescope': 3,\n",
       " 'series': 1,\n",
       " 'applicable': 3,\n",
       " 'vote': 1,\n",
       " 'taught': 4,\n",
       " 'forgot': 2,\n",
       " 'flock': 1,\n",
       " 'array': 1,\n",
       " 'reminding': 1,\n",
       " 'velvet': 1,\n",
       " 'network': 1,\n",
       " 'eeevening': 3,\n",
       " 'sighing': 3,\n",
       " 'fellows': 1,\n",
       " 'content': 1,\n",
       " 'encourage': 1,\n",
       " 'branch': 1,\n",
       " 'millennium': 1,\n",
       " 'got': 45,\n",
       " 'size': 13,\n",
       " 'forth': 8,\n",
       " 'foundation': 22,\n",
       " 'splashed': 1,\n",
       " 'stamping': 2,\n",
       " 'turning': 12,\n",
       " 'speakand': 1,\n",
       " 'written': 9,\n",
       " 'lessonbook': 1,\n",
       " 'onebut': 1,\n",
       " 'little': 128,\n",
       " 'free': 8,\n",
       " 'uglification': 2,\n",
       " '646221541': 1,\n",
       " 'whereupon': 1,\n",
       " 'mallets': 1,\n",
       " 'wanted': 4,\n",
       " 'telescopes': 1,\n",
       " 'enormous': 1,\n",
       " 'ate': 1,\n",
       " 'shelves': 1,\n",
       " 'writhing': 1,\n",
       " 'cackled': 1,\n",
       " 'messages': 2,\n",
       " 'days': 8,\n",
       " 'trotting': 2,\n",
       " 'pence': 1,\n",
       " 'hopeless': 1,\n",
       " 'alices': 17,\n",
       " 'moving': 3,\n",
       " 'loud': 6,\n",
       " 'bite': 2,\n",
       " 'user': 3,\n",
       " 'enjoy': 1,\n",
       " 'already': 3,\n",
       " 'dunce': 1,\n",
       " 'curiouser': 2,\n",
       " 'synonymous': 1,\n",
       " 'encouraging': 2,\n",
       " 'hearing': 4,\n",
       " 'wash': 2,\n",
       " 'another': 22,\n",
       " 'thoughtfully': 4,\n",
       " 'thick': 1,\n",
       " 'electronic': 27,\n",
       " 'anyone': 5,\n",
       " 'service': 1,\n",
       " 'indicate': 1,\n",
       " '84116': 1,\n",
       " 'top': 8,\n",
       " 'neck': 7,\n",
       " 'girls': 3,\n",
       " '1c': 2,\n",
       " 'airs': 1,\n",
       " 'master': 3,\n",
       " 'too': 26,\n",
       " 'wildly': 2,\n",
       " 'legs': 3,\n",
       " 'dogs': 4,\n",
       " 'listen': 7,\n",
       " 'consented': 1,\n",
       " 'ceiling': 1,\n",
       " 'solemnly': 4,\n",
       " 'meanstomakeanythingprettier': 1,\n",
       " 'fancying': 1,\n",
       " 'took': 24,\n",
       " 'hadnt': 8,\n",
       " 'positively': 1,\n",
       " 'begins': 4,\n",
       " 'distance': 7,\n",
       " 'perfectly': 4,\n",
       " 'withoutmaybe': 1,\n",
       " 'coward': 1,\n",
       " 'tree': 5,\n",
       " 'second': 6,\n",
       " 'seated': 1,\n",
       " 'project': 86,\n",
       " 'matter': 9,\n",
       " 'splendidly': 1,\n",
       " 'exclaimed': 6,\n",
       " 'flame': 1,\n",
       " 'friend': 3,\n",
       " 'feeling': 7,\n",
       " 'fashion': 2,\n",
       " 'ran': 16,\n",
       " 'faceand': 1,\n",
       " 'shyly': 1,\n",
       " 'modern': 1,\n",
       " 'mind': 10,\n",
       " 'mine': 8,\n",
       " 'talking': 17,\n",
       " 'manner': 2,\n",
       " 'further': 4,\n",
       " 'seen': 14,\n",
       " 'seem': 8,\n",
       " 'groundand': 1,\n",
       " 'eels': 1,\n",
       " 'strength': 1,\n",
       " 'mostly': 2,\n",
       " 'thoroughly': 2,\n",
       " 'doori': 1,\n",
       " 'haste': 1,\n",
       " 'eagerly': 8,\n",
       " 'subjects': 1,\n",
       " 'guineapig': 2,\n",
       " 'doors': 2,\n",
       " 'laughed': 2,\n",
       " 'andoh': 2,\n",
       " 'gravy': 1,\n",
       " 'exactly': 8,\n",
       " 'though': 11,\n",
       " 'ebook': 9,\n",
       " 'regular': 2,\n",
       " 'mouth': 10,\n",
       " 'plenty': 2,\n",
       " 'the': 1804,\n",
       " 'grave': 3,\n",
       " 'zealand': 1,\n",
       " 'professor': 1,\n",
       " 'm': 4,\n",
       " 'dog': 2,\n",
       " 'swamp': 1,\n",
       " 'ridiculous': 1,\n",
       " 'pineapple': 1,\n",
       " 'notion': 3,\n",
       " 'incomplete': 1,\n",
       " 'decidedly': 4,\n",
       " 'saying': 15,\n",
       " 'currants': 1,\n",
       " 'pardoned': 1,\n",
       " 'steamengine': 1,\n",
       " 'pope': 1,\n",
       " 'lewis': 4,\n",
       " 'queen': 68,\n",
       " 'sage': 1,\n",
       " 'ending': 1,\n",
       " 'attempts': 1,\n",
       " 'queer': 10,\n",
       " 'earth': 4,\n",
       " 'lessons': 10,\n",
       " 'execution': 2,\n",
       " 'flowers': 2,\n",
       " 'spite': 1,\n",
       " 'explain': 10,\n",
       " 'folded': 3,\n",
       " 'sugar': 1,\n",
       " 'itsits': 1,\n",
       " 'deepest': 1,\n",
       " 'disgust': 1,\n",
       " 'themi': 1,\n",
       " 'do': 98,\n",
       " 'cartwheels': 1,\n",
       " 'squeaking': 2,\n",
       " 'stop': 6,\n",
       " 'coast': 1,\n",
       " 'frowning': 4,\n",
       " 'shutting': 2,\n",
       " 'cushion': 2,\n",
       " 'altogether': 5,\n",
       " 'nasty': 1,\n",
       " 'dr': 2,\n",
       " 'youcome': 1,\n",
       " 'comply': 6,\n",
       " 'bat': 3,\n",
       " 'countries': 1,\n",
       " 'nicely': 2,\n",
       " 'ever': 21,\n",
       " 'anxiously': 14,\n",
       " 'shape': 1,\n",
       " 'licking': 1,\n",
       " 'public': 9,\n",
       " 'twice': 5,\n",
       " 'bad': 2,\n",
       " 'softly': 1,\n",
       " 'lookingglass': 1,\n",
       " 'release': 1,\n",
       " 'explanations': 1,\n",
       " 'ears': 5,\n",
       " 'blew': 2,\n",
       " 'fair': 1,\n",
       " 'checks': 1,\n",
       " 'depends': 2,\n",
       " 'decided': 3,\n",
       " 'submitted': 1,\n",
       " 'cattle': 1,\n",
       " 'corrupt': 1,\n",
       " 'miserable': 2,\n",
       " 'mournfully': 1,\n",
       " 'best': 12,\n",
       " 'subject': 7,\n",
       " 'pebbles': 2,\n",
       " 'said': 462,\n",
       " 'away': 27,\n",
       " 'irs': 1,\n",
       " 'enoughi': 1,\n",
       " 'unable': 1,\n",
       " 'finger': 5,\n",
       " 'sorts': 3,\n",
       " 'previous': 1,\n",
       " 'approach': 1,\n",
       " 'preserve': 1,\n",
       " 'claws': 2,\n",
       " 'lazy': 1,\n",
       " 'interrupting': 2,\n",
       " 'terms': 22,\n",
       " '99712': 1,\n",
       " 'confusion': 5,\n",
       " 'weak': 2,\n",
       " 'however': 21,\n",
       " 'camomile': 1,\n",
       " 'twinkling': 4,\n",
       " 'drew': 5,\n",
       " 'extent': 1,\n",
       " 'picking': 2,\n",
       " 'maynt': 1,\n",
       " 'improve': 1,\n",
       " 'pity': 3,\n",
       " 'received': 6,\n",
       " 'protect': 2,\n",
       " 'accident': 2,\n",
       " 'goodnatured': 1,\n",
       " 'reported': 1,\n",
       " 'country': 3,\n",
       " 'ill': 33,\n",
       " 'adventures': 11,\n",
       " 'edgar': 1,\n",
       " 'players': 4,\n",
       " 'games': 2,\n",
       " 'faces': 5,\n",
       " 'argue': 1,\n",
       " 'asked': 17,\n",
       " 'httpwwwgutenbergorg111': 1,\n",
       " 'tone': 40,\n",
       " 'appeared': 8,\n",
       " 'character': 1,\n",
       " 'backsomersault': 1,\n",
       " 'lullaby': 1,\n",
       " 'height': 5,\n",
       " 'active': 2,\n",
       " 'wider': 1,\n",
       " 'beheaded': 3,\n",
       " 'merchantibility': 1,\n",
       " 'speak': 14,\n",
       " 'shouting': 2,\n",
       " 'tarts': 7,\n",
       " 'three': 26,\n",
       " 'been': 38,\n",
       " 'quarrelling': 2,\n",
       " 'chimneys': 1,\n",
       " 'recognised': 1,\n",
       " 'teaparty': 2,\n",
       " 'schoolroom': 1,\n",
       " 'expected': 1,\n",
       " 'firstverdict': 1,\n",
       " 'lovely': 2,\n",
       " 'knowno': 1,\n",
       " 'threw': 2,\n",
       " 'life': 12,\n",
       " 'frogfootman': 1,\n",
       " 'beloved': 1,\n",
       " 'mushroom': 8,\n",
       " 'turned': 16,\n",
       " 'concerning': 2,\n",
       " 'uncommon': 1,\n",
       " 'joined': 3,\n",
       " 'soooop': 7,\n",
       " 'child': 10,\n",
       " 'catch': 3,\n",
       " 'doth': 3,\n",
       " 'teapot': 1,\n",
       " 'rabbitspat': 1,\n",
       " 'tonight': 1,\n",
       " 'has': 9,\n",
       " 'lessen': 1,\n",
       " 'tastes': 1,\n",
       " 'air': 14,\n",
       " 'aim': 1,\n",
       " 'ugly': 2,\n",
       " 'lizard': 5,\n",
       " 'suppose': 14,\n",
       " 'viii': 1,\n",
       " 'stopping': 1,\n",
       " 'property': 2,\n",
       " 'leaves': 6,\n",
       " 'mistake': 3,\n",
       " 'remembering': 1,\n",
       " 'ix': 1,\n",
       " 'seven': 6,\n",
       " 'stretching': 2,\n",
       " 'have': 85,\n",
       " 'played': 1,\n",
       " 'is': 128,\n",
       " 'it': 541,\n",
       " 'iv': 1,\n",
       " 'ii': 2,\n",
       " 'need': 1,\n",
       " 'cant': 28,\n",
       " 'im': 57,\n",
       " 'clinging': 1,\n",
       " 'in': 428,\n",
       " 'happening': 1,\n",
       " 'importantunimportantunimportantimportant': 1,\n",
       " 'mouse': 38,\n",
       " 'id': 11,\n",
       " 'arminarm': 1,\n",
       " 'grown': 7,\n",
       " 'containing': 1,\n",
       " 'severity': 1,\n",
       " 'credit': 1,\n",
       " 'perform': 1,\n",
       " 'things': 30,\n",
       " 'make': 29,\n",
       " 'breadandbutter': 6,\n",
       " 'forehead': 2,\n",
       " 'damages': 4,\n",
       " 'unfortunate': 3,\n",
       " 'vegetable': 1,\n",
       " 'plates': 2,\n",
       " 'several': 5,\n",
       " 'couple': 1,\n",
       " 'fairly': 1,\n",
       " 'teathings': 1,\n",
       " 'tops': 1,\n",
       " 'hand': 20,\n",
       " 'delight': 3,\n",
       " 'marched': 1,\n",
       " 'canterbury': 1,\n",
       " 'dozing': 1,\n",
       " 'opportunity': 9,\n",
       " 'thoughts': 2,\n",
       " 'kid': 5,\n",
       " 'butter': 3,\n",
       " 'hearth': 1,\n",
       " 'kept': 13,\n",
       " 'pattering': 3,\n",
       " 'askance': 1,\n",
       " 'possessed': 1,\n",
       " 'humble': 1,\n",
       " 'bankthe': 1,\n",
       " '809': 1,\n",
       " 'rome': 1,\n",
       " 'humbly': 2,\n",
       " 'impertinent': 1,\n",
       " 'hearts': 8,\n",
       " '801': 1,\n",
       " 'bythebye': 1,\n",
       " 'yours': 3,\n",
       " 'trademarkcopyright': 1,\n",
       " 'left': 14,\n",
       " 'just': 51,\n",
       " 'sentence': 8,\n",
       " 'distribute': 6,\n",
       " 'sleepy': 5,\n",
       " 'atheling': 1,\n",
       " 'verses': 4,\n",
       " 'identify': 1,\n",
       " 'farther': 1,\n",
       " 'bearmind': 1,\n",
       " 'yes': 13,\n",
       " 'yer': 4,\n",
       " 'yet': 22,\n",
       " 'electronically': 2,\n",
       " 'secure': 1,\n",
       " 'adding': 1,\n",
       " 'spectacles': 3,\n",
       " 'hjckrrh': 1,\n",
       " 'royal': 2,\n",
       " 'belongs': 2,\n",
       " 'easy': 3,\n",
       " 'prison': 1,\n",
       " 'save': 1,\n",
       " 'hat': 1,\n",
       " 'gave': 15,\n",
       " 'vii': 1,\n",
       " 'boxed': 1,\n",
       " 'online': 4,\n",
       " 'possible': 1,\n",
       " 'bythe': 1,\n",
       " 'possibly': 3,\n",
       " 'dreamy': 1,\n",
       " 'flamingoes': 2,\n",
       " 'afore': 1,\n",
       " 'gutenbergtms': 1,\n",
       " 'judge': 4,\n",
       " 'isthe': 1,\n",
       " 'replace': 1,\n",
       " 'burnt': 1,\n",
       " 'shoulder': 4,\n",
       " 'sorrows': 1,\n",
       " 'appearing': 2,\n",
       " 'uncivil': 1,\n",
       " 'seaside': 1,\n",
       " 'alice': 385,\n",
       " 'quadrille': 4,\n",
       " 'theyre': 13,\n",
       " 'specific': 1,\n",
       " 'renamed': 1,\n",
       " 'officer': 1,\n",
       " 'night': 3,\n",
       " 'hung': 1,\n",
       " 'right': 35,\n",
       " 'old': 21,\n",
       " 'deal': 12,\n",
       " 'people': 16,\n",
       " 'sends': 1,\n",
       " 'crown': 3,\n",
       " 'somehow': 1,\n",
       " 'dead': 4,\n",
       " '50': 1,\n",
       " 'fulcrum': 1,\n",
       " 'clubs': 1,\n",
       " 'escape': 4,\n",
       " 'dear': 29,\n",
       " 'straightening': 1,\n",
       " 'bore': 1,\n",
       " 'repeated': 10,\n",
       " 'creep': 1,\n",
       " 'confusing': 3,\n",
       " 'denies': 1,\n",
       " 'for': 179,\n",
       " 'bottom': 4,\n",
       " 'purple': 1,\n",
       " 'everything': 10,\n",
       " 'asking': 5,\n",
       " 'shakespeare': 1,\n",
       " 'denied': 2,\n",
       " 'serpents': 3,\n",
       " 'beating': 2,\n",
       " 'christmas': 1,\n",
       " 'pinched': 2,\n",
       " 'knew': 15,\n",
       " 'congereel': 1,\n",
       " 'burn': 2,\n",
       " 'disappeared': 2,\n",
       " 'boyand': 1,\n",
       " 'shifting': 1,\n",
       " 'paid': 6,\n",
       " 'losing': 1,\n",
       " 'bowing': 1,\n",
       " 'permitted': 3,\n",
       " 'proceed': 2,\n",
       " 'chapter': 12,\n",
       " 'limitation': 3,\n",
       " 'theirs': 1,\n",
       " 'newspapers': 1,\n",
       " 'choke': 1,\n",
       " 'o': 2,\n",
       " 'costs': 2,\n",
       " 'dinner': 2,\n",
       " 'despair': 1,\n",
       " 'efforts': 3,\n",
       " 'sluggard': 1,\n",
       " 'this': 181,\n",
       " 'raised': 2,\n",
       " 'sob': 1,\n",
       " 'statements': 1,\n",
       " 'facility': 1,\n",
       " 'civil': 3,\n",
       " 'prisoners': 1,\n",
       " 'obtaining': 2,\n",
       " 'bound': 3,\n",
       " 'cauldron': 2,\n",
       " 'son': 1,\n",
       " 'down': 101,\n",
       " 'respectable': 1,\n",
       " 'bats': 4,\n",
       " 'lieu': 2,\n",
       " 'balanced': 1,\n",
       " 'frightened': 7,\n",
       " 'often': 6,\n",
       " 'crowd': 4,\n",
       " 'impatiently': 5,\n",
       " 'wag': 1,\n",
       " 'support': 4,\n",
       " 'sneezing': 6,\n",
       " 'fight': 2,\n",
       " 'derision': 1,\n",
       " 'lowspirited': 1,\n",
       " 'way': 54,\n",
       " 'music': 3,\n",
       " 'was': 358,\n",
       " 'happy': 1,\n",
       " 'fork': 1,\n",
       " 'head': 48,\n",
       " 'medium': 5,\n",
       " 'form': 5,\n",
       " 'offer': 2,\n",
       " 'attempted': 1,\n",
       " 'becoming': 1,\n",
       " 'remarking': 3,\n",
       " 'failure': 1,\n",
       " 'hear': 15,\n",
       " 'heap': 1,\n",
       " 'removed': 4,\n",
       " 'nodded': 1,\n",
       " 'theyyouve': 1,\n",
       " 'flavour': 1,\n",
       " 'full': 19,\n",
       " 'rippling': 1,\n",
       " 'inside': 2,\n",
       " 'attached': 1,\n",
       " 'maximum': 1,\n",
       " 'until': 5,\n",
       " 'retire': 1,\n",
       " 'marmalade': 1,\n",
       " 'unusually': 1,\n",
       " 'more': 49,\n",
       " 'bitterandand': 1,\n",
       " 'temper': 5,\n",
       " 'proud': 2,\n",
       " 'proved': 2,\n",
       " 'sticks': 1,\n",
       " 'goodnaturedly': 1,\n",
       " 'fury': 3,\n",
       " 'toss': 1,\n",
       " 'paragraphs': 3,\n",
       " 'muscular': 1,\n",
       " 'hungry': 3,\n",
       " 'howling': 3,\n",
       " 'guessed': 3,\n",
       " 'promised': 1,\n",
       " 'melan': 1,\n",
       " 'candle': 3,\n",
       " 'accounting': 1,\n",
       " 'archive': 13,\n",
       " 'peeping': 1,\n",
       " 'solicitation': 1,\n",
       " 'floor': 3,\n",
       " 'generally': 7,\n",
       " 'handed': 3,\n",
       " 'tis': 5,\n",
       " 'beheading': 1,\n",
       " 'setting': 1,\n",
       " 'holding': 3,\n",
       " 'tie': 1,\n",
       " 'vanished': 4,\n",
       " 'shrink': 1,\n",
       " 'saucepans': 1,\n",
       " 'picture': 1,\n",
       " 'brothers': 1,\n",
       " 'savage': 4,\n",
       " 'turnup': 1,\n",
       " 'surprise': 5,\n",
       " 'welcome': 1,\n",
       " 'fell': 6,\n",
       " 'ridges': 1,\n",
       " 'gardenhow': 1,\n",
       " 'inkstand': 1,\n",
       " 'unlocking': 1,\n",
       " 'died': 1,\n",
       " 'puss': 1,\n",
       " 'spades': 1,\n",
       " 'cheated': 1,\n",
       " 'together': 9,\n",
       " 'beds': 1,\n",
       " 'longed': 2,\n",
       " 'fact': 8,\n",
       " 'cucumberframe': 1,\n",
       " 'remarked': 10,\n",
       " 'push': 1,\n",
       " 'profits': 1,\n",
       " 'concept': 2,\n",
       " 'managed': 4,\n",
       " 'remarkable': 2,\n",
       " 'whoever': 1,\n",
       " 'dance': 13,\n",
       " 'untwist': 1,\n",
       " 'rudeness': 1,\n",
       " 'branches': 2,\n",
       " 'invent': 1,\n",
       " 'seeneverything': 1,\n",
       " 'crocodile': 1,\n",
       " 'england': 1,\n",
       " 'mile': 2,\n",
       " 'displaying': 4,\n",
       " 'milk': 1,\n",
       " 'row': 2,\n",
       " 'certainly': 14,\n",
       " 'father': 6,\n",
       " 'passage': 4,\n",
       " 'answered': 4,\n",
       " 'charge': 6,\n",
       " 'unpleasant': 2,\n",
       " 'promoting': 2,\n",
       " 'terror': 1,\n",
       " 'must': 54,\n",
       " 'pleases': 1,\n",
       " 'jogged': 1,\n",
       " 'furrows': 1,\n",
       " 'brown': 2,\n",
       " 'downloading': 1,\n",
       " 'advantage': 3,\n",
       " 'none': 4,\n",
       " 'hatter': 55,\n",
       " 'choice': 2,\n",
       " 'liability': 3,\n",
       " 'stays': 1,\n",
       " 'cook': 13,\n",
       " 'locked': 1,\n",
       " 'trouble': 6,\n",
       " 'exact': 1,\n",
       " 'feeble': 2,\n",
       " 'minute': 21,\n",
       " 'wore': 1,\n",
       " 'sighed': 5,\n",
       " 'presented': 1,\n",
       " 'did': 62,\n",
       " 'die': 1,\n",
       " 'dig': 1,\n",
       " 'accidentally': 1,\n",
       " 'leave': 9,\n",
       " 'settle': 1,\n",
       " 'quick': 2,\n",
       " 'rabbits': 4,\n",
       " 'round': 41,\n",
       " 'lodging': 1,\n",
       " 'prevent': 2,\n",
       " 'brave': 1,\n",
       " 'voiceshold': 1,\n",
       " 'tougher': 1,\n",
       " 'sigh': 4,\n",
       " 'obsolete': 1,\n",
       " 'sign': 1,\n",
       " 'fairytales': 1,\n",
       " 'cost': 4,\n",
       " 'dried': 1,\n",
       " 'dinahll': 2,\n",
       " 'helpless': 1,\n",
       " 'hoarse': 3,\n",
       " 'irritated': 1,\n",
       " 'appear': 3,\n",
       " 'assistance': 1,\n",
       " 'axes': 1,\n",
       " 'uniform': 1,\n",
       " 'current': 1,\n",
       " 'looking': 30,\n",
       " 'lazily': 1,\n",
       " 'goes': 7,\n",
       " 'shared': 2,\n",
       " 'falling': 2,\n",
       " 'staff': 1,\n",
       " 'filled': 3,\n",
       " 'growls': 1,\n",
       " 'jury': 17,\n",
       " 'nearer': 5,\n",
       " 'honour': 4,\n",
       " 'learn': 8,\n",
       " 'french': 4,\n",
       " 'disclaim': 1,\n",
       " 'pause': 2,\n",
       " 'twentieth': 1,\n",
       " 'yards': 1,\n",
       " 'elses': 1,\n",
       " 'alone': 5,\n",
       " 'along': 5,\n",
       " 'appears': 1,\n",
       " 'change': 15,\n",
       " 'wait': 1,\n",
       " 'box': 4,\n",
       " 'boy': 2,\n",
       " 'thirty': 1,\n",
       " 'sharks': 1,\n",
       " 'grinned': 3,\n",
       " 'gryphon': 55,\n",
       " 'trial': 7,\n",
       " 'patriotic': 1,\n",
       " 'lamps': 1,\n",
       " 'quarrel': 1,\n",
       " 'beauootiful': 4,\n",
       " 'love': 3,\n",
       " 'morals': 1,\n",
       " 'jar': 2,\n",
       " 'merely': 2,\n",
       " 'marked': 8,\n",
       " 'histories': 1,\n",
       " 'inquisitively': 1,\n",
       " 'seashore': 1,\n",
       " 'swallowed': 1,\n",
       " 'stingy': 1,\n",
       " 'everybody': 8,\n",
       " 'voices': 2,\n",
       " 'prove': 1,\n",
       " 'angry': 5,\n",
       " 'visit': 3,\n",
       " 'tears': 11,\n",
       " 'france': 1,\n",
       " 'live': 8,\n",
       " 'going': 27,\n",
       " 'somersault': 1,\n",
       " 'wondering': 7,\n",
       " 'memory': 1,\n",
       " 'associated': 8,\n",
       " 'today': 4,\n",
       " 'loving': 1,\n",
       " 'dismay': 1,\n",
       " 'entrance': 1,\n",
       " 'sharing': 2,\n",
       " 'afford': 1,\n",
       " 'teases': 1,\n",
       " 'ignorant': 1,\n",
       " 'wwwgutenbergorg': 3,\n",
       " 'effort': 2,\n",
       " 'fly': 3,\n",
       " 'mouseo': 1,\n",
       " 'anything': 21,\n",
       " 'shrill': 5,\n",
       " 'teatime': 2,\n",
       " 'pretend': 1,\n",
       " 'mousea': 1,\n",
       " 'modified': 1,\n",
       " 'longitude': 2,\n",
       " 'cat': 35,\n",
       " 'soup': 18,\n",
       " 'can': 44,\n",
       " 'believed': 1,\n",
       " 'making': 8,\n",
       " 'toffee': 1,\n",
       " 'laughter': 1,\n",
       " 'slightest': 1,\n",
       " 'heart': 2,\n",
       " 'crazy': 1,\n",
       " 'undertone': 2,\n",
       " 'nursing': 3,\n",
       " 'figure': 3,\n",
       " 'december': 1,\n",
       " 'sense': 3,\n",
       " 'carroll': 4,\n",
       " 'confused': 4,\n",
       " 'agent': 1,\n",
       " 'paused': 1,\n",
       " 'heard': 30,\n",
       " 'queerest': 1,\n",
       " 'chin': 7,\n",
       " 'dropped': 5,\n",
       " 'sharp': 6,\n",
       " 'counting': 1,\n",
       " 'stole': 2,\n",
       " ...}"
      ]
     },
     "execution_count": 166,
     "metadata": {},
     "output_type": "execute_result"
    }
   ],
   "source": [
    "most_common"
   ]
  },
  {
   "cell_type": "markdown",
   "metadata": {},
   "source": [
    "### To find top 10, need to sort dictionary on values. There are <em>MANY</em> ways to do this."
   ]
  },
  {
   "cell_type": "code",
   "execution_count": 167,
   "metadata": {
    "collapsed": false
   },
   "outputs": [
    {
     "data": {
      "text/plain": [
       "[('the', 1804),\n",
       " ('and', 912),\n",
       " ('to', 801),\n",
       " ('a', 684),\n",
       " ('of', 625),\n",
       " ('it', 541),\n",
       " ('she', 538),\n",
       " ('said', 462),\n",
       " ('you', 429),\n",
       " ('in', 428)]"
      ]
     },
     "execution_count": 167,
     "metadata": {},
     "output_type": "execute_result"
    }
   ],
   "source": [
    "# using base python\n",
    "\n",
    "sorted_words_lambda = sorted(most_common_list.items(), key = lambda x: x[1], reverse = True)\n",
    "sorted_words_lambda[:10]"
   ]
  },
  {
   "cell_type": "code",
   "execution_count": 168,
   "metadata": {
    "collapsed": false
   },
   "outputs": [
    {
     "data": {
      "text/plain": [
       "[('the', 1804),\n",
       " ('and', 912),\n",
       " ('to', 801),\n",
       " ('a', 684),\n",
       " ('of', 625),\n",
       " ('it', 541),\n",
       " ('she', 538),\n",
       " ('said', 462),\n",
       " ('you', 429),\n",
       " ('in', 428)]"
      ]
     },
     "execution_count": 168,
     "metadata": {},
     "output_type": "execute_result"
    }
   ],
   "source": [
    "# using itemgetter from operator module\n",
    "from operator import itemgetter\n",
    "\n",
    "sorted_words_itemgetter = sorted(most_common_list.items(), key = itemgetter(1), reverse = True)\n",
    "sorted_words_itemgetter[:10]"
   ]
  },
  {
   "cell_type": "code",
   "execution_count": 169,
   "metadata": {
    "collapsed": false,
    "scrolled": false
   },
   "outputs": [
    {
     "data": {
      "text/plain": [
       "[('the', 1804),\n",
       " ('and', 912),\n",
       " ('to', 801),\n",
       " ('a', 684),\n",
       " ('of', 625),\n",
       " ('it', 541),\n",
       " ('she', 538),\n",
       " ('said', 462),\n",
       " ('you', 429),\n",
       " ('in', 428)]"
      ]
     },
     "execution_count": 169,
     "metadata": {},
     "output_type": "execute_result"
    }
   ],
   "source": [
    "# using collections module\n",
    "from collections import OrderedDict\n",
    "\n",
    "sorted_words_collections = OrderedDict(sorted(most_common_list.items(), key = lambda x: x[1], reverse = True))\n",
    "sorted_words_collections.items()[:10]"
   ]
  },
  {
   "cell_type": "code",
   "execution_count": 170,
   "metadata": {
    "collapsed": false
   },
   "outputs": [
    {
     "name": "stdout",
     "output_type": "stream",
     "text": [
      "the 1804\n",
      "and 912\n",
      "to 801\n",
      "a 684\n",
      "of 625\n",
      "it 541\n",
      "she 538\n",
      "said 462\n",
      "you 429\n",
      "in 428\n"
     ]
    }
   ],
   "source": [
    "# default dict\n",
    "\n",
    "from collections import defaultdict\n",
    "inverse = defaultdict( list )\n",
    "\n",
    "for k, v in most_common_list.items():\n",
    "    inverse[v].append( k )\n",
    "\n",
    "for k in sorted(inverse,reverse=True)[:10]:\n",
    "    print inverse[k][0], k"
   ]
  },
  {
   "cell_type": "code",
   "execution_count": 171,
   "metadata": {
    "collapsed": false
   },
   "outputs": [
    {
     "data": {
      "text/plain": [
       "[word(word=1804, count='the'),\n",
       " word(word=912, count='and'),\n",
       " word(word=801, count='to'),\n",
       " word(word=684, count='a'),\n",
       " word(word=625, count='of'),\n",
       " word(word=541, count='it'),\n",
       " word(word=538, count='she'),\n",
       " word(word=462, count='said'),\n",
       " word(word=429, count='you'),\n",
       " word(word=428, count='in')]"
      ]
     },
     "execution_count": 171,
     "metadata": {},
     "output_type": "execute_result"
    }
   ],
   "source": [
    "# named tuple\n",
    "\n",
    "from collections import namedtuple\n",
    "\n",
    "sorted_words_named = namedtuple('word', 'word count')\n",
    "sorted_words_named = sorted([sorted_words_named(v,k) for (k,v) in most_common_list.items()], reverse=True)\n",
    "sorted_words_named[:10]"
   ]
  },
  {
   "cell_type": "code",
   "execution_count": 172,
   "metadata": {
    "collapsed": false
   },
   "outputs": [
    {
     "data": {
      "text/plain": [
       "[('the', 1804),\n",
       " ('and', 912),\n",
       " ('to', 801),\n",
       " ('a', 684),\n",
       " ('of', 625),\n",
       " ('it', 541),\n",
       " ('she', 538),\n",
       " ('said', 462),\n",
       " ('you', 429),\n",
       " ('in', 428)]"
      ]
     },
     "execution_count": 172,
     "metadata": {},
     "output_type": "execute_result"
    }
   ],
   "source": [
    "# using Counter\n",
    "\n",
    "from collections import Counter\n",
    "\n",
    "sorted_words_counter = [item for item in Counter(words).most_common(10)]\n",
    "sorted_words_counter[:10]"
   ]
  },
  {
   "cell_type": "markdown",
   "metadata": {},
   "source": [
    "++++++++++++++++++++++++++++++++++++++++++++++++++++++++++++++++++++++++++++++++++++++++++++++++++++++++++++++++++++++"
   ]
  },
  {
   "cell_type": "markdown",
   "metadata": {},
   "source": [
    "## EXERCISE TIME!\n",
    "\n",
    "Find the number of words that appear exactly 10 times in the book. Use a python module."
   ]
  },
  {
   "cell_type": "markdown",
   "metadata": {},
   "source": [
    "++++++++++++++++++++++++++++++++++++++++++++++++++++++++++++++++++++++++++++++++++++++++++++++++++++++++++++++++++++++"
   ]
  },
  {
   "cell_type": "code",
   "execution_count": 174,
   "metadata": {
    "collapsed": false
   },
   "outputs": [
    {
     "data": {
      "text/plain": [
       "[('where', 10),\n",
       " ('Hatter,', 10),\n",
       " ('small', 10),\n",
       " ('us', 10),\n",
       " ('walked', 10),\n",
       " ('having', 10),\n",
       " ('thinking', 10),\n",
       " ('read', 10),\n",
       " ('They', 10),\n",
       " ('keep', 10),\n",
       " ('up,', 10),\n",
       " ('against', 10),\n",
       " ('talk', 10),\n",
       " ('voice.', 10),\n",
       " ('enough', 10),\n",
       " ('sitting', 10),\n",
       " ('done', 10),\n",
       " ('most', 10),\n",
       " ('access', 10),\n",
       " ('paragraph', 10),\n",
       " ('United', 10),\n",
       " ('few', 10)]"
      ]
     },
     "execution_count": 174,
     "metadata": {},
     "output_type": "execute_result"
    }
   ],
   "source": [
    "## SOLUTION\n",
    "\n",
    "alice_counter = Counter(alice.split())\n",
    "[(k, v) for (k, v) in alice_counter.items() if v==10]"
   ]
  },
  {
   "cell_type": "markdown",
   "metadata": {},
   "source": [
    "## Find positive sentiment from tweets"
   ]
  },
  {
   "cell_type": "markdown",
   "metadata": {},
   "source": [
    "<ul>\n",
    "<li>Helpful to standardize tweets\n",
    "<li>Convert to lower case\n",
    "<li>Remove punctuation\n",
    "</ul>"
   ]
  },
  {
   "cell_type": "code",
   "execution_count": 283,
   "metadata": {
    "collapsed": false
   },
   "outputs": [],
   "source": [
    "positive_word_dict = {}\n",
    "\n",
    "for tweet in tweets:\n",
    "    for positive_word in positive.split('\\n')[::-1][1:]:\n",
    "        if positive_word in tweet.translate(None, punctuation).lower():\n",
    "            positive_word_dict[positive_word] = positive_word_dict.get(positive_word, 0)\n",
    "            positive_word_dict[positive_word] += 1"
   ]
  },
  {
   "cell_type": "code",
   "execution_count": 286,
   "metadata": {
    "collapsed": false,
    "scrolled": true
   },
   "outputs": [
    {
     "data": {
      "text/plain": [
       "[('ability', 2),\n",
       " ('able', 14),\n",
       " ('accomplishment', 1),\n",
       " ('accomplishments', 1),\n",
       " ('active', 4),\n",
       " ('advantage', 10),\n",
       " ('agreement', 10),\n",
       " ('amazing', 1),\n",
       " ('ample', 1),\n",
       " ('angel', 2),\n",
       " ('appeal', 12),\n",
       " ('apt', 3),\n",
       " ('asset', 5),\n",
       " ('attractive', 8),\n",
       " ('avid', 2),\n",
       " ('awe', 1),\n",
       " ('awestruck', 1),\n",
       " ('better', 10),\n",
       " ('bold', 1),\n",
       " ('boldly', 1),\n",
       " ('boom', 1),\n",
       " ('booming', 1),\n",
       " ('boost', 5),\n",
       " ('brilliant', 1),\n",
       " ('bull', 44),\n",
       " ('calm', 3),\n",
       " ('candid', 2),\n",
       " ('captivating', 1),\n",
       " ('celebrity', 1),\n",
       " ('champ', 1),\n",
       " ('champion', 2),\n",
       " ('chic', 14),\n",
       " ('chum', 1),\n",
       " ('civil', 8),\n",
       " ('civility', 1),\n",
       " ('clean', 8),\n",
       " ('clearly', 2),\n",
       " ('commonsense', 1),\n",
       " ('competent', 4),\n",
       " ('conclusive', 1),\n",
       " ('confidence', 2),\n",
       " ('congratulations', 2),\n",
       " ('consistent', 1),\n",
       " ('correct', 1),\n",
       " ('courage', 2),\n",
       " ('credible', 1),\n",
       " ('deal', 11),\n",
       " ('dear', 1),\n",
       " ('decent', 1),\n",
       " ('decisive', 1),\n",
       " ('defense', 9),\n",
       " ('definite', 1),\n",
       " ('dignity', 1),\n",
       " ('dream', 6),\n",
       " ('dreams', 4),\n",
       " ('drive', 3),\n",
       " ('eager', 1),\n",
       " ('ease', 29),\n",
       " ('easy', 1),\n",
       " ('educated', 1),\n",
       " ('effective', 1),\n",
       " ('elated', 1),\n",
       " ('elation', 2),\n",
       " ('elite', 1),\n",
       " ('endorsement', 2),\n",
       " ('entertaining', 3),\n",
       " ('epic', 1),\n",
       " ('even', 16),\n",
       " ('exceptional', 1),\n",
       " ('excited', 1),\n",
       " ('exclusive', 2),\n",
       " ('expert', 2),\n",
       " ('fair', 12),\n",
       " ('faith', 2),\n",
       " ('fame', 1),\n",
       " ('fantasy', 4),\n",
       " ('favor', 18),\n",
       " ('favorite', 9),\n",
       " ('favour', 2),\n",
       " ('feat', 7),\n",
       " ('fine', 4),\n",
       " ('fit', 1),\n",
       " ('flexible', 3),\n",
       " ('fortitude', 1),\n",
       " ('frank', 1),\n",
       " ('free', 14),\n",
       " ('freedom', 12),\n",
       " ('freedoms', 2),\n",
       " ('fresh', 1),\n",
       " ('friend', 38),\n",
       " ('friendly', 3),\n",
       " ('friends', 8),\n",
       " ('fun', 42),\n",
       " ('funny', 5),\n",
       " ('gain', 43),\n",
       " ('genius', 1),\n",
       " ('glad', 3),\n",
       " ('gold', 1),\n",
       " ('golden', 1),\n",
       " ('good', 18),\n",
       " ('grand', 3),\n",
       " ('great', 10),\n",
       " ('grit', 2),\n",
       " ('guarantee', 1),\n",
       " ('hale', 1),\n",
       " ('handsome', 1),\n",
       " ('happy', 1),\n",
       " ('haven', 1),\n",
       " ('heart', 1),\n",
       " ('help', 12),\n",
       " ('historic', 1),\n",
       " ('holy', 1),\n",
       " ('honest', 14),\n",
       " ('honestly', 1),\n",
       " ('honesty', 2),\n",
       " ('honor', 2),\n",
       " ('hope', 30),\n",
       " ('hot', 21),\n",
       " ('hug', 44),\n",
       " ('humanity', 3),\n",
       " ('illuminati', 6),\n",
       " ('important', 26),\n",
       " ('improvement', 1),\n",
       " ('incredible', 1),\n",
       " ('independence', 2),\n",
       " ('independent', 4),\n",
       " ('integrity', 1),\n",
       " ('interest', 46),\n",
       " ('interesting', 7),\n",
       " ('joke', 1),\n",
       " ('joy', 1),\n",
       " ('just', 174),\n",
       " ('justice', 14),\n",
       " ('kind', 1),\n",
       " ('kiss', 2),\n",
       " ('large', 2),\n",
       " ('lavish', 1),\n",
       " ('leading', 1),\n",
       " ('lean', 18),\n",
       " ('legitimacy', 1),\n",
       " ('liberal', 12),\n",
       " ('liberalism', 1),\n",
       " ('liberty', 8),\n",
       " ('light', 14),\n",
       " ('live', 15),\n",
       " ('logical', 1),\n",
       " ('love', 14),\n",
       " ('lover', 2),\n",
       " ('loyal', 1),\n",
       " ('luck', 1),\n",
       " ('lush', 1),\n",
       " ('master', 24),\n",
       " ('masters', 2),\n",
       " ('mature', 1),\n",
       " ('merit', 1),\n",
       " ('might', 3),\n",
       " ('miraculous', 1),\n",
       " ('modern', 2),\n",
       " ('moving', 2),\n",
       " ('necessary', 1),\n",
       " ('nice', 17),\n",
       " ('novel', 1),\n",
       " ('obedience', 1),\n",
       " ('okay', 2),\n",
       " ('open', 5),\n",
       " ('opportunity', 1),\n",
       " ('passion', 2),\n",
       " ('passionate', 1),\n",
       " ('patriot', 4),\n",
       " ('perfect', 2),\n",
       " ('perfectly', 2),\n",
       " ('pillar', 2),\n",
       " ('plain', 10),\n",
       " ('pledge', 2),\n",
       " ('polite', 1),\n",
       " ('positive', 2),\n",
       " ('praising', 18),\n",
       " ('precedent', 1),\n",
       " ('precious', 8),\n",
       " ('preemptive', 1),\n",
       " ('prepared', 2),\n",
       " ('pretty', 5),\n",
       " ('priceless', 1),\n",
       " ('pride', 2),\n",
       " ('pro', 108),\n",
       " ('profit', 1),\n",
       " ('profitable', 1),\n",
       " ('progress', 14),\n",
       " ('progressive', 3),\n",
       " ('promise', 16),\n",
       " ('prompt', 2),\n",
       " ('proud', 4),\n",
       " ('pure', 1),\n",
       " ('qualified', 2),\n",
       " ('ready', 6),\n",
       " ('real', 56),\n",
       " ('reason', 14),\n",
       " ('reform', 10),\n",
       " ('regard', 4),\n",
       " ('reliable', 2),\n",
       " ('repair', 1),\n",
       " ('resolve', 2),\n",
       " ('resolved', 1),\n",
       " ('respect', 52),\n",
       " ('restraint', 2),\n",
       " ('revolution', 2),\n",
       " ('rich', 4),\n",
       " ('right', 76),\n",
       " ('rights', 14),\n",
       " ('sage', 3),\n",
       " ('saint', 2),\n",
       " ('security', 16),\n",
       " ('sense', 8),\n",
       " ('sexy', 6),\n",
       " ('significant', 1),\n",
       " ('simple', 2),\n",
       " ('skill', 3),\n",
       " ('slim', 32),\n",
       " ('smart', 13),\n",
       " ('smile', 4),\n",
       " ('sound', 1),\n",
       " ('special', 2),\n",
       " ('star', 62),\n",
       " ('straight', 1),\n",
       " ('striking', 1),\n",
       " ('strong', 5),\n",
       " ('sunny', 1),\n",
       " ('super', 1),\n",
       " ('support', 64),\n",
       " ('supporter', 16),\n",
       " ('supreme', 32),\n",
       " ('sure', 16),\n",
       " ('surge', 1),\n",
       " ('sweet', 2),\n",
       " ('swift', 3),\n",
       " ('tact', 5),\n",
       " ('thinkable', 2),\n",
       " ('top', 27),\n",
       " ('tradition', 1),\n",
       " ('traditional', 1),\n",
       " ('treat', 1),\n",
       " ('tribute', 1),\n",
       " ('trim', 1),\n",
       " ('triumph', 1),\n",
       " ('true', 3),\n",
       " ('truly', 3),\n",
       " ('trust', 2),\n",
       " ('ultimate', 1),\n",
       " ('ultra', 2),\n",
       " ('understanding', 4),\n",
       " ('understood', 1),\n",
       " ('unity', 4),\n",
       " ('universal', 1),\n",
       " ('uphold', 1),\n",
       " ('valid', 1),\n",
       " ('warm', 1),\n",
       " ('well', 34),\n",
       " ('white', 38),\n",
       " ('will', 134),\n",
       " ('willing', 1),\n",
       " ('willingness', 2),\n",
       " ('wise', 2),\n",
       " ('wish', 8),\n",
       " ('wishes', 6),\n",
       " ('wow', 9)]"
      ]
     },
     "execution_count": 286,
     "metadata": {},
     "output_type": "execute_result"
    }
   ],
   "source": [
    "sorted(positive_word_dict.items())"
   ]
  },
  {
   "cell_type": "markdown",
   "metadata": {},
   "source": [
    "## Find the most common positive word used in the tweets"
   ]
  },
  {
   "cell_type": "code",
   "execution_count": 287,
   "metadata": {
    "collapsed": false
   },
   "outputs": [
    {
     "data": {
      "text/plain": [
       "[('just', 174)]"
      ]
     },
     "execution_count": 287,
     "metadata": {},
     "output_type": "execute_result"
    }
   ],
   "source": [
    "[item for item in Counter(positive_word_dict).most_common(1)]"
   ]
  },
  {
   "cell_type": "markdown",
   "metadata": {},
   "source": [
    "++++++++++++++++++++++++++++++++++++++++++++++++++++++++++++++++++++++++++++++++++++++++++++++++++++++++++++++++++++"
   ]
  },
  {
   "cell_type": "markdown",
   "metadata": {},
   "source": [
    "## EXERCISE TIME!\n",
    "\n",
    "Do a similar analysis above but using negative words. \n",
    "\n",
    "1) Create a `negative.txt` file using words from <a href='http://www.unc.edu/~ncaren/haphazard/negative.txt'>here</a><br>\n",
    "2) Read in this file and call it `negative`.<br>\n",
    "3) Using negative, find the 10 most common negative words in the tweets. Comment on any interesting observations.<br>\n",
    "4) For the most common negative word, print 10 tweets that contain it. Comment on any interesting observations.\n"
   ]
  },
  {
   "cell_type": "markdown",
   "metadata": {},
   "source": [
    "++++++++++++++++++++++++++++++++++++++++++++++++++++++++++++++++++++++++++++++++++++++++++++++++++++++++++++++++++++"
   ]
  },
  {
   "cell_type": "code",
   "execution_count": 418,
   "metadata": {
    "collapsed": false
   },
   "outputs": [
    {
     "name": "stdout",
     "output_type": "stream",
     "text": [
      "[('ill', 330), ('din', 241), ('sin', 162), ('lie', 156), ('mar', 136), ('war', 106), ('need', 68), ('hell', 63), ('rat', 61), ('wee', 47)]\n",
      "Here's How Obama and the Democrats Will Win in 2012: Let's start by going back to the assorted polls questioning... http://t.co/zpg0TVm3\n",
      "--------------------------------------------------------------------------------\n",
      "RT @GregWHoward: Obama inherited (if you want to use his lame wording) $10.6 trillion in debt and turned it into $15.2 trillion. #tcot #p2 #ocra #teaparty\n",
      "--------------------------------------------------------------------------------\n",
      "If Obama win 2012 Election wait til 2016 he will have full white hair! just like Bill clinton!\n",
      "--------------------------------------------------------------------------------\n",
      "RT @BunkerBlast: RT @teacherspets Obama's Budget: 'Interest Payments Will Exceed Defense Budget' in 2019  http://t.co/uddCXCjt\n",
      "--------------------------------------------------------------------------------\n",
      "@edshow If Obama is a \"thug\" and a \"bully\" then I'm not sure what to call Rush Limbaugh and Bill O.\n",
      "--------------------------------------------------------------------------------\n",
      "Obama has a billion dollar war chest for his reelection.  When were through with vetting him it might as well be Monopoly $ #Resist44\n",
      "--------------------------------------------------------------------------------\n",
      "RT @jennykassan: President Obama: for the first time ordinary Americans will be able to invest in companies they believe in #crowdfunding\n",
      "--------------------------------------------------------------------------------\n",
      "@billmaher Mr Maher I just seen the HBO documentary hot coffee.I feel so upset, we need four more years of President Obama 1000% certtain!\n",
      "--------------------------------------------------------------------------------\n",
      "Is #Syria Obama's trump card, or will civil nukes offer result in more futile sanctions on #Iran? http://t.co/7W5qni2S\n",
      "--------------------------------------------------------------------------------\n",
      "Obama says 2012 will be a \"fun debate\": President Barack Obama says the 2012 election will be a \"fun debate\" ove... http://t.co/OGi7SdUq\n",
      "--------------------------------------------------------------------------------\n"
     ]
    }
   ],
   "source": [
    "## SOLUTION\n",
    "\n",
    "negative = open(\"negative.txt\").read()\n",
    "negative_word_dict = {}\n",
    "\n",
    "for tweet in tweets:\n",
    "    for negative_word in negative.split('\\n')[::-1][1:]:\n",
    "        if negative_word in tweet.translate(None, punctuation).lower():\n",
    "            negative_word_dict[negative_word] = negative_word_dict.get(negative_word, 0)\n",
    "            negative_word_dict[negative_word] += 1\n",
    "\n",
    "negative_counts = [item for item in Counter(negative_word_dict).most_common(10)]\n",
    "print negative_counts\n",
    "\n",
    "counter = 0\n",
    "for tweet in tweets:\n",
    "    if negative_counts[0][0] in tweet.translate(None, punctuation).lower():\n",
    "        counter += 1\n",
    "        if counter <= 10:\n",
    "            print tweet\n",
    "            print 80*'-'\n",
    "        else:\n",
    "            break"
   ]
  },
  {
   "cell_type": "markdown",
   "metadata": {},
   "source": [
    "## What happened??"
   ]
  },
  {
   "cell_type": "markdown",
   "metadata": {},
   "source": [
    "Regular Expression <a id=\"regex\"></a>\n",
    "-----\n",
    "\n",
    "<ul>\n",
    "<li>Special sequence of characters that helps you match (**exact!**) or find other strings or sets of strings, using a specialized syntax held in a pattern\n",
    "<li>Regular expressions as a concept is not exclusive to Python at all.\n",
    "<li>Regular expressions are widely used in UNIX world.\n",
    "<li>`re` module\n",
    "        <ul>\n",
    "        <li>`re.compile()`\n",
    "        <li>`re.match()`\n",
    "        <li>`re.search()`\n",
    "        <li>`re.findall()`\n",
    "        <li>`re.sub()`\n",
    "        </ul>\n",
    "<li>In python, regular expressions tend to be **very slow**. So only use if necessary.\n",
    "</ul>"
   ]
  },
  {
   "cell_type": "code",
   "execution_count": 600,
   "metadata": {
    "collapsed": true
   },
   "outputs": [],
   "source": [
    "from re import match, search, findall, compile, sub"
   ]
  },
  {
   "cell_type": "code",
   "execution_count": 601,
   "metadata": {
    "collapsed": false
   },
   "outputs": [
    {
     "name": "stdout",
     "output_type": "stream",
     "text": [
      "This is a\n",
      "normal string with a newline and \ttab character\n",
      "+++++++++++++++++\n",
      "and this is a\\nraw string which can be used to search for \\tpatterns\n"
     ]
    }
   ],
   "source": [
    "# python treats / as an escape character. So \"/n\" is a newline object, not a literal '/n'\n",
    "# to de-pythonify a string, add r' to the front - this makes it a raw string\n",
    "\n",
    "string = 'This is a\\nnormal string with a newline and \\ttab character'\n",
    "rawString = r'and this is a\\nraw string which can be used to search for \\tpatterns'\n",
    "print string\n",
    "print \"+++++++++++++++++\"\n",
    "print rawString"
   ]
  },
  {
   "cell_type": "markdown",
   "metadata": {},
   "source": [
    "#### `match` - only find matches if they occur at the start of the string being searched."
   ]
  },
  {
   "cell_type": "code",
   "execution_count": 602,
   "metadata": {
    "collapsed": true
   },
   "outputs": [],
   "source": [
    "test_string = \"I'm learning about regular expressions and about how to use them in Python. This is fantastic stuff!\""
   ]
  },
  {
   "cell_type": "code",
   "execution_count": 603,
   "metadata": {
    "collapsed": false
   },
   "outputs": [
    {
     "name": "stdout",
     "output_type": "stream",
     "text": [
      "<_sre.SRE_Match object at 0x10fd563d8>\n",
      "I'm\n"
     ]
    }
   ],
   "source": [
    "match_pattern = match(\"I'm\", test_string) # return pattern matched by query\n",
    "print match_pattern\n",
    "print match_pattern.group()"
   ]
  },
  {
   "cell_type": "code",
   "execution_count": 604,
   "metadata": {
    "collapsed": false
   },
   "outputs": [
    {
     "name": "stdout",
     "output_type": "stream",
     "text": [
      "None\n"
     ]
    }
   ],
   "source": [
    "print match(\"about\", test_string)"
   ]
  },
  {
   "cell_type": "markdown",
   "metadata": {
    "collapsed": true
   },
   "source": [
    "#### `search` - similar to `match`, but `search` doesn’t restrict us to only finding matches at the beginning of the string. But will only return the first result"
   ]
  },
  {
   "cell_type": "code",
   "execution_count": 605,
   "metadata": {
    "collapsed": false
   },
   "outputs": [
    {
     "name": "stdout",
     "output_type": "stream",
     "text": [
      "<_sre.SRE_Match object at 0x10fd564a8>\n"
     ]
    },
    {
     "data": {
      "text/plain": [
       "'about'"
      ]
     },
     "execution_count": 605,
     "metadata": {},
     "output_type": "execute_result"
    }
   ],
   "source": [
    "search_pattern = search('about', test_string)\n",
    "print search_pattern\n",
    "search_pattern.group()"
   ]
  },
  {
   "cell_type": "markdown",
   "metadata": {
    "collapsed": true
   },
   "source": [
    "#### `findall` - get a list of all matching patterns"
   ]
  },
  {
   "cell_type": "code",
   "execution_count": 606,
   "metadata": {
    "collapsed": false
   },
   "outputs": [
    {
     "data": {
      "text/plain": [
       "['about', 'about']"
      ]
     },
     "execution_count": 606,
     "metadata": {},
     "output_type": "execute_result"
    }
   ],
   "source": [
    "findall('about',test_string)"
   ]
  },
  {
   "cell_type": "code",
   "execution_count": 607,
   "metadata": {
    "collapsed": false
   },
   "outputs": [
    {
     "data": {
      "text/plain": [
       "['an', 'an']"
      ]
     },
     "execution_count": 607,
     "metadata": {},
     "output_type": "execute_result"
    }
   ],
   "source": [
    "findall('an',test_string)  # no good"
   ]
  },
  {
   "cell_type": "code",
   "execution_count": 510,
   "metadata": {
    "collapsed": false
   },
   "outputs": [
    {
     "data": {
      "text/plain": [
       "[]"
      ]
     },
     "execution_count": 510,
     "metadata": {},
     "output_type": "execute_result"
    }
   ],
   "source": [
    "findall(' an ',test_string)  # kinda hacky"
   ]
  },
  {
   "cell_type": "code",
   "execution_count": 614,
   "metadata": {
    "collapsed": false
   },
   "outputs": [
    {
     "data": {
      "text/plain": [
       "['about', 'about']"
      ]
     },
     "execution_count": 614,
     "metadata": {},
     "output_type": "execute_result"
    }
   ],
   "source": [
    "word = 'about'\n",
    "findall(r'\\b' + word + r'\\b', test_string)  # better"
   ]
  },
  {
   "cell_type": "code",
   "execution_count": 618,
   "metadata": {
    "collapsed": false
   },
   "outputs": [
    {
     "data": {
      "text/plain": [
       "2"
      ]
     },
     "execution_count": 618,
     "metadata": {},
     "output_type": "execute_result"
    }
   ],
   "source": [
    "word = 'about'\n",
    "test_string.count(word)  # count() is ok for simple searches"
   ]
  },
  {
   "cell_type": "markdown",
   "metadata": {},
   "source": [
    "#### Use `compile` to create regular expressions that you can then `search`, `findall`, `match`, ..."
   ]
  },
  {
   "cell_type": "code",
   "execution_count": 621,
   "metadata": {
    "collapsed": false
   },
   "outputs": [
    {
     "name": "stdout",
     "output_type": "stream",
     "text": [
      "['about', 'about']\n"
     ]
    }
   ],
   "source": [
    "word = 'about'\n",
    "expr = re.compile(r'\\b' + word + r'\\b')  # can get complex\n",
    "print findall(expr, test_string)"
   ]
  },
  {
   "cell_type": "markdown",
   "metadata": {},
   "source": [
    "++++++++++++++++++++++++++++++++++++++++++++++++++++++++++++++++++++++++++++++++++++++++++++++++++++++++++++++++++++++++"
   ]
  },
  {
   "cell_type": "markdown",
   "metadata": {},
   "source": [
    "## EXERCISE TIME!"
   ]
  },
  {
   "cell_type": "markdown",
   "metadata": {},
   "source": [
    "Redo the negative tweet exercise from above to perform exact matching. That is:<br>\n",
    "\n",
    "1) Using negative, find the 10 most common negative words in the tweets. Comment on any interesting observations.<br>\n",
    "2) For the most common negative word, print 10 tweets that contain it. Comment on any interesting observations."
   ]
  },
  {
   "cell_type": "code",
   "execution_count": 667,
   "metadata": {
    "collapsed": false
   },
   "outputs": [
    {
     "name": "stdout",
     "output_type": "stream",
     "text": [
      "[('need', 52), ('bully', 32), ('racist', 24), ('dumb', 20), ('war', 20), ('rumors', 20), ('against', 14), ('trying', 13), ('down', 12), ('blame', 12)]\n",
      "@JoeSixpackSays Our Troops NEED TO COME HOME !!!! BRING OUR TROOPS HOME NOW OBAMA YOU BASTARD OOOORAH SEMPER FI\n",
      "--------------------------------------------------------------------------------\n",
      "@billmaher Mr Maher I just seen the HBO documentary hot coffee.I feel so upset, we need four more years of President Obama 1000% certtain!\n",
      "--------------------------------------------------------------------------------\n",
      "@WilliamShatner  I just seen the HBO documentary hot coffee.I feel so upset, we need four more years of President Obama 1000% certtain!!!\n",
      "--------------------------------------------------------------------------------\n",
      "RT @BelleInABow: Obama doesn't need to be your favorite person, but he's still the President of the United States of America. That always deserves respect.\n",
      "--------------------------------------------------------------------------------\n",
      "@maddow Rachel I just seen the HBO documentary hot coffee.I feel so upset, we need four more years of President Obama 1000% certtain!\n",
      "--------------------------------------------------------------------------------\n",
      "@DavidCornDC Mr Corn I just seen the HBO documentary hot coffee.I feel so upset, we need four more years of President Obama 1000% certtain!\n",
      "--------------------------------------------------------------------------------\n",
      "Obama to all black Americans: I REALLY need you this time! Whitey won't be fooled twice!!   http://t.co/f8b7HLaf  #TREASON\n",
      "--------------------------------------------------------------------------------\n",
      "@KatrinaNation Katrina I just seen the HBO documentary hot coffee.I feel so upset, we need four more years of President Obama 1000% certtain\n",
      "--------------------------------------------------------------------------------\n",
      "RT @BelleInABow: Obama doesn't need to be your favorite person, but he's still the President of the United States of America. That always deserves respect.\n",
      "--------------------------------------------------------------------------------\n",
      "RT @CArepub: We need to tag Obama & define him for Nov battle. #Obama #failedleader #incompetent #wasteful #divisive #desperate #flexible #arrogant #lazy\n",
      "--------------------------------------------------------------------------------\n"
     ]
    }
   ],
   "source": [
    "## SOLUTION\n",
    "\n",
    "negative = open(\"negative.txt\").read()\n",
    "negative_word_dict = {}\n",
    "\n",
    "for tweet in tweets:\n",
    "    for negative_word in negative.split('\\n')[::-1][1:]:  # Since the last item is a ' ', reverse the list and skip it\n",
    "     \n",
    "    #    Note that you could also use count() - this is much faster\n",
    "        num_occurence = tweet.translate(None, punctuation).lower().count(' ' + negative_word + ' ')\n",
    "    \n",
    "        # Unlike the previos exercise - here we increment the dictionary by the number of occurences, \n",
    "        # not just 1 for each occurence\n",
    "    #    num_occurence = len(findall(r'\\b' + negative_word + r'\\b', tweet.translate(None, punctuation).lower()))\n",
    "        \n",
    "        if num_occurence > 0:\n",
    "            negative_word_dict[negative_word] = negative_word_dict.get(negative_word, 0)\n",
    "            negative_word_dict[negative_word] += num_occurence\n",
    "\n",
    "most_negative = [item for item in Counter(negative_word_dict).most_common(10)]\n",
    "print most_negative\n",
    "\n",
    "counter = 0\n",
    "# store most negative word as a regular expression\n",
    "regex = compile(r'\\s' + most_negative[0][0] + '\\s')\n",
    "\n",
    "for tweet in tweets:\n",
    "    # search returns a true or false\n",
    "    if search(regex, tweet.translate(None, punctuation).lower()):\n",
    "        counter += 1\n",
    "        if counter <= 10:\n",
    "            print tweet\n",
    "            print 80*'-'   # add dashed line for easier reading\n",
    "        else:\n",
    "            break"
   ]
  },
  {
   "cell_type": "markdown",
   "metadata": {},
   "source": [
    "++++++++++++++++++++++++++++++++++++++++++++++++++++++++++++++++++++++++++++++++++++++++++++++++++++++++++++++++++++++++"
   ]
  },
  {
   "cell_type": "markdown",
   "metadata": {},
   "source": [
    "Homework<a id=\"hmwk\"></a>\n",
    "===="
   ]
  },
  {
   "cell_type": "markdown",
   "metadata": {},
   "source": [
    "**Q1**.\n",
    "\n",
    "Write a function to remove vowels from a string. Stick to base python only."
   ]
  },
  {
   "cell_type": "code",
   "execution_count": 668,
   "metadata": {
    "collapsed": false
   },
   "outputs": [
    {
     "data": {
      "text/plain": [
       "'Ths sntnc hs n vwls. Cry cry!'"
      ]
     },
     "execution_count": 668,
     "metadata": {},
     "output_type": "execute_result"
    }
   ],
   "source": [
    "## SOLUTION\n",
    "\n",
    "def remove_vowels(s):\n",
    "    vowels = \"aeiouAEIOU\"\n",
    "    s_without_vowels = \"\"\n",
    "    for letter in s:\n",
    "        if letter not in vowels:\n",
    "            s_without_vowels += letter\n",
    "    return s_without_vowels\n",
    "\n",
    "remove_vowels('This sentence has no vowels. Cray cray!')"
   ]
  },
  {
   "cell_type": "markdown",
   "metadata": {},
   "source": [
    "#### Q2. \n",
    "For the next few questions, read in `Through the Looking glass` from Project Gutenberg (`pg12.txt`). "
   ]
  },
  {
   "cell_type": "code",
   "execution_count": 650,
   "metadata": {
    "collapsed": false
   },
   "outputs": [
    {
     "name": "stdout",
     "output_type": "stream",
     "text": [
      "  % Total    % Received % Xferd  Average Speed   Time    Time     Time  Current\n",
      "                                 Dload  Upload   Total   Spent    Left  Speed\n",
      "100  181k  100  181k    0     0   145k      0  0:00:01  0:00:01 --:--:--  145k\n",
      "curl: (6) Could not resolve host: alice.txt\n"
     ]
    }
   ],
   "source": [
    "if not os.path.exists('alice.txt'):\n",
    "    ! curl http://www.gutenberg.org/cache/epub/12/pg12.txt -O alice.txt        "
   ]
  },
  {
   "cell_type": "code",
   "execution_count": 653,
   "metadata": {
    "collapsed": true
   },
   "outputs": [],
   "source": [
    "poem = open('pg12.txt').read()  # read in file"
   ]
  },
  {
   "cell_type": "markdown",
   "metadata": {},
   "source": [
    "**A)**. Print the subset starting from `'JABBERWOCKY'` and ending with `'It seems very pretty.'`"
   ]
  },
  {
   "cell_type": "code",
   "execution_count": 656,
   "metadata": {
    "collapsed": false
   },
   "outputs": [],
   "source": [
    "start = poem.find('JABBERWOCKY')\n",
    "end = poem.find('It seems very pretty', start, end)\n",
    "poem = poem[start:end - 1]"
   ]
  },
  {
   "cell_type": "code",
   "execution_count": 657,
   "metadata": {
    "collapsed": false
   },
   "outputs": [
    {
     "name": "stdout",
     "output_type": "stream",
     "text": [
      "JABBERWOCKY\r\n",
      "\r\n",
      "     'Twas brillig, and the slithy toves\r\n",
      "      Did gyre and gimble in the wabe;\r\n",
      "     All mimsy were the borogoves,\r\n",
      "      And the mome raths outgrabe.\r\n",
      "\r\n",
      "     'Beware the Jabberwock, my son!\r\n",
      "      The jaws that bite, the claws that catch!\r\n",
      "     Beware the Jubjub bird, and shun\r\n",
      "      The frumious Bandersnatch!'\r\n",
      "\r\n",
      "     He took his vorpal sword in hand:\r\n",
      "      Long time the manxome foe he sought--\r\n",
      "     So rested he by the Tumtum tree,\r\n",
      "      And stood awhile in thought.\r\n",
      "\r\n",
      "     And as in uffish thought he stood,\r\n",
      "      The Jabberwock, with eyes of flame,\r\n",
      "     Came whiffling through the tulgey wood,\r\n",
      "      And burbled as it came!\r\n",
      "\r\n",
      "     One, two! One, two! And through and through\r\n",
      "      The vorpal blade went snicker-snack!\r\n",
      "     He left it dead, and with its head\r\n",
      "      He went galumphing back.\r\n",
      "\r\n",
      "     'And hast thou slain the Jabberwock?\r\n",
      "      Come to my arms, my beamish boy!\r\n",
      "     O frabjous day! Callooh! Callay!'\r\n",
      "      He chortled in his joy.\r\n",
      "\r\n",
      "     'Twas brillig, and the slithy toves\r\n",
      "      Did gyre and gimble in the wabe;\r\n",
      "     All mimsy were the borogoves,\r\n",
      "      And the mome raths outgrabe.\r\n",
      "\r\n",
      "\r\n",
      "\n"
     ]
    }
   ],
   "source": [
    "print poem"
   ]
  },
  {
   "cell_type": "markdown",
   "metadata": {},
   "source": [
    "**B)**. Print all *distinct* palindromic words, if any. Remember to 'standardize' first."
   ]
  },
  {
   "cell_type": "code",
   "execution_count": 661,
   "metadata": {
    "collapsed": false
   },
   "outputs": [
    {
     "name": "stdout",
     "output_type": "stream",
     "text": [
      "set(['did', 'o'])\n"
     ]
    }
   ],
   "source": [
    "import string\n",
    "poem = poem.lower()\n",
    "poem = poem.translate(None, string.punctuation)\n",
    "words = poem.split()\n",
    "\n",
    "def is_palindrome(word):\n",
    "    return word == word[::-1] \n",
    "\n",
    "print set(word for word in words if is_palindrome(word))"
   ]
  },
  {
   "cell_type": "markdown",
   "metadata": {},
   "source": [
    "**C)**. Find all possible sequences of 3 words in the poem. This is called a trigram. (Hint: use `zip` or `islice` from `itertools`)"
   ]
  },
  {
   "cell_type": "code",
   "execution_count": 662,
   "metadata": {
    "collapsed": false
   },
   "outputs": [
    {
     "data": {
      "text/plain": [
       "[('jabberwocky', 'twas', 'brillig'),\n",
       " ('twas', 'brillig', 'and'),\n",
       " ('brillig', 'and', 'the'),\n",
       " ('and', 'the', 'slithy'),\n",
       " ('the', 'slithy', 'toves'),\n",
       " ('slithy', 'toves', 'did'),\n",
       " ('toves', 'did', 'gyre'),\n",
       " ('did', 'gyre', 'and'),\n",
       " ('gyre', 'and', 'gimble'),\n",
       " ('and', 'gimble', 'in')]"
      ]
     },
     "execution_count": 662,
     "metadata": {},
     "output_type": "execute_result"
    }
   ],
   "source": [
    "## SOLUTION 1\n",
    "list(zip(words[:-2], words[1:-1], words[2:]))[:10]"
   ]
  },
  {
   "cell_type": "code",
   "execution_count": 663,
   "metadata": {
    "collapsed": false
   },
   "outputs": [
    {
     "data": {
      "text/plain": [
       "[('jabberwocky', 'twas', 'brillig'),\n",
       " ('twas', 'brillig', 'and'),\n",
       " ('brillig', 'and', 'the'),\n",
       " ('and', 'the', 'slithy'),\n",
       " ('the', 'slithy', 'toves'),\n",
       " ('slithy', 'toves', 'did'),\n",
       " ('toves', 'did', 'gyre'),\n",
       " ('did', 'gyre', 'and'),\n",
       " ('gyre', 'and', 'gimble'),\n",
       " ('and', 'gimble', 'in')]"
      ]
     },
     "execution_count": 663,
     "metadata": {},
     "output_type": "execute_result"
    }
   ],
   "source": [
    "## SOLUTION 2\n",
    "import itertools\n",
    "\n",
    "def window(x, n):\n",
    "    \"\"\"Sliding widnow of size n from iterable x.\"\"\"\n",
    "    s = (itertools.islice(x, i, None) for i in range(n))\n",
    "    return zip(*s)\n",
    "\n",
    "list(window(words, 3))[:10]"
   ]
  },
  {
   "cell_type": "markdown",
   "metadata": {},
   "source": [
    "# BONUS QUESTION!\n",
    "\n",
    "**Q1**. Encode and decode `Through the Looking Glass` using a [Caesar cipher](https://en.wikipedia.org/wiki/Caesar_cipher) <br>\n",
    "\n",
    "Hint: create a function `encode(poem, shift)` where `shift` is the number of characters used to encode the cipher. It should return the encoded poem. Can you also use this function to return the decoded cipher?"
   ]
  },
  {
   "cell_type": "code",
   "execution_count": 664,
   "metadata": {
    "collapsed": false
   },
   "outputs": [],
   "source": [
    "## SOLUTION\n",
    "import string\n",
    "\n",
    "def encode(poem, shift):\n",
    "    \n",
    "    shifted_alphabet = string.ascii_lowercase[shift:] + string.ascii_lowercase[:shift]\n",
    "    table = string.maketrans(string.ascii_lowercase, shifted_alphabet)\n",
    "    \n",
    "    return poem.translate(table)"
   ]
  },
  {
   "cell_type": "code",
   "execution_count": 665,
   "metadata": {
    "collapsed": false
   },
   "outputs": [
    {
     "name": "stdout",
     "output_type": "stream",
     "text": [
      "lcddgtyqema\r\n",
      "\r\n",
      "     vycu dtknnki cpf vjg unkvja vqxgu\r\n",
      "      fkf iatg cpf ikodng kp vjg ycdg\r\n",
      "     cnn okoua ygtg vjg dqtqiqxgu\r\n",
      "      cpf vjg oqog tcvju qwvitcdg\r\n",
      "\r\n",
      "     dgyctg vjg lcddgtyqem oa uqp\r\n",
      "      vjg lcyu vjcv dkvg vjg encyu vjcv ecvej\r\n",
      "     dgyctg vjg lwdlwd dktf cpf ujwp\r\n",
      "      vjg htwokqwu dcpfgtupcvej\r\n",
      "\r\n",
      "     jg vqqm jku xqtrcn uyqtf kp jcpf\r\n",
      "      nqpi vkog vjg ocpzqog hqg jg uqwijv\r\n",
      "     uq tguvgf jg da vjg vwovwo vtgg\r\n",
      "      cpf uvqqf cyjkng kp vjqwijv\r\n",
      "\r\n",
      "     cpf cu kp whhkuj vjqwijv jg uvqqf\r\n",
      "      vjg lcddgtyqem ykvj gagu qh hncog\r\n",
      "     ecog yjkhhnkpi vjtqwij vjg vwniga yqqf\r\n",
      "      cpf dwtdngf cu kv ecog\r\n",
      "\r\n",
      "     qpg vyq qpg vyq cpf vjtqwij cpf vjtqwij\r\n",
      "      vjg xqtrcn dncfg ygpv upkemgtupcem\r\n",
      "     jg nghv kv fgcf cpf ykvj kvu jgcf\r\n",
      "      jg ygpv icnworjkpi dcem\r\n",
      "\r\n",
      "     cpf jcuv vjqw unckp vjg lcddgtyqem\r\n",
      "      eqog vq oa ctou oa dgcokuj dqa\r\n",
      "     q htcdlqwu fca ecnnqqj ecnnca\r\n",
      "      jg ejqtvngf kp jku lqa\r\n",
      "\r\n",
      "     vycu dtknnki cpf vjg unkvja vqxgu\r\n",
      "      fkf iatg cpf ikodng kp vjg ycdg\r\n",
      "     cnn okoua ygtg vjg dqtqiqxgu\r\n",
      "      cpf vjg oqog tcvju qwvitcdg\r\n",
      "\r\n",
      "\r\n",
      "\n"
     ]
    }
   ],
   "source": [
    "# Encode\n",
    "\n",
    "cipher = encode(poem, 2)\n",
    "print(cipher)"
   ]
  },
  {
   "cell_type": "code",
   "execution_count": 666,
   "metadata": {
    "collapsed": false
   },
   "outputs": [
    {
     "name": "stdout",
     "output_type": "stream",
     "text": [
      "jabberwocky\r\n",
      "\r\n",
      "     twas brillig and the slithy toves\r\n",
      "      did gyre and gimble in the wabe\r\n",
      "     all mimsy were the borogoves\r\n",
      "      and the mome raths outgrabe\r\n",
      "\r\n",
      "     beware the jabberwock my son\r\n",
      "      the jaws that bite the claws that catch\r\n",
      "     beware the jubjub bird and shun\r\n",
      "      the frumious bandersnatch\r\n",
      "\r\n",
      "     he took his vorpal sword in hand\r\n",
      "      long time the manxome foe he sought\r\n",
      "     so rested he by the tumtum tree\r\n",
      "      and stood awhile in thought\r\n",
      "\r\n",
      "     and as in uffish thought he stood\r\n",
      "      the jabberwock with eyes of flame\r\n",
      "     came whiffling through the tulgey wood\r\n",
      "      and burbled as it came\r\n",
      "\r\n",
      "     one two one two and through and through\r\n",
      "      the vorpal blade went snickersnack\r\n",
      "     he left it dead and with its head\r\n",
      "      he went galumphing back\r\n",
      "\r\n",
      "     and hast thou slain the jabberwock\r\n",
      "      come to my arms my beamish boy\r\n",
      "     o frabjous day callooh callay\r\n",
      "      he chortled in his joy\r\n",
      "\r\n",
      "     twas brillig and the slithy toves\r\n",
      "      did gyre and gimble in the wabe\r\n",
      "     all mimsy were the borogoves\r\n",
      "      and the mome raths outgrabe\r\n",
      "\r\n",
      "\r\n",
      "\n"
     ]
    }
   ],
   "source": [
    "# Decode\n",
    "\n",
    "recovered = encode(cipher, -2)\n",
    "print(recovered)"
   ]
  },
  {
   "cell_type": "code",
   "execution_count": null,
   "metadata": {
    "collapsed": true
   },
   "outputs": [],
   "source": []
  }
 ],
 "metadata": {
  "kernelspec": {
   "display_name": "Python 2",
   "language": "python",
   "name": "python2"
  },
  "language_info": {
   "codemirror_mode": {
    "name": "ipython",
    "version": 2
   },
   "file_extension": ".py",
   "mimetype": "text/x-python",
   "name": "python",
   "nbconvert_exporter": "python",
   "pygments_lexer": "ipython2",
   "version": "2.7.10"
  }
 },
 "nbformat": 4,
 "nbformat_minor": 0
}
