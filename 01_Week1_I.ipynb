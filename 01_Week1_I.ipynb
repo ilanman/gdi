{
 "cells": [
  {
   "cell_type": "markdown",
   "metadata": {},
   "source": [
    "Introduction to Python for Data Science\n",
    "====\n",
    "0. [Overview](#overview)\n",
    "1. [Review](#review)\n",
    "2. [Iris Data](#iris)\n",
    "3. [Dictionary, list](#dict)\n",
    "4. [List comprehension](#compr)\n",
    "5. [Review Problems](#hmwk)"
   ]
  },
  {
   "cell_type": "markdown",
   "metadata": {},
   "source": [
    "# WHOAREWE?\n",
    "\n",
    "<ul>\n",
    "<li>Ilan, Ai, Squarespace, Duke\n",
    "<li>TAs: Paul and Nick, Ai\n",
    "</ul>"
   ]
  },
  {
   "cell_type": "markdown",
   "metadata": {},
   "source": [
    "# WHOAREYOU?\n",
    "\n",
    "<ul>\n",
    "<li>Names\n",
    "<li>Programming experience\n",
    "<li>Why are you here\n",
    "<li>Favoriate band | restaurant (in Durham) | hometown (if not Durham)\n",
    "</ul>"
   ]
  },
  {
   "cell_type": "markdown",
   "metadata": {},
   "source": [
    "# COURSE OVERVIEW <a id='overview'></a>\n",
    "\n",
    "<ul>\n",
    "<li>Will be using notebooks to review concepts\n",
    "<ul>\n",
    "<li>Ask questions\n",
    "<li>**Don't worry about memorizing or understanding everything the first time** - takes a while to sink in\n",
    "<li>Do the in class exercises - collaborate!\n",
    "</ul>\n",
    "<li>Try the at home exercises - don't be discouraged if they take a while or you don't get it right away\n",
    "<ul>\n",
    "<li>Feel free to email me with questions\n",
    "<li>If you want more - let me know and I'll provide more!\n",
    "</ul>\n",
    "<li>Syllabus is tentative - based on class flow\n",
    "</ul>"
   ]
  },
  {
   "cell_type": "markdown",
   "metadata": {},
   "source": [
    "### Jupyter\n",
    "\n",
    "<ul>\n",
    "<li>Interative notebook\n",
    "<ul>\n",
    "<li>Write code in cells and run to see output. Cells communicate - values are carried forward.\n",
    "<li>Can also insert markdown or $\\LaTeX$, i.e. $y = \\beta_0 + \\beta_1 x + \\beta_2x^2$\n",
    "<li>Can also insert images, etc..\n",
    "</ul>\n",
    "<li>Makes for easy prototyping\n",
    "<li>Quick visualizations\n",
    "<li>Shareable, live code\n",
    "<li><a href=\"https://ipython.org/\">IPython</a> is the Python *kernel* for Jupyter - but there is a Ruby kernel, Julia, ...\n",
    "<li>...but can promote bad code practice, not used for production\n",
    "<li>Spend time getting to know the notebook. Shortcuts, etc...\n",
    "</ul>"
   ]
  },
  {
   "cell_type": "markdown",
   "metadata": {},
   "source": [
    "Review pre work <a id='review'></a>\n",
    "======\n",
    "\n",
    "<ul>\n",
    "<li>Variables\n",
    "<li>Boolean logic\n",
    "<li>Operators\n",
    "<li>`if` statement\n",
    "<li>Built-in functions\n",
    "</ul>"
   ]
  },
  {
   "cell_type": "markdown",
   "metadata": {},
   "source": [
    "**Q1**.\n",
    "<br>\n",
    "\n",
    "Without using Python, what's the following output?\n",
    "\n",
    "<ol>\n",
    "<li>`not (1 == 1 and 0 != 1)`\n",
    "<li>`3 == 3 and (not (\"testing\" == \"testing\" or \"Python\" == \"Fun\"))`\n",
    "<li>`20 == ((20 % 3) ** 2 + 1) * (9//2)`\n",
    "</ol>\n"
   ]
  },
  {
   "cell_type": "markdown",
   "metadata": {},
   "source": [
    "**Q2**.\n",
    "<br>\n",
    "\n",
    "For the following string, replace every occurrence of the first character with #, except for the first character. So:\n",
    "\n",
    "`'this is a sentence that starts with the letter t'`\n",
    "\n",
    "Becomes\n",
    "\n",
    "`'this is a sen#ence #ha# s#ar#s wi#h #he le##er #'`\n"
   ]
  },
  {
   "cell_type": "markdown",
   "metadata": {},
   "source": [
    "**Q3**.\n",
    "\n",
    "Write a program that prints, to the console, a list of 2 integers and 1 string. Do this:\n",
    "\n",
    "<ol>\n",
    "<li>Using the `format` function\n",
    "<li>Not using `format`\n",
    "</ol>\n",
    "\n",
    "For example:\n",
    "\n",
    "`[2,'s',4]`\n",
    "\n",
    "Each of the three elements should be a variable, not hardcoded. Make sure the spacing is as shown above."
   ]
  },
  {
   "cell_type": "markdown",
   "metadata": {},
   "source": [
    "**Q4**.\n",
    "<br>\n",
    "\n",
    "Write a function `power_floor(a,b)` that returns the floor of `a` to the power of `b`. \"Floor\" means \"rounded down\". i.e. `power_floor(5.5,3)` outputs `166`. "
   ]
  },
  {
   "cell_type": "markdown",
   "metadata": {},
   "source": [
    "# IRIS DATASET<a id='iris'></a>"
   ]
  },
  {
   "cell_type": "code",
   "execution_count": 5,
   "metadata": {
    "collapsed": false
   },
   "outputs": [],
   "source": [
    "from sklearn import datasets"
   ]
  },
  {
   "cell_type": "code",
   "execution_count": 6,
   "metadata": {
    "collapsed": false
   },
   "outputs": [
    {
     "data": {
      "text/plain": [
       "{'DESCR': 'Iris Plants Database\\n\\nNotes\\n-----\\nData Set Characteristics:\\n    :Number of Instances: 150 (50 in each of three classes)\\n    :Number of Attributes: 4 numeric, predictive attributes and the class\\n    :Attribute Information:\\n        - sepal length in cm\\n        - sepal width in cm\\n        - petal length in cm\\n        - petal width in cm\\n        - class:\\n                - Iris-Setosa\\n                - Iris-Versicolour\\n                - Iris-Virginica\\n    :Summary Statistics:\\n\\n    ============== ==== ==== ======= ===== ====================\\n                    Min  Max   Mean    SD   Class Correlation\\n    ============== ==== ==== ======= ===== ====================\\n    sepal length:   4.3  7.9   5.84   0.83    0.7826\\n    sepal width:    2.0  4.4   3.05   0.43   -0.4194\\n    petal length:   1.0  6.9   3.76   1.76    0.9490  (high!)\\n    petal width:    0.1  2.5   1.20  0.76     0.9565  (high!)\\n    ============== ==== ==== ======= ===== ====================\\n\\n    :Missing Attribute Values: None\\n    :Class Distribution: 33.3% for each of 3 classes.\\n    :Creator: R.A. Fisher\\n    :Donor: Michael Marshall (MARSHALL%PLU@io.arc.nasa.gov)\\n    :Date: July, 1988\\n\\nThis is a copy of UCI ML iris datasets.\\nhttp://archive.ics.uci.edu/ml/datasets/Iris\\n\\nThe famous Iris database, first used by Sir R.A Fisher\\n\\nThis is perhaps the best known database to be found in the\\npattern recognition literature.  Fisher\\'s paper is a classic in the field and\\nis referenced frequently to this day.  (See Duda & Hart, for example.)  The\\ndata set contains 3 classes of 50 instances each, where each class refers to a\\ntype of iris plant.  One class is linearly separable from the other 2; the\\nlatter are NOT linearly separable from each other.\\n\\nReferences\\n----------\\n   - Fisher,R.A. \"The use of multiple measurements in taxonomic problems\"\\n     Annual Eugenics, 7, Part II, 179-188 (1936); also in \"Contributions to\\n     Mathematical Statistics\" (John Wiley, NY, 1950).\\n   - Duda,R.O., & Hart,P.E. (1973) Pattern Classification and Scene Analysis.\\n     (Q327.D83) John Wiley & Sons.  ISBN 0-471-22361-1.  See page 218.\\n   - Dasarathy, B.V. (1980) \"Nosing Around the Neighborhood: A New System\\n     Structure and Classification Rule for Recognition in Partially Exposed\\n     Environments\".  IEEE Transactions on Pattern Analysis and Machine\\n     Intelligence, Vol. PAMI-2, No. 1, 67-71.\\n   - Gates, G.W. (1972) \"The Reduced Nearest Neighbor Rule\".  IEEE Transactions\\n     on Information Theory, May 1972, 431-433.\\n   - See also: 1988 MLC Proceedings, 54-64.  Cheeseman et al\"s AUTOCLASS II\\n     conceptual clustering system finds 3 classes in the data.\\n   - Many, many more ...\\n',\n",
       " 'data': array([[ 5.1,  3.5,  1.4,  0.2],\n",
       "        [ 4.9,  3. ,  1.4,  0.2],\n",
       "        [ 4.7,  3.2,  1.3,  0.2],\n",
       "        [ 4.6,  3.1,  1.5,  0.2],\n",
       "        [ 5. ,  3.6,  1.4,  0.2],\n",
       "        [ 5.4,  3.9,  1.7,  0.4],\n",
       "        [ 4.6,  3.4,  1.4,  0.3],\n",
       "        [ 5. ,  3.4,  1.5,  0.2],\n",
       "        [ 4.4,  2.9,  1.4,  0.2],\n",
       "        [ 4.9,  3.1,  1.5,  0.1],\n",
       "        [ 5.4,  3.7,  1.5,  0.2],\n",
       "        [ 4.8,  3.4,  1.6,  0.2],\n",
       "        [ 4.8,  3. ,  1.4,  0.1],\n",
       "        [ 4.3,  3. ,  1.1,  0.1],\n",
       "        [ 5.8,  4. ,  1.2,  0.2],\n",
       "        [ 5.7,  4.4,  1.5,  0.4],\n",
       "        [ 5.4,  3.9,  1.3,  0.4],\n",
       "        [ 5.1,  3.5,  1.4,  0.3],\n",
       "        [ 5.7,  3.8,  1.7,  0.3],\n",
       "        [ 5.1,  3.8,  1.5,  0.3],\n",
       "        [ 5.4,  3.4,  1.7,  0.2],\n",
       "        [ 5.1,  3.7,  1.5,  0.4],\n",
       "        [ 4.6,  3.6,  1. ,  0.2],\n",
       "        [ 5.1,  3.3,  1.7,  0.5],\n",
       "        [ 4.8,  3.4,  1.9,  0.2],\n",
       "        [ 5. ,  3. ,  1.6,  0.2],\n",
       "        [ 5. ,  3.4,  1.6,  0.4],\n",
       "        [ 5.2,  3.5,  1.5,  0.2],\n",
       "        [ 5.2,  3.4,  1.4,  0.2],\n",
       "        [ 4.7,  3.2,  1.6,  0.2],\n",
       "        [ 4.8,  3.1,  1.6,  0.2],\n",
       "        [ 5.4,  3.4,  1.5,  0.4],\n",
       "        [ 5.2,  4.1,  1.5,  0.1],\n",
       "        [ 5.5,  4.2,  1.4,  0.2],\n",
       "        [ 4.9,  3.1,  1.5,  0.1],\n",
       "        [ 5. ,  3.2,  1.2,  0.2],\n",
       "        [ 5.5,  3.5,  1.3,  0.2],\n",
       "        [ 4.9,  3.1,  1.5,  0.1],\n",
       "        [ 4.4,  3. ,  1.3,  0.2],\n",
       "        [ 5.1,  3.4,  1.5,  0.2],\n",
       "        [ 5. ,  3.5,  1.3,  0.3],\n",
       "        [ 4.5,  2.3,  1.3,  0.3],\n",
       "        [ 4.4,  3.2,  1.3,  0.2],\n",
       "        [ 5. ,  3.5,  1.6,  0.6],\n",
       "        [ 5.1,  3.8,  1.9,  0.4],\n",
       "        [ 4.8,  3. ,  1.4,  0.3],\n",
       "        [ 5.1,  3.8,  1.6,  0.2],\n",
       "        [ 4.6,  3.2,  1.4,  0.2],\n",
       "        [ 5.3,  3.7,  1.5,  0.2],\n",
       "        [ 5. ,  3.3,  1.4,  0.2],\n",
       "        [ 7. ,  3.2,  4.7,  1.4],\n",
       "        [ 6.4,  3.2,  4.5,  1.5],\n",
       "        [ 6.9,  3.1,  4.9,  1.5],\n",
       "        [ 5.5,  2.3,  4. ,  1.3],\n",
       "        [ 6.5,  2.8,  4.6,  1.5],\n",
       "        [ 5.7,  2.8,  4.5,  1.3],\n",
       "        [ 6.3,  3.3,  4.7,  1.6],\n",
       "        [ 4.9,  2.4,  3.3,  1. ],\n",
       "        [ 6.6,  2.9,  4.6,  1.3],\n",
       "        [ 5.2,  2.7,  3.9,  1.4],\n",
       "        [ 5. ,  2. ,  3.5,  1. ],\n",
       "        [ 5.9,  3. ,  4.2,  1.5],\n",
       "        [ 6. ,  2.2,  4. ,  1. ],\n",
       "        [ 6.1,  2.9,  4.7,  1.4],\n",
       "        [ 5.6,  2.9,  3.6,  1.3],\n",
       "        [ 6.7,  3.1,  4.4,  1.4],\n",
       "        [ 5.6,  3. ,  4.5,  1.5],\n",
       "        [ 5.8,  2.7,  4.1,  1. ],\n",
       "        [ 6.2,  2.2,  4.5,  1.5],\n",
       "        [ 5.6,  2.5,  3.9,  1.1],\n",
       "        [ 5.9,  3.2,  4.8,  1.8],\n",
       "        [ 6.1,  2.8,  4. ,  1.3],\n",
       "        [ 6.3,  2.5,  4.9,  1.5],\n",
       "        [ 6.1,  2.8,  4.7,  1.2],\n",
       "        [ 6.4,  2.9,  4.3,  1.3],\n",
       "        [ 6.6,  3. ,  4.4,  1.4],\n",
       "        [ 6.8,  2.8,  4.8,  1.4],\n",
       "        [ 6.7,  3. ,  5. ,  1.7],\n",
       "        [ 6. ,  2.9,  4.5,  1.5],\n",
       "        [ 5.7,  2.6,  3.5,  1. ],\n",
       "        [ 5.5,  2.4,  3.8,  1.1],\n",
       "        [ 5.5,  2.4,  3.7,  1. ],\n",
       "        [ 5.8,  2.7,  3.9,  1.2],\n",
       "        [ 6. ,  2.7,  5.1,  1.6],\n",
       "        [ 5.4,  3. ,  4.5,  1.5],\n",
       "        [ 6. ,  3.4,  4.5,  1.6],\n",
       "        [ 6.7,  3.1,  4.7,  1.5],\n",
       "        [ 6.3,  2.3,  4.4,  1.3],\n",
       "        [ 5.6,  3. ,  4.1,  1.3],\n",
       "        [ 5.5,  2.5,  4. ,  1.3],\n",
       "        [ 5.5,  2.6,  4.4,  1.2],\n",
       "        [ 6.1,  3. ,  4.6,  1.4],\n",
       "        [ 5.8,  2.6,  4. ,  1.2],\n",
       "        [ 5. ,  2.3,  3.3,  1. ],\n",
       "        [ 5.6,  2.7,  4.2,  1.3],\n",
       "        [ 5.7,  3. ,  4.2,  1.2],\n",
       "        [ 5.7,  2.9,  4.2,  1.3],\n",
       "        [ 6.2,  2.9,  4.3,  1.3],\n",
       "        [ 5.1,  2.5,  3. ,  1.1],\n",
       "        [ 5.7,  2.8,  4.1,  1.3],\n",
       "        [ 6.3,  3.3,  6. ,  2.5],\n",
       "        [ 5.8,  2.7,  5.1,  1.9],\n",
       "        [ 7.1,  3. ,  5.9,  2.1],\n",
       "        [ 6.3,  2.9,  5.6,  1.8],\n",
       "        [ 6.5,  3. ,  5.8,  2.2],\n",
       "        [ 7.6,  3. ,  6.6,  2.1],\n",
       "        [ 4.9,  2.5,  4.5,  1.7],\n",
       "        [ 7.3,  2.9,  6.3,  1.8],\n",
       "        [ 6.7,  2.5,  5.8,  1.8],\n",
       "        [ 7.2,  3.6,  6.1,  2.5],\n",
       "        [ 6.5,  3.2,  5.1,  2. ],\n",
       "        [ 6.4,  2.7,  5.3,  1.9],\n",
       "        [ 6.8,  3. ,  5.5,  2.1],\n",
       "        [ 5.7,  2.5,  5. ,  2. ],\n",
       "        [ 5.8,  2.8,  5.1,  2.4],\n",
       "        [ 6.4,  3.2,  5.3,  2.3],\n",
       "        [ 6.5,  3. ,  5.5,  1.8],\n",
       "        [ 7.7,  3.8,  6.7,  2.2],\n",
       "        [ 7.7,  2.6,  6.9,  2.3],\n",
       "        [ 6. ,  2.2,  5. ,  1.5],\n",
       "        [ 6.9,  3.2,  5.7,  2.3],\n",
       "        [ 5.6,  2.8,  4.9,  2. ],\n",
       "        [ 7.7,  2.8,  6.7,  2. ],\n",
       "        [ 6.3,  2.7,  4.9,  1.8],\n",
       "        [ 6.7,  3.3,  5.7,  2.1],\n",
       "        [ 7.2,  3.2,  6. ,  1.8],\n",
       "        [ 6.2,  2.8,  4.8,  1.8],\n",
       "        [ 6.1,  3. ,  4.9,  1.8],\n",
       "        [ 6.4,  2.8,  5.6,  2.1],\n",
       "        [ 7.2,  3. ,  5.8,  1.6],\n",
       "        [ 7.4,  2.8,  6.1,  1.9],\n",
       "        [ 7.9,  3.8,  6.4,  2. ],\n",
       "        [ 6.4,  2.8,  5.6,  2.2],\n",
       "        [ 6.3,  2.8,  5.1,  1.5],\n",
       "        [ 6.1,  2.6,  5.6,  1.4],\n",
       "        [ 7.7,  3. ,  6.1,  2.3],\n",
       "        [ 6.3,  3.4,  5.6,  2.4],\n",
       "        [ 6.4,  3.1,  5.5,  1.8],\n",
       "        [ 6. ,  3. ,  4.8,  1.8],\n",
       "        [ 6.9,  3.1,  5.4,  2.1],\n",
       "        [ 6.7,  3.1,  5.6,  2.4],\n",
       "        [ 6.9,  3.1,  5.1,  2.3],\n",
       "        [ 5.8,  2.7,  5.1,  1.9],\n",
       "        [ 6.8,  3.2,  5.9,  2.3],\n",
       "        [ 6.7,  3.3,  5.7,  2.5],\n",
       "        [ 6.7,  3. ,  5.2,  2.3],\n",
       "        [ 6.3,  2.5,  5. ,  1.9],\n",
       "        [ 6.5,  3. ,  5.2,  2. ],\n",
       "        [ 6.2,  3.4,  5.4,  2.3],\n",
       "        [ 5.9,  3. ,  5.1,  1.8]]),\n",
       " 'feature_names': ['sepal length (cm)',\n",
       "  'sepal width (cm)',\n",
       "  'petal length (cm)',\n",
       "  'petal width (cm)'],\n",
       " 'target': array([0, 0, 0, 0, 0, 0, 0, 0, 0, 0, 0, 0, 0, 0, 0, 0, 0, 0, 0, 0, 0, 0, 0,\n",
       "        0, 0, 0, 0, 0, 0, 0, 0, 0, 0, 0, 0, 0, 0, 0, 0, 0, 0, 0, 0, 0, 0, 0,\n",
       "        0, 0, 0, 0, 1, 1, 1, 1, 1, 1, 1, 1, 1, 1, 1, 1, 1, 1, 1, 1, 1, 1, 1,\n",
       "        1, 1, 1, 1, 1, 1, 1, 1, 1, 1, 1, 1, 1, 1, 1, 1, 1, 1, 1, 1, 1, 1, 1,\n",
       "        1, 1, 1, 1, 1, 1, 1, 1, 2, 2, 2, 2, 2, 2, 2, 2, 2, 2, 2, 2, 2, 2, 2,\n",
       "        2, 2, 2, 2, 2, 2, 2, 2, 2, 2, 2, 2, 2, 2, 2, 2, 2, 2, 2, 2, 2, 2, 2,\n",
       "        2, 2, 2, 2, 2, 2, 2, 2, 2, 2, 2, 2]),\n",
       " 'target_names': array(['setosa', 'versicolor', 'virginica'], \n",
       "       dtype='|S10')}"
      ]
     },
     "execution_count": 6,
     "metadata": {},
     "output_type": "execute_result"
    }
   ],
   "source": [
    "iris = datasets.load_iris()\n",
    "iris"
   ]
  },
  {
   "cell_type": "markdown",
   "metadata": {},
   "source": [
    "## How can we see the data?"
   ]
  },
  {
   "cell_type": "code",
   "execution_count": 7,
   "metadata": {
    "collapsed": false
   },
   "outputs": [
    {
     "data": {
      "text/plain": [
       "['target_names', 'data', 'target', 'DESCR', 'feature_names']"
      ]
     },
     "execution_count": 7,
     "metadata": {},
     "output_type": "execute_result"
    }
   ],
   "source": [
    "iris.keys()"
   ]
  },
  {
   "cell_type": "code",
   "execution_count": 8,
   "metadata": {
    "collapsed": false
   },
   "outputs": [
    {
     "data": {
      "text/plain": [
       "array([0, 0, 0, 0, 0, 0, 0, 0, 0, 0, 0, 0, 0, 0, 0, 0, 0, 0, 0, 0, 0, 0, 0,\n",
       "       0, 0, 0, 0, 0, 0, 0, 0, 0, 0, 0, 0, 0, 0, 0, 0, 0, 0, 0, 0, 0, 0, 0,\n",
       "       0, 0, 0, 0, 1, 1, 1, 1, 1, 1, 1, 1, 1, 1, 1, 1, 1, 1, 1, 1, 1, 1, 1,\n",
       "       1, 1, 1, 1, 1, 1, 1, 1, 1, 1, 1, 1, 1, 1, 1, 1, 1, 1, 1, 1, 1, 1, 1,\n",
       "       1, 1, 1, 1, 1, 1, 1, 1, 2, 2, 2, 2, 2, 2, 2, 2, 2, 2, 2, 2, 2, 2, 2,\n",
       "       2, 2, 2, 2, 2, 2, 2, 2, 2, 2, 2, 2, 2, 2, 2, 2, 2, 2, 2, 2, 2, 2, 2,\n",
       "       2, 2, 2, 2, 2, 2, 2, 2, 2, 2, 2, 2])"
      ]
     },
     "execution_count": 8,
     "metadata": {},
     "output_type": "execute_result"
    }
   ],
   "source": [
    "iris.target"
   ]
  },
  {
   "cell_type": "code",
   "execution_count": 9,
   "metadata": {
    "collapsed": false
   },
   "outputs": [
    {
     "data": {
      "text/plain": [
       "array([[ 5.1,  3.5,  1.4,  0.2],\n",
       "       [ 4.9,  3. ,  1.4,  0.2],\n",
       "       [ 4.7,  3.2,  1.3,  0.2],\n",
       "       [ 4.6,  3.1,  1.5,  0.2],\n",
       "       [ 5. ,  3.6,  1.4,  0.2],\n",
       "       [ 5.4,  3.9,  1.7,  0.4],\n",
       "       [ 4.6,  3.4,  1.4,  0.3],\n",
       "       [ 5. ,  3.4,  1.5,  0.2],\n",
       "       [ 4.4,  2.9,  1.4,  0.2],\n",
       "       [ 4.9,  3.1,  1.5,  0.1],\n",
       "       [ 5.4,  3.7,  1.5,  0.2],\n",
       "       [ 4.8,  3.4,  1.6,  0.2],\n",
       "       [ 4.8,  3. ,  1.4,  0.1],\n",
       "       [ 4.3,  3. ,  1.1,  0.1],\n",
       "       [ 5.8,  4. ,  1.2,  0.2],\n",
       "       [ 5.7,  4.4,  1.5,  0.4],\n",
       "       [ 5.4,  3.9,  1.3,  0.4],\n",
       "       [ 5.1,  3.5,  1.4,  0.3],\n",
       "       [ 5.7,  3.8,  1.7,  0.3],\n",
       "       [ 5.1,  3.8,  1.5,  0.3],\n",
       "       [ 5.4,  3.4,  1.7,  0.2],\n",
       "       [ 5.1,  3.7,  1.5,  0.4],\n",
       "       [ 4.6,  3.6,  1. ,  0.2],\n",
       "       [ 5.1,  3.3,  1.7,  0.5],\n",
       "       [ 4.8,  3.4,  1.9,  0.2],\n",
       "       [ 5. ,  3. ,  1.6,  0.2],\n",
       "       [ 5. ,  3.4,  1.6,  0.4],\n",
       "       [ 5.2,  3.5,  1.5,  0.2],\n",
       "       [ 5.2,  3.4,  1.4,  0.2],\n",
       "       [ 4.7,  3.2,  1.6,  0.2],\n",
       "       [ 4.8,  3.1,  1.6,  0.2],\n",
       "       [ 5.4,  3.4,  1.5,  0.4],\n",
       "       [ 5.2,  4.1,  1.5,  0.1],\n",
       "       [ 5.5,  4.2,  1.4,  0.2],\n",
       "       [ 4.9,  3.1,  1.5,  0.1],\n",
       "       [ 5. ,  3.2,  1.2,  0.2],\n",
       "       [ 5.5,  3.5,  1.3,  0.2],\n",
       "       [ 4.9,  3.1,  1.5,  0.1],\n",
       "       [ 4.4,  3. ,  1.3,  0.2],\n",
       "       [ 5.1,  3.4,  1.5,  0.2],\n",
       "       [ 5. ,  3.5,  1.3,  0.3],\n",
       "       [ 4.5,  2.3,  1.3,  0.3],\n",
       "       [ 4.4,  3.2,  1.3,  0.2],\n",
       "       [ 5. ,  3.5,  1.6,  0.6],\n",
       "       [ 5.1,  3.8,  1.9,  0.4],\n",
       "       [ 4.8,  3. ,  1.4,  0.3],\n",
       "       [ 5.1,  3.8,  1.6,  0.2],\n",
       "       [ 4.6,  3.2,  1.4,  0.2],\n",
       "       [ 5.3,  3.7,  1.5,  0.2],\n",
       "       [ 5. ,  3.3,  1.4,  0.2],\n",
       "       [ 7. ,  3.2,  4.7,  1.4],\n",
       "       [ 6.4,  3.2,  4.5,  1.5],\n",
       "       [ 6.9,  3.1,  4.9,  1.5],\n",
       "       [ 5.5,  2.3,  4. ,  1.3],\n",
       "       [ 6.5,  2.8,  4.6,  1.5],\n",
       "       [ 5.7,  2.8,  4.5,  1.3],\n",
       "       [ 6.3,  3.3,  4.7,  1.6],\n",
       "       [ 4.9,  2.4,  3.3,  1. ],\n",
       "       [ 6.6,  2.9,  4.6,  1.3],\n",
       "       [ 5.2,  2.7,  3.9,  1.4],\n",
       "       [ 5. ,  2. ,  3.5,  1. ],\n",
       "       [ 5.9,  3. ,  4.2,  1.5],\n",
       "       [ 6. ,  2.2,  4. ,  1. ],\n",
       "       [ 6.1,  2.9,  4.7,  1.4],\n",
       "       [ 5.6,  2.9,  3.6,  1.3],\n",
       "       [ 6.7,  3.1,  4.4,  1.4],\n",
       "       [ 5.6,  3. ,  4.5,  1.5],\n",
       "       [ 5.8,  2.7,  4.1,  1. ],\n",
       "       [ 6.2,  2.2,  4.5,  1.5],\n",
       "       [ 5.6,  2.5,  3.9,  1.1],\n",
       "       [ 5.9,  3.2,  4.8,  1.8],\n",
       "       [ 6.1,  2.8,  4. ,  1.3],\n",
       "       [ 6.3,  2.5,  4.9,  1.5],\n",
       "       [ 6.1,  2.8,  4.7,  1.2],\n",
       "       [ 6.4,  2.9,  4.3,  1.3],\n",
       "       [ 6.6,  3. ,  4.4,  1.4],\n",
       "       [ 6.8,  2.8,  4.8,  1.4],\n",
       "       [ 6.7,  3. ,  5. ,  1.7],\n",
       "       [ 6. ,  2.9,  4.5,  1.5],\n",
       "       [ 5.7,  2.6,  3.5,  1. ],\n",
       "       [ 5.5,  2.4,  3.8,  1.1],\n",
       "       [ 5.5,  2.4,  3.7,  1. ],\n",
       "       [ 5.8,  2.7,  3.9,  1.2],\n",
       "       [ 6. ,  2.7,  5.1,  1.6],\n",
       "       [ 5.4,  3. ,  4.5,  1.5],\n",
       "       [ 6. ,  3.4,  4.5,  1.6],\n",
       "       [ 6.7,  3.1,  4.7,  1.5],\n",
       "       [ 6.3,  2.3,  4.4,  1.3],\n",
       "       [ 5.6,  3. ,  4.1,  1.3],\n",
       "       [ 5.5,  2.5,  4. ,  1.3],\n",
       "       [ 5.5,  2.6,  4.4,  1.2],\n",
       "       [ 6.1,  3. ,  4.6,  1.4],\n",
       "       [ 5.8,  2.6,  4. ,  1.2],\n",
       "       [ 5. ,  2.3,  3.3,  1. ],\n",
       "       [ 5.6,  2.7,  4.2,  1.3],\n",
       "       [ 5.7,  3. ,  4.2,  1.2],\n",
       "       [ 5.7,  2.9,  4.2,  1.3],\n",
       "       [ 6.2,  2.9,  4.3,  1.3],\n",
       "       [ 5.1,  2.5,  3. ,  1.1],\n",
       "       [ 5.7,  2.8,  4.1,  1.3],\n",
       "       [ 6.3,  3.3,  6. ,  2.5],\n",
       "       [ 5.8,  2.7,  5.1,  1.9],\n",
       "       [ 7.1,  3. ,  5.9,  2.1],\n",
       "       [ 6.3,  2.9,  5.6,  1.8],\n",
       "       [ 6.5,  3. ,  5.8,  2.2],\n",
       "       [ 7.6,  3. ,  6.6,  2.1],\n",
       "       [ 4.9,  2.5,  4.5,  1.7],\n",
       "       [ 7.3,  2.9,  6.3,  1.8],\n",
       "       [ 6.7,  2.5,  5.8,  1.8],\n",
       "       [ 7.2,  3.6,  6.1,  2.5],\n",
       "       [ 6.5,  3.2,  5.1,  2. ],\n",
       "       [ 6.4,  2.7,  5.3,  1.9],\n",
       "       [ 6.8,  3. ,  5.5,  2.1],\n",
       "       [ 5.7,  2.5,  5. ,  2. ],\n",
       "       [ 5.8,  2.8,  5.1,  2.4],\n",
       "       [ 6.4,  3.2,  5.3,  2.3],\n",
       "       [ 6.5,  3. ,  5.5,  1.8],\n",
       "       [ 7.7,  3.8,  6.7,  2.2],\n",
       "       [ 7.7,  2.6,  6.9,  2.3],\n",
       "       [ 6. ,  2.2,  5. ,  1.5],\n",
       "       [ 6.9,  3.2,  5.7,  2.3],\n",
       "       [ 5.6,  2.8,  4.9,  2. ],\n",
       "       [ 7.7,  2.8,  6.7,  2. ],\n",
       "       [ 6.3,  2.7,  4.9,  1.8],\n",
       "       [ 6.7,  3.3,  5.7,  2.1],\n",
       "       [ 7.2,  3.2,  6. ,  1.8],\n",
       "       [ 6.2,  2.8,  4.8,  1.8],\n",
       "       [ 6.1,  3. ,  4.9,  1.8],\n",
       "       [ 6.4,  2.8,  5.6,  2.1],\n",
       "       [ 7.2,  3. ,  5.8,  1.6],\n",
       "       [ 7.4,  2.8,  6.1,  1.9],\n",
       "       [ 7.9,  3.8,  6.4,  2. ],\n",
       "       [ 6.4,  2.8,  5.6,  2.2],\n",
       "       [ 6.3,  2.8,  5.1,  1.5],\n",
       "       [ 6.1,  2.6,  5.6,  1.4],\n",
       "       [ 7.7,  3. ,  6.1,  2.3],\n",
       "       [ 6.3,  3.4,  5.6,  2.4],\n",
       "       [ 6.4,  3.1,  5.5,  1.8],\n",
       "       [ 6. ,  3. ,  4.8,  1.8],\n",
       "       [ 6.9,  3.1,  5.4,  2.1],\n",
       "       [ 6.7,  3.1,  5.6,  2.4],\n",
       "       [ 6.9,  3.1,  5.1,  2.3],\n",
       "       [ 5.8,  2.7,  5.1,  1.9],\n",
       "       [ 6.8,  3.2,  5.9,  2.3],\n",
       "       [ 6.7,  3.3,  5.7,  2.5],\n",
       "       [ 6.7,  3. ,  5.2,  2.3],\n",
       "       [ 6.3,  2.5,  5. ,  1.9],\n",
       "       [ 6.5,  3. ,  5.2,  2. ],\n",
       "       [ 6.2,  3.4,  5.4,  2.3],\n",
       "       [ 5.9,  3. ,  5.1,  1.8]])"
      ]
     },
     "execution_count": 9,
     "metadata": {},
     "output_type": "execute_result"
    }
   ],
   "source": [
    "iris.data"
   ]
  },
  {
   "cell_type": "code",
   "execution_count": 10,
   "metadata": {
    "collapsed": false
   },
   "outputs": [
    {
     "data": {
      "text/plain": [
       "['sepal length (cm)',\n",
       " 'sepal width (cm)',\n",
       " 'petal length (cm)',\n",
       " 'petal width (cm)']"
      ]
     },
     "execution_count": 10,
     "metadata": {},
     "output_type": "execute_result"
    }
   ],
   "source": [
    "iris.feature_names"
   ]
  },
  {
   "cell_type": "markdown",
   "metadata": {},
   "source": [
    "## What is this object?"
   ]
  },
  {
   "cell_type": "markdown",
   "metadata": {},
   "source": [
    "Dictionary<a id='dict'></a>\n",
    "----\n",
    "<ul>\n",
    "<li>Consist of pairs of keys and their corresponding values. Like a dictionary, lookup the `key` to get some `value`\n",
    "<li>Values aren't numbered or in any specific order. Key's are also not ordered.\n",
    "<li>You can add, remove, and modify the values in dictionaries\n",
    "<li>Looks like a `JSON` object\n",
    "</ul>"
   ]
  },
  {
   "cell_type": "code",
   "execution_count": 11,
   "metadata": {
    "collapsed": false,
    "scrolled": true
   },
   "outputs": [
    {
     "data": {
      "text/plain": [
       "{'a': 1, 'b': 2, 'c': 3}"
      ]
     },
     "execution_count": 11,
     "metadata": {},
     "output_type": "execute_result"
    }
   ],
   "source": [
    "dictionary = {'a': 1, 'b':2, 'c':3}\n",
    "dictionary"
   ]
  },
  {
   "cell_type": "code",
   "execution_count": 12,
   "metadata": {
    "collapsed": false,
    "scrolled": true
   },
   "outputs": [
    {
     "data": {
      "text/plain": [
       "2"
      ]
     },
     "execution_count": 12,
     "metadata": {},
     "output_type": "execute_result"
    }
   ],
   "source": [
    "dictionary['b']"
   ]
  },
  {
   "cell_type": "code",
   "execution_count": 13,
   "metadata": {
    "collapsed": false,
    "scrolled": true
   },
   "outputs": [
    {
     "data": {
      "text/plain": [
       "{'d': 4, 'e': 5, 'f': 6}"
      ]
     },
     "execution_count": 13,
     "metadata": {},
     "output_type": "execute_result"
    }
   ],
   "source": [
    "dictionary1 = dict(d = 4, e = 5, f = 6)\n",
    "dictionary1"
   ]
  },
  {
   "cell_type": "code",
   "execution_count": 14,
   "metadata": {
    "collapsed": false,
    "scrolled": true
   },
   "outputs": [
    {
     "data": {
      "text/plain": [
       "{'a': 1, 'b': 2, 'd': 3}"
      ]
     },
     "execution_count": 14,
     "metadata": {},
     "output_type": "execute_result"
    }
   ],
   "source": [
    "dictionary2 = dict([('a',1),('b',2),('d',3)])\n",
    "dictionary2"
   ]
  },
  {
   "cell_type": "code",
   "execution_count": 15,
   "metadata": {
    "collapsed": false,
    "scrolled": true
   },
   "outputs": [
    {
     "data": {
      "text/plain": [
       "{'a': 1, 'b': 2, 'c': 3, 'd': 4, 'e': 5, 'f': 6}"
      ]
     },
     "execution_count": 15,
     "metadata": {},
     "output_type": "execute_result"
    }
   ],
   "source": [
    "dictionary.update(dictionary1)\n",
    "dictionary"
   ]
  },
  {
   "cell_type": "code",
   "execution_count": 16,
   "metadata": {
    "collapsed": false,
    "scrolled": true
   },
   "outputs": [
    {
     "data": {
      "text/plain": [
       "['a', 'c', 'b', 'e', 'd', 'f']"
      ]
     },
     "execution_count": 16,
     "metadata": {},
     "output_type": "execute_result"
    }
   ],
   "source": [
    "dictionary.keys()"
   ]
  },
  {
   "cell_type": "code",
   "execution_count": 17,
   "metadata": {
    "collapsed": false,
    "scrolled": true
   },
   "outputs": [
    {
     "data": {
      "text/plain": [
       "[1, 3, 2, 5, 4, 6]"
      ]
     },
     "execution_count": 17,
     "metadata": {},
     "output_type": "execute_result"
    }
   ],
   "source": [
    "dictionary.values()"
   ]
  },
  {
   "cell_type": "code",
   "execution_count": 18,
   "metadata": {
    "collapsed": false,
    "scrolled": true
   },
   "outputs": [
    {
     "data": {
      "text/plain": [
       "{'a': 1, 'b': 2, 'c': 3, 'd': 4, 'e': 5, 'f': 6, 'g': 7}"
      ]
     },
     "execution_count": 18,
     "metadata": {},
     "output_type": "execute_result"
    }
   ],
   "source": [
    "dictionary['g'] = 7\n",
    "dictionary"
   ]
  },
  {
   "cell_type": "code",
   "execution_count": 19,
   "metadata": {
    "collapsed": false,
    "scrolled": true
   },
   "outputs": [
    {
     "name": "stdout",
     "output_type": "stream",
     "text": [
      "a 1\n",
      "c 3\n",
      "b 2\n",
      "e 5\n",
      "d 4\n",
      "g 7\n",
      "f 6\n"
     ]
    }
   ],
   "source": [
    "for key in dictionary:\n",
    "    print key, dictionary[key]"
   ]
  },
  {
   "cell_type": "code",
   "execution_count": 20,
   "metadata": {
    "collapsed": false,
    "scrolled": false
   },
   "outputs": [
    {
     "name": "stdout",
     "output_type": "stream",
     "text": [
      "a 1\n",
      "c 3\n",
      "b 2\n",
      "e 5\n",
      "d 4\n",
      "g 7\n",
      "f 6\n"
     ]
    }
   ],
   "source": [
    "for key, value in dictionary.items():\n",
    "    print key, value"
   ]
  },
  {
   "cell_type": "code",
   "execution_count": 21,
   "metadata": {
    "collapsed": false,
    "scrolled": true
   },
   "outputs": [
    {
     "data": {
      "text/plain": [
       "[('a', 1), ('c', 3), ('b', 2), ('e', 5), ('d', 4), ('g', 7), ('f', 6)]"
      ]
     },
     "execution_count": 21,
     "metadata": {},
     "output_type": "execute_result"
    }
   ],
   "source": [
    "dictionary.items()"
   ]
  },
  {
   "cell_type": "markdown",
   "metadata": {},
   "source": [
    "++++++++++++++++++++++++++++++++++++++++++++++++++++++++++++++++++++++++++++++++++++++++++++++++++++++++++++++++++++++++"
   ]
  },
  {
   "cell_type": "markdown",
   "metadata": {},
   "source": [
    "## EXERCISE TIME!\n",
    "\n",
    "<ol>\n",
    "<li>Print the keys of all values that are even\n",
    "<li>Print the key with the maximum value\n",
    "<li>Print the sum of all the values\n",
    "</ol>\n",
    "\n",
    "```\n",
    "dictionary = {\n",
    "    'a': 3, \n",
    "    'b': 2, \n",
    "    'c': 10, \n",
    "    'd': 7, \n",
    "    'e': 9, \n",
    "    'f' : 12, \n",
    "    'g' : 13\n",
    "    }\n",
    "```"
   ]
  },
  {
   "cell_type": "markdown",
   "metadata": {},
   "source": [
    "++++++++++++++++++++++++++++++++++++++++++++++++++++++++++++++++++++++++++++++++++++++++++++++++++++++++++++++++++++++++"
    ]
  },
  {
   "cell_type": "markdown",
   "metadata": {},
   "source": [
    "## Back to iris"
   ]
  },
  {
   "cell_type": "code",
   "execution_count": 23,
   "metadata": {
    "collapsed": false
   },
   "outputs": [
    {
     "name": "stdout",
     "output_type": "stream",
     "text": [
      "Key: target_names\n",
      "  Value: ['setosa' 'versicolor' 'virginica']\n",
      "Key: data\n",
      "  Value: [[ 5.1  3.5  1.4  0.2]\n",
      " [ 4.9  3.   1.4  0.2]\n",
      " [ 4.7  3.2  1.3  0.2]\n",
      " [ 4.6  3.1  1.5  0.2]\n",
      " [ 5.   3.6  1.4  0.2]\n",
      " [ 5.4  3.9  1.7  0.4]\n",
      " [ 4.6  3.4  1.4  0.3]\n",
      " [ 5.   3.4  1.5  0.2]\n",
      " [ 4.4  2.9  1.4  0.2]\n",
      " [ 4.9  3.1  1.5  0.1]]\n",
      "Key: target\n",
      "  Value: [0 0 0 0 0 0 0 0 0 0]\n",
      "Key: DESCR\n",
      "  Value: Iris Plant\n",
      "Key: feature_names\n",
      "  Value: ['sepal length (cm)', 'sepal width (cm)', 'petal length (cm)', 'petal width (cm)']\n"
     ]
    }
   ],
   "source": [
    "# iterate over items in iris\n",
    "\n",
    "for key, val in iris.items():\n",
    "    print \"Key:\", key\n",
    "    print \"  Value:\", val[:10]"
   ]
  },
  {
   "cell_type": "markdown",
   "metadata": {},
   "source": [
    "## All the values are stored as lists....what are lists?"
   ]
  },
  {
   "cell_type": "markdown",
   "metadata": {},
   "source": [
    "Lists\n",
    "====\n",
    "<ul>\n",
    "<li>Array of elements\n",
    "<li>Elements *can be* of different types\n",
    "<li>Data can be accessed by using indexing and manipulated\n",
    "<li>Python indexing begins at 0\n",
    "<li>Lists keep the order of the elements\n",
    "<li>List of lists\n",
    "</ul>\n",
    "\n",
    "Lists (generally) are sequences of the same kind of stuff, and you deal with the items individually."
   ]
  },
  {
   "cell_type": "code",
   "execution_count": 24,
   "metadata": {
    "collapsed": false,
    "scrolled": true
   },
   "outputs": [
    {
     "name": "stdout",
     "output_type": "stream",
     "text": [
      "[0, 1, 2, 3, 4, 5]\n",
      "<type 'list'>\n"
     ]
    }
   ],
   "source": [
    "x = [0,1,2,3,4,5]\n",
    "print x\n",
    "print type(x)"
   ]
  },
  {
   "cell_type": "code",
   "execution_count": 25,
   "metadata": {
    "collapsed": false,
    "scrolled": true
   },
   "outputs": [
    {
     "data": {
      "text/plain": [
       "[1, 2, 3]"
      ]
     },
     "execution_count": 25,
     "metadata": {},
     "output_type": "execute_result"
    }
   ],
   "source": [
    "x[1:4]"
   ]
  },
  {
   "cell_type": "code",
   "execution_count": 26,
   "metadata": {
    "collapsed": false,
    "scrolled": true
   },
   "outputs": [
    {
     "name": "stdout",
     "output_type": "stream",
     "text": [
      "[0, 1, 2, 3, 4, 10]\n"
     ]
    }
   ],
   "source": [
    "x[-1] = 10\n",
    "print x"
   ]
  },
  {
   "cell_type": "code",
   "execution_count": 27,
   "metadata": {
    "collapsed": false,
    "scrolled": true
   },
   "outputs": [
    {
     "data": {
      "text/plain": [
       "[0, 2, 4]"
      ]
     },
     "execution_count": 27,
     "metadata": {},
     "output_type": "execute_result"
    }
   ],
   "source": [
    "x[::2] # every 2nd element"
   ]
  },
  {
   "cell_type": "code",
   "execution_count": 28,
   "metadata": {
    "collapsed": false,
    "scrolled": true
   },
   "outputs": [
    {
     "data": {
      "text/plain": [
       "[10, 4, 3, 2, 1, 0]"
      ]
     },
     "execution_count": 28,
     "metadata": {},
     "output_type": "execute_result"
    }
   ],
   "source": [
    "x[::-1] # reverse"
   ]
  },
  {
   "cell_type": "code",
   "execution_count": 29,
   "metadata": {
    "collapsed": false,
    "scrolled": true
   },
   "outputs": [
    {
     "data": {
      "text/plain": [
       "[0, 1, 2, 3, 4, 10, 0, 1, 2, 3, 4, 10]"
      ]
     },
     "execution_count": 29,
     "metadata": {},
     "output_type": "execute_result"
    }
   ],
   "source": [
    "x + x # append"
   ]
  },
  {
   "cell_type": "code",
   "execution_count": 30,
   "metadata": {
    "collapsed": false,
    "scrolled": true
   },
   "outputs": [
    {
     "data": {
      "text/plain": [
       "[0, 1, 2, 3, 4, 10, 0, 1, 2, 3, 4, 10, 0, 1, 2, 3, 4, 10]"
      ]
     },
     "execution_count": 30,
     "metadata": {},
     "output_type": "execute_result"
    }
   ],
   "source": [
    "x * 3"
   ]
  },
  {
   "cell_type": "code",
   "execution_count": 31,
   "metadata": {
    "collapsed": false,
    "scrolled": true
   },
   "outputs": [
    {
     "data": {
      "text/plain": [
       "[0, 1, 2, 3, 4, 10, 20]"
      ]
     },
     "execution_count": 31,
     "metadata": {},
     "output_type": "execute_result"
    }
   ],
   "source": [
    "x.append(20)   # changes value of x\n",
    "x"
   ]
  },
  {
   "cell_type": "code",
   "execution_count": 32,
   "metadata": {
    "collapsed": false,
    "scrolled": true
   },
   "outputs": [
    {
     "data": {
      "text/plain": [
       "[0, 1, 2, 3, 4, 10, 20, 3, 4, 5]"
      ]
     },
     "execution_count": 32,
     "metadata": {},
     "output_type": "execute_result"
    }
   ],
   "source": [
    "x.extend([3,4,5])\n",
    "x"
   ]
  },
  {
   "cell_type": "code",
   "execution_count": 33,
   "metadata": {
    "collapsed": false,
    "scrolled": false
   },
   "outputs": [
    {
     "data": {
      "text/plain": [
       "6"
      ]
     },
     "execution_count": 33,
     "metadata": {},
     "output_type": "execute_result"
    }
   ],
   "source": [
    "x.index(20)   # first occurence"
   ]
  },
  {
   "cell_type": "code",
   "execution_count": 34,
   "metadata": {
    "collapsed": false,
    "scrolled": true
   },
   "outputs": [
    {
     "data": {
      "text/plain": [
       "2"
      ]
     },
     "execution_count": 34,
     "metadata": {},
     "output_type": "execute_result"
    }
   ],
   "source": [
    "x.count(3)"
   ]
  },
  {
   "cell_type": "code",
   "execution_count": 35,
   "metadata": {
    "collapsed": true,
    "scrolled": true
   },
   "outputs": [],
   "source": [
    "x = [1,2,[3,4],5,6]"
   ]
  },
  {
   "cell_type": "code",
   "execution_count": 36,
   "metadata": {
    "collapsed": false,
    "scrolled": true
   },
   "outputs": [
    {
     "data": {
      "text/plain": [
       "(2, [3, 4], 4)"
      ]
     },
     "execution_count": 36,
     "metadata": {},
     "output_type": "execute_result"
    }
   ],
   "source": [
    "x[1], x[2], x[2][1]"
   ]
  },
  {
   "cell_type": "markdown",
   "metadata": {},
   "source": [
    "++++++++++++++++++++++++++++++++++++++++++++++++++++++++++++++++++++++++++++++++++++++++++++++++++++++++++++++++++++++++"
   ]
  },
  {
   "cell_type": "markdown",
   "metadata": {},
   "source": [
    "## EXERCISE TIME!\n",
    "\n",
    "1) Write a program that calculates and returns the euclidean distance between two points `u = (3,0)` and `v = (6,4)`.\n",
    "\n",
    "Recall the distance formula:\n",
    "$$\n",
    "D = \\sqrt{(u_{1} - v_{1})^2 + (u_{2} - v_{2})^2}\n",
    "$$\n",
    "\n",
    "2) Write a program that returns the greater of the first or last element of a list of integers. <br>\n",
    "\n",
    "For example: `[1,-2,7,5]` should return `5`."
   ]
  },
  {
   "cell_type": "markdown",
   "metadata": {},
   "source": [
    "++++++++++++++++++++++++++++++++++++++++++++++++++++++++++++++++++++++++++++++++++++++++++++++++++++++++++++++++++++++++"
   ]
  },
  {
   "cell_type": "markdown",
   "metadata": {},
   "source": [
    "## Back to iris"
   ]
  },
  {
   "cell_type": "code",
   "execution_count": 39,
   "metadata": {
    "collapsed": false
   },
   "outputs": [
    {
     "name": "stdout",
     "output_type": "stream",
     "text": [
      "Key: target_names\n",
      "  Value: ['setosa' 'versicolor' 'virginica']\n",
      "Key: data\n",
      "  Value: [[ 5.1  3.5  1.4  0.2]\n",
      " [ 4.9  3.   1.4  0.2]\n",
      " [ 4.7  3.2  1.3  0.2]\n",
      " [ 4.6  3.1  1.5  0.2]\n",
      " [ 5.   3.6  1.4  0.2]\n",
      " [ 5.4  3.9  1.7  0.4]\n",
      " [ 4.6  3.4  1.4  0.3]\n",
      " [ 5.   3.4  1.5  0.2]\n",
      " [ 4.4  2.9  1.4  0.2]\n",
      " [ 4.9  3.1  1.5  0.1]]\n",
      "Key: target\n",
      "  Value: [0 0 0 0 0 0 0 0 0 0]\n",
      "Key: DESCR\n",
      "  Value: Iris Plant\n",
      "Key: feature_names\n",
      "  Value: ['sepal length (cm)', 'sepal width (cm)', 'petal length (cm)', 'petal width (cm)']\n"
     ]
    }
   ],
   "source": [
    "# iterate over items in iris\n",
    "\n",
    "for key, val in iris.items():\n",
    "    print \"Key:\", key\n",
    "    print \"  Value:\", val[:10]"
   ]
  },
  {
   "cell_type": "markdown",
   "metadata": {},
   "source": [
    "## Let's summarize the `data`"
   ]
  },
  {
   "cell_type": "code",
   "execution_count": 40,
   "metadata": {
    "collapsed": false
   },
   "outputs": [
    {
     "data": {
      "text/plain": [
       "array([[ 5.1,  3.5,  1.4,  0.2],\n",
       "       [ 4.9,  3. ,  1.4,  0.2],\n",
       "       [ 4.7,  3.2,  1.3,  0.2],\n",
       "       [ 4.6,  3.1,  1.5,  0.2],\n",
       "       [ 5. ,  3.6,  1.4,  0.2],\n",
       "       [ 5.4,  3.9,  1.7,  0.4],\n",
       "       [ 4.6,  3.4,  1.4,  0.3],\n",
       "       [ 5. ,  3.4,  1.5,  0.2],\n",
       "       [ 4.4,  2.9,  1.4,  0.2],\n",
       "       [ 4.9,  3.1,  1.5,  0.1]])"
      ]
     },
     "execution_count": 40,
     "metadata": {},
     "output_type": "execute_result"
    }
   ],
   "source": [
    "iris['data'][:10]"
   ]
  },
  {
   "cell_type": "code",
   "execution_count": 41,
   "metadata": {
    "collapsed": false
   },
   "outputs": [
    {
     "data": {
      "text/plain": [
       "['sepal length (cm)',\n",
       " 'sepal width (cm)',\n",
       " 'petal length (cm)',\n",
       " 'petal width (cm)']"
      ]
     },
     "execution_count": 41,
     "metadata": {},
     "output_type": "execute_result"
    }
   ],
   "source": [
    "iris.feature_names"
   ]
  },
  {
   "cell_type": "markdown",
   "metadata": {},
   "source": [
    "## Find average `sepal length`"
   ]
  },
  {
   "cell_type": "code",
   "execution_count": 42,
   "metadata": {
    "collapsed": false
   },
   "outputs": [
    {
     "data": {
      "text/plain": [
       "5.8433333333333346"
      ]
     },
     "execution_count": 42,
     "metadata": {},
     "output_type": "execute_result"
    }
   ],
   "source": [
    "sum_ = 0\n",
    "for val in iris['data']:\n",
    "    sum_ += val[0]  # sepal length is first element of each row\n",
    "\n",
    "sum_/len(iris['data'])"
   ]
  },
  {
   "cell_type": "markdown",
   "metadata": {},
   "source": [
    "## Find largest `petal width`"
   ]
  },
  {
   "cell_type": "code",
   "execution_count": 43,
   "metadata": {
    "collapsed": false
   },
   "outputs": [
    {
     "data": {
      "text/plain": [
       "6.9000000000000004"
      ]
     },
     "execution_count": 43,
     "metadata": {},
     "output_type": "execute_result"
    }
   ],
   "source": [
    "max_ = 0\n",
    "for val in iris['data']:\n",
    "    if max_ < val[2]:\n",
    "        max_ = val[2]\n",
    "max_"
   ]
  },
  {
   "cell_type": "code",
   "execution_count": 44,
   "metadata": {
    "collapsed": false
   },
   "outputs": [
    {
     "data": {
      "text/plain": [
       "5.8433333333333346"
      ]
     },
     "execution_count": 44,
     "metadata": {},
     "output_type": "execute_result"
    }
   ],
   "source": [
    "# can also write it like:\n",
    "\n",
    "sum([val[0] for val in iris['data']])/len(iris['data'])"
   ]
  },
  {
   "cell_type": "code",
   "execution_count": 45,
   "metadata": {
    "collapsed": false
   },
   "outputs": [
    {
     "data": {
      "text/plain": [
       "6.9000000000000004"
      ]
     },
     "execution_count": 45,
     "metadata": {},
     "output_type": "execute_result"
    }
   ],
   "source": [
    "max([val[2] for val in iris['data']])"
   ]
  },
  {
   "cell_type": "markdown",
   "metadata": {},
   "source": [
    "List (and dict) Comprehension and One Liners <a id='compr'></a>\n",
    "=====\n",
    "\n",
    "<ul>\n",
    "<li>Can write entire `for` loop or `if` statement in 1 line if it involves iterating over a list and doing some action\n",
    "<li>List comprehensions are typical of and very conducive to **functional programming**.\n",
    "<li>Very slick and can be easier to read. However, easy to get carried away.\n",
    "<li>Very useful for text analysis\n",
    "<li>Rule of thumb:\n",
    "<ul>\n",
    "<li>List comprehensions are used for creating lists\n",
    "<li>For loops are better for doing something with the elements of a list\n",
    "</ul>\n",
    "</ul>"
   ]
  },
  {
   "cell_type": "code",
   "execution_count": 46,
   "metadata": {
    "collapsed": false,
    "scrolled": true
   },
   "outputs": [
    {
     "data": {
      "text/plain": [
       "[1, 2, 3, 4, 5, 6, 7, 8, 9]"
      ]
     },
     "execution_count": 46,
     "metadata": {},
     "output_type": "execute_result"
    }
   ],
   "source": [
    "x = range(1,10)\n",
    "x"
   ]
  },
  {
   "cell_type": "code",
   "execution_count": 47,
   "metadata": {
    "collapsed": false,
    "scrolled": true
   },
   "outputs": [
    {
     "name": "stdout",
     "output_type": "stream",
     "text": [
      "1 4 9 16 25 36 49 64 81\n"
     ]
    }
   ],
   "source": [
    "for i in x:\n",
    "    print i**2,"
   ]
  },
  {
   "cell_type": "code",
   "execution_count": 48,
   "metadata": {
    "collapsed": false,
    "scrolled": true
   },
   "outputs": [
    {
     "data": {
      "text/plain": [
       "[1, 4, 9, 16, 25, 36, 49, 64, 81]"
      ]
     },
     "execution_count": 48,
     "metadata": {},
     "output_type": "execute_result"
    }
   ],
   "source": [
    "[i**2 for i in x]"
   ]
  },
  {
   "cell_type": "code",
   "execution_count": 49,
   "metadata": {
    "collapsed": false,
    "scrolled": true
   },
   "outputs": [
    {
     "data": {
      "text/plain": [
       "9"
      ]
     },
     "execution_count": 49,
     "metadata": {},
     "output_type": "execute_result"
    }
   ],
   "source": [
    "l = []\n",
    "for i in x:\n",
    "    if i**.5 == int(i**.5):\n",
    "        l.append(i)\n",
    "l[-1]"
   ]
  },
  {
   "cell_type": "code",
   "execution_count": 50,
   "metadata": {
    "collapsed": false,
    "scrolled": true
   },
   "outputs": [
    {
     "data": {
      "text/plain": [
       "9"
      ]
     },
     "execution_count": 50,
     "metadata": {},
     "output_type": "execute_result"
    }
   ],
   "source": [
    "[i for i in x if i**.5==int(i**.5)][-1]"
   ]
  },
  {
   "cell_type": "code",
   "execution_count": 51,
   "metadata": {
    "collapsed": false
   },
   "outputs": [
    {
     "data": {
      "text/plain": [
       "[0, 1, 4, 27, 16, 125, 36, 343, 64, 729]"
      ]
     },
     "execution_count": 51,
     "metadata": {},
     "output_type": "execute_result"
    }
   ],
   "source": [
    "[x**2 if x%2 == 0 else x**3 for x in range(10)]"
   ]
  },
  {
   "cell_type": "code",
   "execution_count": 53,
   "metadata": {
    "collapsed": false,
    "scrolled": true
   },
   "outputs": [
    {
     "data": {
      "text/plain": [
       "[3, 13]"
      ]
     },
     "execution_count": 53,
     "metadata": {},
     "output_type": "execute_result"
    }
   ],
   "source": [
    "[v for k, v in dictionary.items() if k == 'a' or k == 'g']"
   ]
  },
  {
   "cell_type": "markdown",
   "metadata": {},
   "source": [
    "**But don't go overboard...**"
   ]
  },
  {
   "cell_type": "markdown",
   "metadata": {},
   "source": [
    "++++++++++++++++++++++++++++++++++++++++++++++++++++++++++++++++++++++++++++++++++++++++++++++++++++++++++++++++++++++++"
   ]
  },
  {
   "cell_type": "markdown",
   "metadata": {},
   "source": [
    "## EXERCISE TIME!\n",
    "\n",
    "1) Create the following matrix using:<br>\n",
    "<ol>\n",
    "<li>Nested for loops<br>\n",
    "<li>List comprehension\n",
    "</ol>\n",
    "\n",
    "```\n",
    "[[1, 0, 0, 0, 0], \n",
    " [0, 2, 0, 0, 0], \n",
    " [0, 0, 3, 0, 0],\n",
    " [0, 0, 0, 4, 0],\n",
    " [0, 0, 0, 0, 5]]\n",
    "```\n",
    "\n",
    "Hint: Think of the matrix as a list of lists. No need to stack the lists on top of each other like above.\n",
    "\n",
    "2) Write a list comprehension that does the same thing as these nested `for` loops:\n",
    "\n",
    "```\n",
    "L = []\n",
    "for i in range(10):\n",
    "    for j in {2, 5, 9}:\n",
    "        if i != j:\n",
    "            L.append((i,j))\n",
    "print L\n",
    "```"
   ]
  },
  {
   "cell_type": "markdown",
   "metadata": {},
   "source": [
    "++++++++++++++++++++++++++++++++++++++++++++++++++++++++++++++++++++++++++++++++++++++++++++++++++++++++++++++++++++++++"
   ]
  },
  {
   "cell_type": "markdown",
   "metadata": {},
   "source": [
    "## Back to iris"
   ]
  },
  {
   "cell_type": "code",
   "execution_count": 56,
   "metadata": {
    "collapsed": false
   },
   "outputs": [],
   "source": [
    "petal = [val[0] for val in iris['data']]"
   ]
  },
  {
   "cell_type": "code",
   "execution_count": 57,
   "metadata": {
    "collapsed": false
   },
   "outputs": [
    {
     "data": {
      "text/plain": [
       "list"
      ]
     },
     "execution_count": 57,
     "metadata": {},
     "output_type": "execute_result"
    }
   ],
   "source": [
    "type(petal)"
   ]
  },
  {
   "cell_type": "markdown",
   "metadata": {},
   "source": [
    "## Find the index with the largest value of `petal` + `sepal length`"
   ]
  },
  {
   "cell_type": "code",
   "execution_count": 58,
   "metadata": {
    "collapsed": false
   },
   "outputs": [
    {
     "data": {
      "text/plain": [
       "['target_names', 'data', 'target', 'DESCR', 'feature_names']"
      ]
     },
     "execution_count": 58,
     "metadata": {},
     "output_type": "execute_result"
    }
   ],
   "source": [
    "iris.keys()"
   ]
  },
  {
   "cell_type": "code",
   "execution_count": 59,
   "metadata": {
    "collapsed": false
   },
   "outputs": [
    {
     "data": {
      "text/plain": [
       "(['sepal length (cm)',\n",
       "  'sepal width (cm)',\n",
       "  'petal length (cm)',\n",
       "  'petal width (cm)'],\n",
       " array(['setosa', 'versicolor', 'virginica'], \n",
       "       dtype='|S10'))"
      ]
     },
     "execution_count": 59,
     "metadata": {},
     "output_type": "execute_result"
    }
   ],
   "source": [
    "iris.feature_names, iris.target_names"
   ]
  },
  {
   "cell_type": "code",
   "execution_count": 60,
   "metadata": {
    "collapsed": false
   },
   "outputs": [
    {
     "data": {
      "text/plain": [
       "array([0, 0, 0, 0, 0, 0, 0, 0, 0, 0, 0, 0, 0, 0, 0, 0, 0, 0, 0, 0, 0, 0, 0,\n",
       "       0, 0, 0, 0, 0, 0, 0, 0, 0, 0, 0, 0, 0, 0, 0, 0, 0, 0, 0, 0, 0, 0, 0,\n",
       "       0, 0, 0, 0, 1, 1, 1, 1, 1, 1, 1, 1, 1, 1, 1, 1, 1, 1, 1, 1, 1, 1, 1,\n",
       "       1, 1, 1, 1, 1, 1, 1, 1, 1, 1, 1, 1, 1, 1, 1, 1, 1, 1, 1, 1, 1, 1, 1,\n",
       "       1, 1, 1, 1, 1, 1, 1, 1, 2, 2, 2, 2, 2, 2, 2, 2, 2, 2, 2, 2, 2, 2, 2,\n",
       "       2, 2, 2, 2, 2, 2, 2, 2, 2, 2, 2, 2, 2, 2, 2, 2, 2, 2, 2, 2, 2, 2, 2,\n",
       "       2, 2, 2, 2, 2, 2, 2, 2, 2, 2, 2, 2])"
      ]
     },
     "execution_count": 60,
     "metadata": {},
     "output_type": "execute_result"
    }
   ],
   "source": [
    "iris.target"
   ]
  },
  {
   "cell_type": "markdown",
   "metadata": {},
   "source": [
    "## Find the species with the largest average value of `petal length`"
   ]
  },
  {
   "cell_type": "code",
   "execution_count": 1,
   "metadata": {
    "collapsed": false
   },
   "outputs": [
    {
     "ename": "NameError",
     "evalue": "name 'iris' is not defined",
     "output_type": "error",
     "traceback": [
      "\u001b[0;31m---------------------------------------------------------------------------\u001b[0m",
      "\u001b[0;31mNameError\u001b[0m                                 Traceback (most recent call last)",
      "\u001b[0;32m<ipython-input-1-1ab2e3cf63c5>\u001b[0m in \u001b[0;36m<module>\u001b[0;34m()\u001b[0m\n\u001b[0;32m----> 1\u001b[0;31m \u001b[0miris\u001b[0m\u001b[0;34m.\u001b[0m\u001b[0mkeys\u001b[0m\u001b[0;34m(\u001b[0m\u001b[0;34m)\u001b[0m    \u001b[0;31m# remind us what keys there are\u001b[0m\u001b[0;34m\u001b[0m\u001b[0m\n\u001b[0m",
      "\u001b[0;31mNameError\u001b[0m: name 'iris' is not defined"
     ]
    }
   ],
   "source": [
    "iris.keys()    # remind us what keys there are"
   ]
  },
  {
   "cell_type": "code",
   "execution_count": 2,
   "metadata": {
    "collapsed": false
   },
   "outputs": [
    {
     "ename": "NameError",
     "evalue": "name 'iris' is not defined",
     "output_type": "error",
     "traceback": [
      "\u001b[0;31m---------------------------------------------------------------------------\u001b[0m",
      "\u001b[0;31mNameError\u001b[0m                                 Traceback (most recent call last)",
      "\u001b[0;32m<ipython-input-2-191a49f127d9>\u001b[0m in \u001b[0;36m<module>\u001b[0;34m()\u001b[0m\n\u001b[0;32m----> 1\u001b[0;31m \u001b[0;32mprint\u001b[0m \u001b[0miris\u001b[0m\u001b[0;34m.\u001b[0m\u001b[0mfeature_names\u001b[0m   \u001b[0;31m# petal length is 3rd columns\u001b[0m\u001b[0;34m\u001b[0m\u001b[0m\n\u001b[0m\u001b[1;32m      2\u001b[0m \u001b[0;32mprint\u001b[0m \u001b[0miris\u001b[0m\u001b[0;34m.\u001b[0m\u001b[0mtarget_names\u001b[0m   \u001b[0;31m# 3 different species\u001b[0m\u001b[0;34m\u001b[0m\u001b[0m\n",
      "\u001b[0;31mNameError\u001b[0m: name 'iris' is not defined"
     ]
    }
   ],
   "source": [
    "print iris.feature_names   # petal length is 3rd columns\n",
    "print iris.target_names   # 3 different species"
   ]
  },
  {
   "cell_type": "code",
   "execution_count": 3,
   "metadata": {
    "collapsed": false
   },
   "outputs": [
    {
     "ename": "NameError",
     "evalue": "name 'iris' is not defined",
     "output_type": "error",
     "traceback": [
      "\u001b[0;31m---------------------------------------------------------------------------\u001b[0m",
      "\u001b[0;31mNameError\u001b[0m                                 Traceback (most recent call last)",
      "\u001b[0;32m<ipython-input-3-9657ea30cc1d>\u001b[0m in \u001b[0;36m<module>\u001b[0;34m()\u001b[0m\n\u001b[0;32m----> 1\u001b[0;31m \u001b[0miris\u001b[0m\u001b[0;34m.\u001b[0m\u001b[0mtarget\u001b[0m    \u001b[0;31m# the first 50 are setosa, second 50 veriscolor, third 50 are virginica\u001b[0m\u001b[0;34m\u001b[0m\u001b[0m\n\u001b[0m",
      "\u001b[0;31mNameError\u001b[0m: name 'iris' is not defined"
     ]
    }
   ],
   "source": [
    "iris.target    # the first 50 are setosa, second 50 veriscolor, third 50 are virginica"
   ]
  },
  {
   "cell_type": "code",
   "execution_count": 61,
   "metadata": {
    "collapsed": false
   },
   "outputs": [
    {
     "data": {
      "text/plain": [
       "[[array([ 5.1,  3.5,  1.4,  0.2]), 0],\n",
       " [array([ 4.9,  3. ,  1.4,  0.2]), 0],\n",
       " [array([ 4.7,  3.2,  1.3,  0.2]), 0],\n",
       " [array([ 4.6,  3.1,  1.5,  0.2]), 0],\n",
       " [array([ 5. ,  3.6,  1.4,  0.2]), 0],\n",
       " [array([ 5.4,  3.9,  1.7,  0.4]), 0],\n",
       " [array([ 4.6,  3.4,  1.4,  0.3]), 0],\n",
       " [array([ 5. ,  3.4,  1.5,  0.2]), 0],\n",
       " [array([ 4.4,  2.9,  1.4,  0.2]), 0],\n",
       " [array([ 4.9,  3.1,  1.5,  0.1]), 0],\n",
       " [array([ 5.4,  3.7,  1.5,  0.2]), 0],\n",
       " [array([ 4.8,  3.4,  1.6,  0.2]), 0],\n",
       " [array([ 4.8,  3. ,  1.4,  0.1]), 0],\n",
       " [array([ 4.3,  3. ,  1.1,  0.1]), 0],\n",
       " [array([ 5.8,  4. ,  1.2,  0.2]), 0],\n",
       " [array([ 5.7,  4.4,  1.5,  0.4]), 0],\n",
       " [array([ 5.4,  3.9,  1.3,  0.4]), 0],\n",
       " [array([ 5.1,  3.5,  1.4,  0.3]), 0],\n",
       " [array([ 5.7,  3.8,  1.7,  0.3]), 0],\n",
       " [array([ 5.1,  3.8,  1.5,  0.3]), 0],\n",
       " [array([ 5.4,  3.4,  1.7,  0.2]), 0],\n",
       " [array([ 5.1,  3.7,  1.5,  0.4]), 0],\n",
       " [array([ 4.6,  3.6,  1. ,  0.2]), 0],\n",
       " [array([ 5.1,  3.3,  1.7,  0.5]), 0],\n",
       " [array([ 4.8,  3.4,  1.9,  0.2]), 0],\n",
       " [array([ 5. ,  3. ,  1.6,  0.2]), 0],\n",
       " [array([ 5. ,  3.4,  1.6,  0.4]), 0],\n",
       " [array([ 5.2,  3.5,  1.5,  0.2]), 0],\n",
       " [array([ 5.2,  3.4,  1.4,  0.2]), 0],\n",
       " [array([ 4.7,  3.2,  1.6,  0.2]), 0],\n",
       " [array([ 4.8,  3.1,  1.6,  0.2]), 0],\n",
       " [array([ 5.4,  3.4,  1.5,  0.4]), 0],\n",
       " [array([ 5.2,  4.1,  1.5,  0.1]), 0],\n",
       " [array([ 5.5,  4.2,  1.4,  0.2]), 0],\n",
       " [array([ 4.9,  3.1,  1.5,  0.1]), 0],\n",
       " [array([ 5. ,  3.2,  1.2,  0.2]), 0],\n",
       " [array([ 5.5,  3.5,  1.3,  0.2]), 0],\n",
       " [array([ 4.9,  3.1,  1.5,  0.1]), 0],\n",
       " [array([ 4.4,  3. ,  1.3,  0.2]), 0],\n",
       " [array([ 5.1,  3.4,  1.5,  0.2]), 0],\n",
       " [array([ 5. ,  3.5,  1.3,  0.3]), 0],\n",
       " [array([ 4.5,  2.3,  1.3,  0.3]), 0],\n",
       " [array([ 4.4,  3.2,  1.3,  0.2]), 0],\n",
       " [array([ 5. ,  3.5,  1.6,  0.6]), 0],\n",
       " [array([ 5.1,  3.8,  1.9,  0.4]), 0],\n",
       " [array([ 4.8,  3. ,  1.4,  0.3]), 0],\n",
       " [array([ 5.1,  3.8,  1.6,  0.2]), 0],\n",
       " [array([ 4.6,  3.2,  1.4,  0.2]), 0],\n",
       " [array([ 5.3,  3.7,  1.5,  0.2]), 0],\n",
       " [array([ 5. ,  3.3,  1.4,  0.2]), 0],\n",
       " [array([ 7. ,  3.2,  4.7,  1.4]), 1],\n",
       " [array([ 6.4,  3.2,  4.5,  1.5]), 1],\n",
       " [array([ 6.9,  3.1,  4.9,  1.5]), 1],\n",
       " [array([ 5.5,  2.3,  4. ,  1.3]), 1],\n",
       " [array([ 6.5,  2.8,  4.6,  1.5]), 1],\n",
       " [array([ 5.7,  2.8,  4.5,  1.3]), 1],\n",
       " [array([ 6.3,  3.3,  4.7,  1.6]), 1],\n",
       " [array([ 4.9,  2.4,  3.3,  1. ]), 1],\n",
       " [array([ 6.6,  2.9,  4.6,  1.3]), 1],\n",
       " [array([ 5.2,  2.7,  3.9,  1.4]), 1],\n",
       " [array([ 5. ,  2. ,  3.5,  1. ]), 1],\n",
       " [array([ 5.9,  3. ,  4.2,  1.5]), 1],\n",
       " [array([ 6. ,  2.2,  4. ,  1. ]), 1],\n",
       " [array([ 6.1,  2.9,  4.7,  1.4]), 1],\n",
       " [array([ 5.6,  2.9,  3.6,  1.3]), 1],\n",
       " [array([ 6.7,  3.1,  4.4,  1.4]), 1],\n",
       " [array([ 5.6,  3. ,  4.5,  1.5]), 1],\n",
       " [array([ 5.8,  2.7,  4.1,  1. ]), 1],\n",
       " [array([ 6.2,  2.2,  4.5,  1.5]), 1],\n",
       " [array([ 5.6,  2.5,  3.9,  1.1]), 1],\n",
       " [array([ 5.9,  3.2,  4.8,  1.8]), 1],\n",
       " [array([ 6.1,  2.8,  4. ,  1.3]), 1],\n",
       " [array([ 6.3,  2.5,  4.9,  1.5]), 1],\n",
       " [array([ 6.1,  2.8,  4.7,  1.2]), 1],\n",
       " [array([ 6.4,  2.9,  4.3,  1.3]), 1],\n",
       " [array([ 6.6,  3. ,  4.4,  1.4]), 1],\n",
       " [array([ 6.8,  2.8,  4.8,  1.4]), 1],\n",
       " [array([ 6.7,  3. ,  5. ,  1.7]), 1],\n",
       " [array([ 6. ,  2.9,  4.5,  1.5]), 1],\n",
       " [array([ 5.7,  2.6,  3.5,  1. ]), 1],\n",
       " [array([ 5.5,  2.4,  3.8,  1.1]), 1],\n",
       " [array([ 5.5,  2.4,  3.7,  1. ]), 1],\n",
       " [array([ 5.8,  2.7,  3.9,  1.2]), 1],\n",
       " [array([ 6. ,  2.7,  5.1,  1.6]), 1],\n",
       " [array([ 5.4,  3. ,  4.5,  1.5]), 1],\n",
       " [array([ 6. ,  3.4,  4.5,  1.6]), 1],\n",
       " [array([ 6.7,  3.1,  4.7,  1.5]), 1],\n",
       " [array([ 6.3,  2.3,  4.4,  1.3]), 1],\n",
       " [array([ 5.6,  3. ,  4.1,  1.3]), 1],\n",
       " [array([ 5.5,  2.5,  4. ,  1.3]), 1],\n",
       " [array([ 5.5,  2.6,  4.4,  1.2]), 1],\n",
       " [array([ 6.1,  3. ,  4.6,  1.4]), 1],\n",
       " [array([ 5.8,  2.6,  4. ,  1.2]), 1],\n",
       " [array([ 5. ,  2.3,  3.3,  1. ]), 1],\n",
       " [array([ 5.6,  2.7,  4.2,  1.3]), 1],\n",
       " [array([ 5.7,  3. ,  4.2,  1.2]), 1],\n",
       " [array([ 5.7,  2.9,  4.2,  1.3]), 1],\n",
       " [array([ 6.2,  2.9,  4.3,  1.3]), 1],\n",
       " [array([ 5.1,  2.5,  3. ,  1.1]), 1],\n",
       " [array([ 5.7,  2.8,  4.1,  1.3]), 1],\n",
       " [array([ 6.3,  3.3,  6. ,  2.5]), 2],\n",
       " [array([ 5.8,  2.7,  5.1,  1.9]), 2],\n",
       " [array([ 7.1,  3. ,  5.9,  2.1]), 2],\n",
       " [array([ 6.3,  2.9,  5.6,  1.8]), 2],\n",
       " [array([ 6.5,  3. ,  5.8,  2.2]), 2],\n",
       " [array([ 7.6,  3. ,  6.6,  2.1]), 2],\n",
       " [array([ 4.9,  2.5,  4.5,  1.7]), 2],\n",
       " [array([ 7.3,  2.9,  6.3,  1.8]), 2],\n",
       " [array([ 6.7,  2.5,  5.8,  1.8]), 2],\n",
       " [array([ 7.2,  3.6,  6.1,  2.5]), 2],\n",
       " [array([ 6.5,  3.2,  5.1,  2. ]), 2],\n",
       " [array([ 6.4,  2.7,  5.3,  1.9]), 2],\n",
       " [array([ 6.8,  3. ,  5.5,  2.1]), 2],\n",
       " [array([ 5.7,  2.5,  5. ,  2. ]), 2],\n",
       " [array([ 5.8,  2.8,  5.1,  2.4]), 2],\n",
       " [array([ 6.4,  3.2,  5.3,  2.3]), 2],\n",
       " [array([ 6.5,  3. ,  5.5,  1.8]), 2],\n",
       " [array([ 7.7,  3.8,  6.7,  2.2]), 2],\n",
       " [array([ 7.7,  2.6,  6.9,  2.3]), 2],\n",
       " [array([ 6. ,  2.2,  5. ,  1.5]), 2],\n",
       " [array([ 6.9,  3.2,  5.7,  2.3]), 2],\n",
       " [array([ 5.6,  2.8,  4.9,  2. ]), 2],\n",
       " [array([ 7.7,  2.8,  6.7,  2. ]), 2],\n",
       " [array([ 6.3,  2.7,  4.9,  1.8]), 2],\n",
       " [array([ 6.7,  3.3,  5.7,  2.1]), 2],\n",
       " [array([ 7.2,  3.2,  6. ,  1.8]), 2],\n",
       " [array([ 6.2,  2.8,  4.8,  1.8]), 2],\n",
       " [array([ 6.1,  3. ,  4.9,  1.8]), 2],\n",
       " [array([ 6.4,  2.8,  5.6,  2.1]), 2],\n",
       " [array([ 7.2,  3. ,  5.8,  1.6]), 2],\n",
       " [array([ 7.4,  2.8,  6.1,  1.9]), 2],\n",
       " [array([ 7.9,  3.8,  6.4,  2. ]), 2],\n",
       " [array([ 6.4,  2.8,  5.6,  2.2]), 2],\n",
       " [array([ 6.3,  2.8,  5.1,  1.5]), 2],\n",
       " [array([ 6.1,  2.6,  5.6,  1.4]), 2],\n",
       " [array([ 7.7,  3. ,  6.1,  2.3]), 2],\n",
       " [array([ 6.3,  3.4,  5.6,  2.4]), 2],\n",
       " [array([ 6.4,  3.1,  5.5,  1.8]), 2],\n",
       " [array([ 6. ,  3. ,  4.8,  1.8]), 2],\n",
       " [array([ 6.9,  3.1,  5.4,  2.1]), 2],\n",
       " [array([ 6.7,  3.1,  5.6,  2.4]), 2],\n",
       " [array([ 6.9,  3.1,  5.1,  2.3]), 2],\n",
       " [array([ 5.8,  2.7,  5.1,  1.9]), 2],\n",
       " [array([ 6.8,  3.2,  5.9,  2.3]), 2],\n",
       " [array([ 6.7,  3.3,  5.7,  2.5]), 2],\n",
       " [array([ 6.7,  3. ,  5.2,  2.3]), 2],\n",
       " [array([ 6.3,  2.5,  5. ,  1.9]), 2],\n",
       " [array([ 6.5,  3. ,  5.2,  2. ]), 2],\n",
       " [array([ 6.2,  3.4,  5.4,  2.3]), 2],\n",
       " [array([ 5.9,  3. ,  5.1,  1.8]), 2]]"
      ]
     },
     "execution_count": 61,
     "metadata": {},
     "output_type": "execute_result"
    }
   ],
   "source": [
    "# create dictionary to hold averages\n",
    "petal_length_dict = dict.fromkeys(iris.target_names, 0)\n",
    "    \n",
    "for e, petal in enumerate(iris.data):\n",
    "    \n",
    "    if e < 50:\n",
    "        petal_length_dict[iris.target_names[0]] += petal[2]\n",
    "    elif e < 100:\n",
    "        petal_length_dict[iris.target_names[1]] += petal[2]\n",
    "    else:\n",
    "        petal_length_dict[iris.target_names[2]] += petal[2]\n",
    "        \n",
    "petal_length_dict = { k : v/50 for k, v in petal_length_dict.items()}\n",
    "petal_length_dict"
   ]
  },
  {
   "cell_type": "code",
   "execution_count": null,
   "metadata": {
    "collapsed": true
   },
   "outputs": [],
   "source": [
    "# For those interested in numpy (next class!)\n",
    "np.sum(np.split(iris.data.T[2],3),axis=1)/50"
   ]
  },
  {
   "cell_type": "markdown",
   "metadata": {},
   "source": [
    "++++++++++++++++++++++++++++++++++++++++++++++++++++++++++++++++++++++++++++++++++++++++++++++++++++++++++++++++++++++++"
   ]
  },
  {
   "cell_type": "markdown",
   "metadata": {},
   "source": [
    "## EXERCISE TIME!\n",
    "\n",
    "#### Matrix Multiplication\n",
    "\n",
    "See <a href='https://www.mathsisfun.com/algebra/matrix-multiplying.html'>here</a> for a refresher.\n",
    "\n",
    "Create a function `dot_product(A, B)` that multiplies two matrices, $A$ and $B$ and returns their dot product.\n",
    "<br>\n",
    "\n",
    "Assume that the dimensions of $A$ and $B$ satisfy matrix multiplication (i.e. their dimensions \"work out\")\n",
    "\n",
    "For example, if:\n",
    "<br>\n",
    "\n",
    "$A$ = ```[[5,4,3,7], \n",
    "    [1,2,3,4]]```\n",
    "    \n",
    "(a **2 X 4** matrix) and \n",
    "<br>\n",
    "\n",
    "$B$ = ```[[3,4,5], \n",
    "    [-1,6,7], \n",
    "    [0,0,1], \n",
    "    [9,11,-2]]``` \n",
    "\n",
    "(a **4 X 3** matrix) then the output of `dot_product(A,B)` is\n",
    "<br>\n",
    "\n",
    "$C$ = ```[[74, 121, 42], \n",
    "     [37, 60, 14]]``` \n",
    "\n",
    "(a **2 X 3** matrix)\n",
    "\n",
    "The result, $C$, has a number of rows (**2**), a number of columns (**3**) and some \"hidden\" value (**4**) which is shared by $A$ and $B$. As a result, this operation requires 3 `for` loops."
   ]
  },
  {
   "cell_type": "markdown",
   "metadata": {},
   "source": [
    "++++++++++++++++++++++++++++++++++++++++++++++++++++++++++++++++++++++++++++++++++++++++++++++++++++++++++++++++++++++++"
   ]
  },
  {
   "cell_type": "markdown",
   "metadata": {},
   "source": [
    "Take away\n",
    "===\n",
    "\n",
    "\n",
    "<ul>\n",
    "<li>Load a basic dataset\n",
    "<li>Explore it, manipulate it\n",
    "<li>Understand basic data types and control structures (most important are `if` statement and `for` loops)\n",
    "<li>Write one line list comprehensions - and know when not to.\n",
    "</ul>"
   ]
  },
  {
   "cell_type": "markdown",
   "metadata": {},
   "source": [
    "Review Problems<a id='hmwk'></a>\n",
    "==="
   ]
  },
  {
   "cell_type": "markdown",
   "metadata": {},
   "source": [
    "**Q1.** \n",
    "\n",
    "If we list all the natural numbers below 10 that are multiples of 3 or 5, we get 3, 5, 6 and 9. The sum of these multiples is 23.\n",
    "\n",
    "Find the sum of all the multiples of 3 or 5 below 1000\n",
    "<ul>\n",
    "<li>Using a `for` loop\n",
    "<li>Using list comprehension\n",
    "</ul>"
   ]
  },
  {
   "cell_type": "markdown",
   "metadata": {},
   "source": [
    "**Q2.** \n",
    "\n",
    "The sum of the squares of the first ten natural numbers is\n",
    "$$\n",
    "1^2 + 2^2 + ... + 10^2 = 385\n",
    "$$\n",
    "The square of the sum of the first ten natural numbers is\n",
    "$$\n",
    "(1 + 2 + ... + 10)^2 = 55^2 = 3025\n",
    "$$\n",
    "Hence the difference between the sum of the squares of the first ten natural numbers and the square of the sum is 3025 − 385 = 2640.\n",
    "\n",
    "Write a program to find the difference between the sum of the squares of the first one hundred natural numbers and the square of the sum. (Euler problem #6)\n",
    "\n",
    "The answer should be `25164150`."
   ]
  },
  {
   "cell_type": "markdown",
   "metadata": {},
   "source": [
    "**Q3.**\n",
    "\n",
    "A Pythagorean triplet is a set of three natural numbers, a < b < c, for which,\n",
    "\n",
    "$$\n",
    "a^2 + b^2 = c^2\n",
    "$$\n",
    "For example, $3^2 + 4^2 = 9 + 16 = 25 = 5^2$\n",
    "\n",
    "There exists **exactly one** Pythagorean triplet for which a + b + c = 1000.\n",
    "Write a program to find the product abc. (Euler problem #9)\n",
    "\n",
    "The answer should be `(200, 375, 425, 31875000)`."
   ]
  },
  {
   "cell_type": "markdown",
   "metadata": {},
   "source": [
    "**Q4.**\n",
    "\n",
    "Write a program that prints the numbers from 1 to 100. But for multiples of **three** print “Fizz” instead of the number and for the multiples of **five** print “Buzz”. For numbers which are multiples of both three and five print “FizzBuzz”."
   ]
  },
  {
   "cell_type": "markdown",
   "metadata": {
    "collapsed": true
   },
   "source": [
    "**Q5**.\n",
    "\n",
    "Given the list:\n",
    "\n",
    "`names = [ 'CURLY', 'mOE', 'larry', 'M', 'LaRrY', 'curly']`\n",
    "\n",
    "Write a program that produces the set:\n",
    "\n",
    "`['Moe', 'Larry', 'Curly']`\n",
    "\n",
    "Use list comprehension.\n"
   ]
  },
  {
   "cell_type": "markdown",
   "metadata": {},
   "source": [
    "**Q6**.\n",
    "<br>\n",
    "\n",
    "Write a list comprehension to flatten a list of sublists. For example:\n",
    "<br>\n",
    "\n",
    "`[[1,2,3],[4,5],[6,7,8,9]]` becomes `[1,2,3,4,5,6,7,8,9]`\n"
   ]
  },
  {
   "cell_type": "markdown",
   "metadata": {},
   "source": [
    "**Q7.**\n",
    "<br>\n",
    "\n",
    "Without looping, find the State with the smallest city population. Hint: It's NC :) Also, look up the `get` function.\n",
    "```\n",
    "states = {\n",
    "    \"CA\" : 'SFO',\n",
    "    \"NY\" : 'NYC',\n",
    "    'NC' : 'DUR'\n",
    "}\n",
    "\n",
    "cities = {\n",
    "    'SFO': 1000,\n",
    "    'NYC': 1500,\n",
    "    'DUR': 500\n",
    "}\n",
    "```"
   ]
  },
  {
   "cell_type": "markdown",
   "metadata": {},
   "source": [
    "## Bonus (Hard!) Questions"
   ]
  },
  {
   "cell_type": "markdown",
   "metadata": {},
   "source": [
    "A palindromic number reads the same both ways. The largest palindrome made from the product of **two 2-digit** numbers is 9009 = 91 × 99.\n",
    "\n",
    "Find the largest palindrome made from the product of **two 3-digit** numbers."
   ]
  }
 ],
 "metadata": {
  "kernelspec": {
   "display_name": "Python 2",
   "language": "python",
   "name": "python2"
  },
  "language_info": {
   "codemirror_mode": {
    "name": "ipython",
    "version": 2
   },
   "file_extension": ".py",
   "mimetype": "text/x-python",
   "name": "python",
   "nbconvert_exporter": "python",
   "pygments_lexer": "ipython2",
   "version": "2.7.10"
  }
 },
 "nbformat": 4,
 "nbformat_minor": 0
}
